{
  "cells": [
    {
      "cell_type": "code",
      "source": [],
      "metadata": {
        "id": "cEzCz2hCo_AQ"
      },
      "id": "cEzCz2hCo_AQ",
      "execution_count": null,
      "outputs": []
    },
    {
      "cell_type": "code",
      "execution_count": 1,
      "metadata": {
        "colab": {
          "base_uri": "https://localhost:8080/"
        },
        "id": "8c3af191",
        "outputId": "c2241b87-ca9c-4adb-a281-7f579f51c652"
      },
      "outputs": [
        {
          "output_type": "stream",
          "name": "stdout",
          "text": [
            "Requirement already satisfied: easydict in /usr/local/lib/python3.10/dist-packages (1.13)\n",
            "Requirement already satisfied: torchtuples in /usr/local/lib/python3.10/dist-packages (0.2.2)\n",
            "Requirement already satisfied: numpy>=1.15.4 in /usr/local/lib/python3.10/dist-packages (from torchtuples) (1.25.2)\n",
            "Requirement already satisfied: pandas>=0.24.2 in /usr/local/lib/python3.10/dist-packages (from torchtuples) (2.0.3)\n",
            "Requirement already satisfied: matplotlib>=3.0.3 in /usr/local/lib/python3.10/dist-packages (from torchtuples) (3.7.1)\n",
            "Requirement already satisfied: contourpy>=1.0.1 in /usr/local/lib/python3.10/dist-packages (from matplotlib>=3.0.3->torchtuples) (1.2.1)\n",
            "Requirement already satisfied: cycler>=0.10 in /usr/local/lib/python3.10/dist-packages (from matplotlib>=3.0.3->torchtuples) (0.12.1)\n",
            "Requirement already satisfied: fonttools>=4.22.0 in /usr/local/lib/python3.10/dist-packages (from matplotlib>=3.0.3->torchtuples) (4.51.0)\n",
            "Requirement already satisfied: kiwisolver>=1.0.1 in /usr/local/lib/python3.10/dist-packages (from matplotlib>=3.0.3->torchtuples) (1.4.5)\n",
            "Requirement already satisfied: packaging>=20.0 in /usr/local/lib/python3.10/dist-packages (from matplotlib>=3.0.3->torchtuples) (24.0)\n",
            "Requirement already satisfied: pillow>=6.2.0 in /usr/local/lib/python3.10/dist-packages (from matplotlib>=3.0.3->torchtuples) (9.4.0)\n",
            "Requirement already satisfied: pyparsing>=2.3.1 in /usr/local/lib/python3.10/dist-packages (from matplotlib>=3.0.3->torchtuples) (3.1.2)\n",
            "Requirement already satisfied: python-dateutil>=2.7 in /usr/local/lib/python3.10/dist-packages (from matplotlib>=3.0.3->torchtuples) (2.8.2)\n",
            "Requirement already satisfied: pytz>=2020.1 in /usr/local/lib/python3.10/dist-packages (from pandas>=0.24.2->torchtuples) (2023.4)\n",
            "Requirement already satisfied: tzdata>=2022.1 in /usr/local/lib/python3.10/dist-packages (from pandas>=0.24.2->torchtuples) (2024.1)\n",
            "Requirement already satisfied: six>=1.5 in /usr/local/lib/python3.10/dist-packages (from python-dateutil>=2.7->matplotlib>=3.0.3->torchtuples) (1.16.0)\n"
          ]
        }
      ],
      "source": [
        "# @title\n",
        "!pip install easydict\n",
        "!pip install torchtuples\n",
        "\n",
        "import os\n",
        "import time\n",
        "import torch\n",
        "import torchtuples as tt\n",
        "import numpy as np\n",
        "import easydict\n",
        "import pandas as pd\n",
        "\n",
        "from sklearn import preprocessing\n",
        "from sklearn.preprocessing import StandardScaler\n",
        "from sklearn_pandas import DataFrameMapper\n",
        "from sklearn.model_selection import StratifiedKFold\n"
      ],
      "id": "8c3af191"
    },
    {
      "cell_type": "code",
      "execution_count": 2,
      "metadata": {
        "id": "9a471981"
      },
      "outputs": [],
      "source": [
        "#repair zw\n",
        "!pip install scikit-learn\n",
        "\n",
        "!pip install sklearn_pandas\n",
        "!pip install -U scikit-learn\n",
        "\n",
        "from sklearn.preprocessing import StandardScaler\n",
        "from sklearn_pandas import DataFrameMapper\n",
        "from sklearn.model_selection import StratifiedKFold\n"
      ],
      "id": "9a471981"
    },
    {
      "cell_type": "code",
      "execution_count": 3,
      "metadata": {
        "id": "JrqUaXCEB9w2"
      },
      "outputs": [],
      "source": [
        "import os\n",
        "import time\n",
        "import torch\n",
        "import torchtuples as tt\n",
        "import numpy as np\n",
        "import easydict\n",
        "import pandas as pd\n",
        "\n",
        "from sklearn import preprocessing\n",
        "from sklearn.preprocessing import StandardScaler\n",
        "from sklearn_pandas import DataFrameMapper\n",
        "from sklearn.model_selection import StratifiedKFold"
      ],
      "id": "JrqUaXCEB9w2"
    },
    {
      "cell_type": "markdown",
      "metadata": {
        "id": "JAU6heO9PiCv"
      },
      "source": [
        "## Data Preprocessing"
      ],
      "id": "JAU6heO9PiCv"
    },
    {
      "cell_type": "code",
      "execution_count": 4,
      "metadata": {
        "colab": {
          "base_uri": "https://localhost:8080/",
          "height": 72
        },
        "id": "6448cbb7",
        "outputId": "f2e57329-5af9-43a9-8627-61048e88a476"
      },
      "outputs": [
        {
          "output_type": "display_data",
          "data": {
            "text/plain": [
              "<IPython.core.display.HTML object>"
            ],
            "text/html": [
              "\n",
              "     <input type=\"file\" id=\"files-8edf1f73-d61b-4b58-8b43-10819c558b8d\" name=\"files[]\" multiple disabled\n",
              "        style=\"border:none\" />\n",
              "     <output id=\"result-8edf1f73-d61b-4b58-8b43-10819c558b8d\">\n",
              "      Upload widget is only available when the cell has been executed in the\n",
              "      current browser session. Please rerun this cell to enable.\n",
              "      </output>\n",
              "      <script>// Copyright 2017 Google LLC\n",
              "//\n",
              "// Licensed under the Apache License, Version 2.0 (the \"License\");\n",
              "// you may not use this file except in compliance with the License.\n",
              "// You may obtain a copy of the License at\n",
              "//\n",
              "//      http://www.apache.org/licenses/LICENSE-2.0\n",
              "//\n",
              "// Unless required by applicable law or agreed to in writing, software\n",
              "// distributed under the License is distributed on an \"AS IS\" BASIS,\n",
              "// WITHOUT WARRANTIES OR CONDITIONS OF ANY KIND, either express or implied.\n",
              "// See the License for the specific language governing permissions and\n",
              "// limitations under the License.\n",
              "\n",
              "/**\n",
              " * @fileoverview Helpers for google.colab Python module.\n",
              " */\n",
              "(function(scope) {\n",
              "function span(text, styleAttributes = {}) {\n",
              "  const element = document.createElement('span');\n",
              "  element.textContent = text;\n",
              "  for (const key of Object.keys(styleAttributes)) {\n",
              "    element.style[key] = styleAttributes[key];\n",
              "  }\n",
              "  return element;\n",
              "}\n",
              "\n",
              "// Max number of bytes which will be uploaded at a time.\n",
              "const MAX_PAYLOAD_SIZE = 100 * 1024;\n",
              "\n",
              "function _uploadFiles(inputId, outputId) {\n",
              "  const steps = uploadFilesStep(inputId, outputId);\n",
              "  const outputElement = document.getElementById(outputId);\n",
              "  // Cache steps on the outputElement to make it available for the next call\n",
              "  // to uploadFilesContinue from Python.\n",
              "  outputElement.steps = steps;\n",
              "\n",
              "  return _uploadFilesContinue(outputId);\n",
              "}\n",
              "\n",
              "// This is roughly an async generator (not supported in the browser yet),\n",
              "// where there are multiple asynchronous steps and the Python side is going\n",
              "// to poll for completion of each step.\n",
              "// This uses a Promise to block the python side on completion of each step,\n",
              "// then passes the result of the previous step as the input to the next step.\n",
              "function _uploadFilesContinue(outputId) {\n",
              "  const outputElement = document.getElementById(outputId);\n",
              "  const steps = outputElement.steps;\n",
              "\n",
              "  const next = steps.next(outputElement.lastPromiseValue);\n",
              "  return Promise.resolve(next.value.promise).then((value) => {\n",
              "    // Cache the last promise value to make it available to the next\n",
              "    // step of the generator.\n",
              "    outputElement.lastPromiseValue = value;\n",
              "    return next.value.response;\n",
              "  });\n",
              "}\n",
              "\n",
              "/**\n",
              " * Generator function which is called between each async step of the upload\n",
              " * process.\n",
              " * @param {string} inputId Element ID of the input file picker element.\n",
              " * @param {string} outputId Element ID of the output display.\n",
              " * @return {!Iterable<!Object>} Iterable of next steps.\n",
              " */\n",
              "function* uploadFilesStep(inputId, outputId) {\n",
              "  const inputElement = document.getElementById(inputId);\n",
              "  inputElement.disabled = false;\n",
              "\n",
              "  const outputElement = document.getElementById(outputId);\n",
              "  outputElement.innerHTML = '';\n",
              "\n",
              "  const pickedPromise = new Promise((resolve) => {\n",
              "    inputElement.addEventListener('change', (e) => {\n",
              "      resolve(e.target.files);\n",
              "    });\n",
              "  });\n",
              "\n",
              "  const cancel = document.createElement('button');\n",
              "  inputElement.parentElement.appendChild(cancel);\n",
              "  cancel.textContent = 'Cancel upload';\n",
              "  const cancelPromise = new Promise((resolve) => {\n",
              "    cancel.onclick = () => {\n",
              "      resolve(null);\n",
              "    };\n",
              "  });\n",
              "\n",
              "  // Wait for the user to pick the files.\n",
              "  const files = yield {\n",
              "    promise: Promise.race([pickedPromise, cancelPromise]),\n",
              "    response: {\n",
              "      action: 'starting',\n",
              "    }\n",
              "  };\n",
              "\n",
              "  cancel.remove();\n",
              "\n",
              "  // Disable the input element since further picks are not allowed.\n",
              "  inputElement.disabled = true;\n",
              "\n",
              "  if (!files) {\n",
              "    return {\n",
              "      response: {\n",
              "        action: 'complete',\n",
              "      }\n",
              "    };\n",
              "  }\n",
              "\n",
              "  for (const file of files) {\n",
              "    const li = document.createElement('li');\n",
              "    li.append(span(file.name, {fontWeight: 'bold'}));\n",
              "    li.append(span(\n",
              "        `(${file.type || 'n/a'}) - ${file.size} bytes, ` +\n",
              "        `last modified: ${\n",
              "            file.lastModifiedDate ? file.lastModifiedDate.toLocaleDateString() :\n",
              "                                    'n/a'} - `));\n",
              "    const percent = span('0% done');\n",
              "    li.appendChild(percent);\n",
              "\n",
              "    outputElement.appendChild(li);\n",
              "\n",
              "    const fileDataPromise = new Promise((resolve) => {\n",
              "      const reader = new FileReader();\n",
              "      reader.onload = (e) => {\n",
              "        resolve(e.target.result);\n",
              "      };\n",
              "      reader.readAsArrayBuffer(file);\n",
              "    });\n",
              "    // Wait for the data to be ready.\n",
              "    let fileData = yield {\n",
              "      promise: fileDataPromise,\n",
              "      response: {\n",
              "        action: 'continue',\n",
              "      }\n",
              "    };\n",
              "\n",
              "    // Use a chunked sending to avoid message size limits. See b/62115660.\n",
              "    let position = 0;\n",
              "    do {\n",
              "      const length = Math.min(fileData.byteLength - position, MAX_PAYLOAD_SIZE);\n",
              "      const chunk = new Uint8Array(fileData, position, length);\n",
              "      position += length;\n",
              "\n",
              "      const base64 = btoa(String.fromCharCode.apply(null, chunk));\n",
              "      yield {\n",
              "        response: {\n",
              "          action: 'append',\n",
              "          file: file.name,\n",
              "          data: base64,\n",
              "        },\n",
              "      };\n",
              "\n",
              "      let percentDone = fileData.byteLength === 0 ?\n",
              "          100 :\n",
              "          Math.round((position / fileData.byteLength) * 100);\n",
              "      percent.textContent = `${percentDone}% done`;\n",
              "\n",
              "    } while (position < fileData.byteLength);\n",
              "  }\n",
              "\n",
              "  // All done.\n",
              "  yield {\n",
              "    response: {\n",
              "      action: 'complete',\n",
              "    }\n",
              "  };\n",
              "}\n",
              "\n",
              "scope.google = scope.google || {};\n",
              "scope.google.colab = scope.google.colab || {};\n",
              "scope.google.colab._files = {\n",
              "  _uploadFiles,\n",
              "  _uploadFilesContinue,\n",
              "};\n",
              "})(self);\n",
              "</script> "
            ]
          },
          "metadata": {}
        },
        {
          "output_type": "stream",
          "name": "stdout",
          "text": [
            "Saving processdata.csv to processdata.csv\n"
          ]
        }
      ],
      "source": [
        "from google.colab import files\n",
        "uploaded = files.upload()"
      ],
      "id": "6448cbb7"
    },
    {
      "cell_type": "code",
      "execution_count": 5,
      "metadata": {
        "id": "jZYs6SZ14CJ5"
      },
      "outputs": [],
      "source": [
        "df = pd.read_csv('processdata.csv', encoding='latin-1')\n",
        "\n",
        "data = df"
      ],
      "id": "jZYs6SZ14CJ5"
    },
    {
      "cell_type": "code",
      "execution_count": 6,
      "metadata": {
        "id": "7H9WeP7SFMk0"
      },
      "outputs": [],
      "source": [
        "date_columns = ['Date.of.Last.Contact', 'Date.of.Diagnostic']\n",
        "data[date_columns] = data[date_columns].apply(pd.to_datetime, errors='coerce')\n",
        "has_na = data[date_columns].isna().any(axis=1)\n",
        "\n",
        "if has_na.any():\n",
        "#     max_last_contact_date = data['Date.of.Last.Contact'].max()\n",
        "#     data['Survival_Time'] = (max_last_contact_date - data['Date.of.Diagnostic']).dt.days\n",
        "    data['Survival_Time'] = (data['Date.of.Last.Contact'] - data['Date.of.Diagnostic']).dt.days\n",
        "else:\n",
        "    data['Survival_Time'] = (data['Date.of.Last.Contact'] - data['Date.of.Diagnostic']).dt.days"
      ],
      "id": "7H9WeP7SFMk0"
    },
    {
      "cell_type": "code",
      "execution_count": 7,
      "metadata": {
        "id": "A7dCYNuBPzMG"
      },
      "outputs": [],
      "source": [
        "data['indicater'] = np.where(data['Date.of.Death'].isna(), 0, 1)\n",
        "columns_to_drop = ['Date.of.Death', 'Date.of.Last.Contact', 'Date.of.Diagnostic']\n",
        "\n",
        "\n",
        "data.drop(columns=columns_to_drop, inplace=True)"
      ],
      "id": "A7dCYNuBPzMG"
    },
    {
      "cell_type": "code",
      "execution_count": 8,
      "metadata": {
        "id": "UZ7nNMT_UfyE",
        "colab": {
          "base_uri": "https://localhost:8080/"
        },
        "outputId": "9a7abff8-631b-4daf-fc99-efae0624c752"
      },
      "outputs": [
        {
          "output_type": "stream",
          "name": "stdout",
          "text": [
            "   Gender       Age  Indicator.of.Rare.Case  Survival_Time  indicater  \\\n",
            "0       1  0.283019                       0              0          1   \n",
            "1       1  0.490566                       0              0          1   \n",
            "2       1  0.698113                       0              0          1   \n",
            "3       1  0.556604                       0              0          1   \n",
            "4       0  0.122642                       0           3959          0   \n",
            "\n",
            "   RCBP.Name_RCBP BELO HORIZONTE  RCBP.Name_RCBP CAMPINAS-UNICAMP  \\\n",
            "0                          False                             True   \n",
            "1                          False                             True   \n",
            "2                          False                             True   \n",
            "3                          False                             True   \n",
            "4                          False                             True   \n",
            "\n",
            "   RCBP.Name_RCBP DISTRITO FEDERAL  RCBP.Name_RCBP DRS BARRETOS  \\\n",
            "0                            False                        False   \n",
            "1                            False                        False   \n",
            "2                            False                        False   \n",
            "3                            False                        False   \n",
            "4                            False                        False   \n",
            "\n",
            "   RCBP.Name_RCBP FORTALEZA  ...  Diagnostic.means_PESQUISA  \\\n",
            "0                     False  ...                      False   \n",
            "1                     False  ...                      False   \n",
            "2                     False  ...                      False   \n",
            "3                     False  ...                      False   \n",
            "4                     False  ...                      False   \n",
            "\n",
            "   Diagnostic.means_SDO  Diagnostic.means_other  Extension_IN SITU  \\\n",
            "0                  True                   False              False   \n",
            "1                  True                   False              False   \n",
            "2                  True                   False              False   \n",
            "3                  True                   False              False   \n",
            "4                 False                   False              False   \n",
            "\n",
            "   Extension_LOCALIZADO  Extension_MET?STASE  Extension_N?O SE APLICA  \\\n",
            "0                 False                 True                    False   \n",
            "1                 False                 True                    False   \n",
            "2                 False                False                     True   \n",
            "3                 False                 True                    False   \n",
            "4                 False                False                     True   \n",
            "\n",
            "   Type.of.Death_C?NCER  Type.of.Death_N?O C?NCER  Type.of.Death_other  \n",
            "0                  True                     False                False  \n",
            "1                  True                     False                False  \n",
            "2                  True                     False                False  \n",
            "3                  True                     False                False  \n",
            "4                 False                     False                 True  \n",
            "\n",
            "[5 rows x 140 columns]\n"
          ]
        }
      ],
      "source": [
        "import pandas as pd\n",
        "from sklearn.preprocessing import OneHotEncoder, LabelBinarizer, MinMaxScaler\n",
        "\n",
        "\n",
        "columns_to_one_hot = ['RCBP.Name', 'Raca.Color', 'State.Civil', 'Code.Profession', 'Name.Occupation', 'Status.Address',\n",
        "                      'City.Address', 'Description.of.Topography', 'Topography.Code', 'Morphology.Description',\n",
        "                      'Code.of.Morphology', 'Description.of.Disease', 'Illness.Code', 'Diagnostic.means', 'Extension',\n",
        "                      'Type.of.Death']\n",
        "\n",
        "for column in columns_to_one_hot:\n",
        "    top_9_values = data[column].value_counts().nlargest(9).index\n",
        "    data[column] = data[column].where(data[column].isin(top_9_values), 'other')\n",
        "\n",
        "data = pd.get_dummies(data, columns=columns_to_one_hot)\n",
        "\n",
        "columns_to_binarize = ['Gender', 'Indicator.of.Rare.Case']\n",
        "\n",
        "lb = LabelBinarizer()\n",
        "for column in columns_to_binarize:\n",
        "    data[column] = lb.fit_transform(data[column])\n",
        "\n",
        "scaler = MinMaxScaler()\n",
        "data['Age'] = scaler.fit_transform(data[['Age']])\n",
        "\n",
        "\n",
        "print(data.head())\n"
      ],
      "id": "UZ7nNMT_UfyE"
    },
    {
      "cell_type": "code",
      "execution_count": 9,
      "metadata": {
        "id": "aZV7BiLMQvCb",
        "colab": {
          "base_uri": "https://localhost:8080/",
          "height": 290
        },
        "outputId": "3ab732fb-77c1-4101-94ab-50f0ead8feeb"
      },
      "outputs": [
        {
          "output_type": "execute_result",
          "data": {
            "text/plain": [
              "   Gender       Age  Indicator.of.Rare.Case  Survival_Time  indicater  \\\n",
              "0       1  0.283019                       0              0          1   \n",
              "1       1  0.490566                       0              0          1   \n",
              "2       1  0.698113                       0              0          1   \n",
              "3       1  0.556604                       0              0          1   \n",
              "4       0  0.122642                       0           3959          0   \n",
              "\n",
              "   RCBP.Name_RCBP BELO HORIZONTE  RCBP.Name_RCBP CAMPINAS-UNICAMP  \\\n",
              "0                          False                             True   \n",
              "1                          False                             True   \n",
              "2                          False                             True   \n",
              "3                          False                             True   \n",
              "4                          False                             True   \n",
              "\n",
              "   RCBP.Name_RCBP DISTRITO FEDERAL  RCBP.Name_RCBP DRS BARRETOS  \\\n",
              "0                            False                        False   \n",
              "1                            False                        False   \n",
              "2                            False                        False   \n",
              "3                            False                        False   \n",
              "4                            False                        False   \n",
              "\n",
              "   RCBP.Name_RCBP FORTALEZA  ...  Diagnostic.means_PESQUISA  \\\n",
              "0                     False  ...                      False   \n",
              "1                     False  ...                      False   \n",
              "2                     False  ...                      False   \n",
              "3                     False  ...                      False   \n",
              "4                     False  ...                      False   \n",
              "\n",
              "   Diagnostic.means_SDO  Diagnostic.means_other  Extension_IN SITU  \\\n",
              "0                  True                   False              False   \n",
              "1                  True                   False              False   \n",
              "2                  True                   False              False   \n",
              "3                  True                   False              False   \n",
              "4                 False                   False              False   \n",
              "\n",
              "   Extension_LOCALIZADO  Extension_MET?STASE  Extension_N?O SE APLICA  \\\n",
              "0                 False                 True                    False   \n",
              "1                 False                 True                    False   \n",
              "2                 False                False                     True   \n",
              "3                 False                 True                    False   \n",
              "4                 False                False                     True   \n",
              "\n",
              "   Type.of.Death_C?NCER  Type.of.Death_N?O C?NCER  Type.of.Death_other  \n",
              "0                  True                     False                False  \n",
              "1                  True                     False                False  \n",
              "2                  True                     False                False  \n",
              "3                  True                     False                False  \n",
              "4                 False                     False                 True  \n",
              "\n",
              "[5 rows x 140 columns]"
            ],
            "text/html": [
              "\n",
              "  <div id=\"df-cb41f2cd-9cfd-405b-b312-fe96079bab1d\" class=\"colab-df-container\">\n",
              "    <div>\n",
              "<style scoped>\n",
              "    .dataframe tbody tr th:only-of-type {\n",
              "        vertical-align: middle;\n",
              "    }\n",
              "\n",
              "    .dataframe tbody tr th {\n",
              "        vertical-align: top;\n",
              "    }\n",
              "\n",
              "    .dataframe thead th {\n",
              "        text-align: right;\n",
              "    }\n",
              "</style>\n",
              "<table border=\"1\" class=\"dataframe\">\n",
              "  <thead>\n",
              "    <tr style=\"text-align: right;\">\n",
              "      <th></th>\n",
              "      <th>Gender</th>\n",
              "      <th>Age</th>\n",
              "      <th>Indicator.of.Rare.Case</th>\n",
              "      <th>Survival_Time</th>\n",
              "      <th>indicater</th>\n",
              "      <th>RCBP.Name_RCBP BELO HORIZONTE</th>\n",
              "      <th>RCBP.Name_RCBP CAMPINAS-UNICAMP</th>\n",
              "      <th>RCBP.Name_RCBP DISTRITO FEDERAL</th>\n",
              "      <th>RCBP.Name_RCBP DRS BARRETOS</th>\n",
              "      <th>RCBP.Name_RCBP FORTALEZA</th>\n",
              "      <th>...</th>\n",
              "      <th>Diagnostic.means_PESQUISA</th>\n",
              "      <th>Diagnostic.means_SDO</th>\n",
              "      <th>Diagnostic.means_other</th>\n",
              "      <th>Extension_IN SITU</th>\n",
              "      <th>Extension_LOCALIZADO</th>\n",
              "      <th>Extension_MET?STASE</th>\n",
              "      <th>Extension_N?O SE APLICA</th>\n",
              "      <th>Type.of.Death_C?NCER</th>\n",
              "      <th>Type.of.Death_N?O C?NCER</th>\n",
              "      <th>Type.of.Death_other</th>\n",
              "    </tr>\n",
              "  </thead>\n",
              "  <tbody>\n",
              "    <tr>\n",
              "      <th>0</th>\n",
              "      <td>1</td>\n",
              "      <td>0.283019</td>\n",
              "      <td>0</td>\n",
              "      <td>0</td>\n",
              "      <td>1</td>\n",
              "      <td>False</td>\n",
              "      <td>True</td>\n",
              "      <td>False</td>\n",
              "      <td>False</td>\n",
              "      <td>False</td>\n",
              "      <td>...</td>\n",
              "      <td>False</td>\n",
              "      <td>True</td>\n",
              "      <td>False</td>\n",
              "      <td>False</td>\n",
              "      <td>False</td>\n",
              "      <td>True</td>\n",
              "      <td>False</td>\n",
              "      <td>True</td>\n",
              "      <td>False</td>\n",
              "      <td>False</td>\n",
              "    </tr>\n",
              "    <tr>\n",
              "      <th>1</th>\n",
              "      <td>1</td>\n",
              "      <td>0.490566</td>\n",
              "      <td>0</td>\n",
              "      <td>0</td>\n",
              "      <td>1</td>\n",
              "      <td>False</td>\n",
              "      <td>True</td>\n",
              "      <td>False</td>\n",
              "      <td>False</td>\n",
              "      <td>False</td>\n",
              "      <td>...</td>\n",
              "      <td>False</td>\n",
              "      <td>True</td>\n",
              "      <td>False</td>\n",
              "      <td>False</td>\n",
              "      <td>False</td>\n",
              "      <td>True</td>\n",
              "      <td>False</td>\n",
              "      <td>True</td>\n",
              "      <td>False</td>\n",
              "      <td>False</td>\n",
              "    </tr>\n",
              "    <tr>\n",
              "      <th>2</th>\n",
              "      <td>1</td>\n",
              "      <td>0.698113</td>\n",
              "      <td>0</td>\n",
              "      <td>0</td>\n",
              "      <td>1</td>\n",
              "      <td>False</td>\n",
              "      <td>True</td>\n",
              "      <td>False</td>\n",
              "      <td>False</td>\n",
              "      <td>False</td>\n",
              "      <td>...</td>\n",
              "      <td>False</td>\n",
              "      <td>True</td>\n",
              "      <td>False</td>\n",
              "      <td>False</td>\n",
              "      <td>False</td>\n",
              "      <td>False</td>\n",
              "      <td>True</td>\n",
              "      <td>True</td>\n",
              "      <td>False</td>\n",
              "      <td>False</td>\n",
              "    </tr>\n",
              "    <tr>\n",
              "      <th>3</th>\n",
              "      <td>1</td>\n",
              "      <td>0.556604</td>\n",
              "      <td>0</td>\n",
              "      <td>0</td>\n",
              "      <td>1</td>\n",
              "      <td>False</td>\n",
              "      <td>True</td>\n",
              "      <td>False</td>\n",
              "      <td>False</td>\n",
              "      <td>False</td>\n",
              "      <td>...</td>\n",
              "      <td>False</td>\n",
              "      <td>True</td>\n",
              "      <td>False</td>\n",
              "      <td>False</td>\n",
              "      <td>False</td>\n",
              "      <td>True</td>\n",
              "      <td>False</td>\n",
              "      <td>True</td>\n",
              "      <td>False</td>\n",
              "      <td>False</td>\n",
              "    </tr>\n",
              "    <tr>\n",
              "      <th>4</th>\n",
              "      <td>0</td>\n",
              "      <td>0.122642</td>\n",
              "      <td>0</td>\n",
              "      <td>3959</td>\n",
              "      <td>0</td>\n",
              "      <td>False</td>\n",
              "      <td>True</td>\n",
              "      <td>False</td>\n",
              "      <td>False</td>\n",
              "      <td>False</td>\n",
              "      <td>...</td>\n",
              "      <td>False</td>\n",
              "      <td>False</td>\n",
              "      <td>False</td>\n",
              "      <td>False</td>\n",
              "      <td>False</td>\n",
              "      <td>False</td>\n",
              "      <td>True</td>\n",
              "      <td>False</td>\n",
              "      <td>False</td>\n",
              "      <td>True</td>\n",
              "    </tr>\n",
              "  </tbody>\n",
              "</table>\n",
              "<p>5 rows × 140 columns</p>\n",
              "</div>\n",
              "    <div class=\"colab-df-buttons\">\n",
              "\n",
              "  <div class=\"colab-df-container\">\n",
              "    <button class=\"colab-df-convert\" onclick=\"convertToInteractive('df-cb41f2cd-9cfd-405b-b312-fe96079bab1d')\"\n",
              "            title=\"Convert this dataframe to an interactive table.\"\n",
              "            style=\"display:none;\">\n",
              "\n",
              "  <svg xmlns=\"http://www.w3.org/2000/svg\" height=\"24px\" viewBox=\"0 -960 960 960\">\n",
              "    <path d=\"M120-120v-720h720v720H120Zm60-500h600v-160H180v160Zm220 220h160v-160H400v160Zm0 220h160v-160H400v160ZM180-400h160v-160H180v160Zm440 0h160v-160H620v160ZM180-180h160v-160H180v160Zm440 0h160v-160H620v160Z\"/>\n",
              "  </svg>\n",
              "    </button>\n",
              "\n",
              "  <style>\n",
              "    .colab-df-container {\n",
              "      display:flex;\n",
              "      gap: 12px;\n",
              "    }\n",
              "\n",
              "    .colab-df-convert {\n",
              "      background-color: #E8F0FE;\n",
              "      border: none;\n",
              "      border-radius: 50%;\n",
              "      cursor: pointer;\n",
              "      display: none;\n",
              "      fill: #1967D2;\n",
              "      height: 32px;\n",
              "      padding: 0 0 0 0;\n",
              "      width: 32px;\n",
              "    }\n",
              "\n",
              "    .colab-df-convert:hover {\n",
              "      background-color: #E2EBFA;\n",
              "      box-shadow: 0px 1px 2px rgba(60, 64, 67, 0.3), 0px 1px 3px 1px rgba(60, 64, 67, 0.15);\n",
              "      fill: #174EA6;\n",
              "    }\n",
              "\n",
              "    .colab-df-buttons div {\n",
              "      margin-bottom: 4px;\n",
              "    }\n",
              "\n",
              "    [theme=dark] .colab-df-convert {\n",
              "      background-color: #3B4455;\n",
              "      fill: #D2E3FC;\n",
              "    }\n",
              "\n",
              "    [theme=dark] .colab-df-convert:hover {\n",
              "      background-color: #434B5C;\n",
              "      box-shadow: 0px 1px 3px 1px rgba(0, 0, 0, 0.15);\n",
              "      filter: drop-shadow(0px 1px 2px rgba(0, 0, 0, 0.3));\n",
              "      fill: #FFFFFF;\n",
              "    }\n",
              "  </style>\n",
              "\n",
              "    <script>\n",
              "      const buttonEl =\n",
              "        document.querySelector('#df-cb41f2cd-9cfd-405b-b312-fe96079bab1d button.colab-df-convert');\n",
              "      buttonEl.style.display =\n",
              "        google.colab.kernel.accessAllowed ? 'block' : 'none';\n",
              "\n",
              "      async function convertToInteractive(key) {\n",
              "        const element = document.querySelector('#df-cb41f2cd-9cfd-405b-b312-fe96079bab1d');\n",
              "        const dataTable =\n",
              "          await google.colab.kernel.invokeFunction('convertToInteractive',\n",
              "                                                    [key], {});\n",
              "        if (!dataTable) return;\n",
              "\n",
              "        const docLinkHtml = 'Like what you see? Visit the ' +\n",
              "          '<a target=\"_blank\" href=https://colab.research.google.com/notebooks/data_table.ipynb>data table notebook</a>'\n",
              "          + ' to learn more about interactive tables.';\n",
              "        element.innerHTML = '';\n",
              "        dataTable['output_type'] = 'display_data';\n",
              "        await google.colab.output.renderOutput(dataTable, element);\n",
              "        const docLink = document.createElement('div');\n",
              "        docLink.innerHTML = docLinkHtml;\n",
              "        element.appendChild(docLink);\n",
              "      }\n",
              "    </script>\n",
              "  </div>\n",
              "\n",
              "\n",
              "<div id=\"df-8389fb44-5da1-4270-badb-d23757f93189\">\n",
              "  <button class=\"colab-df-quickchart\" onclick=\"quickchart('df-8389fb44-5da1-4270-badb-d23757f93189')\"\n",
              "            title=\"Suggest charts\"\n",
              "            style=\"display:none;\">\n",
              "\n",
              "<svg xmlns=\"http://www.w3.org/2000/svg\" height=\"24px\"viewBox=\"0 0 24 24\"\n",
              "     width=\"24px\">\n",
              "    <g>\n",
              "        <path d=\"M19 3H5c-1.1 0-2 .9-2 2v14c0 1.1.9 2 2 2h14c1.1 0 2-.9 2-2V5c0-1.1-.9-2-2-2zM9 17H7v-7h2v7zm4 0h-2V7h2v10zm4 0h-2v-4h2v4z\"/>\n",
              "    </g>\n",
              "</svg>\n",
              "  </button>\n",
              "\n",
              "<style>\n",
              "  .colab-df-quickchart {\n",
              "      --bg-color: #E8F0FE;\n",
              "      --fill-color: #1967D2;\n",
              "      --hover-bg-color: #E2EBFA;\n",
              "      --hover-fill-color: #174EA6;\n",
              "      --disabled-fill-color: #AAA;\n",
              "      --disabled-bg-color: #DDD;\n",
              "  }\n",
              "\n",
              "  [theme=dark] .colab-df-quickchart {\n",
              "      --bg-color: #3B4455;\n",
              "      --fill-color: #D2E3FC;\n",
              "      --hover-bg-color: #434B5C;\n",
              "      --hover-fill-color: #FFFFFF;\n",
              "      --disabled-bg-color: #3B4455;\n",
              "      --disabled-fill-color: #666;\n",
              "  }\n",
              "\n",
              "  .colab-df-quickchart {\n",
              "    background-color: var(--bg-color);\n",
              "    border: none;\n",
              "    border-radius: 50%;\n",
              "    cursor: pointer;\n",
              "    display: none;\n",
              "    fill: var(--fill-color);\n",
              "    height: 32px;\n",
              "    padding: 0;\n",
              "    width: 32px;\n",
              "  }\n",
              "\n",
              "  .colab-df-quickchart:hover {\n",
              "    background-color: var(--hover-bg-color);\n",
              "    box-shadow: 0 1px 2px rgba(60, 64, 67, 0.3), 0 1px 3px 1px rgba(60, 64, 67, 0.15);\n",
              "    fill: var(--button-hover-fill-color);\n",
              "  }\n",
              "\n",
              "  .colab-df-quickchart-complete:disabled,\n",
              "  .colab-df-quickchart-complete:disabled:hover {\n",
              "    background-color: var(--disabled-bg-color);\n",
              "    fill: var(--disabled-fill-color);\n",
              "    box-shadow: none;\n",
              "  }\n",
              "\n",
              "  .colab-df-spinner {\n",
              "    border: 2px solid var(--fill-color);\n",
              "    border-color: transparent;\n",
              "    border-bottom-color: var(--fill-color);\n",
              "    animation:\n",
              "      spin 1s steps(1) infinite;\n",
              "  }\n",
              "\n",
              "  @keyframes spin {\n",
              "    0% {\n",
              "      border-color: transparent;\n",
              "      border-bottom-color: var(--fill-color);\n",
              "      border-left-color: var(--fill-color);\n",
              "    }\n",
              "    20% {\n",
              "      border-color: transparent;\n",
              "      border-left-color: var(--fill-color);\n",
              "      border-top-color: var(--fill-color);\n",
              "    }\n",
              "    30% {\n",
              "      border-color: transparent;\n",
              "      border-left-color: var(--fill-color);\n",
              "      border-top-color: var(--fill-color);\n",
              "      border-right-color: var(--fill-color);\n",
              "    }\n",
              "    40% {\n",
              "      border-color: transparent;\n",
              "      border-right-color: var(--fill-color);\n",
              "      border-top-color: var(--fill-color);\n",
              "    }\n",
              "    60% {\n",
              "      border-color: transparent;\n",
              "      border-right-color: var(--fill-color);\n",
              "    }\n",
              "    80% {\n",
              "      border-color: transparent;\n",
              "      border-right-color: var(--fill-color);\n",
              "      border-bottom-color: var(--fill-color);\n",
              "    }\n",
              "    90% {\n",
              "      border-color: transparent;\n",
              "      border-bottom-color: var(--fill-color);\n",
              "    }\n",
              "  }\n",
              "</style>\n",
              "\n",
              "  <script>\n",
              "    async function quickchart(key) {\n",
              "      const quickchartButtonEl =\n",
              "        document.querySelector('#' + key + ' button');\n",
              "      quickchartButtonEl.disabled = true;  // To prevent multiple clicks.\n",
              "      quickchartButtonEl.classList.add('colab-df-spinner');\n",
              "      try {\n",
              "        const charts = await google.colab.kernel.invokeFunction(\n",
              "            'suggestCharts', [key], {});\n",
              "      } catch (error) {\n",
              "        console.error('Error during call to suggestCharts:', error);\n",
              "      }\n",
              "      quickchartButtonEl.classList.remove('colab-df-spinner');\n",
              "      quickchartButtonEl.classList.add('colab-df-quickchart-complete');\n",
              "    }\n",
              "    (() => {\n",
              "      let quickchartButtonEl =\n",
              "        document.querySelector('#df-8389fb44-5da1-4270-badb-d23757f93189 button');\n",
              "      quickchartButtonEl.style.display =\n",
              "        google.colab.kernel.accessAllowed ? 'block' : 'none';\n",
              "    })();\n",
              "  </script>\n",
              "</div>\n",
              "    </div>\n",
              "  </div>\n"
            ],
            "application/vnd.google.colaboratory.intrinsic+json": {
              "type": "dataframe",
              "variable_name": "data"
            }
          },
          "metadata": {},
          "execution_count": 9
        }
      ],
      "source": [
        "data.head()"
      ],
      "id": "aZV7BiLMQvCb"
    },
    {
      "cell_type": "code",
      "execution_count": 10,
      "metadata": {
        "id": "fgyQVohDEYL0",
        "colab": {
          "base_uri": "https://localhost:8080/"
        },
        "outputId": "62f10332-6818-4f8f-afe9-e7f718682e8e"
      },
      "outputs": [
        {
          "output_type": "stream",
          "name": "stdout",
          "text": [
            "['Gender', 'Age', 'Indicator.of.Rare.Case', 'Survival_Time', 'indicater', 'RCBP.Name_RCBP BELO HORIZONTE', 'RCBP.Name_RCBP CAMPINAS-UNICAMP', 'RCBP.Name_RCBP DISTRITO FEDERAL', 'RCBP.Name_RCBP DRS BARRETOS', 'RCBP.Name_RCBP FORTALEZA', 'RCBP.Name_RCBP MANAUS', 'RCBP.Name_RCBP MATO GROSSO (INTERIOR)', 'RCBP.Name_RCBP NATAL', 'RCBP.Name_RCBP PORTO ALEGRE', 'RCBP.Name_other', 'Raca.Color_AMARELA', 'Raca.Color_BRANCO', 'Raca.Color_IND?GENA', 'Raca.Color_PARDA', 'Raca.Color_PRETA', 'Raca.Color_other', 'State.Civil_CASADO', 'State.Civil_SEPARADO JUDICIALMENTE', 'State.Civil_SOLTEIRO', 'State.Civil_UNI?O CONSENSUAL', 'State.Civil_VI?VO', 'State.Civil_other', 'Code.Profession_0.0', 'Code.Profession_111.0', 'Code.Profession_141.0', 'Code.Profession_512.0', 'Code.Profession_514.0', 'Code.Profession_516.0', 'Code.Profession_622.0', 'Code.Profession_715.0', 'Code.Profession_782.0', 'Code.Profession_other', 'Name.Occupation_CONDUTORES DE VE?CULOS E OPERADORES DE EQUIPAMENTOS DE ELEVA??O E DE MOVIMENTA??O DE CARGAS   \\t', 'Name.Occupation_GERENTES DE PRODU??O E OPERA??ES  \\t', 'Name.Occupation_MEMBROS SUPERIORES DO PODER LEGISLATIVO, EXECUTIVO E JUDICI?RIO   \\t', 'Name.Occupation_SEM INFORMA??O\\t', 'Name.Occupation_TRABALHADORES AGR?COLAS   \\t', 'Name.Occupation_TRABALHADORES DA CONSTRU??O CIVIL E OBRAS P?BLICAS\\t', 'Name.Occupation_TRABALHADORES DOS SERVI?OS DOM?STICOS EM GERAL\\t', 'Name.Occupation_TRABALHADORES NOS SERVI?OS DE ADMINISTRA??O, CONSERVA??O E MANUTEN??O DE EDIF?CIOS E LOGRADOUROS  \\t', 'Name.Occupation_TRABALHADORES NOS SERVI?OS DE EMBELEZAMENTO E CUIDADOS PESSOAIS   \\t', 'Name.Occupation_other', 'Status.Address_AMAZONAS', 'Status.Address_CEAR?', 'Status.Address_DISTRITO FEDERAL', 'Status.Address_MATO GROSSO ', 'Status.Address_MINAS GERAIS', 'Status.Address_RIO DE JANEIRO', 'Status.Address_RIO GRANDE DO NORTE', 'Status.Address_RIO GRANDE DO SUL', 'Status.Address_S?O PAULO', 'Status.Address_other', 'City.Address_BARRETOS', 'City.Address_BEBEDOURO', 'City.Address_BRAS?LIA', 'City.Address_CAMPINAS', 'City.Address_COLINA', 'City.Address_GUA?RA', 'City.Address_MONTE AZUL PAULISTA', 'City.Address_OL?MPIA', 'City.Address_VIRADOURO', 'City.Address_other', 'Description.of.Topography_COLO DO UTERO, SOE', 'Description.of.Topography_ESTOMAGO, SOE', 'Description.of.Topography_LOCALIZACAO PRIMARIA DESCONHECIDA, SOE', 'Description.of.Topography_MAMA , SOE', 'Description.of.Topography_MEDULA OSSEA', 'Description.of.Topography_PELE DE OUTRAS PARTES DA FACE', 'Description.of.Topography_PELE DO MEMBRO SUPERIOR E DO OMBRO', 'Description.of.Topography_PROSTATA, SOE', 'Description.of.Topography_PULMAO, SOE', 'Description.of.Topography_other', 'Topography.Code_C169', 'Topography.Code_C349', 'Topography.Code_C421', 'Topography.Code_C443', 'Topography.Code_C446', 'Topography.Code_C509', 'Topography.Code_C539', 'Topography.Code_C619', 'Topography.Code_C809', 'Topography.Code_other', 'Morphology.Description_ADENOCARCINOMA TUBULAR', 'Morphology.Description_ADENOCARCINOMA, SOE', 'Morphology.Description_CARCINOMA BASO CELULAR, SOE', 'Morphology.Description_CARCINOMA BASOCELULAR, SOE', 'Morphology.Description_CARCINOMA DE CELULAS ESCAMOSAS, SOE', 'Morphology.Description_CARCINOMA DUCTAL INFILTRANTE', 'Morphology.Description_CARCINOMA ESCAMOCELULAR, SOE', 'Morphology.Description_NEOPLASIA MALIGNA', 'Morphology.Description_NEOPLASMA MALIGNO', 'Morphology.Description_other', 'Code.of.Morphology_80003', 'Code.of.Morphology_80703', 'Code.of.Morphology_80903', 'Code.of.Morphology_81403', 'Code.of.Morphology_82113', 'Code.of.Morphology_85003', 'Code.of.Morphology_95903', 'Code.of.Morphology_97323', 'Code.of.Morphology_98613', 'Code.of.Morphology_other', 'Description.of.Disease_BRONQUIOS OU PULMOES, SOE', 'Description.of.Disease_COLO DO UTERO, SOE', 'Description.of.Disease_ESTOMAGO, SOE', 'Description.of.Disease_LOCALIZACAO PRIMARIA DESCONHECIDA', 'Description.of.Disease_MAMA , SOE', 'Description.of.Disease_PELE DE OUTRAS PARTES DA FACE', 'Description.of.Disease_PELE DO MEMBRO SUPERIOR E DO OMBRO', 'Description.of.Disease_PELE DO TRONCO', 'Description.of.Disease_PROSTATA', 'Description.of.Disease_other', 'Illness.Code_C169', 'Illness.Code_C349', 'Illness.Code_C443', 'Illness.Code_C445', 'Illness.Code_C446', 'Illness.Code_C509', 'Illness.Code_C61', 'Illness.Code_C80', 'Illness.Code_C859', 'Illness.Code_other', 'Diagnostic.means_CITOLOGIA', 'Diagnostic.means_CL?NICO', 'Diagnostic.means_HISTOLOGIA DO TUMOR PRIM?RIO', 'Diagnostic.means_PESQUISA', 'Diagnostic.means_SDO', 'Diagnostic.means_other', 'Extension_IN SITU', 'Extension_LOCALIZADO', 'Extension_MET?STASE', 'Extension_N?O SE APLICA', 'Type.of.Death_C?NCER', 'Type.of.Death_N?O C?NCER', 'Type.of.Death_other']\n"
          ]
        }
      ],
      "source": [
        "print(list(data.columns))"
      ],
      "id": "fgyQVohDEYL0"
    },
    {
      "cell_type": "code",
      "execution_count": 11,
      "metadata": {
        "id": "7b3fce97"
      },
      "outputs": [],
      "source": [
        "# change the batch size from 1024 to 3222 to improve the performance\n",
        "# created by Xinyu modified by Jingyan\n",
        "args = easydict.EasyDict({\n",
        "    \"batch_size\": 2048,\n",
        "    \"cuda\": True, # should set it to be true when using gpu, otherwise data would be on two devices\n",
        "    \"lr\": 0.05,\n",
        "    \"seed\": 1111,\n",
        "    \"reduce_rate\": 0.95,\n",
        "    \"epochs\": 200,\n",
        "    \"clip\": 5.0,\n",
        "    \"log_interval\":10,\n",
        "})"
      ],
      "id": "7b3fce97"
    },
    {
      "cell_type": "code",
      "execution_count": 12,
      "metadata": {
        "id": "f889f402"
      },
      "outputs": [],
      "source": [
        "def cycle(iterable):\n",
        "    while True:\n",
        "        for x in iterable:\n",
        "            yield x"
      ],
      "id": "f889f402"
    },
    {
      "cell_type": "code",
      "execution_count": 13,
      "metadata": {
        "id": "448c8d7b"
      },
      "outputs": [],
      "source": [
        "device = torch.device(\"cuda\" if args.cuda else \"cpu\")\n",
        "dtype = torch.FloatTensor\n",
        "if torch.cuda.is_available() and args.cuda:\n",
        "    dtype = torch.cuda.FloatTensor\n",
        "\n",
        "np.random.seed(1234)\n",
        "_ = torch.manual_seed(123)"
      ],
      "id": "448c8d7b"
    },
    {
      "cell_type": "code",
      "execution_count": 14,
      "metadata": {
        "id": "ZXMsPbpMfDDF",
        "colab": {
          "base_uri": "https://localhost:8080/"
        },
        "outputId": "204f9b61-601c-41a3-c318-b771d29dc01e"
      },
      "outputs": [
        {
          "output_type": "stream",
          "name": "stdout",
          "text": [
            "cuda\n"
          ]
        }
      ],
      "source": [
        "print(device)"
      ],
      "id": "ZXMsPbpMfDDF"
    },
    {
      "cell_type": "code",
      "execution_count": 15,
      "metadata": {
        "id": "2bfcd0f4"
      },
      "outputs": [],
      "source": [
        "from sklearn import preprocessing"
      ],
      "id": "2bfcd0f4"
    },
    {
      "cell_type": "code",
      "execution_count": 16,
      "metadata": {
        "id": "IwnjqGYYiR_6",
        "colab": {
          "base_uri": "https://localhost:8080/",
          "height": 478
        },
        "outputId": "0f68b187-d674-4a63-e7dc-1bdedad0e9b1"
      },
      "outputs": [
        {
          "output_type": "execute_result",
          "data": {
            "text/plain": [
              "       Gender       Age  Indicator.of.Rare.Case  Survival_Time  indicater  \\\n",
              "0           1  0.283019                       0              0          1   \n",
              "1           1  0.490566                       0              0          1   \n",
              "2           1  0.698113                       0              0          1   \n",
              "3           1  0.556604                       0              0          1   \n",
              "5           0  0.754717                       0              0          1   \n",
              "...       ...       ...                     ...            ...        ...   \n",
              "14750       0  0.613208                       0           1475          1   \n",
              "14751       1  0.528302                       0           1302          1   \n",
              "14752       1  0.122642                       0            936          1   \n",
              "14753       1  0.773585                       0            420          1   \n",
              "14754       0  0.811321                       0            379          1   \n",
              "\n",
              "       RCBP.Name_RCBP BELO HORIZONTE  RCBP.Name_RCBP CAMPINAS-UNICAMP  \\\n",
              "0                              False                             True   \n",
              "1                              False                             True   \n",
              "2                              False                             True   \n",
              "3                              False                             True   \n",
              "5                              False                             True   \n",
              "...                              ...                              ...   \n",
              "14750                          False                            False   \n",
              "14751                          False                            False   \n",
              "14752                          False                            False   \n",
              "14753                          False                            False   \n",
              "14754                          False                            False   \n",
              "\n",
              "       RCBP.Name_RCBP DISTRITO FEDERAL  RCBP.Name_RCBP DRS BARRETOS  \\\n",
              "0                                False                        False   \n",
              "1                                False                        False   \n",
              "2                                False                        False   \n",
              "3                                False                        False   \n",
              "5                                False                        False   \n",
              "...                                ...                          ...   \n",
              "14750                            False                        False   \n",
              "14751                            False                        False   \n",
              "14752                            False                        False   \n",
              "14753                            False                        False   \n",
              "14754                            False                        False   \n",
              "\n",
              "       RCBP.Name_RCBP FORTALEZA  ...  Diagnostic.means_PESQUISA  \\\n",
              "0                         False  ...                      False   \n",
              "1                         False  ...                      False   \n",
              "2                         False  ...                      False   \n",
              "3                         False  ...                      False   \n",
              "5                         False  ...                      False   \n",
              "...                         ...  ...                        ...   \n",
              "14750                     False  ...                      False   \n",
              "14751                     False  ...                      False   \n",
              "14752                     False  ...                      False   \n",
              "14753                     False  ...                      False   \n",
              "14754                     False  ...                      False   \n",
              "\n",
              "       Diagnostic.means_SDO  Diagnostic.means_other  Extension_IN SITU  \\\n",
              "0                      True                   False              False   \n",
              "1                      True                   False              False   \n",
              "2                      True                   False              False   \n",
              "3                      True                   False              False   \n",
              "5                      True                   False              False   \n",
              "...                     ...                     ...                ...   \n",
              "14750                 False                   False              False   \n",
              "14751                 False                   False              False   \n",
              "14752                 False                   False              False   \n",
              "14753                 False                   False              False   \n",
              "14754                 False                   False              False   \n",
              "\n",
              "       Extension_LOCALIZADO  Extension_MET?STASE  Extension_N?O SE APLICA  \\\n",
              "0                     False                 True                    False   \n",
              "1                     False                 True                    False   \n",
              "2                     False                False                     True   \n",
              "3                     False                 True                    False   \n",
              "5                     False                False                     True   \n",
              "...                     ...                  ...                      ...   \n",
              "14750                 False                False                     True   \n",
              "14751                 False                False                     True   \n",
              "14752                 False                 True                    False   \n",
              "14753                 False                 True                    False   \n",
              "14754                 False                 True                    False   \n",
              "\n",
              "       Type.of.Death_C?NCER  Type.of.Death_N?O C?NCER  Type.of.Death_other  \n",
              "0                      True                     False                False  \n",
              "1                      True                     False                False  \n",
              "2                      True                     False                False  \n",
              "3                      True                     False                False  \n",
              "5                      True                     False                False  \n",
              "...                     ...                       ...                  ...  \n",
              "14750                  True                     False                False  \n",
              "14751                  True                     False                False  \n",
              "14752                  True                     False                False  \n",
              "14753                  True                     False                False  \n",
              "14754                  True                     False                False  \n",
              "\n",
              "[10210 rows x 140 columns]"
            ],
            "text/html": [
              "\n",
              "  <div id=\"df-3c7d1266-07c9-49ab-b40d-4dc6ae35011d\" class=\"colab-df-container\">\n",
              "    <div>\n",
              "<style scoped>\n",
              "    .dataframe tbody tr th:only-of-type {\n",
              "        vertical-align: middle;\n",
              "    }\n",
              "\n",
              "    .dataframe tbody tr th {\n",
              "        vertical-align: top;\n",
              "    }\n",
              "\n",
              "    .dataframe thead th {\n",
              "        text-align: right;\n",
              "    }\n",
              "</style>\n",
              "<table border=\"1\" class=\"dataframe\">\n",
              "  <thead>\n",
              "    <tr style=\"text-align: right;\">\n",
              "      <th></th>\n",
              "      <th>Gender</th>\n",
              "      <th>Age</th>\n",
              "      <th>Indicator.of.Rare.Case</th>\n",
              "      <th>Survival_Time</th>\n",
              "      <th>indicater</th>\n",
              "      <th>RCBP.Name_RCBP BELO HORIZONTE</th>\n",
              "      <th>RCBP.Name_RCBP CAMPINAS-UNICAMP</th>\n",
              "      <th>RCBP.Name_RCBP DISTRITO FEDERAL</th>\n",
              "      <th>RCBP.Name_RCBP DRS BARRETOS</th>\n",
              "      <th>RCBP.Name_RCBP FORTALEZA</th>\n",
              "      <th>...</th>\n",
              "      <th>Diagnostic.means_PESQUISA</th>\n",
              "      <th>Diagnostic.means_SDO</th>\n",
              "      <th>Diagnostic.means_other</th>\n",
              "      <th>Extension_IN SITU</th>\n",
              "      <th>Extension_LOCALIZADO</th>\n",
              "      <th>Extension_MET?STASE</th>\n",
              "      <th>Extension_N?O SE APLICA</th>\n",
              "      <th>Type.of.Death_C?NCER</th>\n",
              "      <th>Type.of.Death_N?O C?NCER</th>\n",
              "      <th>Type.of.Death_other</th>\n",
              "    </tr>\n",
              "  </thead>\n",
              "  <tbody>\n",
              "    <tr>\n",
              "      <th>0</th>\n",
              "      <td>1</td>\n",
              "      <td>0.283019</td>\n",
              "      <td>0</td>\n",
              "      <td>0</td>\n",
              "      <td>1</td>\n",
              "      <td>False</td>\n",
              "      <td>True</td>\n",
              "      <td>False</td>\n",
              "      <td>False</td>\n",
              "      <td>False</td>\n",
              "      <td>...</td>\n",
              "      <td>False</td>\n",
              "      <td>True</td>\n",
              "      <td>False</td>\n",
              "      <td>False</td>\n",
              "      <td>False</td>\n",
              "      <td>True</td>\n",
              "      <td>False</td>\n",
              "      <td>True</td>\n",
              "      <td>False</td>\n",
              "      <td>False</td>\n",
              "    </tr>\n",
              "    <tr>\n",
              "      <th>1</th>\n",
              "      <td>1</td>\n",
              "      <td>0.490566</td>\n",
              "      <td>0</td>\n",
              "      <td>0</td>\n",
              "      <td>1</td>\n",
              "      <td>False</td>\n",
              "      <td>True</td>\n",
              "      <td>False</td>\n",
              "      <td>False</td>\n",
              "      <td>False</td>\n",
              "      <td>...</td>\n",
              "      <td>False</td>\n",
              "      <td>True</td>\n",
              "      <td>False</td>\n",
              "      <td>False</td>\n",
              "      <td>False</td>\n",
              "      <td>True</td>\n",
              "      <td>False</td>\n",
              "      <td>True</td>\n",
              "      <td>False</td>\n",
              "      <td>False</td>\n",
              "    </tr>\n",
              "    <tr>\n",
              "      <th>2</th>\n",
              "      <td>1</td>\n",
              "      <td>0.698113</td>\n",
              "      <td>0</td>\n",
              "      <td>0</td>\n",
              "      <td>1</td>\n",
              "      <td>False</td>\n",
              "      <td>True</td>\n",
              "      <td>False</td>\n",
              "      <td>False</td>\n",
              "      <td>False</td>\n",
              "      <td>...</td>\n",
              "      <td>False</td>\n",
              "      <td>True</td>\n",
              "      <td>False</td>\n",
              "      <td>False</td>\n",
              "      <td>False</td>\n",
              "      <td>False</td>\n",
              "      <td>True</td>\n",
              "      <td>True</td>\n",
              "      <td>False</td>\n",
              "      <td>False</td>\n",
              "    </tr>\n",
              "    <tr>\n",
              "      <th>3</th>\n",
              "      <td>1</td>\n",
              "      <td>0.556604</td>\n",
              "      <td>0</td>\n",
              "      <td>0</td>\n",
              "      <td>1</td>\n",
              "      <td>False</td>\n",
              "      <td>True</td>\n",
              "      <td>False</td>\n",
              "      <td>False</td>\n",
              "      <td>False</td>\n",
              "      <td>...</td>\n",
              "      <td>False</td>\n",
              "      <td>True</td>\n",
              "      <td>False</td>\n",
              "      <td>False</td>\n",
              "      <td>False</td>\n",
              "      <td>True</td>\n",
              "      <td>False</td>\n",
              "      <td>True</td>\n",
              "      <td>False</td>\n",
              "      <td>False</td>\n",
              "    </tr>\n",
              "    <tr>\n",
              "      <th>5</th>\n",
              "      <td>0</td>\n",
              "      <td>0.754717</td>\n",
              "      <td>0</td>\n",
              "      <td>0</td>\n",
              "      <td>1</td>\n",
              "      <td>False</td>\n",
              "      <td>True</td>\n",
              "      <td>False</td>\n",
              "      <td>False</td>\n",
              "      <td>False</td>\n",
              "      <td>...</td>\n",
              "      <td>False</td>\n",
              "      <td>True</td>\n",
              "      <td>False</td>\n",
              "      <td>False</td>\n",
              "      <td>False</td>\n",
              "      <td>False</td>\n",
              "      <td>True</td>\n",
              "      <td>True</td>\n",
              "      <td>False</td>\n",
              "      <td>False</td>\n",
              "    </tr>\n",
              "    <tr>\n",
              "      <th>...</th>\n",
              "      <td>...</td>\n",
              "      <td>...</td>\n",
              "      <td>...</td>\n",
              "      <td>...</td>\n",
              "      <td>...</td>\n",
              "      <td>...</td>\n",
              "      <td>...</td>\n",
              "      <td>...</td>\n",
              "      <td>...</td>\n",
              "      <td>...</td>\n",
              "      <td>...</td>\n",
              "      <td>...</td>\n",
              "      <td>...</td>\n",
              "      <td>...</td>\n",
              "      <td>...</td>\n",
              "      <td>...</td>\n",
              "      <td>...</td>\n",
              "      <td>...</td>\n",
              "      <td>...</td>\n",
              "      <td>...</td>\n",
              "      <td>...</td>\n",
              "    </tr>\n",
              "    <tr>\n",
              "      <th>14750</th>\n",
              "      <td>0</td>\n",
              "      <td>0.613208</td>\n",
              "      <td>0</td>\n",
              "      <td>1475</td>\n",
              "      <td>1</td>\n",
              "      <td>False</td>\n",
              "      <td>False</td>\n",
              "      <td>False</td>\n",
              "      <td>False</td>\n",
              "      <td>False</td>\n",
              "      <td>...</td>\n",
              "      <td>False</td>\n",
              "      <td>False</td>\n",
              "      <td>False</td>\n",
              "      <td>False</td>\n",
              "      <td>False</td>\n",
              "      <td>False</td>\n",
              "      <td>True</td>\n",
              "      <td>True</td>\n",
              "      <td>False</td>\n",
              "      <td>False</td>\n",
              "    </tr>\n",
              "    <tr>\n",
              "      <th>14751</th>\n",
              "      <td>1</td>\n",
              "      <td>0.528302</td>\n",
              "      <td>0</td>\n",
              "      <td>1302</td>\n",
              "      <td>1</td>\n",
              "      <td>False</td>\n",
              "      <td>False</td>\n",
              "      <td>False</td>\n",
              "      <td>False</td>\n",
              "      <td>False</td>\n",
              "      <td>...</td>\n",
              "      <td>False</td>\n",
              "      <td>False</td>\n",
              "      <td>False</td>\n",
              "      <td>False</td>\n",
              "      <td>False</td>\n",
              "      <td>False</td>\n",
              "      <td>True</td>\n",
              "      <td>True</td>\n",
              "      <td>False</td>\n",
              "      <td>False</td>\n",
              "    </tr>\n",
              "    <tr>\n",
              "      <th>14752</th>\n",
              "      <td>1</td>\n",
              "      <td>0.122642</td>\n",
              "      <td>0</td>\n",
              "      <td>936</td>\n",
              "      <td>1</td>\n",
              "      <td>False</td>\n",
              "      <td>False</td>\n",
              "      <td>False</td>\n",
              "      <td>False</td>\n",
              "      <td>False</td>\n",
              "      <td>...</td>\n",
              "      <td>False</td>\n",
              "      <td>False</td>\n",
              "      <td>False</td>\n",
              "      <td>False</td>\n",
              "      <td>False</td>\n",
              "      <td>True</td>\n",
              "      <td>False</td>\n",
              "      <td>True</td>\n",
              "      <td>False</td>\n",
              "      <td>False</td>\n",
              "    </tr>\n",
              "    <tr>\n",
              "      <th>14753</th>\n",
              "      <td>1</td>\n",
              "      <td>0.773585</td>\n",
              "      <td>0</td>\n",
              "      <td>420</td>\n",
              "      <td>1</td>\n",
              "      <td>False</td>\n",
              "      <td>False</td>\n",
              "      <td>False</td>\n",
              "      <td>False</td>\n",
              "      <td>False</td>\n",
              "      <td>...</td>\n",
              "      <td>False</td>\n",
              "      <td>False</td>\n",
              "      <td>False</td>\n",
              "      <td>False</td>\n",
              "      <td>False</td>\n",
              "      <td>True</td>\n",
              "      <td>False</td>\n",
              "      <td>True</td>\n",
              "      <td>False</td>\n",
              "      <td>False</td>\n",
              "    </tr>\n",
              "    <tr>\n",
              "      <th>14754</th>\n",
              "      <td>0</td>\n",
              "      <td>0.811321</td>\n",
              "      <td>0</td>\n",
              "      <td>379</td>\n",
              "      <td>1</td>\n",
              "      <td>False</td>\n",
              "      <td>False</td>\n",
              "      <td>False</td>\n",
              "      <td>False</td>\n",
              "      <td>False</td>\n",
              "      <td>...</td>\n",
              "      <td>False</td>\n",
              "      <td>False</td>\n",
              "      <td>False</td>\n",
              "      <td>False</td>\n",
              "      <td>False</td>\n",
              "      <td>True</td>\n",
              "      <td>False</td>\n",
              "      <td>True</td>\n",
              "      <td>False</td>\n",
              "      <td>False</td>\n",
              "    </tr>\n",
              "  </tbody>\n",
              "</table>\n",
              "<p>10210 rows × 140 columns</p>\n",
              "</div>\n",
              "    <div class=\"colab-df-buttons\">\n",
              "\n",
              "  <div class=\"colab-df-container\">\n",
              "    <button class=\"colab-df-convert\" onclick=\"convertToInteractive('df-3c7d1266-07c9-49ab-b40d-4dc6ae35011d')\"\n",
              "            title=\"Convert this dataframe to an interactive table.\"\n",
              "            style=\"display:none;\">\n",
              "\n",
              "  <svg xmlns=\"http://www.w3.org/2000/svg\" height=\"24px\" viewBox=\"0 -960 960 960\">\n",
              "    <path d=\"M120-120v-720h720v720H120Zm60-500h600v-160H180v160Zm220 220h160v-160H400v160Zm0 220h160v-160H400v160ZM180-400h160v-160H180v160Zm440 0h160v-160H620v160ZM180-180h160v-160H180v160Zm440 0h160v-160H620v160Z\"/>\n",
              "  </svg>\n",
              "    </button>\n",
              "\n",
              "  <style>\n",
              "    .colab-df-container {\n",
              "      display:flex;\n",
              "      gap: 12px;\n",
              "    }\n",
              "\n",
              "    .colab-df-convert {\n",
              "      background-color: #E8F0FE;\n",
              "      border: none;\n",
              "      border-radius: 50%;\n",
              "      cursor: pointer;\n",
              "      display: none;\n",
              "      fill: #1967D2;\n",
              "      height: 32px;\n",
              "      padding: 0 0 0 0;\n",
              "      width: 32px;\n",
              "    }\n",
              "\n",
              "    .colab-df-convert:hover {\n",
              "      background-color: #E2EBFA;\n",
              "      box-shadow: 0px 1px 2px rgba(60, 64, 67, 0.3), 0px 1px 3px 1px rgba(60, 64, 67, 0.15);\n",
              "      fill: #174EA6;\n",
              "    }\n",
              "\n",
              "    .colab-df-buttons div {\n",
              "      margin-bottom: 4px;\n",
              "    }\n",
              "\n",
              "    [theme=dark] .colab-df-convert {\n",
              "      background-color: #3B4455;\n",
              "      fill: #D2E3FC;\n",
              "    }\n",
              "\n",
              "    [theme=dark] .colab-df-convert:hover {\n",
              "      background-color: #434B5C;\n",
              "      box-shadow: 0px 1px 3px 1px rgba(0, 0, 0, 0.15);\n",
              "      filter: drop-shadow(0px 1px 2px rgba(0, 0, 0, 0.3));\n",
              "      fill: #FFFFFF;\n",
              "    }\n",
              "  </style>\n",
              "\n",
              "    <script>\n",
              "      const buttonEl =\n",
              "        document.querySelector('#df-3c7d1266-07c9-49ab-b40d-4dc6ae35011d button.colab-df-convert');\n",
              "      buttonEl.style.display =\n",
              "        google.colab.kernel.accessAllowed ? 'block' : 'none';\n",
              "\n",
              "      async function convertToInteractive(key) {\n",
              "        const element = document.querySelector('#df-3c7d1266-07c9-49ab-b40d-4dc6ae35011d');\n",
              "        const dataTable =\n",
              "          await google.colab.kernel.invokeFunction('convertToInteractive',\n",
              "                                                    [key], {});\n",
              "        if (!dataTable) return;\n",
              "\n",
              "        const docLinkHtml = 'Like what you see? Visit the ' +\n",
              "          '<a target=\"_blank\" href=https://colab.research.google.com/notebooks/data_table.ipynb>data table notebook</a>'\n",
              "          + ' to learn more about interactive tables.';\n",
              "        element.innerHTML = '';\n",
              "        dataTable['output_type'] = 'display_data';\n",
              "        await google.colab.output.renderOutput(dataTable, element);\n",
              "        const docLink = document.createElement('div');\n",
              "        docLink.innerHTML = docLinkHtml;\n",
              "        element.appendChild(docLink);\n",
              "      }\n",
              "    </script>\n",
              "  </div>\n",
              "\n",
              "\n",
              "<div id=\"df-be886bbe-a702-4f0c-ae1d-ce98e7da8b6b\">\n",
              "  <button class=\"colab-df-quickchart\" onclick=\"quickchart('df-be886bbe-a702-4f0c-ae1d-ce98e7da8b6b')\"\n",
              "            title=\"Suggest charts\"\n",
              "            style=\"display:none;\">\n",
              "\n",
              "<svg xmlns=\"http://www.w3.org/2000/svg\" height=\"24px\"viewBox=\"0 0 24 24\"\n",
              "     width=\"24px\">\n",
              "    <g>\n",
              "        <path d=\"M19 3H5c-1.1 0-2 .9-2 2v14c0 1.1.9 2 2 2h14c1.1 0 2-.9 2-2V5c0-1.1-.9-2-2-2zM9 17H7v-7h2v7zm4 0h-2V7h2v10zm4 0h-2v-4h2v4z\"/>\n",
              "    </g>\n",
              "</svg>\n",
              "  </button>\n",
              "\n",
              "<style>\n",
              "  .colab-df-quickchart {\n",
              "      --bg-color: #E8F0FE;\n",
              "      --fill-color: #1967D2;\n",
              "      --hover-bg-color: #E2EBFA;\n",
              "      --hover-fill-color: #174EA6;\n",
              "      --disabled-fill-color: #AAA;\n",
              "      --disabled-bg-color: #DDD;\n",
              "  }\n",
              "\n",
              "  [theme=dark] .colab-df-quickchart {\n",
              "      --bg-color: #3B4455;\n",
              "      --fill-color: #D2E3FC;\n",
              "      --hover-bg-color: #434B5C;\n",
              "      --hover-fill-color: #FFFFFF;\n",
              "      --disabled-bg-color: #3B4455;\n",
              "      --disabled-fill-color: #666;\n",
              "  }\n",
              "\n",
              "  .colab-df-quickchart {\n",
              "    background-color: var(--bg-color);\n",
              "    border: none;\n",
              "    border-radius: 50%;\n",
              "    cursor: pointer;\n",
              "    display: none;\n",
              "    fill: var(--fill-color);\n",
              "    height: 32px;\n",
              "    padding: 0;\n",
              "    width: 32px;\n",
              "  }\n",
              "\n",
              "  .colab-df-quickchart:hover {\n",
              "    background-color: var(--hover-bg-color);\n",
              "    box-shadow: 0 1px 2px rgba(60, 64, 67, 0.3), 0 1px 3px 1px rgba(60, 64, 67, 0.15);\n",
              "    fill: var(--button-hover-fill-color);\n",
              "  }\n",
              "\n",
              "  .colab-df-quickchart-complete:disabled,\n",
              "  .colab-df-quickchart-complete:disabled:hover {\n",
              "    background-color: var(--disabled-bg-color);\n",
              "    fill: var(--disabled-fill-color);\n",
              "    box-shadow: none;\n",
              "  }\n",
              "\n",
              "  .colab-df-spinner {\n",
              "    border: 2px solid var(--fill-color);\n",
              "    border-color: transparent;\n",
              "    border-bottom-color: var(--fill-color);\n",
              "    animation:\n",
              "      spin 1s steps(1) infinite;\n",
              "  }\n",
              "\n",
              "  @keyframes spin {\n",
              "    0% {\n",
              "      border-color: transparent;\n",
              "      border-bottom-color: var(--fill-color);\n",
              "      border-left-color: var(--fill-color);\n",
              "    }\n",
              "    20% {\n",
              "      border-color: transparent;\n",
              "      border-left-color: var(--fill-color);\n",
              "      border-top-color: var(--fill-color);\n",
              "    }\n",
              "    30% {\n",
              "      border-color: transparent;\n",
              "      border-left-color: var(--fill-color);\n",
              "      border-top-color: var(--fill-color);\n",
              "      border-right-color: var(--fill-color);\n",
              "    }\n",
              "    40% {\n",
              "      border-color: transparent;\n",
              "      border-right-color: var(--fill-color);\n",
              "      border-top-color: var(--fill-color);\n",
              "    }\n",
              "    60% {\n",
              "      border-color: transparent;\n",
              "      border-right-color: var(--fill-color);\n",
              "    }\n",
              "    80% {\n",
              "      border-color: transparent;\n",
              "      border-right-color: var(--fill-color);\n",
              "      border-bottom-color: var(--fill-color);\n",
              "    }\n",
              "    90% {\n",
              "      border-color: transparent;\n",
              "      border-bottom-color: var(--fill-color);\n",
              "    }\n",
              "  }\n",
              "</style>\n",
              "\n",
              "  <script>\n",
              "    async function quickchart(key) {\n",
              "      const quickchartButtonEl =\n",
              "        document.querySelector('#' + key + ' button');\n",
              "      quickchartButtonEl.disabled = true;  // To prevent multiple clicks.\n",
              "      quickchartButtonEl.classList.add('colab-df-spinner');\n",
              "      try {\n",
              "        const charts = await google.colab.kernel.invokeFunction(\n",
              "            'suggestCharts', [key], {});\n",
              "      } catch (error) {\n",
              "        console.error('Error during call to suggestCharts:', error);\n",
              "      }\n",
              "      quickchartButtonEl.classList.remove('colab-df-spinner');\n",
              "      quickchartButtonEl.classList.add('colab-df-quickchart-complete');\n",
              "    }\n",
              "    (() => {\n",
              "      let quickchartButtonEl =\n",
              "        document.querySelector('#df-be886bbe-a702-4f0c-ae1d-ce98e7da8b6b button');\n",
              "      quickchartButtonEl.style.display =\n",
              "        google.colab.kernel.accessAllowed ? 'block' : 'none';\n",
              "    })();\n",
              "  </script>\n",
              "</div>\n",
              "    </div>\n",
              "  </div>\n"
            ],
            "application/vnd.google.colaboratory.intrinsic+json": {
              "type": "dataframe"
            }
          },
          "metadata": {},
          "execution_count": 16
        }
      ],
      "source": [
        "data[data['indicater']==1]"
      ],
      "id": "IwnjqGYYiR_6"
    },
    {
      "cell_type": "code",
      "execution_count": 17,
      "metadata": {
        "id": "ae2a54ae"
      },
      "outputs": [],
      "source": [
        "X = data.drop(['Survival_Time', 'indicater'], axis=1)\n",
        "time_all = data['Survival_Time'].values\n",
        "event_all = data['indicater'].values"
      ],
      "id": "ae2a54ae"
    },
    {
      "cell_type": "code",
      "execution_count": 18,
      "metadata": {
        "id": "Ec-N3gTIaDXP",
        "colab": {
          "base_uri": "https://localhost:8080/",
          "height": 290
        },
        "outputId": "4570b59a-a1aa-4dbc-f753-bc4b351dbe72"
      },
      "outputs": [
        {
          "output_type": "execute_result",
          "data": {
            "text/plain": [
              "   Gender       Age  Indicator.of.Rare.Case  RCBP.Name_RCBP BELO HORIZONTE  \\\n",
              "0       1  0.283019                       0                          False   \n",
              "1       1  0.490566                       0                          False   \n",
              "2       1  0.698113                       0                          False   \n",
              "3       1  0.556604                       0                          False   \n",
              "4       0  0.122642                       0                          False   \n",
              "\n",
              "   RCBP.Name_RCBP CAMPINAS-UNICAMP  RCBP.Name_RCBP DISTRITO FEDERAL  \\\n",
              "0                             True                            False   \n",
              "1                             True                            False   \n",
              "2                             True                            False   \n",
              "3                             True                            False   \n",
              "4                             True                            False   \n",
              "\n",
              "   RCBP.Name_RCBP DRS BARRETOS  RCBP.Name_RCBP FORTALEZA  \\\n",
              "0                        False                     False   \n",
              "1                        False                     False   \n",
              "2                        False                     False   \n",
              "3                        False                     False   \n",
              "4                        False                     False   \n",
              "\n",
              "   RCBP.Name_RCBP MANAUS  RCBP.Name_RCBP MATO GROSSO (INTERIOR)  ...  \\\n",
              "0                  False                                  False  ...   \n",
              "1                  False                                  False  ...   \n",
              "2                  False                                  False  ...   \n",
              "3                  False                                  False  ...   \n",
              "4                  False                                  False  ...   \n",
              "\n",
              "   Diagnostic.means_PESQUISA  Diagnostic.means_SDO  Diagnostic.means_other  \\\n",
              "0                      False                  True                   False   \n",
              "1                      False                  True                   False   \n",
              "2                      False                  True                   False   \n",
              "3                      False                  True                   False   \n",
              "4                      False                 False                   False   \n",
              "\n",
              "   Extension_IN SITU  Extension_LOCALIZADO  Extension_MET?STASE  \\\n",
              "0              False                 False                 True   \n",
              "1              False                 False                 True   \n",
              "2              False                 False                False   \n",
              "3              False                 False                 True   \n",
              "4              False                 False                False   \n",
              "\n",
              "   Extension_N?O SE APLICA  Type.of.Death_C?NCER  Type.of.Death_N?O C?NCER  \\\n",
              "0                    False                  True                     False   \n",
              "1                    False                  True                     False   \n",
              "2                     True                  True                     False   \n",
              "3                    False                  True                     False   \n",
              "4                     True                 False                     False   \n",
              "\n",
              "   Type.of.Death_other  \n",
              "0                False  \n",
              "1                False  \n",
              "2                False  \n",
              "3                False  \n",
              "4                 True  \n",
              "\n",
              "[5 rows x 138 columns]"
            ],
            "text/html": [
              "\n",
              "  <div id=\"df-7202d0c4-94e0-4170-9d73-a415f49ce8c1\" class=\"colab-df-container\">\n",
              "    <div>\n",
              "<style scoped>\n",
              "    .dataframe tbody tr th:only-of-type {\n",
              "        vertical-align: middle;\n",
              "    }\n",
              "\n",
              "    .dataframe tbody tr th {\n",
              "        vertical-align: top;\n",
              "    }\n",
              "\n",
              "    .dataframe thead th {\n",
              "        text-align: right;\n",
              "    }\n",
              "</style>\n",
              "<table border=\"1\" class=\"dataframe\">\n",
              "  <thead>\n",
              "    <tr style=\"text-align: right;\">\n",
              "      <th></th>\n",
              "      <th>Gender</th>\n",
              "      <th>Age</th>\n",
              "      <th>Indicator.of.Rare.Case</th>\n",
              "      <th>RCBP.Name_RCBP BELO HORIZONTE</th>\n",
              "      <th>RCBP.Name_RCBP CAMPINAS-UNICAMP</th>\n",
              "      <th>RCBP.Name_RCBP DISTRITO FEDERAL</th>\n",
              "      <th>RCBP.Name_RCBP DRS BARRETOS</th>\n",
              "      <th>RCBP.Name_RCBP FORTALEZA</th>\n",
              "      <th>RCBP.Name_RCBP MANAUS</th>\n",
              "      <th>RCBP.Name_RCBP MATO GROSSO (INTERIOR)</th>\n",
              "      <th>...</th>\n",
              "      <th>Diagnostic.means_PESQUISA</th>\n",
              "      <th>Diagnostic.means_SDO</th>\n",
              "      <th>Diagnostic.means_other</th>\n",
              "      <th>Extension_IN SITU</th>\n",
              "      <th>Extension_LOCALIZADO</th>\n",
              "      <th>Extension_MET?STASE</th>\n",
              "      <th>Extension_N?O SE APLICA</th>\n",
              "      <th>Type.of.Death_C?NCER</th>\n",
              "      <th>Type.of.Death_N?O C?NCER</th>\n",
              "      <th>Type.of.Death_other</th>\n",
              "    </tr>\n",
              "  </thead>\n",
              "  <tbody>\n",
              "    <tr>\n",
              "      <th>0</th>\n",
              "      <td>1</td>\n",
              "      <td>0.283019</td>\n",
              "      <td>0</td>\n",
              "      <td>False</td>\n",
              "      <td>True</td>\n",
              "      <td>False</td>\n",
              "      <td>False</td>\n",
              "      <td>False</td>\n",
              "      <td>False</td>\n",
              "      <td>False</td>\n",
              "      <td>...</td>\n",
              "      <td>False</td>\n",
              "      <td>True</td>\n",
              "      <td>False</td>\n",
              "      <td>False</td>\n",
              "      <td>False</td>\n",
              "      <td>True</td>\n",
              "      <td>False</td>\n",
              "      <td>True</td>\n",
              "      <td>False</td>\n",
              "      <td>False</td>\n",
              "    </tr>\n",
              "    <tr>\n",
              "      <th>1</th>\n",
              "      <td>1</td>\n",
              "      <td>0.490566</td>\n",
              "      <td>0</td>\n",
              "      <td>False</td>\n",
              "      <td>True</td>\n",
              "      <td>False</td>\n",
              "      <td>False</td>\n",
              "      <td>False</td>\n",
              "      <td>False</td>\n",
              "      <td>False</td>\n",
              "      <td>...</td>\n",
              "      <td>False</td>\n",
              "      <td>True</td>\n",
              "      <td>False</td>\n",
              "      <td>False</td>\n",
              "      <td>False</td>\n",
              "      <td>True</td>\n",
              "      <td>False</td>\n",
              "      <td>True</td>\n",
              "      <td>False</td>\n",
              "      <td>False</td>\n",
              "    </tr>\n",
              "    <tr>\n",
              "      <th>2</th>\n",
              "      <td>1</td>\n",
              "      <td>0.698113</td>\n",
              "      <td>0</td>\n",
              "      <td>False</td>\n",
              "      <td>True</td>\n",
              "      <td>False</td>\n",
              "      <td>False</td>\n",
              "      <td>False</td>\n",
              "      <td>False</td>\n",
              "      <td>False</td>\n",
              "      <td>...</td>\n",
              "      <td>False</td>\n",
              "      <td>True</td>\n",
              "      <td>False</td>\n",
              "      <td>False</td>\n",
              "      <td>False</td>\n",
              "      <td>False</td>\n",
              "      <td>True</td>\n",
              "      <td>True</td>\n",
              "      <td>False</td>\n",
              "      <td>False</td>\n",
              "    </tr>\n",
              "    <tr>\n",
              "      <th>3</th>\n",
              "      <td>1</td>\n",
              "      <td>0.556604</td>\n",
              "      <td>0</td>\n",
              "      <td>False</td>\n",
              "      <td>True</td>\n",
              "      <td>False</td>\n",
              "      <td>False</td>\n",
              "      <td>False</td>\n",
              "      <td>False</td>\n",
              "      <td>False</td>\n",
              "      <td>...</td>\n",
              "      <td>False</td>\n",
              "      <td>True</td>\n",
              "      <td>False</td>\n",
              "      <td>False</td>\n",
              "      <td>False</td>\n",
              "      <td>True</td>\n",
              "      <td>False</td>\n",
              "      <td>True</td>\n",
              "      <td>False</td>\n",
              "      <td>False</td>\n",
              "    </tr>\n",
              "    <tr>\n",
              "      <th>4</th>\n",
              "      <td>0</td>\n",
              "      <td>0.122642</td>\n",
              "      <td>0</td>\n",
              "      <td>False</td>\n",
              "      <td>True</td>\n",
              "      <td>False</td>\n",
              "      <td>False</td>\n",
              "      <td>False</td>\n",
              "      <td>False</td>\n",
              "      <td>False</td>\n",
              "      <td>...</td>\n",
              "      <td>False</td>\n",
              "      <td>False</td>\n",
              "      <td>False</td>\n",
              "      <td>False</td>\n",
              "      <td>False</td>\n",
              "      <td>False</td>\n",
              "      <td>True</td>\n",
              "      <td>False</td>\n",
              "      <td>False</td>\n",
              "      <td>True</td>\n",
              "    </tr>\n",
              "  </tbody>\n",
              "</table>\n",
              "<p>5 rows × 138 columns</p>\n",
              "</div>\n",
              "    <div class=\"colab-df-buttons\">\n",
              "\n",
              "  <div class=\"colab-df-container\">\n",
              "    <button class=\"colab-df-convert\" onclick=\"convertToInteractive('df-7202d0c4-94e0-4170-9d73-a415f49ce8c1')\"\n",
              "            title=\"Convert this dataframe to an interactive table.\"\n",
              "            style=\"display:none;\">\n",
              "\n",
              "  <svg xmlns=\"http://www.w3.org/2000/svg\" height=\"24px\" viewBox=\"0 -960 960 960\">\n",
              "    <path d=\"M120-120v-720h720v720H120Zm60-500h600v-160H180v160Zm220 220h160v-160H400v160Zm0 220h160v-160H400v160ZM180-400h160v-160H180v160Zm440 0h160v-160H620v160ZM180-180h160v-160H180v160Zm440 0h160v-160H620v160Z\"/>\n",
              "  </svg>\n",
              "    </button>\n",
              "\n",
              "  <style>\n",
              "    .colab-df-container {\n",
              "      display:flex;\n",
              "      gap: 12px;\n",
              "    }\n",
              "\n",
              "    .colab-df-convert {\n",
              "      background-color: #E8F0FE;\n",
              "      border: none;\n",
              "      border-radius: 50%;\n",
              "      cursor: pointer;\n",
              "      display: none;\n",
              "      fill: #1967D2;\n",
              "      height: 32px;\n",
              "      padding: 0 0 0 0;\n",
              "      width: 32px;\n",
              "    }\n",
              "\n",
              "    .colab-df-convert:hover {\n",
              "      background-color: #E2EBFA;\n",
              "      box-shadow: 0px 1px 2px rgba(60, 64, 67, 0.3), 0px 1px 3px 1px rgba(60, 64, 67, 0.15);\n",
              "      fill: #174EA6;\n",
              "    }\n",
              "\n",
              "    .colab-df-buttons div {\n",
              "      margin-bottom: 4px;\n",
              "    }\n",
              "\n",
              "    [theme=dark] .colab-df-convert {\n",
              "      background-color: #3B4455;\n",
              "      fill: #D2E3FC;\n",
              "    }\n",
              "\n",
              "    [theme=dark] .colab-df-convert:hover {\n",
              "      background-color: #434B5C;\n",
              "      box-shadow: 0px 1px 3px 1px rgba(0, 0, 0, 0.15);\n",
              "      filter: drop-shadow(0px 1px 2px rgba(0, 0, 0, 0.3));\n",
              "      fill: #FFFFFF;\n",
              "    }\n",
              "  </style>\n",
              "\n",
              "    <script>\n",
              "      const buttonEl =\n",
              "        document.querySelector('#df-7202d0c4-94e0-4170-9d73-a415f49ce8c1 button.colab-df-convert');\n",
              "      buttonEl.style.display =\n",
              "        google.colab.kernel.accessAllowed ? 'block' : 'none';\n",
              "\n",
              "      async function convertToInteractive(key) {\n",
              "        const element = document.querySelector('#df-7202d0c4-94e0-4170-9d73-a415f49ce8c1');\n",
              "        const dataTable =\n",
              "          await google.colab.kernel.invokeFunction('convertToInteractive',\n",
              "                                                    [key], {});\n",
              "        if (!dataTable) return;\n",
              "\n",
              "        const docLinkHtml = 'Like what you see? Visit the ' +\n",
              "          '<a target=\"_blank\" href=https://colab.research.google.com/notebooks/data_table.ipynb>data table notebook</a>'\n",
              "          + ' to learn more about interactive tables.';\n",
              "        element.innerHTML = '';\n",
              "        dataTable['output_type'] = 'display_data';\n",
              "        await google.colab.output.renderOutput(dataTable, element);\n",
              "        const docLink = document.createElement('div');\n",
              "        docLink.innerHTML = docLinkHtml;\n",
              "        element.appendChild(docLink);\n",
              "      }\n",
              "    </script>\n",
              "  </div>\n",
              "\n",
              "\n",
              "<div id=\"df-7dd4f8fc-f477-4e1f-a2de-2f1dddd11565\">\n",
              "  <button class=\"colab-df-quickchart\" onclick=\"quickchart('df-7dd4f8fc-f477-4e1f-a2de-2f1dddd11565')\"\n",
              "            title=\"Suggest charts\"\n",
              "            style=\"display:none;\">\n",
              "\n",
              "<svg xmlns=\"http://www.w3.org/2000/svg\" height=\"24px\"viewBox=\"0 0 24 24\"\n",
              "     width=\"24px\">\n",
              "    <g>\n",
              "        <path d=\"M19 3H5c-1.1 0-2 .9-2 2v14c0 1.1.9 2 2 2h14c1.1 0 2-.9 2-2V5c0-1.1-.9-2-2-2zM9 17H7v-7h2v7zm4 0h-2V7h2v10zm4 0h-2v-4h2v4z\"/>\n",
              "    </g>\n",
              "</svg>\n",
              "  </button>\n",
              "\n",
              "<style>\n",
              "  .colab-df-quickchart {\n",
              "      --bg-color: #E8F0FE;\n",
              "      --fill-color: #1967D2;\n",
              "      --hover-bg-color: #E2EBFA;\n",
              "      --hover-fill-color: #174EA6;\n",
              "      --disabled-fill-color: #AAA;\n",
              "      --disabled-bg-color: #DDD;\n",
              "  }\n",
              "\n",
              "  [theme=dark] .colab-df-quickchart {\n",
              "      --bg-color: #3B4455;\n",
              "      --fill-color: #D2E3FC;\n",
              "      --hover-bg-color: #434B5C;\n",
              "      --hover-fill-color: #FFFFFF;\n",
              "      --disabled-bg-color: #3B4455;\n",
              "      --disabled-fill-color: #666;\n",
              "  }\n",
              "\n",
              "  .colab-df-quickchart {\n",
              "    background-color: var(--bg-color);\n",
              "    border: none;\n",
              "    border-radius: 50%;\n",
              "    cursor: pointer;\n",
              "    display: none;\n",
              "    fill: var(--fill-color);\n",
              "    height: 32px;\n",
              "    padding: 0;\n",
              "    width: 32px;\n",
              "  }\n",
              "\n",
              "  .colab-df-quickchart:hover {\n",
              "    background-color: var(--hover-bg-color);\n",
              "    box-shadow: 0 1px 2px rgba(60, 64, 67, 0.3), 0 1px 3px 1px rgba(60, 64, 67, 0.15);\n",
              "    fill: var(--button-hover-fill-color);\n",
              "  }\n",
              "\n",
              "  .colab-df-quickchart-complete:disabled,\n",
              "  .colab-df-quickchart-complete:disabled:hover {\n",
              "    background-color: var(--disabled-bg-color);\n",
              "    fill: var(--disabled-fill-color);\n",
              "    box-shadow: none;\n",
              "  }\n",
              "\n",
              "  .colab-df-spinner {\n",
              "    border: 2px solid var(--fill-color);\n",
              "    border-color: transparent;\n",
              "    border-bottom-color: var(--fill-color);\n",
              "    animation:\n",
              "      spin 1s steps(1) infinite;\n",
              "  }\n",
              "\n",
              "  @keyframes spin {\n",
              "    0% {\n",
              "      border-color: transparent;\n",
              "      border-bottom-color: var(--fill-color);\n",
              "      border-left-color: var(--fill-color);\n",
              "    }\n",
              "    20% {\n",
              "      border-color: transparent;\n",
              "      border-left-color: var(--fill-color);\n",
              "      border-top-color: var(--fill-color);\n",
              "    }\n",
              "    30% {\n",
              "      border-color: transparent;\n",
              "      border-left-color: var(--fill-color);\n",
              "      border-top-color: var(--fill-color);\n",
              "      border-right-color: var(--fill-color);\n",
              "    }\n",
              "    40% {\n",
              "      border-color: transparent;\n",
              "      border-right-color: var(--fill-color);\n",
              "      border-top-color: var(--fill-color);\n",
              "    }\n",
              "    60% {\n",
              "      border-color: transparent;\n",
              "      border-right-color: var(--fill-color);\n",
              "    }\n",
              "    80% {\n",
              "      border-color: transparent;\n",
              "      border-right-color: var(--fill-color);\n",
              "      border-bottom-color: var(--fill-color);\n",
              "    }\n",
              "    90% {\n",
              "      border-color: transparent;\n",
              "      border-bottom-color: var(--fill-color);\n",
              "    }\n",
              "  }\n",
              "</style>\n",
              "\n",
              "  <script>\n",
              "    async function quickchart(key) {\n",
              "      const quickchartButtonEl =\n",
              "        document.querySelector('#' + key + ' button');\n",
              "      quickchartButtonEl.disabled = true;  // To prevent multiple clicks.\n",
              "      quickchartButtonEl.classList.add('colab-df-spinner');\n",
              "      try {\n",
              "        const charts = await google.colab.kernel.invokeFunction(\n",
              "            'suggestCharts', [key], {});\n",
              "      } catch (error) {\n",
              "        console.error('Error during call to suggestCharts:', error);\n",
              "      }\n",
              "      quickchartButtonEl.classList.remove('colab-df-spinner');\n",
              "      quickchartButtonEl.classList.add('colab-df-quickchart-complete');\n",
              "    }\n",
              "    (() => {\n",
              "      let quickchartButtonEl =\n",
              "        document.querySelector('#df-7dd4f8fc-f477-4e1f-a2de-2f1dddd11565 button');\n",
              "      quickchartButtonEl.style.display =\n",
              "        google.colab.kernel.accessAllowed ? 'block' : 'none';\n",
              "    })();\n",
              "  </script>\n",
              "</div>\n",
              "    </div>\n",
              "  </div>\n"
            ],
            "application/vnd.google.colaboratory.intrinsic+json": {
              "type": "dataframe",
              "variable_name": "X"
            }
          },
          "metadata": {},
          "execution_count": 18
        }
      ],
      "source": [
        "# X_normalize\n",
        "X.head(5)"
      ],
      "id": "Ec-N3gTIaDXP"
    },
    {
      "cell_type": "code",
      "execution_count": 19,
      "metadata": {
        "id": "lUfuS-J_TAmL",
        "colab": {
          "base_uri": "https://localhost:8080/"
        },
        "outputId": "abbd2b43-2812-4edf-b6e2-eac281f3e2cb"
      },
      "outputs": [
        {
          "output_type": "execute_result",
          "data": {
            "text/plain": [
              "7408"
            ]
          },
          "metadata": {},
          "execution_count": 19
        }
      ],
      "source": [
        "max_time = data['Survival_Time'].max()\n",
        "max_time"
      ],
      "id": "lUfuS-J_TAmL"
    },
    {
      "cell_type": "code",
      "execution_count": 20,
      "metadata": {
        "id": "u3bJGVksYVWI",
        "colab": {
          "base_uri": "https://localhost:8080/"
        },
        "outputId": "d1fd35bb-e1a0-48d6-dabe-2e1bb65198ba"
      },
      "outputs": [
        {
          "output_type": "stream",
          "name": "stdout",
          "text": [
            "['Gender', 'Age', 'Indicator.of.Rare.Case', 'RCBP.Name_RCBP BELO HORIZONTE', 'RCBP.Name_RCBP CAMPINAS-UNICAMP', 'RCBP.Name_RCBP DISTRITO FEDERAL', 'RCBP.Name_RCBP DRS BARRETOS', 'RCBP.Name_RCBP FORTALEZA', 'RCBP.Name_RCBP MANAUS', 'RCBP.Name_RCBP MATO GROSSO (INTERIOR)', 'RCBP.Name_RCBP NATAL', 'RCBP.Name_RCBP PORTO ALEGRE', 'RCBP.Name_other', 'Raca.Color_AMARELA', 'Raca.Color_BRANCO', 'Raca.Color_IND?GENA', 'Raca.Color_PARDA', 'Raca.Color_PRETA', 'Raca.Color_other', 'State.Civil_CASADO', 'State.Civil_SEPARADO JUDICIALMENTE', 'State.Civil_SOLTEIRO', 'State.Civil_UNI?O CONSENSUAL', 'State.Civil_VI?VO', 'State.Civil_other', 'Code.Profession_0.0', 'Code.Profession_111.0', 'Code.Profession_141.0', 'Code.Profession_512.0', 'Code.Profession_514.0', 'Code.Profession_516.0', 'Code.Profession_622.0', 'Code.Profession_715.0', 'Code.Profession_782.0', 'Code.Profession_other', 'Name.Occupation_CONDUTORES DE VE?CULOS E OPERADORES DE EQUIPAMENTOS DE ELEVA??O E DE MOVIMENTA??O DE CARGAS   \\t', 'Name.Occupation_GERENTES DE PRODU??O E OPERA??ES  \\t', 'Name.Occupation_MEMBROS SUPERIORES DO PODER LEGISLATIVO, EXECUTIVO E JUDICI?RIO   \\t', 'Name.Occupation_SEM INFORMA??O\\t', 'Name.Occupation_TRABALHADORES AGR?COLAS   \\t', 'Name.Occupation_TRABALHADORES DA CONSTRU??O CIVIL E OBRAS P?BLICAS\\t', 'Name.Occupation_TRABALHADORES DOS SERVI?OS DOM?STICOS EM GERAL\\t', 'Name.Occupation_TRABALHADORES NOS SERVI?OS DE ADMINISTRA??O, CONSERVA??O E MANUTEN??O DE EDIF?CIOS E LOGRADOUROS  \\t', 'Name.Occupation_TRABALHADORES NOS SERVI?OS DE EMBELEZAMENTO E CUIDADOS PESSOAIS   \\t', 'Name.Occupation_other', 'Status.Address_AMAZONAS', 'Status.Address_CEAR?', 'Status.Address_DISTRITO FEDERAL', 'Status.Address_MATO GROSSO ', 'Status.Address_MINAS GERAIS', 'Status.Address_RIO DE JANEIRO', 'Status.Address_RIO GRANDE DO NORTE', 'Status.Address_RIO GRANDE DO SUL', 'Status.Address_S?O PAULO', 'Status.Address_other', 'City.Address_BARRETOS', 'City.Address_BEBEDOURO', 'City.Address_BRAS?LIA', 'City.Address_CAMPINAS', 'City.Address_COLINA', 'City.Address_GUA?RA', 'City.Address_MONTE AZUL PAULISTA', 'City.Address_OL?MPIA', 'City.Address_VIRADOURO', 'City.Address_other', 'Description.of.Topography_COLO DO UTERO, SOE', 'Description.of.Topography_ESTOMAGO, SOE', 'Description.of.Topography_LOCALIZACAO PRIMARIA DESCONHECIDA, SOE', 'Description.of.Topography_MAMA , SOE', 'Description.of.Topography_MEDULA OSSEA', 'Description.of.Topography_PELE DE OUTRAS PARTES DA FACE', 'Description.of.Topography_PELE DO MEMBRO SUPERIOR E DO OMBRO', 'Description.of.Topography_PROSTATA, SOE', 'Description.of.Topography_PULMAO, SOE', 'Description.of.Topography_other', 'Topography.Code_C169', 'Topography.Code_C349', 'Topography.Code_C421', 'Topography.Code_C443', 'Topography.Code_C446', 'Topography.Code_C509', 'Topography.Code_C539', 'Topography.Code_C619', 'Topography.Code_C809', 'Topography.Code_other', 'Morphology.Description_ADENOCARCINOMA TUBULAR', 'Morphology.Description_ADENOCARCINOMA, SOE', 'Morphology.Description_CARCINOMA BASO CELULAR, SOE', 'Morphology.Description_CARCINOMA BASOCELULAR, SOE', 'Morphology.Description_CARCINOMA DE CELULAS ESCAMOSAS, SOE', 'Morphology.Description_CARCINOMA DUCTAL INFILTRANTE', 'Morphology.Description_CARCINOMA ESCAMOCELULAR, SOE', 'Morphology.Description_NEOPLASIA MALIGNA', 'Morphology.Description_NEOPLASMA MALIGNO', 'Morphology.Description_other', 'Code.of.Morphology_80003', 'Code.of.Morphology_80703', 'Code.of.Morphology_80903', 'Code.of.Morphology_81403', 'Code.of.Morphology_82113', 'Code.of.Morphology_85003', 'Code.of.Morphology_95903', 'Code.of.Morphology_97323', 'Code.of.Morphology_98613', 'Code.of.Morphology_other', 'Description.of.Disease_BRONQUIOS OU PULMOES, SOE', 'Description.of.Disease_COLO DO UTERO, SOE', 'Description.of.Disease_ESTOMAGO, SOE', 'Description.of.Disease_LOCALIZACAO PRIMARIA DESCONHECIDA', 'Description.of.Disease_MAMA , SOE', 'Description.of.Disease_PELE DE OUTRAS PARTES DA FACE', 'Description.of.Disease_PELE DO MEMBRO SUPERIOR E DO OMBRO', 'Description.of.Disease_PELE DO TRONCO', 'Description.of.Disease_PROSTATA', 'Description.of.Disease_other', 'Illness.Code_C169', 'Illness.Code_C349', 'Illness.Code_C443', 'Illness.Code_C445', 'Illness.Code_C446', 'Illness.Code_C509', 'Illness.Code_C61', 'Illness.Code_C80', 'Illness.Code_C859', 'Illness.Code_other', 'Diagnostic.means_CITOLOGIA', 'Diagnostic.means_CL?NICO', 'Diagnostic.means_HISTOLOGIA DO TUMOR PRIM?RIO', 'Diagnostic.means_PESQUISA', 'Diagnostic.means_SDO', 'Diagnostic.means_other', 'Extension_IN SITU', 'Extension_LOCALIZADO', 'Extension_MET?STASE', 'Extension_N?O SE APLICA', 'Type.of.Death_C?NCER', 'Type.of.Death_N?O C?NCER', 'Type.of.Death_other']\n"
          ]
        }
      ],
      "source": [
        "print(list(X.columns))"
      ],
      "id": "u3bJGVksYVWI"
    },
    {
      "cell_type": "code",
      "execution_count": 21,
      "metadata": {
        "id": "6XPaskQWYk-k",
        "colab": {
          "base_uri": "https://localhost:8080/"
        },
        "outputId": "eb5de36f-538b-4644-bc9d-b236d64cf50d"
      },
      "outputs": [
        {
          "output_type": "stream",
          "name": "stdout",
          "text": [
            "Extension_IN SITU - 133\n",
            "Extension_LOCALIZADO - 134\n",
            "Extension_MET?STASE - 135\n",
            "Extension_N?O SE APLICA - 136\n",
            "Illness.Code_C169 - 117\n",
            "Illness.Code_C349 - 118\n",
            "Illness.Code_C443 - 119\n",
            "Illness.Code_C445 - 120\n",
            "Illness.Code_C446 - 121\n",
            "Illness.Code_C509 - 122\n",
            "Illness.Code_C61 - 123\n",
            "Illness.Code_C80 - 124\n",
            "Illness.Code_C859 - 125\n",
            "Illness.Code_other - 126\n"
          ]
        }
      ],
      "source": [
        "check = pd.DataFrame(columns=['Gender', 'Age', 'Indicator.of.Rare.Case', 'Survival_Time', 'indicater', 'RCBP.Name_RCBP BELO HORIZONTE', 'RCBP.Name_RCBP CAMPINAS-UNICAMP', 'RCBP.Name_RCBP DISTRITO FEDERAL', 'RCBP.Name_RCBP DRS BARRETOS', 'RCBP.Name_RCBP FORTALEZA', 'RCBP.Name_RCBP MANAUS', 'RCBP.Name_RCBP MATO GROSSO (INTERIOR)', 'RCBP.Name_RCBP NATAL', 'RCBP.Name_RCBP PORTO ALEGRE', 'RCBP.Name_other', 'Raca.Color_AMARELA', 'Raca.Color_BRANCO', 'Raca.Color_IND?GENA', 'Raca.Color_PARDA', 'Raca.Color_PRETA', 'Raca.Color_other', 'State.Civil_CASADO', 'State.Civil_SEPARADO JUDICIALMENTE', 'State.Civil_SOLTEIRO', 'State.Civil_UNI?O CONSENSUAL', 'State.Civil_VI?VO', 'State.Civil_other', 'Code.Profession_0.0', 'Code.Profession_111.0', 'Code.Profession_141.0', 'Code.Profession_512.0', 'Code.Profession_514.0', 'Code.Profession_516.0', 'Code.Profession_622.0', 'Code.Profession_715.0', 'Code.Profession_782.0', 'Code.Profession_other', 'Name.Occupation_CONDUTORES DE VE?CULOS E OPERADORES DE EQUIPAMENTOS DE ELEVA??O E DE MOVIMENTA??O DE CARGAS   \\t', 'Name.Occupation_GERENTES DE PRODU??O E OPERA??ES  \\t', 'Name.Occupation_MEMBROS SUPERIORES DO PODER LEGISLATIVO, EXECUTIVO E JUDICI?RIO   \\t', 'Name.Occupation_SEM INFORMA??O\\t', 'Name.Occupation_TRABALHADORES AGR?COLAS   \\t', 'Name.Occupation_TRABALHADORES DA CONSTRU??O CIVIL E OBRAS P?BLICAS\\t', 'Name.Occupation_TRABALHADORES DOS SERVI?OS DOM?STICOS EM GERAL\\t', 'Name.Occupation_TRABALHADORES NOS SERVI?OS DE ADMINISTRA??O, CONSERVA??O E MANUTEN??O DE EDIF?CIOS E LOGRADOUROS  \\t', 'Name.Occupation_TRABALHADORES NOS SERVI?OS DE EMBELEZAMENTO E CUIDADOS PESSOAIS   \\t', 'Name.Occupation_other', 'Status.Address_AMAZONAS', 'Status.Address_CEAR?', 'Status.Address_DISTRITO FEDERAL', 'Status.Address_MATO GROSSO ', 'Status.Address_MINAS GERAIS', 'Status.Address_RIO DE JANEIRO', 'Status.Address_RIO GRANDE DO NORTE', 'Status.Address_RIO GRANDE DO SUL', 'Status.Address_S?O PAULO', 'Status.Address_other', 'City.Address_BARRETOS', 'City.Address_BEBEDOURO', 'City.Address_BRAS?LIA', 'City.Address_CAMPINAS', 'City.Address_COLINA', 'City.Address_GUA?RA', 'City.Address_MONTE AZUL PAULISTA', 'City.Address_OL?MPIA', 'City.Address_VIRADOURO', 'City.Address_other', 'Description.of.Topography_COLO DO UTERO, SOE', 'Description.of.Topography_ESTOMAGO, SOE', 'Description.of.Topography_LOCALIZACAO PRIMARIA DESCONHECIDA, SOE', 'Description.of.Topography_MAMA , SOE', 'Description.of.Topography_MEDULA OSSEA', 'Description.of.Topography_PELE DE OUTRAS PARTES DA FACE', 'Description.of.Topography_PELE DO MEMBRO SUPERIOR E DO OMBRO', 'Description.of.Topography_PROSTATA, SOE', 'Description.of.Topography_PULMAO, SOE', 'Description.of.Topography_other', 'Topography.Code_C169', 'Topography.Code_C349', 'Topography.Code_C421', 'Topography.Code_C443', 'Topography.Code_C446', 'Topography.Code_C509', 'Topography.Code_C539', 'Topography.Code_C619', 'Topography.Code_C809', 'Topography.Code_other', 'Morphology.Description_ADENOCARCINOMA TUBULAR', 'Morphology.Description_ADENOCARCINOMA, SOE', 'Morphology.Description_CARCINOMA BASO CELULAR, SOE', 'Morphology.Description_CARCINOMA BASOCELULAR, SOE', 'Morphology.Description_CARCINOMA DE CELULAS ESCAMOSAS, SOE', 'Morphology.Description_CARCINOMA DUCTAL INFILTRANTE', 'Morphology.Description_CARCINOMA ESCAMOCELULAR, SOE', 'Morphology.Description_NEOPLASIA MALIGNA', 'Morphology.Description_NEOPLASMA MALIGNO', 'Morphology.Description_other', 'Code.of.Morphology_80003', 'Code.of.Morphology_80703', 'Code.of.Morphology_80903', 'Code.of.Morphology_81403', 'Code.of.Morphology_82113', 'Code.of.Morphology_85003', 'Code.of.Morphology_95903', 'Code.of.Morphology_97323', 'Code.of.Morphology_98613', 'Code.of.Morphology_other', 'Description.of.Disease_BRONQUIOS OU PULMOES, SOE', 'Description.of.Disease_COLO DO UTERO, SOE', 'Description.of.Disease_ESTOMAGO, SOE', 'Description.of.Disease_LOCALIZACAO PRIMARIA DESCONHECIDA', 'Description.of.Disease_MAMA , SOE', 'Description.of.Disease_PELE DE OUTRAS PARTES DA FACE', 'Description.of.Disease_PELE DO MEMBRO SUPERIOR E DO OMBRO', 'Description.of.Disease_PELE DO TRONCO', 'Description.of.Disease_PROSTATA', 'Description.of.Disease_other', 'Illness.Code_C169', 'Illness.Code_C349', 'Illness.Code_C443', 'Illness.Code_C445', 'Illness.Code_C446', 'Illness.Code_C509', 'Illness.Code_C61', 'Illness.Code_C80', 'Illness.Code_C859', 'Illness.Code_other', 'Diagnostic.means_CITOLOGIA', 'Diagnostic.means_CL?NICO', 'Diagnostic.means_HISTOLOGIA DO TUMOR PRIM?RIO', 'Diagnostic.means_PESQUISA', 'Diagnostic.means_SDO', 'Diagnostic.means_other', 'Extension_IN SITU', 'Extension_LOCALIZADO', 'Extension_MET?STASE', 'Extension_N?O SE APLICA', 'Type.of.Death_C?NCER', 'Type.of.Death_N?O C?NCER', 'Type.of.Death_other'])\n",
        "\n",
        "columns = list(check.columns)\n",
        "for i, c in enumerate(columns):\n",
        "    if 'extension' in c.lower():\n",
        "        print(f\"{c} - {i}\")\n",
        "\n",
        "for i, c in enumerate(columns):\n",
        "    if 'illness.code' in c.lower():\n",
        "        print(f\"{c} - {i}\")"
      ],
      "id": "6XPaskQWYk-k"
    },
    {
      "cell_type": "markdown",
      "metadata": {
        "id": "6oI1ufePDZ0p"
      },
      "source": [
        "Data divided into MTL form"
      ],
      "id": "6oI1ufePDZ0p"
    },
    {
      "cell_type": "code",
      "execution_count": 22,
      "metadata": {
        "id": "a24c4952",
        "colab": {
          "base_uri": "https://localhost:8080/"
        },
        "outputId": "08bbdc73-2510-4788-f155-bcfd7f05cc68"
      },
      "outputs": [
        {
          "output_type": "stream",
          "name": "stdout",
          "text": [
            "torch.Size([14755, 7])\n"
          ]
        }
      ],
      "source": [
        "import numpy as np\n",
        "\n",
        "# Take the maximum time and divide it into any number of intervals\n",
        "Tmax = 7500\n",
        "num_intervals = 7\n",
        "\n",
        "intervals = [(i * (Tmax // num_intervals), (i + 1) * (Tmax // num_intervals)) for i in range(num_intervals)]\n",
        "\n",
        "Y = np.zeros((len(time_all), num_intervals), dtype=np.int_)\n",
        "\n",
        "for i, time_val in enumerate(time_all):\n",
        "    for j, (left, right) in enumerate(intervals):\n",
        "        if time_val > right or (left < time_val <= right):\n",
        "            Y[i, j] = 1\n",
        "\n",
        "Y = torch.Tensor(Y)\n",
        "\n",
        "print(Y.shape)"
      ],
      "id": "a24c4952"
    },
    {
      "cell_type": "code",
      "execution_count": 23,
      "metadata": {
        "id": "RZCn0Jw9Tp2a",
        "colab": {
          "base_uri": "https://localhost:8080/"
        },
        "outputId": "5f9a9059-f199-4d63-f927-19d22bb218cc"
      },
      "outputs": [
        {
          "output_type": "execute_result",
          "data": {
            "text/plain": [
              "tensor([[0., 0., 0.,  ..., 0., 0., 0.],\n",
              "        [0., 0., 0.,  ..., 0., 0., 0.],\n",
              "        [0., 0., 0.,  ..., 0., 0., 0.],\n",
              "        ...,\n",
              "        [1., 0., 0.,  ..., 0., 0., 0.],\n",
              "        [1., 0., 0.,  ..., 0., 0., 0.],\n",
              "        [1., 0., 0.,  ..., 0., 0., 0.]])"
            ]
          },
          "metadata": {},
          "execution_count": 23
        }
      ],
      "source": [
        "Y"
      ],
      "id": "RZCn0Jw9Tp2a"
    },
    {
      "cell_type": "code",
      "execution_count": 24,
      "metadata": {
        "id": "d0d7b5f4"
      },
      "outputs": [],
      "source": [
        "# Creat mask matrix\n",
        "W = np.zeros((len(time_all), num_intervals), dtype=np.int_)\n",
        "\n",
        "for i, (time_val, event_val) in enumerate(zip(time_all, event_all)):\n",
        "    for j, (left, right) in enumerate(intervals):\n",
        "        if event_val == 0 and time_val < left:\n",
        "            W[i, j] = 0\n",
        "        else:\n",
        "            W[i, j] = 1\n",
        "\n",
        "W = torch.Tensor(W)"
      ],
      "id": "d0d7b5f4"
    },
    {
      "cell_type": "code",
      "execution_count": 25,
      "metadata": {
        "id": "21e810c1",
        "colab": {
          "base_uri": "https://localhost:8080/"
        },
        "outputId": "2b75c77f-8b4f-48a8-c8ef-1b5b97813d2e"
      },
      "outputs": [
        {
          "output_type": "stream",
          "name": "stdout",
          "text": [
            "torch.Size([14755, 7])\n"
          ]
        }
      ],
      "source": [
        "print(W.shape)\n",
        "# So far all the codes are done by Xinyu"
      ],
      "id": "21e810c1"
    },
    {
      "cell_type": "markdown",
      "metadata": {
        "id": "EZBYqEf2Psu8"
      },
      "source": [
        "## Define and Apply the DataLoader\n",
        "- Introduced the dataloader to deal with the dataset, which would be helpful in the training and testing steps"
      ],
      "id": "EZBYqEf2Psu8"
    },
    {
      "cell_type": "code",
      "execution_count": 26,
      "metadata": {
        "id": "2ba508b1"
      },
      "outputs": [],
      "source": [
        "# Jingyan adds the dataloader\n",
        "from torch.utils.data import Dataset, DataLoader, random_split\n",
        "\n",
        "class MultiTaskDataset(Dataset):\n",
        "    def __init__(self, data, targets, masks, event_all):\n",
        "        self.data = data\n",
        "        self.targets = targets\n",
        "        self.masks = masks\n",
        "        self.event_all = event_all\n",
        "\n",
        "    def __len__(self):\n",
        "        return len(self.data)\n",
        "\n",
        "    def __getitem__(self, idx):\n",
        "        return self.data[idx], [self.targets[i][idx] for i in range(len(self.targets))], [self.masks[i][idx] for i in range(len(self.masks))], self.event_all[idx]\n"
      ],
      "id": "2ba508b1"
    },
    {
      "cell_type": "code",
      "execution_count": 27,
      "metadata": {
        "id": "870e1897",
        "colab": {
          "base_uri": "https://localhost:8080/"
        },
        "outputId": "bd15c418-2d87-4666-86ee-187c7c62cfad"
      },
      "outputs": [
        {
          "output_type": "execute_result",
          "data": {
            "text/plain": [
              "torch.Size([14755, 138])"
            ]
          },
          "metadata": {},
          "execution_count": 27
        }
      ],
      "source": [
        "for col in X.columns:       # modified by Ali Sam. (when I try to run the code, the transformation to tensor gives an error of data type, so I have converted the boolean coloumns to int dtype first)\n",
        "    if X[col].dtype == bool:\n",
        "        X[col] = X[col].astype(int)\n",
        "X_use = torch.tensor(X.values, dtype=torch.float32)\n",
        "X_use.shape"
      ],
      "id": "870e1897"
    },
    {
      "cell_type": "code",
      "execution_count": 28,
      "metadata": {
        "id": "LwOao-6_RPjw",
        "colab": {
          "base_uri": "https://localhost:8080/"
        },
        "outputId": "dd085793-3838-4818-b088-726edd31992e"
      },
      "outputs": [
        {
          "output_type": "stream",
          "name": "stdout",
          "text": [
            "torch.Size([14755, 1])\n",
            "torch.Size([14755, 1])\n"
          ]
        }
      ],
      "source": [
        "Y_transform = [Y[:, i:i+1] for i in range(Y.size(1))]\n",
        "print(Y_transform[0].shape)\n",
        "W_transform = [W[:, i:i+1] for i in range(W.size(1))]\n",
        "print(W_transform[0].shape)"
      ],
      "id": "LwOao-6_RPjw"
    },
    {
      "cell_type": "code",
      "execution_count": 29,
      "metadata": {
        "id": "2df3d69b"
      },
      "outputs": [],
      "source": [
        "#Xinyu\n",
        "full_dataset = MultiTaskDataset(X_use, Y_transform, W_transform, event_all)\n",
        "\n",
        "train_size = int(0.8 * len(full_dataset))\n",
        "test_size = len(full_dataset) - train_size\n",
        "\n",
        "train_dataset, test_dataset = random_split(full_dataset, [train_size, test_size])\n",
        "train_loader = DataLoader(train_dataset, batch_size=args.batch_size, shuffle=True, drop_last=True)\n",
        "test_loader = DataLoader(test_dataset, batch_size=args.batch_size, shuffle=True, drop_last=True)"
      ],
      "id": "2df3d69b"
    },
    {
      "cell_type": "code",
      "execution_count": 30,
      "metadata": {
        "id": "XYUkvNcPHUh-",
        "colab": {
          "base_uri": "https://localhost:8080/"
        },
        "outputId": "6bbbc11a-0565-424c-adb0-5d64b4fd9f9d"
      },
      "outputs": [
        {
          "output_type": "stream",
          "name": "stdout",
          "text": [
            "torch.Size([2048, 138])\n",
            "7 torch.Size([2048, 1])\n",
            "7 torch.Size([2048, 1])\n",
            "torch.Size([2048])\n"
          ]
        }
      ],
      "source": [
        "# created by Jingyan to check the data shape before training\n",
        "for x, y, w, e in train_loader:\n",
        "    print(x.shape)\n",
        "    print(len(y), y[0].shape)\n",
        "    print(len(w), w[0].shape)\n",
        "    print(e.shape)\n",
        "    in_features = x.shape[1]\n",
        "    out_features = len(y)\n",
        "    break"
      ],
      "id": "XYUkvNcPHUh-"
    },
    {
      "cell_type": "markdown",
      "source": [],
      "metadata": {
        "id": "Hy83qV7nFKpr"
      },
      "id": "Hy83qV7nFKpr"
    },
    {
      "cell_type": "code",
      "execution_count": 31,
      "metadata": {
        "id": "fJVpicFocpmm",
        "colab": {
          "base_uri": "https://localhost:8080/"
        },
        "outputId": "c1ec53f8-f904-426f-b832-697035add2e3"
      },
      "outputs": [
        {
          "output_type": "execute_result",
          "data": {
            "text/plain": [
              "7"
            ]
          },
          "metadata": {},
          "execution_count": 31
        }
      ],
      "source": [
        "out_features"
      ],
      "id": "fJVpicFocpmm"
    },
    {
      "cell_type": "code",
      "execution_count": 32,
      "metadata": {
        "id": "rfZk8o1wVMnJ",
        "colab": {
          "base_uri": "https://localhost:8080/"
        },
        "outputId": "f20dec7e-5dde-4528-ffc5-7da2ce720923"
      },
      "outputs": [
        {
          "output_type": "stream",
          "name": "stdout",
          "text": [
            "torch.Size([2048, 138])\n",
            "7 torch.Size([2048, 1])\n",
            "7 torch.Size([2048, 1])\n",
            "torch.Size([2048])\n"
          ]
        }
      ],
      "source": [
        "for x, y, w, e in test_loader:\n",
        "    print(x.shape)\n",
        "    print(len(y), y[0].shape)\n",
        "    print(len(w), w[0].shape)\n",
        "    print(e.shape)\n",
        "    break"
      ],
      "id": "rfZk8o1wVMnJ"
    },
    {
      "cell_type": "code",
      "execution_count": 33,
      "metadata": {
        "id": "4p-O7JPL_81g"
      },
      "outputs": [],
      "source": [
        "e_train = []\n",
        "for x, y, w, e in train_loader:\n",
        "  e_train.append(e)\n",
        "\n",
        "event_train = torch.cat(e_train, dim=0)"
      ],
      "id": "4p-O7JPL_81g"
    },
    {
      "cell_type": "code",
      "execution_count": 34,
      "metadata": {
        "id": "y8mAUKtjAJQm",
        "colab": {
          "base_uri": "https://localhost:8080/"
        },
        "outputId": "51828a2a-7f12-4ae5-a0b8-591dea7642b2"
      },
      "outputs": [
        {
          "output_type": "execute_result",
          "data": {
            "text/plain": [
              "torch.Size([10240])"
            ]
          },
          "metadata": {},
          "execution_count": 34
        }
      ],
      "source": [
        "event_train.shape"
      ],
      "id": "y8mAUKtjAJQm"
    },
    {
      "cell_type": "markdown",
      "metadata": {
        "id": "_-1hL3F0dZ94"
      },
      "source": [
        "## Original Code (comment out)"
      ],
      "id": "_-1hL3F0dZ94"
    },
    {
      "cell_type": "code",
      "execution_count": 35,
      "metadata": {
        "id": "3e064423"
      },
      "outputs": [],
      "source": [
        "# num_columns = Y_train.shape[1]\n",
        "# Y_train_cols = []\n",
        "# for i in range(num_columns):\n",
        "#     col = Y_train[:, i]\n",
        "#     var_name = 'Y' + str(i+1)\n",
        "#     locals()[var_name] = col\n",
        "#     Y_train_cols.append(locals()[var_name])\n",
        "\n",
        "# num_test_columns = Y_test.shape[1]\n",
        "# Y_test_cols = []\n",
        "# for i in range(num_test_columns):\n",
        "#     col = Y_test[:, i]\n",
        "#     var_name = 'Y' + str(i+1)\n",
        "#     locals()[var_name] = col\n",
        "#     Y_test_cols.append(locals()[var_name])"
      ],
      "id": "3e064423"
    },
    {
      "cell_type": "code",
      "execution_count": 36,
      "metadata": {
        "id": "50beee74"
      },
      "outputs": [],
      "source": [
        "# num_columns = W_train.shape[1]\n",
        "\n",
        "# W_train_cols = []\n",
        "\n",
        "# for i in range(num_columns):\n",
        "#   col = W_train[:, i]\n",
        "#   var_name = 'W' + str(i+1)\n",
        "#   locals()[var_name] = col\n",
        "#   W_train_cols.append(locals()[var_name])\n",
        "\n",
        "# num_test_columns = W_test.shape[1]\n",
        "\n",
        "# W_test_cols = []\n",
        "\n",
        "# for i in range(num_test_columns):\n",
        "#   col = W_test[:, i]\n",
        "#   var_name = 'W' + str(i+1)\n",
        "#   locals()[var_name] = col\n",
        "#   W_test_cols.append(locals()[var_name])"
      ],
      "id": "50beee74"
    },
    {
      "cell_type": "code",
      "execution_count": 37,
      "metadata": {
        "id": "c681806b",
        "scrolled": true
      },
      "outputs": [],
      "source": [
        "# print(W_train_cols[1].shape)\n",
        "# print(W_test_cols[1].shape)\n",
        "# print(Y_train_cols[1].shape)\n",
        "# print(Y_test_cols[1].shape)"
      ],
      "id": "c681806b"
    },
    {
      "cell_type": "markdown",
      "metadata": {
        "id": "5eBcr_gqdevp"
      },
      "source": [
        "## Model\n",
        "- Changed the loss function to match the data format using dataloader"
      ],
      "id": "5eBcr_gqdevp"
    },
    {
      "cell_type": "code",
      "execution_count": 38,
      "metadata": {
        "id": "2ee0f912"
      },
      "outputs": [],
      "source": [
        "import torch.nn as nn\n",
        "import torch.nn.functional as F"
      ],
      "id": "2ee0f912"
    },
    {
      "cell_type": "code",
      "execution_count": 39,
      "metadata": {
        "id": "56e001e5"
      },
      "outputs": [],
      "source": [
        "# Made by Xinyu and modified by Dr.Li and Jingyan\n",
        "class MultiTaskModel(nn.Module):\n",
        "    def __init__(self, in_features, out_features):\n",
        "        super(MultiTaskModel, self).__init__()\n",
        "        self.num_tasks = out_features\n",
        "        self.input_features = in_features\n",
        "\n",
        "        self.shared_layers = nn.Sequential(\n",
        "            nn.Linear(in_features, 128),\n",
        "            nn.ReLU(),\n",
        "            nn.AlphaDropout(0.1),\n",
        "\n",
        "            nn.Linear(128, 128),\n",
        "            nn.ReLU(),\n",
        "            nn.AlphaDropout(0.1),\n",
        "\n",
        "            nn.Linear(128, 128),\n",
        "            nn.ReLU(),\n",
        "            nn.AlphaDropout(0.1)\n",
        "        )\n",
        "# A Classic Multi Task Learning Framework\n",
        "        self.task_layers = nn.ModuleList([nn.Linear(128, 1) for _ in range(out_features)])#after your papaer I decided to use MTL to solve this prob\n",
        "\n",
        "# This forward propagation logic defines the chain propagation of our idea\n",
        "    def forward(self, x):\n",
        "        shared_output = self.shared_layers(x)\n",
        "        task_outputs = []\n",
        "        for i, task_layer in enumerate(self.task_layers):\n",
        "            if i == 0:\n",
        "                task_output = torch.sigmoid(task_layer(shared_output))\n",
        "            else:\n",
        "                task_output = torch.sigmoid(task_layer(shared_output)) * task_outputs[-1]\n",
        "            task_outputs.append(task_output)\n",
        "\n",
        "        return task_outputs# Here I difined the S(x)\n",
        "\n",
        "\n",
        "    # def custom_loss(self, task_outputs, Y_train_cols, W_train_cols):\n",
        "    #     loss = 0\n",
        "    #     for i, task_output in enumerate(task_outputs):\n",
        "    #         task_target = Y_train_cols[i].unsqueeze(1)\n",
        "    #         task_mask = W_train_cols[i].unsqueeze(1)\n",
        "    #         task_loss = F.binary_cross_entropy_with_logits(task_output, task_target.float(), reduction='none')\n",
        "    #         task_loss = task_loss * task_mask.float()\n",
        "    #         loss += task_loss.sum() / task_mask.sum()\n",
        "    #     return loss#There are how I use mask matrix W to control the loss function\n",
        "\n",
        "# Modified by Jingyan\n",
        "    def custom_loss(self, task_outputs, targets, masks):\n",
        "        loss = 0\n",
        "        for i, task_output in enumerate(task_outputs):\n",
        "            task_target = targets[i]\n",
        "            task_mask = masks[i]\n",
        "            task_loss = F.binary_cross_entropy(task_output, task_target.float(), reduction='none')\n",
        "            task_loss = task_loss * task_mask.float()\n",
        "            loss += task_loss.sum() / task_mask.sum()\n",
        "        return loss"
      ],
      "id": "56e001e5"
    },
    {
      "cell_type": "markdown",
      "source": [
        "## TASK 2"
      ],
      "metadata": {
        "id": "JUibJemuGRX3"
      },
      "id": "JUibJemuGRX3"
    },
    {
      "cell_type": "code",
      "source": [
        "!git clone https://github.com/suinleelab/attributionpriors.git"
      ],
      "metadata": {
        "colab": {
          "base_uri": "https://localhost:8080/"
        },
        "id": "ahwwDssuUWGY",
        "outputId": "8f3ce6df-d70d-4a78-d9ee-67849309548d"
      },
      "id": "ahwwDssuUWGY",
      "execution_count": 40,
      "outputs": [
        {
          "output_type": "stream",
          "name": "stdout",
          "text": [
            "Cloning into 'attributionpriors'...\n",
            "remote: Enumerating objects: 280, done.\u001b[K\n",
            "remote: Counting objects: 100% (21/21), done.\u001b[K\n",
            "remote: Compressing objects: 100% (8/8), done.\u001b[K\n",
            "remote: Total 280 (delta 16), reused 13 (delta 13), pack-reused 259\u001b[K\n",
            "Receiving objects: 100% (280/280), 97.55 MiB | 23.59 MiB/s, done.\n",
            "Resolving deltas: 100% (130/130), done.\n",
            "Updating files: 100% (37/37), done.\n"
          ]
        }
      ]
    },
    {
      "cell_type": "code",
      "source": [
        "#Zw\n",
        "from tqdm import tqdm\n",
        "import torch\n",
        "import sys\n",
        "import torch.nn as nn\n",
        "import torch.nn.functional as F\n",
        "sys.path.append('/content/attributionpriors/attributionpriors')\n",
        "from pytorch_ops import AttributionPriorExplainer\n",
        "class MultiTaskModel(nn.Module):\n",
        "  #typo fixed RJ\n",
        "  def __init__(self,in_features,out_features):\n",
        "    super(MultiTaskModel,self).__init__()\n",
        "    self.num_tasks=out_features\n",
        "    self.input_features=in_features\n",
        "    self.shared_layers=nn.Sequential(\n",
        "        nn.Linear(in_features,128),\n",
        "        nn.ReLU(),\n",
        "        nn.AlphaDropout(0.1),\n",
        "\n",
        "        nn.Linear(128,128),\n",
        "        nn.ReLU(),\n",
        "        nn.AlphaDropout(0.1),\n",
        "\n",
        "        nn.Linear(128,128),\n",
        "        nn.ReLU(),\n",
        "        nn.AlphaDropout(0.1)\n",
        "    )\n",
        "\n",
        "    self.task_layers=nn.ModuleList([nn.Linear(128,1) for _ in range(out_features)])\n",
        "\n",
        "  '''def forward(self,x):\n",
        "    shared_output=self.shared_layers(x)\n",
        "    task_outputs=[]\n",
        "    for i,task_layer in enumerate(self.task_layers):\n",
        "      if i==0:\n",
        "        task_output=torch.sigmoid(task_layer(shared_output))\n",
        "      else:\n",
        "        task_output=torch.sigmoid(task_layer(shared_output))*task_outputs[-1]\n",
        "      task_outputs.append(task_output)\n",
        "    return task_outputs'''\n",
        "\n",
        "\n",
        "\n",
        "  def forward(self, x):\n",
        "          # Get the output from shared layers\n",
        "          shared_output = self.shared_layers(x)\n",
        "          task_outputs = []\n",
        "          cumulative_product = None\n",
        "\n",
        "          # Iterate through each task layer to compute survival probability for each interval\n",
        "          for i, task_layer in enumerate(self.task_layers):\n",
        "              task_output = torch.sigmoid(task_layer(shared_output))\n",
        "              if i == 0:\n",
        "                  cumulative_product = task_output\n",
        "              else:\n",
        "                  cumulative_product *= task_output  # Apply Equation 2 by cumulatively multiplying probabilities\n",
        "\n",
        "              task_outputs.append(cumulative_product)  # Store the cumulative survival probability up to each interval\n",
        "\n",
        "          return task_outputs  # Return the list of cumulative survival probabilities\n",
        "\n",
        "\n",
        "\n",
        "\n",
        "  def custom_loss(self,task_outputs,targets,maskes):\n",
        "    loss=0\n",
        "    for i,task_output in enumerate(task_outputs):\n",
        "      task_target=targets[i]\n",
        "      task_mask=masks[i]\n",
        "      task_loss=F.binary_cross_entropy(task_output,task_target.float(),reduction='none')\n",
        "      task_loss=task_loss*task_mask.float()\n",
        "      loss+=task_loss.sum()/task_mask.sum()\n",
        "\n",
        "    return loss"
      ],
      "metadata": {
        "id": "Txxxkx8sGN5A"
      },
      "id": "Txxxkx8sGN5A",
      "execution_count": 43,
      "outputs": []
    },
    {
      "cell_type": "markdown",
      "source": [
        "##Task 2 Training"
      ],
      "metadata": {
        "id": "O2iQlHMgJ36Z"
      },
      "id": "O2iQlHMgJ36Z"
    },
    {
      "cell_type": "code",
      "source": [
        "#zw\n",
        "Am=AttributionPriorExplainer(train_dataset,args.batch_size)\n",
        "model=MultiTaskModel(in_features,out_features).to(device)\n",
        "model.train()\n",
        "optimizer=torch.optim.Adam(model.parameters(),lr=0.001)\n",
        "\n",
        "loss_2=[]\n",
        "epoches=150\n",
        "for epoch in range(epoches):\n",
        "  total_loss=0\n",
        "  progress=tqdm(enumerate(train_loader),total=len(train_loader),desc=f\"Epoch {epoch+1}/{epoches}\")\n",
        "  for batch,(x_train,targets,masks,event_train) in progress:\n",
        "    x_train=x_train.to(device).float()\n",
        "    targets=[target.to(device).float() for target in targets]\n",
        "    masks=[mask.to(device).float() for mask in masks]\n",
        "    optimizer.zero_grad()\n",
        "    task = model(x_train)\n",
        "    expected_g = Am.shap_values(model,x_train)\n",
        "    print(torch.all(expected_g==0))\n",
        "    interested=expected_g[:,[1, 133, 134, 135, 136, 117, 118, 119, 120, 121, 122, 123, 124, 125, 126]]\n",
        "    non_interested=expected_g[:,[i for i in range(expected_g.shape[1]) if i not in [1,133,134, 135, 136, 117, 118, 119, 120, 121, 122, 123, 124, 125, 126]]]\n",
        "\n",
        "    t_regress=0\n",
        "    for i in range(expected_g.shape[1]):\n",
        "      t_regress=t_regress+torch.norm(expected_g[:,i],p=2)\n",
        "    avg_reg=t_regress/expected_g.shape[1]\n",
        "\n",
        "    t_in_regress=0\n",
        "    for i in range(interested.shape[1]):\n",
        "      in_regress=torch.norm(interested[:,i],p=2)\n",
        "      t_in_regress=F.relu(avg_reg-in_regress)\n",
        "\n",
        "    t_notin_regress=0\n",
        "    for i in range(not_interested.shape[1]):\n",
        "      t_notin_regress+=torch.norm(not_interested[:,i],p=2)\n",
        "\n",
        "    l1=2.2\n",
        "    l2=0.2\n",
        "    loss=model.custom_loss(task,targets,masks)+l1*t_in_regress+l2*t_notin_regress\n",
        "    loss.backward()\n",
        "    optimizer.step()\n",
        "    total_loss+=loss.item()\n",
        "    progress.set_postfix({'Loss':loss.item()})\n",
        "\n",
        "  avgloss=total_loss/len(train_loader)\n",
        "  loss_2.append(avgloss)\n",
        "  print(f\"Eng of Epoch {epoch+1},average loss:{avgloss:.4f}\")\n",
        "print(\"Task complete\")"
      ],
      "metadata": {
        "id": "MjUNQEjKJ2lD"
      },
      "id": "MjUNQEjKJ2lD",
      "execution_count": null,
      "outputs": []
    },
    {
      "cell_type": "code",
      "execution_count": null,
      "metadata": {
        "id": "xa2AwAbsNK8Z"
      },
      "outputs": [],
      "source": [
        "# Import the attribution package by Jingyan\n",
        "# Please use the package I modified\n",
        "# I modified the '/content/attributionpriors/attributionpriors/pytorch_ops.py' file\n",
        "# to accomodate for multitask learning usecase\n",
        "# You can see the modifications in the github if interested\n",
        "!git clone https://github.com/jingyanjiang/attributionpriors_multitask.git\n",
        "!pip install ./attributionpriors_multitask\n",
        "\n",
        "# This github is important, you may look into this to modify CF"
      ],
      "id": "xa2AwAbsNK8Z"
    },
    {
      "cell_type": "markdown",
      "metadata": {
        "id": "mb0UBetYr9HM"
      },
      "source": [
        "## Training\n",
        "- Rewrote the training part"
      ],
      "id": "mb0UBetYr9HM"
    },
    {
      "cell_type": "code",
      "execution_count": 44,
      "metadata": {
        "id": "bC6-x4uOXp8z",
        "colab": {
          "base_uri": "https://localhost:8080/",
          "height": 383
        },
        "outputId": "d1bce553-239a-4321-c02f-99aec7d4f8ba"
      },
      "outputs": [
        {
          "output_type": "error",
          "ename": "RuntimeError",
          "evalue": "Found no NVIDIA driver on your system. Please check that you have an NVIDIA GPU and installed a driver from http://www.nvidia.com/Download/index.aspx",
          "traceback": [
            "\u001b[0;31m---------------------------------------------------------------------------\u001b[0m",
            "\u001b[0;31mRuntimeError\u001b[0m                              Traceback (most recent call last)",
            "\u001b[0;32m<ipython-input-44-ad6f961bf5b0>\u001b[0m in \u001b[0;36m<cell line: 8>\u001b[0;34m()\u001b[0m\n\u001b[1;32m      6\u001b[0m \u001b[0mAPExp\u001b[0m \u001b[0;34m=\u001b[0m \u001b[0mAttributionPriorExplainer\u001b[0m\u001b[0;34m(\u001b[0m\u001b[0mtrain_dataset\u001b[0m\u001b[0;34m,\u001b[0m \u001b[0margs\u001b[0m\u001b[0;34m.\u001b[0m\u001b[0mbatch_size\u001b[0m\u001b[0;34m,\u001b[0m \u001b[0mk\u001b[0m\u001b[0;34m=\u001b[0m\u001b[0;36m1\u001b[0m\u001b[0;34m)\u001b[0m\u001b[0;34m\u001b[0m\u001b[0;34m\u001b[0m\u001b[0m\n\u001b[1;32m      7\u001b[0m \u001b[0;34m\u001b[0m\u001b[0m\n\u001b[0;32m----> 8\u001b[0;31m \u001b[0mmodel\u001b[0m \u001b[0;34m=\u001b[0m \u001b[0mMultiTaskModel\u001b[0m\u001b[0;34m(\u001b[0m\u001b[0min_features\u001b[0m\u001b[0;34m,\u001b[0m \u001b[0mout_features\u001b[0m\u001b[0;34m)\u001b[0m\u001b[0;34m.\u001b[0m\u001b[0mto\u001b[0m\u001b[0;34m(\u001b[0m\u001b[0mdevice\u001b[0m\u001b[0;34m)\u001b[0m\u001b[0;34m\u001b[0m\u001b[0;34m\u001b[0m\u001b[0m\n\u001b[0m\u001b[1;32m      9\u001b[0m \u001b[0mmodel\u001b[0m \u001b[0;34m=\u001b[0m \u001b[0mmodel\u001b[0m\u001b[0;34m.\u001b[0m\u001b[0mto\u001b[0m\u001b[0;34m(\u001b[0m\u001b[0mdevice\u001b[0m\u001b[0;34m)\u001b[0m\u001b[0;34m\u001b[0m\u001b[0;34m\u001b[0m\u001b[0m\n\u001b[1;32m     10\u001b[0m \u001b[0mmodel\u001b[0m\u001b[0;34m.\u001b[0m\u001b[0mtrain\u001b[0m\u001b[0;34m(\u001b[0m\u001b[0;34m)\u001b[0m\u001b[0;34m\u001b[0m\u001b[0;34m\u001b[0m\u001b[0m\n",
            "\u001b[0;32m/usr/local/lib/python3.10/dist-packages/torch/nn/modules/module.py\u001b[0m in \u001b[0;36mto\u001b[0;34m(self, *args, **kwargs)\u001b[0m\n\u001b[1;32m   1150\u001b[0m             \u001b[0;32mreturn\u001b[0m \u001b[0mt\u001b[0m\u001b[0;34m.\u001b[0m\u001b[0mto\u001b[0m\u001b[0;34m(\u001b[0m\u001b[0mdevice\u001b[0m\u001b[0;34m,\u001b[0m \u001b[0mdtype\u001b[0m \u001b[0;32mif\u001b[0m \u001b[0mt\u001b[0m\u001b[0;34m.\u001b[0m\u001b[0mis_floating_point\u001b[0m\u001b[0;34m(\u001b[0m\u001b[0;34m)\u001b[0m \u001b[0;32mor\u001b[0m \u001b[0mt\u001b[0m\u001b[0;34m.\u001b[0m\u001b[0mis_complex\u001b[0m\u001b[0;34m(\u001b[0m\u001b[0;34m)\u001b[0m \u001b[0;32melse\u001b[0m \u001b[0;32mNone\u001b[0m\u001b[0;34m,\u001b[0m \u001b[0mnon_blocking\u001b[0m\u001b[0;34m)\u001b[0m\u001b[0;34m\u001b[0m\u001b[0;34m\u001b[0m\u001b[0m\n\u001b[1;32m   1151\u001b[0m \u001b[0;34m\u001b[0m\u001b[0m\n\u001b[0;32m-> 1152\u001b[0;31m         \u001b[0;32mreturn\u001b[0m \u001b[0mself\u001b[0m\u001b[0;34m.\u001b[0m\u001b[0m_apply\u001b[0m\u001b[0;34m(\u001b[0m\u001b[0mconvert\u001b[0m\u001b[0;34m)\u001b[0m\u001b[0;34m\u001b[0m\u001b[0;34m\u001b[0m\u001b[0m\n\u001b[0m\u001b[1;32m   1153\u001b[0m \u001b[0;34m\u001b[0m\u001b[0m\n\u001b[1;32m   1154\u001b[0m     def register_full_backward_pre_hook(\n",
            "\u001b[0;32m/usr/local/lib/python3.10/dist-packages/torch/nn/modules/module.py\u001b[0m in \u001b[0;36m_apply\u001b[0;34m(self, fn, recurse)\u001b[0m\n\u001b[1;32m    800\u001b[0m         \u001b[0;32mif\u001b[0m \u001b[0mrecurse\u001b[0m\u001b[0;34m:\u001b[0m\u001b[0;34m\u001b[0m\u001b[0;34m\u001b[0m\u001b[0m\n\u001b[1;32m    801\u001b[0m             \u001b[0;32mfor\u001b[0m \u001b[0mmodule\u001b[0m \u001b[0;32min\u001b[0m \u001b[0mself\u001b[0m\u001b[0;34m.\u001b[0m\u001b[0mchildren\u001b[0m\u001b[0;34m(\u001b[0m\u001b[0;34m)\u001b[0m\u001b[0;34m:\u001b[0m\u001b[0;34m\u001b[0m\u001b[0;34m\u001b[0m\u001b[0m\n\u001b[0;32m--> 802\u001b[0;31m                 \u001b[0mmodule\u001b[0m\u001b[0;34m.\u001b[0m\u001b[0m_apply\u001b[0m\u001b[0;34m(\u001b[0m\u001b[0mfn\u001b[0m\u001b[0;34m)\u001b[0m\u001b[0;34m\u001b[0m\u001b[0;34m\u001b[0m\u001b[0m\n\u001b[0m\u001b[1;32m    803\u001b[0m \u001b[0;34m\u001b[0m\u001b[0m\n\u001b[1;32m    804\u001b[0m         \u001b[0;32mdef\u001b[0m \u001b[0mcompute_should_use_set_data\u001b[0m\u001b[0;34m(\u001b[0m\u001b[0mtensor\u001b[0m\u001b[0;34m,\u001b[0m \u001b[0mtensor_applied\u001b[0m\u001b[0;34m)\u001b[0m\u001b[0;34m:\u001b[0m\u001b[0;34m\u001b[0m\u001b[0;34m\u001b[0m\u001b[0m\n",
            "\u001b[0;32m/usr/local/lib/python3.10/dist-packages/torch/nn/modules/module.py\u001b[0m in \u001b[0;36m_apply\u001b[0;34m(self, fn, recurse)\u001b[0m\n\u001b[1;32m    800\u001b[0m         \u001b[0;32mif\u001b[0m \u001b[0mrecurse\u001b[0m\u001b[0;34m:\u001b[0m\u001b[0;34m\u001b[0m\u001b[0;34m\u001b[0m\u001b[0m\n\u001b[1;32m    801\u001b[0m             \u001b[0;32mfor\u001b[0m \u001b[0mmodule\u001b[0m \u001b[0;32min\u001b[0m \u001b[0mself\u001b[0m\u001b[0;34m.\u001b[0m\u001b[0mchildren\u001b[0m\u001b[0;34m(\u001b[0m\u001b[0;34m)\u001b[0m\u001b[0;34m:\u001b[0m\u001b[0;34m\u001b[0m\u001b[0;34m\u001b[0m\u001b[0m\n\u001b[0;32m--> 802\u001b[0;31m                 \u001b[0mmodule\u001b[0m\u001b[0;34m.\u001b[0m\u001b[0m_apply\u001b[0m\u001b[0;34m(\u001b[0m\u001b[0mfn\u001b[0m\u001b[0;34m)\u001b[0m\u001b[0;34m\u001b[0m\u001b[0;34m\u001b[0m\u001b[0m\n\u001b[0m\u001b[1;32m    803\u001b[0m \u001b[0;34m\u001b[0m\u001b[0m\n\u001b[1;32m    804\u001b[0m         \u001b[0;32mdef\u001b[0m \u001b[0mcompute_should_use_set_data\u001b[0m\u001b[0;34m(\u001b[0m\u001b[0mtensor\u001b[0m\u001b[0;34m,\u001b[0m \u001b[0mtensor_applied\u001b[0m\u001b[0;34m)\u001b[0m\u001b[0;34m:\u001b[0m\u001b[0;34m\u001b[0m\u001b[0;34m\u001b[0m\u001b[0m\n",
            "\u001b[0;32m/usr/local/lib/python3.10/dist-packages/torch/nn/modules/module.py\u001b[0m in \u001b[0;36m_apply\u001b[0;34m(self, fn, recurse)\u001b[0m\n\u001b[1;32m    823\u001b[0m             \u001b[0;31m# `with torch.no_grad():`\u001b[0m\u001b[0;34m\u001b[0m\u001b[0;34m\u001b[0m\u001b[0m\n\u001b[1;32m    824\u001b[0m             \u001b[0;32mwith\u001b[0m \u001b[0mtorch\u001b[0m\u001b[0;34m.\u001b[0m\u001b[0mno_grad\u001b[0m\u001b[0;34m(\u001b[0m\u001b[0;34m)\u001b[0m\u001b[0;34m:\u001b[0m\u001b[0;34m\u001b[0m\u001b[0;34m\u001b[0m\u001b[0m\n\u001b[0;32m--> 825\u001b[0;31m                 \u001b[0mparam_applied\u001b[0m \u001b[0;34m=\u001b[0m \u001b[0mfn\u001b[0m\u001b[0;34m(\u001b[0m\u001b[0mparam\u001b[0m\u001b[0;34m)\u001b[0m\u001b[0;34m\u001b[0m\u001b[0;34m\u001b[0m\u001b[0m\n\u001b[0m\u001b[1;32m    826\u001b[0m             \u001b[0mshould_use_set_data\u001b[0m \u001b[0;34m=\u001b[0m \u001b[0mcompute_should_use_set_data\u001b[0m\u001b[0;34m(\u001b[0m\u001b[0mparam\u001b[0m\u001b[0;34m,\u001b[0m \u001b[0mparam_applied\u001b[0m\u001b[0;34m)\u001b[0m\u001b[0;34m\u001b[0m\u001b[0;34m\u001b[0m\u001b[0m\n\u001b[1;32m    827\u001b[0m             \u001b[0;32mif\u001b[0m \u001b[0mshould_use_set_data\u001b[0m\u001b[0;34m:\u001b[0m\u001b[0;34m\u001b[0m\u001b[0;34m\u001b[0m\u001b[0m\n",
            "\u001b[0;32m/usr/local/lib/python3.10/dist-packages/torch/nn/modules/module.py\u001b[0m in \u001b[0;36mconvert\u001b[0;34m(t)\u001b[0m\n\u001b[1;32m   1148\u001b[0m                 return t.to(device, dtype if t.is_floating_point() or t.is_complex() else None,\n\u001b[1;32m   1149\u001b[0m                             non_blocking, memory_format=convert_to_format)\n\u001b[0;32m-> 1150\u001b[0;31m             \u001b[0;32mreturn\u001b[0m \u001b[0mt\u001b[0m\u001b[0;34m.\u001b[0m\u001b[0mto\u001b[0m\u001b[0;34m(\u001b[0m\u001b[0mdevice\u001b[0m\u001b[0;34m,\u001b[0m \u001b[0mdtype\u001b[0m \u001b[0;32mif\u001b[0m \u001b[0mt\u001b[0m\u001b[0;34m.\u001b[0m\u001b[0mis_floating_point\u001b[0m\u001b[0;34m(\u001b[0m\u001b[0;34m)\u001b[0m \u001b[0;32mor\u001b[0m \u001b[0mt\u001b[0m\u001b[0;34m.\u001b[0m\u001b[0mis_complex\u001b[0m\u001b[0;34m(\u001b[0m\u001b[0;34m)\u001b[0m \u001b[0;32melse\u001b[0m \u001b[0;32mNone\u001b[0m\u001b[0;34m,\u001b[0m \u001b[0mnon_blocking\u001b[0m\u001b[0;34m)\u001b[0m\u001b[0;34m\u001b[0m\u001b[0;34m\u001b[0m\u001b[0m\n\u001b[0m\u001b[1;32m   1151\u001b[0m \u001b[0;34m\u001b[0m\u001b[0m\n\u001b[1;32m   1152\u001b[0m         \u001b[0;32mreturn\u001b[0m \u001b[0mself\u001b[0m\u001b[0;34m.\u001b[0m\u001b[0m_apply\u001b[0m\u001b[0;34m(\u001b[0m\u001b[0mconvert\u001b[0m\u001b[0;34m)\u001b[0m\u001b[0;34m\u001b[0m\u001b[0;34m\u001b[0m\u001b[0m\n",
            "\u001b[0;32m/usr/local/lib/python3.10/dist-packages/torch/cuda/__init__.py\u001b[0m in \u001b[0;36m_lazy_init\u001b[0;34m()\u001b[0m\n\u001b[1;32m    300\u001b[0m         \u001b[0;32mif\u001b[0m \u001b[0;34m\"CUDA_MODULE_LOADING\"\u001b[0m \u001b[0;32mnot\u001b[0m \u001b[0;32min\u001b[0m \u001b[0mos\u001b[0m\u001b[0;34m.\u001b[0m\u001b[0menviron\u001b[0m\u001b[0;34m:\u001b[0m\u001b[0;34m\u001b[0m\u001b[0;34m\u001b[0m\u001b[0m\n\u001b[1;32m    301\u001b[0m             \u001b[0mos\u001b[0m\u001b[0;34m.\u001b[0m\u001b[0menviron\u001b[0m\u001b[0;34m[\u001b[0m\u001b[0;34m\"CUDA_MODULE_LOADING\"\u001b[0m\u001b[0;34m]\u001b[0m \u001b[0;34m=\u001b[0m \u001b[0;34m\"LAZY\"\u001b[0m\u001b[0;34m\u001b[0m\u001b[0;34m\u001b[0m\u001b[0m\n\u001b[0;32m--> 302\u001b[0;31m         \u001b[0mtorch\u001b[0m\u001b[0;34m.\u001b[0m\u001b[0m_C\u001b[0m\u001b[0;34m.\u001b[0m\u001b[0m_cuda_init\u001b[0m\u001b[0;34m(\u001b[0m\u001b[0;34m)\u001b[0m\u001b[0;34m\u001b[0m\u001b[0;34m\u001b[0m\u001b[0m\n\u001b[0m\u001b[1;32m    303\u001b[0m         \u001b[0;31m# Some of the queued calls may reentrantly call _lazy_init();\u001b[0m\u001b[0;34m\u001b[0m\u001b[0;34m\u001b[0m\u001b[0m\n\u001b[1;32m    304\u001b[0m         \u001b[0;31m# we need to just return without initializing in that case.\u001b[0m\u001b[0;34m\u001b[0m\u001b[0;34m\u001b[0m\u001b[0m\n",
            "\u001b[0;31mRuntimeError\u001b[0m: Found no NVIDIA driver on your system. Please check that you have an NVIDIA GPU and installed a driver from http://www.nvidia.com/Download/index.aspx"
          ]
        }
      ],
      "source": [
        "# Jingyan's attribution\n",
        "import torch.cuda as cuda\n",
        "from attributionpriors.pytorch_ops import AttributionPriorExplainer\n",
        "from tqdm import tqdm\n",
        "\n",
        "APExp = AttributionPriorExplainer(train_dataset, args.batch_size, k=1)\n",
        "\n",
        "model = MultiTaskModel(in_features, out_features).to(device)\n",
        "model = model.to(device)\n",
        "model.train()\n",
        "optimizer = torch.optim.Adam(model.parameters(), lr=0.001)\n",
        "\n",
        "# During loss training, please carefully observe\n",
        "# where the gradient integral is calculated,\n",
        "# and then find the corresponding source code.\n",
        "# In the logic of the source code, replace the baseline with CF\n",
        "\n",
        "#Task2 Done: I have found where the gradient integral is calculated and  the corresponding source code.\n",
        "# It is in the \"_get_grads\" function in /content/attributionpriors_multitask/attributionpriors/pytorch_ops.py\n",
        "# And I replaced the \"_get_grads\" function with the \"_get_grads\" of /content/attributionpriors/attributionpriors/pytorch_ops.py\n",
        "\n",
        "\n",
        "\n",
        "loss_records = []\n",
        "num_epochs = 150\n",
        "for epoch in range(num_epochs):\n",
        "    total_loss = 0\n",
        "    progress_bar = tqdm(enumerate(train_loader), total=len(train_loader), desc=f\"Epoch {epoch + 1}/{num_epochs}\")\n",
        "\n",
        "    for batch_idx, (X_train, targets, masks, event_train) in progress_bar:\n",
        "        X_train = X_train.to(device)\n",
        "        targets = [target.to(device) for target in targets]\n",
        "        masks = [mask.to(device) for mask in masks]\n",
        "\n",
        "\n",
        "        optimizer.zero_grad()\n",
        "        task_outputs_ = model(X_train)\n",
        "        expected_gradients = APExp.shap_values(model, X_train)\n",
        "        print(torch.all(expected_gradients == 0))\n",
        "\n",
        "        interested = expected_gradients[:, [1, 133, 134, 135, 136, 117, 118, 119, 120, 121, 122, 123, 124, 125, 126]]\n",
        "        not_interested = expected_gradients[:, [i for i in range(expected_gradients.shape[1]) if i not in [1, 133, 134, 135, 136, 117, 118, 119, 120, 121, 122, 123, 124, 125, 126]]]\n",
        "\n",
        "\n",
        "        # All features\n",
        "        # p=2 means using the L2 norm\n",
        "        total_reg = 0\n",
        "        for i in range(expected_gradients.shape[1]):\n",
        "            total_reg += torch.norm(expected_gradients[:, i], p=2)\n",
        "        avg_total_reg = total_reg/expected_gradients.shape[1]\n",
        "\n",
        "        # Features that we are interested\n",
        "        total_in_reg = 0\n",
        "        for i in range(interested.shape[1]):\n",
        "            in_reg = torch.norm(interested[:, i], p=2)\n",
        "            total_in_reg += F.relu(avg_total_reg - in_reg)\n",
        "\n",
        "        # Features that we are not interested\n",
        "        total_notin_reg = 0\n",
        "        for i in range(not_interested.shape[1]):\n",
        "            total_notin_reg += torch.norm(not_interested[:, i], p=2)\n",
        "\n",
        "        # weights that could be adjusted\n",
        "        lambda1 = 2\n",
        "        lambda2 = 0.1\n",
        "\n",
        "        loss = model.custom_loss(task_outputs_, targets, masks) + lambda1 * total_in_reg + lambda2 * total_notin_reg\n",
        "        loss.backward()\n",
        "        optimizer.step()\n",
        "\n",
        "        total_loss += loss.item()\n",
        "        progress_bar.set_postfix({'Loss': loss.item()})\n",
        "\n",
        "    avg_loss = total_loss / len(train_loader)\n",
        "    loss_records.append(avg_loss)\n",
        "    print(f'End of Epoch {epoch + 1}, Average Loss: {avg_loss:.4f}')\n",
        "\n",
        "print('Training completed')\n"
      ],
      "id": "bC6-x4uOXp8z"
    },
    {
      "cell_type": "code",
      "source": [
        "#Modified Loss Record\n",
        "print(loss_records)"
      ],
      "metadata": {
        "colab": {
          "base_uri": "https://localhost:8080/"
        },
        "id": "63biS1ty2Z7S",
        "outputId": "72eed37e-4d0a-424c-e8cf-d9a45bc845d6"
      },
      "id": "63biS1ty2Z7S",
      "execution_count": null,
      "outputs": [
        {
          "output_type": "stream",
          "name": "stdout",
          "text": [
            "[3.6222418785095214, 3.3986793994903564, 3.2803820610046386, 3.2001343250274656, 3.1751094818115235, 3.1363194942474366, 3.081318235397339, 3.0637414932250975, 3.011402130126953, 2.998231363296509, 2.9621988773345946, 2.949608087539673, 2.924171781539917, 2.877492094039917, 2.8630433559417723, 2.8318710803985594, 2.8041711807250977, 2.7720366954803466, 2.723269891738892, 2.705330324172974, 2.67221736907959, 2.6358150482177733, 2.596380424499512, 2.5786867141723633, 2.5422884464263915, 2.500581455230713, 2.464509105682373, 2.442164897918701, 2.417733907699585, 2.3911755084991455, 2.356684160232544, 2.3570005893707275, 2.3435340404510496, 2.3035592079162597, 2.2773375511169434, 2.267999696731567, 2.2259497165679933, 2.2532034873962403, 2.186170244216919, 2.2139523029327393, 2.162960958480835, 2.156670331954956, 2.1233832359313967, 2.1205116748809814, 2.1066751956939695, 2.084565281867981, 2.089218521118164, 2.0727093696594237, 2.0576144218444825, 2.035208511352539, 2.0214919328689573, 2.009360837936401, 2.025974416732788, 2.0199315786361693, 1.9903259754180909, 2.023298406600952, 1.9770461797714234, 1.9998960971832276, 1.9540673732757567, 1.94525146484375, 1.9466502666473389, 1.9024163961410523, 1.9215954065322876, 1.9044320583343506, 1.891793704032898, 1.8881128549575805, 1.8690292119979859, 1.8676571369171142, 1.8542255640029908, 1.854237699508667, 1.8117117643356324, 1.8184050559997558, 1.8472613096237183, 1.7901444673538207, 1.7957049131393432, 1.7713217258453369, 1.761323666572571, 1.7658775091171264, 1.764034342765808, 1.7370705604553223, 1.7322913885116578, 1.7507110357284545, 1.764490818977356, 1.7374946117401122, 1.7015475511550904, 1.7224238872528077, 1.70484299659729, 1.6994801759719849, 1.671468162536621, 1.6842226266860962, 1.682888960838318, 1.703225326538086, 1.6670404195785522, 1.6724587440490724, 1.6754067420959473, 1.6681288480758667, 1.637974238395691, 1.6665318250656127, 1.6212694883346557, 1.6539762020111084, 1.6407768249511718, 1.6252496004104615, 1.6288403511047362, 1.633018469810486, 1.6305669784545898, 1.641805648803711, 1.6068423986434937, 1.636889100074768, 1.6010353088378906, 1.617817997932434, 1.608065915107727, 1.6068344354629516, 1.6003378868103026, 1.6116440296173096, 1.5895034790039062, 1.564116621017456, 1.6059956073760986, 1.5997514724731445, 1.5856323719024659, 1.5961782693862916, 1.5826945781707764, 1.592992353439331, 1.5668563365936279, 1.5785860300064087, 1.5746722221374512, 1.5678197860717773, 1.6244678020477294, 1.5713196277618409, 1.5840862035751342, 1.562496256828308, 1.5769288778305053, 1.5635249853134154, 1.5480721235275268, 1.6169479370117188, 1.5679182052612304, 1.5571798801422119, 1.5597248077392578, 1.5484520673751831, 1.5417694568634033, 1.5458908081054688, 1.5534146070480346, 1.5990613460540772, 1.5473010778427123, 1.5685896396636962, 1.547576642036438, 1.5593233823776245, 1.5334182977676392, 1.5493595123291015, 1.5594587564468383, 1.5361838340759277]\n"
          ]
        }
      ]
    },
    {
      "cell_type": "code",
      "execution_count": null,
      "metadata": {
        "id": "b81589df",
        "colab": {
          "base_uri": "https://localhost:8080/"
        },
        "outputId": "4b2a88f7-e177-43fb-d3e6-1503825be05d"
      },
      "outputs": [
        {
          "output_type": "stream",
          "name": "stdout",
          "text": [
            "[3.666252613067627, 3.4814220905303954, 3.3262331962585447, 3.23328013420105, 3.1964033603668214, 3.154314422607422, 3.1346593856811524, 3.0696271419525147, 3.0750645637512206, 3.005586767196655, 3.0025816917419434, 2.9724166870117186, 2.9256400585174562, 2.9025859355926515, 2.883230686187744, 2.84629807472229, 2.798002243041992, 2.7962549209594725, 2.774974155426025, 2.7323604583740235, 2.7014041423797606, 2.669131946563721, 2.6307671070098877, 2.5806726455688476, 2.583377313613892, 2.5456118106842043, 2.527736711502075, 2.477230453491211, 2.451095724105835, 2.4430301666259764, 2.4258108139038086, 2.3961738109588624, 2.3871872425079346, 2.3421319007873533, 2.3330599308013915, 2.2968728065490724, 2.280667018890381, 2.2612729549407957, 2.2328267097473145, 2.215542793273926, 2.184031867980957, 2.183339738845825, 2.1724669456481935, 2.15964994430542, 2.162837362289429, 2.153589391708374, 2.1386417865753176, 2.133381223678589, 2.1059983730316163, 2.112188720703125, 2.0707212924957275, 2.0744330406188967, 2.081255340576172, 2.0700459480285645, 2.0690088748931883, 2.0561358451843263, 2.046294021606445, 2.0310946226119997, 2.0253505229949953, 2.020554518699646, 2.0043140172958376, 1.9961414337158203, 1.9817543268203734, 2.0005938529968263, 1.9970922946929932, 1.9830177307128907, 1.9726929187774658, 1.953308391571045, 1.9366410732269288, 1.945747447013855, 1.9174756765365601, 1.9213319301605225, 1.8987177610397339, 1.9058433294296264, 1.889107918739319, 1.8898442745208741, 1.8753751993179322, 1.8445358753204346, 1.8535232305526734, 1.844755506515503, 1.8212821722030639, 1.8255571365356444, 1.8205164909362792, 1.819112730026245, 1.7916071653366088, 1.7862761735916137, 1.779426383972168, 1.7716898918151855, 1.774709701538086, 1.768546223640442, 1.7608978271484375, 1.7562818765640258, 1.749836277961731, 1.7310211896896361, 1.7174944639205934, 1.727780556678772, 1.7323891401290894, 1.708928155899048, 1.7169893741607667, 1.6993458032608033, 1.7099669456481934, 1.7114411830902099, 1.705720639228821, 1.6784329414367676, 1.6869660854339599, 1.6784246206283568, 1.6834600687026977, 1.6667629480361938, 1.6755870580673218, 1.6706929922103881, 1.6555153369903564, 1.6706242561340332, 1.6316011190414428, 1.6434859752655029, 1.6677763223648072, 1.6251282215118408, 1.6609822034835815, 1.6276551961898804, 1.6481799602508544, 1.608324909210205, 1.6276364088058473, 1.6284923553466797, 1.6073055028915406, 1.6076356649398804, 1.6025873184204102, 1.6172970056533813, 1.6002420902252197, 1.6087765455245973, 1.6315401792526245, 1.5974398851394653, 1.5961278200149536, 1.584415340423584, 1.5717760562896728, 1.5997216939926147, 1.584774136543274, 1.5911328315734863, 1.5844802141189576, 1.562342643737793, 1.5882227897644043, 1.5561299085617066, 1.6133210420608521, 1.5872041702270507, 1.586617636680603, 1.5609597444534302, 1.6053374528884887, 1.5660180568695068, 1.5652041673660277, 1.6048939943313598, 1.5667007446289063, 1.5531502485275268]\n"
          ]
        }
      ],
      "source": [
        "#Previous Loss Record\n",
        "#print(loss_records)"
      ],
      "id": "b81589df"
    },
    {
      "cell_type": "code",
      "execution_count": null,
      "metadata": {
        "id": "UGKCtD8nAq7x",
        "colab": {
          "base_uri": "https://localhost:8080/",
          "height": 448
        },
        "outputId": "185b39a8-47b0-45ea-fe31-2dbc8de3ad76"
      },
      "outputs": [
        {
          "output_type": "execute_result",
          "data": {
            "text/plain": [
              "[<matplotlib.lines.Line2D at 0x79fbb50adf90>]"
            ]
          },
          "metadata": {},
          "execution_count": 53
        },
        {
          "output_type": "display_data",
          "data": {
            "text/plain": [
              "<Figure size 640x480 with 1 Axes>"
            ],
            "image/png": "[encoded data removed]"
          },
          "metadata": {}
        }
      ],
      "source": [
        "#Modified Plot\n",
        "import matplotlib.pyplot as plt\n",
        "plt.plot(loss_records)"
      ],
      "id": "UGKCtD8nAq7x"
    },
    {
      "cell_type": "code",
      "source": [
        "#Previous Plot\n",
        "#import matplotlib.pyplot as plt\n",
        "#plt.plot(loss_records)"
      ],
      "metadata": {
        "colab": {
          "base_uri": "https://localhost:8080/",
          "height": 448
        },
        "id": "myzZA4OZ-uTd",
        "outputId": "21859ac4-e621-4115-928a-f2704350964a"
      },
      "id": "myzZA4OZ-uTd",
      "execution_count": null,
      "outputs": [
        {
          "output_type": "execute_result",
          "data": {
            "text/plain": [
              "[<matplotlib.lines.Line2D at 0x79fbb5059ff0>]"
            ]
          },
          "metadata": {},
          "execution_count": 49
        },
        {
          "output_type": "display_data",
          "data": {
            "text/plain": [
              "<Figure size 640x480 with 1 Axes>"
            ],
            "image/png": "[encoded data removed]"
          },
          "metadata": {}
        }
      ]
    },
    {
      "cell_type": "code",
      "execution_count": null,
      "metadata": {
        "id": "iSxsp2FRMnNU"
      },
      "outputs": [],
      "source": [
        "summed_gradients_all = expected_gradients.sum(dim=0)"
      ],
      "id": "iSxsp2FRMnNU"
    },
    {
      "cell_type": "code",
      "execution_count": null,
      "metadata": {
        "id": "fKatDVqJM8Zc",
        "colab": {
          "base_uri": "https://localhost:8080/"
        },
        "outputId": "e881a534-972f-46cc-c21a-e83c3b7bf240"
      },
      "outputs": [
        {
          "output_type": "execute_result",
          "data": {
            "text/plain": [
              "tensor([ 1.2288e-03, -4.0638e-01, -1.8742e-03,  2.5764e-04,  4.2644e-03,\n",
              "        -1.2548e-04, -1.3526e-01,  2.9384e-04,  1.2926e-04,  1.7890e-04,\n",
              "         4.6175e-04,  8.4609e-04,  4.9329e-04, -7.7540e-04, -8.0256e-04,\n",
              "         0.0000e+00, -5.3290e-04,  7.1685e-04, -2.7344e-03, -4.5194e-03,\n",
              "        -1.4743e-03, -1.3987e-03, -8.7955e-04, -7.2946e-04, -4.0964e-03,\n",
              "        -3.7826e-03, -1.2169e-04,  1.9883e-03,  8.5887e-04,  1.2729e-04,\n",
              "         3.2690e-04, -2.1105e-03,  9.0442e-04,  2.7104e-06, -9.2861e-03,\n",
              "        -3.1225e-04,  3.6492e-04, -9.9503e-04, -7.2641e-03, -2.2009e-03,\n",
              "         6.3323e-04,  1.3080e-03, -7.0719e-04,  6.3374e-05,  7.3886e-04,\n",
              "         6.3428e-04, -4.9960e-04, -6.6025e-04, -1.4678e-04, -3.5943e-05,\n",
              "        -2.5496e-03, -3.1697e-04,  1.1653e-03, -3.3420e-02,  7.8512e-05,\n",
              "        -6.3403e-03, -8.0884e-03, -1.4709e-03,  5.1602e-04,  2.3832e-04,\n",
              "         9.0413e-04, -2.3401e-04, -1.2921e-04,  3.1058e-04, -3.6199e-03,\n",
              "         2.3801e-04,  7.7216e-04,  2.9159e-04, -5.6622e-04, -1.3953e-03,\n",
              "        -5.4186e-05,  1.9762e-03, -1.0036e-03, -2.5117e-04, -4.6299e-03,\n",
              "        -7.7673e-04,  1.0339e-04, -1.5713e-03, -1.6361e-02,  8.7873e-05,\n",
              "        -1.3574e-04,  3.8662e-04,  1.3409e-04, -1.2639e-03, -2.6759e-03,\n",
              "        -4.5931e-03, -5.8196e-04,  3.6423e-04, -3.1220e-03, -6.7324e-04,\n",
              "         2.4878e-03,  2.0686e-03, -1.7114e-03,  1.3425e-03,  7.2453e-04,\n",
              "        -2.3312e-04, -2.1659e-04,  2.4836e-03,  1.0677e-04,  1.4846e-03,\n",
              "         2.0818e-03,  3.7141e-04, -2.0447e-04,  1.0759e-03,  5.4162e-04,\n",
              "         1.5187e-04,  2.5238e-04,  8.6136e-04,  2.4121e-04,  9.7874e-04,\n",
              "         3.2287e-03, -3.8317e-04,  1.6948e-03,  1.5995e-03,  1.4885e-03,\n",
              "        -9.0367e-04, -5.2158e-04,  2.3331e+00,  3.3998e-01, -4.1510e-01,\n",
              "        -4.2632e-01,  1.7284e+00, -4.8232e-02, -1.2288e+00,  2.6212e-01,\n",
              "         1.4347e-01, -1.2816e+00, -2.1370e-01,  3.2968e-04, -3.0117e-01,\n",
              "        -5.7598e-04, -6.9980e-04, -1.3406e-03,  1.8706e+00, -3.9100e-02,\n",
              "         2.5017e+01, -1.7454e+00, -6.0219e-03], device='cuda:0',\n",
              "       grad_fn=<SumBackward1>)"
            ]
          },
          "metadata": {},
          "execution_count": 69
        }
      ],
      "source": [
        "summed_gradients_all"
      ],
      "id": "fKatDVqJM8Zc"
    },
    {
      "cell_type": "code",
      "execution_count": null,
      "metadata": {
        "id": "cbdwMzKsMxAs"
      },
      "outputs": [],
      "source": [
        "avg = torch.mean(summed_gradients_all)"
      ],
      "id": "cbdwMzKsMxAs"
    },
    {
      "cell_type": "code",
      "execution_count": null,
      "metadata": {
        "id": "54s0bZa0M6sr",
        "colab": {
          "base_uri": "https://localhost:8080/",
          "height": 1000
        },
        "outputId": "1ed2ce55-e5f7-4815-e30e-e410ca53f3df"
      },
      "outputs": [
        {
          "output_type": "display_data",
          "data": {
            "text/plain": [
              "<Figure size 1000x1800 with 1 Axes>"
            ],
            "image/png": "[encoded data removed]"
          },
          "metadata": {}
        }
      ],
      "source": [
        "import matplotlib.pyplot as plt\n",
        "import numpy as np\n",
        "\n",
        "feature_names = X.columns.tolist()\n",
        "# Comment out the hard codded feature_contributions\n",
        "#feature_contributions = [ 8.2754e-03,  2.4449e-01, -6.7458e-05,  5.4123e-05,  1.5575e-03,\n",
        "#         3.2035e-04, -3.0248e-02,  3.2682e-03,  2.3505e-04, -2.9171e-03,\n",
        "#         1.6119e-03,  4.8344e-04, -1.7238e-03, -1.1669e-03,  5.9588e-03,\n",
        "#         0.0000e+00, -4.1573e-04, -5.4701e-04, -1.0473e-03, -1.4245e-03,\n",
        "#        -3.0089e-04,  1.1117e-03,  7.6333e-04,  6.3784e-03,  6.1414e-04,\n",
        "#        -3.7345e-03, -1.4455e-03, -3.2355e-04,  3.3533e-04,  4.6745e-04,\n",
        "#        -4.3285e-04,  2.5618e-04,  1.8904e-03,  6.8282e-04, -6.9565e-04,\n",
        "#        -1.4172e-03, -1.2154e-03,  8.1726e-04, -8.3177e-03, -7.5985e-04,\n",
        "#        -1.1202e-03, -5.8048e-04,  1.0369e-03, -2.8469e-04,  6.7106e-03,\n",
        "#         3.5879e-04, -4.2590e-05, -4.9208e-04,  7.3213e-04, -1.1677e-03,\n",
        "#         5.0838e-04,  2.0164e-03, -2.9205e-04, -6.7307e-02,  9.6444e-05,\n",
        "#         2.8948e-03,  1.5678e-02, -9.4986e-04,  9.6401e-06,  2.4515e-03,\n",
        "#         6.6200e-04, -1.4110e-03, -1.7674e-03,  3.8453e-04, -1.9134e-03,\n",
        "#        -5.4385e-04, -4.9116e-04,  6.5076e-04,  3.4984e-04, -9.6108e-04,\n",
        "#         3.6344e-04,  7.8890e-04, -9.3827e-04,  6.7942e-04,  3.8333e-03,\n",
        "#         7.4971e-04, -5.2135e-04,  3.9201e-04, -3.5277e-03, -3.6636e-04,\n",
        "#         4.2249e-04, -1.2218e-03, -1.4330e-03,  2.0466e-03, -3.6416e-03,\n",
        "#         1.8880e-04, -1.4094e-03, -5.4314e-04,  1.6829e-04,  3.3163e-03,\n",
        "#        -1.2260e-04,  1.3083e-03,  2.6524e-03,  9.9954e-04, -3.5142e-03,\n",
        "#         4.8810e-03, -2.5063e-04,  1.2950e-03, -4.9680e-04, -1.6306e-03,\n",
        "#        -1.6315e-03, -1.3667e-03,  2.1176e-03,  6.0328e-04, -1.1989e-03,\n",
        "#         2.3749e-03, -2.0358e-03, -2.0848e-03,  4.5019e-04,  1.1912e-03,\n",
        "#        -1.5323e-03, -7.2216e-04, -4.4424e-04,  1.9066e-03, -3.5590e-03,\n",
        "#         1.5582e-03, -1.6984e-04, -5.5106e-01,  4.0006e-01, -2.6152e-01,\n",
        "#        -3.1872e-01,  2.3336e+00,  5.0189e-02,  1.7094e-02, -1.2590e+00,\n",
        "#        -5.3713e-02, -4.2591e-01, -1.4865e-01, -2.4621e-03,  1.1240e-02,\n",
        "#        -3.8996e-03, -2.6369e-03, -1.6012e-02,  6.2234e+00,  3.1755e+00,\n",
        "#         1.2218e+01, -2.3051e-02, -5.5302e-02]\n",
        "\n",
        "\n",
        "\n",
        "feature_contributions = summed_gradients_all.detach().cpu().tolist()\n",
        "\n",
        "\n",
        "feature_contributions = feature_contributions / np.sum(feature_contributions)\n",
        "sorted_indices = np.argsort(feature_contributions)[::-1]\n",
        "max15_indices = sorted_indices[:15]\n",
        "\n",
        "min15_indices = sorted_indices[-15:]\n",
        "\n",
        "selected_indices = np.concatenate([max15_indices, min15_indices])\n",
        "\n",
        "fig, ax = plt.subplots(figsize=(10, len(selected_indices) * 0.6))\n",
        "colors = ['red' if val > 0 else 'blue' for val in feature_contributions[selected_indices]]\n",
        "ax.barh(range(len(selected_indices)), feature_contributions[selected_indices], color=colors)\n",
        "\n",
        "ax.set_yticks(range(len(selected_indices)))\n",
        "ax.set_yticklabels(np.array(feature_names)[selected_indices])\n",
        "ax.set_xlabel(\"Relative Feature Contribution\")\n",
        "\n",
        "avg_contribution = 1 / len(feature_names)\n",
        "ax.axvline(avg_contribution, ls='--', color='gray')\n",
        "\n",
        "ax.text(avg_contribution+0.01, -0.5, 'Average Contribution', color='gray', rotation='vertical')\n",
        "plt.title(\"Feature Contribution Analysis\")\n",
        "plt.tight_layout()\n",
        "plt.show()"
      ],
      "id": "54s0bZa0M6sr"
    },
    {
      "cell_type": "markdown",
      "metadata": {
        "id": "fDMhSuBqsDcq"
      },
      "source": [
        "## Predictions and Evaluations\n",
        "- Rewrote the predictions and evaluations"
      ],
      "id": "fDMhSuBqsDcq"
    },
    {
      "cell_type": "code",
      "execution_count": null,
      "metadata": {
        "id": "FjZHN9dtodud"
      },
      "outputs": [],
      "source": [
        "# Created by Jingyan\n",
        "model.eval()\n",
        "test_predictions = []\n",
        "\n",
        "# Disable gradient calculations\n",
        "with torch.no_grad():\n",
        "    for X_test, _, _, _ in test_loader:\n",
        "        # Forward pass\n",
        "        X_test = X_test.to(device)\n",
        "        task_outputs_ = model(X_test)\n",
        "\n",
        "        # Store the predictions\n",
        "        test_predictions.append(task_outputs_)\n",
        "\n",
        "# Process the predictions as needed\n",
        "# For example, converting them to a list or concatenating\n",
        "# Here we concatenate the predictions for each task\n",
        "test_predictions = [torch.cat([preds[i] for preds in test_predictions]) for i in range(len(test_predictions[0]))]\n",
        "\n"
      ],
      "id": "FjZHN9dtodud"
    },
    {
      "cell_type": "code",
      "execution_count": null,
      "metadata": {
        "id": "wjdkdW8vsv-z",
        "colab": {
          "base_uri": "https://localhost:8080/"
        },
        "outputId": "a3c3c670-50d2-4e4b-9906-65c32ac2a6f6"
      },
      "outputs": [
        {
          "output_type": "stream",
          "name": "stdout",
          "text": [
            "7\n",
            "torch.Size([2048, 1])\n"
          ]
        }
      ],
      "source": [
        "print(len(test_predictions))\n",
        "print(test_predictions[0].shape)"
      ],
      "id": "wjdkdW8vsv-z"
    },
    {
      "cell_type": "code",
      "execution_count": null,
      "metadata": {
        "id": "4b_hklvEu5gh"
      },
      "outputs": [],
      "source": [
        "# Created by Jingyan\n",
        "model.eval()\n",
        "train_predictions = []\n",
        "\n",
        "# Disable gradient calculations\n",
        "with torch.no_grad():\n",
        "    for X_train, _, _, _ in train_loader:\n",
        "        # Forward pass\n",
        "        X_train = X_train.to(device)\n",
        "        task_outputs_ = model(X_train)\n",
        "\n",
        "        # Store the predictions\n",
        "        train_predictions.append(task_outputs_)\n",
        "\n",
        "# Process the predictions as needed\n",
        "# For example, converting them to a list or concatenating\n",
        "# Here we concatenate the predictions for each task\n",
        "train_predictions = [torch.cat([preds[i] for preds in train_predictions]) for i in range(len(train_predictions[0]))]\n",
        "\n"
      ],
      "id": "4b_hklvEu5gh"
    },
    {
      "cell_type": "code",
      "execution_count": null,
      "metadata": {
        "id": "EhWLpzejvAOE",
        "colab": {
          "base_uri": "https://localhost:8080/"
        },
        "outputId": "c60d38a9-8b98-4672-fdb8-32a4dbc82144"
      },
      "outputs": [
        {
          "output_type": "stream",
          "name": "stdout",
          "text": [
            "7\n",
            "torch.Size([10240, 1])\n"
          ]
        }
      ],
      "source": [
        "print(len(train_predictions))\n",
        "print(train_predictions[0].shape)"
      ],
      "id": "EhWLpzejvAOE"
    },
    {
      "cell_type": "code",
      "execution_count": null,
      "metadata": {
        "id": "e65e78de"
      },
      "outputs": [],
      "source": [
        "# made by Xinyu\n",
        "def binarize_and_sum_columns(output_list):\n",
        "    def binarize_list(input_list):\n",
        "        tensor = torch.Tensor(input_list)\n",
        "        # print(input_list.max() == input_list.min())\n",
        "        binary_tensor = (tensor >= 0.5).float()\n",
        "        return binary_tensor\n",
        "\n",
        "    result = binarize_list(output_list[0])\n",
        "    for i in range(1, len(output_list)):\n",
        "        binary_column = binarize_list(output_list[i])\n",
        "        print(binary_column.max() == binary_column.min())\n",
        "        result += binary_column\n",
        "\n",
        "    return result\n"
      ],
      "id": "e65e78de"
    },
    {
      "cell_type": "code",
      "execution_count": null,
      "metadata": {
        "id": "aApvvml5vFUi",
        "colab": {
          "base_uri": "https://localhost:8080/"
        },
        "outputId": "b0bd6d76-08e7-4169-be35-ddc533e7b5c8"
      },
      "outputs": [
        {
          "output_type": "stream",
          "name": "stdout",
          "text": [
            "tensor(False, device='cuda:0')\n",
            "tensor(False, device='cuda:0')\n",
            "tensor(False, device='cuda:0')\n",
            "tensor(False, device='cuda:0')\n",
            "tensor(False, device='cuda:0')\n",
            "tensor(False, device='cuda:0')\n",
            "torch.Size([10240])\n",
            "tensor(False, device='cuda:0')\n",
            "tensor(False, device='cuda:0')\n",
            "tensor(False, device='cuda:0')\n",
            "tensor(False, device='cuda:0')\n",
            "tensor(False, device='cuda:0')\n",
            "tensor(False, device='cuda:0')\n",
            "torch.Size([2048])\n"
          ]
        }
      ],
      "source": [
        "# made by Xinyu\n",
        "Y_hat_train = binarize_and_sum_columns(train_predictions)\n",
        "Y_hat_train = Y_hat_train.squeeze()\n",
        "print(Y_hat_train.shape)\n",
        "\n",
        "Y_hat_test = binarize_and_sum_columns(test_predictions)\n",
        "Y_hat_test = Y_hat_test.squeeze()\n",
        "print(Y_hat_test.shape)"
      ],
      "id": "aApvvml5vFUi"
    },
    {
      "cell_type": "code",
      "execution_count": null,
      "metadata": {
        "id": "Dx6kYDdswOm-",
        "colab": {
          "base_uri": "https://localhost:8080/"
        },
        "outputId": "128490fb-36d4-4b21-97cc-95a13b299091"
      },
      "outputs": [
        {
          "output_type": "stream",
          "name": "stdout",
          "text": [
            "7\n",
            "torch.Size([10240, 1])\n",
            "torch.Size([10240])\n",
            "7\n",
            "torch.Size([2048, 1])\n",
            "torch.Size([2048])\n"
          ]
        }
      ],
      "source": [
        "# created by Jingyan\n",
        "# Get the true labels and status\n",
        "train_trues = []\n",
        "train_statuses = []\n",
        "for _, train_targets, train_masks, train_status in train_loader:\n",
        "    true_label = [train_targets[i]*train_masks[i] for i in range(len(train_targets))]\n",
        "    train_trues.append(true_label)\n",
        "    train_statuses.append(train_status)\n",
        "train_trues = [torch.cat([preds[i] for preds in train_trues]) for i in range(len(train_trues[0]))]\n",
        "train_statuses = torch.cat([status for status in train_statuses])\n",
        "\n",
        "print(len(train_trues))\n",
        "print(train_trues[0].shape)\n",
        "print(train_statuses.shape)\n",
        "\n",
        "test_trues = []\n",
        "test_statuses = []\n",
        "for _, test_targets, test_masks, test_status in test_loader:\n",
        "    true_label = [test_targets[i]*test_masks[i] for i in range(len(test_targets))]\n",
        "    test_trues.append(true_label)\n",
        "    test_statuses.append(test_status)\n",
        "\n",
        "test_trues = [torch.cat([preds[i] for preds in test_trues]) for i in range(len(test_trues[0]))]\n",
        "test_statuses = torch.cat([status for status in test_statuses])\n",
        "\n",
        "print(len(test_trues))\n",
        "print(test_trues[0].shape)\n",
        "print(test_statuses.shape)"
      ],
      "id": "Dx6kYDdswOm-"
    },
    {
      "cell_type": "code",
      "execution_count": null,
      "metadata": {
        "id": "E4uyN1NU4md9",
        "colab": {
          "base_uri": "https://localhost:8080/"
        },
        "outputId": "a9a73156-38bc-4db5-bff4-b93f4ed8abb5"
      },
      "outputs": [
        {
          "output_type": "stream",
          "name": "stdout",
          "text": [
            "tensor(False)\n",
            "tensor(False)\n",
            "tensor(False)\n",
            "tensor(False)\n",
            "tensor(False)\n",
            "tensor(False)\n",
            "torch.Size([10240])\n",
            "tensor(False)\n",
            "tensor(False)\n",
            "tensor(False)\n",
            "tensor(False)\n",
            "tensor(False)\n",
            "tensor(False)\n",
            "torch.Size([2048])\n"
          ]
        }
      ],
      "source": [
        "# made by Xinyu\n",
        "Y_true_train = binarize_and_sum_columns(train_trues)\n",
        "Y_true_train = Y_true_train.squeeze()\n",
        "print(Y_true_train.shape)\n",
        "\n",
        "Y_true_test = binarize_and_sum_columns(test_trues)\n",
        "Y_true_test = Y_true_test.squeeze()\n",
        "print(Y_true_test.shape)"
      ],
      "id": "E4uyN1NU4md9"
    },
    {
      "cell_type": "code",
      "execution_count": null,
      "metadata": {
        "id": "ofgZj_VHjV6E"
      },
      "outputs": [],
      "source": [
        "# made by Xinyu\n",
        "# Modifed by Jingyan: adjusted for cencored data following Dr. Li's code\n",
        "# https://github.com/yanlirock/Multi-task_Survival_Analysis/blob/6cda8883a240b789ef38be891909a2bae15f4623/functions/getcindex_cox.m#L1\n",
        "\n",
        "class Cindex(torch.nn.Module):\n",
        "    def __init__(self):\n",
        "        super(Cindex, self).__init__()\n",
        "\n",
        "    def forward(self, y, y_hat, status):\n",
        "        if not torch.is_tensor(y):\n",
        "            y = torch.Tensor(y)\n",
        "        if not torch.is_tensor(y_hat):\n",
        "            y_hat = torch.Tensor(y_hat)\n",
        "        if not torch.is_tensor(status):\n",
        "          status = torch.Tensor(status)\n",
        "\n",
        "        N = y.size(0)\n",
        "        total_pairs = 0\n",
        "        c = 0\n",
        "\n",
        "        for i in range(N):\n",
        "            for j in range(i + 1, N):\n",
        "                a = y[i]\n",
        "                b = y[j]\n",
        "                a_hat = y_hat[i]\n",
        "                b_hat = y_hat[j]\n",
        "                astatus = status[i]\n",
        "                bstatus = status[j]\n",
        "                if (a >= b and a_hat >= b_hat and bstatus == 1) or (a <= b and a_hat <= b_hat and astatus == 1):\n",
        "                    c += 1\n",
        "                if (a <= b and astatus==1) or (b <= a and bstatus == 1):\n",
        "                    total_pairs += 1\n",
        "\n",
        "        outcome = c / total_pairs\n",
        "        return outcome\n",
        "\n",
        "cindex_calculator = Cindex()\n",
        "c11_train = cindex_calculator(Y_true_train, Y_hat_train, train_statuses)\n",
        "print(c11_train)\n",
        "c11_test = cindex_calculator(Y_true_test, Y_hat_test, test_statuses)\n",
        "print(c11_test)\n",
        "#According to the way in your paper\n",
        "# c = 1 / num * Σi=1^num Σj>i [yj > yi * I[S(^yj|Xj) > S(^yi|Xi)]]"
      ],
      "id": "ofgZj_VHjV6E"
    },
    {
      "cell_type": "code",
      "execution_count": null,
      "metadata": {
        "id": "-306SagVqau6"
      },
      "outputs": [],
      "source": [
        "# 0.7103323579075326\n",
        "# 0.7193680369479399\n",
        "# 56mins"
      ],
      "id": "-306SagVqau6"
    },
    {
      "cell_type": "code",
      "execution_count": null,
      "metadata": {
        "id": "_kd-vmvIpkX-"
      },
      "outputs": [],
      "source": [
        "# c11_train = 0.8174466628004992\n",
        "# c11_test = 0.8137755363531064"
      ],
      "id": "_kd-vmvIpkX-"
    },
    {
      "cell_type": "markdown",
      "metadata": {
        "id": "IeyDNGtppq8D"
      },
      "source": [
        "I have modified the c-index according to Dr. Li's github code, we might not need the following part. (Jingyan)"
      ],
      "id": "IeyDNGtppq8D"
    },
    {
      "cell_type": "code",
      "execution_count": null,
      "metadata": {
        "id": "j6w15Atq1zDZ"
      },
      "outputs": [],
      "source": [
        "# made by Xinyu\n",
        "# For this Cindex, it seems that\n",
        "# it does not take the censored data into account,\n",
        "# should we adjust for censored data?\n",
        "class Cindex(torch.nn.Module):\n",
        "    def __init__(self):\n",
        "        super(Cindex, self).__init__()\n",
        "\n",
        "    def forward(self, y, y_hat):\n",
        "        if not torch.is_tensor(y):\n",
        "            y = torch.Tensor(y)\n",
        "        if not torch.is_tensor(y_hat):\n",
        "            y_hat = torch.Tensor(y_hat)\n",
        "\n",
        "        N = y.size(0)\n",
        "        total_pairs = N * (N - 1) / 2\n",
        "        c = 0\n",
        "\n",
        "        for i in range(N):\n",
        "            for j in range(i + 1, N):\n",
        "                a = y[i]\n",
        "                b = y[j]\n",
        "                a_hat = y_hat[i]\n",
        "                b_hat = y_hat[j]\n",
        "\n",
        "                if (a >= b and a_hat >= b_hat) or (a <= b and a_hat <= b_hat):\n",
        "                    c += 1\n",
        "\n",
        "        outcome = c / total_pairs\n",
        "        return outcome\n",
        "\n",
        "cindex_calculator = Cindex()\n",
        "c11_train = cindex_calculator(Y_true_train, Y_hat_train)\n",
        "c11_test = cindex_calculator(Y_true_test, Y_hat_test)\n",
        "\n",
        "#According to the way in your paper\n",
        "# c = 1 / num * Σi=1^num Σj>i [yj > yi * I[S(^yj|Xj) > S(^yi|Xi)]]"
      ],
      "id": "j6w15Atq1zDZ"
    },
    {
      "cell_type": "code",
      "execution_count": null,
      "metadata": {
        "id": "mQiYshUmKOd1"
      },
      "outputs": [],
      "source": [
        "print(c11_train)\n",
        "print(c11_test)"
      ],
      "id": "mQiYshUmKOd1"
    },
    {
      "cell_type": "code",
      "execution_count": null,
      "metadata": {
        "id": "VfB5JcPD5VAs"
      },
      "outputs": [],
      "source": [
        "class Cindex(torch.nn.Module):\n",
        "    def __init__(self):\n",
        "        super().__init__()\n",
        "\n",
        "    def forward(self, y, y_hat, status):\n",
        "\n",
        "        status_matrix = status.repeat(status.size(0), 1)\n",
        "        cmp_mask = (y.repeat(status.size(0), 1) - y) * (status_matrix - status_matrix.t())\n",
        "        concordant = torch.where(\n",
        "            (y_hat.repeat(status.size(0), 1) - y_hat) * cmp_mask > 0,\n",
        "            torch.ones_like(cmp_mask), torch.zeros_like(cmp_mask))\n",
        "\n",
        "        total_pairs = torch.where(\n",
        "            cmp_mask !=0,\n",
        "            torch.ones_like(cmp_mask), torch.zeros_like(cmp_mask))\n",
        "\n",
        "        return concordant.sum() / total_pairs.sum()"
      ],
      "id": "VfB5JcPD5VAs"
    },
    {
      "cell_type": "code",
      "execution_count": null,
      "metadata": {
        "id": "fkWYCBUK5WkC"
      },
      "outputs": [],
      "source": [
        "cindex_calculator = Cindex()\n",
        "c11_train = cindex_calculator(Y_true_train, Y_hat_train, train_statuses)"
      ],
      "id": "fkWYCBUK5WkC"
    },
    {
      "cell_type": "code",
      "execution_count": null,
      "metadata": {
        "id": "ysp1Y7Cq5wuO"
      },
      "outputs": [],
      "source": [
        "c11_train"
      ],
      "id": "ysp1Y7Cq5wuO"
    },
    {
      "cell_type": "code",
      "execution_count": null,
      "metadata": {
        "id": "ttyH_CNH5svH"
      },
      "outputs": [],
      "source": [
        "Y_test_train = Y_true_train.cuda(0)\n",
        "Y_hat_train = Y_hat_train.cuda(0)\n",
        "train_statuses = train_statuses.cuda(0)"
      ],
      "id": "ttyH_CNH5svH"
    },
    {
      "cell_type": "code",
      "source": [],
      "metadata": {
        "id": "WCFta-wt-707"
      },
      "id": "WCFta-wt-707",
      "execution_count": null,
      "outputs": []
    }
  ],
  "metadata": {
    "accelerator": "GPU",
    "colab": {
      "provenance": [],
      "gpuType": "T4"
    },
    "kernelspec": {
      "display_name": "Python 3",
      "name": "python3"
    },
    "language_info": {
      "codemirror_mode": {
        "name": "ipython",
        "version": 3
      },
      "file_extension": ".py",
      "mimetype": "text/x-python",
      "name": "python",
      "nbconvert_exporter": "python",
      "pygments_lexer": "ipython3",
      "version": "3.6.13"
    }
  },
  "nbformat": 4,
  "nbformat_minor": 5
}