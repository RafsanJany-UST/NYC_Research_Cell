{
  "cells": [
    {
      "cell_type": "code",
      "execution_count": 1,
      "metadata": {
        "colab": {
          "base_uri": "https://localhost:8080/"
        },
        "id": "8c3af191",
        "outputId": "4867c689-4e4f-4f38-d712-5cbcaaf5c92f"
      },
      "outputs": [
        {
          "output_type": "stream",
          "name": "stdout",
          "text": [
            "Requirement already satisfied: easydict in /usr/local/lib/python3.10/dist-packages (1.13)\n",
            "Requirement already satisfied: torchtuples in /usr/local/lib/python3.10/dist-packages (0.2.2)\n",
            "Requirement already satisfied: numpy>=1.15.4 in /usr/local/lib/python3.10/dist-packages (from torchtuples) (1.25.2)\n",
            "Requirement already satisfied: pandas>=0.24.2 in /usr/local/lib/python3.10/dist-packages (from torchtuples) (2.0.3)\n",
            "Requirement already satisfied: matplotlib>=3.0.3 in /usr/local/lib/python3.10/dist-packages (from torchtuples) (3.7.1)\n",
            "Requirement already satisfied: contourpy>=1.0.1 in /usr/local/lib/python3.10/dist-packages (from matplotlib>=3.0.3->torchtuples) (1.2.1)\n",
            "Requirement already satisfied: cycler>=0.10 in /usr/local/lib/python3.10/dist-packages (from matplotlib>=3.0.3->torchtuples) (0.12.1)\n",
            "Requirement already satisfied: fonttools>=4.22.0 in /usr/local/lib/python3.10/dist-packages (from matplotlib>=3.0.3->torchtuples) (4.51.0)\n",
            "Requirement already satisfied: kiwisolver>=1.0.1 in /usr/local/lib/python3.10/dist-packages (from matplotlib>=3.0.3->torchtuples) (1.4.5)\n",
            "Requirement already satisfied: packaging>=20.0 in /usr/local/lib/python3.10/dist-packages (from matplotlib>=3.0.3->torchtuples) (24.0)\n",
            "Requirement already satisfied: pillow>=6.2.0 in /usr/local/lib/python3.10/dist-packages (from matplotlib>=3.0.3->torchtuples) (9.4.0)\n",
            "Requirement already satisfied: pyparsing>=2.3.1 in /usr/local/lib/python3.10/dist-packages (from matplotlib>=3.0.3->torchtuples) (3.1.2)\n",
            "Requirement already satisfied: python-dateutil>=2.7 in /usr/local/lib/python3.10/dist-packages (from matplotlib>=3.0.3->torchtuples) (2.8.2)\n",
            "Requirement already satisfied: pytz>=2020.1 in /usr/local/lib/python3.10/dist-packages (from pandas>=0.24.2->torchtuples) (2023.4)\n",
            "Requirement already satisfied: tzdata>=2022.1 in /usr/local/lib/python3.10/dist-packages (from pandas>=0.24.2->torchtuples) (2024.1)\n",
            "Requirement already satisfied: six>=1.5 in /usr/local/lib/python3.10/dist-packages (from python-dateutil>=2.7->matplotlib>=3.0.3->torchtuples) (1.16.0)\n"
          ]
        }
      ],
      "source": [
        "# @title\n",
        "!pip install easydict\n",
        "!pip install torchtuples\n",
        "\n",
        "import os\n",
        "import time\n",
        "import torch\n",
        "import torchtuples as tt\n",
        "import numpy as np\n",
        "import easydict\n",
        "import pandas as pd\n",
        "\n",
        "from sklearn import preprocessing\n",
        "from sklearn.preprocessing import StandardScaler\n",
        "from sklearn_pandas import DataFrameMapper\n",
        "from sklearn.model_selection import StratifiedKFold\n"
      ],
      "id": "8c3af191"
    },
    {
      "cell_type": "code",
      "execution_count": 2,
      "metadata": {
        "id": "9a471981"
      },
      "outputs": [],
      "source": [
        "#repair zw\n",
        "!pip install scikit-learn\n",
        "\n",
        "!pip install sklearn_pandas\n",
        "!pip install -U scikit-learn\n",
        "\n",
        "from sklearn.preprocessing import StandardScaler\n",
        "from sklearn_pandas import DataFrameMapper\n",
        "from sklearn.model_selection import StratifiedKFold\n"
      ],
      "id": "9a471981"
    },
    {
      "cell_type": "code",
      "execution_count": 3,
      "metadata": {
        "id": "JrqUaXCEB9w2"
      },
      "outputs": [],
      "source": [
        "import os\n",
        "import time\n",
        "import torch\n",
        "import torchtuples as tt\n",
        "import numpy as np\n",
        "import easydict\n",
        "import pandas as pd\n",
        "\n",
        "from sklearn import preprocessing\n",
        "from sklearn.preprocessing import StandardScaler\n",
        "from sklearn_pandas import DataFrameMapper\n",
        "from sklearn.model_selection import StratifiedKFold"
      ],
      "id": "JrqUaXCEB9w2"
    },
    {
      "cell_type": "markdown",
      "metadata": {
        "id": "JAU6heO9PiCv"
      },
      "source": [
        "## Data Preprocessing"
      ],
      "id": "JAU6heO9PiCv"
    },
    {
      "cell_type": "code",
      "execution_count": 4,
      "metadata": {
        "colab": {
          "base_uri": "https://localhost:8080/",
          "height": 72
        },
        "id": "6448cbb7",
        "outputId": "0ab0fa46-38e5-47b1-f99f-13d901a372d6"
      },
      "outputs": [
        {
          "output_type": "display_data",
          "data": {
            "text/plain": [
              "<IPython.core.display.HTML object>"
            ],
            "text/html": [
              "\n",
              "     <input type=\"file\" id=\"files-60b027d8-a709-47ea-8363-96c616aa3493\" name=\"files[]\" multiple disabled\n",
              "        style=\"border:none\" />\n",
              "     <output id=\"result-60b027d8-a709-47ea-8363-96c616aa3493\">\n",
              "      Upload widget is only available when the cell has been executed in the\n",
              "      current browser session. Please rerun this cell to enable.\n",
              "      </output>\n",
              "      <script>// Copyright 2017 Google LLC\n",
              "//\n",
              "// Licensed under the Apache License, Version 2.0 (the \"License\");\n",
              "// you may not use this file except in compliance with the License.\n",
              "// You may obtain a copy of the License at\n",
              "//\n",
              "//      http://www.apache.org/licenses/LICENSE-2.0\n",
              "//\n",
              "// Unless required by applicable law or agreed to in writing, software\n",
              "// distributed under the License is distributed on an \"AS IS\" BASIS,\n",
              "// WITHOUT WARRANTIES OR CONDITIONS OF ANY KIND, either express or implied.\n",
              "// See the License for the specific language governing permissions and\n",
              "// limitations under the License.\n",
              "\n",
              "/**\n",
              " * @fileoverview Helpers for google.colab Python module.\n",
              " */\n",
              "(function(scope) {\n",
              "function span(text, styleAttributes = {}) {\n",
              "  const element = document.createElement('span');\n",
              "  element.textContent = text;\n",
              "  for (const key of Object.keys(styleAttributes)) {\n",
              "    element.style[key] = styleAttributes[key];\n",
              "  }\n",
              "  return element;\n",
              "}\n",
              "\n",
              "// Max number of bytes which will be uploaded at a time.\n",
              "const MAX_PAYLOAD_SIZE = 100 * 1024;\n",
              "\n",
              "function _uploadFiles(inputId, outputId) {\n",
              "  const steps = uploadFilesStep(inputId, outputId);\n",
              "  const outputElement = document.getElementById(outputId);\n",
              "  // Cache steps on the outputElement to make it available for the next call\n",
              "  // to uploadFilesContinue from Python.\n",
              "  outputElement.steps = steps;\n",
              "\n",
              "  return _uploadFilesContinue(outputId);\n",
              "}\n",
              "\n",
              "// This is roughly an async generator (not supported in the browser yet),\n",
              "// where there are multiple asynchronous steps and the Python side is going\n",
              "// to poll for completion of each step.\n",
              "// This uses a Promise to block the python side on completion of each step,\n",
              "// then passes the result of the previous step as the input to the next step.\n",
              "function _uploadFilesContinue(outputId) {\n",
              "  const outputElement = document.getElementById(outputId);\n",
              "  const steps = outputElement.steps;\n",
              "\n",
              "  const next = steps.next(outputElement.lastPromiseValue);\n",
              "  return Promise.resolve(next.value.promise).then((value) => {\n",
              "    // Cache the last promise value to make it available to the next\n",
              "    // step of the generator.\n",
              "    outputElement.lastPromiseValue = value;\n",
              "    return next.value.response;\n",
              "  });\n",
              "}\n",
              "\n",
              "/**\n",
              " * Generator function which is called between each async step of the upload\n",
              " * process.\n",
              " * @param {string} inputId Element ID of the input file picker element.\n",
              " * @param {string} outputId Element ID of the output display.\n",
              " * @return {!Iterable<!Object>} Iterable of next steps.\n",
              " */\n",
              "function* uploadFilesStep(inputId, outputId) {\n",
              "  const inputElement = document.getElementById(inputId);\n",
              "  inputElement.disabled = false;\n",
              "\n",
              "  const outputElement = document.getElementById(outputId);\n",
              "  outputElement.innerHTML = '';\n",
              "\n",
              "  const pickedPromise = new Promise((resolve) => {\n",
              "    inputElement.addEventListener('change', (e) => {\n",
              "      resolve(e.target.files);\n",
              "    });\n",
              "  });\n",
              "\n",
              "  const cancel = document.createElement('button');\n",
              "  inputElement.parentElement.appendChild(cancel);\n",
              "  cancel.textContent = 'Cancel upload';\n",
              "  const cancelPromise = new Promise((resolve) => {\n",
              "    cancel.onclick = () => {\n",
              "      resolve(null);\n",
              "    };\n",
              "  });\n",
              "\n",
              "  // Wait for the user to pick the files.\n",
              "  const files = yield {\n",
              "    promise: Promise.race([pickedPromise, cancelPromise]),\n",
              "    response: {\n",
              "      action: 'starting',\n",
              "    }\n",
              "  };\n",
              "\n",
              "  cancel.remove();\n",
              "\n",
              "  // Disable the input element since further picks are not allowed.\n",
              "  inputElement.disabled = true;\n",
              "\n",
              "  if (!files) {\n",
              "    return {\n",
              "      response: {\n",
              "        action: 'complete',\n",
              "      }\n",
              "    };\n",
              "  }\n",
              "\n",
              "  for (const file of files) {\n",
              "    const li = document.createElement('li');\n",
              "    li.append(span(file.name, {fontWeight: 'bold'}));\n",
              "    li.append(span(\n",
              "        `(${file.type || 'n/a'}) - ${file.size} bytes, ` +\n",
              "        `last modified: ${\n",
              "            file.lastModifiedDate ? file.lastModifiedDate.toLocaleDateString() :\n",
              "                                    'n/a'} - `));\n",
              "    const percent = span('0% done');\n",
              "    li.appendChild(percent);\n",
              "\n",
              "    outputElement.appendChild(li);\n",
              "\n",
              "    const fileDataPromise = new Promise((resolve) => {\n",
              "      const reader = new FileReader();\n",
              "      reader.onload = (e) => {\n",
              "        resolve(e.target.result);\n",
              "      };\n",
              "      reader.readAsArrayBuffer(file);\n",
              "    });\n",
              "    // Wait for the data to be ready.\n",
              "    let fileData = yield {\n",
              "      promise: fileDataPromise,\n",
              "      response: {\n",
              "        action: 'continue',\n",
              "      }\n",
              "    };\n",
              "\n",
              "    // Use a chunked sending to avoid message size limits. See b/62115660.\n",
              "    let position = 0;\n",
              "    do {\n",
              "      const length = Math.min(fileData.byteLength - position, MAX_PAYLOAD_SIZE);\n",
              "      const chunk = new Uint8Array(fileData, position, length);\n",
              "      position += length;\n",
              "\n",
              "      const base64 = btoa(String.fromCharCode.apply(null, chunk));\n",
              "      yield {\n",
              "        response: {\n",
              "          action: 'append',\n",
              "          file: file.name,\n",
              "          data: base64,\n",
              "        },\n",
              "      };\n",
              "\n",
              "      let percentDone = fileData.byteLength === 0 ?\n",
              "          100 :\n",
              "          Math.round((position / fileData.byteLength) * 100);\n",
              "      percent.textContent = `${percentDone}% done`;\n",
              "\n",
              "    } while (position < fileData.byteLength);\n",
              "  }\n",
              "\n",
              "  // All done.\n",
              "  yield {\n",
              "    response: {\n",
              "      action: 'complete',\n",
              "    }\n",
              "  };\n",
              "}\n",
              "\n",
              "scope.google = scope.google || {};\n",
              "scope.google.colab = scope.google.colab || {};\n",
              "scope.google.colab._files = {\n",
              "  _uploadFiles,\n",
              "  _uploadFilesContinue,\n",
              "};\n",
              "})(self);\n",
              "</script> "
            ]
          },
          "metadata": {}
        },
        {
          "output_type": "stream",
          "name": "stdout",
          "text": [
            "Saving processdata.csv to processdata.csv\n"
          ]
        }
      ],
      "source": [
        "from google.colab import files\n",
        "uploaded = files.upload()"
      ],
      "id": "6448cbb7"
    },
    {
      "cell_type": "code",
      "execution_count": 5,
      "metadata": {
        "id": "jZYs6SZ14CJ5"
      },
      "outputs": [],
      "source": [
        "df = pd.read_csv('processdata.csv', encoding='latin-1')\n",
        "data = df"
      ],
      "id": "jZYs6SZ14CJ5"
    },
    {
      "cell_type": "code",
      "execution_count": 6,
      "metadata": {
        "id": "7H9WeP7SFMk0"
      },
      "outputs": [],
      "source": [
        "date_columns = ['Date.of.Last.Contact', 'Date.of.Diagnostic']\n",
        "data[date_columns] = data[date_columns].apply(pd.to_datetime, errors='coerce')\n",
        "has_na = data[date_columns].isna().any(axis=1)\n",
        "\n",
        "if has_na.any():\n",
        "#     max_last_contact_date = data['Date.of.Last.Contact'].max()\n",
        "#     data['Survival_Time'] = (max_last_contact_date - data['Date.of.Diagnostic']).dt.days\n",
        "    data['Survival_Time'] = (data['Date.of.Last.Contact'] - data['Date.of.Diagnostic']).dt.days\n",
        "else:\n",
        "    data['Survival_Time'] = (data['Date.of.Last.Contact'] - data['Date.of.Diagnostic']).dt.days"
      ],
      "id": "7H9WeP7SFMk0"
    },
    {
      "cell_type": "code",
      "execution_count": 7,
      "metadata": {
        "id": "A7dCYNuBPzMG"
      },
      "outputs": [],
      "source": [
        "data['indicater'] = np.where(data['Date.of.Death'].isna(), 0, 1)\n",
        "columns_to_drop = ['Date.of.Death', 'Date.of.Last.Contact', 'Date.of.Diagnostic']\n",
        "\n",
        "\n",
        "data.drop(columns=columns_to_drop, inplace=True)"
      ],
      "id": "A7dCYNuBPzMG"
    },
    {
      "cell_type": "code",
      "execution_count": 8,
      "metadata": {
        "id": "UZ7nNMT_UfyE",
        "colab": {
          "base_uri": "https://localhost:8080/"
        },
        "outputId": "b465917d-dcea-48e5-ac56-3defd0c0e5a8"
      },
      "outputs": [
        {
          "output_type": "stream",
          "name": "stdout",
          "text": [
            "   Gender       Age  Indicator.of.Rare.Case  Survival_Time  indicater  \\\n",
            "0       1  0.283019                       0              0          1   \n",
            "1       1  0.490566                       0              0          1   \n",
            "2       1  0.698113                       0              0          1   \n",
            "3       1  0.556604                       0              0          1   \n",
            "4       0  0.122642                       0           3959          0   \n",
            "\n",
            "   RCBP.Name_RCBP BELO HORIZONTE  RCBP.Name_RCBP CAMPINAS-UNICAMP  \\\n",
            "0                          False                             True   \n",
            "1                          False                             True   \n",
            "2                          False                             True   \n",
            "3                          False                             True   \n",
            "4                          False                             True   \n",
            "\n",
            "   RCBP.Name_RCBP DISTRITO FEDERAL  RCBP.Name_RCBP DRS BARRETOS  \\\n",
            "0                            False                        False   \n",
            "1                            False                        False   \n",
            "2                            False                        False   \n",
            "3                            False                        False   \n",
            "4                            False                        False   \n",
            "\n",
            "   RCBP.Name_RCBP FORTALEZA  ...  Diagnostic.means_PESQUISA  \\\n",
            "0                     False  ...                      False   \n",
            "1                     False  ...                      False   \n",
            "2                     False  ...                      False   \n",
            "3                     False  ...                      False   \n",
            "4                     False  ...                      False   \n",
            "\n",
            "   Diagnostic.means_SDO  Diagnostic.means_other  Extension_IN SITU  \\\n",
            "0                  True                   False              False   \n",
            "1                  True                   False              False   \n",
            "2                  True                   False              False   \n",
            "3                  True                   False              False   \n",
            "4                 False                   False              False   \n",
            "\n",
            "   Extension_LOCALIZADO  Extension_MET?STASE  Extension_N?O SE APLICA  \\\n",
            "0                 False                 True                    False   \n",
            "1                 False                 True                    False   \n",
            "2                 False                False                     True   \n",
            "3                 False                 True                    False   \n",
            "4                 False                False                     True   \n",
            "\n",
            "   Type.of.Death_C?NCER  Type.of.Death_N?O C?NCER  Type.of.Death_other  \n",
            "0                  True                     False                False  \n",
            "1                  True                     False                False  \n",
            "2                  True                     False                False  \n",
            "3                  True                     False                False  \n",
            "4                 False                     False                 True  \n",
            "\n",
            "[5 rows x 140 columns]\n"
          ]
        }
      ],
      "source": [
        "import pandas as pd\n",
        "from sklearn.preprocessing import OneHotEncoder, LabelBinarizer, MinMaxScaler\n",
        "\n",
        "\n",
        "columns_to_one_hot = ['RCBP.Name', 'Raca.Color', 'State.Civil', 'Code.Profession', 'Name.Occupation', 'Status.Address',\n",
        "                      'City.Address', 'Description.of.Topography', 'Topography.Code', 'Morphology.Description',\n",
        "                      'Code.of.Morphology', 'Description.of.Disease', 'Illness.Code', 'Diagnostic.means', 'Extension',\n",
        "                      'Type.of.Death']\n",
        "\n",
        "for column in columns_to_one_hot:\n",
        "    top_9_values = data[column].value_counts().nlargest(9).index\n",
        "    data[column] = data[column].where(data[column].isin(top_9_values), 'other')\n",
        "\n",
        "data = pd.get_dummies(data, columns=columns_to_one_hot)\n",
        "\n",
        "columns_to_binarize = ['Gender', 'Indicator.of.Rare.Case']\n",
        "\n",
        "lb = LabelBinarizer()\n",
        "for column in columns_to_binarize:\n",
        "    data[column] = lb.fit_transform(data[column])\n",
        "\n",
        "scaler = MinMaxScaler()\n",
        "data['Age'] = scaler.fit_transform(data[['Age']])\n",
        "\n",
        "\n",
        "print(data.head())\n"
      ],
      "id": "UZ7nNMT_UfyE"
    },
    {
      "cell_type": "code",
      "execution_count": 9,
      "metadata": {
        "id": "aZV7BiLMQvCb",
        "colab": {
          "base_uri": "https://localhost:8080/",
          "height": 290
        },
        "outputId": "94142c24-2495-4fac-e4f7-0cee90031b2c"
      },
      "outputs": [
        {
          "output_type": "execute_result",
          "data": {
            "text/plain": [
              "   Gender       Age  Indicator.of.Rare.Case  Survival_Time  indicater  \\\n",
              "0       1  0.283019                       0              0          1   \n",
              "1       1  0.490566                       0              0          1   \n",
              "2       1  0.698113                       0              0          1   \n",
              "3       1  0.556604                       0              0          1   \n",
              "4       0  0.122642                       0           3959          0   \n",
              "\n",
              "   RCBP.Name_RCBP BELO HORIZONTE  RCBP.Name_RCBP CAMPINAS-UNICAMP  \\\n",
              "0                          False                             True   \n",
              "1                          False                             True   \n",
              "2                          False                             True   \n",
              "3                          False                             True   \n",
              "4                          False                             True   \n",
              "\n",
              "   RCBP.Name_RCBP DISTRITO FEDERAL  RCBP.Name_RCBP DRS BARRETOS  \\\n",
              "0                            False                        False   \n",
              "1                            False                        False   \n",
              "2                            False                        False   \n",
              "3                            False                        False   \n",
              "4                            False                        False   \n",
              "\n",
              "   RCBP.Name_RCBP FORTALEZA  ...  Diagnostic.means_PESQUISA  \\\n",
              "0                     False  ...                      False   \n",
              "1                     False  ...                      False   \n",
              "2                     False  ...                      False   \n",
              "3                     False  ...                      False   \n",
              "4                     False  ...                      False   \n",
              "\n",
              "   Diagnostic.means_SDO  Diagnostic.means_other  Extension_IN SITU  \\\n",
              "0                  True                   False              False   \n",
              "1                  True                   False              False   \n",
              "2                  True                   False              False   \n",
              "3                  True                   False              False   \n",
              "4                 False                   False              False   \n",
              "\n",
              "   Extension_LOCALIZADO  Extension_MET?STASE  Extension_N?O SE APLICA  \\\n",
              "0                 False                 True                    False   \n",
              "1                 False                 True                    False   \n",
              "2                 False                False                     True   \n",
              "3                 False                 True                    False   \n",
              "4                 False                False                     True   \n",
              "\n",
              "   Type.of.Death_C?NCER  Type.of.Death_N?O C?NCER  Type.of.Death_other  \n",
              "0                  True                     False                False  \n",
              "1                  True                     False                False  \n",
              "2                  True                     False                False  \n",
              "3                  True                     False                False  \n",
              "4                 False                     False                 True  \n",
              "\n",
              "[5 rows x 140 columns]"
            ],
            "text/html": [
              "\n",
              "  <div id=\"df-e9c8ba49-056b-42d5-ac69-8c2d4aaff475\" class=\"colab-df-container\">\n",
              "    <div>\n",
              "<style scoped>\n",
              "    .dataframe tbody tr th:only-of-type {\n",
              "        vertical-align: middle;\n",
              "    }\n",
              "\n",
              "    .dataframe tbody tr th {\n",
              "        vertical-align: top;\n",
              "    }\n",
              "\n",
              "    .dataframe thead th {\n",
              "        text-align: right;\n",
              "    }\n",
              "</style>\n",
              "<table border=\"1\" class=\"dataframe\">\n",
              "  <thead>\n",
              "    <tr style=\"text-align: right;\">\n",
              "      <th></th>\n",
              "      <th>Gender</th>\n",
              "      <th>Age</th>\n",
              "      <th>Indicator.of.Rare.Case</th>\n",
              "      <th>Survival_Time</th>\n",
              "      <th>indicater</th>\n",
              "      <th>RCBP.Name_RCBP BELO HORIZONTE</th>\n",
              "      <th>RCBP.Name_RCBP CAMPINAS-UNICAMP</th>\n",
              "      <th>RCBP.Name_RCBP DISTRITO FEDERAL</th>\n",
              "      <th>RCBP.Name_RCBP DRS BARRETOS</th>\n",
              "      <th>RCBP.Name_RCBP FORTALEZA</th>\n",
              "      <th>...</th>\n",
              "      <th>Diagnostic.means_PESQUISA</th>\n",
              "      <th>Diagnostic.means_SDO</th>\n",
              "      <th>Diagnostic.means_other</th>\n",
              "      <th>Extension_IN SITU</th>\n",
              "      <th>Extension_LOCALIZADO</th>\n",
              "      <th>Extension_MET?STASE</th>\n",
              "      <th>Extension_N?O SE APLICA</th>\n",
              "      <th>Type.of.Death_C?NCER</th>\n",
              "      <th>Type.of.Death_N?O C?NCER</th>\n",
              "      <th>Type.of.Death_other</th>\n",
              "    </tr>\n",
              "  </thead>\n",
              "  <tbody>\n",
              "    <tr>\n",
              "      <th>0</th>\n",
              "      <td>1</td>\n",
              "      <td>0.283019</td>\n",
              "      <td>0</td>\n",
              "      <td>0</td>\n",
              "      <td>1</td>\n",
              "      <td>False</td>\n",
              "      <td>True</td>\n",
              "      <td>False</td>\n",
              "      <td>False</td>\n",
              "      <td>False</td>\n",
              "      <td>...</td>\n",
              "      <td>False</td>\n",
              "      <td>True</td>\n",
              "      <td>False</td>\n",
              "      <td>False</td>\n",
              "      <td>False</td>\n",
              "      <td>True</td>\n",
              "      <td>False</td>\n",
              "      <td>True</td>\n",
              "      <td>False</td>\n",
              "      <td>False</td>\n",
              "    </tr>\n",
              "    <tr>\n",
              "      <th>1</th>\n",
              "      <td>1</td>\n",
              "      <td>0.490566</td>\n",
              "      <td>0</td>\n",
              "      <td>0</td>\n",
              "      <td>1</td>\n",
              "      <td>False</td>\n",
              "      <td>True</td>\n",
              "      <td>False</td>\n",
              "      <td>False</td>\n",
              "      <td>False</td>\n",
              "      <td>...</td>\n",
              "      <td>False</td>\n",
              "      <td>True</td>\n",
              "      <td>False</td>\n",
              "      <td>False</td>\n",
              "      <td>False</td>\n",
              "      <td>True</td>\n",
              "      <td>False</td>\n",
              "      <td>True</td>\n",
              "      <td>False</td>\n",
              "      <td>False</td>\n",
              "    </tr>\n",
              "    <tr>\n",
              "      <th>2</th>\n",
              "      <td>1</td>\n",
              "      <td>0.698113</td>\n",
              "      <td>0</td>\n",
              "      <td>0</td>\n",
              "      <td>1</td>\n",
              "      <td>False</td>\n",
              "      <td>True</td>\n",
              "      <td>False</td>\n",
              "      <td>False</td>\n",
              "      <td>False</td>\n",
              "      <td>...</td>\n",
              "      <td>False</td>\n",
              "      <td>True</td>\n",
              "      <td>False</td>\n",
              "      <td>False</td>\n",
              "      <td>False</td>\n",
              "      <td>False</td>\n",
              "      <td>True</td>\n",
              "      <td>True</td>\n",
              "      <td>False</td>\n",
              "      <td>False</td>\n",
              "    </tr>\n",
              "    <tr>\n",
              "      <th>3</th>\n",
              "      <td>1</td>\n",
              "      <td>0.556604</td>\n",
              "      <td>0</td>\n",
              "      <td>0</td>\n",
              "      <td>1</td>\n",
              "      <td>False</td>\n",
              "      <td>True</td>\n",
              "      <td>False</td>\n",
              "      <td>False</td>\n",
              "      <td>False</td>\n",
              "      <td>...</td>\n",
              "      <td>False</td>\n",
              "      <td>True</td>\n",
              "      <td>False</td>\n",
              "      <td>False</td>\n",
              "      <td>False</td>\n",
              "      <td>True</td>\n",
              "      <td>False</td>\n",
              "      <td>True</td>\n",
              "      <td>False</td>\n",
              "      <td>False</td>\n",
              "    </tr>\n",
              "    <tr>\n",
              "      <th>4</th>\n",
              "      <td>0</td>\n",
              "      <td>0.122642</td>\n",
              "      <td>0</td>\n",
              "      <td>3959</td>\n",
              "      <td>0</td>\n",
              "      <td>False</td>\n",
              "      <td>True</td>\n",
              "      <td>False</td>\n",
              "      <td>False</td>\n",
              "      <td>False</td>\n",
              "      <td>...</td>\n",
              "      <td>False</td>\n",
              "      <td>False</td>\n",
              "      <td>False</td>\n",
              "      <td>False</td>\n",
              "      <td>False</td>\n",
              "      <td>False</td>\n",
              "      <td>True</td>\n",
              "      <td>False</td>\n",
              "      <td>False</td>\n",
              "      <td>True</td>\n",
              "    </tr>\n",
              "  </tbody>\n",
              "</table>\n",
              "<p>5 rows × 140 columns</p>\n",
              "</div>\n",
              "    <div class=\"colab-df-buttons\">\n",
              "\n",
              "  <div class=\"colab-df-container\">\n",
              "    <button class=\"colab-df-convert\" onclick=\"convertToInteractive('df-e9c8ba49-056b-42d5-ac69-8c2d4aaff475')\"\n",
              "            title=\"Convert this dataframe to an interactive table.\"\n",
              "            style=\"display:none;\">\n",
              "\n",
              "  <svg xmlns=\"http://www.w3.org/2000/svg\" height=\"24px\" viewBox=\"0 -960 960 960\">\n",
              "    <path d=\"M120-120v-720h720v720H120Zm60-500h600v-160H180v160Zm220 220h160v-160H400v160Zm0 220h160v-160H400v160ZM180-400h160v-160H180v160Zm440 0h160v-160H620v160ZM180-180h160v-160H180v160Zm440 0h160v-160H620v160Z\"/>\n",
              "  </svg>\n",
              "    </button>\n",
              "\n",
              "  <style>\n",
              "    .colab-df-container {\n",
              "      display:flex;\n",
              "      gap: 12px;\n",
              "    }\n",
              "\n",
              "    .colab-df-convert {\n",
              "      background-color: #E8F0FE;\n",
              "      border: none;\n",
              "      border-radius: 50%;\n",
              "      cursor: pointer;\n",
              "      display: none;\n",
              "      fill: #1967D2;\n",
              "      height: 32px;\n",
              "      padding: 0 0 0 0;\n",
              "      width: 32px;\n",
              "    }\n",
              "\n",
              "    .colab-df-convert:hover {\n",
              "      background-color: #E2EBFA;\n",
              "      box-shadow: 0px 1px 2px rgba(60, 64, 67, 0.3), 0px 1px 3px 1px rgba(60, 64, 67, 0.15);\n",
              "      fill: #174EA6;\n",
              "    }\n",
              "\n",
              "    .colab-df-buttons div {\n",
              "      margin-bottom: 4px;\n",
              "    }\n",
              "\n",
              "    [theme=dark] .colab-df-convert {\n",
              "      background-color: #3B4455;\n",
              "      fill: #D2E3FC;\n",
              "    }\n",
              "\n",
              "    [theme=dark] .colab-df-convert:hover {\n",
              "      background-color: #434B5C;\n",
              "      box-shadow: 0px 1px 3px 1px rgba(0, 0, 0, 0.15);\n",
              "      filter: drop-shadow(0px 1px 2px rgba(0, 0, 0, 0.3));\n",
              "      fill: #FFFFFF;\n",
              "    }\n",
              "  </style>\n",
              "\n",
              "    <script>\n",
              "      const buttonEl =\n",
              "        document.querySelector('#df-e9c8ba49-056b-42d5-ac69-8c2d4aaff475 button.colab-df-convert');\n",
              "      buttonEl.style.display =\n",
              "        google.colab.kernel.accessAllowed ? 'block' : 'none';\n",
              "\n",
              "      async function convertToInteractive(key) {\n",
              "        const element = document.querySelector('#df-e9c8ba49-056b-42d5-ac69-8c2d4aaff475');\n",
              "        const dataTable =\n",
              "          await google.colab.kernel.invokeFunction('convertToInteractive',\n",
              "                                                    [key], {});\n",
              "        if (!dataTable) return;\n",
              "\n",
              "        const docLinkHtml = 'Like what you see? Visit the ' +\n",
              "          '<a target=\"_blank\" href=https://colab.research.google.com/notebooks/data_table.ipynb>data table notebook</a>'\n",
              "          + ' to learn more about interactive tables.';\n",
              "        element.innerHTML = '';\n",
              "        dataTable['output_type'] = 'display_data';\n",
              "        await google.colab.output.renderOutput(dataTable, element);\n",
              "        const docLink = document.createElement('div');\n",
              "        docLink.innerHTML = docLinkHtml;\n",
              "        element.appendChild(docLink);\n",
              "      }\n",
              "    </script>\n",
              "  </div>\n",
              "\n",
              "\n",
              "<div id=\"df-e0bf5150-5075-404e-896b-f53830d4e234\">\n",
              "  <button class=\"colab-df-quickchart\" onclick=\"quickchart('df-e0bf5150-5075-404e-896b-f53830d4e234')\"\n",
              "            title=\"Suggest charts\"\n",
              "            style=\"display:none;\">\n",
              "\n",
              "<svg xmlns=\"http://www.w3.org/2000/svg\" height=\"24px\"viewBox=\"0 0 24 24\"\n",
              "     width=\"24px\">\n",
              "    <g>\n",
              "        <path d=\"M19 3H5c-1.1 0-2 .9-2 2v14c0 1.1.9 2 2 2h14c1.1 0 2-.9 2-2V5c0-1.1-.9-2-2-2zM9 17H7v-7h2v7zm4 0h-2V7h2v10zm4 0h-2v-4h2v4z\"/>\n",
              "    </g>\n",
              "</svg>\n",
              "  </button>\n",
              "\n",
              "<style>\n",
              "  .colab-df-quickchart {\n",
              "      --bg-color: #E8F0FE;\n",
              "      --fill-color: #1967D2;\n",
              "      --hover-bg-color: #E2EBFA;\n",
              "      --hover-fill-color: #174EA6;\n",
              "      --disabled-fill-color: #AAA;\n",
              "      --disabled-bg-color: #DDD;\n",
              "  }\n",
              "\n",
              "  [theme=dark] .colab-df-quickchart {\n",
              "      --bg-color: #3B4455;\n",
              "      --fill-color: #D2E3FC;\n",
              "      --hover-bg-color: #434B5C;\n",
              "      --hover-fill-color: #FFFFFF;\n",
              "      --disabled-bg-color: #3B4455;\n",
              "      --disabled-fill-color: #666;\n",
              "  }\n",
              "\n",
              "  .colab-df-quickchart {\n",
              "    background-color: var(--bg-color);\n",
              "    border: none;\n",
              "    border-radius: 50%;\n",
              "    cursor: pointer;\n",
              "    display: none;\n",
              "    fill: var(--fill-color);\n",
              "    height: 32px;\n",
              "    padding: 0;\n",
              "    width: 32px;\n",
              "  }\n",
              "\n",
              "  .colab-df-quickchart:hover {\n",
              "    background-color: var(--hover-bg-color);\n",
              "    box-shadow: 0 1px 2px rgba(60, 64, 67, 0.3), 0 1px 3px 1px rgba(60, 64, 67, 0.15);\n",
              "    fill: var(--button-hover-fill-color);\n",
              "  }\n",
              "\n",
              "  .colab-df-quickchart-complete:disabled,\n",
              "  .colab-df-quickchart-complete:disabled:hover {\n",
              "    background-color: var(--disabled-bg-color);\n",
              "    fill: var(--disabled-fill-color);\n",
              "    box-shadow: none;\n",
              "  }\n",
              "\n",
              "  .colab-df-spinner {\n",
              "    border: 2px solid var(--fill-color);\n",
              "    border-color: transparent;\n",
              "    border-bottom-color: var(--fill-color);\n",
              "    animation:\n",
              "      spin 1s steps(1) infinite;\n",
              "  }\n",
              "\n",
              "  @keyframes spin {\n",
              "    0% {\n",
              "      border-color: transparent;\n",
              "      border-bottom-color: var(--fill-color);\n",
              "      border-left-color: var(--fill-color);\n",
              "    }\n",
              "    20% {\n",
              "      border-color: transparent;\n",
              "      border-left-color: var(--fill-color);\n",
              "      border-top-color: var(--fill-color);\n",
              "    }\n",
              "    30% {\n",
              "      border-color: transparent;\n",
              "      border-left-color: var(--fill-color);\n",
              "      border-top-color: var(--fill-color);\n",
              "      border-right-color: var(--fill-color);\n",
              "    }\n",
              "    40% {\n",
              "      border-color: transparent;\n",
              "      border-right-color: var(--fill-color);\n",
              "      border-top-color: var(--fill-color);\n",
              "    }\n",
              "    60% {\n",
              "      border-color: transparent;\n",
              "      border-right-color: var(--fill-color);\n",
              "    }\n",
              "    80% {\n",
              "      border-color: transparent;\n",
              "      border-right-color: var(--fill-color);\n",
              "      border-bottom-color: var(--fill-color);\n",
              "    }\n",
              "    90% {\n",
              "      border-color: transparent;\n",
              "      border-bottom-color: var(--fill-color);\n",
              "    }\n",
              "  }\n",
              "</style>\n",
              "\n",
              "  <script>\n",
              "    async function quickchart(key) {\n",
              "      const quickchartButtonEl =\n",
              "        document.querySelector('#' + key + ' button');\n",
              "      quickchartButtonEl.disabled = true;  // To prevent multiple clicks.\n",
              "      quickchartButtonEl.classList.add('colab-df-spinner');\n",
              "      try {\n",
              "        const charts = await google.colab.kernel.invokeFunction(\n",
              "            'suggestCharts', [key], {});\n",
              "      } catch (error) {\n",
              "        console.error('Error during call to suggestCharts:', error);\n",
              "      }\n",
              "      quickchartButtonEl.classList.remove('colab-df-spinner');\n",
              "      quickchartButtonEl.classList.add('colab-df-quickchart-complete');\n",
              "    }\n",
              "    (() => {\n",
              "      let quickchartButtonEl =\n",
              "        document.querySelector('#df-e0bf5150-5075-404e-896b-f53830d4e234 button');\n",
              "      quickchartButtonEl.style.display =\n",
              "        google.colab.kernel.accessAllowed ? 'block' : 'none';\n",
              "    })();\n",
              "  </script>\n",
              "</div>\n",
              "\n",
              "    </div>\n",
              "  </div>\n"
            ],
            "application/vnd.google.colaboratory.intrinsic+json": {
              "type": "dataframe",
              "variable_name": "data"
            }
          },
          "metadata": {},
          "execution_count": 9
        }
      ],
      "source": [
        "data.head()"
      ],
      "id": "aZV7BiLMQvCb"
    },
    {
      "cell_type": "code",
      "execution_count": 10,
      "metadata": {
        "id": "fgyQVohDEYL0",
        "colab": {
          "base_uri": "https://localhost:8080/"
        },
        "outputId": "dc5fcd49-2458-4d02-85b7-16ef613fd9d4"
      },
      "outputs": [
        {
          "output_type": "stream",
          "name": "stdout",
          "text": [
            "['Gender', 'Age', 'Indicator.of.Rare.Case', 'Survival_Time', 'indicater', 'RCBP.Name_RCBP BELO HORIZONTE', 'RCBP.Name_RCBP CAMPINAS-UNICAMP', 'RCBP.Name_RCBP DISTRITO FEDERAL', 'RCBP.Name_RCBP DRS BARRETOS', 'RCBP.Name_RCBP FORTALEZA', 'RCBP.Name_RCBP MANAUS', 'RCBP.Name_RCBP MATO GROSSO (INTERIOR)', 'RCBP.Name_RCBP NATAL', 'RCBP.Name_RCBP PORTO ALEGRE', 'RCBP.Name_other', 'Raca.Color_AMARELA', 'Raca.Color_BRANCO', 'Raca.Color_IND?GENA', 'Raca.Color_PARDA', 'Raca.Color_PRETA', 'Raca.Color_other', 'State.Civil_CASADO', 'State.Civil_SEPARADO JUDICIALMENTE', 'State.Civil_SOLTEIRO', 'State.Civil_UNI?O CONSENSUAL', 'State.Civil_VI?VO', 'State.Civil_other', 'Code.Profession_0.0', 'Code.Profession_111.0', 'Code.Profession_141.0', 'Code.Profession_512.0', 'Code.Profession_514.0', 'Code.Profession_516.0', 'Code.Profession_622.0', 'Code.Profession_715.0', 'Code.Profession_782.0', 'Code.Profession_other', 'Name.Occupation_CONDUTORES DE VE?CULOS E OPERADORES DE EQUIPAMENTOS DE ELEVA??O E DE MOVIMENTA??O DE CARGAS   \\t', 'Name.Occupation_GERENTES DE PRODU??O E OPERA??ES  \\t', 'Name.Occupation_MEMBROS SUPERIORES DO PODER LEGISLATIVO, EXECUTIVO E JUDICI?RIO   \\t', 'Name.Occupation_SEM INFORMA??O\\t', 'Name.Occupation_TRABALHADORES AGR?COLAS   \\t', 'Name.Occupation_TRABALHADORES DA CONSTRU??O CIVIL E OBRAS P?BLICAS\\t', 'Name.Occupation_TRABALHADORES DOS SERVI?OS DOM?STICOS EM GERAL\\t', 'Name.Occupation_TRABALHADORES NOS SERVI?OS DE ADMINISTRA??O, CONSERVA??O E MANUTEN??O DE EDIF?CIOS E LOGRADOUROS  \\t', 'Name.Occupation_TRABALHADORES NOS SERVI?OS DE EMBELEZAMENTO E CUIDADOS PESSOAIS   \\t', 'Name.Occupation_other', 'Status.Address_AMAZONAS', 'Status.Address_CEAR?', 'Status.Address_DISTRITO FEDERAL', 'Status.Address_MATO GROSSO ', 'Status.Address_MINAS GERAIS', 'Status.Address_RIO DE JANEIRO', 'Status.Address_RIO GRANDE DO NORTE', 'Status.Address_RIO GRANDE DO SUL', 'Status.Address_S?O PAULO', 'Status.Address_other', 'City.Address_BARRETOS', 'City.Address_BEBEDOURO', 'City.Address_BRAS?LIA', 'City.Address_CAMPINAS', 'City.Address_COLINA', 'City.Address_GUA?RA', 'City.Address_MONTE AZUL PAULISTA', 'City.Address_OL?MPIA', 'City.Address_VIRADOURO', 'City.Address_other', 'Description.of.Topography_COLO DO UTERO, SOE', 'Description.of.Topography_ESTOMAGO, SOE', 'Description.of.Topography_LOCALIZACAO PRIMARIA DESCONHECIDA, SOE', 'Description.of.Topography_MAMA , SOE', 'Description.of.Topography_MEDULA OSSEA', 'Description.of.Topography_PELE DE OUTRAS PARTES DA FACE', 'Description.of.Topography_PELE DO MEMBRO SUPERIOR E DO OMBRO', 'Description.of.Topography_PROSTATA, SOE', 'Description.of.Topography_PULMAO, SOE', 'Description.of.Topography_other', 'Topography.Code_C169', 'Topography.Code_C349', 'Topography.Code_C421', 'Topography.Code_C443', 'Topography.Code_C446', 'Topography.Code_C509', 'Topography.Code_C539', 'Topography.Code_C619', 'Topography.Code_C809', 'Topography.Code_other', 'Morphology.Description_ADENOCARCINOMA TUBULAR', 'Morphology.Description_ADENOCARCINOMA, SOE', 'Morphology.Description_CARCINOMA BASO CELULAR, SOE', 'Morphology.Description_CARCINOMA BASOCELULAR, SOE', 'Morphology.Description_CARCINOMA DE CELULAS ESCAMOSAS, SOE', 'Morphology.Description_CARCINOMA DUCTAL INFILTRANTE', 'Morphology.Description_CARCINOMA ESCAMOCELULAR, SOE', 'Morphology.Description_NEOPLASIA MALIGNA', 'Morphology.Description_NEOPLASMA MALIGNO', 'Morphology.Description_other', 'Code.of.Morphology_80003', 'Code.of.Morphology_80703', 'Code.of.Morphology_80903', 'Code.of.Morphology_81403', 'Code.of.Morphology_82113', 'Code.of.Morphology_85003', 'Code.of.Morphology_95903', 'Code.of.Morphology_97323', 'Code.of.Morphology_98613', 'Code.of.Morphology_other', 'Description.of.Disease_BRONQUIOS OU PULMOES, SOE', 'Description.of.Disease_COLO DO UTERO, SOE', 'Description.of.Disease_ESTOMAGO, SOE', 'Description.of.Disease_LOCALIZACAO PRIMARIA DESCONHECIDA', 'Description.of.Disease_MAMA , SOE', 'Description.of.Disease_PELE DE OUTRAS PARTES DA FACE', 'Description.of.Disease_PELE DO MEMBRO SUPERIOR E DO OMBRO', 'Description.of.Disease_PELE DO TRONCO', 'Description.of.Disease_PROSTATA', 'Description.of.Disease_other', 'Illness.Code_C169', 'Illness.Code_C349', 'Illness.Code_C443', 'Illness.Code_C445', 'Illness.Code_C446', 'Illness.Code_C509', 'Illness.Code_C61', 'Illness.Code_C80', 'Illness.Code_C859', 'Illness.Code_other', 'Diagnostic.means_CITOLOGIA', 'Diagnostic.means_CL?NICO', 'Diagnostic.means_HISTOLOGIA DO TUMOR PRIM?RIO', 'Diagnostic.means_PESQUISA', 'Diagnostic.means_SDO', 'Diagnostic.means_other', 'Extension_IN SITU', 'Extension_LOCALIZADO', 'Extension_MET?STASE', 'Extension_N?O SE APLICA', 'Type.of.Death_C?NCER', 'Type.of.Death_N?O C?NCER', 'Type.of.Death_other']\n"
          ]
        }
      ],
      "source": [
        "print(list(data.columns))"
      ],
      "id": "fgyQVohDEYL0"
    },
    {
      "cell_type": "code",
      "execution_count": 11,
      "metadata": {
        "id": "7b3fce97"
      },
      "outputs": [],
      "source": [
        "# change the batch size from 1024 to 3222 to improve the performance\n",
        "# created by Xinyu modified by Jingyan\n",
        "args = easydict.EasyDict({\n",
        "    \"batch_size\": 2048,\n",
        "    \"cuda\": True, # should set it to be true when using gpu, otherwise data would be on two devices\n",
        "    \"lr\": 0.05,\n",
        "    \"seed\": 1111,\n",
        "    \"reduce_rate\": 0.95,\n",
        "    \"epochs\": 200,\n",
        "    \"clip\": 5.0,\n",
        "    \"log_interval\":10,\n",
        "})"
      ],
      "id": "7b3fce97"
    },
    {
      "cell_type": "code",
      "execution_count": 12,
      "metadata": {
        "id": "f889f402"
      },
      "outputs": [],
      "source": [
        "def cycle(iterable):\n",
        "    while True:\n",
        "        for x in iterable:\n",
        "            yield x"
      ],
      "id": "f889f402"
    },
    {
      "cell_type": "code",
      "execution_count": 13,
      "metadata": {
        "id": "448c8d7b"
      },
      "outputs": [],
      "source": [
        "device = torch.device(\"cuda\" if args.cuda else \"cpu\")\n",
        "dtype = torch.FloatTensor\n",
        "if torch.cuda.is_available() and args.cuda:\n",
        "    dtype = torch.cuda.FloatTensor\n",
        "\n",
        "np.random.seed(1234)\n",
        "_ = torch.manual_seed(123)"
      ],
      "id": "448c8d7b"
    },
    {
      "cell_type": "code",
      "execution_count": 14,
      "metadata": {
        "id": "ZXMsPbpMfDDF",
        "colab": {
          "base_uri": "https://localhost:8080/"
        },
        "outputId": "a63e3e86-0be2-4961-bb14-42c5667f9040"
      },
      "outputs": [
        {
          "output_type": "stream",
          "name": "stdout",
          "text": [
            "cuda\n"
          ]
        }
      ],
      "source": [
        "print(device)"
      ],
      "id": "ZXMsPbpMfDDF"
    },
    {
      "cell_type": "code",
      "execution_count": 15,
      "metadata": {
        "id": "2bfcd0f4"
      },
      "outputs": [],
      "source": [
        "from sklearn import preprocessing"
      ],
      "id": "2bfcd0f4"
    },
    {
      "cell_type": "code",
      "execution_count": 16,
      "metadata": {
        "id": "IwnjqGYYiR_6",
        "colab": {
          "base_uri": "https://localhost:8080/",
          "height": 478
        },
        "outputId": "abf9940e-1654-4ff5-8a6a-bfe630643f3c"
      },
      "outputs": [
        {
          "output_type": "execute_result",
          "data": {
            "text/plain": [
              "       Gender       Age  Indicator.of.Rare.Case  Survival_Time  indicater  \\\n",
              "0           1  0.283019                       0              0          1   \n",
              "1           1  0.490566                       0              0          1   \n",
              "2           1  0.698113                       0              0          1   \n",
              "3           1  0.556604                       0              0          1   \n",
              "5           0  0.754717                       0              0          1   \n",
              "...       ...       ...                     ...            ...        ...   \n",
              "14750       0  0.613208                       0           1475          1   \n",
              "14751       1  0.528302                       0           1302          1   \n",
              "14752       1  0.122642                       0            936          1   \n",
              "14753       1  0.773585                       0            420          1   \n",
              "14754       0  0.811321                       0            379          1   \n",
              "\n",
              "       RCBP.Name_RCBP BELO HORIZONTE  RCBP.Name_RCBP CAMPINAS-UNICAMP  \\\n",
              "0                              False                             True   \n",
              "1                              False                             True   \n",
              "2                              False                             True   \n",
              "3                              False                             True   \n",
              "5                              False                             True   \n",
              "...                              ...                              ...   \n",
              "14750                          False                            False   \n",
              "14751                          False                            False   \n",
              "14752                          False                            False   \n",
              "14753                          False                            False   \n",
              "14754                          False                            False   \n",
              "\n",
              "       RCBP.Name_RCBP DISTRITO FEDERAL  RCBP.Name_RCBP DRS BARRETOS  \\\n",
              "0                                False                        False   \n",
              "1                                False                        False   \n",
              "2                                False                        False   \n",
              "3                                False                        False   \n",
              "5                                False                        False   \n",
              "...                                ...                          ...   \n",
              "14750                            False                        False   \n",
              "14751                            False                        False   \n",
              "14752                            False                        False   \n",
              "14753                            False                        False   \n",
              "14754                            False                        False   \n",
              "\n",
              "       RCBP.Name_RCBP FORTALEZA  ...  Diagnostic.means_PESQUISA  \\\n",
              "0                         False  ...                      False   \n",
              "1                         False  ...                      False   \n",
              "2                         False  ...                      False   \n",
              "3                         False  ...                      False   \n",
              "5                         False  ...                      False   \n",
              "...                         ...  ...                        ...   \n",
              "14750                     False  ...                      False   \n",
              "14751                     False  ...                      False   \n",
              "14752                     False  ...                      False   \n",
              "14753                     False  ...                      False   \n",
              "14754                     False  ...                      False   \n",
              "\n",
              "       Diagnostic.means_SDO  Diagnostic.means_other  Extension_IN SITU  \\\n",
              "0                      True                   False              False   \n",
              "1                      True                   False              False   \n",
              "2                      True                   False              False   \n",
              "3                      True                   False              False   \n",
              "5                      True                   False              False   \n",
              "...                     ...                     ...                ...   \n",
              "14750                 False                   False              False   \n",
              "14751                 False                   False              False   \n",
              "14752                 False                   False              False   \n",
              "14753                 False                   False              False   \n",
              "14754                 False                   False              False   \n",
              "\n",
              "       Extension_LOCALIZADO  Extension_MET?STASE  Extension_N?O SE APLICA  \\\n",
              "0                     False                 True                    False   \n",
              "1                     False                 True                    False   \n",
              "2                     False                False                     True   \n",
              "3                     False                 True                    False   \n",
              "5                     False                False                     True   \n",
              "...                     ...                  ...                      ...   \n",
              "14750                 False                False                     True   \n",
              "14751                 False                False                     True   \n",
              "14752                 False                 True                    False   \n",
              "14753                 False                 True                    False   \n",
              "14754                 False                 True                    False   \n",
              "\n",
              "       Type.of.Death_C?NCER  Type.of.Death_N?O C?NCER  Type.of.Death_other  \n",
              "0                      True                     False                False  \n",
              "1                      True                     False                False  \n",
              "2                      True                     False                False  \n",
              "3                      True                     False                False  \n",
              "5                      True                     False                False  \n",
              "...                     ...                       ...                  ...  \n",
              "14750                  True                     False                False  \n",
              "14751                  True                     False                False  \n",
              "14752                  True                     False                False  \n",
              "14753                  True                     False                False  \n",
              "14754                  True                     False                False  \n",
              "\n",
              "[10210 rows x 140 columns]"
            ],
            "text/html": [
              "\n",
              "  <div id=\"df-5fe89116-ee73-45ac-957c-5139de205e4f\" class=\"colab-df-container\">\n",
              "    <div>\n",
              "<style scoped>\n",
              "    .dataframe tbody tr th:only-of-type {\n",
              "        vertical-align: middle;\n",
              "    }\n",
              "\n",
              "    .dataframe tbody tr th {\n",
              "        vertical-align: top;\n",
              "    }\n",
              "\n",
              "    .dataframe thead th {\n",
              "        text-align: right;\n",
              "    }\n",
              "</style>\n",
              "<table border=\"1\" class=\"dataframe\">\n",
              "  <thead>\n",
              "    <tr style=\"text-align: right;\">\n",
              "      <th></th>\n",
              "      <th>Gender</th>\n",
              "      <th>Age</th>\n",
              "      <th>Indicator.of.Rare.Case</th>\n",
              "      <th>Survival_Time</th>\n",
              "      <th>indicater</th>\n",
              "      <th>RCBP.Name_RCBP BELO HORIZONTE</th>\n",
              "      <th>RCBP.Name_RCBP CAMPINAS-UNICAMP</th>\n",
              "      <th>RCBP.Name_RCBP DISTRITO FEDERAL</th>\n",
              "      <th>RCBP.Name_RCBP DRS BARRETOS</th>\n",
              "      <th>RCBP.Name_RCBP FORTALEZA</th>\n",
              "      <th>...</th>\n",
              "      <th>Diagnostic.means_PESQUISA</th>\n",
              "      <th>Diagnostic.means_SDO</th>\n",
              "      <th>Diagnostic.means_other</th>\n",
              "      <th>Extension_IN SITU</th>\n",
              "      <th>Extension_LOCALIZADO</th>\n",
              "      <th>Extension_MET?STASE</th>\n",
              "      <th>Extension_N?O SE APLICA</th>\n",
              "      <th>Type.of.Death_C?NCER</th>\n",
              "      <th>Type.of.Death_N?O C?NCER</th>\n",
              "      <th>Type.of.Death_other</th>\n",
              "    </tr>\n",
              "  </thead>\n",
              "  <tbody>\n",
              "    <tr>\n",
              "      <th>0</th>\n",
              "      <td>1</td>\n",
              "      <td>0.283019</td>\n",
              "      <td>0</td>\n",
              "      <td>0</td>\n",
              "      <td>1</td>\n",
              "      <td>False</td>\n",
              "      <td>True</td>\n",
              "      <td>False</td>\n",
              "      <td>False</td>\n",
              "      <td>False</td>\n",
              "      <td>...</td>\n",
              "      <td>False</td>\n",
              "      <td>True</td>\n",
              "      <td>False</td>\n",
              "      <td>False</td>\n",
              "      <td>False</td>\n",
              "      <td>True</td>\n",
              "      <td>False</td>\n",
              "      <td>True</td>\n",
              "      <td>False</td>\n",
              "      <td>False</td>\n",
              "    </tr>\n",
              "    <tr>\n",
              "      <th>1</th>\n",
              "      <td>1</td>\n",
              "      <td>0.490566</td>\n",
              "      <td>0</td>\n",
              "      <td>0</td>\n",
              "      <td>1</td>\n",
              "      <td>False</td>\n",
              "      <td>True</td>\n",
              "      <td>False</td>\n",
              "      <td>False</td>\n",
              "      <td>False</td>\n",
              "      <td>...</td>\n",
              "      <td>False</td>\n",
              "      <td>True</td>\n",
              "      <td>False</td>\n",
              "      <td>False</td>\n",
              "      <td>False</td>\n",
              "      <td>True</td>\n",
              "      <td>False</td>\n",
              "      <td>True</td>\n",
              "      <td>False</td>\n",
              "      <td>False</td>\n",
              "    </tr>\n",
              "    <tr>\n",
              "      <th>2</th>\n",
              "      <td>1</td>\n",
              "      <td>0.698113</td>\n",
              "      <td>0</td>\n",
              "      <td>0</td>\n",
              "      <td>1</td>\n",
              "      <td>False</td>\n",
              "      <td>True</td>\n",
              "      <td>False</td>\n",
              "      <td>False</td>\n",
              "      <td>False</td>\n",
              "      <td>...</td>\n",
              "      <td>False</td>\n",
              "      <td>True</td>\n",
              "      <td>False</td>\n",
              "      <td>False</td>\n",
              "      <td>False</td>\n",
              "      <td>False</td>\n",
              "      <td>True</td>\n",
              "      <td>True</td>\n",
              "      <td>False</td>\n",
              "      <td>False</td>\n",
              "    </tr>\n",
              "    <tr>\n",
              "      <th>3</th>\n",
              "      <td>1</td>\n",
              "      <td>0.556604</td>\n",
              "      <td>0</td>\n",
              "      <td>0</td>\n",
              "      <td>1</td>\n",
              "      <td>False</td>\n",
              "      <td>True</td>\n",
              "      <td>False</td>\n",
              "      <td>False</td>\n",
              "      <td>False</td>\n",
              "      <td>...</td>\n",
              "      <td>False</td>\n",
              "      <td>True</td>\n",
              "      <td>False</td>\n",
              "      <td>False</td>\n",
              "      <td>False</td>\n",
              "      <td>True</td>\n",
              "      <td>False</td>\n",
              "      <td>True</td>\n",
              "      <td>False</td>\n",
              "      <td>False</td>\n",
              "    </tr>\n",
              "    <tr>\n",
              "      <th>5</th>\n",
              "      <td>0</td>\n",
              "      <td>0.754717</td>\n",
              "      <td>0</td>\n",
              "      <td>0</td>\n",
              "      <td>1</td>\n",
              "      <td>False</td>\n",
              "      <td>True</td>\n",
              "      <td>False</td>\n",
              "      <td>False</td>\n",
              "      <td>False</td>\n",
              "      <td>...</td>\n",
              "      <td>False</td>\n",
              "      <td>True</td>\n",
              "      <td>False</td>\n",
              "      <td>False</td>\n",
              "      <td>False</td>\n",
              "      <td>False</td>\n",
              "      <td>True</td>\n",
              "      <td>True</td>\n",
              "      <td>False</td>\n",
              "      <td>False</td>\n",
              "    </tr>\n",
              "    <tr>\n",
              "      <th>...</th>\n",
              "      <td>...</td>\n",
              "      <td>...</td>\n",
              "      <td>...</td>\n",
              "      <td>...</td>\n",
              "      <td>...</td>\n",
              "      <td>...</td>\n",
              "      <td>...</td>\n",
              "      <td>...</td>\n",
              "      <td>...</td>\n",
              "      <td>...</td>\n",
              "      <td>...</td>\n",
              "      <td>...</td>\n",
              "      <td>...</td>\n",
              "      <td>...</td>\n",
              "      <td>...</td>\n",
              "      <td>...</td>\n",
              "      <td>...</td>\n",
              "      <td>...</td>\n",
              "      <td>...</td>\n",
              "      <td>...</td>\n",
              "      <td>...</td>\n",
              "    </tr>\n",
              "    <tr>\n",
              "      <th>14750</th>\n",
              "      <td>0</td>\n",
              "      <td>0.613208</td>\n",
              "      <td>0</td>\n",
              "      <td>1475</td>\n",
              "      <td>1</td>\n",
              "      <td>False</td>\n",
              "      <td>False</td>\n",
              "      <td>False</td>\n",
              "      <td>False</td>\n",
              "      <td>False</td>\n",
              "      <td>...</td>\n",
              "      <td>False</td>\n",
              "      <td>False</td>\n",
              "      <td>False</td>\n",
              "      <td>False</td>\n",
              "      <td>False</td>\n",
              "      <td>False</td>\n",
              "      <td>True</td>\n",
              "      <td>True</td>\n",
              "      <td>False</td>\n",
              "      <td>False</td>\n",
              "    </tr>\n",
              "    <tr>\n",
              "      <th>14751</th>\n",
              "      <td>1</td>\n",
              "      <td>0.528302</td>\n",
              "      <td>0</td>\n",
              "      <td>1302</td>\n",
              "      <td>1</td>\n",
              "      <td>False</td>\n",
              "      <td>False</td>\n",
              "      <td>False</td>\n",
              "      <td>False</td>\n",
              "      <td>False</td>\n",
              "      <td>...</td>\n",
              "      <td>False</td>\n",
              "      <td>False</td>\n",
              "      <td>False</td>\n",
              "      <td>False</td>\n",
              "      <td>False</td>\n",
              "      <td>False</td>\n",
              "      <td>True</td>\n",
              "      <td>True</td>\n",
              "      <td>False</td>\n",
              "      <td>False</td>\n",
              "    </tr>\n",
              "    <tr>\n",
              "      <th>14752</th>\n",
              "      <td>1</td>\n",
              "      <td>0.122642</td>\n",
              "      <td>0</td>\n",
              "      <td>936</td>\n",
              "      <td>1</td>\n",
              "      <td>False</td>\n",
              "      <td>False</td>\n",
              "      <td>False</td>\n",
              "      <td>False</td>\n",
              "      <td>False</td>\n",
              "      <td>...</td>\n",
              "      <td>False</td>\n",
              "      <td>False</td>\n",
              "      <td>False</td>\n",
              "      <td>False</td>\n",
              "      <td>False</td>\n",
              "      <td>True</td>\n",
              "      <td>False</td>\n",
              "      <td>True</td>\n",
              "      <td>False</td>\n",
              "      <td>False</td>\n",
              "    </tr>\n",
              "    <tr>\n",
              "      <th>14753</th>\n",
              "      <td>1</td>\n",
              "      <td>0.773585</td>\n",
              "      <td>0</td>\n",
              "      <td>420</td>\n",
              "      <td>1</td>\n",
              "      <td>False</td>\n",
              "      <td>False</td>\n",
              "      <td>False</td>\n",
              "      <td>False</td>\n",
              "      <td>False</td>\n",
              "      <td>...</td>\n",
              "      <td>False</td>\n",
              "      <td>False</td>\n",
              "      <td>False</td>\n",
              "      <td>False</td>\n",
              "      <td>False</td>\n",
              "      <td>True</td>\n",
              "      <td>False</td>\n",
              "      <td>True</td>\n",
              "      <td>False</td>\n",
              "      <td>False</td>\n",
              "    </tr>\n",
              "    <tr>\n",
              "      <th>14754</th>\n",
              "      <td>0</td>\n",
              "      <td>0.811321</td>\n",
              "      <td>0</td>\n",
              "      <td>379</td>\n",
              "      <td>1</td>\n",
              "      <td>False</td>\n",
              "      <td>False</td>\n",
              "      <td>False</td>\n",
              "      <td>False</td>\n",
              "      <td>False</td>\n",
              "      <td>...</td>\n",
              "      <td>False</td>\n",
              "      <td>False</td>\n",
              "      <td>False</td>\n",
              "      <td>False</td>\n",
              "      <td>False</td>\n",
              "      <td>True</td>\n",
              "      <td>False</td>\n",
              "      <td>True</td>\n",
              "      <td>False</td>\n",
              "      <td>False</td>\n",
              "    </tr>\n",
              "  </tbody>\n",
              "</table>\n",
              "<p>10210 rows × 140 columns</p>\n",
              "</div>\n",
              "    <div class=\"colab-df-buttons\">\n",
              "\n",
              "  <div class=\"colab-df-container\">\n",
              "    <button class=\"colab-df-convert\" onclick=\"convertToInteractive('df-5fe89116-ee73-45ac-957c-5139de205e4f')\"\n",
              "            title=\"Convert this dataframe to an interactive table.\"\n",
              "            style=\"display:none;\">\n",
              "\n",
              "  <svg xmlns=\"http://www.w3.org/2000/svg\" height=\"24px\" viewBox=\"0 -960 960 960\">\n",
              "    <path d=\"M120-120v-720h720v720H120Zm60-500h600v-160H180v160Zm220 220h160v-160H400v160Zm0 220h160v-160H400v160ZM180-400h160v-160H180v160Zm440 0h160v-160H620v160ZM180-180h160v-160H180v160Zm440 0h160v-160H620v160Z\"/>\n",
              "  </svg>\n",
              "    </button>\n",
              "\n",
              "  <style>\n",
              "    .colab-df-container {\n",
              "      display:flex;\n",
              "      gap: 12px;\n",
              "    }\n",
              "\n",
              "    .colab-df-convert {\n",
              "      background-color: #E8F0FE;\n",
              "      border: none;\n",
              "      border-radius: 50%;\n",
              "      cursor: pointer;\n",
              "      display: none;\n",
              "      fill: #1967D2;\n",
              "      height: 32px;\n",
              "      padding: 0 0 0 0;\n",
              "      width: 32px;\n",
              "    }\n",
              "\n",
              "    .colab-df-convert:hover {\n",
              "      background-color: #E2EBFA;\n",
              "      box-shadow: 0px 1px 2px rgba(60, 64, 67, 0.3), 0px 1px 3px 1px rgba(60, 64, 67, 0.15);\n",
              "      fill: #174EA6;\n",
              "    }\n",
              "\n",
              "    .colab-df-buttons div {\n",
              "      margin-bottom: 4px;\n",
              "    }\n",
              "\n",
              "    [theme=dark] .colab-df-convert {\n",
              "      background-color: #3B4455;\n",
              "      fill: #D2E3FC;\n",
              "    }\n",
              "\n",
              "    [theme=dark] .colab-df-convert:hover {\n",
              "      background-color: #434B5C;\n",
              "      box-shadow: 0px 1px 3px 1px rgba(0, 0, 0, 0.15);\n",
              "      filter: drop-shadow(0px 1px 2px rgba(0, 0, 0, 0.3));\n",
              "      fill: #FFFFFF;\n",
              "    }\n",
              "  </style>\n",
              "\n",
              "    <script>\n",
              "      const buttonEl =\n",
              "        document.querySelector('#df-5fe89116-ee73-45ac-957c-5139de205e4f button.colab-df-convert');\n",
              "      buttonEl.style.display =\n",
              "        google.colab.kernel.accessAllowed ? 'block' : 'none';\n",
              "\n",
              "      async function convertToInteractive(key) {\n",
              "        const element = document.querySelector('#df-5fe89116-ee73-45ac-957c-5139de205e4f');\n",
              "        const dataTable =\n",
              "          await google.colab.kernel.invokeFunction('convertToInteractive',\n",
              "                                                    [key], {});\n",
              "        if (!dataTable) return;\n",
              "\n",
              "        const docLinkHtml = 'Like what you see? Visit the ' +\n",
              "          '<a target=\"_blank\" href=https://colab.research.google.com/notebooks/data_table.ipynb>data table notebook</a>'\n",
              "          + ' to learn more about interactive tables.';\n",
              "        element.innerHTML = '';\n",
              "        dataTable['output_type'] = 'display_data';\n",
              "        await google.colab.output.renderOutput(dataTable, element);\n",
              "        const docLink = document.createElement('div');\n",
              "        docLink.innerHTML = docLinkHtml;\n",
              "        element.appendChild(docLink);\n",
              "      }\n",
              "    </script>\n",
              "  </div>\n",
              "\n",
              "\n",
              "<div id=\"df-3e90a1d1-b55e-4696-9ab5-ce9e91d91b09\">\n",
              "  <button class=\"colab-df-quickchart\" onclick=\"quickchart('df-3e90a1d1-b55e-4696-9ab5-ce9e91d91b09')\"\n",
              "            title=\"Suggest charts\"\n",
              "            style=\"display:none;\">\n",
              "\n",
              "<svg xmlns=\"http://www.w3.org/2000/svg\" height=\"24px\"viewBox=\"0 0 24 24\"\n",
              "     width=\"24px\">\n",
              "    <g>\n",
              "        <path d=\"M19 3H5c-1.1 0-2 .9-2 2v14c0 1.1.9 2 2 2h14c1.1 0 2-.9 2-2V5c0-1.1-.9-2-2-2zM9 17H7v-7h2v7zm4 0h-2V7h2v10zm4 0h-2v-4h2v4z\"/>\n",
              "    </g>\n",
              "</svg>\n",
              "  </button>\n",
              "\n",
              "<style>\n",
              "  .colab-df-quickchart {\n",
              "      --bg-color: #E8F0FE;\n",
              "      --fill-color: #1967D2;\n",
              "      --hover-bg-color: #E2EBFA;\n",
              "      --hover-fill-color: #174EA6;\n",
              "      --disabled-fill-color: #AAA;\n",
              "      --disabled-bg-color: #DDD;\n",
              "  }\n",
              "\n",
              "  [theme=dark] .colab-df-quickchart {\n",
              "      --bg-color: #3B4455;\n",
              "      --fill-color: #D2E3FC;\n",
              "      --hover-bg-color: #434B5C;\n",
              "      --hover-fill-color: #FFFFFF;\n",
              "      --disabled-bg-color: #3B4455;\n",
              "      --disabled-fill-color: #666;\n",
              "  }\n",
              "\n",
              "  .colab-df-quickchart {\n",
              "    background-color: var(--bg-color);\n",
              "    border: none;\n",
              "    border-radius: 50%;\n",
              "    cursor: pointer;\n",
              "    display: none;\n",
              "    fill: var(--fill-color);\n",
              "    height: 32px;\n",
              "    padding: 0;\n",
              "    width: 32px;\n",
              "  }\n",
              "\n",
              "  .colab-df-quickchart:hover {\n",
              "    background-color: var(--hover-bg-color);\n",
              "    box-shadow: 0 1px 2px rgba(60, 64, 67, 0.3), 0 1px 3px 1px rgba(60, 64, 67, 0.15);\n",
              "    fill: var(--button-hover-fill-color);\n",
              "  }\n",
              "\n",
              "  .colab-df-quickchart-complete:disabled,\n",
              "  .colab-df-quickchart-complete:disabled:hover {\n",
              "    background-color: var(--disabled-bg-color);\n",
              "    fill: var(--disabled-fill-color);\n",
              "    box-shadow: none;\n",
              "  }\n",
              "\n",
              "  .colab-df-spinner {\n",
              "    border: 2px solid var(--fill-color);\n",
              "    border-color: transparent;\n",
              "    border-bottom-color: var(--fill-color);\n",
              "    animation:\n",
              "      spin 1s steps(1) infinite;\n",
              "  }\n",
              "\n",
              "  @keyframes spin {\n",
              "    0% {\n",
              "      border-color: transparent;\n",
              "      border-bottom-color: var(--fill-color);\n",
              "      border-left-color: var(--fill-color);\n",
              "    }\n",
              "    20% {\n",
              "      border-color: transparent;\n",
              "      border-left-color: var(--fill-color);\n",
              "      border-top-color: var(--fill-color);\n",
              "    }\n",
              "    30% {\n",
              "      border-color: transparent;\n",
              "      border-left-color: var(--fill-color);\n",
              "      border-top-color: var(--fill-color);\n",
              "      border-right-color: var(--fill-color);\n",
              "    }\n",
              "    40% {\n",
              "      border-color: transparent;\n",
              "      border-right-color: var(--fill-color);\n",
              "      border-top-color: var(--fill-color);\n",
              "    }\n",
              "    60% {\n",
              "      border-color: transparent;\n",
              "      border-right-color: var(--fill-color);\n",
              "    }\n",
              "    80% {\n",
              "      border-color: transparent;\n",
              "      border-right-color: var(--fill-color);\n",
              "      border-bottom-color: var(--fill-color);\n",
              "    }\n",
              "    90% {\n",
              "      border-color: transparent;\n",
              "      border-bottom-color: var(--fill-color);\n",
              "    }\n",
              "  }\n",
              "</style>\n",
              "\n",
              "  <script>\n",
              "    async function quickchart(key) {\n",
              "      const quickchartButtonEl =\n",
              "        document.querySelector('#' + key + ' button');\n",
              "      quickchartButtonEl.disabled = true;  // To prevent multiple clicks.\n",
              "      quickchartButtonEl.classList.add('colab-df-spinner');\n",
              "      try {\n",
              "        const charts = await google.colab.kernel.invokeFunction(\n",
              "            'suggestCharts', [key], {});\n",
              "      } catch (error) {\n",
              "        console.error('Error during call to suggestCharts:', error);\n",
              "      }\n",
              "      quickchartButtonEl.classList.remove('colab-df-spinner');\n",
              "      quickchartButtonEl.classList.add('colab-df-quickchart-complete');\n",
              "    }\n",
              "    (() => {\n",
              "      let quickchartButtonEl =\n",
              "        document.querySelector('#df-3e90a1d1-b55e-4696-9ab5-ce9e91d91b09 button');\n",
              "      quickchartButtonEl.style.display =\n",
              "        google.colab.kernel.accessAllowed ? 'block' : 'none';\n",
              "    })();\n",
              "  </script>\n",
              "</div>\n",
              "\n",
              "    </div>\n",
              "  </div>\n"
            ],
            "application/vnd.google.colaboratory.intrinsic+json": {
              "type": "dataframe"
            }
          },
          "metadata": {},
          "execution_count": 16
        }
      ],
      "source": [
        "data[data['indicater']==1]"
      ],
      "id": "IwnjqGYYiR_6"
    },
    {
      "cell_type": "code",
      "execution_count": 17,
      "metadata": {
        "id": "ae2a54ae"
      },
      "outputs": [],
      "source": [
        "X = data.drop(['Survival_Time', 'indicater'], axis=1)\n",
        "time_all = data['Survival_Time'].values\n",
        "event_all = data['indicater'].values"
      ],
      "id": "ae2a54ae"
    },
    {
      "cell_type": "code",
      "execution_count": 18,
      "metadata": {
        "id": "Ec-N3gTIaDXP",
        "colab": {
          "base_uri": "https://localhost:8080/",
          "height": 290
        },
        "outputId": "449e02f7-7e93-4c58-ceb4-9c2867132084"
      },
      "outputs": [
        {
          "output_type": "execute_result",
          "data": {
            "text/plain": [
              "   Gender       Age  Indicator.of.Rare.Case  RCBP.Name_RCBP BELO HORIZONTE  \\\n",
              "0       1  0.283019                       0                          False   \n",
              "1       1  0.490566                       0                          False   \n",
              "2       1  0.698113                       0                          False   \n",
              "3       1  0.556604                       0                          False   \n",
              "4       0  0.122642                       0                          False   \n",
              "\n",
              "   RCBP.Name_RCBP CAMPINAS-UNICAMP  RCBP.Name_RCBP DISTRITO FEDERAL  \\\n",
              "0                             True                            False   \n",
              "1                             True                            False   \n",
              "2                             True                            False   \n",
              "3                             True                            False   \n",
              "4                             True                            False   \n",
              "\n",
              "   RCBP.Name_RCBP DRS BARRETOS  RCBP.Name_RCBP FORTALEZA  \\\n",
              "0                        False                     False   \n",
              "1                        False                     False   \n",
              "2                        False                     False   \n",
              "3                        False                     False   \n",
              "4                        False                     False   \n",
              "\n",
              "   RCBP.Name_RCBP MANAUS  RCBP.Name_RCBP MATO GROSSO (INTERIOR)  ...  \\\n",
              "0                  False                                  False  ...   \n",
              "1                  False                                  False  ...   \n",
              "2                  False                                  False  ...   \n",
              "3                  False                                  False  ...   \n",
              "4                  False                                  False  ...   \n",
              "\n",
              "   Diagnostic.means_PESQUISA  Diagnostic.means_SDO  Diagnostic.means_other  \\\n",
              "0                      False                  True                   False   \n",
              "1                      False                  True                   False   \n",
              "2                      False                  True                   False   \n",
              "3                      False                  True                   False   \n",
              "4                      False                 False                   False   \n",
              "\n",
              "   Extension_IN SITU  Extension_LOCALIZADO  Extension_MET?STASE  \\\n",
              "0              False                 False                 True   \n",
              "1              False                 False                 True   \n",
              "2              False                 False                False   \n",
              "3              False                 False                 True   \n",
              "4              False                 False                False   \n",
              "\n",
              "   Extension_N?O SE APLICA  Type.of.Death_C?NCER  Type.of.Death_N?O C?NCER  \\\n",
              "0                    False                  True                     False   \n",
              "1                    False                  True                     False   \n",
              "2                     True                  True                     False   \n",
              "3                    False                  True                     False   \n",
              "4                     True                 False                     False   \n",
              "\n",
              "   Type.of.Death_other  \n",
              "0                False  \n",
              "1                False  \n",
              "2                False  \n",
              "3                False  \n",
              "4                 True  \n",
              "\n",
              "[5 rows x 138 columns]"
            ],
            "text/html": [
              "\n",
              "  <div id=\"df-03776acd-c532-4cb2-8d32-fe164fd21bd5\" class=\"colab-df-container\">\n",
              "    <div>\n",
              "<style scoped>\n",
              "    .dataframe tbody tr th:only-of-type {\n",
              "        vertical-align: middle;\n",
              "    }\n",
              "\n",
              "    .dataframe tbody tr th {\n",
              "        vertical-align: top;\n",
              "    }\n",
              "\n",
              "    .dataframe thead th {\n",
              "        text-align: right;\n",
              "    }\n",
              "</style>\n",
              "<table border=\"1\" class=\"dataframe\">\n",
              "  <thead>\n",
              "    <tr style=\"text-align: right;\">\n",
              "      <th></th>\n",
              "      <th>Gender</th>\n",
              "      <th>Age</th>\n",
              "      <th>Indicator.of.Rare.Case</th>\n",
              "      <th>RCBP.Name_RCBP BELO HORIZONTE</th>\n",
              "      <th>RCBP.Name_RCBP CAMPINAS-UNICAMP</th>\n",
              "      <th>RCBP.Name_RCBP DISTRITO FEDERAL</th>\n",
              "      <th>RCBP.Name_RCBP DRS BARRETOS</th>\n",
              "      <th>RCBP.Name_RCBP FORTALEZA</th>\n",
              "      <th>RCBP.Name_RCBP MANAUS</th>\n",
              "      <th>RCBP.Name_RCBP MATO GROSSO (INTERIOR)</th>\n",
              "      <th>...</th>\n",
              "      <th>Diagnostic.means_PESQUISA</th>\n",
              "      <th>Diagnostic.means_SDO</th>\n",
              "      <th>Diagnostic.means_other</th>\n",
              "      <th>Extension_IN SITU</th>\n",
              "      <th>Extension_LOCALIZADO</th>\n",
              "      <th>Extension_MET?STASE</th>\n",
              "      <th>Extension_N?O SE APLICA</th>\n",
              "      <th>Type.of.Death_C?NCER</th>\n",
              "      <th>Type.of.Death_N?O C?NCER</th>\n",
              "      <th>Type.of.Death_other</th>\n",
              "    </tr>\n",
              "  </thead>\n",
              "  <tbody>\n",
              "    <tr>\n",
              "      <th>0</th>\n",
              "      <td>1</td>\n",
              "      <td>0.283019</td>\n",
              "      <td>0</td>\n",
              "      <td>False</td>\n",
              "      <td>True</td>\n",
              "      <td>False</td>\n",
              "      <td>False</td>\n",
              "      <td>False</td>\n",
              "      <td>False</td>\n",
              "      <td>False</td>\n",
              "      <td>...</td>\n",
              "      <td>False</td>\n",
              "      <td>True</td>\n",
              "      <td>False</td>\n",
              "      <td>False</td>\n",
              "      <td>False</td>\n",
              "      <td>True</td>\n",
              "      <td>False</td>\n",
              "      <td>True</td>\n",
              "      <td>False</td>\n",
              "      <td>False</td>\n",
              "    </tr>\n",
              "    <tr>\n",
              "      <th>1</th>\n",
              "      <td>1</td>\n",
              "      <td>0.490566</td>\n",
              "      <td>0</td>\n",
              "      <td>False</td>\n",
              "      <td>True</td>\n",
              "      <td>False</td>\n",
              "      <td>False</td>\n",
              "      <td>False</td>\n",
              "      <td>False</td>\n",
              "      <td>False</td>\n",
              "      <td>...</td>\n",
              "      <td>False</td>\n",
              "      <td>True</td>\n",
              "      <td>False</td>\n",
              "      <td>False</td>\n",
              "      <td>False</td>\n",
              "      <td>True</td>\n",
              "      <td>False</td>\n",
              "      <td>True</td>\n",
              "      <td>False</td>\n",
              "      <td>False</td>\n",
              "    </tr>\n",
              "    <tr>\n",
              "      <th>2</th>\n",
              "      <td>1</td>\n",
              "      <td>0.698113</td>\n",
              "      <td>0</td>\n",
              "      <td>False</td>\n",
              "      <td>True</td>\n",
              "      <td>False</td>\n",
              "      <td>False</td>\n",
              "      <td>False</td>\n",
              "      <td>False</td>\n",
              "      <td>False</td>\n",
              "      <td>...</td>\n",
              "      <td>False</td>\n",
              "      <td>True</td>\n",
              "      <td>False</td>\n",
              "      <td>False</td>\n",
              "      <td>False</td>\n",
              "      <td>False</td>\n",
              "      <td>True</td>\n",
              "      <td>True</td>\n",
              "      <td>False</td>\n",
              "      <td>False</td>\n",
              "    </tr>\n",
              "    <tr>\n",
              "      <th>3</th>\n",
              "      <td>1</td>\n",
              "      <td>0.556604</td>\n",
              "      <td>0</td>\n",
              "      <td>False</td>\n",
              "      <td>True</td>\n",
              "      <td>False</td>\n",
              "      <td>False</td>\n",
              "      <td>False</td>\n",
              "      <td>False</td>\n",
              "      <td>False</td>\n",
              "      <td>...</td>\n",
              "      <td>False</td>\n",
              "      <td>True</td>\n",
              "      <td>False</td>\n",
              "      <td>False</td>\n",
              "      <td>False</td>\n",
              "      <td>True</td>\n",
              "      <td>False</td>\n",
              "      <td>True</td>\n",
              "      <td>False</td>\n",
              "      <td>False</td>\n",
              "    </tr>\n",
              "    <tr>\n",
              "      <th>4</th>\n",
              "      <td>0</td>\n",
              "      <td>0.122642</td>\n",
              "      <td>0</td>\n",
              "      <td>False</td>\n",
              "      <td>True</td>\n",
              "      <td>False</td>\n",
              "      <td>False</td>\n",
              "      <td>False</td>\n",
              "      <td>False</td>\n",
              "      <td>False</td>\n",
              "      <td>...</td>\n",
              "      <td>False</td>\n",
              "      <td>False</td>\n",
              "      <td>False</td>\n",
              "      <td>False</td>\n",
              "      <td>False</td>\n",
              "      <td>False</td>\n",
              "      <td>True</td>\n",
              "      <td>False</td>\n",
              "      <td>False</td>\n",
              "      <td>True</td>\n",
              "    </tr>\n",
              "  </tbody>\n",
              "</table>\n",
              "<p>5 rows × 138 columns</p>\n",
              "</div>\n",
              "    <div class=\"colab-df-buttons\">\n",
              "\n",
              "  <div class=\"colab-df-container\">\n",
              "    <button class=\"colab-df-convert\" onclick=\"convertToInteractive('df-03776acd-c532-4cb2-8d32-fe164fd21bd5')\"\n",
              "            title=\"Convert this dataframe to an interactive table.\"\n",
              "            style=\"display:none;\">\n",
              "\n",
              "  <svg xmlns=\"http://www.w3.org/2000/svg\" height=\"24px\" viewBox=\"0 -960 960 960\">\n",
              "    <path d=\"M120-120v-720h720v720H120Zm60-500h600v-160H180v160Zm220 220h160v-160H400v160Zm0 220h160v-160H400v160ZM180-400h160v-160H180v160Zm440 0h160v-160H620v160ZM180-180h160v-160H180v160Zm440 0h160v-160H620v160Z\"/>\n",
              "  </svg>\n",
              "    </button>\n",
              "\n",
              "  <style>\n",
              "    .colab-df-container {\n",
              "      display:flex;\n",
              "      gap: 12px;\n",
              "    }\n",
              "\n",
              "    .colab-df-convert {\n",
              "      background-color: #E8F0FE;\n",
              "      border: none;\n",
              "      border-radius: 50%;\n",
              "      cursor: pointer;\n",
              "      display: none;\n",
              "      fill: #1967D2;\n",
              "      height: 32px;\n",
              "      padding: 0 0 0 0;\n",
              "      width: 32px;\n",
              "    }\n",
              "\n",
              "    .colab-df-convert:hover {\n",
              "      background-color: #E2EBFA;\n",
              "      box-shadow: 0px 1px 2px rgba(60, 64, 67, 0.3), 0px 1px 3px 1px rgba(60, 64, 67, 0.15);\n",
              "      fill: #174EA6;\n",
              "    }\n",
              "\n",
              "    .colab-df-buttons div {\n",
              "      margin-bottom: 4px;\n",
              "    }\n",
              "\n",
              "    [theme=dark] .colab-df-convert {\n",
              "      background-color: #3B4455;\n",
              "      fill: #D2E3FC;\n",
              "    }\n",
              "\n",
              "    [theme=dark] .colab-df-convert:hover {\n",
              "      background-color: #434B5C;\n",
              "      box-shadow: 0px 1px 3px 1px rgba(0, 0, 0, 0.15);\n",
              "      filter: drop-shadow(0px 1px 2px rgba(0, 0, 0, 0.3));\n",
              "      fill: #FFFFFF;\n",
              "    }\n",
              "  </style>\n",
              "\n",
              "    <script>\n",
              "      const buttonEl =\n",
              "        document.querySelector('#df-03776acd-c532-4cb2-8d32-fe164fd21bd5 button.colab-df-convert');\n",
              "      buttonEl.style.display =\n",
              "        google.colab.kernel.accessAllowed ? 'block' : 'none';\n",
              "\n",
              "      async function convertToInteractive(key) {\n",
              "        const element = document.querySelector('#df-03776acd-c532-4cb2-8d32-fe164fd21bd5');\n",
              "        const dataTable =\n",
              "          await google.colab.kernel.invokeFunction('convertToInteractive',\n",
              "                                                    [key], {});\n",
              "        if (!dataTable) return;\n",
              "\n",
              "        const docLinkHtml = 'Like what you see? Visit the ' +\n",
              "          '<a target=\"_blank\" href=https://colab.research.google.com/notebooks/data_table.ipynb>data table notebook</a>'\n",
              "          + ' to learn more about interactive tables.';\n",
              "        element.innerHTML = '';\n",
              "        dataTable['output_type'] = 'display_data';\n",
              "        await google.colab.output.renderOutput(dataTable, element);\n",
              "        const docLink = document.createElement('div');\n",
              "        docLink.innerHTML = docLinkHtml;\n",
              "        element.appendChild(docLink);\n",
              "      }\n",
              "    </script>\n",
              "  </div>\n",
              "\n",
              "\n",
              "<div id=\"df-44be8d84-e399-454c-8039-502391d6f118\">\n",
              "  <button class=\"colab-df-quickchart\" onclick=\"quickchart('df-44be8d84-e399-454c-8039-502391d6f118')\"\n",
              "            title=\"Suggest charts\"\n",
              "            style=\"display:none;\">\n",
              "\n",
              "<svg xmlns=\"http://www.w3.org/2000/svg\" height=\"24px\"viewBox=\"0 0 24 24\"\n",
              "     width=\"24px\">\n",
              "    <g>\n",
              "        <path d=\"M19 3H5c-1.1 0-2 .9-2 2v14c0 1.1.9 2 2 2h14c1.1 0 2-.9 2-2V5c0-1.1-.9-2-2-2zM9 17H7v-7h2v7zm4 0h-2V7h2v10zm4 0h-2v-4h2v4z\"/>\n",
              "    </g>\n",
              "</svg>\n",
              "  </button>\n",
              "\n",
              "<style>\n",
              "  .colab-df-quickchart {\n",
              "      --bg-color: #E8F0FE;\n",
              "      --fill-color: #1967D2;\n",
              "      --hover-bg-color: #E2EBFA;\n",
              "      --hover-fill-color: #174EA6;\n",
              "      --disabled-fill-color: #AAA;\n",
              "      --disabled-bg-color: #DDD;\n",
              "  }\n",
              "\n",
              "  [theme=dark] .colab-df-quickchart {\n",
              "      --bg-color: #3B4455;\n",
              "      --fill-color: #D2E3FC;\n",
              "      --hover-bg-color: #434B5C;\n",
              "      --hover-fill-color: #FFFFFF;\n",
              "      --disabled-bg-color: #3B4455;\n",
              "      --disabled-fill-color: #666;\n",
              "  }\n",
              "\n",
              "  .colab-df-quickchart {\n",
              "    background-color: var(--bg-color);\n",
              "    border: none;\n",
              "    border-radius: 50%;\n",
              "    cursor: pointer;\n",
              "    display: none;\n",
              "    fill: var(--fill-color);\n",
              "    height: 32px;\n",
              "    padding: 0;\n",
              "    width: 32px;\n",
              "  }\n",
              "\n",
              "  .colab-df-quickchart:hover {\n",
              "    background-color: var(--hover-bg-color);\n",
              "    box-shadow: 0 1px 2px rgba(60, 64, 67, 0.3), 0 1px 3px 1px rgba(60, 64, 67, 0.15);\n",
              "    fill: var(--button-hover-fill-color);\n",
              "  }\n",
              "\n",
              "  .colab-df-quickchart-complete:disabled,\n",
              "  .colab-df-quickchart-complete:disabled:hover {\n",
              "    background-color: var(--disabled-bg-color);\n",
              "    fill: var(--disabled-fill-color);\n",
              "    box-shadow: none;\n",
              "  }\n",
              "\n",
              "  .colab-df-spinner {\n",
              "    border: 2px solid var(--fill-color);\n",
              "    border-color: transparent;\n",
              "    border-bottom-color: var(--fill-color);\n",
              "    animation:\n",
              "      spin 1s steps(1) infinite;\n",
              "  }\n",
              "\n",
              "  @keyframes spin {\n",
              "    0% {\n",
              "      border-color: transparent;\n",
              "      border-bottom-color: var(--fill-color);\n",
              "      border-left-color: var(--fill-color);\n",
              "    }\n",
              "    20% {\n",
              "      border-color: transparent;\n",
              "      border-left-color: var(--fill-color);\n",
              "      border-top-color: var(--fill-color);\n",
              "    }\n",
              "    30% {\n",
              "      border-color: transparent;\n",
              "      border-left-color: var(--fill-color);\n",
              "      border-top-color: var(--fill-color);\n",
              "      border-right-color: var(--fill-color);\n",
              "    }\n",
              "    40% {\n",
              "      border-color: transparent;\n",
              "      border-right-color: var(--fill-color);\n",
              "      border-top-color: var(--fill-color);\n",
              "    }\n",
              "    60% {\n",
              "      border-color: transparent;\n",
              "      border-right-color: var(--fill-color);\n",
              "    }\n",
              "    80% {\n",
              "      border-color: transparent;\n",
              "      border-right-color: var(--fill-color);\n",
              "      border-bottom-color: var(--fill-color);\n",
              "    }\n",
              "    90% {\n",
              "      border-color: transparent;\n",
              "      border-bottom-color: var(--fill-color);\n",
              "    }\n",
              "  }\n",
              "</style>\n",
              "\n",
              "  <script>\n",
              "    async function quickchart(key) {\n",
              "      const quickchartButtonEl =\n",
              "        document.querySelector('#' + key + ' button');\n",
              "      quickchartButtonEl.disabled = true;  // To prevent multiple clicks.\n",
              "      quickchartButtonEl.classList.add('colab-df-spinner');\n",
              "      try {\n",
              "        const charts = await google.colab.kernel.invokeFunction(\n",
              "            'suggestCharts', [key], {});\n",
              "      } catch (error) {\n",
              "        console.error('Error during call to suggestCharts:', error);\n",
              "      }\n",
              "      quickchartButtonEl.classList.remove('colab-df-spinner');\n",
              "      quickchartButtonEl.classList.add('colab-df-quickchart-complete');\n",
              "    }\n",
              "    (() => {\n",
              "      let quickchartButtonEl =\n",
              "        document.querySelector('#df-44be8d84-e399-454c-8039-502391d6f118 button');\n",
              "      quickchartButtonEl.style.display =\n",
              "        google.colab.kernel.accessAllowed ? 'block' : 'none';\n",
              "    })();\n",
              "  </script>\n",
              "</div>\n",
              "\n",
              "    </div>\n",
              "  </div>\n"
            ],
            "application/vnd.google.colaboratory.intrinsic+json": {
              "type": "dataframe",
              "variable_name": "X"
            }
          },
          "metadata": {},
          "execution_count": 18
        }
      ],
      "source": [
        "# X_normalize\n",
        "X.head(5)"
      ],
      "id": "Ec-N3gTIaDXP"
    },
    {
      "cell_type": "code",
      "execution_count": 19,
      "metadata": {
        "id": "lUfuS-J_TAmL",
        "colab": {
          "base_uri": "https://localhost:8080/"
        },
        "outputId": "89fd5936-ae7d-4430-e4e8-76b53f1fb759"
      },
      "outputs": [
        {
          "output_type": "execute_result",
          "data": {
            "text/plain": [
              "7408"
            ]
          },
          "metadata": {},
          "execution_count": 19
        }
      ],
      "source": [
        "max_time = data['Survival_Time'].max()\n",
        "max_time"
      ],
      "id": "lUfuS-J_TAmL"
    },
    {
      "cell_type": "code",
      "execution_count": 20,
      "metadata": {
        "id": "u3bJGVksYVWI",
        "colab": {
          "base_uri": "https://localhost:8080/"
        },
        "outputId": "ae661056-3015-4cca-95c5-2e5055218254"
      },
      "outputs": [
        {
          "output_type": "stream",
          "name": "stdout",
          "text": [
            "['Gender', 'Age', 'Indicator.of.Rare.Case', 'RCBP.Name_RCBP BELO HORIZONTE', 'RCBP.Name_RCBP CAMPINAS-UNICAMP', 'RCBP.Name_RCBP DISTRITO FEDERAL', 'RCBP.Name_RCBP DRS BARRETOS', 'RCBP.Name_RCBP FORTALEZA', 'RCBP.Name_RCBP MANAUS', 'RCBP.Name_RCBP MATO GROSSO (INTERIOR)', 'RCBP.Name_RCBP NATAL', 'RCBP.Name_RCBP PORTO ALEGRE', 'RCBP.Name_other', 'Raca.Color_AMARELA', 'Raca.Color_BRANCO', 'Raca.Color_IND?GENA', 'Raca.Color_PARDA', 'Raca.Color_PRETA', 'Raca.Color_other', 'State.Civil_CASADO', 'State.Civil_SEPARADO JUDICIALMENTE', 'State.Civil_SOLTEIRO', 'State.Civil_UNI?O CONSENSUAL', 'State.Civil_VI?VO', 'State.Civil_other', 'Code.Profession_0.0', 'Code.Profession_111.0', 'Code.Profession_141.0', 'Code.Profession_512.0', 'Code.Profession_514.0', 'Code.Profession_516.0', 'Code.Profession_622.0', 'Code.Profession_715.0', 'Code.Profession_782.0', 'Code.Profession_other', 'Name.Occupation_CONDUTORES DE VE?CULOS E OPERADORES DE EQUIPAMENTOS DE ELEVA??O E DE MOVIMENTA??O DE CARGAS   \\t', 'Name.Occupation_GERENTES DE PRODU??O E OPERA??ES  \\t', 'Name.Occupation_MEMBROS SUPERIORES DO PODER LEGISLATIVO, EXECUTIVO E JUDICI?RIO   \\t', 'Name.Occupation_SEM INFORMA??O\\t', 'Name.Occupation_TRABALHADORES AGR?COLAS   \\t', 'Name.Occupation_TRABALHADORES DA CONSTRU??O CIVIL E OBRAS P?BLICAS\\t', 'Name.Occupation_TRABALHADORES DOS SERVI?OS DOM?STICOS EM GERAL\\t', 'Name.Occupation_TRABALHADORES NOS SERVI?OS DE ADMINISTRA??O, CONSERVA??O E MANUTEN??O DE EDIF?CIOS E LOGRADOUROS  \\t', 'Name.Occupation_TRABALHADORES NOS SERVI?OS DE EMBELEZAMENTO E CUIDADOS PESSOAIS   \\t', 'Name.Occupation_other', 'Status.Address_AMAZONAS', 'Status.Address_CEAR?', 'Status.Address_DISTRITO FEDERAL', 'Status.Address_MATO GROSSO ', 'Status.Address_MINAS GERAIS', 'Status.Address_RIO DE JANEIRO', 'Status.Address_RIO GRANDE DO NORTE', 'Status.Address_RIO GRANDE DO SUL', 'Status.Address_S?O PAULO', 'Status.Address_other', 'City.Address_BARRETOS', 'City.Address_BEBEDOURO', 'City.Address_BRAS?LIA', 'City.Address_CAMPINAS', 'City.Address_COLINA', 'City.Address_GUA?RA', 'City.Address_MONTE AZUL PAULISTA', 'City.Address_OL?MPIA', 'City.Address_VIRADOURO', 'City.Address_other', 'Description.of.Topography_COLO DO UTERO, SOE', 'Description.of.Topography_ESTOMAGO, SOE', 'Description.of.Topography_LOCALIZACAO PRIMARIA DESCONHECIDA, SOE', 'Description.of.Topography_MAMA , SOE', 'Description.of.Topography_MEDULA OSSEA', 'Description.of.Topography_PELE DE OUTRAS PARTES DA FACE', 'Description.of.Topography_PELE DO MEMBRO SUPERIOR E DO OMBRO', 'Description.of.Topography_PROSTATA, SOE', 'Description.of.Topography_PULMAO, SOE', 'Description.of.Topography_other', 'Topography.Code_C169', 'Topography.Code_C349', 'Topography.Code_C421', 'Topography.Code_C443', 'Topography.Code_C446', 'Topography.Code_C509', 'Topography.Code_C539', 'Topography.Code_C619', 'Topography.Code_C809', 'Topography.Code_other', 'Morphology.Description_ADENOCARCINOMA TUBULAR', 'Morphology.Description_ADENOCARCINOMA, SOE', 'Morphology.Description_CARCINOMA BASO CELULAR, SOE', 'Morphology.Description_CARCINOMA BASOCELULAR, SOE', 'Morphology.Description_CARCINOMA DE CELULAS ESCAMOSAS, SOE', 'Morphology.Description_CARCINOMA DUCTAL INFILTRANTE', 'Morphology.Description_CARCINOMA ESCAMOCELULAR, SOE', 'Morphology.Description_NEOPLASIA MALIGNA', 'Morphology.Description_NEOPLASMA MALIGNO', 'Morphology.Description_other', 'Code.of.Morphology_80003', 'Code.of.Morphology_80703', 'Code.of.Morphology_80903', 'Code.of.Morphology_81403', 'Code.of.Morphology_82113', 'Code.of.Morphology_85003', 'Code.of.Morphology_95903', 'Code.of.Morphology_97323', 'Code.of.Morphology_98613', 'Code.of.Morphology_other', 'Description.of.Disease_BRONQUIOS OU PULMOES, SOE', 'Description.of.Disease_COLO DO UTERO, SOE', 'Description.of.Disease_ESTOMAGO, SOE', 'Description.of.Disease_LOCALIZACAO PRIMARIA DESCONHECIDA', 'Description.of.Disease_MAMA , SOE', 'Description.of.Disease_PELE DE OUTRAS PARTES DA FACE', 'Description.of.Disease_PELE DO MEMBRO SUPERIOR E DO OMBRO', 'Description.of.Disease_PELE DO TRONCO', 'Description.of.Disease_PROSTATA', 'Description.of.Disease_other', 'Illness.Code_C169', 'Illness.Code_C349', 'Illness.Code_C443', 'Illness.Code_C445', 'Illness.Code_C446', 'Illness.Code_C509', 'Illness.Code_C61', 'Illness.Code_C80', 'Illness.Code_C859', 'Illness.Code_other', 'Diagnostic.means_CITOLOGIA', 'Diagnostic.means_CL?NICO', 'Diagnostic.means_HISTOLOGIA DO TUMOR PRIM?RIO', 'Diagnostic.means_PESQUISA', 'Diagnostic.means_SDO', 'Diagnostic.means_other', 'Extension_IN SITU', 'Extension_LOCALIZADO', 'Extension_MET?STASE', 'Extension_N?O SE APLICA', 'Type.of.Death_C?NCER', 'Type.of.Death_N?O C?NCER', 'Type.of.Death_other']\n"
          ]
        }
      ],
      "source": [
        "print(list(X.columns))"
      ],
      "id": "u3bJGVksYVWI"
    },
    {
      "cell_type": "code",
      "execution_count": 21,
      "metadata": {
        "id": "6XPaskQWYk-k",
        "colab": {
          "base_uri": "https://localhost:8080/"
        },
        "outputId": "cb600f86-2537-4ca1-b642-7ed05cb8a468"
      },
      "outputs": [
        {
          "output_type": "stream",
          "name": "stdout",
          "text": [
            "Extension_IN SITU - 133\n",
            "Extension_LOCALIZADO - 134\n",
            "Extension_MET?STASE - 135\n",
            "Extension_N?O SE APLICA - 136\n",
            "Illness.Code_C169 - 117\n",
            "Illness.Code_C349 - 118\n",
            "Illness.Code_C443 - 119\n",
            "Illness.Code_C445 - 120\n",
            "Illness.Code_C446 - 121\n",
            "Illness.Code_C509 - 122\n",
            "Illness.Code_C61 - 123\n",
            "Illness.Code_C80 - 124\n",
            "Illness.Code_C859 - 125\n",
            "Illness.Code_other - 126\n"
          ]
        }
      ],
      "source": [
        "check = pd.DataFrame(columns=['Gender', 'Age', 'Indicator.of.Rare.Case', 'Survival_Time', 'indicater', 'RCBP.Name_RCBP BELO HORIZONTE', 'RCBP.Name_RCBP CAMPINAS-UNICAMP', 'RCBP.Name_RCBP DISTRITO FEDERAL', 'RCBP.Name_RCBP DRS BARRETOS', 'RCBP.Name_RCBP FORTALEZA', 'RCBP.Name_RCBP MANAUS', 'RCBP.Name_RCBP MATO GROSSO (INTERIOR)', 'RCBP.Name_RCBP NATAL', 'RCBP.Name_RCBP PORTO ALEGRE', 'RCBP.Name_other', 'Raca.Color_AMARELA', 'Raca.Color_BRANCO', 'Raca.Color_IND?GENA', 'Raca.Color_PARDA', 'Raca.Color_PRETA', 'Raca.Color_other', 'State.Civil_CASADO', 'State.Civil_SEPARADO JUDICIALMENTE', 'State.Civil_SOLTEIRO', 'State.Civil_UNI?O CONSENSUAL', 'State.Civil_VI?VO', 'State.Civil_other', 'Code.Profession_0.0', 'Code.Profession_111.0', 'Code.Profession_141.0', 'Code.Profession_512.0', 'Code.Profession_514.0', 'Code.Profession_516.0', 'Code.Profession_622.0', 'Code.Profession_715.0', 'Code.Profession_782.0', 'Code.Profession_other', 'Name.Occupation_CONDUTORES DE VE?CULOS E OPERADORES DE EQUIPAMENTOS DE ELEVA??O E DE MOVIMENTA??O DE CARGAS   \\t', 'Name.Occupation_GERENTES DE PRODU??O E OPERA??ES  \\t', 'Name.Occupation_MEMBROS SUPERIORES DO PODER LEGISLATIVO, EXECUTIVO E JUDICI?RIO   \\t', 'Name.Occupation_SEM INFORMA??O\\t', 'Name.Occupation_TRABALHADORES AGR?COLAS   \\t', 'Name.Occupation_TRABALHADORES DA CONSTRU??O CIVIL E OBRAS P?BLICAS\\t', 'Name.Occupation_TRABALHADORES DOS SERVI?OS DOM?STICOS EM GERAL\\t', 'Name.Occupation_TRABALHADORES NOS SERVI?OS DE ADMINISTRA??O, CONSERVA??O E MANUTEN??O DE EDIF?CIOS E LOGRADOUROS  \\t', 'Name.Occupation_TRABALHADORES NOS SERVI?OS DE EMBELEZAMENTO E CUIDADOS PESSOAIS   \\t', 'Name.Occupation_other', 'Status.Address_AMAZONAS', 'Status.Address_CEAR?', 'Status.Address_DISTRITO FEDERAL', 'Status.Address_MATO GROSSO ', 'Status.Address_MINAS GERAIS', 'Status.Address_RIO DE JANEIRO', 'Status.Address_RIO GRANDE DO NORTE', 'Status.Address_RIO GRANDE DO SUL', 'Status.Address_S?O PAULO', 'Status.Address_other', 'City.Address_BARRETOS', 'City.Address_BEBEDOURO', 'City.Address_BRAS?LIA', 'City.Address_CAMPINAS', 'City.Address_COLINA', 'City.Address_GUA?RA', 'City.Address_MONTE AZUL PAULISTA', 'City.Address_OL?MPIA', 'City.Address_VIRADOURO', 'City.Address_other', 'Description.of.Topography_COLO DO UTERO, SOE', 'Description.of.Topography_ESTOMAGO, SOE', 'Description.of.Topography_LOCALIZACAO PRIMARIA DESCONHECIDA, SOE', 'Description.of.Topography_MAMA , SOE', 'Description.of.Topography_MEDULA OSSEA', 'Description.of.Topography_PELE DE OUTRAS PARTES DA FACE', 'Description.of.Topography_PELE DO MEMBRO SUPERIOR E DO OMBRO', 'Description.of.Topography_PROSTATA, SOE', 'Description.of.Topography_PULMAO, SOE', 'Description.of.Topography_other', 'Topography.Code_C169', 'Topography.Code_C349', 'Topography.Code_C421', 'Topography.Code_C443', 'Topography.Code_C446', 'Topography.Code_C509', 'Topography.Code_C539', 'Topography.Code_C619', 'Topography.Code_C809', 'Topography.Code_other', 'Morphology.Description_ADENOCARCINOMA TUBULAR', 'Morphology.Description_ADENOCARCINOMA, SOE', 'Morphology.Description_CARCINOMA BASO CELULAR, SOE', 'Morphology.Description_CARCINOMA BASOCELULAR, SOE', 'Morphology.Description_CARCINOMA DE CELULAS ESCAMOSAS, SOE', 'Morphology.Description_CARCINOMA DUCTAL INFILTRANTE', 'Morphology.Description_CARCINOMA ESCAMOCELULAR, SOE', 'Morphology.Description_NEOPLASIA MALIGNA', 'Morphology.Description_NEOPLASMA MALIGNO', 'Morphology.Description_other', 'Code.of.Morphology_80003', 'Code.of.Morphology_80703', 'Code.of.Morphology_80903', 'Code.of.Morphology_81403', 'Code.of.Morphology_82113', 'Code.of.Morphology_85003', 'Code.of.Morphology_95903', 'Code.of.Morphology_97323', 'Code.of.Morphology_98613', 'Code.of.Morphology_other', 'Description.of.Disease_BRONQUIOS OU PULMOES, SOE', 'Description.of.Disease_COLO DO UTERO, SOE', 'Description.of.Disease_ESTOMAGO, SOE', 'Description.of.Disease_LOCALIZACAO PRIMARIA DESCONHECIDA', 'Description.of.Disease_MAMA , SOE', 'Description.of.Disease_PELE DE OUTRAS PARTES DA FACE', 'Description.of.Disease_PELE DO MEMBRO SUPERIOR E DO OMBRO', 'Description.of.Disease_PELE DO TRONCO', 'Description.of.Disease_PROSTATA', 'Description.of.Disease_other', 'Illness.Code_C169', 'Illness.Code_C349', 'Illness.Code_C443', 'Illness.Code_C445', 'Illness.Code_C446', 'Illness.Code_C509', 'Illness.Code_C61', 'Illness.Code_C80', 'Illness.Code_C859', 'Illness.Code_other', 'Diagnostic.means_CITOLOGIA', 'Diagnostic.means_CL?NICO', 'Diagnostic.means_HISTOLOGIA DO TUMOR PRIM?RIO', 'Diagnostic.means_PESQUISA', 'Diagnostic.means_SDO', 'Diagnostic.means_other', 'Extension_IN SITU', 'Extension_LOCALIZADO', 'Extension_MET?STASE', 'Extension_N?O SE APLICA', 'Type.of.Death_C?NCER', 'Type.of.Death_N?O C?NCER', 'Type.of.Death_other'])\n",
        "\n",
        "columns = list(check.columns)\n",
        "for i, c in enumerate(columns):\n",
        "    if 'extension' in c.lower():\n",
        "        print(f\"{c} - {i}\")\n",
        "\n",
        "for i, c in enumerate(columns):\n",
        "    if 'illness.code' in c.lower():\n",
        "        print(f\"{c} - {i}\")"
      ],
      "id": "6XPaskQWYk-k"
    },
    {
      "cell_type": "markdown",
      "metadata": {
        "id": "6oI1ufePDZ0p"
      },
      "source": [
        "Data divided into MTL form"
      ],
      "id": "6oI1ufePDZ0p"
    },
    {
      "cell_type": "code",
      "execution_count": 22,
      "metadata": {
        "id": "a24c4952",
        "colab": {
          "base_uri": "https://localhost:8080/"
        },
        "outputId": "c80878be-ae9a-404c-d207-cc2b6b1d5cb5"
      },
      "outputs": [
        {
          "output_type": "stream",
          "name": "stdout",
          "text": [
            "torch.Size([14755, 7])\n"
          ]
        }
      ],
      "source": [
        "import numpy as np\n",
        "\n",
        "# Take the maximum time and divide it into any number of intervals\n",
        "Tmax = 7500\n",
        "num_intervals = 7\n",
        "\n",
        "intervals = [(i * (Tmax // num_intervals), (i + 1) * (Tmax // num_intervals)) for i in range(num_intervals)]\n",
        "\n",
        "Y = np.zeros((len(time_all), num_intervals), dtype=np.int_)\n",
        "\n",
        "for i, time_val in enumerate(time_all):\n",
        "    for j, (left, right) in enumerate(intervals):\n",
        "        if time_val > right or (left < time_val <= right):\n",
        "            Y[i, j] = 1\n",
        "\n",
        "Y = torch.Tensor(Y)\n",
        "\n",
        "print(Y.shape)"
      ],
      "id": "a24c4952"
    },
    {
      "cell_type": "code",
      "execution_count": 23,
      "metadata": {
        "id": "RZCn0Jw9Tp2a",
        "colab": {
          "base_uri": "https://localhost:8080/"
        },
        "outputId": "72b7cbd6-abce-46d6-d9ee-489d78a03a1c"
      },
      "outputs": [
        {
          "output_type": "execute_result",
          "data": {
            "text/plain": [
              "tensor([[0., 0., 0.,  ..., 0., 0., 0.],\n",
              "        [0., 0., 0.,  ..., 0., 0., 0.],\n",
              "        [0., 0., 0.,  ..., 0., 0., 0.],\n",
              "        ...,\n",
              "        [1., 0., 0.,  ..., 0., 0., 0.],\n",
              "        [1., 0., 0.,  ..., 0., 0., 0.],\n",
              "        [1., 0., 0.,  ..., 0., 0., 0.]])"
            ]
          },
          "metadata": {},
          "execution_count": 23
        }
      ],
      "source": [
        "Y"
      ],
      "id": "RZCn0Jw9Tp2a"
    },
    {
      "cell_type": "code",
      "execution_count": 24,
      "metadata": {
        "id": "d0d7b5f4"
      },
      "outputs": [],
      "source": [
        "# Creat mask matrix\n",
        "W = np.zeros((len(time_all), num_intervals), dtype=np.int_)\n",
        "\n",
        "for i, (time_val, event_val) in enumerate(zip(time_all, event_all)):\n",
        "    for j, (left, right) in enumerate(intervals):\n",
        "        if event_val == 0 and time_val < left:\n",
        "            W[i, j] = 0\n",
        "        else:\n",
        "            W[i, j] = 1\n",
        "\n",
        "W = torch.Tensor(W)"
      ],
      "id": "d0d7b5f4"
    },
    {
      "cell_type": "code",
      "execution_count": 25,
      "metadata": {
        "id": "21e810c1",
        "colab": {
          "base_uri": "https://localhost:8080/"
        },
        "outputId": "82c68c0c-0771-41e3-9a58-bb190240c12f"
      },
      "outputs": [
        {
          "output_type": "stream",
          "name": "stdout",
          "text": [
            "torch.Size([14755, 7])\n"
          ]
        }
      ],
      "source": [
        "print(W.shape)\n",
        "# So far all the codes are done by Xinyu"
      ],
      "id": "21e810c1"
    },
    {
      "cell_type": "markdown",
      "metadata": {
        "id": "EZBYqEf2Psu8"
      },
      "source": [
        "## Define and Apply the DataLoader\n",
        "- Introduced the dataloader to deal with the dataset, which would be helpful in the training and testing steps"
      ],
      "id": "EZBYqEf2Psu8"
    },
    {
      "cell_type": "code",
      "execution_count": 26,
      "metadata": {
        "id": "2ba508b1"
      },
      "outputs": [],
      "source": [
        "# Jingyan adds the dataloader\n",
        "from torch.utils.data import Dataset, DataLoader, random_split\n",
        "\n",
        "class MultiTaskDataset(Dataset):\n",
        "    def __init__(self, data, targets, masks, event_all):\n",
        "        self.data = data\n",
        "        self.targets = targets\n",
        "        self.masks = masks\n",
        "        self.event_all = event_all\n",
        "\n",
        "    def __len__(self):\n",
        "        return len(self.data)\n",
        "\n",
        "    def __getitem__(self, idx):\n",
        "        return self.data[idx], [self.targets[i][idx] for i in range(len(self.targets))], [self.masks[i][idx] for i in range(len(self.masks))], self.event_all[idx]\n"
      ],
      "id": "2ba508b1"
    },
    {
      "cell_type": "code",
      "execution_count": 27,
      "metadata": {
        "id": "870e1897",
        "colab": {
          "base_uri": "https://localhost:8080/"
        },
        "outputId": "02b8c8b5-79d2-4d43-86f3-fe8ab21b00ed"
      },
      "outputs": [
        {
          "output_type": "execute_result",
          "data": {
            "text/plain": [
              "torch.Size([14755, 138])"
            ]
          },
          "metadata": {},
          "execution_count": 27
        }
      ],
      "source": [
        "for col in X.columns:       # modified by Ali Sam. (when I try to run the code, the transformation to tensor gives an error of data type, so I have converted the boolean coloumns to int dtype first)\n",
        "    if X[col].dtype == bool:\n",
        "        X[col] = X[col].astype(int)\n",
        "X_use = torch.tensor(X.values, dtype=torch.float32)\n",
        "X_use.shape"
      ],
      "id": "870e1897"
    },
    {
      "cell_type": "code",
      "execution_count": 28,
      "metadata": {
        "id": "LwOao-6_RPjw",
        "colab": {
          "base_uri": "https://localhost:8080/"
        },
        "outputId": "41cd923e-ef1a-466c-cdcf-45ba58146ac5"
      },
      "outputs": [
        {
          "output_type": "stream",
          "name": "stdout",
          "text": [
            "torch.Size([14755, 1])\n",
            "torch.Size([14755, 1])\n"
          ]
        }
      ],
      "source": [
        "Y_transform = [Y[:, i:i+1] for i in range(Y.size(1))]\n",
        "print(Y_transform[0].shape)\n",
        "W_transform = [W[:, i:i+1] for i in range(W.size(1))]\n",
        "print(W_transform[0].shape)"
      ],
      "id": "LwOao-6_RPjw"
    },
    {
      "cell_type": "code",
      "execution_count": 29,
      "metadata": {
        "id": "2df3d69b"
      },
      "outputs": [],
      "source": [
        "#Xinyu\n",
        "full_dataset = MultiTaskDataset(X_use, Y_transform, W_transform, event_all)\n",
        "\n",
        "train_size = int(0.8 * len(full_dataset))\n",
        "test_size = len(full_dataset) - train_size\n",
        "\n",
        "train_dataset, test_dataset = random_split(full_dataset, [train_size, test_size])\n",
        "train_loader = DataLoader(train_dataset, batch_size=args.batch_size, shuffle=True, drop_last=True)\n",
        "test_loader = DataLoader(test_dataset, batch_size=args.batch_size, shuffle=True, drop_last=True)"
      ],
      "id": "2df3d69b"
    },
    {
      "cell_type": "code",
      "execution_count": 30,
      "metadata": {
        "id": "XYUkvNcPHUh-",
        "colab": {
          "base_uri": "https://localhost:8080/"
        },
        "outputId": "ff506f04-d1d2-4606-d702-b13134534be2"
      },
      "outputs": [
        {
          "output_type": "stream",
          "name": "stdout",
          "text": [
            "torch.Size([2048, 138])\n",
            "7 torch.Size([2048, 1])\n",
            "7 torch.Size([2048, 1])\n",
            "torch.Size([2048])\n"
          ]
        }
      ],
      "source": [
        "# created by Jingyan to check the data shape before training\n",
        "for x, y, w, e in train_loader:\n",
        "    print(x.shape)\n",
        "    print(len(y), y[0].shape)\n",
        "    print(len(w), w[0].shape)\n",
        "    print(e.shape)\n",
        "    in_features = x.shape[1]\n",
        "    out_features = len(y)\n",
        "    break"
      ],
      "id": "XYUkvNcPHUh-"
    },
    {
      "cell_type": "markdown",
      "source": [],
      "metadata": {
        "id": "Hy83qV7nFKpr"
      },
      "id": "Hy83qV7nFKpr"
    },
    {
      "cell_type": "code",
      "execution_count": 31,
      "metadata": {
        "id": "fJVpicFocpmm",
        "colab": {
          "base_uri": "https://localhost:8080/"
        },
        "outputId": "85a45923-6e19-4ecc-ce42-a5f7f7318073"
      },
      "outputs": [
        {
          "output_type": "execute_result",
          "data": {
            "text/plain": [
              "7"
            ]
          },
          "metadata": {},
          "execution_count": 31
        }
      ],
      "source": [
        "out_features"
      ],
      "id": "fJVpicFocpmm"
    },
    {
      "cell_type": "code",
      "execution_count": 32,
      "metadata": {
        "id": "rfZk8o1wVMnJ",
        "colab": {
          "base_uri": "https://localhost:8080/"
        },
        "outputId": "0417031a-07fa-43ff-918d-52c481092d97"
      },
      "outputs": [
        {
          "output_type": "stream",
          "name": "stdout",
          "text": [
            "torch.Size([2048, 138])\n",
            "7 torch.Size([2048, 1])\n",
            "7 torch.Size([2048, 1])\n",
            "torch.Size([2048])\n"
          ]
        }
      ],
      "source": [
        "for x, y, w, e in test_loader:\n",
        "    print(x.shape)\n",
        "    print(len(y), y[0].shape)\n",
        "    print(len(w), w[0].shape)\n",
        "    print(e.shape)\n",
        "    break"
      ],
      "id": "rfZk8o1wVMnJ"
    },
    {
      "cell_type": "code",
      "execution_count": 33,
      "metadata": {
        "id": "4p-O7JPL_81g"
      },
      "outputs": [],
      "source": [
        "e_train = []\n",
        "for x, y, w, e in train_loader:\n",
        "  e_train.append(e)\n",
        "\n",
        "event_train = torch.cat(e_train, dim=0)"
      ],
      "id": "4p-O7JPL_81g"
    },
    {
      "cell_type": "code",
      "execution_count": 34,
      "metadata": {
        "id": "y8mAUKtjAJQm",
        "colab": {
          "base_uri": "https://localhost:8080/"
        },
        "outputId": "3c66a6e1-b510-4d6a-935d-a90fa22d0376"
      },
      "outputs": [
        {
          "output_type": "execute_result",
          "data": {
            "text/plain": [
              "torch.Size([10240])"
            ]
          },
          "metadata": {},
          "execution_count": 34
        }
      ],
      "source": [
        "event_train.shape"
      ],
      "id": "y8mAUKtjAJQm"
    },
    {
      "cell_type": "markdown",
      "metadata": {
        "id": "_-1hL3F0dZ94"
      },
      "source": [
        "## Original Code (comment out)"
      ],
      "id": "_-1hL3F0dZ94"
    },
    {
      "cell_type": "code",
      "execution_count": 35,
      "metadata": {
        "id": "3e064423"
      },
      "outputs": [],
      "source": [
        "# num_columns = Y_train.shape[1]\n",
        "# Y_train_cols = []\n",
        "# for i in range(num_columns):\n",
        "#     col = Y_train[:, i]\n",
        "#     var_name = 'Y' + str(i+1)\n",
        "#     locals()[var_name] = col\n",
        "#     Y_train_cols.append(locals()[var_name])\n",
        "\n",
        "# num_test_columns = Y_test.shape[1]\n",
        "# Y_test_cols = []\n",
        "# for i in range(num_test_columns):\n",
        "#     col = Y_test[:, i]\n",
        "#     var_name = 'Y' + str(i+1)\n",
        "#     locals()[var_name] = col\n",
        "#     Y_test_cols.append(locals()[var_name])"
      ],
      "id": "3e064423"
    },
    {
      "cell_type": "code",
      "execution_count": 36,
      "metadata": {
        "id": "50beee74"
      },
      "outputs": [],
      "source": [
        "# num_columns = W_train.shape[1]\n",
        "\n",
        "# W_train_cols = []\n",
        "\n",
        "# for i in range(num_columns):\n",
        "#   col = W_train[:, i]\n",
        "#   var_name = 'W' + str(i+1)\n",
        "#   locals()[var_name] = col\n",
        "#   W_train_cols.append(locals()[var_name])\n",
        "\n",
        "# num_test_columns = W_test.shape[1]\n",
        "\n",
        "# W_test_cols = []\n",
        "\n",
        "# for i in range(num_test_columns):\n",
        "#   col = W_test[:, i]\n",
        "#   var_name = 'W' + str(i+1)\n",
        "#   locals()[var_name] = col\n",
        "#   W_test_cols.append(locals()[var_name])"
      ],
      "id": "50beee74"
    },
    {
      "cell_type": "code",
      "execution_count": 37,
      "metadata": {
        "id": "c681806b",
        "scrolled": true
      },
      "outputs": [],
      "source": [
        "# print(W_train_cols[1].shape)\n",
        "# print(W_test_cols[1].shape)\n",
        "# print(Y_train_cols[1].shape)\n",
        "# print(Y_test_cols[1].shape)"
      ],
      "id": "c681806b"
    },
    {
      "cell_type": "markdown",
      "metadata": {
        "id": "5eBcr_gqdevp"
      },
      "source": [
        "## Model\n",
        "- Changed the loss function to match the data format using dataloader"
      ],
      "id": "5eBcr_gqdevp"
    },
    {
      "cell_type": "code",
      "execution_count": 38,
      "metadata": {
        "id": "2ee0f912"
      },
      "outputs": [],
      "source": [
        "import torch.nn as nn\n",
        "import torch.nn.functional as F"
      ],
      "id": "2ee0f912"
    },
    {
      "cell_type": "code",
      "execution_count": null,
      "metadata": {
        "id": "56e001e5"
      },
      "outputs": [],
      "source": [
        "# Made by Xinyu and modified by Dr.Li and Jingyan\n",
        "class MultiTaskModel(nn.Module):\n",
        "    def __init__(self, in_features, out_features):\n",
        "        super(MultiTaskModel, self).__init__()\n",
        "        self.num_tasks = out_features\n",
        "        self.input_features = in_features\n",
        "\n",
        "        self.shared_layers = nn.Sequential(\n",
        "            nn.Linear(in_features, 128),\n",
        "            nn.ReLU(),\n",
        "            nn.AlphaDropout(0.1),\n",
        "\n",
        "            nn.Linear(128, 128),\n",
        "            nn.ReLU(),\n",
        "            nn.AlphaDropout(0.1),\n",
        "\n",
        "            nn.Linear(128, 128),\n",
        "            nn.ReLU(),\n",
        "            nn.AlphaDropout(0.1)\n",
        "        )\n",
        "# A Classic Multi Task Learning Framework\n",
        "        self.task_layers = nn.ModuleList([nn.Linear(128, 1) for _ in range(out_features)])#after your papaer I decided to use MTL to solve this prob\n",
        "\n",
        "# This forward propagation logic defines the chain propagation of our idea\n",
        "    def forward(self, x):\n",
        "        shared_output = self.shared_layers(x)\n",
        "        task_outputs = []\n",
        "        for i, task_layer in enumerate(self.task_layers):\n",
        "            if i == 0:\n",
        "                task_output = torch.sigmoid(task_layer(shared_output))\n",
        "            else:\n",
        "                task_output = torch.sigmoid(task_layer(shared_output)) * task_outputs[-1]\n",
        "            task_outputs.append(task_output)\n",
        "\n",
        "        return task_outputs# Here I difined the S(x)\n",
        "\n",
        "\n",
        "    # def custom_loss(self, task_outputs, Y_train_cols, W_train_cols):\n",
        "    #     loss = 0\n",
        "    #     for i, task_output in enumerate(task_outputs):\n",
        "    #         task_target = Y_train_cols[i].unsqueeze(1)\n",
        "    #         task_mask = W_train_cols[i].unsqueeze(1)\n",
        "    #         task_loss = F.binary_cross_entropy_with_logits(task_output, task_target.float(), reduction='none')\n",
        "    #         task_loss = task_loss * task_mask.float()\n",
        "    #         loss += task_loss.sum() / task_mask.sum()\n",
        "    #     return loss#There are how I use mask matrix W to control the loss function\n",
        "\n",
        "# Modified by Jingyan\n",
        "    def custom_loss(self, task_outputs, targets, masks):\n",
        "        loss = 0\n",
        "        for i, task_output in enumerate(task_outputs):\n",
        "            task_target = targets[i]\n",
        "            task_mask = masks[i]\n",
        "            task_loss = F.binary_cross_entropy(task_output, task_target.float(), reduction='none')\n",
        "            task_loss = task_loss * task_mask.float()\n",
        "            loss += task_loss.sum() / task_mask.sum()\n",
        "        return loss"
      ],
      "id": "56e001e5"
    },
    {
      "cell_type": "markdown",
      "source": [
        "## TASK 2"
      ],
      "metadata": {
        "id": "JUibJemuGRX3"
      },
      "id": "JUibJemuGRX3"
    },
    {
      "cell_type": "code",
      "source": [
        "!git clone https://github.com/suinleelab/attributionpriors.git"
      ],
      "metadata": {
        "colab": {
          "base_uri": "https://localhost:8080/"
        },
        "id": "ahwwDssuUWGY",
        "outputId": "e26f1263-89bc-4337-a262-a57d96f65eff"
      },
      "id": "ahwwDssuUWGY",
      "execution_count": 39,
      "outputs": [
        {
          "output_type": "stream",
          "name": "stdout",
          "text": [
            "Cloning into 'attributionpriors'...\n",
            "remote: Enumerating objects: 280, done.\u001b[K\n",
            "remote: Counting objects: 100% (21/21), done.\u001b[K\n",
            "remote: Compressing objects: 100% (8/8), done.\u001b[K\n",
            "remote: Total 280 (delta 16), reused 13 (delta 13), pack-reused 259\u001b[K\n",
            "Receiving objects: 100% (280/280), 97.55 MiB | 27.00 MiB/s, done.\n",
            "Resolving deltas: 100% (130/130), done.\n"
          ]
        }
      ]
    },
    {
      "cell_type": "code",
      "source": [
        "#Zw\n",
        "from tqdm import tqdm\n",
        "import torch\n",
        "import sys\n",
        "sys.path.append('/content/attributionpriors/attributionpriors')\n",
        "from pytorch_ops import AttributionPriorExplainer\n",
        "class MutltiTaskModel(nn.Module):\n",
        "  def __init__(self,in_features,out_features):\n",
        "    super(MultiTaskModel,self).__init__()\n",
        "    self.num_tasks=out_features\n",
        "    self.input_features=in_features\n",
        "    self.shared_layers=nn.Sequebrial(\n",
        "        nn,Linear(in_features,128),\n",
        "        nn.ReLU(),\n",
        "        nn.AlphaDropout(0.1),\n",
        "\n",
        "        nn,Linear(128,128),\n",
        "        nn.ReLU(),\n",
        "        nn.AlphaDropout(0.1),\n",
        "\n",
        "        nn,Linear(128,128),\n",
        "        nn.ReLU(),\n",
        "        nn.AlphaDropout(0.1)\n",
        "    )\n",
        "\n",
        "    self.task_layers=nn.ModuleList([nn.Linear(128,1) for _ in range(out_features)])\n",
        "\n",
        "  def forward(self,x):\n",
        "    shared_output=self.shared_layers(x)\n",
        "    task_ouputs=[]\n",
        "    for i,task_layer in enumerate(self.task_layers):\n",
        "      if i==0:\n",
        "        task_output=torch.sigmoid(task_layer(shared_output))\n",
        "      else:\n",
        "        task_output=torch.sigmoid(task_layer(shared_ouput))*task_outputs[-1]\n",
        "      task_outputs.append(task_output)\n",
        "    return task_outputs\n",
        "\n",
        "  def custom_loss(self,task_outputs,targets,maskes):\n",
        "    loss=0\n",
        "    for i,task_output in enumerate(task_outputs):\n",
        "      task_target=targets[i]\n",
        "      task_mask=masks[i]\n",
        "      task_loss=F.binary_cross_entropy(task_output,task_target.float(),reduction='none')\n",
        "      task_loss=task_loss*task_mask.float()\n",
        "      loss+=task_loss.sum()/task_mask.sum()\n",
        "\n",
        "    return loss"
      ],
      "metadata": {
        "id": "Txxxkx8sGN5A"
      },
      "id": "Txxxkx8sGN5A",
      "execution_count": null,
      "outputs": []
    },
    {
      "cell_type": "markdown",
      "source": [
        "##Task 2 Training"
      ],
      "metadata": {
        "id": "O2iQlHMgJ36Z"
      },
      "id": "O2iQlHMgJ36Z"
    },
    {
      "cell_type": "code",
      "source": [
        "#zw\n",
        "Am=AttributionPriorExplainer(train_dataset,args.batch_size)\n",
        "model=MultiTaskModel(in_features,out_features).to(device)\n",
        "model.train()\n",
        "optimizer=torch.optim.Adam(model.parameters(),lr=0.001)\n",
        "\n",
        "loss_2=[]\n",
        "epoches=150\n",
        "for epoch in range(epoches):\n",
        "  total_loss=0\n",
        "  progress=tqdm(enumerate(train_loader),total=len(train_loader),desc=f\"Epoch {epoch+1}/{epoches}\")\n",
        "  for batch,(x_train,targets,masks,event_train) in progress:\n",
        "    x_train=x_train.to(device).float()\n",
        "    targets=[target.to(device).float() for target in targets]\n",
        "    masks=[mask.to(device).float() for mask in masks]\n",
        "    optimizer.zero_grad()\n",
        "    task = model(x_train)\n",
        "    expected_g = Am.shap_values(model,x_train)\n",
        "    print(torch.all(expected_g==0))\n",
        "    interested=expected_g[:,[1, 133, 134, 135, 136, 117, 118, 119, 120, 121, 122, 123, 124, 125, 126]]\n",
        "    non_interested=expected_g[:,[i for i in range(expected_g.shape[1]) if i not in [1,133,134, 135, 136, 117, 118, 119, 120, 121, 122, 123, 124, 125, 126]]]\n",
        "\n",
        "    t_regress=0\n",
        "    for i in range(expected_g.shape[1]):\n",
        "      t_regress=t_regress+torch.norm(expected_g[:,i],p=2)\n",
        "    avg_reg=t_regress/expected_g.shape[1]\n",
        "\n",
        "    t_in_regress=0\n",
        "    for i in range(interested.shape[1]):\n",
        "      in_regress=torch.norm(interested[:,i],p=2)\n",
        "      t_in_regress=F.relu(avg_reg-in_regress)\n",
        "\n",
        "    t_notin_regress=0\n",
        "    for i in range(not_interested.shape[1]):\n",
        "      t_notin_regress+=torch.norm(not_interested[:,i],p=2)\n",
        "\n",
        "    l1=2.2\n",
        "    l2=0.2\n",
        "    loss=model.custom_loss(task,targets,masks)+l1*t_in_regress+l2*t_notin_regress\n",
        "    loss.backward()\n",
        "    optimizer.step()\n",
        "    total_loss+=loss.item()\n",
        "    progress.set_postfix({'Loss':loss.item()})\n",
        "\n",
        "  avgloss=total_loss/len(train_loader)\n",
        "  loss_2.append(avgloss)\n",
        "  print(f\"Eng of Epoch {epoch+1},average loss:{avgloss:.4f}\")\n",
        "print(\"Task complete\")"
      ],
      "metadata": {
        "colab": {
          "base_uri": "https://localhost:8080/",
          "height": 382
        },
        "id": "MjUNQEjKJ2lD",
        "outputId": "377c95d9-d40b-4462-a255-fab0d754fbf9"
      },
      "id": "MjUNQEjKJ2lD",
      "execution_count": null,
      "outputs": [
        {
          "output_type": "stream",
          "name": "stderr",
          "text": [
            "Epoch 1/150:   0%|          | 0/5 [00:00<?, ?it/s]\n"
          ]
        },
        {
          "output_type": "error",
          "ename": "AttributeError",
          "evalue": "'list' object has no attribute 'size'",
          "traceback": [
            "\u001b[0;31m---------------------------------------------------------------------------\u001b[0m",
            "\u001b[0;31mAttributeError\u001b[0m                            Traceback (most recent call last)",
            "\u001b[0;32m<ipython-input-43-e539f72e1b5e>\u001b[0m in \u001b[0;36m<cell line: 9>\u001b[0;34m()\u001b[0m\n\u001b[1;32m     16\u001b[0m     \u001b[0moptimizer\u001b[0m\u001b[0;34m.\u001b[0m\u001b[0mzero_grad\u001b[0m\u001b[0;34m(\u001b[0m\u001b[0;34m)\u001b[0m\u001b[0;34m\u001b[0m\u001b[0;34m\u001b[0m\u001b[0m\n\u001b[1;32m     17\u001b[0m     \u001b[0mtask\u001b[0m \u001b[0;34m=\u001b[0m \u001b[0mmodel\u001b[0m\u001b[0;34m(\u001b[0m\u001b[0mx_train\u001b[0m\u001b[0;34m)\u001b[0m\u001b[0;34m\u001b[0m\u001b[0;34m\u001b[0m\u001b[0m\n\u001b[0;32m---> 18\u001b[0;31m     \u001b[0mexpected_g\u001b[0m \u001b[0;34m=\u001b[0m \u001b[0mAm\u001b[0m\u001b[0;34m.\u001b[0m\u001b[0mshap_values\u001b[0m\u001b[0;34m(\u001b[0m\u001b[0mmodel\u001b[0m\u001b[0;34m,\u001b[0m\u001b[0mx_train\u001b[0m\u001b[0;34m)\u001b[0m\u001b[0;34m\u001b[0m\u001b[0;34m\u001b[0m\u001b[0m\n\u001b[0m\u001b[1;32m     19\u001b[0m     \u001b[0mprint\u001b[0m\u001b[0;34m(\u001b[0m\u001b[0mtorch\u001b[0m\u001b[0;34m.\u001b[0m\u001b[0mall\u001b[0m\u001b[0;34m(\u001b[0m\u001b[0mexpected_g\u001b[0m\u001b[0;34m==\u001b[0m\u001b[0;36m0\u001b[0m\u001b[0;34m)\u001b[0m\u001b[0;34m)\u001b[0m\u001b[0;34m\u001b[0m\u001b[0;34m\u001b[0m\u001b[0m\n\u001b[1;32m     20\u001b[0m     \u001b[0minterested\u001b[0m\u001b[0;34m=\u001b[0m\u001b[0mexpected_g\u001b[0m\u001b[0;34m[\u001b[0m\u001b[0;34m:\u001b[0m\u001b[0;34m,\u001b[0m\u001b[0;34m[\u001b[0m\u001b[0;36m1\u001b[0m\u001b[0;34m,\u001b[0m \u001b[0;36m133\u001b[0m\u001b[0;34m,\u001b[0m \u001b[0;36m134\u001b[0m\u001b[0;34m,\u001b[0m \u001b[0;36m135\u001b[0m\u001b[0;34m,\u001b[0m \u001b[0;36m136\u001b[0m\u001b[0;34m,\u001b[0m \u001b[0;36m117\u001b[0m\u001b[0;34m,\u001b[0m \u001b[0;36m118\u001b[0m\u001b[0;34m,\u001b[0m \u001b[0;36m119\u001b[0m\u001b[0;34m,\u001b[0m \u001b[0;36m120\u001b[0m\u001b[0;34m,\u001b[0m \u001b[0;36m121\u001b[0m\u001b[0;34m,\u001b[0m \u001b[0;36m122\u001b[0m\u001b[0;34m,\u001b[0m \u001b[0;36m123\u001b[0m\u001b[0;34m,\u001b[0m \u001b[0;36m124\u001b[0m\u001b[0;34m,\u001b[0m \u001b[0;36m125\u001b[0m\u001b[0;34m,\u001b[0m \u001b[0;36m126\u001b[0m\u001b[0;34m]\u001b[0m\u001b[0;34m]\u001b[0m\u001b[0;34m\u001b[0m\u001b[0;34m\u001b[0m\u001b[0m\n",
            "\u001b[0;32m/content/attributionpriors/attributionpriors/pytorch_ops.py\u001b[0m in \u001b[0;36mshap_values\u001b[0;34m(self, model, input_tensor, sparse_labels)\u001b[0m\n\u001b[1;32m    147\u001b[0m         \u001b[0msamples_input\u001b[0m \u001b[0;34m=\u001b[0m \u001b[0mself\u001b[0m\u001b[0;34m.\u001b[0m\u001b[0m_get_samples_input\u001b[0m\u001b[0;34m(\u001b[0m\u001b[0minput_tensor\u001b[0m\u001b[0;34m,\u001b[0m \u001b[0mreference_tensor\u001b[0m\u001b[0;34m)\u001b[0m\u001b[0;34m\u001b[0m\u001b[0;34m\u001b[0m\u001b[0m\n\u001b[1;32m    148\u001b[0m         \u001b[0msamples_delta\u001b[0m \u001b[0;34m=\u001b[0m \u001b[0mself\u001b[0m\u001b[0;34m.\u001b[0m\u001b[0m_get_samples_delta\u001b[0m\u001b[0;34m(\u001b[0m\u001b[0minput_tensor\u001b[0m\u001b[0;34m,\u001b[0m \u001b[0mreference_tensor\u001b[0m\u001b[0;34m)\u001b[0m\u001b[0;34m\u001b[0m\u001b[0;34m\u001b[0m\u001b[0m\n\u001b[0;32m--> 149\u001b[0;31m         \u001b[0mgrad_tensor\u001b[0m \u001b[0;34m=\u001b[0m \u001b[0mself\u001b[0m\u001b[0;34m.\u001b[0m\u001b[0m_get_grads\u001b[0m\u001b[0;34m(\u001b[0m\u001b[0msamples_input\u001b[0m\u001b[0;34m,\u001b[0m \u001b[0mmodel\u001b[0m\u001b[0;34m,\u001b[0m \u001b[0msparse_labels\u001b[0m\u001b[0;34m)\u001b[0m\u001b[0;34m\u001b[0m\u001b[0;34m\u001b[0m\u001b[0m\n\u001b[0m\u001b[1;32m    150\u001b[0m         \u001b[0mmult_grads\u001b[0m \u001b[0;34m=\u001b[0m \u001b[0msamples_delta\u001b[0m \u001b[0;34m*\u001b[0m \u001b[0mgrad_tensor\u001b[0m \u001b[0;32mif\u001b[0m \u001b[0mself\u001b[0m\u001b[0;34m.\u001b[0m\u001b[0mscale_by_inputs\u001b[0m \u001b[0;32melse\u001b[0m \u001b[0mgrad_tensor\u001b[0m\u001b[0;34m\u001b[0m\u001b[0;34m\u001b[0m\u001b[0m\n\u001b[1;32m    151\u001b[0m         \u001b[0mexpected_grads\u001b[0m \u001b[0;34m=\u001b[0m \u001b[0mmult_grads\u001b[0m\u001b[0;34m.\u001b[0m\u001b[0mmean\u001b[0m\u001b[0;34m(\u001b[0m\u001b[0;36m1\u001b[0m\u001b[0;34m)\u001b[0m\u001b[0;34m\u001b[0m\u001b[0;34m\u001b[0m\u001b[0m\n",
            "\u001b[0;32m/content/attributionpriors/attributionpriors/pytorch_ops.py\u001b[0m in \u001b[0;36m_get_grads\u001b[0;34m(self, samples_input, model, sparse_labels)\u001b[0m\n\u001b[1;32m    112\u001b[0m             \u001b[0;31m# should check that users pass in sparse labels\u001b[0m\u001b[0;34m\u001b[0m\u001b[0;34m\u001b[0m\u001b[0m\n\u001b[1;32m    113\u001b[0m             \u001b[0;31m# Only look at the user-specified label\u001b[0m\u001b[0;34m\u001b[0m\u001b[0;34m\u001b[0m\u001b[0m\n\u001b[0;32m--> 114\u001b[0;31m             \u001b[0;32mif\u001b[0m \u001b[0mbatch_output\u001b[0m\u001b[0;34m.\u001b[0m\u001b[0msize\u001b[0m\u001b[0;34m(\u001b[0m\u001b[0;36m1\u001b[0m\u001b[0;34m)\u001b[0m \u001b[0;34m>\u001b[0m \u001b[0;36m1\u001b[0m\u001b[0;34m:\u001b[0m\u001b[0;34m\u001b[0m\u001b[0;34m\u001b[0m\u001b[0m\n\u001b[0m\u001b[1;32m    115\u001b[0m                 \u001b[0msample_indices\u001b[0m \u001b[0;34m=\u001b[0m \u001b[0mtorch\u001b[0m\u001b[0;34m.\u001b[0m\u001b[0marange\u001b[0m\u001b[0;34m(\u001b[0m\u001b[0;36m0\u001b[0m\u001b[0;34m,\u001b[0m\u001b[0mbatch_output\u001b[0m\u001b[0;34m.\u001b[0m\u001b[0msize\u001b[0m\u001b[0;34m(\u001b[0m\u001b[0;36m0\u001b[0m\u001b[0;34m)\u001b[0m\u001b[0;34m)\u001b[0m\u001b[0;34m.\u001b[0m\u001b[0mto\u001b[0m\u001b[0;34m(\u001b[0m\u001b[0mDEFAULT_DEVICE\u001b[0m\u001b[0;34m)\u001b[0m\u001b[0;34m\u001b[0m\u001b[0;34m\u001b[0m\u001b[0m\n\u001b[1;32m    116\u001b[0m                 indices_tensor = torch.cat([\n",
            "\u001b[0;31mAttributeError\u001b[0m: 'list' object has no attribute 'size'"
          ]
        }
      ]
    },
    {
      "cell_type": "code",
      "execution_count": 40,
      "metadata": {
        "id": "xa2AwAbsNK8Z",
        "colab": {
          "base_uri": "https://localhost:8080/"
        },
        "outputId": "7c161e57-0dfa-4ee1-88c6-d056ef0336c2"
      },
      "outputs": [
        {
          "output_type": "stream",
          "name": "stdout",
          "text": [
            "Cloning into 'attributionpriors_multitask'...\n",
            "remote: Enumerating objects: 288, done.\u001b[K\n",
            "remote: Counting objects: 100% (29/29), done.\u001b[K\n",
            "remote: Compressing objects: 100% (16/16), done.\u001b[K\n",
            "remote: Total 288 (delta 20), reused 13 (delta 13), pack-reused 259\u001b[K\n",
            "Receiving objects: 100% (288/288), 97.56 MiB | 31.52 MiB/s, done.\n",
            "Resolving deltas: 100% (134/134), done.\n",
            "Processing ./attributionpriors_multitask\n",
            "  Preparing metadata (setup.py) ... \u001b[?25l\u001b[?25hdone\n",
            "Requirement already satisfied: numpy in /usr/local/lib/python3.10/dist-packages (from attributionpriors==0.1.3) (1.25.2)\n",
            "Requirement already satisfied: tensorflow in /usr/local/lib/python3.10/dist-packages (from attributionpriors==0.1.3) (2.15.0)\n",
            "Requirement already satisfied: absl-py>=1.0.0 in /usr/local/lib/python3.10/dist-packages (from tensorflow->attributionpriors==0.1.3) (1.4.0)\n",
            "Requirement already satisfied: astunparse>=1.6.0 in /usr/local/lib/python3.10/dist-packages (from tensorflow->attributionpriors==0.1.3) (1.6.3)\n",
            "Requirement already satisfied: flatbuffers>=23.5.26 in /usr/local/lib/python3.10/dist-packages (from tensorflow->attributionpriors==0.1.3) (24.3.25)\n",
            "Requirement already satisfied: gast!=0.5.0,!=0.5.1,!=0.5.2,>=0.2.1 in /usr/local/lib/python3.10/dist-packages (from tensorflow->attributionpriors==0.1.3) (0.5.4)\n",
            "Requirement already satisfied: google-pasta>=0.1.1 in /usr/local/lib/python3.10/dist-packages (from tensorflow->attributionpriors==0.1.3) (0.2.0)\n",
            "Requirement already satisfied: h5py>=2.9.0 in /usr/local/lib/python3.10/dist-packages (from tensorflow->attributionpriors==0.1.3) (3.9.0)\n",
            "Requirement already satisfied: libclang>=13.0.0 in /usr/local/lib/python3.10/dist-packages (from tensorflow->attributionpriors==0.1.3) (18.1.1)\n",
            "Requirement already satisfied: ml-dtypes~=0.2.0 in /usr/local/lib/python3.10/dist-packages (from tensorflow->attributionpriors==0.1.3) (0.2.0)\n",
            "Requirement already satisfied: opt-einsum>=2.3.2 in /usr/local/lib/python3.10/dist-packages (from tensorflow->attributionpriors==0.1.3) (3.3.0)\n",
            "Requirement already satisfied: packaging in /usr/local/lib/python3.10/dist-packages (from tensorflow->attributionpriors==0.1.3) (24.0)\n",
            "Requirement already satisfied: protobuf!=4.21.0,!=4.21.1,!=4.21.2,!=4.21.3,!=4.21.4,!=4.21.5,<5.0.0dev,>=3.20.3 in /usr/local/lib/python3.10/dist-packages (from tensorflow->attributionpriors==0.1.3) (3.20.3)\n",
            "Requirement already satisfied: setuptools in /usr/local/lib/python3.10/dist-packages (from tensorflow->attributionpriors==0.1.3) (67.7.2)\n",
            "Requirement already satisfied: six>=1.12.0 in /usr/local/lib/python3.10/dist-packages (from tensorflow->attributionpriors==0.1.3) (1.16.0)\n",
            "Requirement already satisfied: termcolor>=1.1.0 in /usr/local/lib/python3.10/dist-packages (from tensorflow->attributionpriors==0.1.3) (2.4.0)\n",
            "Requirement already satisfied: typing-extensions>=3.6.6 in /usr/local/lib/python3.10/dist-packages (from tensorflow->attributionpriors==0.1.3) (4.11.0)\n",
            "Requirement already satisfied: wrapt<1.15,>=1.11.0 in /usr/local/lib/python3.10/dist-packages (from tensorflow->attributionpriors==0.1.3) (1.14.1)\n",
            "Requirement already satisfied: tensorflow-io-gcs-filesystem>=0.23.1 in /usr/local/lib/python3.10/dist-packages (from tensorflow->attributionpriors==0.1.3) (0.37.0)\n",
            "Requirement already satisfied: grpcio<2.0,>=1.24.3 in /usr/local/lib/python3.10/dist-packages (from tensorflow->attributionpriors==0.1.3) (1.63.0)\n",
            "Requirement already satisfied: tensorboard<2.16,>=2.15 in /usr/local/lib/python3.10/dist-packages (from tensorflow->attributionpriors==0.1.3) (2.15.2)\n",
            "Requirement already satisfied: tensorflow-estimator<2.16,>=2.15.0 in /usr/local/lib/python3.10/dist-packages (from tensorflow->attributionpriors==0.1.3) (2.15.0)\n",
            "Requirement already satisfied: keras<2.16,>=2.15.0 in /usr/local/lib/python3.10/dist-packages (from tensorflow->attributionpriors==0.1.3) (2.15.0)\n",
            "Requirement already satisfied: wheel<1.0,>=0.23.0 in /usr/local/lib/python3.10/dist-packages (from astunparse>=1.6.0->tensorflow->attributionpriors==0.1.3) (0.43.0)\n",
            "Requirement already satisfied: google-auth<3,>=1.6.3 in /usr/local/lib/python3.10/dist-packages (from tensorboard<2.16,>=2.15->tensorflow->attributionpriors==0.1.3) (2.27.0)\n",
            "Requirement already satisfied: google-auth-oauthlib<2,>=0.5 in /usr/local/lib/python3.10/dist-packages (from tensorboard<2.16,>=2.15->tensorflow->attributionpriors==0.1.3) (1.2.0)\n",
            "Requirement already satisfied: markdown>=2.6.8 in /usr/local/lib/python3.10/dist-packages (from tensorboard<2.16,>=2.15->tensorflow->attributionpriors==0.1.3) (3.6)\n",
            "Requirement already satisfied: requests<3,>=2.21.0 in /usr/local/lib/python3.10/dist-packages (from tensorboard<2.16,>=2.15->tensorflow->attributionpriors==0.1.3) (2.31.0)\n",
            "Requirement already satisfied: tensorboard-data-server<0.8.0,>=0.7.0 in /usr/local/lib/python3.10/dist-packages (from tensorboard<2.16,>=2.15->tensorflow->attributionpriors==0.1.3) (0.7.2)\n",
            "Requirement already satisfied: werkzeug>=1.0.1 in /usr/local/lib/python3.10/dist-packages (from tensorboard<2.16,>=2.15->tensorflow->attributionpriors==0.1.3) (3.0.2)\n",
            "Requirement already satisfied: cachetools<6.0,>=2.0.0 in /usr/local/lib/python3.10/dist-packages (from google-auth<3,>=1.6.3->tensorboard<2.16,>=2.15->tensorflow->attributionpriors==0.1.3) (5.3.3)\n",
            "Requirement already satisfied: pyasn1-modules>=0.2.1 in /usr/local/lib/python3.10/dist-packages (from google-auth<3,>=1.6.3->tensorboard<2.16,>=2.15->tensorflow->attributionpriors==0.1.3) (0.4.0)\n",
            "Requirement already satisfied: rsa<5,>=3.1.4 in /usr/local/lib/python3.10/dist-packages (from google-auth<3,>=1.6.3->tensorboard<2.16,>=2.15->tensorflow->attributionpriors==0.1.3) (4.9)\n",
            "Requirement already satisfied: requests-oauthlib>=0.7.0 in /usr/local/lib/python3.10/dist-packages (from google-auth-oauthlib<2,>=0.5->tensorboard<2.16,>=2.15->tensorflow->attributionpriors==0.1.3) (1.3.1)\n",
            "Requirement already satisfied: charset-normalizer<4,>=2 in /usr/local/lib/python3.10/dist-packages (from requests<3,>=2.21.0->tensorboard<2.16,>=2.15->tensorflow->attributionpriors==0.1.3) (3.3.2)\n",
            "Requirement already satisfied: idna<4,>=2.5 in /usr/local/lib/python3.10/dist-packages (from requests<3,>=2.21.0->tensorboard<2.16,>=2.15->tensorflow->attributionpriors==0.1.3) (3.7)\n",
            "Requirement already satisfied: urllib3<3,>=1.21.1 in /usr/local/lib/python3.10/dist-packages (from requests<3,>=2.21.0->tensorboard<2.16,>=2.15->tensorflow->attributionpriors==0.1.3) (2.0.7)\n",
            "Requirement already satisfied: certifi>=2017.4.17 in /usr/local/lib/python3.10/dist-packages (from requests<3,>=2.21.0->tensorboard<2.16,>=2.15->tensorflow->attributionpriors==0.1.3) (2024.2.2)\n",
            "Requirement already satisfied: MarkupSafe>=2.1.1 in /usr/local/lib/python3.10/dist-packages (from werkzeug>=1.0.1->tensorboard<2.16,>=2.15->tensorflow->attributionpriors==0.1.3) (2.1.5)\n",
            "Requirement already satisfied: pyasn1<0.7.0,>=0.4.6 in /usr/local/lib/python3.10/dist-packages (from pyasn1-modules>=0.2.1->google-auth<3,>=1.6.3->tensorboard<2.16,>=2.15->tensorflow->attributionpriors==0.1.3) (0.6.0)\n",
            "Requirement already satisfied: oauthlib>=3.0.0 in /usr/local/lib/python3.10/dist-packages (from requests-oauthlib>=0.7.0->google-auth-oauthlib<2,>=0.5->tensorboard<2.16,>=2.15->tensorflow->attributionpriors==0.1.3) (3.2.2)\n",
            "Building wheels for collected packages: attributionpriors\n",
            "  Building wheel for attributionpriors (setup.py) ... \u001b[?25l\u001b[?25hdone\n",
            "  Created wheel for attributionpriors: filename=attributionpriors-0.1.3-py3-none-any.whl size=20761 sha256=ea22f7578b77b41e5e387f7f76d72bd4ec619759de77948f4944e70ebbe291b3\n",
            "  Stored in directory: /tmp/pip-ephem-wheel-cache-j30nqf5e/wheels/d0/73/65/94649507c3566b074ff62820c51c5bf621ee86db106e8ee876\n",
            "Successfully built attributionpriors\n",
            "Installing collected packages: attributionpriors\n",
            "Successfully installed attributionpriors-0.1.3\n"
          ]
        }
      ],
      "source": [
        "# Import the attribution package by Jingyan\n",
        "# Please use the package I modified\n",
        "# I modified the '/content/attributionpriors/attributionpriors/pytorch_ops.py' file\n",
        "# to accomodate for multitask learning usecase\n",
        "# You can see the modifications in the github if interested\n",
        "!git clone https://github.com/jingyanjiang/attributionpriors_multitask.git\n",
        "!pip install ./attributionpriors_multitask\n",
        "\n",
        "# This github is important, you may look into this to modify CF"
      ],
      "id": "xa2AwAbsNK8Z"
    },
    {
      "cell_type": "markdown",
      "metadata": {
        "id": "mb0UBetYr9HM"
      },
      "source": [
        "##Defining Model and Training\n",
        "- Rewrote the model defining and  training part for Task 2"
      ],
      "id": "mb0UBetYr9HM"
    },
    {
      "cell_type": "code",
      "execution_count": 60,
      "metadata": {
        "id": "bC6-x4uOXp8z",
        "colab": {
          "base_uri": "https://localhost:8080/"
        },
        "outputId": "0f4a516b-a402-4bf8-9334-865e5305077c"
      },
      "outputs": [
        {
          "output_type": "stream",
          "name": "stderr",
          "text": [
            "Epoch 1/250: 100%|██████████| 5/5 [00:03<00:00,  1.26it/s, Loss=3.86]\n"
          ]
        },
        {
          "output_type": "stream",
          "name": "stdout",
          "text": [
            "End of Epoch 1, Average Loss: 3.8682\n"
          ]
        },
        {
          "output_type": "stream",
          "name": "stderr",
          "text": [
            "Epoch 2/250: 100%|██████████| 5/5 [00:03<00:00,  1.39it/s, Loss=3.84]\n"
          ]
        },
        {
          "output_type": "stream",
          "name": "stdout",
          "text": [
            "End of Epoch 2, Average Loss: 3.8697\n"
          ]
        },
        {
          "output_type": "stream",
          "name": "stderr",
          "text": [
            "Epoch 3/250: 100%|██████████| 5/5 [00:03<00:00,  1.34it/s, Loss=3.85]\n"
          ]
        },
        {
          "output_type": "stream",
          "name": "stdout",
          "text": [
            "End of Epoch 3, Average Loss: 3.8980\n"
          ]
        },
        {
          "output_type": "stream",
          "name": "stderr",
          "text": [
            "Epoch 4/250: 100%|██████████| 5/5 [00:04<00:00,  1.21it/s, Loss=4.01]\n"
          ]
        },
        {
          "output_type": "stream",
          "name": "stdout",
          "text": [
            "End of Epoch 4, Average Loss: 3.8910\n"
          ]
        },
        {
          "output_type": "stream",
          "name": "stderr",
          "text": [
            "Epoch 5/250: 100%|██████████| 5/5 [00:03<00:00,  1.40it/s, Loss=3.86]\n"
          ]
        },
        {
          "output_type": "stream",
          "name": "stdout",
          "text": [
            "End of Epoch 5, Average Loss: 3.8894\n"
          ]
        },
        {
          "output_type": "stream",
          "name": "stderr",
          "text": [
            "Epoch 6/250: 100%|██████████| 5/5 [00:03<00:00,  1.36it/s, Loss=3.79]\n"
          ]
        },
        {
          "output_type": "stream",
          "name": "stdout",
          "text": [
            "End of Epoch 6, Average Loss: 3.8565\n"
          ]
        },
        {
          "output_type": "stream",
          "name": "stderr",
          "text": [
            "Epoch 7/250: 100%|██████████| 5/5 [00:04<00:00,  1.11it/s, Loss=3.94]\n"
          ]
        },
        {
          "output_type": "stream",
          "name": "stdout",
          "text": [
            "End of Epoch 7, Average Loss: 3.8916\n"
          ]
        },
        {
          "output_type": "stream",
          "name": "stderr",
          "text": [
            "Epoch 8/250: 100%|██████████| 5/5 [00:03<00:00,  1.37it/s, Loss=3.91]\n"
          ]
        },
        {
          "output_type": "stream",
          "name": "stdout",
          "text": [
            "End of Epoch 8, Average Loss: 3.9135\n"
          ]
        },
        {
          "output_type": "stream",
          "name": "stderr",
          "text": [
            "Epoch 9/250: 100%|██████████| 5/5 [00:03<00:00,  1.34it/s, Loss=3.98]\n"
          ]
        },
        {
          "output_type": "stream",
          "name": "stdout",
          "text": [
            "End of Epoch 9, Average Loss: 3.8759\n"
          ]
        },
        {
          "output_type": "stream",
          "name": "stderr",
          "text": [
            "Epoch 10/250: 100%|██████████| 5/5 [00:04<00:00,  1.18it/s, Loss=3.92]\n"
          ]
        },
        {
          "output_type": "stream",
          "name": "stdout",
          "text": [
            "End of Epoch 10, Average Loss: 3.8730\n"
          ]
        },
        {
          "output_type": "stream",
          "name": "stderr",
          "text": [
            "Epoch 11/250: 100%|██████████| 5/5 [00:03<00:00,  1.41it/s, Loss=3.87]\n"
          ]
        },
        {
          "output_type": "stream",
          "name": "stdout",
          "text": [
            "End of Epoch 11, Average Loss: 3.8318\n"
          ]
        },
        {
          "output_type": "stream",
          "name": "stderr",
          "text": [
            "Epoch 12/250: 100%|██████████| 5/5 [00:03<00:00,  1.39it/s, Loss=3.77]\n"
          ]
        },
        {
          "output_type": "stream",
          "name": "stdout",
          "text": [
            "End of Epoch 12, Average Loss: 3.8939\n"
          ]
        },
        {
          "output_type": "stream",
          "name": "stderr",
          "text": [
            "Epoch 13/250: 100%|██████████| 5/5 [00:04<00:00,  1.18it/s, Loss=3.91]\n"
          ]
        },
        {
          "output_type": "stream",
          "name": "stdout",
          "text": [
            "End of Epoch 13, Average Loss: 3.8300\n"
          ]
        },
        {
          "output_type": "stream",
          "name": "stderr",
          "text": [
            "Epoch 14/250: 100%|██████████| 5/5 [00:03<00:00,  1.37it/s, Loss=3.82]\n"
          ]
        },
        {
          "output_type": "stream",
          "name": "stdout",
          "text": [
            "End of Epoch 14, Average Loss: 3.8860\n"
          ]
        },
        {
          "output_type": "stream",
          "name": "stderr",
          "text": [
            "Epoch 15/250: 100%|██████████| 5/5 [00:03<00:00,  1.30it/s, Loss=3.82]\n"
          ]
        },
        {
          "output_type": "stream",
          "name": "stdout",
          "text": [
            "End of Epoch 15, Average Loss: 3.8617\n"
          ]
        },
        {
          "output_type": "stream",
          "name": "stderr",
          "text": [
            "Epoch 16/250: 100%|██████████| 5/5 [00:04<00:00,  1.16it/s, Loss=3.84]\n"
          ]
        },
        {
          "output_type": "stream",
          "name": "stdout",
          "text": [
            "End of Epoch 16, Average Loss: 3.8835\n"
          ]
        },
        {
          "output_type": "stream",
          "name": "stderr",
          "text": [
            "Epoch 17/250: 100%|██████████| 5/5 [00:03<00:00,  1.37it/s, Loss=4.18]\n"
          ]
        },
        {
          "output_type": "stream",
          "name": "stdout",
          "text": [
            "End of Epoch 17, Average Loss: 3.8653\n"
          ]
        },
        {
          "output_type": "stream",
          "name": "stderr",
          "text": [
            "Epoch 18/250: 100%|██████████| 5/5 [00:03<00:00,  1.38it/s, Loss=3.73]\n"
          ]
        },
        {
          "output_type": "stream",
          "name": "stdout",
          "text": [
            "End of Epoch 18, Average Loss: 3.8693\n"
          ]
        },
        {
          "output_type": "stream",
          "name": "stderr",
          "text": [
            "Epoch 19/250: 100%|██████████| 5/5 [00:04<00:00,  1.20it/s, Loss=3.98]\n"
          ]
        },
        {
          "output_type": "stream",
          "name": "stdout",
          "text": [
            "End of Epoch 19, Average Loss: 3.8766\n"
          ]
        },
        {
          "output_type": "stream",
          "name": "stderr",
          "text": [
            "Epoch 20/250: 100%|██████████| 5/5 [00:03<00:00,  1.31it/s, Loss=4]\n"
          ]
        },
        {
          "output_type": "stream",
          "name": "stdout",
          "text": [
            "End of Epoch 20, Average Loss: 3.8648\n"
          ]
        },
        {
          "output_type": "stream",
          "name": "stderr",
          "text": [
            "Epoch 21/250: 100%|██████████| 5/5 [00:03<00:00,  1.41it/s, Loss=3.87]\n"
          ]
        },
        {
          "output_type": "stream",
          "name": "stdout",
          "text": [
            "End of Epoch 21, Average Loss: 3.8540\n"
          ]
        },
        {
          "output_type": "stream",
          "name": "stderr",
          "text": [
            "Epoch 22/250: 100%|██████████| 5/5 [00:04<00:00,  1.18it/s, Loss=3.89]\n"
          ]
        },
        {
          "output_type": "stream",
          "name": "stdout",
          "text": [
            "End of Epoch 22, Average Loss: 3.8837\n"
          ]
        },
        {
          "output_type": "stream",
          "name": "stderr",
          "text": [
            "Epoch 23/250: 100%|██████████| 5/5 [00:03<00:00,  1.35it/s, Loss=3.94]\n"
          ]
        },
        {
          "output_type": "stream",
          "name": "stdout",
          "text": [
            "End of Epoch 23, Average Loss: 3.8504\n"
          ]
        },
        {
          "output_type": "stream",
          "name": "stderr",
          "text": [
            "Epoch 24/250: 100%|██████████| 5/5 [00:03<00:00,  1.36it/s, Loss=3.9]\n"
          ]
        },
        {
          "output_type": "stream",
          "name": "stdout",
          "text": [
            "End of Epoch 24, Average Loss: 3.8858\n"
          ]
        },
        {
          "output_type": "stream",
          "name": "stderr",
          "text": [
            "Epoch 25/250: 100%|██████████| 5/5 [00:04<00:00,  1.16it/s, Loss=3.71]\n"
          ]
        },
        {
          "output_type": "stream",
          "name": "stdout",
          "text": [
            "End of Epoch 25, Average Loss: 3.8507\n"
          ]
        },
        {
          "output_type": "stream",
          "name": "stderr",
          "text": [
            "Epoch 26/250: 100%|██████████| 5/5 [00:03<00:00,  1.35it/s, Loss=3.7]\n"
          ]
        },
        {
          "output_type": "stream",
          "name": "stdout",
          "text": [
            "End of Epoch 26, Average Loss: 3.8459\n"
          ]
        },
        {
          "output_type": "stream",
          "name": "stderr",
          "text": [
            "Epoch 27/250: 100%|██████████| 5/5 [00:03<00:00,  1.38it/s, Loss=3.9]\n"
          ]
        },
        {
          "output_type": "stream",
          "name": "stdout",
          "text": [
            "End of Epoch 27, Average Loss: 3.8300\n"
          ]
        },
        {
          "output_type": "stream",
          "name": "stderr",
          "text": [
            "Epoch 28/250: 100%|██████████| 5/5 [00:04<00:00,  1.02it/s, Loss=3.77]\n"
          ]
        },
        {
          "output_type": "stream",
          "name": "stdout",
          "text": [
            "End of Epoch 28, Average Loss: 3.8526\n"
          ]
        },
        {
          "output_type": "stream",
          "name": "stderr",
          "text": [
            "Epoch 29/250: 100%|██████████| 5/5 [00:03<00:00,  1.31it/s, Loss=3.85]\n"
          ]
        },
        {
          "output_type": "stream",
          "name": "stdout",
          "text": [
            "End of Epoch 29, Average Loss: 3.8495\n"
          ]
        },
        {
          "output_type": "stream",
          "name": "stderr",
          "text": [
            "Epoch 30/250: 100%|██████████| 5/5 [00:03<00:00,  1.41it/s, Loss=3.82]\n"
          ]
        },
        {
          "output_type": "stream",
          "name": "stdout",
          "text": [
            "End of Epoch 30, Average Loss: 3.8050\n"
          ]
        },
        {
          "output_type": "stream",
          "name": "stderr",
          "text": [
            "Epoch 31/250: 100%|██████████| 5/5 [00:04<00:00,  1.18it/s, Loss=3.92]\n"
          ]
        },
        {
          "output_type": "stream",
          "name": "stdout",
          "text": [
            "End of Epoch 31, Average Loss: 3.8812\n"
          ]
        },
        {
          "output_type": "stream",
          "name": "stderr",
          "text": [
            "Epoch 32/250: 100%|██████████| 5/5 [00:03<00:00,  1.35it/s, Loss=3.93]\n"
          ]
        },
        {
          "output_type": "stream",
          "name": "stdout",
          "text": [
            "End of Epoch 32, Average Loss: 3.8344\n"
          ]
        },
        {
          "output_type": "stream",
          "name": "stderr",
          "text": [
            "Epoch 33/250: 100%|██████████| 5/5 [00:03<00:00,  1.35it/s, Loss=3.89]\n"
          ]
        },
        {
          "output_type": "stream",
          "name": "stdout",
          "text": [
            "End of Epoch 33, Average Loss: 3.8545\n"
          ]
        },
        {
          "output_type": "stream",
          "name": "stderr",
          "text": [
            "Epoch 34/250: 100%|██████████| 5/5 [00:04<00:00,  1.14it/s, Loss=3.89]\n"
          ]
        },
        {
          "output_type": "stream",
          "name": "stdout",
          "text": [
            "End of Epoch 34, Average Loss: 3.8670\n"
          ]
        },
        {
          "output_type": "stream",
          "name": "stderr",
          "text": [
            "Epoch 35/250: 100%|██████████| 5/5 [00:03<00:00,  1.29it/s, Loss=3.89]\n"
          ]
        },
        {
          "output_type": "stream",
          "name": "stdout",
          "text": [
            "End of Epoch 35, Average Loss: 3.8321\n"
          ]
        },
        {
          "output_type": "stream",
          "name": "stderr",
          "text": [
            "Epoch 36/250: 100%|██████████| 5/5 [00:03<00:00,  1.34it/s, Loss=3.95]\n"
          ]
        },
        {
          "output_type": "stream",
          "name": "stdout",
          "text": [
            "End of Epoch 36, Average Loss: 3.9031\n"
          ]
        },
        {
          "output_type": "stream",
          "name": "stderr",
          "text": [
            "Epoch 37/250: 100%|██████████| 5/5 [00:04<00:00,  1.17it/s, Loss=3.76]\n"
          ]
        },
        {
          "output_type": "stream",
          "name": "stdout",
          "text": [
            "End of Epoch 37, Average Loss: 3.8331\n"
          ]
        },
        {
          "output_type": "stream",
          "name": "stderr",
          "text": [
            "Epoch 38/250: 100%|██████████| 5/5 [00:03<00:00,  1.36it/s, Loss=3.64]\n"
          ]
        },
        {
          "output_type": "stream",
          "name": "stdout",
          "text": [
            "End of Epoch 38, Average Loss: 3.8453\n"
          ]
        },
        {
          "output_type": "stream",
          "name": "stderr",
          "text": [
            "Epoch 39/250: 100%|██████████| 5/5 [00:03<00:00,  1.36it/s, Loss=3.78]\n"
          ]
        },
        {
          "output_type": "stream",
          "name": "stdout",
          "text": [
            "End of Epoch 39, Average Loss: 3.8370\n"
          ]
        },
        {
          "output_type": "stream",
          "name": "stderr",
          "text": [
            "Epoch 40/250: 100%|██████████| 5/5 [00:04<00:00,  1.18it/s, Loss=3.82]\n"
          ]
        },
        {
          "output_type": "stream",
          "name": "stdout",
          "text": [
            "End of Epoch 40, Average Loss: 3.8358\n"
          ]
        },
        {
          "output_type": "stream",
          "name": "stderr",
          "text": [
            "Epoch 41/250: 100%|██████████| 5/5 [00:03<00:00,  1.32it/s, Loss=3.87]\n"
          ]
        },
        {
          "output_type": "stream",
          "name": "stdout",
          "text": [
            "End of Epoch 41, Average Loss: 3.8778\n"
          ]
        },
        {
          "output_type": "stream",
          "name": "stderr",
          "text": [
            "Epoch 42/250: 100%|██████████| 5/5 [00:03<00:00,  1.36it/s, Loss=3.76]\n"
          ]
        },
        {
          "output_type": "stream",
          "name": "stdout",
          "text": [
            "End of Epoch 42, Average Loss: 3.8293\n"
          ]
        },
        {
          "output_type": "stream",
          "name": "stderr",
          "text": [
            "Epoch 43/250: 100%|██████████| 5/5 [00:04<00:00,  1.14it/s, Loss=3.82]\n"
          ]
        },
        {
          "output_type": "stream",
          "name": "stdout",
          "text": [
            "End of Epoch 43, Average Loss: 3.8587\n"
          ]
        },
        {
          "output_type": "stream",
          "name": "stderr",
          "text": [
            "Epoch 44/250: 100%|██████████| 5/5 [00:03<00:00,  1.38it/s, Loss=3.87]\n"
          ]
        },
        {
          "output_type": "stream",
          "name": "stdout",
          "text": [
            "End of Epoch 44, Average Loss: 3.8525\n"
          ]
        },
        {
          "output_type": "stream",
          "name": "stderr",
          "text": [
            "Epoch 45/250: 100%|██████████| 5/5 [00:03<00:00,  1.40it/s, Loss=3.74]\n"
          ]
        },
        {
          "output_type": "stream",
          "name": "stdout",
          "text": [
            "End of Epoch 45, Average Loss: 3.8276\n"
          ]
        },
        {
          "output_type": "stream",
          "name": "stderr",
          "text": [
            "Epoch 46/250: 100%|██████████| 5/5 [00:03<00:00,  1.29it/s, Loss=3.8]\n"
          ]
        },
        {
          "output_type": "stream",
          "name": "stdout",
          "text": [
            "End of Epoch 46, Average Loss: 3.8102\n"
          ]
        },
        {
          "output_type": "stream",
          "name": "stderr",
          "text": [
            "Epoch 47/250: 100%|██████████| 5/5 [00:03<00:00,  1.27it/s, Loss=3.84]\n"
          ]
        },
        {
          "output_type": "stream",
          "name": "stdout",
          "text": [
            "End of Epoch 47, Average Loss: 3.8237\n"
          ]
        },
        {
          "output_type": "stream",
          "name": "stderr",
          "text": [
            "Epoch 48/250: 100%|██████████| 5/5 [00:03<00:00,  1.37it/s, Loss=3.85]\n"
          ]
        },
        {
          "output_type": "stream",
          "name": "stdout",
          "text": [
            "End of Epoch 48, Average Loss: 3.8538\n"
          ]
        },
        {
          "output_type": "stream",
          "name": "stderr",
          "text": [
            "Epoch 49/250: 100%|██████████| 5/5 [00:04<00:00,  1.25it/s, Loss=3.77]\n"
          ]
        },
        {
          "output_type": "stream",
          "name": "stdout",
          "text": [
            "End of Epoch 49, Average Loss: 3.8280\n"
          ]
        },
        {
          "output_type": "stream",
          "name": "stderr",
          "text": [
            "Epoch 50/250: 100%|██████████| 5/5 [00:04<00:00,  1.22it/s, Loss=4.07]\n"
          ]
        },
        {
          "output_type": "stream",
          "name": "stdout",
          "text": [
            "End of Epoch 50, Average Loss: 3.8531\n"
          ]
        },
        {
          "output_type": "stream",
          "name": "stderr",
          "text": [
            "Epoch 51/250: 100%|██████████| 5/5 [00:03<00:00,  1.31it/s, Loss=3.79]\n"
          ]
        },
        {
          "output_type": "stream",
          "name": "stdout",
          "text": [
            "End of Epoch 51, Average Loss: 3.8487\n"
          ]
        },
        {
          "output_type": "stream",
          "name": "stderr",
          "text": [
            "Epoch 52/250: 100%|██████████| 5/5 [00:03<00:00,  1.34it/s, Loss=3.77]\n"
          ]
        },
        {
          "output_type": "stream",
          "name": "stdout",
          "text": [
            "End of Epoch 52, Average Loss: 3.8244\n"
          ]
        },
        {
          "output_type": "stream",
          "name": "stderr",
          "text": [
            "Epoch 53/250: 100%|██████████| 5/5 [00:04<00:00,  1.21it/s, Loss=3.96]\n"
          ]
        },
        {
          "output_type": "stream",
          "name": "stdout",
          "text": [
            "End of Epoch 53, Average Loss: 3.8217\n"
          ]
        },
        {
          "output_type": "stream",
          "name": "stderr",
          "text": [
            "Epoch 54/250: 100%|██████████| 5/5 [00:03<00:00,  1.39it/s, Loss=3.84]\n"
          ]
        },
        {
          "output_type": "stream",
          "name": "stdout",
          "text": [
            "End of Epoch 54, Average Loss: 3.8413\n"
          ]
        },
        {
          "output_type": "stream",
          "name": "stderr",
          "text": [
            "Epoch 55/250: 100%|██████████| 5/5 [00:03<00:00,  1.37it/s, Loss=3.92]\n"
          ]
        },
        {
          "output_type": "stream",
          "name": "stdout",
          "text": [
            "End of Epoch 55, Average Loss: 3.8306\n"
          ]
        },
        {
          "output_type": "stream",
          "name": "stderr",
          "text": [
            "Epoch 56/250: 100%|██████████| 5/5 [00:04<00:00,  1.17it/s, Loss=3.91]\n"
          ]
        },
        {
          "output_type": "stream",
          "name": "stdout",
          "text": [
            "End of Epoch 56, Average Loss: 3.8568\n"
          ]
        },
        {
          "output_type": "stream",
          "name": "stderr",
          "text": [
            "Epoch 57/250: 100%|██████████| 5/5 [00:03<00:00,  1.36it/s, Loss=3.83]\n"
          ]
        },
        {
          "output_type": "stream",
          "name": "stdout",
          "text": [
            "End of Epoch 57, Average Loss: 3.8075\n"
          ]
        },
        {
          "output_type": "stream",
          "name": "stderr",
          "text": [
            "Epoch 58/250: 100%|██████████| 5/5 [00:03<00:00,  1.31it/s, Loss=3.93]\n"
          ]
        },
        {
          "output_type": "stream",
          "name": "stdout",
          "text": [
            "End of Epoch 58, Average Loss: 3.8399\n"
          ]
        },
        {
          "output_type": "stream",
          "name": "stderr",
          "text": [
            "Epoch 59/250: 100%|██████████| 5/5 [00:04<00:00,  1.18it/s, Loss=3.79]\n"
          ]
        },
        {
          "output_type": "stream",
          "name": "stdout",
          "text": [
            "End of Epoch 59, Average Loss: 3.8143\n"
          ]
        },
        {
          "output_type": "stream",
          "name": "stderr",
          "text": [
            "Epoch 60/250: 100%|██████████| 5/5 [00:03<00:00,  1.38it/s, Loss=3.92]\n"
          ]
        },
        {
          "output_type": "stream",
          "name": "stdout",
          "text": [
            "End of Epoch 60, Average Loss: 3.8368\n"
          ]
        },
        {
          "output_type": "stream",
          "name": "stderr",
          "text": [
            "Epoch 61/250: 100%|██████████| 5/5 [00:03<00:00,  1.38it/s, Loss=3.87]\n"
          ]
        },
        {
          "output_type": "stream",
          "name": "stdout",
          "text": [
            "End of Epoch 61, Average Loss: 3.8111\n"
          ]
        },
        {
          "output_type": "stream",
          "name": "stderr",
          "text": [
            "Epoch 62/250: 100%|██████████| 5/5 [00:04<00:00,  1.20it/s, Loss=3.81]\n"
          ]
        },
        {
          "output_type": "stream",
          "name": "stdout",
          "text": [
            "End of Epoch 62, Average Loss: 3.8369\n"
          ]
        },
        {
          "output_type": "stream",
          "name": "stderr",
          "text": [
            "Epoch 63/250: 100%|██████████| 5/5 [00:03<00:00,  1.39it/s, Loss=4.08]\n"
          ]
        },
        {
          "output_type": "stream",
          "name": "stdout",
          "text": [
            "End of Epoch 63, Average Loss: 3.8440\n"
          ]
        },
        {
          "output_type": "stream",
          "name": "stderr",
          "text": [
            "Epoch 64/250: 100%|██████████| 5/5 [00:03<00:00,  1.39it/s, Loss=3.87]\n"
          ]
        },
        {
          "output_type": "stream",
          "name": "stdout",
          "text": [
            "End of Epoch 64, Average Loss: 3.8383\n"
          ]
        },
        {
          "output_type": "stream",
          "name": "stderr",
          "text": [
            "Epoch 65/250: 100%|██████████| 5/5 [00:04<00:00,  1.13it/s, Loss=3.75]\n"
          ]
        },
        {
          "output_type": "stream",
          "name": "stdout",
          "text": [
            "End of Epoch 65, Average Loss: 3.8122\n"
          ]
        },
        {
          "output_type": "stream",
          "name": "stderr",
          "text": [
            "Epoch 66/250: 100%|██████████| 5/5 [00:03<00:00,  1.38it/s, Loss=3.87]\n"
          ]
        },
        {
          "output_type": "stream",
          "name": "stdout",
          "text": [
            "End of Epoch 66, Average Loss: 3.8014\n"
          ]
        },
        {
          "output_type": "stream",
          "name": "stderr",
          "text": [
            "Epoch 67/250: 100%|██████████| 5/5 [00:03<00:00,  1.36it/s, Loss=3.78]\n"
          ]
        },
        {
          "output_type": "stream",
          "name": "stdout",
          "text": [
            "End of Epoch 67, Average Loss: 3.7994\n"
          ]
        },
        {
          "output_type": "stream",
          "name": "stderr",
          "text": [
            "Epoch 68/250: 100%|██████████| 5/5 [00:04<00:00,  1.19it/s, Loss=3.97]\n"
          ]
        },
        {
          "output_type": "stream",
          "name": "stdout",
          "text": [
            "End of Epoch 68, Average Loss: 3.8457\n"
          ]
        },
        {
          "output_type": "stream",
          "name": "stderr",
          "text": [
            "Epoch 69/250: 100%|██████████| 5/5 [00:03<00:00,  1.37it/s, Loss=3.9]\n"
          ]
        },
        {
          "output_type": "stream",
          "name": "stdout",
          "text": [
            "End of Epoch 69, Average Loss: 3.8597\n"
          ]
        },
        {
          "output_type": "stream",
          "name": "stderr",
          "text": [
            "Epoch 70/250: 100%|██████████| 5/5 [00:03<00:00,  1.38it/s, Loss=3.76]\n"
          ]
        },
        {
          "output_type": "stream",
          "name": "stdout",
          "text": [
            "End of Epoch 70, Average Loss: 3.8218\n"
          ]
        },
        {
          "output_type": "stream",
          "name": "stderr",
          "text": [
            "Epoch 71/250: 100%|██████████| 5/5 [00:04<00:00,  1.00it/s, Loss=3.78]\n"
          ]
        },
        {
          "output_type": "stream",
          "name": "stdout",
          "text": [
            "End of Epoch 71, Average Loss: 3.8073\n"
          ]
        },
        {
          "output_type": "stream",
          "name": "stderr",
          "text": [
            "Epoch 72/250: 100%|██████████| 5/5 [00:03<00:00,  1.32it/s, Loss=3.72]\n"
          ]
        },
        {
          "output_type": "stream",
          "name": "stdout",
          "text": [
            "End of Epoch 72, Average Loss: 3.7916\n"
          ]
        },
        {
          "output_type": "stream",
          "name": "stderr",
          "text": [
            "Epoch 73/250: 100%|██████████| 5/5 [00:03<00:00,  1.41it/s, Loss=3.88]\n"
          ]
        },
        {
          "output_type": "stream",
          "name": "stdout",
          "text": [
            "End of Epoch 73, Average Loss: 3.8445\n"
          ]
        },
        {
          "output_type": "stream",
          "name": "stderr",
          "text": [
            "Epoch 74/250: 100%|██████████| 5/5 [00:04<00:00,  1.10it/s, Loss=3.88]\n"
          ]
        },
        {
          "output_type": "stream",
          "name": "stdout",
          "text": [
            "End of Epoch 74, Average Loss: 3.8078\n"
          ]
        },
        {
          "output_type": "stream",
          "name": "stderr",
          "text": [
            "Epoch 75/250: 100%|██████████| 5/5 [00:03<00:00,  1.31it/s, Loss=3.7]\n"
          ]
        },
        {
          "output_type": "stream",
          "name": "stdout",
          "text": [
            "End of Epoch 75, Average Loss: 3.8013\n"
          ]
        },
        {
          "output_type": "stream",
          "name": "stderr",
          "text": [
            "Epoch 76/250: 100%|██████████| 5/5 [00:03<00:00,  1.40it/s, Loss=3.73]\n"
          ]
        },
        {
          "output_type": "stream",
          "name": "stdout",
          "text": [
            "End of Epoch 76, Average Loss: 3.8150\n"
          ]
        },
        {
          "output_type": "stream",
          "name": "stderr",
          "text": [
            "Epoch 77/250: 100%|██████████| 5/5 [00:04<00:00,  1.20it/s, Loss=3.64]\n"
          ]
        },
        {
          "output_type": "stream",
          "name": "stdout",
          "text": [
            "End of Epoch 77, Average Loss: 3.7954\n"
          ]
        },
        {
          "output_type": "stream",
          "name": "stderr",
          "text": [
            "Epoch 78/250: 100%|██████████| 5/5 [00:03<00:00,  1.41it/s, Loss=3.8]\n"
          ]
        },
        {
          "output_type": "stream",
          "name": "stdout",
          "text": [
            "End of Epoch 78, Average Loss: 3.8077\n"
          ]
        },
        {
          "output_type": "stream",
          "name": "stderr",
          "text": [
            "Epoch 79/250: 100%|██████████| 5/5 [00:03<00:00,  1.34it/s, Loss=3.81]\n"
          ]
        },
        {
          "output_type": "stream",
          "name": "stdout",
          "text": [
            "End of Epoch 79, Average Loss: 3.8104\n"
          ]
        },
        {
          "output_type": "stream",
          "name": "stderr",
          "text": [
            "Epoch 80/250: 100%|██████████| 5/5 [00:04<00:00,  1.19it/s, Loss=4.04]\n"
          ]
        },
        {
          "output_type": "stream",
          "name": "stdout",
          "text": [
            "End of Epoch 80, Average Loss: 3.8119\n"
          ]
        },
        {
          "output_type": "stream",
          "name": "stderr",
          "text": [
            "Epoch 81/250: 100%|██████████| 5/5 [00:03<00:00,  1.40it/s, Loss=3.83]\n"
          ]
        },
        {
          "output_type": "stream",
          "name": "stdout",
          "text": [
            "End of Epoch 81, Average Loss: 3.8191\n"
          ]
        },
        {
          "output_type": "stream",
          "name": "stderr",
          "text": [
            "Epoch 82/250: 100%|██████████| 5/5 [00:03<00:00,  1.40it/s, Loss=3.79]\n"
          ]
        },
        {
          "output_type": "stream",
          "name": "stdout",
          "text": [
            "End of Epoch 82, Average Loss: 3.7980\n"
          ]
        },
        {
          "output_type": "stream",
          "name": "stderr",
          "text": [
            "Epoch 83/250: 100%|██████████| 5/5 [00:03<00:00,  1.28it/s, Loss=3.73]\n"
          ]
        },
        {
          "output_type": "stream",
          "name": "stdout",
          "text": [
            "End of Epoch 83, Average Loss: 3.8154\n"
          ]
        },
        {
          "output_type": "stream",
          "name": "stderr",
          "text": [
            "Epoch 84/250: 100%|██████████| 5/5 [00:03<00:00,  1.32it/s, Loss=3.87]\n"
          ]
        },
        {
          "output_type": "stream",
          "name": "stdout",
          "text": [
            "End of Epoch 84, Average Loss: 3.8318\n"
          ]
        },
        {
          "output_type": "stream",
          "name": "stderr",
          "text": [
            "Epoch 85/250: 100%|██████████| 5/5 [00:03<00:00,  1.41it/s, Loss=3.72]\n"
          ]
        },
        {
          "output_type": "stream",
          "name": "stdout",
          "text": [
            "End of Epoch 85, Average Loss: 3.7983\n"
          ]
        },
        {
          "output_type": "stream",
          "name": "stderr",
          "text": [
            "Epoch 86/250: 100%|██████████| 5/5 [00:03<00:00,  1.25it/s, Loss=3.69]\n"
          ]
        },
        {
          "output_type": "stream",
          "name": "stdout",
          "text": [
            "End of Epoch 86, Average Loss: 3.8121\n"
          ]
        },
        {
          "output_type": "stream",
          "name": "stderr",
          "text": [
            "Epoch 87/250: 100%|██████████| 5/5 [00:03<00:00,  1.25it/s, Loss=3.78]\n"
          ]
        },
        {
          "output_type": "stream",
          "name": "stdout",
          "text": [
            "End of Epoch 87, Average Loss: 3.8006\n"
          ]
        },
        {
          "output_type": "stream",
          "name": "stderr",
          "text": [
            "Epoch 88/250: 100%|██████████| 5/5 [00:03<00:00,  1.42it/s, Loss=3.87]\n"
          ]
        },
        {
          "output_type": "stream",
          "name": "stdout",
          "text": [
            "End of Epoch 88, Average Loss: 3.8371\n"
          ]
        },
        {
          "output_type": "stream",
          "name": "stderr",
          "text": [
            "Epoch 89/250: 100%|██████████| 5/5 [00:03<00:00,  1.37it/s, Loss=3.86]\n"
          ]
        },
        {
          "output_type": "stream",
          "name": "stdout",
          "text": [
            "End of Epoch 89, Average Loss: 3.8006\n"
          ]
        },
        {
          "output_type": "stream",
          "name": "stderr",
          "text": [
            "Epoch 90/250: 100%|██████████| 5/5 [00:04<00:00,  1.20it/s, Loss=3.76]\n"
          ]
        },
        {
          "output_type": "stream",
          "name": "stdout",
          "text": [
            "End of Epoch 90, Average Loss: 3.7707\n"
          ]
        },
        {
          "output_type": "stream",
          "name": "stderr",
          "text": [
            "Epoch 91/250: 100%|██████████| 5/5 [00:03<00:00,  1.38it/s, Loss=3.86]\n"
          ]
        },
        {
          "output_type": "stream",
          "name": "stdout",
          "text": [
            "End of Epoch 91, Average Loss: 3.8077\n"
          ]
        },
        {
          "output_type": "stream",
          "name": "stderr",
          "text": [
            "Epoch 92/250: 100%|██████████| 5/5 [00:03<00:00,  1.37it/s, Loss=3.7]\n"
          ]
        },
        {
          "output_type": "stream",
          "name": "stdout",
          "text": [
            "End of Epoch 92, Average Loss: 3.7982\n"
          ]
        },
        {
          "output_type": "stream",
          "name": "stderr",
          "text": [
            "Epoch 93/250: 100%|██████████| 5/5 [00:04<00:00,  1.13it/s, Loss=3.87]\n"
          ]
        },
        {
          "output_type": "stream",
          "name": "stdout",
          "text": [
            "End of Epoch 93, Average Loss: 3.8085\n"
          ]
        },
        {
          "output_type": "stream",
          "name": "stderr",
          "text": [
            "Epoch 94/250: 100%|██████████| 5/5 [00:03<00:00,  1.38it/s, Loss=3.8]\n"
          ]
        },
        {
          "output_type": "stream",
          "name": "stdout",
          "text": [
            "End of Epoch 94, Average Loss: 3.7716\n"
          ]
        },
        {
          "output_type": "stream",
          "name": "stderr",
          "text": [
            "Epoch 95/250: 100%|██████████| 5/5 [00:03<00:00,  1.38it/s, Loss=3.88]\n"
          ]
        },
        {
          "output_type": "stream",
          "name": "stdout",
          "text": [
            "End of Epoch 95, Average Loss: 3.7438\n"
          ]
        },
        {
          "output_type": "stream",
          "name": "stderr",
          "text": [
            "Epoch 96/250: 100%|██████████| 5/5 [00:04<00:00,  1.18it/s, Loss=3.74]\n"
          ]
        },
        {
          "output_type": "stream",
          "name": "stdout",
          "text": [
            "End of Epoch 96, Average Loss: 3.7993\n"
          ]
        },
        {
          "output_type": "stream",
          "name": "stderr",
          "text": [
            "Epoch 97/250: 100%|██████████| 5/5 [00:03<00:00,  1.35it/s, Loss=3.98]\n"
          ]
        },
        {
          "output_type": "stream",
          "name": "stdout",
          "text": [
            "End of Epoch 97, Average Loss: 3.8017\n"
          ]
        },
        {
          "output_type": "stream",
          "name": "stderr",
          "text": [
            "Epoch 98/250: 100%|██████████| 5/5 [00:03<00:00,  1.37it/s, Loss=3.67]\n"
          ]
        },
        {
          "output_type": "stream",
          "name": "stdout",
          "text": [
            "End of Epoch 98, Average Loss: 3.7911\n"
          ]
        },
        {
          "output_type": "stream",
          "name": "stderr",
          "text": [
            "Epoch 99/250: 100%|██████████| 5/5 [00:04<00:00,  1.15it/s, Loss=3.89]\n"
          ]
        },
        {
          "output_type": "stream",
          "name": "stdout",
          "text": [
            "End of Epoch 99, Average Loss: 3.8152\n"
          ]
        },
        {
          "output_type": "stream",
          "name": "stderr",
          "text": [
            "Epoch 100/250: 100%|██████████| 5/5 [00:03<00:00,  1.38it/s, Loss=3.81]\n"
          ]
        },
        {
          "output_type": "stream",
          "name": "stdout",
          "text": [
            "End of Epoch 100, Average Loss: 3.7943\n"
          ]
        },
        {
          "output_type": "stream",
          "name": "stderr",
          "text": [
            "Epoch 101/250: 100%|██████████| 5/5 [00:03<00:00,  1.38it/s, Loss=3.62]\n"
          ]
        },
        {
          "output_type": "stream",
          "name": "stdout",
          "text": [
            "End of Epoch 101, Average Loss: 3.8106\n"
          ]
        },
        {
          "output_type": "stream",
          "name": "stderr",
          "text": [
            "Epoch 102/250: 100%|██████████| 5/5 [00:04<00:00,  1.17it/s, Loss=3.76]\n"
          ]
        },
        {
          "output_type": "stream",
          "name": "stdout",
          "text": [
            "End of Epoch 102, Average Loss: 3.7983\n"
          ]
        },
        {
          "output_type": "stream",
          "name": "stderr",
          "text": [
            "Epoch 103/250: 100%|██████████| 5/5 [00:03<00:00,  1.37it/s, Loss=3.78]\n"
          ]
        },
        {
          "output_type": "stream",
          "name": "stdout",
          "text": [
            "End of Epoch 103, Average Loss: 3.7815\n"
          ]
        },
        {
          "output_type": "stream",
          "name": "stderr",
          "text": [
            "Epoch 104/250: 100%|██████████| 5/5 [00:03<00:00,  1.39it/s, Loss=3.74]\n"
          ]
        },
        {
          "output_type": "stream",
          "name": "stdout",
          "text": [
            "End of Epoch 104, Average Loss: 3.7917\n"
          ]
        },
        {
          "output_type": "stream",
          "name": "stderr",
          "text": [
            "Epoch 105/250: 100%|██████████| 5/5 [00:04<00:00,  1.16it/s, Loss=3.82]\n"
          ]
        },
        {
          "output_type": "stream",
          "name": "stdout",
          "text": [
            "End of Epoch 105, Average Loss: 3.7885\n"
          ]
        },
        {
          "output_type": "stream",
          "name": "stderr",
          "text": [
            "Epoch 106/250: 100%|██████████| 5/5 [00:03<00:00,  1.33it/s, Loss=3.77]\n"
          ]
        },
        {
          "output_type": "stream",
          "name": "stdout",
          "text": [
            "End of Epoch 106, Average Loss: 3.8147\n"
          ]
        },
        {
          "output_type": "stream",
          "name": "stderr",
          "text": [
            "Epoch 107/250: 100%|██████████| 5/5 [00:03<00:00,  1.38it/s, Loss=3.87]\n"
          ]
        },
        {
          "output_type": "stream",
          "name": "stdout",
          "text": [
            "End of Epoch 107, Average Loss: 3.7832\n"
          ]
        },
        {
          "output_type": "stream",
          "name": "stderr",
          "text": [
            "Epoch 108/250: 100%|██████████| 5/5 [00:04<00:00,  1.17it/s, Loss=3.88]\n"
          ]
        },
        {
          "output_type": "stream",
          "name": "stdout",
          "text": [
            "End of Epoch 108, Average Loss: 3.7993\n"
          ]
        },
        {
          "output_type": "stream",
          "name": "stderr",
          "text": [
            "Epoch 109/250: 100%|██████████| 5/5 [00:03<00:00,  1.40it/s, Loss=3.84]\n"
          ]
        },
        {
          "output_type": "stream",
          "name": "stdout",
          "text": [
            "End of Epoch 109, Average Loss: 3.8080\n"
          ]
        },
        {
          "output_type": "stream",
          "name": "stderr",
          "text": [
            "Epoch 110/250: 100%|██████████| 5/5 [00:03<00:00,  1.37it/s, Loss=3.75]\n"
          ]
        },
        {
          "output_type": "stream",
          "name": "stdout",
          "text": [
            "End of Epoch 110, Average Loss: 3.7883\n"
          ]
        },
        {
          "output_type": "stream",
          "name": "stderr",
          "text": [
            "Epoch 111/250: 100%|██████████| 5/5 [00:04<00:00,  1.16it/s, Loss=3.87]\n"
          ]
        },
        {
          "output_type": "stream",
          "name": "stdout",
          "text": [
            "End of Epoch 111, Average Loss: 3.7862\n"
          ]
        },
        {
          "output_type": "stream",
          "name": "stderr",
          "text": [
            "Epoch 112/250: 100%|██████████| 5/5 [00:03<00:00,  1.36it/s, Loss=3.62]\n"
          ]
        },
        {
          "output_type": "stream",
          "name": "stdout",
          "text": [
            "End of Epoch 112, Average Loss: 3.7975\n"
          ]
        },
        {
          "output_type": "stream",
          "name": "stderr",
          "text": [
            "Epoch 113/250: 100%|██████████| 5/5 [00:04<00:00,  1.10it/s, Loss=3.82]\n"
          ]
        },
        {
          "output_type": "stream",
          "name": "stdout",
          "text": [
            "End of Epoch 113, Average Loss: 3.8033\n"
          ]
        },
        {
          "output_type": "stream",
          "name": "stderr",
          "text": [
            "Epoch 114/250: 100%|██████████| 5/5 [00:04<00:00,  1.18it/s, Loss=3.89]\n"
          ]
        },
        {
          "output_type": "stream",
          "name": "stdout",
          "text": [
            "End of Epoch 114, Average Loss: 3.8079\n"
          ]
        },
        {
          "output_type": "stream",
          "name": "stderr",
          "text": [
            "Epoch 115/250: 100%|██████████| 5/5 [00:03<00:00,  1.36it/s, Loss=3.71]\n"
          ]
        },
        {
          "output_type": "stream",
          "name": "stdout",
          "text": [
            "End of Epoch 115, Average Loss: 3.7595\n"
          ]
        },
        {
          "output_type": "stream",
          "name": "stderr",
          "text": [
            "Epoch 116/250: 100%|██████████| 5/5 [00:03<00:00,  1.37it/s, Loss=3.71]\n"
          ]
        },
        {
          "output_type": "stream",
          "name": "stdout",
          "text": [
            "End of Epoch 116, Average Loss: 3.7794\n"
          ]
        },
        {
          "output_type": "stream",
          "name": "stderr",
          "text": [
            "Epoch 117/250: 100%|██████████| 5/5 [00:04<00:00,  1.16it/s, Loss=3.75]\n"
          ]
        },
        {
          "output_type": "stream",
          "name": "stdout",
          "text": [
            "End of Epoch 117, Average Loss: 3.8059\n"
          ]
        },
        {
          "output_type": "stream",
          "name": "stderr",
          "text": [
            "Epoch 118/250: 100%|██████████| 5/5 [00:03<00:00,  1.37it/s, Loss=3.75]\n"
          ]
        },
        {
          "output_type": "stream",
          "name": "stdout",
          "text": [
            "End of Epoch 118, Average Loss: 3.7936\n"
          ]
        },
        {
          "output_type": "stream",
          "name": "stderr",
          "text": [
            "Epoch 119/250: 100%|██████████| 5/5 [00:03<00:00,  1.35it/s, Loss=3.95]\n"
          ]
        },
        {
          "output_type": "stream",
          "name": "stdout",
          "text": [
            "End of Epoch 119, Average Loss: 3.7735\n"
          ]
        },
        {
          "output_type": "stream",
          "name": "stderr",
          "text": [
            "Epoch 120/250: 100%|██████████| 5/5 [00:04<00:00,  1.12it/s, Loss=3.67]\n"
          ]
        },
        {
          "output_type": "stream",
          "name": "stdout",
          "text": [
            "End of Epoch 120, Average Loss: 3.7692\n"
          ]
        },
        {
          "output_type": "stream",
          "name": "stderr",
          "text": [
            "Epoch 121/250: 100%|██████████| 5/5 [00:03<00:00,  1.37it/s, Loss=3.83]\n"
          ]
        },
        {
          "output_type": "stream",
          "name": "stdout",
          "text": [
            "End of Epoch 121, Average Loss: 3.7821\n"
          ]
        },
        {
          "output_type": "stream",
          "name": "stderr",
          "text": [
            "Epoch 122/250: 100%|██████████| 5/5 [00:03<00:00,  1.40it/s, Loss=3.71]\n"
          ]
        },
        {
          "output_type": "stream",
          "name": "stdout",
          "text": [
            "End of Epoch 122, Average Loss: 3.7619\n"
          ]
        },
        {
          "output_type": "stream",
          "name": "stderr",
          "text": [
            "Epoch 123/250: 100%|██████████| 5/5 [00:04<00:00,  1.19it/s, Loss=3.9]\n"
          ]
        },
        {
          "output_type": "stream",
          "name": "stdout",
          "text": [
            "End of Epoch 123, Average Loss: 3.7709\n"
          ]
        },
        {
          "output_type": "stream",
          "name": "stderr",
          "text": [
            "Epoch 124/250: 100%|██████████| 5/5 [00:03<00:00,  1.40it/s, Loss=3.71]\n"
          ]
        },
        {
          "output_type": "stream",
          "name": "stdout",
          "text": [
            "End of Epoch 124, Average Loss: 3.7497\n"
          ]
        },
        {
          "output_type": "stream",
          "name": "stderr",
          "text": [
            "Epoch 125/250: 100%|██████████| 5/5 [00:03<00:00,  1.40it/s, Loss=3.63]\n"
          ]
        },
        {
          "output_type": "stream",
          "name": "stdout",
          "text": [
            "End of Epoch 125, Average Loss: 3.7629\n"
          ]
        },
        {
          "output_type": "stream",
          "name": "stderr",
          "text": [
            "Epoch 126/250: 100%|██████████| 5/5 [00:04<00:00,  1.12it/s, Loss=3.74]\n"
          ]
        },
        {
          "output_type": "stream",
          "name": "stdout",
          "text": [
            "End of Epoch 126, Average Loss: 3.7661\n"
          ]
        },
        {
          "output_type": "stream",
          "name": "stderr",
          "text": [
            "Epoch 127/250: 100%|██████████| 5/5 [00:03<00:00,  1.36it/s, Loss=3.74]\n"
          ]
        },
        {
          "output_type": "stream",
          "name": "stdout",
          "text": [
            "End of Epoch 127, Average Loss: 3.7835\n"
          ]
        },
        {
          "output_type": "stream",
          "name": "stderr",
          "text": [
            "Epoch 128/250: 100%|██████████| 5/5 [00:03<00:00,  1.37it/s, Loss=3.86]\n"
          ]
        },
        {
          "output_type": "stream",
          "name": "stdout",
          "text": [
            "End of Epoch 128, Average Loss: 3.7668\n"
          ]
        },
        {
          "output_type": "stream",
          "name": "stderr",
          "text": [
            "Epoch 129/250: 100%|██████████| 5/5 [00:04<00:00,  1.24it/s, Loss=3.69]\n"
          ]
        },
        {
          "output_type": "stream",
          "name": "stdout",
          "text": [
            "End of Epoch 129, Average Loss: 3.7552\n"
          ]
        },
        {
          "output_type": "stream",
          "name": "stderr",
          "text": [
            "Epoch 130/250: 100%|██████████| 5/5 [00:03<00:00,  1.33it/s, Loss=3.55]\n"
          ]
        },
        {
          "output_type": "stream",
          "name": "stdout",
          "text": [
            "End of Epoch 130, Average Loss: 3.7521\n"
          ]
        },
        {
          "output_type": "stream",
          "name": "stderr",
          "text": [
            "Epoch 131/250: 100%|██████████| 5/5 [00:03<00:00,  1.35it/s, Loss=3.63]\n"
          ]
        },
        {
          "output_type": "stream",
          "name": "stdout",
          "text": [
            "End of Epoch 131, Average Loss: 3.7325\n"
          ]
        },
        {
          "output_type": "stream",
          "name": "stderr",
          "text": [
            "Epoch 132/250: 100%|██████████| 5/5 [00:03<00:00,  1.27it/s, Loss=3.77]\n"
          ]
        },
        {
          "output_type": "stream",
          "name": "stdout",
          "text": [
            "End of Epoch 132, Average Loss: 3.7844\n"
          ]
        },
        {
          "output_type": "stream",
          "name": "stderr",
          "text": [
            "Epoch 133/250: 100%|██████████| 5/5 [00:03<00:00,  1.28it/s, Loss=3.81]\n"
          ]
        },
        {
          "output_type": "stream",
          "name": "stdout",
          "text": [
            "End of Epoch 133, Average Loss: 3.7795\n"
          ]
        },
        {
          "output_type": "stream",
          "name": "stderr",
          "text": [
            "Epoch 134/250: 100%|██████████| 5/5 [00:03<00:00,  1.35it/s, Loss=3.81]\n"
          ]
        },
        {
          "output_type": "stream",
          "name": "stdout",
          "text": [
            "End of Epoch 134, Average Loss: 3.8092\n"
          ]
        },
        {
          "output_type": "stream",
          "name": "stderr",
          "text": [
            "Epoch 135/250: 100%|██████████| 5/5 [00:03<00:00,  1.31it/s, Loss=3.76]\n"
          ]
        },
        {
          "output_type": "stream",
          "name": "stdout",
          "text": [
            "End of Epoch 135, Average Loss: 3.7548\n"
          ]
        },
        {
          "output_type": "stream",
          "name": "stderr",
          "text": [
            "Epoch 136/250: 100%|██████████| 5/5 [00:04<00:00,  1.19it/s, Loss=3.65]\n"
          ]
        },
        {
          "output_type": "stream",
          "name": "stdout",
          "text": [
            "End of Epoch 136, Average Loss: 3.7448\n"
          ]
        },
        {
          "output_type": "stream",
          "name": "stderr",
          "text": [
            "Epoch 137/250: 100%|██████████| 5/5 [00:03<00:00,  1.38it/s, Loss=3.86]\n"
          ]
        },
        {
          "output_type": "stream",
          "name": "stdout",
          "text": [
            "End of Epoch 137, Average Loss: 3.7744\n"
          ]
        },
        {
          "output_type": "stream",
          "name": "stderr",
          "text": [
            "Epoch 138/250: 100%|██████████| 5/5 [00:03<00:00,  1.34it/s, Loss=3.68]\n"
          ]
        },
        {
          "output_type": "stream",
          "name": "stdout",
          "text": [
            "End of Epoch 138, Average Loss: 3.7394\n"
          ]
        },
        {
          "output_type": "stream",
          "name": "stderr",
          "text": [
            "Epoch 139/250: 100%|██████████| 5/5 [00:04<00:00,  1.21it/s, Loss=3.67]\n"
          ]
        },
        {
          "output_type": "stream",
          "name": "stdout",
          "text": [
            "End of Epoch 139, Average Loss: 3.7307\n"
          ]
        },
        {
          "output_type": "stream",
          "name": "stderr",
          "text": [
            "Epoch 140/250: 100%|██████████| 5/5 [00:03<00:00,  1.40it/s, Loss=4.03]\n"
          ]
        },
        {
          "output_type": "stream",
          "name": "stdout",
          "text": [
            "End of Epoch 140, Average Loss: 3.7952\n"
          ]
        },
        {
          "output_type": "stream",
          "name": "stderr",
          "text": [
            "Epoch 141/250: 100%|██████████| 5/5 [00:03<00:00,  1.40it/s, Loss=3.85]\n"
          ]
        },
        {
          "output_type": "stream",
          "name": "stdout",
          "text": [
            "End of Epoch 141, Average Loss: 3.7552\n"
          ]
        },
        {
          "output_type": "stream",
          "name": "stderr",
          "text": [
            "Epoch 142/250: 100%|██████████| 5/5 [00:04<00:00,  1.14it/s, Loss=3.69]\n"
          ]
        },
        {
          "output_type": "stream",
          "name": "stdout",
          "text": [
            "End of Epoch 142, Average Loss: 3.7602\n"
          ]
        },
        {
          "output_type": "stream",
          "name": "stderr",
          "text": [
            "Epoch 143/250: 100%|██████████| 5/5 [00:03<00:00,  1.36it/s, Loss=3.7]\n"
          ]
        },
        {
          "output_type": "stream",
          "name": "stdout",
          "text": [
            "End of Epoch 143, Average Loss: 3.7523\n"
          ]
        },
        {
          "output_type": "stream",
          "name": "stderr",
          "text": [
            "Epoch 144/250: 100%|██████████| 5/5 [00:03<00:00,  1.35it/s, Loss=3.73]\n"
          ]
        },
        {
          "output_type": "stream",
          "name": "stdout",
          "text": [
            "End of Epoch 144, Average Loss: 3.7634\n"
          ]
        },
        {
          "output_type": "stream",
          "name": "stderr",
          "text": [
            "Epoch 145/250: 100%|██████████| 5/5 [00:04<00:00,  1.18it/s, Loss=3.73]\n"
          ]
        },
        {
          "output_type": "stream",
          "name": "stdout",
          "text": [
            "End of Epoch 145, Average Loss: 3.7459\n"
          ]
        },
        {
          "output_type": "stream",
          "name": "stderr",
          "text": [
            "Epoch 146/250: 100%|██████████| 5/5 [00:03<00:00,  1.37it/s, Loss=3.63]\n"
          ]
        },
        {
          "output_type": "stream",
          "name": "stdout",
          "text": [
            "End of Epoch 146, Average Loss: 3.7176\n"
          ]
        },
        {
          "output_type": "stream",
          "name": "stderr",
          "text": [
            "Epoch 147/250: 100%|██████████| 5/5 [00:03<00:00,  1.39it/s, Loss=3.65]\n"
          ]
        },
        {
          "output_type": "stream",
          "name": "stdout",
          "text": [
            "End of Epoch 147, Average Loss: 3.7719\n"
          ]
        },
        {
          "output_type": "stream",
          "name": "stderr",
          "text": [
            "Epoch 148/250: 100%|██████████| 5/5 [00:04<00:00,  1.17it/s, Loss=3.72]\n"
          ]
        },
        {
          "output_type": "stream",
          "name": "stdout",
          "text": [
            "End of Epoch 148, Average Loss: 3.7650\n"
          ]
        },
        {
          "output_type": "stream",
          "name": "stderr",
          "text": [
            "Epoch 149/250: 100%|██████████| 5/5 [00:03<00:00,  1.31it/s, Loss=3.86]\n"
          ]
        },
        {
          "output_type": "stream",
          "name": "stdout",
          "text": [
            "End of Epoch 149, Average Loss: 3.7617\n"
          ]
        },
        {
          "output_type": "stream",
          "name": "stderr",
          "text": [
            "Epoch 150/250: 100%|██████████| 5/5 [00:03<00:00,  1.41it/s, Loss=3.66]\n"
          ]
        },
        {
          "output_type": "stream",
          "name": "stdout",
          "text": [
            "End of Epoch 150, Average Loss: 3.7511\n"
          ]
        },
        {
          "output_type": "stream",
          "name": "stderr",
          "text": [
            "Epoch 151/250: 100%|██████████| 5/5 [00:04<00:00,  1.19it/s, Loss=3.66]\n"
          ]
        },
        {
          "output_type": "stream",
          "name": "stdout",
          "text": [
            "End of Epoch 151, Average Loss: 3.7782\n"
          ]
        },
        {
          "output_type": "stream",
          "name": "stderr",
          "text": [
            "Epoch 152/250: 100%|██████████| 5/5 [00:03<00:00,  1.35it/s, Loss=3.73]\n"
          ]
        },
        {
          "output_type": "stream",
          "name": "stdout",
          "text": [
            "End of Epoch 152, Average Loss: 3.7227\n"
          ]
        },
        {
          "output_type": "stream",
          "name": "stderr",
          "text": [
            "Epoch 153/250: 100%|██████████| 5/5 [00:03<00:00,  1.37it/s, Loss=3.67]\n"
          ]
        },
        {
          "output_type": "stream",
          "name": "stdout",
          "text": [
            "End of Epoch 153, Average Loss: 3.7556\n"
          ]
        },
        {
          "output_type": "stream",
          "name": "stderr",
          "text": [
            "Epoch 154/250: 100%|██████████| 5/5 [00:04<00:00,  1.17it/s, Loss=3.6]\n"
          ]
        },
        {
          "output_type": "stream",
          "name": "stdout",
          "text": [
            "End of Epoch 154, Average Loss: 3.7492\n"
          ]
        },
        {
          "output_type": "stream",
          "name": "stderr",
          "text": [
            "Epoch 155/250: 100%|██████████| 5/5 [00:03<00:00,  1.26it/s, Loss=3.66]\n"
          ]
        },
        {
          "output_type": "stream",
          "name": "stdout",
          "text": [
            "End of Epoch 155, Average Loss: 3.7603\n"
          ]
        },
        {
          "output_type": "stream",
          "name": "stderr",
          "text": [
            "Epoch 156/250: 100%|██████████| 5/5 [00:03<00:00,  1.29it/s, Loss=3.9]\n"
          ]
        },
        {
          "output_type": "stream",
          "name": "stdout",
          "text": [
            "End of Epoch 156, Average Loss: 3.7731\n"
          ]
        },
        {
          "output_type": "stream",
          "name": "stderr",
          "text": [
            "Epoch 157/250: 100%|██████████| 5/5 [00:04<00:00,  1.18it/s, Loss=3.79]\n"
          ]
        },
        {
          "output_type": "stream",
          "name": "stdout",
          "text": [
            "End of Epoch 157, Average Loss: 3.7471\n"
          ]
        },
        {
          "output_type": "stream",
          "name": "stderr",
          "text": [
            "Epoch 158/250: 100%|██████████| 5/5 [00:03<00:00,  1.34it/s, Loss=3.73]\n"
          ]
        },
        {
          "output_type": "stream",
          "name": "stdout",
          "text": [
            "End of Epoch 158, Average Loss: 3.7573\n"
          ]
        },
        {
          "output_type": "stream",
          "name": "stderr",
          "text": [
            "Epoch 159/250: 100%|██████████| 5/5 [00:03<00:00,  1.36it/s, Loss=3.82]\n"
          ]
        },
        {
          "output_type": "stream",
          "name": "stdout",
          "text": [
            "End of Epoch 159, Average Loss: 3.7584\n"
          ]
        },
        {
          "output_type": "stream",
          "name": "stderr",
          "text": [
            "Epoch 160/250: 100%|██████████| 5/5 [00:04<00:00,  1.16it/s, Loss=3.71]\n"
          ]
        },
        {
          "output_type": "stream",
          "name": "stdout",
          "text": [
            "End of Epoch 160, Average Loss: 3.7000\n"
          ]
        },
        {
          "output_type": "stream",
          "name": "stderr",
          "text": [
            "Epoch 161/250: 100%|██████████| 5/5 [00:03<00:00,  1.37it/s, Loss=3.78]\n"
          ]
        },
        {
          "output_type": "stream",
          "name": "stdout",
          "text": [
            "End of Epoch 161, Average Loss: 3.7271\n"
          ]
        },
        {
          "output_type": "stream",
          "name": "stderr",
          "text": [
            "Epoch 162/250: 100%|██████████| 5/5 [00:03<00:00,  1.33it/s, Loss=3.74]\n"
          ]
        },
        {
          "output_type": "stream",
          "name": "stdout",
          "text": [
            "End of Epoch 162, Average Loss: 3.7265\n"
          ]
        },
        {
          "output_type": "stream",
          "name": "stderr",
          "text": [
            "Epoch 163/250: 100%|██████████| 5/5 [00:04<00:00,  1.17it/s, Loss=3.68]\n"
          ]
        },
        {
          "output_type": "stream",
          "name": "stdout",
          "text": [
            "End of Epoch 163, Average Loss: 3.7391\n"
          ]
        },
        {
          "output_type": "stream",
          "name": "stderr",
          "text": [
            "Epoch 164/250: 100%|██████████| 5/5 [00:03<00:00,  1.36it/s, Loss=3.75]\n"
          ]
        },
        {
          "output_type": "stream",
          "name": "stdout",
          "text": [
            "End of Epoch 164, Average Loss: 3.6908\n"
          ]
        },
        {
          "output_type": "stream",
          "name": "stderr",
          "text": [
            "Epoch 165/250: 100%|██████████| 5/5 [00:03<00:00,  1.37it/s, Loss=3.72]\n"
          ]
        },
        {
          "output_type": "stream",
          "name": "stdout",
          "text": [
            "End of Epoch 165, Average Loss: 3.7510\n"
          ]
        },
        {
          "output_type": "stream",
          "name": "stderr",
          "text": [
            "Epoch 166/250: 100%|██████████| 5/5 [00:04<00:00,  1.13it/s, Loss=3.81]\n"
          ]
        },
        {
          "output_type": "stream",
          "name": "stdout",
          "text": [
            "End of Epoch 166, Average Loss: 3.7258\n"
          ]
        },
        {
          "output_type": "stream",
          "name": "stderr",
          "text": [
            "Epoch 167/250: 100%|██████████| 5/5 [00:03<00:00,  1.41it/s, Loss=3.72]\n"
          ]
        },
        {
          "output_type": "stream",
          "name": "stdout",
          "text": [
            "End of Epoch 167, Average Loss: 3.7346\n"
          ]
        },
        {
          "output_type": "stream",
          "name": "stderr",
          "text": [
            "Epoch 168/250: 100%|██████████| 5/5 [00:03<00:00,  1.38it/s, Loss=3.99]\n"
          ]
        },
        {
          "output_type": "stream",
          "name": "stdout",
          "text": [
            "End of Epoch 168, Average Loss: 3.7618\n"
          ]
        },
        {
          "output_type": "stream",
          "name": "stderr",
          "text": [
            "Epoch 169/250: 100%|██████████| 5/5 [00:04<00:00,  1.17it/s, Loss=3.58]\n"
          ]
        },
        {
          "output_type": "stream",
          "name": "stdout",
          "text": [
            "End of Epoch 169, Average Loss: 3.7486\n"
          ]
        },
        {
          "output_type": "stream",
          "name": "stderr",
          "text": [
            "Epoch 170/250: 100%|██████████| 5/5 [00:03<00:00,  1.38it/s, Loss=3.77]\n"
          ]
        },
        {
          "output_type": "stream",
          "name": "stdout",
          "text": [
            "End of Epoch 170, Average Loss: 3.7329\n"
          ]
        },
        {
          "output_type": "stream",
          "name": "stderr",
          "text": [
            "Epoch 171/250: 100%|██████████| 5/5 [00:03<00:00,  1.36it/s, Loss=3.67]\n"
          ]
        },
        {
          "output_type": "stream",
          "name": "stdout",
          "text": [
            "End of Epoch 171, Average Loss: 3.7592\n"
          ]
        },
        {
          "output_type": "stream",
          "name": "stderr",
          "text": [
            "Epoch 172/250: 100%|██████████| 5/5 [00:04<00:00,  1.19it/s, Loss=3.84]\n"
          ]
        },
        {
          "output_type": "stream",
          "name": "stdout",
          "text": [
            "End of Epoch 172, Average Loss: 3.7461\n"
          ]
        },
        {
          "output_type": "stream",
          "name": "stderr",
          "text": [
            "Epoch 173/250: 100%|██████████| 5/5 [00:03<00:00,  1.33it/s, Loss=3.74]\n"
          ]
        },
        {
          "output_type": "stream",
          "name": "stdout",
          "text": [
            "End of Epoch 173, Average Loss: 3.7581\n"
          ]
        },
        {
          "output_type": "stream",
          "name": "stderr",
          "text": [
            "Epoch 174/250: 100%|██████████| 5/5 [00:04<00:00,  1.22it/s, Loss=3.72]\n"
          ]
        },
        {
          "output_type": "stream",
          "name": "stdout",
          "text": [
            "End of Epoch 174, Average Loss: 3.7393\n"
          ]
        },
        {
          "output_type": "stream",
          "name": "stderr",
          "text": [
            "Epoch 175/250: 100%|██████████| 5/5 [00:04<00:00,  1.19it/s, Loss=3.76]\n"
          ]
        },
        {
          "output_type": "stream",
          "name": "stdout",
          "text": [
            "End of Epoch 175, Average Loss: 3.7219\n"
          ]
        },
        {
          "output_type": "stream",
          "name": "stderr",
          "text": [
            "Epoch 176/250: 100%|██████████| 5/5 [00:03<00:00,  1.38it/s, Loss=3.7]\n"
          ]
        },
        {
          "output_type": "stream",
          "name": "stdout",
          "text": [
            "End of Epoch 176, Average Loss: 3.7250\n"
          ]
        },
        {
          "output_type": "stream",
          "name": "stderr",
          "text": [
            "Epoch 177/250: 100%|██████████| 5/5 [00:03<00:00,  1.40it/s, Loss=3.86]\n"
          ]
        },
        {
          "output_type": "stream",
          "name": "stdout",
          "text": [
            "End of Epoch 177, Average Loss: 3.7434\n"
          ]
        },
        {
          "output_type": "stream",
          "name": "stderr",
          "text": [
            "Epoch 178/250: 100%|██████████| 5/5 [00:04<00:00,  1.23it/s, Loss=3.63]\n"
          ]
        },
        {
          "output_type": "stream",
          "name": "stdout",
          "text": [
            "End of Epoch 178, Average Loss: 3.7080\n"
          ]
        },
        {
          "output_type": "stream",
          "name": "stderr",
          "text": [
            "Epoch 179/250: 100%|██████████| 5/5 [00:03<00:00,  1.33it/s, Loss=3.66]\n"
          ]
        },
        {
          "output_type": "stream",
          "name": "stdout",
          "text": [
            "End of Epoch 179, Average Loss: 3.7523\n"
          ]
        },
        {
          "output_type": "stream",
          "name": "stderr",
          "text": [
            "Epoch 180/250: 100%|██████████| 5/5 [00:03<00:00,  1.40it/s, Loss=3.75]\n"
          ]
        },
        {
          "output_type": "stream",
          "name": "stdout",
          "text": [
            "End of Epoch 180, Average Loss: 3.7226\n"
          ]
        },
        {
          "output_type": "stream",
          "name": "stderr",
          "text": [
            "Epoch 181/250: 100%|██████████| 5/5 [00:03<00:00,  1.32it/s, Loss=3.83]\n"
          ]
        },
        {
          "output_type": "stream",
          "name": "stdout",
          "text": [
            "End of Epoch 181, Average Loss: 3.7278\n"
          ]
        },
        {
          "output_type": "stream",
          "name": "stderr",
          "text": [
            "Epoch 182/250: 100%|██████████| 5/5 [00:04<00:00,  1.22it/s, Loss=3.71]\n"
          ]
        },
        {
          "output_type": "stream",
          "name": "stdout",
          "text": [
            "End of Epoch 182, Average Loss: 3.7138\n"
          ]
        },
        {
          "output_type": "stream",
          "name": "stderr",
          "text": [
            "Epoch 183/250: 100%|██████████| 5/5 [00:03<00:00,  1.39it/s, Loss=3.66]\n"
          ]
        },
        {
          "output_type": "stream",
          "name": "stdout",
          "text": [
            "End of Epoch 183, Average Loss: 3.7089\n"
          ]
        },
        {
          "output_type": "stream",
          "name": "stderr",
          "text": [
            "Epoch 184/250: 100%|██████████| 5/5 [00:03<00:00,  1.37it/s, Loss=3.76]\n"
          ]
        },
        {
          "output_type": "stream",
          "name": "stdout",
          "text": [
            "End of Epoch 184, Average Loss: 3.7567\n"
          ]
        },
        {
          "output_type": "stream",
          "name": "stderr",
          "text": [
            "Epoch 185/250: 100%|██████████| 5/5 [00:04<00:00,  1.23it/s, Loss=3.76]\n"
          ]
        },
        {
          "output_type": "stream",
          "name": "stdout",
          "text": [
            "End of Epoch 185, Average Loss: 3.7300\n"
          ]
        },
        {
          "output_type": "stream",
          "name": "stderr",
          "text": [
            "Epoch 186/250: 100%|██████████| 5/5 [00:03<00:00,  1.40it/s, Loss=3.74]\n"
          ]
        },
        {
          "output_type": "stream",
          "name": "stdout",
          "text": [
            "End of Epoch 186, Average Loss: 3.7297\n"
          ]
        },
        {
          "output_type": "stream",
          "name": "stderr",
          "text": [
            "Epoch 187/250: 100%|██████████| 5/5 [00:03<00:00,  1.41it/s, Loss=3.74]\n"
          ]
        },
        {
          "output_type": "stream",
          "name": "stdout",
          "text": [
            "End of Epoch 187, Average Loss: 3.7201\n"
          ]
        },
        {
          "output_type": "stream",
          "name": "stderr",
          "text": [
            "Epoch 188/250: 100%|██████████| 5/5 [00:04<00:00,  1.20it/s, Loss=3.61]\n"
          ]
        },
        {
          "output_type": "stream",
          "name": "stdout",
          "text": [
            "End of Epoch 188, Average Loss: 3.7199\n"
          ]
        },
        {
          "output_type": "stream",
          "name": "stderr",
          "text": [
            "Epoch 189/250: 100%|██████████| 5/5 [00:03<00:00,  1.34it/s, Loss=3.61]\n"
          ]
        },
        {
          "output_type": "stream",
          "name": "stdout",
          "text": [
            "End of Epoch 189, Average Loss: 3.7166\n"
          ]
        },
        {
          "output_type": "stream",
          "name": "stderr",
          "text": [
            "Epoch 190/250: 100%|██████████| 5/5 [00:03<00:00,  1.39it/s, Loss=3.77]\n"
          ]
        },
        {
          "output_type": "stream",
          "name": "stdout",
          "text": [
            "End of Epoch 190, Average Loss: 3.7474\n"
          ]
        },
        {
          "output_type": "stream",
          "name": "stderr",
          "text": [
            "Epoch 191/250: 100%|██████████| 5/5 [00:04<00:00,  1.20it/s, Loss=3.65]\n"
          ]
        },
        {
          "output_type": "stream",
          "name": "stdout",
          "text": [
            "End of Epoch 191, Average Loss: 3.6940\n"
          ]
        },
        {
          "output_type": "stream",
          "name": "stderr",
          "text": [
            "Epoch 192/250: 100%|██████████| 5/5 [00:03<00:00,  1.41it/s, Loss=3.71]\n"
          ]
        },
        {
          "output_type": "stream",
          "name": "stdout",
          "text": [
            "End of Epoch 192, Average Loss: 3.7506\n"
          ]
        },
        {
          "output_type": "stream",
          "name": "stderr",
          "text": [
            "Epoch 193/250: 100%|██████████| 5/5 [00:03<00:00,  1.37it/s, Loss=3.64]\n"
          ]
        },
        {
          "output_type": "stream",
          "name": "stdout",
          "text": [
            "End of Epoch 193, Average Loss: 3.7108\n"
          ]
        },
        {
          "output_type": "stream",
          "name": "stderr",
          "text": [
            "Epoch 194/250: 100%|██████████| 5/5 [00:04<00:00,  1.20it/s, Loss=3.64]\n"
          ]
        },
        {
          "output_type": "stream",
          "name": "stdout",
          "text": [
            "End of Epoch 194, Average Loss: 3.7225\n"
          ]
        },
        {
          "output_type": "stream",
          "name": "stderr",
          "text": [
            "Epoch 195/250: 100%|██████████| 5/5 [00:03<00:00,  1.39it/s, Loss=3.77]\n"
          ]
        },
        {
          "output_type": "stream",
          "name": "stdout",
          "text": [
            "End of Epoch 195, Average Loss: 3.7079\n"
          ]
        },
        {
          "output_type": "stream",
          "name": "stderr",
          "text": [
            "Epoch 196/250: 100%|██████████| 5/5 [00:03<00:00,  1.30it/s, Loss=3.66]\n"
          ]
        },
        {
          "output_type": "stream",
          "name": "stdout",
          "text": [
            "End of Epoch 196, Average Loss: 3.7258\n"
          ]
        },
        {
          "output_type": "stream",
          "name": "stderr",
          "text": [
            "Epoch 197/250: 100%|██████████| 5/5 [00:04<00:00,  1.17it/s, Loss=3.59]\n"
          ]
        },
        {
          "output_type": "stream",
          "name": "stdout",
          "text": [
            "End of Epoch 197, Average Loss: 3.7337\n"
          ]
        },
        {
          "output_type": "stream",
          "name": "stderr",
          "text": [
            "Epoch 198/250: 100%|██████████| 5/5 [00:04<00:00,  1.16it/s, Loss=3.75]\n"
          ]
        },
        {
          "output_type": "stream",
          "name": "stdout",
          "text": [
            "End of Epoch 198, Average Loss: 3.7069\n"
          ]
        },
        {
          "output_type": "stream",
          "name": "stderr",
          "text": [
            "Epoch 199/250: 100%|██████████| 5/5 [00:03<00:00,  1.35it/s, Loss=3.77]\n"
          ]
        },
        {
          "output_type": "stream",
          "name": "stdout",
          "text": [
            "End of Epoch 199, Average Loss: 3.7168\n"
          ]
        },
        {
          "output_type": "stream",
          "name": "stderr",
          "text": [
            "Epoch 200/250: 100%|██████████| 5/5 [00:04<00:00,  1.17it/s, Loss=3.75]\n"
          ]
        },
        {
          "output_type": "stream",
          "name": "stdout",
          "text": [
            "End of Epoch 200, Average Loss: 3.7141\n"
          ]
        },
        {
          "output_type": "stream",
          "name": "stderr",
          "text": [
            "Epoch 201/250: 100%|██████████| 5/5 [00:03<00:00,  1.35it/s, Loss=3.81]\n"
          ]
        },
        {
          "output_type": "stream",
          "name": "stdout",
          "text": [
            "End of Epoch 201, Average Loss: 3.7239\n"
          ]
        },
        {
          "output_type": "stream",
          "name": "stderr",
          "text": [
            "Epoch 202/250: 100%|██████████| 5/5 [00:03<00:00,  1.36it/s, Loss=3.72]\n"
          ]
        },
        {
          "output_type": "stream",
          "name": "stdout",
          "text": [
            "End of Epoch 202, Average Loss: 3.7116\n"
          ]
        },
        {
          "output_type": "stream",
          "name": "stderr",
          "text": [
            "Epoch 203/250: 100%|██████████| 5/5 [00:04<00:00,  1.12it/s, Loss=3.67]\n"
          ]
        },
        {
          "output_type": "stream",
          "name": "stdout",
          "text": [
            "End of Epoch 203, Average Loss: 3.7087\n"
          ]
        },
        {
          "output_type": "stream",
          "name": "stderr",
          "text": [
            "Epoch 204/250: 100%|██████████| 5/5 [00:03<00:00,  1.41it/s, Loss=3.68]\n"
          ]
        },
        {
          "output_type": "stream",
          "name": "stdout",
          "text": [
            "End of Epoch 204, Average Loss: 3.7348\n"
          ]
        },
        {
          "output_type": "stream",
          "name": "stderr",
          "text": [
            "Epoch 205/250: 100%|██████████| 5/5 [00:03<00:00,  1.40it/s, Loss=3.72]\n"
          ]
        },
        {
          "output_type": "stream",
          "name": "stdout",
          "text": [
            "End of Epoch 205, Average Loss: 3.7167\n"
          ]
        },
        {
          "output_type": "stream",
          "name": "stderr",
          "text": [
            "Epoch 206/250: 100%|██████████| 5/5 [00:04<00:00,  1.16it/s, Loss=3.77]\n"
          ]
        },
        {
          "output_type": "stream",
          "name": "stdout",
          "text": [
            "End of Epoch 206, Average Loss: 3.6925\n"
          ]
        },
        {
          "output_type": "stream",
          "name": "stderr",
          "text": [
            "Epoch 207/250: 100%|██████████| 5/5 [00:03<00:00,  1.37it/s, Loss=3.77]\n"
          ]
        },
        {
          "output_type": "stream",
          "name": "stdout",
          "text": [
            "End of Epoch 207, Average Loss: 3.7307\n"
          ]
        },
        {
          "output_type": "stream",
          "name": "stderr",
          "text": [
            "Epoch 208/250: 100%|██████████| 5/5 [00:03<00:00,  1.37it/s, Loss=3.77]\n"
          ]
        },
        {
          "output_type": "stream",
          "name": "stdout",
          "text": [
            "End of Epoch 208, Average Loss: 3.7228\n"
          ]
        },
        {
          "output_type": "stream",
          "name": "stderr",
          "text": [
            "Epoch 209/250: 100%|██████████| 5/5 [00:04<00:00,  1.16it/s, Loss=3.75]\n"
          ]
        },
        {
          "output_type": "stream",
          "name": "stdout",
          "text": [
            "End of Epoch 209, Average Loss: 3.6913\n"
          ]
        },
        {
          "output_type": "stream",
          "name": "stderr",
          "text": [
            "Epoch 210/250: 100%|██████████| 5/5 [00:03<00:00,  1.29it/s, Loss=3.82]\n"
          ]
        },
        {
          "output_type": "stream",
          "name": "stdout",
          "text": [
            "End of Epoch 210, Average Loss: 3.6796\n"
          ]
        },
        {
          "output_type": "stream",
          "name": "stderr",
          "text": [
            "Epoch 211/250: 100%|██████████| 5/5 [00:03<00:00,  1.40it/s, Loss=3.84]\n"
          ]
        },
        {
          "output_type": "stream",
          "name": "stdout",
          "text": [
            "End of Epoch 211, Average Loss: 3.7159\n"
          ]
        },
        {
          "output_type": "stream",
          "name": "stderr",
          "text": [
            "Epoch 212/250: 100%|██████████| 5/5 [00:04<00:00,  1.19it/s, Loss=3.69]\n"
          ]
        },
        {
          "output_type": "stream",
          "name": "stdout",
          "text": [
            "End of Epoch 212, Average Loss: 3.6909\n"
          ]
        },
        {
          "output_type": "stream",
          "name": "stderr",
          "text": [
            "Epoch 213/250: 100%|██████████| 5/5 [00:03<00:00,  1.36it/s, Loss=3.79]\n"
          ]
        },
        {
          "output_type": "stream",
          "name": "stdout",
          "text": [
            "End of Epoch 213, Average Loss: 3.7238\n"
          ]
        },
        {
          "output_type": "stream",
          "name": "stderr",
          "text": [
            "Epoch 214/250: 100%|██████████| 5/5 [00:03<00:00,  1.38it/s, Loss=3.81]\n"
          ]
        },
        {
          "output_type": "stream",
          "name": "stdout",
          "text": [
            "End of Epoch 214, Average Loss: 3.7057\n"
          ]
        },
        {
          "output_type": "stream",
          "name": "stderr",
          "text": [
            "Epoch 215/250: 100%|██████████| 5/5 [00:04<00:00,  1.15it/s, Loss=3.69]\n"
          ]
        },
        {
          "output_type": "stream",
          "name": "stdout",
          "text": [
            "End of Epoch 215, Average Loss: 3.6951\n"
          ]
        },
        {
          "output_type": "stream",
          "name": "stderr",
          "text": [
            "Epoch 216/250: 100%|██████████| 5/5 [00:03<00:00,  1.36it/s, Loss=3.71]\n"
          ]
        },
        {
          "output_type": "stream",
          "name": "stdout",
          "text": [
            "End of Epoch 216, Average Loss: 3.7028\n"
          ]
        },
        {
          "output_type": "stream",
          "name": "stderr",
          "text": [
            "Epoch 217/250: 100%|██████████| 5/5 [00:03<00:00,  1.34it/s, Loss=3.77]\n"
          ]
        },
        {
          "output_type": "stream",
          "name": "stdout",
          "text": [
            "End of Epoch 217, Average Loss: 3.7049\n"
          ]
        },
        {
          "output_type": "stream",
          "name": "stderr",
          "text": [
            "Epoch 218/250: 100%|██████████| 5/5 [00:04<00:00,  1.15it/s, Loss=3.78]\n"
          ]
        },
        {
          "output_type": "stream",
          "name": "stdout",
          "text": [
            "End of Epoch 218, Average Loss: 3.7113\n"
          ]
        },
        {
          "output_type": "stream",
          "name": "stderr",
          "text": [
            "Epoch 219/250: 100%|██████████| 5/5 [00:03<00:00,  1.39it/s, Loss=3.58]\n"
          ]
        },
        {
          "output_type": "stream",
          "name": "stdout",
          "text": [
            "End of Epoch 219, Average Loss: 3.7099\n"
          ]
        },
        {
          "output_type": "stream",
          "name": "stderr",
          "text": [
            "Epoch 220/250: 100%|██████████| 5/5 [00:03<00:00,  1.38it/s, Loss=3.82]\n"
          ]
        },
        {
          "output_type": "stream",
          "name": "stdout",
          "text": [
            "End of Epoch 220, Average Loss: 3.6929\n"
          ]
        },
        {
          "output_type": "stream",
          "name": "stderr",
          "text": [
            "Epoch 221/250: 100%|██████████| 5/5 [00:04<00:00,  1.20it/s, Loss=3.57]\n"
          ]
        },
        {
          "output_type": "stream",
          "name": "stdout",
          "text": [
            "End of Epoch 221, Average Loss: 3.6847\n"
          ]
        },
        {
          "output_type": "stream",
          "name": "stderr",
          "text": [
            "Epoch 222/250: 100%|██████████| 5/5 [00:03<00:00,  1.37it/s, Loss=3.61]\n"
          ]
        },
        {
          "output_type": "stream",
          "name": "stdout",
          "text": [
            "End of Epoch 222, Average Loss: 3.6993\n"
          ]
        },
        {
          "output_type": "stream",
          "name": "stderr",
          "text": [
            "Epoch 223/250: 100%|██████████| 5/5 [00:03<00:00,  1.34it/s, Loss=3.58]\n"
          ]
        },
        {
          "output_type": "stream",
          "name": "stdout",
          "text": [
            "End of Epoch 223, Average Loss: 3.6725\n"
          ]
        },
        {
          "output_type": "stream",
          "name": "stderr",
          "text": [
            "Epoch 224/250: 100%|██████████| 5/5 [00:04<00:00,  1.21it/s, Loss=3.64]\n"
          ]
        },
        {
          "output_type": "stream",
          "name": "stdout",
          "text": [
            "End of Epoch 224, Average Loss: 3.7187\n"
          ]
        },
        {
          "output_type": "stream",
          "name": "stderr",
          "text": [
            "Epoch 225/250: 100%|██████████| 5/5 [00:03<00:00,  1.29it/s, Loss=3.62]\n"
          ]
        },
        {
          "output_type": "stream",
          "name": "stdout",
          "text": [
            "End of Epoch 225, Average Loss: 3.7255\n"
          ]
        },
        {
          "output_type": "stream",
          "name": "stderr",
          "text": [
            "Epoch 226/250: 100%|██████████| 5/5 [00:03<00:00,  1.32it/s, Loss=3.6]\n"
          ]
        },
        {
          "output_type": "stream",
          "name": "stdout",
          "text": [
            "End of Epoch 226, Average Loss: 3.6890\n"
          ]
        },
        {
          "output_type": "stream",
          "name": "stderr",
          "text": [
            "Epoch 227/250: 100%|██████████| 5/5 [00:03<00:00,  1.26it/s, Loss=3.68]\n"
          ]
        },
        {
          "output_type": "stream",
          "name": "stdout",
          "text": [
            "End of Epoch 227, Average Loss: 3.6650\n"
          ]
        },
        {
          "output_type": "stream",
          "name": "stderr",
          "text": [
            "Epoch 228/250: 100%|██████████| 5/5 [00:03<00:00,  1.29it/s, Loss=3.57]\n"
          ]
        },
        {
          "output_type": "stream",
          "name": "stdout",
          "text": [
            "End of Epoch 228, Average Loss: 3.6913\n"
          ]
        },
        {
          "output_type": "stream",
          "name": "stderr",
          "text": [
            "Epoch 229/250: 100%|██████████| 5/5 [00:03<00:00,  1.41it/s, Loss=3.77]\n"
          ]
        },
        {
          "output_type": "stream",
          "name": "stdout",
          "text": [
            "End of Epoch 229, Average Loss: 3.6946\n"
          ]
        },
        {
          "output_type": "stream",
          "name": "stderr",
          "text": [
            "Epoch 230/250: 100%|██████████| 5/5 [00:03<00:00,  1.33it/s, Loss=3.6]\n"
          ]
        },
        {
          "output_type": "stream",
          "name": "stdout",
          "text": [
            "End of Epoch 230, Average Loss: 3.6880\n"
          ]
        },
        {
          "output_type": "stream",
          "name": "stderr",
          "text": [
            "Epoch 231/250: 100%|██████████| 5/5 [00:04<00:00,  1.21it/s, Loss=3.78]\n"
          ]
        },
        {
          "output_type": "stream",
          "name": "stdout",
          "text": [
            "End of Epoch 231, Average Loss: 3.7043\n"
          ]
        },
        {
          "output_type": "stream",
          "name": "stderr",
          "text": [
            "Epoch 232/250: 100%|██████████| 5/5 [00:03<00:00,  1.37it/s, Loss=3.58]\n"
          ]
        },
        {
          "output_type": "stream",
          "name": "stdout",
          "text": [
            "End of Epoch 232, Average Loss: 3.6760\n"
          ]
        },
        {
          "output_type": "stream",
          "name": "stderr",
          "text": [
            "Epoch 233/250: 100%|██████████| 5/5 [00:03<00:00,  1.33it/s, Loss=3.76]\n"
          ]
        },
        {
          "output_type": "stream",
          "name": "stdout",
          "text": [
            "End of Epoch 233, Average Loss: 3.6526\n"
          ]
        },
        {
          "output_type": "stream",
          "name": "stderr",
          "text": [
            "Epoch 234/250: 100%|██████████| 5/5 [00:04<00:00,  1.14it/s, Loss=3.57]\n"
          ]
        },
        {
          "output_type": "stream",
          "name": "stdout",
          "text": [
            "End of Epoch 234, Average Loss: 3.6786\n"
          ]
        },
        {
          "output_type": "stream",
          "name": "stderr",
          "text": [
            "Epoch 235/250: 100%|██████████| 5/5 [00:03<00:00,  1.36it/s, Loss=3.79]\n"
          ]
        },
        {
          "output_type": "stream",
          "name": "stdout",
          "text": [
            "End of Epoch 235, Average Loss: 3.6830\n"
          ]
        },
        {
          "output_type": "stream",
          "name": "stderr",
          "text": [
            "Epoch 236/250: 100%|██████████| 5/5 [00:03<00:00,  1.35it/s, Loss=3.74]\n"
          ]
        },
        {
          "output_type": "stream",
          "name": "stdout",
          "text": [
            "End of Epoch 236, Average Loss: 3.6940\n"
          ]
        },
        {
          "output_type": "stream",
          "name": "stderr",
          "text": [
            "Epoch 237/250: 100%|██████████| 5/5 [00:04<00:00,  1.20it/s, Loss=3.66]\n"
          ]
        },
        {
          "output_type": "stream",
          "name": "stdout",
          "text": [
            "End of Epoch 237, Average Loss: 3.6683\n"
          ]
        },
        {
          "output_type": "stream",
          "name": "stderr",
          "text": [
            "Epoch 238/250: 100%|██████████| 5/5 [00:03<00:00,  1.39it/s, Loss=3.87]\n"
          ]
        },
        {
          "output_type": "stream",
          "name": "stdout",
          "text": [
            "End of Epoch 238, Average Loss: 3.6997\n"
          ]
        },
        {
          "output_type": "stream",
          "name": "stderr",
          "text": [
            "Epoch 239/250: 100%|██████████| 5/5 [00:03<00:00,  1.37it/s, Loss=3.78]\n"
          ]
        },
        {
          "output_type": "stream",
          "name": "stdout",
          "text": [
            "End of Epoch 239, Average Loss: 3.6903\n"
          ]
        },
        {
          "output_type": "stream",
          "name": "stderr",
          "text": [
            "Epoch 240/250: 100%|██████████| 5/5 [00:05<00:00,  1.01s/it, Loss=3.67]\n"
          ]
        },
        {
          "output_type": "stream",
          "name": "stdout",
          "text": [
            "End of Epoch 240, Average Loss: 3.6817\n"
          ]
        },
        {
          "output_type": "stream",
          "name": "stderr",
          "text": [
            "Epoch 241/250: 100%|██████████| 5/5 [00:03<00:00,  1.34it/s, Loss=3.79]\n"
          ]
        },
        {
          "output_type": "stream",
          "name": "stdout",
          "text": [
            "End of Epoch 241, Average Loss: 3.6536\n"
          ]
        },
        {
          "output_type": "stream",
          "name": "stderr",
          "text": [
            "Epoch 242/250: 100%|██████████| 5/5 [00:03<00:00,  1.29it/s, Loss=3.76]\n"
          ]
        },
        {
          "output_type": "stream",
          "name": "stdout",
          "text": [
            "End of Epoch 242, Average Loss: 3.6708\n"
          ]
        },
        {
          "output_type": "stream",
          "name": "stderr",
          "text": [
            "Epoch 243/250: 100%|██████████| 5/5 [00:04<00:00,  1.18it/s, Loss=3.6]\n"
          ]
        },
        {
          "output_type": "stream",
          "name": "stdout",
          "text": [
            "End of Epoch 243, Average Loss: 3.6655\n"
          ]
        },
        {
          "output_type": "stream",
          "name": "stderr",
          "text": [
            "Epoch 244/250: 100%|██████████| 5/5 [00:03<00:00,  1.36it/s, Loss=3.74]\n"
          ]
        },
        {
          "output_type": "stream",
          "name": "stdout",
          "text": [
            "End of Epoch 244, Average Loss: 3.6539\n"
          ]
        },
        {
          "output_type": "stream",
          "name": "stderr",
          "text": [
            "Epoch 245/250: 100%|██████████| 5/5 [00:03<00:00,  1.40it/s, Loss=3.85]\n"
          ]
        },
        {
          "output_type": "stream",
          "name": "stdout",
          "text": [
            "End of Epoch 245, Average Loss: 3.6609\n"
          ]
        },
        {
          "output_type": "stream",
          "name": "stderr",
          "text": [
            "Epoch 246/250: 100%|██████████| 5/5 [00:04<00:00,  1.18it/s, Loss=3.8]\n"
          ]
        },
        {
          "output_type": "stream",
          "name": "stdout",
          "text": [
            "End of Epoch 246, Average Loss: 3.6856\n"
          ]
        },
        {
          "output_type": "stream",
          "name": "stderr",
          "text": [
            "Epoch 247/250: 100%|██████████| 5/5 [00:03<00:00,  1.37it/s, Loss=3.73]\n"
          ]
        },
        {
          "output_type": "stream",
          "name": "stdout",
          "text": [
            "End of Epoch 247, Average Loss: 3.6763\n"
          ]
        },
        {
          "output_type": "stream",
          "name": "stderr",
          "text": [
            "Epoch 248/250: 100%|██████████| 5/5 [00:03<00:00,  1.35it/s, Loss=3.68]\n"
          ]
        },
        {
          "output_type": "stream",
          "name": "stdout",
          "text": [
            "End of Epoch 248, Average Loss: 3.6862\n"
          ]
        },
        {
          "output_type": "stream",
          "name": "stderr",
          "text": [
            "Epoch 249/250: 100%|██████████| 5/5 [00:04<00:00,  1.13it/s, Loss=3.83]\n"
          ]
        },
        {
          "output_type": "stream",
          "name": "stdout",
          "text": [
            "End of Epoch 249, Average Loss: 3.6657\n"
          ]
        },
        {
          "output_type": "stream",
          "name": "stderr",
          "text": [
            "Epoch 250/250: 100%|██████████| 5/5 [00:03<00:00,  1.35it/s, Loss=3.79]"
          ]
        },
        {
          "output_type": "stream",
          "name": "stdout",
          "text": [
            "End of Epoch 250, Average Loss: 3.6470\n",
            "Training completed\n"
          ]
        },
        {
          "output_type": "stream",
          "name": "stderr",
          "text": [
            "\n"
          ]
        }
      ],
      "source": [
        "import torch\n",
        "import torch.nn as nn\n",
        "import torch.nn.functional as F\n",
        "from tqdm import tqdm\n",
        "import sys\n",
        "sys.path.append('/content/attributionpriors_multitask/attributionpriors')\n",
        "import torch.cuda as cuda\n",
        "from attributionpriors.pytorch_ops import AttributionPriorExplainer\n",
        "\n",
        "class MultiTaskModel(nn.Module):\n",
        "    def __init__(self, in_features, out_features):\n",
        "        super(MultiTaskModel, self).__init__()\n",
        "        self.num_tasks = out_features\n",
        "        self.input_features = in_features\n",
        "        self.shared_layers = nn.Sequential(\n",
        "            nn.Linear(in_features, 128),\n",
        "            nn.BatchNorm1d(128),  # added batch normalization layer\n",
        "            nn.ReLU(),\n",
        "            nn.AlphaDropout(0.1),\n",
        "            nn.Linear(128, 128),\n",
        "            nn.BatchNorm1d(128),  # added batch normalization layer\n",
        "            nn.ReLU(),\n",
        "            nn.AlphaDropout(0.1),\n",
        "            nn.Linear(128, 128),\n",
        "            nn.BatchNorm1d(128),  # added batch normalization layer\n",
        "            nn.ReLU(),\n",
        "            nn.AlphaDropout(0.1)\n",
        "        )\n",
        "        self.task_layers = nn.ModuleList([nn.Linear(128, 1) for _ in range(out_features)])\n",
        "\n",
        "\n",
        "    def forward(self, x):\n",
        "        shared_output = self.shared_layers(x)\n",
        "        task_outputs = []\n",
        "        for i, task_layer in enumerate(self.task_layers):\n",
        "            if i == 0:\n",
        "                task_output = torch.sigmoid(task_layer(shared_output))\n",
        "            else:\n",
        "                task_output = torch.sigmoid(task_layer(shared_output)) * task_outputs[-1]\n",
        "            task_outputs.append(task_output)\n",
        "        return task_outputs\n",
        "\n",
        "\n",
        "    def custom_loss(self, task_outputs, targets, masks, attributions, lambda_smooth):\n",
        "        loss = 0\n",
        "        for i, task_output in enumerate(task_outputs):\n",
        "            task_target = targets[i]\n",
        "            task_mask = masks[i]\n",
        "            task_loss = F.binary_cross_entropy(task_output, task_target.float(), reduction='none')\n",
        "            task_loss = task_loss * task_mask.float()\n",
        "            loss += task_loss.sum() / task_mask.sum()\n",
        "\n",
        "        # Temporal smoothness regularization\n",
        "        smoothness_cost = 0\n",
        "        for i in range(len(attributions) - 1):\n",
        "            smoothness_cost += torch.norm(attributions[i + 1] - attributions[i], p=1)\n",
        "        loss += lambda_smooth * smoothness_cost\n",
        "\n",
        "        return loss\n",
        "\n",
        "\n",
        "\n",
        "\n",
        "device = torch.device(\"cuda\" if torch.cuda.is_available() else \"cpu\")\n",
        "model = MultiTaskModel(in_features, out_features).to(device)\n",
        "optimizer = torch.optim.Adam(model.parameters(), lr=0.000001)\n",
        "num_epochs = 250\n",
        "loss_records = []\n",
        "\n",
        "\n",
        "APExp = AttributionPriorExplainer(train_dataset, args.batch_size, k=1)\n",
        "\n",
        "for epoch in range(num_epochs):\n",
        "    total_loss = 0\n",
        "    progress_bar = tqdm(enumerate(train_loader), total=len(train_loader), desc=f\"Epoch {epoch + 1}/{num_epochs}\")\n",
        "    for batch_idx, (X_train, targets, masks,event_train) in progress_bar:\n",
        "        X_train = X_train.to(device)\n",
        "        targets = [target.to(device) for target in targets]\n",
        "        masks = [mask.to(device) for mask in masks]\n",
        "\n",
        "        optimizer.zero_grad()\n",
        "        task_outputs_ = model(X_train)\n",
        "\n",
        "\n",
        "        expected_gradients = APExp.shap_values(model, X_train)\n",
        "\n",
        "        loss = model.custom_loss(task_outputs_, targets, masks, expected_gradients, lambda_smooth=0.0001)\n",
        "        loss.backward()\n",
        "        optimizer.step()\n",
        "\n",
        "        total_loss += loss.item()\n",
        "        progress_bar.set_postfix({'Loss': loss.item()})\n",
        "\n",
        "    avg_loss = total_loss / len(train_loader)\n",
        "    loss_records.append(avg_loss)\n",
        "    print(f'End of Epoch {epoch + 1}, Average Loss: {avg_loss:.4f}')\n",
        "\n",
        "print('Training completed')"
      ],
      "id": "bC6-x4uOXp8z"
    },
    {
      "cell_type": "code",
      "execution_count": 42,
      "metadata": {
        "id": "b81589df",
        "colab": {
          "base_uri": "https://localhost:8080/"
        },
        "outputId": "c20a4f25-b4c5-4843-cfc3-f2ad8238259d"
      },
      "outputs": [
        {
          "output_type": "stream",
          "name": "stdout",
          "text": [
            "[3.89115686416626, 3.9131636142730715, 3.8944051265716553, 3.876269292831421, 3.8725196361541747, 3.8818950176239015, 3.911650466918945, 3.8443774700164797, 3.8948280811309814, 3.8457907676696776, 3.904479742050171, 3.887709712982178, 3.87101788520813, 3.8757195472717285, 3.8772708892822267, 3.867306041717529, 3.8382614135742186, 3.879392910003662, 3.9032709121704103, 3.8767980098724366, 3.8626314640045165, 3.861932945251465, 3.832174015045166, 3.8242547035217287, 3.8677417278289794, 3.8662856101989744, 3.830449342727661, 3.8521778106689455, 3.830574655532837, 3.8817523956298827, 3.874788284301758, 3.8825284481048583, 3.88017053604126, 3.8582799434661865, 3.8735517501831054, 3.861528253555298, 3.8613840103149415, 3.8560237884521484, 3.8616219997406005, 3.8342437744140625, 3.835886287689209, 3.835403823852539, 3.8504201412200927, 3.8782183170318603, 3.860923099517822, 3.8454152584075927, 3.821000337600708, 3.848162841796875, 3.8250104904174806, 3.8677858829498293, 3.8061519622802735, 3.857200288772583, 3.8432886600494385, 3.8352904319763184, 3.862831878662109, 3.875580358505249, 3.8660791873931886, 3.8164531707763674, 3.872627925872803, 3.8600472927093508, 3.803972339630127, 3.792565870285034, 3.801401710510254, 3.8524948596954345, 3.851748991012573, 3.8379722118377684, 3.8210691452026366, 3.8288533210754396, 3.8124266624450684, 3.8546863555908204, 3.8493183612823487, 3.8318128108978273, 3.8190090656280518, 3.7815631866455077, 3.831441116333008, 3.8168630599975586, 3.8293558597564696, 3.842915916442871, 3.816872072219849, 3.849998140335083, 3.8140533924102784, 3.813368558883667, 3.8059021472930907, 3.811555862426758, 3.812498903274536, 3.843471956253052, 3.7974615573883055, 3.797524833679199, 3.838617944717407, 3.807041645050049, 3.823753595352173, 3.8042229652404784, 3.7898186683654784, 3.851894187927246, 3.8153873920440673, 3.8047372341156005, 3.8054173469543455, 3.8351916790008547, 3.818143701553345, 3.8251537799835207, 3.8031363010406496, 3.7939812183380126, 3.830445384979248, 3.7865224838256837, 3.7894280433654783, 3.7885570526123047, 3.8050986766815185, 3.816490125656128, 3.807246208190918, 3.7640676498413086, 3.8249915599823, 3.7918464660644533, 3.7865195751190184, 3.790178680419922, 3.8177438735961915, 3.768725538253784, 3.822830247879028, 3.7703550815582276, 3.803850603103638, 3.7910086154937743, 3.7903027057647707, 3.7638753414154054, 3.7821317672729493, 3.778443956375122, 3.7799746990203857, 3.766042709350586, 3.8038739204406737, 3.774776029586792, 3.782144784927368, 3.7598226070404053, 3.7358914375305177, 3.756459379196167, 3.79020414352417, 3.7911359786987306, 3.802723217010498, 3.776432418823242, 3.7344226837158203, 3.739244079589844, 3.7630653381347656, 3.7442599296569825, 3.77040753364563, 3.7503231048583983, 3.769234800338745, 3.783706045150757, 3.7679965019226076, 3.800677013397217, 3.7469072341918945, 3.8265616416931154, 3.7636386871337892, 3.770581674575806, 3.7428704738616942, 3.7598381996154786, 3.7572892189025877, 3.7525846481323244, 3.7716615200042725, 3.7813666343688963, 3.7524969577789307, 3.72628436088562, 3.7557558536529543, 3.736506795883179, 3.7788004875183105, 3.7498237609863283, 3.7148950576782225, 3.7603667736053468, 3.7549526691436768, 3.7253127574920653, 3.750730800628662, 3.739773082733154, 3.749997138977051, 3.7379249572753905, 3.759262800216675, 3.757768440246582, 3.739509916305542, 3.7070915699005127, 3.742803955078125, 3.748829221725464, 3.749926519393921, 3.7404487133026123, 3.7536357402801515, 3.7208481788635255, 3.7265817642211916, 3.780802297592163, 3.737444353103638, 3.7181906700134277, 3.7296969413757326, 3.7037665843963623, 3.7296794414520265, 3.7455020904541017, 3.720510196685791, 3.7434764862060548, 3.733742332458496, 3.7052153587341308, 3.7161404132843017, 3.7126651287078856, 3.695632219314575, 3.709386110305786, 3.7216324329376222, 3.7032450675964355, 3.673443841934204, 3.7126120567321776, 3.7411091327667236, 3.7468222618103026, 3.7145175457000734, 3.6939062595367433, 3.728411817550659, 3.7598076343536375, 3.6879297256469727, 3.6824806690216065, 3.7137325286865233, 3.6959832191467283, 3.724933910369873, 3.7192547798156737, 3.7165748119354247, 3.690176010131836, 3.6856897830963136, 3.7483314990997316, 3.6993189811706544, 3.7278637886047363, 3.6885414123535156, 3.6808655738830565, 3.687739372253418, 3.7139732360839846, 3.6938219547271727, 3.7188361644744874, 3.721574831008911, 3.701982021331787, 3.670430326461792, 3.6758836269378663, 3.667972755432129, 3.673716688156128, 3.6900564193725587, 3.6955121994018554, 3.6836238861083985, 3.662731170654297, 3.664435052871704, 3.6644710063934327, 3.692737340927124, 3.6785842418670653, 3.6761781692504885, 3.6789520740509034, 3.696831798553467, 3.6713754177093505, 3.6864781379699707, 3.6656316757202148, 3.6768089294433595, 3.679039144515991, 3.672899770736694, 3.6698951721191406, 3.677854633331299, 3.6617016792297363]\n"
          ]
        }
      ],
      "source": [
        "print(loss_records)"
      ],
      "id": "b81589df"
    },
    {
      "cell_type": "code",
      "execution_count": 43,
      "metadata": {
        "id": "UGKCtD8nAq7x",
        "colab": {
          "base_uri": "https://localhost:8080/",
          "height": 448
        },
        "outputId": "61c1ead5-0d34-44e1-ce6e-70d7b48261fb"
      },
      "outputs": [
        {
          "output_type": "execute_result",
          "data": {
            "text/plain": [
              "[<matplotlib.lines.Line2D at 0x796ff8a4b8b0>]"
            ]
          },
          "metadata": {},
          "execution_count": 43
        },
        {
          "output_type": "display_data",
          "data": {
            "text/plain": [
              "<Figure size 640x480 with 1 Axes>"
            ],
            "image/png": "[encoded data removed]"
          },
          "metadata": {}
        }
      ],
      "source": [
        "import matplotlib.pyplot as plt\n",
        "plt.plot(loss_records)"
      ],
      "id": "UGKCtD8nAq7x"
    },
    {
      "cell_type": "code",
      "execution_count": 44,
      "metadata": {
        "id": "iSxsp2FRMnNU"
      },
      "outputs": [],
      "source": [
        "summed_gradients_all = expected_gradients.sum(dim=0)"
      ],
      "id": "iSxsp2FRMnNU"
    },
    {
      "cell_type": "code",
      "execution_count": 45,
      "metadata": {
        "id": "fKatDVqJM8Zc",
        "colab": {
          "base_uri": "https://localhost:8080/"
        },
        "outputId": "af2b6c26-498a-4c02-92ee-21f68d627513"
      },
      "outputs": [
        {
          "output_type": "execute_result",
          "data": {
            "text/plain": [
              "tensor([-5.3778e-02,  4.5824e-02,  4.6716e-02, -9.5496e-03, -5.6577e-02,\n",
              "        -4.7488e-02, -4.8782e-02,  3.0097e-02, -9.2352e-04, -7.9512e-03,\n",
              "         1.2434e-02,  1.9323e-02,  2.8484e-02,  7.9832e-04,  1.8424e-01,\n",
              "         1.4014e-03, -5.6535e-04,  5.0501e-02, -1.8175e-02,  9.0590e-02,\n",
              "        -3.9019e-02,  2.2286e-02,  2.4149e-02, -5.2897e-02,  2.6113e-02,\n",
              "        -1.3929e-01,  1.8217e-02,  8.0126e-05,  8.1815e-03, -3.5646e-02,\n",
              "        -9.5064e-03, -5.8072e-02, -5.2363e-02,  7.9524e-03,  4.7876e-02,\n",
              "        -2.9012e-02, -5.0062e-02, -5.0940e-03,  4.8855e-02,  4.3617e-02,\n",
              "        -3.2629e-02,  2.3327e-02,  6.5534e-02,  4.2860e-02,  5.5161e-02,\n",
              "        -4.7238e-02, -4.3881e-03, -1.5810e-02,  2.9740e-02,  7.3486e-03,\n",
              "        -8.4174e-03, -1.6983e-02,  4.3122e-02, -2.1602e-02, -5.1927e-03,\n",
              "         4.0302e-02,  5.8868e-03, -2.3812e-02, -1.9861e-01, -2.5349e-02,\n",
              "         4.1592e-02,  3.8794e-02, -1.1841e-01,  9.6809e-02,  7.1350e-02,\n",
              "         8.9564e-02,  2.4018e-02,  6.3765e-02, -9.1616e-02, -1.6146e-02,\n",
              "        -7.5697e-02,  4.7592e-02,  7.6705e-02, -2.7841e-02, -3.5769e-03,\n",
              "         1.0542e-02,  6.5052e-02, -6.4003e-02,  1.4134e-01,  5.3064e-02,\n",
              "         1.4555e-02,  2.8585e-02, -6.8442e-03, -1.1809e-02,  7.0021e-02,\n",
              "        -8.3392e-03,  3.5648e-03, -2.9776e-03,  1.0513e-02,  1.2664e-01,\n",
              "         1.6444e-02, -5.4360e-02,  1.2506e-01,  1.1057e-01, -2.1390e-01,\n",
              "        -1.8132e-01, -4.3910e-02, -3.4273e-02, -3.3577e-02, -3.3331e-03,\n",
              "        -1.3165e-01, -2.0396e-02,  1.9898e-03, -3.1970e-02, -4.6086e-02,\n",
              "         6.5160e-03, -1.0588e-01, -2.1404e-02,  2.3976e-03, -1.0436e-01,\n",
              "         3.1640e-03,  2.0096e-02,  2.8618e-02, -9.7106e-02, -1.5813e-01,\n",
              "        -7.3847e-02,  1.0771e-03, -7.7448e-02, -2.4623e-02, -3.6203e-02,\n",
              "         2.8489e-02,  1.8595e-02,  4.2710e-02,  2.8901e-02, -3.1837e-02,\n",
              "        -1.4660e-02, -1.9845e-02, -1.2094e-02, -1.0329e-02,  5.5053e-02,\n",
              "         2.1185e-03, -1.5781e-01, -6.4747e-02, -5.9114e-03,  1.5238e-01,\n",
              "         5.0550e-02, -7.6548e-02,  3.2589e-02], device='cuda:0',\n",
              "       grad_fn=<SumBackward1>)"
            ]
          },
          "metadata": {},
          "execution_count": 45
        }
      ],
      "source": [
        "summed_gradients_all"
      ],
      "id": "fKatDVqJM8Zc"
    },
    {
      "cell_type": "code",
      "execution_count": 46,
      "metadata": {
        "id": "cbdwMzKsMxAs"
      },
      "outputs": [],
      "source": [
        "avg = torch.mean(summed_gradients_all)"
      ],
      "id": "cbdwMzKsMxAs"
    },
    {
      "cell_type": "code",
      "execution_count": 47,
      "metadata": {
        "id": "54s0bZa0M6sr",
        "colab": {
          "base_uri": "https://localhost:8080/",
          "height": 1000
        },
        "outputId": "d36e9ac9-762c-40e1-ab80-81516bd5979e"
      },
      "outputs": [
        {
          "output_type": "stream",
          "name": "stderr",
          "text": [
            "<ipython-input-47-7bd4b9a1dcff>:61: UserWarning: Glyph 9 (\t) missing from current font.\n",
            "  plt.tight_layout()\n",
            "<ipython-input-47-7bd4b9a1dcff>:61: UserWarning: Tight layout not applied. The left and right margins cannot be made large enough to accommodate all axes decorations.\n",
            "  plt.tight_layout()\n",
            "/usr/local/lib/python3.10/dist-packages/IPython/core/pylabtools.py:151: UserWarning: Glyph 9 (\t) missing from current font.\n",
            "  fig.canvas.print_figure(bytes_io, **kw)\n"
          ]
        },
        {
          "output_type": "display_data",
          "data": {
            "text/plain": [
              "<Figure size 1000x1800 with 1 Axes>"
            ],
            "image/png": "[encoded data removed]"
          },
          "metadata": {}
        }
      ],
      "source": [
        "import matplotlib.pyplot as plt\n",
        "import numpy as np\n",
        "\n",
        "feature_names = X.columns.tolist()\n",
        "# Comment out the hard codded feature_contributions\n",
        "#feature_contributions = [ 8.2754e-03,  2.4449e-01, -6.7458e-05,  5.4123e-05,  1.5575e-03,\n",
        "#         3.2035e-04, -3.0248e-02,  3.2682e-03,  2.3505e-04, -2.9171e-03,\n",
        "#         1.6119e-03,  4.8344e-04, -1.7238e-03, -1.1669e-03,  5.9588e-03,\n",
        "#         0.0000e+00, -4.1573e-04, -5.4701e-04, -1.0473e-03, -1.4245e-03,\n",
        "#        -3.0089e-04,  1.1117e-03,  7.6333e-04,  6.3784e-03,  6.1414e-04,\n",
        "#        -3.7345e-03, -1.4455e-03, -3.2355e-04,  3.3533e-04,  4.6745e-04,\n",
        "#        -4.3285e-04,  2.5618e-04,  1.8904e-03,  6.8282e-04, -6.9565e-04,\n",
        "#        -1.4172e-03, -1.2154e-03,  8.1726e-04, -8.3177e-03, -7.5985e-04,\n",
        "#        -1.1202e-03, -5.8048e-04,  1.0369e-03, -2.8469e-04,  6.7106e-03,\n",
        "#         3.5879e-04, -4.2590e-05, -4.9208e-04,  7.3213e-04, -1.1677e-03,\n",
        "#         5.0838e-04,  2.0164e-03, -2.9205e-04, -6.7307e-02,  9.6444e-05,\n",
        "#         2.8948e-03,  1.5678e-02, -9.4986e-04,  9.6401e-06,  2.4515e-03,\n",
        "#         6.6200e-04, -1.4110e-03, -1.7674e-03,  3.8453e-04, -1.9134e-03,\n",
        "#        -5.4385e-04, -4.9116e-04,  6.5076e-04,  3.4984e-04, -9.6108e-04,\n",
        "#         3.6344e-04,  7.8890e-04, -9.3827e-04,  6.7942e-04,  3.8333e-03,\n",
        "#         7.4971e-04, -5.2135e-04,  3.9201e-04, -3.5277e-03, -3.6636e-04,\n",
        "#         4.2249e-04, -1.2218e-03, -1.4330e-03,  2.0466e-03, -3.6416e-03,\n",
        "#         1.8880e-04, -1.4094e-03, -5.4314e-04,  1.6829e-04,  3.3163e-03,\n",
        "#        -1.2260e-04,  1.3083e-03,  2.6524e-03,  9.9954e-04, -3.5142e-03,\n",
        "#         4.8810e-03, -2.5063e-04,  1.2950e-03, -4.9680e-04, -1.6306e-03,\n",
        "#        -1.6315e-03, -1.3667e-03,  2.1176e-03,  6.0328e-04, -1.1989e-03,\n",
        "#         2.3749e-03, -2.0358e-03, -2.0848e-03,  4.5019e-04,  1.1912e-03,\n",
        "#        -1.5323e-03, -7.2216e-04, -4.4424e-04,  1.9066e-03, -3.5590e-03,\n",
        "#         1.5582e-03, -1.6984e-04, -5.5106e-01,  4.0006e-01, -2.6152e-01,\n",
        "#        -3.1872e-01,  2.3336e+00,  5.0189e-02,  1.7094e-02, -1.2590e+00,\n",
        "#        -5.3713e-02, -4.2591e-01, -1.4865e-01, -2.4621e-03,  1.1240e-02,\n",
        "#        -3.8996e-03, -2.6369e-03, -1.6012e-02,  6.2234e+00,  3.1755e+00,\n",
        "#         1.2218e+01, -2.3051e-02, -5.5302e-02]\n",
        "\n",
        "\n",
        "\n",
        "feature_contributions = summed_gradients_all.detach().cpu().tolist()\n",
        "\n",
        "\n",
        "feature_contributions = feature_contributions / np.sum(feature_contributions)\n",
        "sorted_indices = np.argsort(feature_contributions)[::-1]\n",
        "max15_indices = sorted_indices[:15]\n",
        "\n",
        "min15_indices = sorted_indices[-15:]\n",
        "\n",
        "selected_indices = np.concatenate([max15_indices, min15_indices])\n",
        "\n",
        "fig, ax = plt.subplots(figsize=(10, len(selected_indices) * 0.6))\n",
        "colors = ['red' if val > 0 else 'blue' for val in feature_contributions[selected_indices]]\n",
        "ax.barh(range(len(selected_indices)), feature_contributions[selected_indices], color=colors)\n",
        "\n",
        "ax.set_yticks(range(len(selected_indices)))\n",
        "ax.set_yticklabels(np.array(feature_names)[selected_indices])\n",
        "ax.set_xlabel(\"Relative Feature Contribution\")\n",
        "\n",
        "avg_contribution = 1 / len(feature_names)\n",
        "ax.axvline(avg_contribution, ls='--', color='gray')\n",
        "\n",
        "ax.text(avg_contribution+0.01, -0.5, 'Average Contribution', color='gray', rotation='vertical')\n",
        "plt.title(\"Feature Contribution Analysis\")\n",
        "plt.tight_layout()\n",
        "plt.show()"
      ],
      "id": "54s0bZa0M6sr"
    },
    {
      "cell_type": "markdown",
      "metadata": {
        "id": "fDMhSuBqsDcq"
      },
      "source": [
        "## Predictions and Evaluations\n",
        "- Rewrote the predictions and evaluations"
      ],
      "id": "fDMhSuBqsDcq"
    },
    {
      "cell_type": "code",
      "execution_count": 48,
      "metadata": {
        "id": "FjZHN9dtodud"
      },
      "outputs": [],
      "source": [
        "# Created by Jingyan\n",
        "model.eval()\n",
        "test_predictions = []\n",
        "\n",
        "# Disable gradient calculations\n",
        "with torch.no_grad():\n",
        "    for X_test, _, _, _ in test_loader:\n",
        "        # Forward pass\n",
        "        X_test = X_test.to(device)\n",
        "        task_outputs_ = model(X_test)\n",
        "\n",
        "        # Store the predictions\n",
        "        test_predictions.append(task_outputs_)\n",
        "\n",
        "# Process the predictions as needed\n",
        "# For example, converting them to a list or concatenating\n",
        "# Here we concatenate the predictions for each task\n",
        "test_predictions = [torch.cat([preds[i] for preds in test_predictions]) for i in range(len(test_predictions[0]))]\n",
        "\n"
      ],
      "id": "FjZHN9dtodud"
    },
    {
      "cell_type": "code",
      "execution_count": 49,
      "metadata": {
        "id": "wjdkdW8vsv-z",
        "colab": {
          "base_uri": "https://localhost:8080/"
        },
        "outputId": "358c8c6c-a868-4cc3-d837-1ad82257a5dd"
      },
      "outputs": [
        {
          "output_type": "stream",
          "name": "stdout",
          "text": [
            "7\n",
            "torch.Size([2048, 1])\n"
          ]
        }
      ],
      "source": [
        "print(len(test_predictions))\n",
        "print(test_predictions[0].shape)"
      ],
      "id": "wjdkdW8vsv-z"
    },
    {
      "cell_type": "code",
      "execution_count": 50,
      "metadata": {
        "id": "4b_hklvEu5gh"
      },
      "outputs": [],
      "source": [
        "# Created by Jingyan\n",
        "model.eval()\n",
        "train_predictions = []\n",
        "\n",
        "# Disable gradient calculations\n",
        "with torch.no_grad():\n",
        "    for X_train, _, _, _ in train_loader:\n",
        "        # Forward pass\n",
        "        X_train = X_train.to(device)\n",
        "        task_outputs_ = model(X_train)\n",
        "\n",
        "        # Store the predictions\n",
        "        train_predictions.append(task_outputs_)\n",
        "\n",
        "# Process the predictions as needed\n",
        "# For example, converting them to a list or concatenating\n",
        "# Here we concatenate the predictions for each task\n",
        "train_predictions = [torch.cat([preds[i] for preds in train_predictions]) for i in range(len(train_predictions[0]))]\n",
        "\n"
      ],
      "id": "4b_hklvEu5gh"
    },
    {
      "cell_type": "code",
      "execution_count": 51,
      "metadata": {
        "id": "EhWLpzejvAOE",
        "colab": {
          "base_uri": "https://localhost:8080/"
        },
        "outputId": "4c3d43d0-43db-4ed0-ec82-f7ee5567a6e4"
      },
      "outputs": [
        {
          "output_type": "stream",
          "name": "stdout",
          "text": [
            "7\n",
            "torch.Size([10240, 1])\n"
          ]
        }
      ],
      "source": [
        "print(len(train_predictions))\n",
        "print(train_predictions[0].shape)"
      ],
      "id": "EhWLpzejvAOE"
    },
    {
      "cell_type": "code",
      "execution_count": 52,
      "metadata": {
        "id": "e65e78de"
      },
      "outputs": [],
      "source": [
        "# made by Xinyu\n",
        "def binarize_and_sum_columns(output_list):\n",
        "    def binarize_list(input_list):\n",
        "        tensor = torch.Tensor(input_list)\n",
        "        # print(input_list.max() == input_list.min())\n",
        "        binary_tensor = (tensor >= 0.5).float()\n",
        "        return binary_tensor\n",
        "\n",
        "    result = binarize_list(output_list[0])\n",
        "    for i in range(1, len(output_list)):\n",
        "        binary_column = binarize_list(output_list[i])\n",
        "        print(binary_column.max() == binary_column.min())\n",
        "        result += binary_column\n",
        "\n",
        "    return result\n"
      ],
      "id": "e65e78de"
    },
    {
      "cell_type": "code",
      "execution_count": 53,
      "metadata": {
        "id": "aApvvml5vFUi",
        "colab": {
          "base_uri": "https://localhost:8080/"
        },
        "outputId": "b5c73bd2-c2b0-43ff-fe88-ac58f1305625"
      },
      "outputs": [
        {
          "output_type": "stream",
          "name": "stdout",
          "text": [
            "tensor(True, device='cuda:0')\n",
            "tensor(True, device='cuda:0')\n",
            "tensor(True, device='cuda:0')\n",
            "tensor(True, device='cuda:0')\n",
            "tensor(True, device='cuda:0')\n",
            "tensor(True, device='cuda:0')\n",
            "torch.Size([10240])\n",
            "tensor(True, device='cuda:0')\n",
            "tensor(True, device='cuda:0')\n",
            "tensor(True, device='cuda:0')\n",
            "tensor(True, device='cuda:0')\n",
            "tensor(True, device='cuda:0')\n",
            "tensor(True, device='cuda:0')\n",
            "torch.Size([2048])\n"
          ]
        }
      ],
      "source": [
        "# made by Xinyu\n",
        "Y_hat_train = binarize_and_sum_columns(train_predictions)\n",
        "Y_hat_train = Y_hat_train.squeeze()\n",
        "print(Y_hat_train.shape)\n",
        "\n",
        "Y_hat_test = binarize_and_sum_columns(test_predictions)\n",
        "Y_hat_test = Y_hat_test.squeeze()\n",
        "print(Y_hat_test.shape)"
      ],
      "id": "aApvvml5vFUi"
    },
    {
      "cell_type": "code",
      "execution_count": 54,
      "metadata": {
        "id": "Dx6kYDdswOm-",
        "colab": {
          "base_uri": "https://localhost:8080/"
        },
        "outputId": "820a2659-4fc8-4860-e5e6-447d2b72461f"
      },
      "outputs": [
        {
          "output_type": "stream",
          "name": "stdout",
          "text": [
            "7\n",
            "torch.Size([10240, 1])\n",
            "torch.Size([10240])\n",
            "7\n",
            "torch.Size([2048, 1])\n",
            "torch.Size([2048])\n"
          ]
        }
      ],
      "source": [
        "# created by Jingyan\n",
        "# Get the true labels and status\n",
        "train_trues = []\n",
        "train_statuses = []\n",
        "for _, train_targets, train_masks, train_status in train_loader:\n",
        "    true_label = [train_targets[i]*train_masks[i] for i in range(len(train_targets))]\n",
        "    train_trues.append(true_label)\n",
        "    train_statuses.append(train_status)\n",
        "train_trues = [torch.cat([preds[i] for preds in train_trues]) for i in range(len(train_trues[0]))]\n",
        "train_statuses = torch.cat([status for status in train_statuses])\n",
        "\n",
        "print(len(train_trues))\n",
        "print(train_trues[0].shape)\n",
        "print(train_statuses.shape)\n",
        "\n",
        "test_trues = []\n",
        "test_statuses = []\n",
        "for _, test_targets, test_masks, test_status in test_loader:\n",
        "    true_label = [test_targets[i]*test_masks[i] for i in range(len(test_targets))]\n",
        "    test_trues.append(true_label)\n",
        "    test_statuses.append(test_status)\n",
        "\n",
        "test_trues = [torch.cat([preds[i] for preds in test_trues]) for i in range(len(test_trues[0]))]\n",
        "test_statuses = torch.cat([status for status in test_statuses])\n",
        "\n",
        "print(len(test_trues))\n",
        "print(test_trues[0].shape)\n",
        "print(test_statuses.shape)"
      ],
      "id": "Dx6kYDdswOm-"
    },
    {
      "cell_type": "code",
      "execution_count": 55,
      "metadata": {
        "id": "E4uyN1NU4md9",
        "colab": {
          "base_uri": "https://localhost:8080/"
        },
        "outputId": "92c8db66-7577-4f7f-99ec-5aa6d014cf24"
      },
      "outputs": [
        {
          "output_type": "stream",
          "name": "stdout",
          "text": [
            "tensor(False)\n",
            "tensor(False)\n",
            "tensor(False)\n",
            "tensor(False)\n",
            "tensor(False)\n",
            "tensor(False)\n",
            "torch.Size([10240])\n",
            "tensor(False)\n",
            "tensor(False)\n",
            "tensor(False)\n",
            "tensor(False)\n",
            "tensor(False)\n",
            "tensor(False)\n",
            "torch.Size([2048])\n"
          ]
        }
      ],
      "source": [
        "# made by Xinyu\n",
        "Y_true_train = binarize_and_sum_columns(train_trues)\n",
        "Y_true_train = Y_true_train.squeeze()\n",
        "print(Y_true_train.shape)\n",
        "\n",
        "Y_true_test = binarize_and_sum_columns(test_trues)\n",
        "Y_true_test = Y_true_test.squeeze()\n",
        "print(Y_true_test.shape)"
      ],
      "id": "E4uyN1NU4md9"
    },
    {
      "cell_type": "code",
      "source": [
        "# made by Xinyu\n",
        "# Modifed by Jingyan: adjusted for cencored data following Dr. Li's code\n",
        "# https://github.com/yanlirock/Multi-task_Survival_Analysis/blob/6cda8883a240b789ef38be891909a2bae15f4623/functions/getcindex_cox.m#L1\n",
        "\n",
        "class Cindex(torch.nn.Module):\n",
        "    def __init__(self):\n",
        "        super(Cindex, self).__init__()\n",
        "\n",
        "    def forward(self, y, y_hat, status):\n",
        "        if not torch.is_tensor(y):\n",
        "            y = torch.Tensor(y)\n",
        "        if not torch.is_tensor(y_hat):\n",
        "            y_hat = torch.Tensor(y_hat)\n",
        "        if not torch.is_tensor(status):\n",
        "          status = torch.Tensor(status)\n",
        "\n",
        "        N = y.size(0)\n",
        "        total_pairs = 0\n",
        "        c = 0\n",
        "\n",
        "        for i in range(N):\n",
        "            for j in range(i + 1, N):\n",
        "                a = y[i]\n",
        "                b = y[j]\n",
        "                a_hat = y_hat[i]\n",
        "                b_hat = y_hat[j]\n",
        "                astatus = status[i]\n",
        "                bstatus = status[j]\n",
        "                if (a >= b and a_hat >= b_hat and bstatus == 1) or (a <= b and a_hat <= b_hat and astatus == 1):\n",
        "                    c += 1\n",
        "                if (a <= b and astatus==1) or (b <= a and bstatus == 1):\n",
        "                    total_pairs += 1\n",
        "\n",
        "        outcome = c / total_pairs\n",
        "        return outcome\n",
        "\n",
        "cindex_calculator = Cindex()\n",
        "c11_train = cindex_calculator(Y_true_train, Y_hat_train, train_statuses)\n",
        "print(c11_train)\n",
        "c11_test = cindex_calculator(Y_true_test, Y_hat_test, test_statuses)\n",
        "print(c11_test)\n",
        "#According to the way in your paper\n",
        "# c = 1 / num * Σi=1^num Σj>i [yj > yi * I[S(^yj|Xj) > S(^yi|Xi)]]"
      ],
      "metadata": {
        "id": "aWMyrQYdPJCU"
      },
      "id": "aWMyrQYdPJCU",
      "execution_count": null,
      "outputs": []
    },
    {
      "cell_type": "code",
      "execution_count": null,
      "metadata": {
        "id": "-306SagVqau6"
      },
      "outputs": [],
      "source": [
        "# 0.7103323579075326\n",
        "# 0.7193680369479399\n",
        "# 56mins"
      ],
      "id": "-306SagVqau6"
    },
    {
      "cell_type": "code",
      "execution_count": null,
      "metadata": {
        "id": "_kd-vmvIpkX-"
      },
      "outputs": [],
      "source": [
        "# c11_train = 0.8174466628004992\n",
        "# c11_test = 0.8137755363531064"
      ],
      "id": "_kd-vmvIpkX-"
    },
    {
      "cell_type": "markdown",
      "metadata": {
        "id": "IeyDNGtppq8D"
      },
      "source": [
        "I have modified the c-index according to Dr. Li's github code, we might not need the following part. (Jingyan)"
      ],
      "id": "IeyDNGtppq8D"
    },
    {
      "cell_type": "code",
      "execution_count": 56,
      "metadata": {
        "id": "j6w15Atq1zDZ"
      },
      "outputs": [],
      "source": [
        "# made by Xinyu\n",
        "# For this Cindex, it seems that\n",
        "# it does not take the censored data into account,\n",
        "# should we adjust for censored data?\n",
        "class Cindex(torch.nn.Module):\n",
        "    def __init__(self):\n",
        "        super(Cindex, self).__init__()\n",
        "\n",
        "    def forward(self, y, y_hat):\n",
        "        if not torch.is_tensor(y):\n",
        "            y = torch.Tensor(y)\n",
        "        if not torch.is_tensor(y_hat):\n",
        "            y_hat = torch.Tensor(y_hat)\n",
        "\n",
        "        N = y.size(0)\n",
        "        total_pairs = N * (N - 1) / 2\n",
        "        c = 0\n",
        "\n",
        "        for i in range(N):\n",
        "            for j in range(i + 1, N):\n",
        "                a = y[i]\n",
        "                b = y[j]\n",
        "                a_hat = y_hat[i]\n",
        "                b_hat = y_hat[j]\n",
        "\n",
        "                if (a >= b and a_hat >= b_hat) or (a <= b and a_hat <= b_hat):\n",
        "                    c += 1\n",
        "\n",
        "        outcome = c / total_pairs\n",
        "        return outcome\n",
        "\n",
        "cindex_calculator = Cindex()\n",
        "c11_train = cindex_calculator(Y_true_train, Y_hat_train)\n",
        "c11_test = cindex_calculator(Y_true_test, Y_hat_test)\n",
        "\n",
        "#According to the way in your paper\n",
        "# c = 1 / num * Σi=1^num Σj>i [yj > yi * I[S(^yj|Xj) > S(^yi|Xi)]]"
      ],
      "id": "j6w15Atq1zDZ"
    },
    {
      "cell_type": "code",
      "execution_count": 57,
      "metadata": {
        "id": "mQiYshUmKOd1",
        "colab": {
          "base_uri": "https://localhost:8080/"
        },
        "outputId": "c7dd7fdf-12b5-483a-c9b9-0acd17b1c567"
      },
      "outputs": [
        {
          "output_type": "stream",
          "name": "stdout",
          "text": [
            "0.803529511854185\n",
            "0.8058930561492428\n"
          ]
        }
      ],
      "source": [
        "print(c11_train)\n",
        "print(c11_test)"
      ],
      "id": "mQiYshUmKOd1"
    },
    {
      "cell_type": "code",
      "execution_count": null,
      "metadata": {
        "id": "VfB5JcPD5VAs"
      },
      "outputs": [],
      "source": [
        "class Cindex(torch.nn.Module):\n",
        "    def __init__(self):\n",
        "        super().__init__()\n",
        "\n",
        "    def forward(self, y, y_hat, status):\n",
        "\n",
        "        status_matrix = status.repeat(status.size(0), 1)\n",
        "        cmp_mask = (y.repeat(status.size(0), 1) - y) * (status_matrix - status_matrix.t())\n",
        "        concordant = torch.where(\n",
        "            (y_hat.repeat(status.size(0), 1) - y_hat) * cmp_mask > 0,\n",
        "            torch.ones_like(cmp_mask), torch.zeros_like(cmp_mask))\n",
        "\n",
        "        total_pairs = torch.where(\n",
        "            cmp_mask !=0,\n",
        "            torch.ones_like(cmp_mask), torch.zeros_like(cmp_mask))\n",
        "\n",
        "        return concordant.sum() / total_pairs.sum()"
      ],
      "id": "VfB5JcPD5VAs"
    },
    {
      "cell_type": "code",
      "execution_count": null,
      "metadata": {
        "id": "fkWYCBUK5WkC"
      },
      "outputs": [],
      "source": [
        "cindex_calculator = Cindex()\n",
        "c11_train = cindex_calculator(Y_true_train, Y_hat_train, train_statuses)"
      ],
      "id": "fkWYCBUK5WkC"
    },
    {
      "cell_type": "code",
      "execution_count": null,
      "metadata": {
        "id": "ysp1Y7Cq5wuO"
      },
      "outputs": [],
      "source": [
        "c11_train"
      ],
      "id": "ysp1Y7Cq5wuO"
    },
    {
      "cell_type": "code",
      "execution_count": null,
      "metadata": {
        "id": "ttyH_CNH5svH"
      },
      "outputs": [],
      "source": [
        "Y_test_train = Y_true_train.cuda(0)\n",
        "Y_hat_train = Y_hat_train.cuda(0)\n",
        "train_statuses = train_statuses.cuda(0)"
      ],
      "id": "ttyH_CNH5svH"
    },
    {
      "cell_type": "code",
      "source": [],
      "metadata": {
        "id": "WCFta-wt-707"
      },
      "id": "WCFta-wt-707",
      "execution_count": null,
      "outputs": []
    }
  ],
  "metadata": {
    "accelerator": "GPU",
    "colab": {
      "provenance": [],
      "gpuType": "T4"
    },
    "kernelspec": {
      "display_name": "Python 3",
      "name": "python3"
    },
    "language_info": {
      "codemirror_mode": {
        "name": "ipython",
        "version": 3
      },
      "file_extension": ".py",
      "mimetype": "text/x-python",
      "name": "python",
      "nbconvert_exporter": "python",
      "pygments_lexer": "ipython3",
      "version": "3.6.13"
    }
  },
  "nbformat": 4,
  "nbformat_minor": 5
}