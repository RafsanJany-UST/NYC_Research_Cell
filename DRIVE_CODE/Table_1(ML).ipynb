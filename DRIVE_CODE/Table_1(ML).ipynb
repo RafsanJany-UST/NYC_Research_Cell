{
  "nbformat": 4,
  "nbformat_minor": 0,
  "metadata": {
    "colab": {
      "provenance": []
    },
    "kernelspec": {
      "name": "python3",
      "display_name": "Python 3"
    },
    "language_info": {
      "name": "python"
    }
  },
  "cells": [
    {
      "cell_type": "markdown",
      "source": [
        "#<font color='coral'>How Machine Learning Works</font>"
      ],
      "metadata": {
        "id": "AVO_zE9-FXTu"
      }
    },
    {
      "cell_type": "markdown",
      "source": [
        "|Celsius|Fahrenheit|\n",
        "|---|---|\n",
        "|90|194\\.0|\n",
        "|45|113\\.0|\n",
        "|-25|-13\\.0|\n",
        "|130|266\\.0|\n",
        "|35|95\\.0|\n",
        "|29|84\\.2|\n",
        "|-30|-22\\.0|\n",
        "|27|80\\.6|\n",
        "|56|132\\.8|\n",
        "|3|37\\.4|\n",
        "|212|413\\.6|\n",
        "|121|249\\.8|\n",
        "|180|356\\.0|\n",
        "|-40|-40\\.0|"
      ],
      "metadata": {
        "id": "dNDwR4W1o16X"
      }
    },
    {
      "cell_type": "code",
      "source": [
        "cel_data = [90,45,-25,130,35,29,-30,27,56,3,212,121,180,-40,-35]"
      ],
      "metadata": {
        "id": "5dF7dMK-olo-"
      },
      "execution_count": 11,
      "outputs": []
    },
    {
      "cell_type": "code",
      "source": [
        "far_data = [194.0, 113.0, -13.0, 266.0, 95.0, 84.2, -22.0, 80.6, 132.8, 37.4, 413.6, 249.8, 356.0, -40.0, -31.0]"
      ],
      "metadata": {
        "id": "FJo0JCf9olZ6"
      },
      "execution_count": 12,
      "outputs": []
    },
    {
      "cell_type": "markdown",
      "source": [
        "**Making A DataFrame**"
      ],
      "metadata": {
        "id": "AE7ELGPlp8y5"
      }
    },
    {
      "cell_type": "code",
      "source": [
        "import numpy as np\n",
        "import pandas as pd\n",
        "\n",
        "\n",
        "data = {\n",
        "    \"Celsius\":cel_data,\n",
        "    \"Fahrenheit\":far_data\n",
        "}\n",
        "df = pd.DataFrame(data)"
      ],
      "metadata": {
        "id": "z4FpS4y0pqa6"
      },
      "execution_count": 16,
      "outputs": []
    },
    {
      "cell_type": "code",
      "source": [
        "from sklearn.linear_model import LinearRegression\n",
        "X = df[\"Celsius\"].values.reshape(-1, 1)\n",
        "Y = df[\"Fahrenheit\"].values.reshape(-1, 1)\n",
        "reg = LinearRegression().fit(X, Y)"
      ],
      "metadata": {
        "id": "pceK6ebxFThy"
      },
      "execution_count": 17,
      "outputs": []
    },
    {
      "cell_type": "code",
      "source": [
        "m = reg.coef_[0]\n",
        "c = reg.intercept_"
      ],
      "metadata": {
        "id": "2ljS2HBiFe_O"
      },
      "execution_count": 18,
      "outputs": []
    },
    {
      "cell_type": "code",
      "source": [
        "print(\"Slop:\",m)\n",
        "print(\"Intercept:\",c)"
      ],
      "metadata": {
        "colab": {
          "base_uri": "https://localhost:8080/"
        },
        "id": "oy0Y2flrFg3I",
        "outputId": "b897b7ca-1dbd-47dd-f0ee-3ef533f42aef"
      },
      "execution_count": 19,
      "outputs": [
        {
          "output_type": "stream",
          "name": "stdout",
          "text": [
            "Slop: [1.8]\n",
            "Intercept: [32.]\n"
          ]
        }
      ]
    },
    {
      "cell_type": "markdown",
      "source": [
        "#Lets check"
      ],
      "metadata": {
        "id": "P_N6mcePFm64"
      }
    },
    {
      "cell_type": "code",
      "source": [
        "\n",
        "x = 18\n",
        "\n",
        "\n",
        "y = m*x + c\n",
        "\n",
        "print(y)"
      ],
      "metadata": {
        "colab": {
          "base_uri": "https://localhost:8080/"
        },
        "id": "b80205bqFkkj",
        "outputId": "c1b4c370-8553-40f8-d8b6-b3f5a1a0857f"
      },
      "execution_count": 20,
      "outputs": [
        {
          "output_type": "stream",
          "name": "stdout",
          "text": [
            "[64.4]\n"
          ]
        }
      ]
    },
    {
      "cell_type": "code",
      "source": [],
      "metadata": {
        "id": "uJo41Nm5FtOD"
      },
      "execution_count": null,
      "outputs": []
    }
  ]
}