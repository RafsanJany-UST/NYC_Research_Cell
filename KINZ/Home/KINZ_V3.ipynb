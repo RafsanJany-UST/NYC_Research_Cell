{
 "cells": [
  {
   "cell_type": "code",
   "execution_count": null,
   "id": "1d01c712",
   "metadata": {},
   "outputs": [],
   "source": [
    "path = \"C:/Users/RAZER/Desktop/TEMp/New folder/KINECT_dataset_with_qor15.csv\"\n"
   ]
  },
  {
   "cell_type": "code",
   "execution_count": 19,
   "id": "85088916",
   "metadata": {},
   "outputs": [
    {
     "name": "stdout",
     "output_type": "stream",
     "text": [
      "✅ All joint columns found!\n",
      "\n",
      "🔍 Joint Positions (Centered at Pelvis):\n",
      "PELVIS: (0.0, 0.0, 0.0)\n",
      "SPINE_NAVAL: (-399.5066233456681, -7076.70642555242, 6673.268416423641)\n",
      "SPINE_CHEST: (7088.252115733914, -7935.589520171587, -513.5081133202897)\n",
      "NECK: (-8.522267285784782, 51.29753377342513, -831.8636705096278)\n",
      "CLAVICLE_LEFT: (-573.4424138496983, -7200.098509279901, 6670.647528455256)\n",
      "SHOULDER_LEFT: (7076.722441320289, -7899.537615344231, -521.5464632016827)\n",
      "ELBOW_LEFT: (-14.46005890603491, 46.2303763214868, -444.1462236083321)\n",
      "WRIST_LEFT: (-712.7444817905073, -7278.28383463372, 6718.111949052108)\n",
      "HAND_LEFT: (7071.510347287444, -7638.595429935546, -408.39641359816306)\n",
      "HANDTIP_LEFT: (4.494631263432506, 84.80087916684079, -105.25864323112751)\n",
      "THUMB_LEFT: (-922.5884438522329, -7323.006386375134, 6841.629121802942)\n",
      "CLAVICLE_RIGHT: (7096.745252517537, -7417.903676762181, -405.9355645478021)\n",
      "SHOULDER_RIGHT: (34.17527471024601, 39.26852383003461, 48.498890051531816)\n",
      "ELBOW_RIGHT: (-885.5228968337444, -7279.257957447092, 6774.263343410048)\n",
      "WRIST_RIGHT: (7090.320323813016, -7348.7437000014115, -424.718545738982)\n",
      "HAND_RIGHT: (160.94340841483756, -18.273996187284865, -1437.1936248008665)\n",
      "HANDTIP_RIGHT: (-827.1525108250933, -7243.602044185104, 6658.102735268042)\n",
      "THUMB_RIGHT: (7091.408572947117, -7295.641179056221, -470.8563252317611)\n",
      "HIP_LEFT: (205.65509443113118, -98.23443800263703, -1472.7402958575226)\n",
      "KNEE_LEFT: (-560.6926225081165, -7246.324866308455, 6514.372972474216)\n",
      "ANKLE_LEFT: (7090.332503680876, -7365.392329185391, -441.28465532814977)\n",
      "FOOT_LEFT: (190.4749934291546, -27.484249377971537, -1509.2943927656179)\n",
      "HIP_RIGHT: (-363.07857937076056, -6958.551853773493, 6541.903669896146)\n",
      "KNEE_RIGHT: (6980.080963485519, -7448.051952742125, -357.4518401706526)\n",
      "ANKLE_RIGHT: (165.60779567209676, 23.347017338335718, -1506.0709976732742)\n",
      "FOOT_RIGHT: (-276.98233153533636, -7023.2905436829915, 6631.43048755188)\n",
      "HEAD: (7005.946892631745, -7062.004321693413, -489.35249085419343)\n",
      "NOSE: (87.78813444375552, 25.79289540170248, -1500.6605364891416)\n",
      "EYE_LEFT: (-343.772468844106, -6894.830953651261, 6551.476834729301)\n",
      "EAR_LEFT: (6986.246098627728, -6746.438510303977, -507.95612042017325)\n",
      "EYE_RIGHT: (159.22239781426353, 179.50923567772224, -1490.4408146932187)\n",
      "EAR_RIGHT: (-266.7334883202377, -6881.284784704128, 6676.016202474641)\n"
     ]
    },
    {
     "data": {
      "application/vnd.plotly.v1+json": {
       "config": {
        "plotlyServerURL": "https://plot.ly"
       },
       "data": [
        {
         "hoverinfo": "none",
         "line": {
          "color": "gray",
          "width": 4
         },
         "mode": "lines",
         "type": "scatter3d",
         "x": [
          0,
          -399.5066233456681
         ],
         "y": [
          0,
          -7076.70642555242
         ],
         "z": [
          0,
          6673.268416423641
         ]
        },
        {
         "hoverinfo": "none",
         "line": {
          "color": "gray",
          "width": 4
         },
         "mode": "lines",
         "type": "scatter3d",
         "x": [
          -399.5066233456681,
          7088.252115733914
         ],
         "y": [
          -7076.70642555242,
          -7935.589520171587
         ],
         "z": [
          6673.268416423641,
          -513.5081133202897
         ]
        },
        {
         "hoverinfo": "none",
         "line": {
          "color": "gray",
          "width": 4
         },
         "mode": "lines",
         "type": "scatter3d",
         "x": [
          7088.252115733914,
          -8.522267285784782
         ],
         "y": [
          -7935.589520171587,
          51.29753377342513
         ],
         "z": [
          -513.5081133202897,
          -831.8636705096278
         ]
        },
        {
         "hoverinfo": "none",
         "line": {
          "color": "gray",
          "width": 4
         },
         "mode": "lines",
         "type": "scatter3d",
         "x": [
          -8.522267285784782,
          7005.946892631745
         ],
         "y": [
          51.29753377342513,
          -7062.004321693413
         ],
         "z": [
          -831.8636705096278,
          -489.35249085419343
         ]
        },
        {
         "hoverinfo": "none",
         "line": {
          "color": "gray",
          "width": 4
         },
         "mode": "lines",
         "type": "scatter3d",
         "x": [
          7088.252115733914,
          -573.4424138496983
         ],
         "y": [
          -7935.589520171587,
          -7200.098509279901
         ],
         "z": [
          -513.5081133202897,
          6670.647528455256
         ]
        },
        {
         "hoverinfo": "none",
         "line": {
          "color": "gray",
          "width": 4
         },
         "mode": "lines",
         "type": "scatter3d",
         "x": [
          -573.4424138496983,
          7076.722441320289
         ],
         "y": [
          -7200.098509279901,
          -7899.537615344231
         ],
         "z": [
          6670.647528455256,
          -521.5464632016827
         ]
        },
        {
         "hoverinfo": "none",
         "line": {
          "color": "gray",
          "width": 4
         },
         "mode": "lines",
         "type": "scatter3d",
         "x": [
          7076.722441320289,
          -14.46005890603491
         ],
         "y": [
          -7899.537615344231,
          46.2303763214868
         ],
         "z": [
          -521.5464632016827,
          -444.1462236083321
         ]
        },
        {
         "hoverinfo": "none",
         "line": {
          "color": "gray",
          "width": 4
         },
         "mode": "lines",
         "type": "scatter3d",
         "x": [
          -14.46005890603491,
          -712.7444817905073
         ],
         "y": [
          46.2303763214868,
          -7278.28383463372
         ],
         "z": [
          -444.1462236083321,
          6718.111949052108
         ]
        },
        {
         "hoverinfo": "none",
         "line": {
          "color": "gray",
          "width": 4
         },
         "mode": "lines",
         "type": "scatter3d",
         "x": [
          -712.7444817905073,
          7071.510347287444
         ],
         "y": [
          -7278.28383463372,
          -7638.595429935546
         ],
         "z": [
          6718.111949052108,
          -408.39641359816306
         ]
        },
        {
         "hoverinfo": "none",
         "line": {
          "color": "gray",
          "width": 4
         },
         "mode": "lines",
         "type": "scatter3d",
         "x": [
          7071.510347287444,
          4.494631263432506
         ],
         "y": [
          -7638.595429935546,
          84.80087916684079
         ],
         "z": [
          -408.39641359816306,
          -105.25864323112751
         ]
        },
        {
         "hoverinfo": "none",
         "line": {
          "color": "gray",
          "width": 4
         },
         "mode": "lines",
         "type": "scatter3d",
         "x": [
          -712.7444817905073,
          -922.5884438522329
         ],
         "y": [
          -7278.28383463372,
          -7323.006386375134
         ],
         "z": [
          6718.111949052108,
          6841.629121802942
         ]
        },
        {
         "hoverinfo": "none",
         "line": {
          "color": "gray",
          "width": 4
         },
         "mode": "lines",
         "type": "scatter3d",
         "x": [
          7088.252115733914,
          7096.745252517537
         ],
         "y": [
          -7935.589520171587,
          -7417.903676762181
         ],
         "z": [
          -513.5081133202897,
          -405.9355645478021
         ]
        },
        {
         "hoverinfo": "none",
         "line": {
          "color": "gray",
          "width": 4
         },
         "mode": "lines",
         "type": "scatter3d",
         "x": [
          7096.745252517537,
          34.17527471024601
         ],
         "y": [
          -7417.903676762181,
          39.26852383003461
         ],
         "z": [
          -405.9355645478021,
          48.498890051531816
         ]
        },
        {
         "hoverinfo": "none",
         "line": {
          "color": "gray",
          "width": 4
         },
         "mode": "lines",
         "type": "scatter3d",
         "x": [
          34.17527471024601,
          -885.5228968337444
         ],
         "y": [
          39.26852383003461,
          -7279.257957447092
         ],
         "z": [
          48.498890051531816,
          6774.263343410048
         ]
        },
        {
         "hoverinfo": "none",
         "line": {
          "color": "gray",
          "width": 4
         },
         "mode": "lines",
         "type": "scatter3d",
         "x": [
          -885.5228968337444,
          7090.320323813016
         ],
         "y": [
          -7279.257957447092,
          -7348.7437000014115
         ],
         "z": [
          6774.263343410048,
          -424.718545738982
         ]
        },
        {
         "hoverinfo": "none",
         "line": {
          "color": "gray",
          "width": 4
         },
         "mode": "lines",
         "type": "scatter3d",
         "x": [
          7090.320323813016,
          160.94340841483756
         ],
         "y": [
          -7348.7437000014115,
          -18.273996187284865
         ],
         "z": [
          -424.718545738982,
          -1437.1936248008665
         ]
        },
        {
         "hoverinfo": "none",
         "line": {
          "color": "gray",
          "width": 4
         },
         "mode": "lines",
         "type": "scatter3d",
         "x": [
          160.94340841483756,
          -827.1525108250933
         ],
         "y": [
          -18.273996187284865,
          -7243.602044185104
         ],
         "z": [
          -1437.1936248008665,
          6658.102735268042
         ]
        },
        {
         "hoverinfo": "none",
         "line": {
          "color": "gray",
          "width": 4
         },
         "mode": "lines",
         "type": "scatter3d",
         "x": [
          7090.320323813016,
          7091.408572947117
         ],
         "y": [
          -7348.7437000014115,
          -7295.641179056221
         ],
         "z": [
          -424.718545738982,
          -470.8563252317611
         ]
        },
        {
         "hoverinfo": "none",
         "line": {
          "color": "gray",
          "width": 4
         },
         "mode": "lines",
         "type": "scatter3d",
         "x": [
          0,
          205.65509443113118
         ],
         "y": [
          0,
          -98.23443800263703
         ],
         "z": [
          0,
          -1472.7402958575226
         ]
        },
        {
         "hoverinfo": "none",
         "line": {
          "color": "gray",
          "width": 4
         },
         "mode": "lines",
         "type": "scatter3d",
         "x": [
          205.65509443113118,
          -560.6926225081165
         ],
         "y": [
          -98.23443800263703,
          -7246.324866308455
         ],
         "z": [
          -1472.7402958575226,
          6514.372972474216
         ]
        },
        {
         "hoverinfo": "none",
         "line": {
          "color": "gray",
          "width": 4
         },
         "mode": "lines",
         "type": "scatter3d",
         "x": [
          -560.6926225081165,
          7090.332503680876
         ],
         "y": [
          -7246.324866308455,
          -7365.392329185391
         ],
         "z": [
          6514.372972474216,
          -441.28465532814977
         ]
        },
        {
         "hoverinfo": "none",
         "line": {
          "color": "gray",
          "width": 4
         },
         "mode": "lines",
         "type": "scatter3d",
         "x": [
          7090.332503680876,
          190.4749934291546
         ],
         "y": [
          -7365.392329185391,
          -27.484249377971537
         ],
         "z": [
          -441.28465532814977,
          -1509.2943927656179
         ]
        },
        {
         "hoverinfo": "none",
         "line": {
          "color": "gray",
          "width": 4
         },
         "mode": "lines",
         "type": "scatter3d",
         "x": [
          0,
          -363.07857937076056
         ],
         "y": [
          0,
          -6958.551853773493
         ],
         "z": [
          0,
          6541.903669896146
         ]
        },
        {
         "hoverinfo": "none",
         "line": {
          "color": "gray",
          "width": 4
         },
         "mode": "lines",
         "type": "scatter3d",
         "x": [
          -363.07857937076056,
          6980.080963485519
         ],
         "y": [
          -6958.551853773493,
          -7448.051952742125
         ],
         "z": [
          6541.903669896146,
          -357.4518401706526
         ]
        },
        {
         "hoverinfo": "none",
         "line": {
          "color": "gray",
          "width": 4
         },
         "mode": "lines",
         "type": "scatter3d",
         "x": [
          6980.080963485519,
          165.60779567209676
         ],
         "y": [
          -7448.051952742125,
          23.347017338335718
         ],
         "z": [
          -357.4518401706526,
          -1506.0709976732742
         ]
        },
        {
         "hoverinfo": "none",
         "line": {
          "color": "gray",
          "width": 4
         },
         "mode": "lines",
         "type": "scatter3d",
         "x": [
          165.60779567209676,
          -276.98233153533636
         ],
         "y": [
          23.347017338335718,
          -7023.2905436829915
         ],
         "z": [
          -1506.0709976732742,
          6631.43048755188
         ]
        },
        {
         "marker": {
          "color": "red",
          "size": 5
         },
         "mode": "markers+text",
         "text": [
          "PELVIS",
          "SPINE_NAVAL",
          "SPINE_CHEST",
          "NECK",
          "CLAVICLE_LEFT",
          "SHOULDER_LEFT",
          "ELBOW_LEFT",
          "WRIST_LEFT",
          "HAND_LEFT",
          "HANDTIP_LEFT",
          "THUMB_LEFT",
          "CLAVICLE_RIGHT",
          "SHOULDER_RIGHT",
          "ELBOW_RIGHT",
          "WRIST_RIGHT",
          "HAND_RIGHT",
          "HANDTIP_RIGHT",
          "THUMB_RIGHT",
          "HIP_LEFT",
          "KNEE_LEFT",
          "ANKLE_LEFT",
          "FOOT_LEFT",
          "HIP_RIGHT",
          "KNEE_RIGHT",
          "ANKLE_RIGHT",
          "FOOT_RIGHT",
          "HEAD"
         ],
         "textposition": "top center",
         "type": "scatter3d",
         "x": [
          0,
          -399.5066233456681,
          7088.252115733914,
          -8.522267285784782,
          -573.4424138496983,
          7076.722441320289,
          -14.46005890603491,
          -712.7444817905073,
          7071.510347287444,
          4.494631263432506,
          -922.5884438522329,
          7096.745252517537,
          34.17527471024601,
          -885.5228968337444,
          7090.320323813016,
          160.94340841483756,
          -827.1525108250933,
          7091.408572947117,
          205.65509443113118,
          -560.6926225081165,
          7090.332503680876,
          190.4749934291546,
          -363.07857937076056,
          6980.080963485519,
          165.60779567209676,
          -276.98233153533636,
          7005.946892631745
         ],
         "y": [
          0,
          -7076.70642555242,
          -7935.589520171587,
          51.29753377342513,
          -7200.098509279901,
          -7899.537615344231,
          46.2303763214868,
          -7278.28383463372,
          -7638.595429935546,
          84.80087916684079,
          -7323.006386375134,
          -7417.903676762181,
          39.26852383003461,
          -7279.257957447092,
          -7348.7437000014115,
          -18.273996187284865,
          -7243.602044185104,
          -7295.641179056221,
          -98.23443800263703,
          -7246.324866308455,
          -7365.392329185391,
          -27.484249377971537,
          -6958.551853773493,
          -7448.051952742125,
          23.347017338335718,
          -7023.2905436829915,
          -7062.004321693413
         ],
         "z": [
          0,
          6673.268416423641,
          -513.5081133202897,
          -831.8636705096278,
          6670.647528455256,
          -521.5464632016827,
          -444.1462236083321,
          6718.111949052108,
          -408.39641359816306,
          -105.25864323112751,
          6841.629121802942,
          -405.9355645478021,
          48.498890051531816,
          6774.263343410048,
          -424.718545738982,
          -1437.1936248008665,
          6658.102735268042,
          -470.8563252317611,
          -1472.7402958575226,
          6514.372972474216,
          -441.28465532814977,
          -1509.2943927656179,
          6541.903669896146,
          -357.4518401706526,
          -1506.0709976732742,
          6631.43048755188,
          -489.35249085419343
         ]
        }
       ],
       "layout": {
        "scene": {
         "aspectmode": "data",
         "xaxis": {
          "title": {
           "text": "X"
          }
         },
         "yaxis": {
          "title": {
           "text": "Y"
          }
         },
         "zaxis": {
          "title": {
           "text": "Z"
          }
         }
        },
        "showlegend": false,
        "template": {
         "data": {
          "bar": [
           {
            "error_x": {
             "color": "#2a3f5f"
            },
            "error_y": {
             "color": "#2a3f5f"
            },
            "marker": {
             "line": {
              "color": "#E5ECF6",
              "width": 0.5
             },
             "pattern": {
              "fillmode": "overlay",
              "size": 10,
              "solidity": 0.2
             }
            },
            "type": "bar"
           }
          ],
          "barpolar": [
           {
            "marker": {
             "line": {
              "color": "#E5ECF6",
              "width": 0.5
             },
             "pattern": {
              "fillmode": "overlay",
              "size": 10,
              "solidity": 0.2
             }
            },
            "type": "barpolar"
           }
          ],
          "carpet": [
           {
            "aaxis": {
             "endlinecolor": "#2a3f5f",
             "gridcolor": "white",
             "linecolor": "white",
             "minorgridcolor": "white",
             "startlinecolor": "#2a3f5f"
            },
            "baxis": {
             "endlinecolor": "#2a3f5f",
             "gridcolor": "white",
             "linecolor": "white",
             "minorgridcolor": "white",
             "startlinecolor": "#2a3f5f"
            },
            "type": "carpet"
           }
          ],
          "choropleth": [
           {
            "colorbar": {
             "outlinewidth": 0,
             "ticks": ""
            },
            "type": "choropleth"
           }
          ],
          "contour": [
           {
            "colorbar": {
             "outlinewidth": 0,
             "ticks": ""
            },
            "colorscale": [
             [
              0,
              "#0d0887"
             ],
             [
              0.1111111111111111,
              "#46039f"
             ],
             [
              0.2222222222222222,
              "#7201a8"
             ],
             [
              0.3333333333333333,
              "#9c179e"
             ],
             [
              0.4444444444444444,
              "#bd3786"
             ],
             [
              0.5555555555555556,
              "#d8576b"
             ],
             [
              0.6666666666666666,
              "#ed7953"
             ],
             [
              0.7777777777777778,
              "#fb9f3a"
             ],
             [
              0.8888888888888888,
              "#fdca26"
             ],
             [
              1,
              "#f0f921"
             ]
            ],
            "type": "contour"
           }
          ],
          "contourcarpet": [
           {
            "colorbar": {
             "outlinewidth": 0,
             "ticks": ""
            },
            "type": "contourcarpet"
           }
          ],
          "heatmap": [
           {
            "colorbar": {
             "outlinewidth": 0,
             "ticks": ""
            },
            "colorscale": [
             [
              0,
              "#0d0887"
             ],
             [
              0.1111111111111111,
              "#46039f"
             ],
             [
              0.2222222222222222,
              "#7201a8"
             ],
             [
              0.3333333333333333,
              "#9c179e"
             ],
             [
              0.4444444444444444,
              "#bd3786"
             ],
             [
              0.5555555555555556,
              "#d8576b"
             ],
             [
              0.6666666666666666,
              "#ed7953"
             ],
             [
              0.7777777777777778,
              "#fb9f3a"
             ],
             [
              0.8888888888888888,
              "#fdca26"
             ],
             [
              1,
              "#f0f921"
             ]
            ],
            "type": "heatmap"
           }
          ],
          "histogram": [
           {
            "marker": {
             "pattern": {
              "fillmode": "overlay",
              "size": 10,
              "solidity": 0.2
             }
            },
            "type": "histogram"
           }
          ],
          "histogram2d": [
           {
            "colorbar": {
             "outlinewidth": 0,
             "ticks": ""
            },
            "colorscale": [
             [
              0,
              "#0d0887"
             ],
             [
              0.1111111111111111,
              "#46039f"
             ],
             [
              0.2222222222222222,
              "#7201a8"
             ],
             [
              0.3333333333333333,
              "#9c179e"
             ],
             [
              0.4444444444444444,
              "#bd3786"
             ],
             [
              0.5555555555555556,
              "#d8576b"
             ],
             [
              0.6666666666666666,
              "#ed7953"
             ],
             [
              0.7777777777777778,
              "#fb9f3a"
             ],
             [
              0.8888888888888888,
              "#fdca26"
             ],
             [
              1,
              "#f0f921"
             ]
            ],
            "type": "histogram2d"
           }
          ],
          "histogram2dcontour": [
           {
            "colorbar": {
             "outlinewidth": 0,
             "ticks": ""
            },
            "colorscale": [
             [
              0,
              "#0d0887"
             ],
             [
              0.1111111111111111,
              "#46039f"
             ],
             [
              0.2222222222222222,
              "#7201a8"
             ],
             [
              0.3333333333333333,
              "#9c179e"
             ],
             [
              0.4444444444444444,
              "#bd3786"
             ],
             [
              0.5555555555555556,
              "#d8576b"
             ],
             [
              0.6666666666666666,
              "#ed7953"
             ],
             [
              0.7777777777777778,
              "#fb9f3a"
             ],
             [
              0.8888888888888888,
              "#fdca26"
             ],
             [
              1,
              "#f0f921"
             ]
            ],
            "type": "histogram2dcontour"
           }
          ],
          "mesh3d": [
           {
            "colorbar": {
             "outlinewidth": 0,
             "ticks": ""
            },
            "type": "mesh3d"
           }
          ],
          "parcoords": [
           {
            "line": {
             "colorbar": {
              "outlinewidth": 0,
              "ticks": ""
             }
            },
            "type": "parcoords"
           }
          ],
          "pie": [
           {
            "automargin": true,
            "type": "pie"
           }
          ],
          "scatter": [
           {
            "fillpattern": {
             "fillmode": "overlay",
             "size": 10,
             "solidity": 0.2
            },
            "type": "scatter"
           }
          ],
          "scatter3d": [
           {
            "line": {
             "colorbar": {
              "outlinewidth": 0,
              "ticks": ""
             }
            },
            "marker": {
             "colorbar": {
              "outlinewidth": 0,
              "ticks": ""
             }
            },
            "type": "scatter3d"
           }
          ],
          "scattercarpet": [
           {
            "marker": {
             "colorbar": {
              "outlinewidth": 0,
              "ticks": ""
             }
            },
            "type": "scattercarpet"
           }
          ],
          "scattergeo": [
           {
            "marker": {
             "colorbar": {
              "outlinewidth": 0,
              "ticks": ""
             }
            },
            "type": "scattergeo"
           }
          ],
          "scattergl": [
           {
            "marker": {
             "colorbar": {
              "outlinewidth": 0,
              "ticks": ""
             }
            },
            "type": "scattergl"
           }
          ],
          "scattermap": [
           {
            "marker": {
             "colorbar": {
              "outlinewidth": 0,
              "ticks": ""
             }
            },
            "type": "scattermap"
           }
          ],
          "scattermapbox": [
           {
            "marker": {
             "colorbar": {
              "outlinewidth": 0,
              "ticks": ""
             }
            },
            "type": "scattermapbox"
           }
          ],
          "scatterpolar": [
           {
            "marker": {
             "colorbar": {
              "outlinewidth": 0,
              "ticks": ""
             }
            },
            "type": "scatterpolar"
           }
          ],
          "scatterpolargl": [
           {
            "marker": {
             "colorbar": {
              "outlinewidth": 0,
              "ticks": ""
             }
            },
            "type": "scatterpolargl"
           }
          ],
          "scatterternary": [
           {
            "marker": {
             "colorbar": {
              "outlinewidth": 0,
              "ticks": ""
             }
            },
            "type": "scatterternary"
           }
          ],
          "surface": [
           {
            "colorbar": {
             "outlinewidth": 0,
             "ticks": ""
            },
            "colorscale": [
             [
              0,
              "#0d0887"
             ],
             [
              0.1111111111111111,
              "#46039f"
             ],
             [
              0.2222222222222222,
              "#7201a8"
             ],
             [
              0.3333333333333333,
              "#9c179e"
             ],
             [
              0.4444444444444444,
              "#bd3786"
             ],
             [
              0.5555555555555556,
              "#d8576b"
             ],
             [
              0.6666666666666666,
              "#ed7953"
             ],
             [
              0.7777777777777778,
              "#fb9f3a"
             ],
             [
              0.8888888888888888,
              "#fdca26"
             ],
             [
              1,
              "#f0f921"
             ]
            ],
            "type": "surface"
           }
          ],
          "table": [
           {
            "cells": {
             "fill": {
              "color": "#EBF0F8"
             },
             "line": {
              "color": "white"
             }
            },
            "header": {
             "fill": {
              "color": "#C8D4E3"
             },
             "line": {
              "color": "white"
             }
            },
            "type": "table"
           }
          ]
         },
         "layout": {
          "annotationdefaults": {
           "arrowcolor": "#2a3f5f",
           "arrowhead": 0,
           "arrowwidth": 1
          },
          "autotypenumbers": "strict",
          "coloraxis": {
           "colorbar": {
            "outlinewidth": 0,
            "ticks": ""
           }
          },
          "colorscale": {
           "diverging": [
            [
             0,
             "#8e0152"
            ],
            [
             0.1,
             "#c51b7d"
            ],
            [
             0.2,
             "#de77ae"
            ],
            [
             0.3,
             "#f1b6da"
            ],
            [
             0.4,
             "#fde0ef"
            ],
            [
             0.5,
             "#f7f7f7"
            ],
            [
             0.6,
             "#e6f5d0"
            ],
            [
             0.7,
             "#b8e186"
            ],
            [
             0.8,
             "#7fbc41"
            ],
            [
             0.9,
             "#4d9221"
            ],
            [
             1,
             "#276419"
            ]
           ],
           "sequential": [
            [
             0,
             "#0d0887"
            ],
            [
             0.1111111111111111,
             "#46039f"
            ],
            [
             0.2222222222222222,
             "#7201a8"
            ],
            [
             0.3333333333333333,
             "#9c179e"
            ],
            [
             0.4444444444444444,
             "#bd3786"
            ],
            [
             0.5555555555555556,
             "#d8576b"
            ],
            [
             0.6666666666666666,
             "#ed7953"
            ],
            [
             0.7777777777777778,
             "#fb9f3a"
            ],
            [
             0.8888888888888888,
             "#fdca26"
            ],
            [
             1,
             "#f0f921"
            ]
           ],
           "sequentialminus": [
            [
             0,
             "#0d0887"
            ],
            [
             0.1111111111111111,
             "#46039f"
            ],
            [
             0.2222222222222222,
             "#7201a8"
            ],
            [
             0.3333333333333333,
             "#9c179e"
            ],
            [
             0.4444444444444444,
             "#bd3786"
            ],
            [
             0.5555555555555556,
             "#d8576b"
            ],
            [
             0.6666666666666666,
             "#ed7953"
            ],
            [
             0.7777777777777778,
             "#fb9f3a"
            ],
            [
             0.8888888888888888,
             "#fdca26"
            ],
            [
             1,
             "#f0f921"
            ]
           ]
          },
          "colorway": [
           "#636efa",
           "#EF553B",
           "#00cc96",
           "#ab63fa",
           "#FFA15A",
           "#19d3f3",
           "#FF6692",
           "#B6E880",
           "#FF97FF",
           "#FECB52"
          ],
          "font": {
           "color": "#2a3f5f"
          },
          "geo": {
           "bgcolor": "white",
           "lakecolor": "white",
           "landcolor": "#E5ECF6",
           "showlakes": true,
           "showland": true,
           "subunitcolor": "white"
          },
          "hoverlabel": {
           "align": "left"
          },
          "hovermode": "closest",
          "mapbox": {
           "style": "light"
          },
          "paper_bgcolor": "white",
          "plot_bgcolor": "#E5ECF6",
          "polar": {
           "angularaxis": {
            "gridcolor": "white",
            "linecolor": "white",
            "ticks": ""
           },
           "bgcolor": "#E5ECF6",
           "radialaxis": {
            "gridcolor": "white",
            "linecolor": "white",
            "ticks": ""
           }
          },
          "scene": {
           "xaxis": {
            "backgroundcolor": "#E5ECF6",
            "gridcolor": "white",
            "gridwidth": 2,
            "linecolor": "white",
            "showbackground": true,
            "ticks": "",
            "zerolinecolor": "white"
           },
           "yaxis": {
            "backgroundcolor": "#E5ECF6",
            "gridcolor": "white",
            "gridwidth": 2,
            "linecolor": "white",
            "showbackground": true,
            "ticks": "",
            "zerolinecolor": "white"
           },
           "zaxis": {
            "backgroundcolor": "#E5ECF6",
            "gridcolor": "white",
            "gridwidth": 2,
            "linecolor": "white",
            "showbackground": true,
            "ticks": "",
            "zerolinecolor": "white"
           }
          },
          "shapedefaults": {
           "line": {
            "color": "#2a3f5f"
           }
          },
          "ternary": {
           "aaxis": {
            "gridcolor": "white",
            "linecolor": "white",
            "ticks": ""
           },
           "baxis": {
            "gridcolor": "white",
            "linecolor": "white",
            "ticks": ""
           },
           "bgcolor": "#E5ECF6",
           "caxis": {
            "gridcolor": "white",
            "linecolor": "white",
            "ticks": ""
           }
          },
          "title": {
           "x": 0.05
          },
          "xaxis": {
           "automargin": true,
           "gridcolor": "white",
           "linecolor": "white",
           "ticks": "",
           "title": {
            "standoff": 15
           },
           "zerolinecolor": "white",
           "zerolinewidth": 2
          },
          "yaxis": {
           "automargin": true,
           "gridcolor": "white",
           "linecolor": "white",
           "ticks": "",
           "title": {
            "standoff": 15
           },
           "zerolinecolor": "white",
           "zerolinewidth": 2
          }
         }
        },
        "title": {
         "text": "🧍 3D Skeleton Debug View (Centered at Pelvis)"
        }
       }
      }
     },
     "metadata": {},
     "output_type": "display_data"
    }
   ],
   "source": [
    "import pandas as pd\n",
    "import plotly.graph_objects as go\n",
    "\n",
    "# Step 1: Load the CSV\n",
    "csv_path = \"KINECT_dataset_with_qor15.csv\"  # Change if needed\n",
    "df = pd.read_csv(path)\n",
    "df = df[df['walking_speed'] == 'Fast'].reset_index(drop=True)\n",
    "\n",
    "# Step 2: Define joints and edges\n",
    "joints = [\n",
    "    'PELVIS', 'SPINE_NAVAL', 'SPINE_CHEST', 'NECK', 'CLAVICLE_LEFT', 'SHOULDER_LEFT',\n",
    "    'ELBOW_LEFT', 'WRIST_LEFT', 'HAND_LEFT', 'HANDTIP_LEFT', 'THUMB_LEFT',\n",
    "    'CLAVICLE_RIGHT', 'SHOULDER_RIGHT', 'ELBOW_RIGHT', 'WRIST_RIGHT', 'HAND_RIGHT',\n",
    "    'HANDTIP_RIGHT', 'THUMB_RIGHT', 'HIP_LEFT', 'KNEE_LEFT', 'ANKLE_LEFT',\n",
    "    'FOOT_LEFT', 'HIP_RIGHT', 'KNEE_RIGHT', 'ANKLE_RIGHT', 'FOOT_RIGHT',\n",
    "    'HEAD', 'NOSE', 'EYE_LEFT', 'EAR_LEFT', 'EYE_RIGHT', 'EAR_RIGHT'\n",
    "]\n",
    "\n",
    "edges = [\n",
    "    ('PELVIS', 'SPINE_NAVAL'), ('SPINE_NAVAL', 'SPINE_CHEST'), ('SPINE_CHEST', 'NECK'),\n",
    "    ('NECK', 'HEAD'), ('SPINE_CHEST', 'CLAVICLE_LEFT'), ('CLAVICLE_LEFT', 'SHOULDER_LEFT'),\n",
    "    ('SHOULDER_LEFT', 'ELBOW_LEFT'), ('ELBOW_LEFT', 'WRIST_LEFT'), ('WRIST_LEFT', 'HAND_LEFT'),\n",
    "    ('HAND_LEFT', 'HANDTIP_LEFT'), ('WRIST_LEFT', 'THUMB_LEFT'), ('SPINE_CHEST', 'CLAVICLE_RIGHT'),\n",
    "    ('CLAVICLE_RIGHT', 'SHOULDER_RIGHT'), ('SHOULDER_RIGHT', 'ELBOW_RIGHT'), ('ELBOW_RIGHT', 'WRIST_RIGHT'),\n",
    "    ('WRIST_RIGHT', 'HAND_RIGHT'), ('HAND_RIGHT', 'HANDTIP_RIGHT'), ('WRIST_RIGHT', 'THUMB_RIGHT'),\n",
    "    ('PELVIS', 'HIP_LEFT'), ('HIP_LEFT', 'KNEE_LEFT'), ('KNEE_LEFT', 'ANKLE_LEFT'),\n",
    "    ('ANKLE_LEFT', 'FOOT_LEFT'), ('PELVIS', 'HIP_RIGHT'), ('HIP_RIGHT', 'KNEE_RIGHT'),\n",
    "    ('KNEE_RIGHT', 'ANKLE_RIGHT'), ('ANKLE_RIGHT', 'FOOT_RIGHT'),\n",
    "    ('HEAD', 'NOSE'), ('HEAD', 'EYE_LEFT'), ('HEAD', 'EYE_RIGHT'),\n",
    "    ('HEAD', 'EAR_LEFT'), ('HEAD', 'EAR_RIGHT')\n",
    "]\n",
    "\n",
    "# Step 3: Check for missing joint columns\n",
    "missing = []\n",
    "for joint in joints:\n",
    "    for axis in ['_X', '_Y', '_Z']:\n",
    "        col = f\"{joint}{axis}\"\n",
    "        if col not in df.columns:\n",
    "            missing.append(col)\n",
    "\n",
    "if missing:\n",
    "    print(\"❌ Missing columns in CSV:\")\n",
    "    print(missing)\n",
    "else:\n",
    "    print(\"✅ All joint columns found!\")\n",
    "\n",
    "# Step 4: Select one frame\n",
    "row = df[df['patient_id'] == df['patient_id'].unique()[0]].iloc[5]  # try frame 5 instead of 0\n",
    "\n",
    "\n",
    "# Step 5: Extract and normalize coordinates to PELVIS\n",
    "pelvis_x, pelvis_y, pelvis_z = row['PELVIS_X'], row['PELVIS_Y'], row['PELVIS_Z']\n",
    "joint_coords = {}\n",
    "for joint in joints:\n",
    "    try:\n",
    "        x = row[f'{joint}_X'] - pelvis_x\n",
    "        y = row[f'{joint}_Y'] - pelvis_y\n",
    "        z = row[f'{joint}_Z'] - pelvis_z\n",
    "        joint_coords[joint] = (x, y, z)\n",
    "    except:\n",
    "        joint_coords[joint] = (0, 0, 0)  # fallback\n",
    "        print(f\"⚠️  Missing data for joint {joint}\")\n",
    "\n",
    "# Step 6: Print joint values for debugging\n",
    "print(\"\\n🔍 Joint Positions (Centered at Pelvis):\")\n",
    "for j in joints:\n",
    "    print(f\"{j}: {joint_coords[j]}\")\n",
    "\n",
    "# Optional: Remove facial joints for clearer skeleton view\n",
    "use_joints = [j for j in joints if 'EAR' not in j and 'EYE' not in j and 'NOSE' not in j]\n",
    "use_edges = [e for e in edges if e[0] in use_joints and e[1] in use_joints]\n",
    "\n",
    "# Step 7: Prepare coordinates for plotting\n",
    "x_vals = [joint_coords[j][0] for j in use_joints]\n",
    "y_vals = [joint_coords[j][1] for j in use_joints]\n",
    "z_vals = [joint_coords[j][2] for j in use_joints]\n",
    "\n",
    "# Step 8: Create joint markers\n",
    "joint_trace = go.Scatter3d(\n",
    "    x=x_vals, y=y_vals, z=z_vals,\n",
    "    mode='markers+text',\n",
    "    text=use_joints,\n",
    "    marker=dict(size=5, color='red'),\n",
    "    textposition=\"top center\"\n",
    ")\n",
    "\n",
    "# Step 9: Create bone edges\n",
    "edge_traces = []\n",
    "for j1, j2 in use_edges:\n",
    "    x0, y0, z0 = joint_coords[j1]\n",
    "    x1, y1, z1 = joint_coords[j2]\n",
    "    edge_traces.append(go.Scatter3d(\n",
    "        x=[x0, x1], y=[y0, y1], z=[z0, z1],\n",
    "        mode='lines',\n",
    "        line=dict(color='gray', width=4),\n",
    "        hoverinfo='none'\n",
    "    ))\n",
    "\n",
    "# Step 10: Plot interactive 3D skeleton\n",
    "fig = go.Figure(data=edge_traces + [joint_trace])\n",
    "fig.update_layout(\n",
    "    scene=dict(\n",
    "        xaxis_title='X', yaxis_title='Y', zaxis_title='Z',\n",
    "        aspectmode='data'\n",
    "    ),\n",
    "    title=\"🧍 3D Skeleton Debug View (Centered at Pelvis)\",\n",
    "    showlegend=False\n",
    ")\n",
    "fig.show()\n"
   ]
  },
  {
   "cell_type": "code",
   "execution_count": 17,
   "id": "c984e1a2",
   "metadata": {},
   "outputs": [
    {
     "data": {
      "application/vnd.plotly.v1+json": {
       "config": {
        "plotlyServerURL": "https://plot.ly"
       },
       "data": [
        {
         "hoverinfo": "none",
         "line": {
          "color": "gray",
          "width": 4
         },
         "mode": "lines",
         "type": "scatter3d",
         "x": [
          0,
          -382.9826133983633
         ],
         "y": [
          0,
          -7263.070367328313
         ],
         "z": [
          0,
          6849.97728086331
         ]
        },
        {
         "hoverinfo": "none",
         "line": {
          "color": "gray",
          "width": 4
         },
         "mode": "lines",
         "type": "scatter3d",
         "x": [
          -382.9826133983633,
          7286.030307224484
         ],
         "y": [
          -7263.070367328313,
          -8100.648371548754
         ],
         "z": [
          6849.97728086331,
          -488.4256109582617
         ]
        },
        {
         "hoverinfo": "none",
         "line": {
          "color": "gray",
          "width": 4
         },
         "mode": "lines",
         "type": "scatter3d",
         "x": [
          7286.030307224484,
          3.9514603653892166
         ],
         "y": [
          -8100.648371548754,
          20.067918982590527
         ],
         "z": [
          -488.4256109582617,
          -794.9933073510997
         ]
        },
        {
         "hoverinfo": "none",
         "line": {
          "color": "gray",
          "width": 4
         },
         "mode": "lines",
         "type": "scatter3d",
         "x": [
          7286.030307224484,
          -550.8775100097585
         ],
         "y": [
          -8100.648371548754,
          -7378.03400401116
         ],
         "z": [
          -488.4256109582617,
          6873.123812031616
         ]
        },
        {
         "hoverinfo": "none",
         "line": {
          "color": "gray",
          "width": 4
         },
         "mode": "lines",
         "type": "scatter3d",
         "x": [
          -550.8775100097585,
          7264.909352652288
         ],
         "y": [
          -7378.03400401116,
          -8054.5933508957305
         ],
         "z": [
          6873.123812031616,
          -536.9846802119005
         ]
        },
        {
         "hoverinfo": "none",
         "line": {
          "color": "gray",
          "width": 4
         },
         "mode": "lines",
         "type": "scatter3d",
         "x": [
          7264.909352652288,
          7.034187621476072
         ],
         "y": [
          -8054.5933508957305,
          35.16656848146886
         ],
         "z": [
          -536.9846802119005,
          -427.65422685019985
         ]
        },
        {
         "hoverinfo": "none",
         "line": {
          "color": "gray",
          "width": 4
         },
         "mode": "lines",
         "type": "scatter3d",
         "x": [
          7.034187621476072,
          -685.4462458442371
         ],
         "y": [
          35.16656848146886,
          -7498.256059237415
         ],
         "z": [
          -427.65422685019985,
          6792.383920204547
         ]
        },
        {
         "hoverinfo": "none",
         "line": {
          "color": "gray",
          "width": 4
         },
         "mode": "lines",
         "type": "scatter3d",
         "x": [
          -685.4462458442371,
          7251.018258998935
         ],
         "y": [
          -7498.256059237415,
          -7839.60692006118
         ],
         "z": [
          6792.383920204547,
          -437.54079669666385
         ]
        },
        {
         "hoverinfo": "none",
         "line": {
          "color": "gray",
          "width": 4
         },
         "mode": "lines",
         "type": "scatter3d",
         "x": [
          7251.018258998935,
          11.600718539750208
         ],
         "y": [
          -7839.60692006118,
          137.7158207101802
         ],
         "z": [
          -437.54079669666385,
          -89.49397598145038
         ]
        },
        {
         "hoverinfo": "none",
         "line": {
          "color": "gray",
          "width": 4
         },
         "mode": "lines",
         "type": "scatter3d",
         "x": [
          -685.4462458442371,
          -891.3194190403383
         ],
         "y": [
          -7498.256059237415,
          -7580.188993965025
         ],
         "z": [
          6792.383920204547,
          6893.277007260304
         ]
        },
        {
         "hoverinfo": "none",
         "line": {
          "color": "gray",
          "width": 4
         },
         "mode": "lines",
         "type": "scatter3d",
         "x": [
          7286.030307224484,
          7255.648884125792
         ],
         "y": [
          -8100.648371548754,
          -7641.491048864595
         ],
         "z": [
          -488.4256109582617,
          -445.5933654149116
         ]
        },
        {
         "hoverinfo": "none",
         "line": {
          "color": "gray",
          "width": 4
         },
         "mode": "lines",
         "type": "scatter3d",
         "x": [
          7255.648884125792,
          42.18547779960667
         ],
         "y": [
          -7641.491048864595,
          77.44945551729597
         ],
         "z": [
          -445.5933654149116,
          18.863785374632357
         ]
        },
        {
         "hoverinfo": "none",
         "line": {
          "color": "gray",
          "width": 4
         },
         "mode": "lines",
         "type": "scatter3d",
         "x": [
          42.18547779960667,
          -857.0395588222568
         ],
         "y": [
          77.44945551729597,
          -7636.185511639154
         ],
         "z": [
          18.863785374632357,
          6771.315619212619
         ]
        },
        {
         "hoverinfo": "none",
         "line": {
          "color": "gray",
          "width": 4
         },
         "mode": "lines",
         "type": "scatter3d",
         "x": [
          -857.0395588222568,
          7248.474752527182
         ],
         "y": [
          -7636.185511639154,
          -7605.454935230547
         ],
         "z": [
          6771.315619212619,
          -400.114846153347
         ]
        },
        {
         "hoverinfo": "none",
         "line": {
          "color": "gray",
          "width": 4
         },
         "mode": "lines",
         "type": "scatter3d",
         "x": [
          7248.474752527182,
          162.06139227940014
         ],
         "y": [
          -7605.454935230547,
          6.274873287447008
         ],
         "z": [
          -400.114846153347,
          -1378.5519859578576
         ]
        },
        {
         "hoverinfo": "none",
         "line": {
          "color": "gray",
          "width": 4
         },
         "mode": "lines",
         "type": "scatter3d",
         "x": [
          162.06139227940014,
          -802.0991264302088
         ],
         "y": [
          6.274873287447008,
          -7632.854724285026
         ],
         "z": [
          -1378.5519859578576,
          6834.5157658746775
         ]
        },
        {
         "hoverinfo": "none",
         "line": {
          "color": "gray",
          "width": 4
         },
         "mode": "lines",
         "type": "scatter3d",
         "x": [
          7248.474752527182,
          7217.042271698854
         ],
         "y": [
          -7605.454935230547,
          -7539.71710109577
         ],
         "z": [
          -400.114846153347,
          -454.6245928272637
         ]
        },
        {
         "hoverinfo": "none",
         "line": {
          "color": "gray",
          "width": 4
         },
         "mode": "lines",
         "type": "scatter3d",
         "x": [
          0,
          215.13645817519958
         ],
         "y": [
          0,
          -70.01462306409576
         ],
         "z": [
          0,
          -1412.5180697228877
         ]
        },
        {
         "hoverinfo": "none",
         "line": {
          "color": "gray",
          "width": 4
         },
         "mode": "lines",
         "type": "scatter3d",
         "x": [
          215.13645817519958,
          -547.3721561038976
         ],
         "y": [
          -70.01462306409576,
          -7590.3926981975565
         ],
         "z": [
          -1412.5180697228877,
          6696.517783314612
         ]
        },
        {
         "hoverinfo": "none",
         "line": {
          "color": "gray",
          "width": 4
         },
         "mode": "lines",
         "type": "scatter3d",
         "x": [
          -547.3721561038976,
          7248.541991118693
         ],
         "y": [
          -7590.3926981975565,
          -7578.165204880045
         ],
         "z": [
          6696.517783314612,
          -429.13911326384687
         ]
        },
        {
         "hoverinfo": "none",
         "line": {
          "color": "gray",
          "width": 4
         },
         "mode": "lines",
         "type": "scatter3d",
         "x": [
          7248.541991118693,
          185.02862874347727
         ],
         "y": [
          -7578.165204880045,
          -32.735931285033985
         ],
         "z": [
          -429.13911326384687,
          -1450.9862383650332
         ]
        },
        {
         "hoverinfo": "none",
         "line": {
          "color": "gray",
          "width": 4
         },
         "mode": "lines",
         "type": "scatter3d",
         "x": [
          0,
          -333.9721329850584
         ],
         "y": [
          0,
          -7156.698296471803
         ],
         "z": [
          0,
          6722.6423314802905
         ]
        },
        {
         "hoverinfo": "none",
         "line": {
          "color": "gray",
          "width": 4
         },
         "mode": "lines",
         "type": "scatter3d",
         "x": [
          -333.9721329850584,
          7204.557358250228
         ],
         "y": [
          -7156.698296471803,
          -7624.422179019413
         ],
         "z": [
          6722.6423314802905,
          -343.1533874820797
         ]
        },
        {
         "hoverinfo": "none",
         "line": {
          "color": "gray",
          "width": 4
         },
         "mode": "lines",
         "type": "scatter3d",
         "x": [
          7204.557358250228,
          153.25413751035745
         ],
         "y": [
          -7624.422179019413,
          45.58404443736708
         ],
         "z": [
          -343.1533874820797,
          -1454.8508660075543
         ]
        },
        {
         "hoverinfo": "none",
         "line": {
          "color": "gray",
          "width": 4
         },
         "mode": "lines",
         "type": "scatter3d",
         "x": [
          153.25413751035745,
          -260.9872232312049
         ],
         "y": [
          45.58404443736708,
          -7232.448550052081
         ],
         "z": [
          -1454.8508660075543,
          6806.564122861627
         ]
        },
        {
         "marker": {
          "color": "blue",
          "size": 5
         },
         "mode": "markers+text",
         "text": [
          "PELVIS",
          "SPINE_NAVAL",
          "SPINE_CHEST",
          "NECK",
          "CLAVICLE_LEFT",
          "SHOULDER_LEFT",
          "ELBOW_LEFT",
          "WRIST_LEFT",
          "HAND_LEFT",
          "HANDTIP_LEFT",
          "THUMB_LEFT",
          "CLAVICLE_RIGHT",
          "SHOULDER_RIGHT",
          "ELBOW_RIGHT",
          "WRIST_RIGHT",
          "HAND_RIGHT",
          "HANDTIP_RIGHT",
          "THUMB_RIGHT",
          "HIP_LEFT",
          "KNEE_LEFT",
          "ANKLE_LEFT",
          "FOOT_LEFT",
          "HIP_RIGHT",
          "KNEE_RIGHT",
          "ANKLE_RIGHT",
          "FOOT_RIGHT"
         ],
         "textposition": "top center",
         "type": "scatter3d",
         "x": [
          0,
          -382.9826133983633,
          7286.030307224484,
          3.9514603653892166,
          -550.8775100097585,
          7264.909352652288,
          7.034187621476072,
          -685.4462458442371,
          7251.018258998935,
          11.600718539750208,
          -891.3194190403383,
          7255.648884125792,
          42.18547779960667,
          -857.0395588222568,
          7248.474752527182,
          162.06139227940014,
          -802.0991264302088,
          7217.042271698854,
          215.13645817519958,
          -547.3721561038976,
          7248.541991118693,
          185.02862874347727,
          -333.9721329850584,
          7204.557358250228,
          153.25413751035745,
          -260.9872232312049
         ],
         "y": [
          0,
          -7263.070367328313,
          -8100.648371548754,
          20.067918982590527,
          -7378.03400401116,
          -8054.5933508957305,
          35.16656848146886,
          -7498.256059237415,
          -7839.60692006118,
          137.7158207101802,
          -7580.188993965025,
          -7641.491048864595,
          77.44945551729597,
          -7636.185511639154,
          -7605.454935230547,
          6.274873287447008,
          -7632.854724285026,
          -7539.71710109577,
          -70.01462306409576,
          -7590.3926981975565,
          -7578.165204880045,
          -32.735931285033985,
          -7156.698296471803,
          -7624.422179019413,
          45.58404443736708,
          -7232.448550052081
         ],
         "z": [
          0,
          6849.97728086331,
          -488.4256109582617,
          -794.9933073510997,
          6873.123812031616,
          -536.9846802119005,
          -427.65422685019985,
          6792.383920204547,
          -437.54079669666385,
          -89.49397598145038,
          6893.277007260304,
          -445.5933654149116,
          18.863785374632357,
          6771.315619212619,
          -400.114846153347,
          -1378.5519859578576,
          6834.5157658746775,
          -454.6245928272637,
          -1412.5180697228877,
          6696.517783314612,
          -429.13911326384687,
          -1450.9862383650332,
          6722.6423314802905,
          -343.1533874820797,
          -1454.8508660075543,
          6806.564122861627
         ]
        }
       ],
       "layout": {
        "scene": {
         "aspectmode": "data",
         "xaxis": {
          "title": {
           "text": "X"
          }
         },
         "yaxis": {
          "title": {
           "text": "Y"
          }
         },
         "zaxis": {
          "title": {
           "text": "Z"
          }
         }
        },
        "showlegend": false,
        "template": {
         "data": {
          "bar": [
           {
            "error_x": {
             "color": "#2a3f5f"
            },
            "error_y": {
             "color": "#2a3f5f"
            },
            "marker": {
             "line": {
              "color": "#E5ECF6",
              "width": 0.5
             },
             "pattern": {
              "fillmode": "overlay",
              "size": 10,
              "solidity": 0.2
             }
            },
            "type": "bar"
           }
          ],
          "barpolar": [
           {
            "marker": {
             "line": {
              "color": "#E5ECF6",
              "width": 0.5
             },
             "pattern": {
              "fillmode": "overlay",
              "size": 10,
              "solidity": 0.2
             }
            },
            "type": "barpolar"
           }
          ],
          "carpet": [
           {
            "aaxis": {
             "endlinecolor": "#2a3f5f",
             "gridcolor": "white",
             "linecolor": "white",
             "minorgridcolor": "white",
             "startlinecolor": "#2a3f5f"
            },
            "baxis": {
             "endlinecolor": "#2a3f5f",
             "gridcolor": "white",
             "linecolor": "white",
             "minorgridcolor": "white",
             "startlinecolor": "#2a3f5f"
            },
            "type": "carpet"
           }
          ],
          "choropleth": [
           {
            "colorbar": {
             "outlinewidth": 0,
             "ticks": ""
            },
            "type": "choropleth"
           }
          ],
          "contour": [
           {
            "colorbar": {
             "outlinewidth": 0,
             "ticks": ""
            },
            "colorscale": [
             [
              0,
              "#0d0887"
             ],
             [
              0.1111111111111111,
              "#46039f"
             ],
             [
              0.2222222222222222,
              "#7201a8"
             ],
             [
              0.3333333333333333,
              "#9c179e"
             ],
             [
              0.4444444444444444,
              "#bd3786"
             ],
             [
              0.5555555555555556,
              "#d8576b"
             ],
             [
              0.6666666666666666,
              "#ed7953"
             ],
             [
              0.7777777777777778,
              "#fb9f3a"
             ],
             [
              0.8888888888888888,
              "#fdca26"
             ],
             [
              1,
              "#f0f921"
             ]
            ],
            "type": "contour"
           }
          ],
          "contourcarpet": [
           {
            "colorbar": {
             "outlinewidth": 0,
             "ticks": ""
            },
            "type": "contourcarpet"
           }
          ],
          "heatmap": [
           {
            "colorbar": {
             "outlinewidth": 0,
             "ticks": ""
            },
            "colorscale": [
             [
              0,
              "#0d0887"
             ],
             [
              0.1111111111111111,
              "#46039f"
             ],
             [
              0.2222222222222222,
              "#7201a8"
             ],
             [
              0.3333333333333333,
              "#9c179e"
             ],
             [
              0.4444444444444444,
              "#bd3786"
             ],
             [
              0.5555555555555556,
              "#d8576b"
             ],
             [
              0.6666666666666666,
              "#ed7953"
             ],
             [
              0.7777777777777778,
              "#fb9f3a"
             ],
             [
              0.8888888888888888,
              "#fdca26"
             ],
             [
              1,
              "#f0f921"
             ]
            ],
            "type": "heatmap"
           }
          ],
          "histogram": [
           {
            "marker": {
             "pattern": {
              "fillmode": "overlay",
              "size": 10,
              "solidity": 0.2
             }
            },
            "type": "histogram"
           }
          ],
          "histogram2d": [
           {
            "colorbar": {
             "outlinewidth": 0,
             "ticks": ""
            },
            "colorscale": [
             [
              0,
              "#0d0887"
             ],
             [
              0.1111111111111111,
              "#46039f"
             ],
             [
              0.2222222222222222,
              "#7201a8"
             ],
             [
              0.3333333333333333,
              "#9c179e"
             ],
             [
              0.4444444444444444,
              "#bd3786"
             ],
             [
              0.5555555555555556,
              "#d8576b"
             ],
             [
              0.6666666666666666,
              "#ed7953"
             ],
             [
              0.7777777777777778,
              "#fb9f3a"
             ],
             [
              0.8888888888888888,
              "#fdca26"
             ],
             [
              1,
              "#f0f921"
             ]
            ],
            "type": "histogram2d"
           }
          ],
          "histogram2dcontour": [
           {
            "colorbar": {
             "outlinewidth": 0,
             "ticks": ""
            },
            "colorscale": [
             [
              0,
              "#0d0887"
             ],
             [
              0.1111111111111111,
              "#46039f"
             ],
             [
              0.2222222222222222,
              "#7201a8"
             ],
             [
              0.3333333333333333,
              "#9c179e"
             ],
             [
              0.4444444444444444,
              "#bd3786"
             ],
             [
              0.5555555555555556,
              "#d8576b"
             ],
             [
              0.6666666666666666,
              "#ed7953"
             ],
             [
              0.7777777777777778,
              "#fb9f3a"
             ],
             [
              0.8888888888888888,
              "#fdca26"
             ],
             [
              1,
              "#f0f921"
             ]
            ],
            "type": "histogram2dcontour"
           }
          ],
          "mesh3d": [
           {
            "colorbar": {
             "outlinewidth": 0,
             "ticks": ""
            },
            "type": "mesh3d"
           }
          ],
          "parcoords": [
           {
            "line": {
             "colorbar": {
              "outlinewidth": 0,
              "ticks": ""
             }
            },
            "type": "parcoords"
           }
          ],
          "pie": [
           {
            "automargin": true,
            "type": "pie"
           }
          ],
          "scatter": [
           {
            "fillpattern": {
             "fillmode": "overlay",
             "size": 10,
             "solidity": 0.2
            },
            "type": "scatter"
           }
          ],
          "scatter3d": [
           {
            "line": {
             "colorbar": {
              "outlinewidth": 0,
              "ticks": ""
             }
            },
            "marker": {
             "colorbar": {
              "outlinewidth": 0,
              "ticks": ""
             }
            },
            "type": "scatter3d"
           }
          ],
          "scattercarpet": [
           {
            "marker": {
             "colorbar": {
              "outlinewidth": 0,
              "ticks": ""
             }
            },
            "type": "scattercarpet"
           }
          ],
          "scattergeo": [
           {
            "marker": {
             "colorbar": {
              "outlinewidth": 0,
              "ticks": ""
             }
            },
            "type": "scattergeo"
           }
          ],
          "scattergl": [
           {
            "marker": {
             "colorbar": {
              "outlinewidth": 0,
              "ticks": ""
             }
            },
            "type": "scattergl"
           }
          ],
          "scattermap": [
           {
            "marker": {
             "colorbar": {
              "outlinewidth": 0,
              "ticks": ""
             }
            },
            "type": "scattermap"
           }
          ],
          "scattermapbox": [
           {
            "marker": {
             "colorbar": {
              "outlinewidth": 0,
              "ticks": ""
             }
            },
            "type": "scattermapbox"
           }
          ],
          "scatterpolar": [
           {
            "marker": {
             "colorbar": {
              "outlinewidth": 0,
              "ticks": ""
             }
            },
            "type": "scatterpolar"
           }
          ],
          "scatterpolargl": [
           {
            "marker": {
             "colorbar": {
              "outlinewidth": 0,
              "ticks": ""
             }
            },
            "type": "scatterpolargl"
           }
          ],
          "scatterternary": [
           {
            "marker": {
             "colorbar": {
              "outlinewidth": 0,
              "ticks": ""
             }
            },
            "type": "scatterternary"
           }
          ],
          "surface": [
           {
            "colorbar": {
             "outlinewidth": 0,
             "ticks": ""
            },
            "colorscale": [
             [
              0,
              "#0d0887"
             ],
             [
              0.1111111111111111,
              "#46039f"
             ],
             [
              0.2222222222222222,
              "#7201a8"
             ],
             [
              0.3333333333333333,
              "#9c179e"
             ],
             [
              0.4444444444444444,
              "#bd3786"
             ],
             [
              0.5555555555555556,
              "#d8576b"
             ],
             [
              0.6666666666666666,
              "#ed7953"
             ],
             [
              0.7777777777777778,
              "#fb9f3a"
             ],
             [
              0.8888888888888888,
              "#fdca26"
             ],
             [
              1,
              "#f0f921"
             ]
            ],
            "type": "surface"
           }
          ],
          "table": [
           {
            "cells": {
             "fill": {
              "color": "#EBF0F8"
             },
             "line": {
              "color": "white"
             }
            },
            "header": {
             "fill": {
              "color": "#C8D4E3"
             },
             "line": {
              "color": "white"
             }
            },
            "type": "table"
           }
          ]
         },
         "layout": {
          "annotationdefaults": {
           "arrowcolor": "#2a3f5f",
           "arrowhead": 0,
           "arrowwidth": 1
          },
          "autotypenumbers": "strict",
          "coloraxis": {
           "colorbar": {
            "outlinewidth": 0,
            "ticks": ""
           }
          },
          "colorscale": {
           "diverging": [
            [
             0,
             "#8e0152"
            ],
            [
             0.1,
             "#c51b7d"
            ],
            [
             0.2,
             "#de77ae"
            ],
            [
             0.3,
             "#f1b6da"
            ],
            [
             0.4,
             "#fde0ef"
            ],
            [
             0.5,
             "#f7f7f7"
            ],
            [
             0.6,
             "#e6f5d0"
            ],
            [
             0.7,
             "#b8e186"
            ],
            [
             0.8,
             "#7fbc41"
            ],
            [
             0.9,
             "#4d9221"
            ],
            [
             1,
             "#276419"
            ]
           ],
           "sequential": [
            [
             0,
             "#0d0887"
            ],
            [
             0.1111111111111111,
             "#46039f"
            ],
            [
             0.2222222222222222,
             "#7201a8"
            ],
            [
             0.3333333333333333,
             "#9c179e"
            ],
            [
             0.4444444444444444,
             "#bd3786"
            ],
            [
             0.5555555555555556,
             "#d8576b"
            ],
            [
             0.6666666666666666,
             "#ed7953"
            ],
            [
             0.7777777777777778,
             "#fb9f3a"
            ],
            [
             0.8888888888888888,
             "#fdca26"
            ],
            [
             1,
             "#f0f921"
            ]
           ],
           "sequentialminus": [
            [
             0,
             "#0d0887"
            ],
            [
             0.1111111111111111,
             "#46039f"
            ],
            [
             0.2222222222222222,
             "#7201a8"
            ],
            [
             0.3333333333333333,
             "#9c179e"
            ],
            [
             0.4444444444444444,
             "#bd3786"
            ],
            [
             0.5555555555555556,
             "#d8576b"
            ],
            [
             0.6666666666666666,
             "#ed7953"
            ],
            [
             0.7777777777777778,
             "#fb9f3a"
            ],
            [
             0.8888888888888888,
             "#fdca26"
            ],
            [
             1,
             "#f0f921"
            ]
           ]
          },
          "colorway": [
           "#636efa",
           "#EF553B",
           "#00cc96",
           "#ab63fa",
           "#FFA15A",
           "#19d3f3",
           "#FF6692",
           "#B6E880",
           "#FF97FF",
           "#FECB52"
          ],
          "font": {
           "color": "#2a3f5f"
          },
          "geo": {
           "bgcolor": "white",
           "lakecolor": "white",
           "landcolor": "#E5ECF6",
           "showlakes": true,
           "showland": true,
           "subunitcolor": "white"
          },
          "hoverlabel": {
           "align": "left"
          },
          "hovermode": "closest",
          "mapbox": {
           "style": "light"
          },
          "paper_bgcolor": "white",
          "plot_bgcolor": "#E5ECF6",
          "polar": {
           "angularaxis": {
            "gridcolor": "white",
            "linecolor": "white",
            "ticks": ""
           },
           "bgcolor": "#E5ECF6",
           "radialaxis": {
            "gridcolor": "white",
            "linecolor": "white",
            "ticks": ""
           }
          },
          "scene": {
           "xaxis": {
            "backgroundcolor": "#E5ECF6",
            "gridcolor": "white",
            "gridwidth": 2,
            "linecolor": "white",
            "showbackground": true,
            "ticks": "",
            "zerolinecolor": "white"
           },
           "yaxis": {
            "backgroundcolor": "#E5ECF6",
            "gridcolor": "white",
            "gridwidth": 2,
            "linecolor": "white",
            "showbackground": true,
            "ticks": "",
            "zerolinecolor": "white"
           },
           "zaxis": {
            "backgroundcolor": "#E5ECF6",
            "gridcolor": "white",
            "gridwidth": 2,
            "linecolor": "white",
            "showbackground": true,
            "ticks": "",
            "zerolinecolor": "white"
           }
          },
          "shapedefaults": {
           "line": {
            "color": "#2a3f5f"
           }
          },
          "ternary": {
           "aaxis": {
            "gridcolor": "white",
            "linecolor": "white",
            "ticks": ""
           },
           "baxis": {
            "gridcolor": "white",
            "linecolor": "white",
            "ticks": ""
           },
           "bgcolor": "#E5ECF6",
           "caxis": {
            "gridcolor": "white",
            "linecolor": "white",
            "ticks": ""
           }
          },
          "title": {
           "x": 0.05
          },
          "xaxis": {
           "automargin": true,
           "gridcolor": "white",
           "linecolor": "white",
           "ticks": "",
           "title": {
            "standoff": 15
           },
           "zerolinecolor": "white",
           "zerolinewidth": 2
          },
          "yaxis": {
           "automargin": true,
           "gridcolor": "white",
           "linecolor": "white",
           "ticks": "",
           "title": {
            "standoff": 15
           },
           "zerolinecolor": "white",
           "zerolinewidth": 2
          }
         }
        },
        "title": {
         "text": "🧍 Filtered 3D Skeleton (Torso + Limbs)"
        }
       }
      }
     },
     "metadata": {},
     "output_type": "display_data"
    }
   ],
   "source": [
    "# Use cleaned joints\n",
    "core_joints = [\n",
    "    'PELVIS', 'SPINE_NAVAL', 'SPINE_CHEST', 'NECK',\n",
    "    'CLAVICLE_LEFT', 'SHOULDER_LEFT', 'ELBOW_LEFT', 'WRIST_LEFT', 'HAND_LEFT', 'HANDTIP_LEFT', 'THUMB_LEFT',\n",
    "    'CLAVICLE_RIGHT', 'SHOULDER_RIGHT', 'ELBOW_RIGHT', 'WRIST_RIGHT', 'HAND_RIGHT', 'HANDTIP_RIGHT', 'THUMB_RIGHT',\n",
    "    'HIP_LEFT', 'KNEE_LEFT', 'ANKLE_LEFT', 'FOOT_LEFT',\n",
    "    'HIP_RIGHT', 'KNEE_RIGHT', 'ANKLE_RIGHT', 'FOOT_RIGHT'\n",
    "]\n",
    "filtered_edges = [e for e in edges if e[0] in core_joints and e[1] in core_joints]\n",
    "\n",
    "# Step 7: Prepare coordinates for plotting\n",
    "x_vals = [joint_coords[j][0] for j in core_joints]\n",
    "y_vals = [joint_coords[j][1] for j in core_joints]\n",
    "z_vals = [joint_coords[j][2] for j in core_joints]\n",
    "\n",
    "# Step 8: Create joint markers\n",
    "joint_trace = go.Scatter3d(\n",
    "    x=x_vals, y=y_vals, z=z_vals,\n",
    "    mode='markers+text',\n",
    "    text=core_joints,\n",
    "    marker=dict(size=5, color='blue'),\n",
    "    textposition=\"top center\"\n",
    ")\n",
    "\n",
    "# Step 9: Create bone edges\n",
    "edge_traces = []\n",
    "for j1, j2 in filtered_edges:\n",
    "    x0, y0, z0 = joint_coords[j1]\n",
    "    x1, y1, z1 = joint_coords[j2]\n",
    "    edge_traces.append(go.Scatter3d(\n",
    "        x=[x0, x1], y=[y0, y1], z=[z0, z1],\n",
    "        mode='lines',\n",
    "        line=dict(color='gray', width=4),\n",
    "        hoverinfo='none'\n",
    "    ))\n",
    "\n",
    "# Step 10: Plot interactive 3D skeleton\n",
    "fig = go.Figure(data=edge_traces + [joint_trace])\n",
    "fig.update_layout(\n",
    "    scene=dict(\n",
    "        xaxis_title='X', yaxis_title='Y', zaxis_title='Z',\n",
    "        aspectmode='data'\n",
    "    ),\n",
    "    title=\"🧍 Filtered 3D Skeleton (Torso + Limbs)\",\n",
    "    showlegend=False\n",
    ")\n",
    "fig.show()\n"
   ]
  },
  {
   "cell_type": "code",
   "execution_count": 18,
   "id": "fc4f7a81",
   "metadata": {},
   "outputs": [
    {
     "name": "stdout",
     "output_type": "stream",
     "text": [
      "\n",
      "📌 Coordinates of filtered joints (centered at pelvis):\n",
      "PELVIS: (0.0, 0.0, 0.0)\n",
      "SPINE_NAVAL: (-382.9826133983633, -7263.070367328313, 6849.97728086331)\n",
      "SPINE_CHEST: (7286.030307224484, -8100.648371548754, -488.4256109582617)\n",
      "NECK: (3.9514603653892166, 20.067918982590527, -794.9933073510997)\n",
      "CLAVICLE_LEFT: (-550.8775100097585, -7378.03400401116, 6873.123812031616)\n",
      "SHOULDER_LEFT: (7264.909352652288, -8054.5933508957305, -536.9846802119005)\n",
      "ELBOW_LEFT: (7.034187621476072, 35.16656848146886, -427.65422685019985)\n",
      "WRIST_LEFT: (-685.4462458442371, -7498.256059237415, 6792.383920204547)\n",
      "HAND_LEFT: (7251.018258998935, -7839.60692006118, -437.54079669666385)\n",
      "HANDTIP_LEFT: (11.600718539750208, 137.7158207101802, -89.49397598145038)\n",
      "THUMB_LEFT: (-891.3194190403383, -7580.188993965025, 6893.277007260304)\n",
      "CLAVICLE_RIGHT: (7255.648884125792, -7641.491048864595, -445.5933654149116)\n",
      "SHOULDER_RIGHT: (42.18547779960667, 77.44945551729597, 18.863785374632357)\n",
      "ELBOW_RIGHT: (-857.0395588222568, -7636.185511639154, 6771.315619212619)\n",
      "WRIST_RIGHT: (7248.474752527182, -7605.454935230547, -400.114846153347)\n",
      "HAND_RIGHT: (162.06139227940014, 6.274873287447008, -1378.5519859578576)\n",
      "HANDTIP_RIGHT: (-802.0991264302088, -7632.854724285026, 6834.5157658746775)\n",
      "THUMB_RIGHT: (7217.042271698854, -7539.71710109577, -454.6245928272637)\n",
      "HIP_LEFT: (215.13645817519958, -70.01462306409576, -1412.5180697228877)\n",
      "KNEE_LEFT: (-547.3721561038976, -7590.3926981975565, 6696.517783314612)\n",
      "ANKLE_LEFT: (7248.541991118693, -7578.165204880045, -429.13911326384687)\n",
      "FOOT_LEFT: (185.02862874347727, -32.735931285033985, -1450.9862383650332)\n",
      "HIP_RIGHT: (-333.9721329850584, -7156.698296471803, 6722.6423314802905)\n",
      "KNEE_RIGHT: (7204.557358250228, -7624.422179019413, -343.1533874820797)\n",
      "ANKLE_RIGHT: (153.25413751035745, 45.58404443736708, -1454.8508660075543)\n",
      "FOOT_RIGHT: (-260.9872232312049, -7232.448550052081, 6806.564122861627)\n"
     ]
    }
   ],
   "source": [
    "# Print coordinates for the filtered joints only\n",
    "print(\"\\n📌 Coordinates of filtered joints (centered at pelvis):\")\n",
    "for joint in core_joints:\n",
    "    print(f\"{joint}: {joint_coords[joint]}\")"
   ]
  },
  {
   "cell_type": "code",
   "execution_count": null,
   "id": "71b2555b",
   "metadata": {},
   "outputs": [],
   "source": []
  },
  {
   "cell_type": "code",
   "execution_count": null,
   "id": "f2c86085",
   "metadata": {},
   "outputs": [],
   "source": []
  },
  {
   "cell_type": "code",
   "execution_count": null,
   "id": "fe8ec76d",
   "metadata": {},
   "outputs": [],
   "source": [
    "import pandas as pd\n",
    "\n",
    "# Load dataset\n",
    "df = pd.read_csv(path)\n",
    "\n",
    "# Filter for 'Fast' walking speed\n",
    "df_fast = df[df['walking_speed'] == 'Fast'].copy()\n",
    "\n",
    "# Select one frame from a specific patient\n",
    "example_patient_id = df_fast['patient_id'].unique()[0]\n",
    "example_frame = df_fast[df_fast['patient_id'] == example_patient_id].iloc[0]\n"
   ]
  },
  {
   "cell_type": "code",
   "execution_count": 15,
   "id": "ed34e546",
   "metadata": {},
   "outputs": [
    {
     "name": "stdout",
     "output_type": "stream",
     "text": [
      "Example columns in CSV: ['patient_id', 'trial', 'walking_speed', 't_uniform', 'ACC_1', 'ACC_2', 'ACC_3', 'ACC_4', 'ACC_5', 'ACC_6', 'accel_energy_total', 'footfall_event_times', 'PELVIS_X', 'SPINE_NAVAL_X', 'SPINE_CHEST_X']\n",
      "Missing joint columns: []\n"
     ]
    }
   ],
   "source": [
    "print(\"Example columns in CSV:\", list(df_fast.columns)[:15])\n",
    "missing = [f'{j}_X' for j in joints if f'{j}_X' not in df_fast.columns]\n",
    "print(\"Missing joint columns:\", missing)"
   ]
  },
  {
   "cell_type": "code",
   "execution_count": 3,
   "id": "6a4e1a43",
   "metadata": {},
   "outputs": [
    {
     "name": "stdout",
     "output_type": "stream",
     "text": [
      "PELVIS: (0.0, 0.0, 0.0)\n",
      "SPINE_NAVAL: (-382.9826133983633, -7263.070367328313, 6849.97728086331)\n",
      "SPINE_CHEST: (7286.030307224484, -8100.648371548754, -488.4256109582617)\n",
      "NECK: (3.9514603653892166, 20.067918982590527, -794.9933073510997)\n",
      "CLAVICLE_LEFT: (-550.8775100097585, -7378.03400401116, 6873.123812031616)\n"
     ]
    }
   ],
   "source": [
    "# Define joints to extract\n",
    "joints = ['PELVIS', 'SPINE_NAVAL', 'SPINE_CHEST', 'NECK', 'CLAVICLE_LEFT', 'SHOULDER_LEFT',\n",
    "          'ELBOW_LEFT', 'WRIST_LEFT', 'HAND_LEFT', 'HANDTIP_LEFT', 'THUMB_LEFT',\n",
    "          'CLAVICLE_RIGHT', 'SHOULDER_RIGHT', 'ELBOW_RIGHT', 'WRIST_RIGHT', 'HAND_RIGHT',\n",
    "          'HANDTIP_RIGHT', 'THUMB_RIGHT', 'HIP_LEFT', 'KNEE_LEFT', 'ANKLE_LEFT',\n",
    "          'FOOT_LEFT', 'HIP_RIGHT', 'KNEE_RIGHT', 'ANKLE_RIGHT', 'FOOT_RIGHT',\n",
    "          'HEAD', 'NOSE', 'EYE_LEFT', 'EAR_LEFT', 'EYE_RIGHT', 'EAR_RIGHT']\n",
    "\n",
    "# Get pelvis position for normalization\n",
    "pelvis_x = example_frame['PELVIS_X']\n",
    "pelvis_y = example_frame['PELVIS_Y']\n",
    "pelvis_z = example_frame['PELVIS_Z']\n",
    "\n",
    "# Extract and normalize joint positions\n",
    "joint_coords = {}\n",
    "for joint in joints:\n",
    "    x = example_frame[f\"{joint}_X\"] - pelvis_x\n",
    "    y = example_frame[f\"{joint}_Y\"] - pelvis_y\n",
    "    z = example_frame[f\"{joint}_Z\"] - pelvis_z\n",
    "    joint_coords[joint] = (x, y, z)\n",
    "\n",
    "# Preview a few\n",
    "for j in list(joint_coords.keys())[:5]:\n",
    "    print(f\"{j}: {joint_coords[j]}\")\n"
   ]
  },
  {
   "cell_type": "code",
   "execution_count": 4,
   "id": "c6f34bb9",
   "metadata": {},
   "outputs": [],
   "source": [
    "edges = [('PELVIS', 'SPINE_NAVAL'), ('SPINE_NAVAL', 'SPINE_CHEST'), ('SPINE_CHEST', 'NECK'),\n",
    "         ('NECK', 'HEAD'), ('SPINE_CHEST', 'CLAVICLE_LEFT'), ('CLAVICLE_LEFT', 'SHOULDER_LEFT'),\n",
    "         ('SHOULDER_LEFT', 'ELBOW_LEFT'), ('ELBOW_LEFT', 'WRIST_LEFT'), ('WRIST_LEFT', 'HAND_LEFT'),\n",
    "         ('HAND_LEFT', 'HANDTIP_LEFT'), ('WRIST_LEFT', 'THUMB_LEFT'), ('SPINE_CHEST', 'CLAVICLE_RIGHT'),\n",
    "         ('CLAVICLE_RIGHT', 'SHOULDER_RIGHT'), ('SHOULDER_RIGHT', 'ELBOW_RIGHT'), ('ELBOW_RIGHT', 'WRIST_RIGHT'),\n",
    "         ('WRIST_RIGHT', 'HAND_RIGHT'), ('HAND_RIGHT', 'HANDTIP_RIGHT'), ('WRIST_RIGHT', 'THUMB_RIGHT'),\n",
    "         ('PELVIS', 'HIP_LEFT'), ('HIP_LEFT', 'KNEE_LEFT'), ('KNEE_LEFT', 'ANKLE_LEFT'),\n",
    "         ('ANKLE_LEFT', 'FOOT_LEFT'), ('PELVIS', 'HIP_RIGHT'), ('HIP_RIGHT', 'KNEE_RIGHT'),\n",
    "         ('KNEE_RIGHT', 'ANKLE_RIGHT'), ('ANKLE_RIGHT', 'FOOT_RIGHT'),\n",
    "         ('HEAD', 'NOSE'), ('HEAD', 'EYE_LEFT'), ('HEAD', 'EYE_RIGHT'),\n",
    "         ('HEAD', 'EAR_LEFT'), ('HEAD', 'EAR_RIGHT')]\n"
   ]
  },
  {
   "cell_type": "code",
   "execution_count": 8,
   "id": "64142f69",
   "metadata": {},
   "outputs": [],
   "source": [
    "import torch\n",
    "import torch.nn as nn\n",
    "import torch.nn.functional as F\n",
    "from torch_geometric.nn import GCNConv\n",
    "from torch_geometric.data import DataLoader, Dataset, Data\n",
    "from sklearn.metrics import accuracy_score, f1_score, recall_score, precision_score, roc_auc_score, confusion_matrix, roc_curve\n",
    "import matplotlib.pyplot as plt\n",
    "import pandas as pd\n",
    "import numpy as np\n",
    "import plotly.graph_objs as go\n",
    "from plotly.subplots import make_subplots\n",
    "\n",
    "# Define joints and edges\n",
    "joints = [\n",
    "    'PELVIS', 'SPINE_NAVAL', 'SPINE_CHEST', 'NECK', 'CLAVICLE_LEFT', 'SHOULDER_LEFT',\n",
    "    'ELBOW_LEFT', 'WRIST_LEFT', 'HAND_LEFT', 'HANDTIP_LEFT', 'THUMB_LEFT',\n",
    "    'CLAVICLE_RIGHT', 'SHOULDER_RIGHT', 'ELBOW_RIGHT', 'WRIST_RIGHT', 'HAND_RIGHT',\n",
    "    'HANDTIP_RIGHT', 'THUMB_RIGHT', 'HIP_LEFT', 'KNEE_LEFT', 'ANKLE_LEFT',\n",
    "    'FOOT_LEFT', 'HIP_RIGHT', 'KNEE_RIGHT', 'ANKLE_RIGHT', 'FOOT_RIGHT',\n",
    "    'HEAD', 'NOSE', 'EYE_LEFT', 'EAR_LEFT', 'EYE_RIGHT', 'EAR_RIGHT'\n",
    "]\n",
    "\n",
    "edges = [\n",
    "    ('PELVIS', 'SPINE_NAVAL'), ('SPINE_NAVAL', 'SPINE_CHEST'), ('SPINE_CHEST', 'NECK'),\n",
    "    ('NECK', 'HEAD'), ('SPINE_CHEST', 'CLAVICLE_LEFT'), ('CLAVICLE_LEFT', 'SHOULDER_LEFT'),\n",
    "    ('SHOULDER_LEFT', 'ELBOW_LEFT'), ('ELBOW_LEFT', 'WRIST_LEFT'), ('WRIST_LEFT', 'HAND_LEFT'),\n",
    "    ('HAND_LEFT', 'HANDTIP_LEFT'), ('WRIST_LEFT', 'THUMB_LEFT'), ('SPINE_CHEST', 'CLAVICLE_RIGHT'),\n",
    "    ('CLAVICLE_RIGHT', 'SHOULDER_RIGHT'), ('SHOULDER_RIGHT', 'ELBOW_RIGHT'), ('ELBOW_RIGHT', 'WRIST_RIGHT'),\n",
    "    ('WRIST_RIGHT', 'HAND_RIGHT'), ('HAND_RIGHT', 'HANDTIP_RIGHT'), ('WRIST_RIGHT', 'THUMB_RIGHT'),\n",
    "    ('PELVIS', 'HIP_LEFT'), ('HIP_LEFT', 'KNEE_LEFT'), ('KNEE_LEFT', 'ANKLE_LEFT'),\n",
    "    ('ANKLE_LEFT', 'FOOT_LEFT'), ('PELVIS', 'HIP_RIGHT'), ('HIP_RIGHT', 'KNEE_RIGHT'),\n",
    "    ('KNEE_RIGHT', 'ANKLE_RIGHT'), ('ANKLE_RIGHT', 'FOOT_RIGHT'),\n",
    "    ('HEAD', 'NOSE'),('HEAD','EYE_LEFT'), ('HEAD', 'EYE_RIGHT'), ('HEAD', 'EAR_LEFT'), ('HEAD', 'EAR_RIGHT')\n",
    "]\n",
    "\n",
    "joint_to_idx = {joint: idx for idx, joint in enumerate(joints)}\n",
    "\n",
    "edge_index = torch.tensor(\n",
    "    [[joint_to_idx[src], joint_to_idx[dst]] for src, dst in edges] +\n",
    "    [[joint_to_idx[dst], joint_to_idx[src]] for src, dst in edges],  # Bidirectional edges\n",
    "    dtype=torch.long)"
   ]
  },
  {
   "cell_type": "code",
   "execution_count": 9,
   "id": "efb651ce",
   "metadata": {},
   "outputs": [
    {
     "data": {
      "application/vnd.plotly.v1+json": {
       "config": {
        "plotlyServerURL": "https://plot.ly"
       },
       "data": [
        {
         "hoverinfo": "none",
         "line": {
          "color": "gray",
          "width": 4
         },
         "mode": "lines",
         "type": "scatter3d",
         "x": [
          0,
          -382.9826133983633
         ],
         "y": [
          0,
          -7263.070367328313
         ],
         "z": [
          0,
          6849.97728086331
         ]
        },
        {
         "hoverinfo": "none",
         "line": {
          "color": "gray",
          "width": 4
         },
         "mode": "lines",
         "type": "scatter3d",
         "x": [
          -382.9826133983633,
          7286.030307224484
         ],
         "y": [
          -7263.070367328313,
          -8100.648371548754
         ],
         "z": [
          6849.97728086331,
          -488.4256109582617
         ]
        },
        {
         "hoverinfo": "none",
         "line": {
          "color": "gray",
          "width": 4
         },
         "mode": "lines",
         "type": "scatter3d",
         "x": [
          7286.030307224484,
          3.9514603653892166
         ],
         "y": [
          -8100.648371548754,
          20.067918982590527
         ],
         "z": [
          -488.4256109582617,
          -794.9933073510997
         ]
        },
        {
         "hoverinfo": "none",
         "line": {
          "color": "gray",
          "width": 4
         },
         "mode": "lines",
         "type": "scatter3d",
         "x": [
          3.9514603653892166,
          7249.271050652712
         ],
         "y": [
          20.067918982590527,
          -7253.689860250121
         ],
         "z": [
          -794.9933073510997,
          -475.22115764378276
         ]
        },
        {
         "hoverinfo": "none",
         "line": {
          "color": "gray",
          "width": 4
         },
         "mode": "lines",
         "type": "scatter3d",
         "x": [
          7286.030307224484,
          -550.8775100097585
         ],
         "y": [
          -8100.648371548754,
          -7378.03400401116
         ],
         "z": [
          -488.4256109582617,
          6873.123812031616
         ]
        },
        {
         "hoverinfo": "none",
         "line": {
          "color": "gray",
          "width": 4
         },
         "mode": "lines",
         "type": "scatter3d",
         "x": [
          -550.8775100097585,
          7264.909352652288
         ],
         "y": [
          -7378.03400401116,
          -8054.5933508957305
         ],
         "z": [
          6873.123812031616,
          -536.9846802119005
         ]
        },
        {
         "hoverinfo": "none",
         "line": {
          "color": "gray",
          "width": 4
         },
         "mode": "lines",
         "type": "scatter3d",
         "x": [
          7264.909352652288,
          7.034187621476072
         ],
         "y": [
          -8054.5933508957305,
          35.16656848146886
         ],
         "z": [
          -536.9846802119005,
          -427.65422685019985
         ]
        },
        {
         "hoverinfo": "none",
         "line": {
          "color": "gray",
          "width": 4
         },
         "mode": "lines",
         "type": "scatter3d",
         "x": [
          7.034187621476072,
          -685.4462458442371
         ],
         "y": [
          35.16656848146886,
          -7498.256059237415
         ],
         "z": [
          -427.65422685019985,
          6792.383920204547
         ]
        },
        {
         "hoverinfo": "none",
         "line": {
          "color": "gray",
          "width": 4
         },
         "mode": "lines",
         "type": "scatter3d",
         "x": [
          -685.4462458442371,
          7251.018258998935
         ],
         "y": [
          -7498.256059237415,
          -7839.60692006118
         ],
         "z": [
          6792.383920204547,
          -437.54079669666385
         ]
        },
        {
         "hoverinfo": "none",
         "line": {
          "color": "gray",
          "width": 4
         },
         "mode": "lines",
         "type": "scatter3d",
         "x": [
          7251.018258998935,
          11.600718539750208
         ],
         "y": [
          -7839.60692006118,
          137.7158207101802
         ],
         "z": [
          -437.54079669666385,
          -89.49397598145038
         ]
        },
        {
         "hoverinfo": "none",
         "line": {
          "color": "gray",
          "width": 4
         },
         "mode": "lines",
         "type": "scatter3d",
         "x": [
          -685.4462458442371,
          -891.3194190403383
         ],
         "y": [
          -7498.256059237415,
          -7580.188993965025
         ],
         "z": [
          6792.383920204547,
          6893.277007260304
         ]
        },
        {
         "hoverinfo": "none",
         "line": {
          "color": "gray",
          "width": 4
         },
         "mode": "lines",
         "type": "scatter3d",
         "x": [
          7286.030307224484,
          7255.648884125792
         ],
         "y": [
          -8100.648371548754,
          -7641.491048864595
         ],
         "z": [
          -488.4256109582617,
          -445.5933654149116
         ]
        },
        {
         "hoverinfo": "none",
         "line": {
          "color": "gray",
          "width": 4
         },
         "mode": "lines",
         "type": "scatter3d",
         "x": [
          7255.648884125792,
          42.18547779960667
         ],
         "y": [
          -7641.491048864595,
          77.44945551729597
         ],
         "z": [
          -445.5933654149116,
          18.863785374632357
         ]
        },
        {
         "hoverinfo": "none",
         "line": {
          "color": "gray",
          "width": 4
         },
         "mode": "lines",
         "type": "scatter3d",
         "x": [
          42.18547779960667,
          -857.0395588222568
         ],
         "y": [
          77.44945551729597,
          -7636.185511639154
         ],
         "z": [
          18.863785374632357,
          6771.315619212619
         ]
        },
        {
         "hoverinfo": "none",
         "line": {
          "color": "gray",
          "width": 4
         },
         "mode": "lines",
         "type": "scatter3d",
         "x": [
          -857.0395588222568,
          7248.474752527182
         ],
         "y": [
          -7636.185511639154,
          -7605.454935230547
         ],
         "z": [
          6771.315619212619,
          -400.114846153347
         ]
        },
        {
         "hoverinfo": "none",
         "line": {
          "color": "gray",
          "width": 4
         },
         "mode": "lines",
         "type": "scatter3d",
         "x": [
          7248.474752527182,
          162.06139227940014
         ],
         "y": [
          -7605.454935230547,
          6.274873287447008
         ],
         "z": [
          -400.114846153347,
          -1378.5519859578576
         ]
        },
        {
         "hoverinfo": "none",
         "line": {
          "color": "gray",
          "width": 4
         },
         "mode": "lines",
         "type": "scatter3d",
         "x": [
          162.06139227940014,
          -802.0991264302088
         ],
         "y": [
          6.274873287447008,
          -7632.854724285026
         ],
         "z": [
          -1378.5519859578576,
          6834.5157658746775
         ]
        },
        {
         "hoverinfo": "none",
         "line": {
          "color": "gray",
          "width": 4
         },
         "mode": "lines",
         "type": "scatter3d",
         "x": [
          7248.474752527182,
          7217.042271698854
         ],
         "y": [
          -7605.454935230547,
          -7539.71710109577
         ],
         "z": [
          -400.114846153347,
          -454.6245928272637
         ]
        },
        {
         "hoverinfo": "none",
         "line": {
          "color": "gray",
          "width": 4
         },
         "mode": "lines",
         "type": "scatter3d",
         "x": [
          0,
          215.13645817519958
         ],
         "y": [
          0,
          -70.01462306409576
         ],
         "z": [
          0,
          -1412.5180697228877
         ]
        },
        {
         "hoverinfo": "none",
         "line": {
          "color": "gray",
          "width": 4
         },
         "mode": "lines",
         "type": "scatter3d",
         "x": [
          215.13645817519958,
          -547.3721561038976
         ],
         "y": [
          -70.01462306409576,
          -7590.3926981975565
         ],
         "z": [
          -1412.5180697228877,
          6696.517783314612
         ]
        },
        {
         "hoverinfo": "none",
         "line": {
          "color": "gray",
          "width": 4
         },
         "mode": "lines",
         "type": "scatter3d",
         "x": [
          -547.3721561038976,
          7248.541991118693
         ],
         "y": [
          -7590.3926981975565,
          -7578.165204880045
         ],
         "z": [
          6696.517783314612,
          -429.13911326384687
         ]
        },
        {
         "hoverinfo": "none",
         "line": {
          "color": "gray",
          "width": 4
         },
         "mode": "lines",
         "type": "scatter3d",
         "x": [
          7248.541991118693,
          185.02862874347727
         ],
         "y": [
          -7578.165204880045,
          -32.735931285033985
         ],
         "z": [
          -429.13911326384687,
          -1450.9862383650332
         ]
        },
        {
         "hoverinfo": "none",
         "line": {
          "color": "gray",
          "width": 4
         },
         "mode": "lines",
         "type": "scatter3d",
         "x": [
          0,
          -333.9721329850584
         ],
         "y": [
          0,
          -7156.698296471803
         ],
         "z": [
          0,
          6722.6423314802905
         ]
        },
        {
         "hoverinfo": "none",
         "line": {
          "color": "gray",
          "width": 4
         },
         "mode": "lines",
         "type": "scatter3d",
         "x": [
          -333.9721329850584,
          7204.557358250228
         ],
         "y": [
          -7156.698296471803,
          -7624.422179019413
         ],
         "z": [
          6722.6423314802905,
          -343.1533874820797
         ]
        },
        {
         "hoverinfo": "none",
         "line": {
          "color": "gray",
          "width": 4
         },
         "mode": "lines",
         "type": "scatter3d",
         "x": [
          7204.557358250228,
          153.25413751035745
         ],
         "y": [
          -7624.422179019413,
          45.58404443736708
         ],
         "z": [
          -343.1533874820797,
          -1454.8508660075543
         ]
        },
        {
         "hoverinfo": "none",
         "line": {
          "color": "gray",
          "width": 4
         },
         "mode": "lines",
         "type": "scatter3d",
         "x": [
          153.25413751035745,
          -260.9872232312049
         ],
         "y": [
          45.58404443736708,
          -7232.448550052081
         ],
         "z": [
          -1454.8508660075543,
          6806.564122861627
         ]
        },
        {
         "hoverinfo": "none",
         "line": {
          "color": "gray",
          "width": 4
         },
         "mode": "lines",
         "type": "scatter3d",
         "x": [
          7249.271050652712,
          97.66278094720745
         ],
         "y": [
          -7253.689860250121,
          13.287909856360784
         ],
         "z": [
          -475.22115764378276,
          -1436.5782186407284
         ]
        },
        {
         "hoverinfo": "none",
         "line": {
          "color": "gray",
          "width": 4
         },
         "mode": "lines",
         "type": "scatter3d",
         "x": [
          7249.271050652712,
          -332.59849245286824
         ],
         "y": [
          -7253.689860250121,
          -7165.559295414352
         ],
         "z": [
          -475.22115764378276,
          6733.864677887524
         ]
        },
        {
         "hoverinfo": "none",
         "line": {
          "color": "gray",
          "width": 4
         },
         "mode": "lines",
         "type": "scatter3d",
         "x": [
          7249.271050652712,
          121.64582005185778
         ],
         "y": [
          -7253.689860250121,
          158.81171291560986
         ],
         "z": [
          -475.22115764378276,
          -1420.467946350799
         ]
        },
        {
         "hoverinfo": "none",
         "line": {
          "color": "gray",
          "width": 4
         },
         "mode": "lines",
         "type": "scatter3d",
         "x": [
          7249.271050652712,
          7201.687256492041
         ],
         "y": [
          -7253.689860250121,
          -6928.207767389156
         ],
         "z": [
          -475.22115764378276,
          -488.4099205863527
         ]
        },
        {
         "hoverinfo": "none",
         "line": {
          "color": "gray",
          "width": 4
         },
         "mode": "lines",
         "type": "scatter3d",
         "x": [
          7249.271050652712,
          -222.7530012812801
         ],
         "y": [
          -7253.689860250121,
          -7116.627618764706
         ],
         "z": [
          -475.22115764378276,
          6856.114546939924
         ]
        },
        {
         "marker": {
          "color": "red",
          "size": 5
         },
         "mode": "markers+text",
         "text": [
          "PELVIS",
          "SPINE_NAVAL",
          "SPINE_CHEST",
          "NECK",
          "CLAVICLE_LEFT",
          "SHOULDER_LEFT",
          "ELBOW_LEFT",
          "WRIST_LEFT",
          "HAND_LEFT",
          "HANDTIP_LEFT",
          "THUMB_LEFT",
          "CLAVICLE_RIGHT",
          "SHOULDER_RIGHT",
          "ELBOW_RIGHT",
          "WRIST_RIGHT",
          "HAND_RIGHT",
          "HANDTIP_RIGHT",
          "THUMB_RIGHT",
          "HIP_LEFT",
          "KNEE_LEFT",
          "ANKLE_LEFT",
          "FOOT_LEFT",
          "HIP_RIGHT",
          "KNEE_RIGHT",
          "ANKLE_RIGHT",
          "FOOT_RIGHT",
          "HEAD",
          "NOSE",
          "EYE_LEFT",
          "EAR_LEFT",
          "EYE_RIGHT",
          "EAR_RIGHT"
         ],
         "textposition": "top center",
         "type": "scatter3d",
         "x": [
          0,
          -382.9826133983633,
          7286.030307224484,
          3.9514603653892166,
          -550.8775100097585,
          7264.909352652288,
          7.034187621476072,
          -685.4462458442371,
          7251.018258998935,
          11.600718539750208,
          -891.3194190403383,
          7255.648884125792,
          42.18547779960667,
          -857.0395588222568,
          7248.474752527182,
          162.06139227940014,
          -802.0991264302088,
          7217.042271698854,
          215.13645817519958,
          -547.3721561038976,
          7248.541991118693,
          185.02862874347727,
          -333.9721329850584,
          7204.557358250228,
          153.25413751035745,
          -260.9872232312049,
          7249.271050652712,
          97.66278094720745,
          -332.59849245286824,
          7201.687256492041,
          121.64582005185778,
          -222.7530012812801
         ],
         "y": [
          0,
          -7263.070367328313,
          -8100.648371548754,
          20.067918982590527,
          -7378.03400401116,
          -8054.5933508957305,
          35.16656848146886,
          -7498.256059237415,
          -7839.60692006118,
          137.7158207101802,
          -7580.188993965025,
          -7641.491048864595,
          77.44945551729597,
          -7636.185511639154,
          -7605.454935230547,
          6.274873287447008,
          -7632.854724285026,
          -7539.71710109577,
          -70.01462306409576,
          -7590.3926981975565,
          -7578.165204880045,
          -32.735931285033985,
          -7156.698296471803,
          -7624.422179019413,
          45.58404443736708,
          -7232.448550052081,
          -7253.689860250121,
          13.287909856360784,
          -7165.559295414352,
          -6928.207767389156,
          158.81171291560986,
          -7116.627618764706
         ],
         "z": [
          0,
          6849.97728086331,
          -488.4256109582617,
          -794.9933073510997,
          6873.123812031616,
          -536.9846802119005,
          -427.65422685019985,
          6792.383920204547,
          -437.54079669666385,
          -89.49397598145038,
          6893.277007260304,
          -445.5933654149116,
          18.863785374632357,
          6771.315619212619,
          -400.114846153347,
          -1378.5519859578576,
          6834.5157658746775,
          -454.6245928272637,
          -1412.5180697228877,
          6696.517783314612,
          -429.13911326384687,
          -1450.9862383650332,
          6722.6423314802905,
          -343.1533874820797,
          -1454.8508660075543,
          6806.564122861627,
          -475.22115764378276,
          -1436.5782186407284,
          6733.864677887524,
          -488.4099205863527,
          -1420.467946350799,
          6856.114546939924
         ]
        }
       ],
       "layout": {
        "scene": {
         "aspectmode": "data",
         "xaxis": {
          "title": {
           "text": "X"
          }
         },
         "yaxis": {
          "title": {
           "text": "Y"
          }
         },
         "zaxis": {
          "title": {
           "text": "Z"
          }
         }
        },
        "showlegend": false,
        "template": {
         "data": {
          "bar": [
           {
            "error_x": {
             "color": "#2a3f5f"
            },
            "error_y": {
             "color": "#2a3f5f"
            },
            "marker": {
             "line": {
              "color": "#E5ECF6",
              "width": 0.5
             },
             "pattern": {
              "fillmode": "overlay",
              "size": 10,
              "solidity": 0.2
             }
            },
            "type": "bar"
           }
          ],
          "barpolar": [
           {
            "marker": {
             "line": {
              "color": "#E5ECF6",
              "width": 0.5
             },
             "pattern": {
              "fillmode": "overlay",
              "size": 10,
              "solidity": 0.2
             }
            },
            "type": "barpolar"
           }
          ],
          "carpet": [
           {
            "aaxis": {
             "endlinecolor": "#2a3f5f",
             "gridcolor": "white",
             "linecolor": "white",
             "minorgridcolor": "white",
             "startlinecolor": "#2a3f5f"
            },
            "baxis": {
             "endlinecolor": "#2a3f5f",
             "gridcolor": "white",
             "linecolor": "white",
             "minorgridcolor": "white",
             "startlinecolor": "#2a3f5f"
            },
            "type": "carpet"
           }
          ],
          "choropleth": [
           {
            "colorbar": {
             "outlinewidth": 0,
             "ticks": ""
            },
            "type": "choropleth"
           }
          ],
          "contour": [
           {
            "colorbar": {
             "outlinewidth": 0,
             "ticks": ""
            },
            "colorscale": [
             [
              0,
              "#0d0887"
             ],
             [
              0.1111111111111111,
              "#46039f"
             ],
             [
              0.2222222222222222,
              "#7201a8"
             ],
             [
              0.3333333333333333,
              "#9c179e"
             ],
             [
              0.4444444444444444,
              "#bd3786"
             ],
             [
              0.5555555555555556,
              "#d8576b"
             ],
             [
              0.6666666666666666,
              "#ed7953"
             ],
             [
              0.7777777777777778,
              "#fb9f3a"
             ],
             [
              0.8888888888888888,
              "#fdca26"
             ],
             [
              1,
              "#f0f921"
             ]
            ],
            "type": "contour"
           }
          ],
          "contourcarpet": [
           {
            "colorbar": {
             "outlinewidth": 0,
             "ticks": ""
            },
            "type": "contourcarpet"
           }
          ],
          "heatmap": [
           {
            "colorbar": {
             "outlinewidth": 0,
             "ticks": ""
            },
            "colorscale": [
             [
              0,
              "#0d0887"
             ],
             [
              0.1111111111111111,
              "#46039f"
             ],
             [
              0.2222222222222222,
              "#7201a8"
             ],
             [
              0.3333333333333333,
              "#9c179e"
             ],
             [
              0.4444444444444444,
              "#bd3786"
             ],
             [
              0.5555555555555556,
              "#d8576b"
             ],
             [
              0.6666666666666666,
              "#ed7953"
             ],
             [
              0.7777777777777778,
              "#fb9f3a"
             ],
             [
              0.8888888888888888,
              "#fdca26"
             ],
             [
              1,
              "#f0f921"
             ]
            ],
            "type": "heatmap"
           }
          ],
          "histogram": [
           {
            "marker": {
             "pattern": {
              "fillmode": "overlay",
              "size": 10,
              "solidity": 0.2
             }
            },
            "type": "histogram"
           }
          ],
          "histogram2d": [
           {
            "colorbar": {
             "outlinewidth": 0,
             "ticks": ""
            },
            "colorscale": [
             [
              0,
              "#0d0887"
             ],
             [
              0.1111111111111111,
              "#46039f"
             ],
             [
              0.2222222222222222,
              "#7201a8"
             ],
             [
              0.3333333333333333,
              "#9c179e"
             ],
             [
              0.4444444444444444,
              "#bd3786"
             ],
             [
              0.5555555555555556,
              "#d8576b"
             ],
             [
              0.6666666666666666,
              "#ed7953"
             ],
             [
              0.7777777777777778,
              "#fb9f3a"
             ],
             [
              0.8888888888888888,
              "#fdca26"
             ],
             [
              1,
              "#f0f921"
             ]
            ],
            "type": "histogram2d"
           }
          ],
          "histogram2dcontour": [
           {
            "colorbar": {
             "outlinewidth": 0,
             "ticks": ""
            },
            "colorscale": [
             [
              0,
              "#0d0887"
             ],
             [
              0.1111111111111111,
              "#46039f"
             ],
             [
              0.2222222222222222,
              "#7201a8"
             ],
             [
              0.3333333333333333,
              "#9c179e"
             ],
             [
              0.4444444444444444,
              "#bd3786"
             ],
             [
              0.5555555555555556,
              "#d8576b"
             ],
             [
              0.6666666666666666,
              "#ed7953"
             ],
             [
              0.7777777777777778,
              "#fb9f3a"
             ],
             [
              0.8888888888888888,
              "#fdca26"
             ],
             [
              1,
              "#f0f921"
             ]
            ],
            "type": "histogram2dcontour"
           }
          ],
          "mesh3d": [
           {
            "colorbar": {
             "outlinewidth": 0,
             "ticks": ""
            },
            "type": "mesh3d"
           }
          ],
          "parcoords": [
           {
            "line": {
             "colorbar": {
              "outlinewidth": 0,
              "ticks": ""
             }
            },
            "type": "parcoords"
           }
          ],
          "pie": [
           {
            "automargin": true,
            "type": "pie"
           }
          ],
          "scatter": [
           {
            "fillpattern": {
             "fillmode": "overlay",
             "size": 10,
             "solidity": 0.2
            },
            "type": "scatter"
           }
          ],
          "scatter3d": [
           {
            "line": {
             "colorbar": {
              "outlinewidth": 0,
              "ticks": ""
             }
            },
            "marker": {
             "colorbar": {
              "outlinewidth": 0,
              "ticks": ""
             }
            },
            "type": "scatter3d"
           }
          ],
          "scattercarpet": [
           {
            "marker": {
             "colorbar": {
              "outlinewidth": 0,
              "ticks": ""
             }
            },
            "type": "scattercarpet"
           }
          ],
          "scattergeo": [
           {
            "marker": {
             "colorbar": {
              "outlinewidth": 0,
              "ticks": ""
             }
            },
            "type": "scattergeo"
           }
          ],
          "scattergl": [
           {
            "marker": {
             "colorbar": {
              "outlinewidth": 0,
              "ticks": ""
             }
            },
            "type": "scattergl"
           }
          ],
          "scattermap": [
           {
            "marker": {
             "colorbar": {
              "outlinewidth": 0,
              "ticks": ""
             }
            },
            "type": "scattermap"
           }
          ],
          "scattermapbox": [
           {
            "marker": {
             "colorbar": {
              "outlinewidth": 0,
              "ticks": ""
             }
            },
            "type": "scattermapbox"
           }
          ],
          "scatterpolar": [
           {
            "marker": {
             "colorbar": {
              "outlinewidth": 0,
              "ticks": ""
             }
            },
            "type": "scatterpolar"
           }
          ],
          "scatterpolargl": [
           {
            "marker": {
             "colorbar": {
              "outlinewidth": 0,
              "ticks": ""
             }
            },
            "type": "scatterpolargl"
           }
          ],
          "scatterternary": [
           {
            "marker": {
             "colorbar": {
              "outlinewidth": 0,
              "ticks": ""
             }
            },
            "type": "scatterternary"
           }
          ],
          "surface": [
           {
            "colorbar": {
             "outlinewidth": 0,
             "ticks": ""
            },
            "colorscale": [
             [
              0,
              "#0d0887"
             ],
             [
              0.1111111111111111,
              "#46039f"
             ],
             [
              0.2222222222222222,
              "#7201a8"
             ],
             [
              0.3333333333333333,
              "#9c179e"
             ],
             [
              0.4444444444444444,
              "#bd3786"
             ],
             [
              0.5555555555555556,
              "#d8576b"
             ],
             [
              0.6666666666666666,
              "#ed7953"
             ],
             [
              0.7777777777777778,
              "#fb9f3a"
             ],
             [
              0.8888888888888888,
              "#fdca26"
             ],
             [
              1,
              "#f0f921"
             ]
            ],
            "type": "surface"
           }
          ],
          "table": [
           {
            "cells": {
             "fill": {
              "color": "#EBF0F8"
             },
             "line": {
              "color": "white"
             }
            },
            "header": {
             "fill": {
              "color": "#C8D4E3"
             },
             "line": {
              "color": "white"
             }
            },
            "type": "table"
           }
          ]
         },
         "layout": {
          "annotationdefaults": {
           "arrowcolor": "#2a3f5f",
           "arrowhead": 0,
           "arrowwidth": 1
          },
          "autotypenumbers": "strict",
          "coloraxis": {
           "colorbar": {
            "outlinewidth": 0,
            "ticks": ""
           }
          },
          "colorscale": {
           "diverging": [
            [
             0,
             "#8e0152"
            ],
            [
             0.1,
             "#c51b7d"
            ],
            [
             0.2,
             "#de77ae"
            ],
            [
             0.3,
             "#f1b6da"
            ],
            [
             0.4,
             "#fde0ef"
            ],
            [
             0.5,
             "#f7f7f7"
            ],
            [
             0.6,
             "#e6f5d0"
            ],
            [
             0.7,
             "#b8e186"
            ],
            [
             0.8,
             "#7fbc41"
            ],
            [
             0.9,
             "#4d9221"
            ],
            [
             1,
             "#276419"
            ]
           ],
           "sequential": [
            [
             0,
             "#0d0887"
            ],
            [
             0.1111111111111111,
             "#46039f"
            ],
            [
             0.2222222222222222,
             "#7201a8"
            ],
            [
             0.3333333333333333,
             "#9c179e"
            ],
            [
             0.4444444444444444,
             "#bd3786"
            ],
            [
             0.5555555555555556,
             "#d8576b"
            ],
            [
             0.6666666666666666,
             "#ed7953"
            ],
            [
             0.7777777777777778,
             "#fb9f3a"
            ],
            [
             0.8888888888888888,
             "#fdca26"
            ],
            [
             1,
             "#f0f921"
            ]
           ],
           "sequentialminus": [
            [
             0,
             "#0d0887"
            ],
            [
             0.1111111111111111,
             "#46039f"
            ],
            [
             0.2222222222222222,
             "#7201a8"
            ],
            [
             0.3333333333333333,
             "#9c179e"
            ],
            [
             0.4444444444444444,
             "#bd3786"
            ],
            [
             0.5555555555555556,
             "#d8576b"
            ],
            [
             0.6666666666666666,
             "#ed7953"
            ],
            [
             0.7777777777777778,
             "#fb9f3a"
            ],
            [
             0.8888888888888888,
             "#fdca26"
            ],
            [
             1,
             "#f0f921"
            ]
           ]
          },
          "colorway": [
           "#636efa",
           "#EF553B",
           "#00cc96",
           "#ab63fa",
           "#FFA15A",
           "#19d3f3",
           "#FF6692",
           "#B6E880",
           "#FF97FF",
           "#FECB52"
          ],
          "font": {
           "color": "#2a3f5f"
          },
          "geo": {
           "bgcolor": "white",
           "lakecolor": "white",
           "landcolor": "#E5ECF6",
           "showlakes": true,
           "showland": true,
           "subunitcolor": "white"
          },
          "hoverlabel": {
           "align": "left"
          },
          "hovermode": "closest",
          "mapbox": {
           "style": "light"
          },
          "paper_bgcolor": "white",
          "plot_bgcolor": "#E5ECF6",
          "polar": {
           "angularaxis": {
            "gridcolor": "white",
            "linecolor": "white",
            "ticks": ""
           },
           "bgcolor": "#E5ECF6",
           "radialaxis": {
            "gridcolor": "white",
            "linecolor": "white",
            "ticks": ""
           }
          },
          "scene": {
           "xaxis": {
            "backgroundcolor": "#E5ECF6",
            "gridcolor": "white",
            "gridwidth": 2,
            "linecolor": "white",
            "showbackground": true,
            "ticks": "",
            "zerolinecolor": "white"
           },
           "yaxis": {
            "backgroundcolor": "#E5ECF6",
            "gridcolor": "white",
            "gridwidth": 2,
            "linecolor": "white",
            "showbackground": true,
            "ticks": "",
            "zerolinecolor": "white"
           },
           "zaxis": {
            "backgroundcolor": "#E5ECF6",
            "gridcolor": "white",
            "gridwidth": 2,
            "linecolor": "white",
            "showbackground": true,
            "ticks": "",
            "zerolinecolor": "white"
           }
          },
          "shapedefaults": {
           "line": {
            "color": "#2a3f5f"
           }
          },
          "ternary": {
           "aaxis": {
            "gridcolor": "white",
            "linecolor": "white",
            "ticks": ""
           },
           "baxis": {
            "gridcolor": "white",
            "linecolor": "white",
            "ticks": ""
           },
           "bgcolor": "#E5ECF6",
           "caxis": {
            "gridcolor": "white",
            "linecolor": "white",
            "ticks": ""
           }
          },
          "title": {
           "x": 0.05
          },
          "xaxis": {
           "automargin": true,
           "gridcolor": "white",
           "linecolor": "white",
           "ticks": "",
           "title": {
            "standoff": 15
           },
           "zerolinecolor": "white",
           "zerolinewidth": 2
          },
          "yaxis": {
           "automargin": true,
           "gridcolor": "white",
           "linecolor": "white",
           "ticks": "",
           "title": {
            "standoff": 15
           },
           "zerolinecolor": "white",
           "zerolinewidth": 2
          }
         }
        },
        "title": {
         "text": "3D Human Skeleton (Normalized to Pelvis)"
        }
       }
      }
     },
     "metadata": {},
     "output_type": "display_data"
    }
   ],
   "source": [
    "import plotly.graph_objects as go\n",
    "\n",
    "# Create 3D edges\n",
    "edge_traces = []\n",
    "for j1, j2 in edges:\n",
    "    x0, y0, z0 = joint_coords[j1]\n",
    "    x1, y1, z1 = joint_coords[j2]\n",
    "    edge_traces.append(go.Scatter3d(\n",
    "        x=[x0, x1], y=[y0, y1], z=[z0, z1],\n",
    "        mode='lines',\n",
    "        line=dict(color='gray', width=4),\n",
    "        hoverinfo='none'\n",
    "    ))\n",
    "\n",
    "# Create 3D joint markers\n",
    "x_vals = [coord[0] for coord in joint_coords.values()]\n",
    "y_vals = [coord[1] for coord in joint_coords.values()]\n",
    "z_vals = [coord[2] for coord in joint_coords.values()]\n",
    "labels = list(joint_coords.keys())\n",
    "\n",
    "joint_trace = go.Scatter3d(\n",
    "    x=x_vals, y=y_vals, z=z_vals,\n",
    "    mode='markers+text',\n",
    "    marker=dict(size=5, color='red'),\n",
    "    text=labels,\n",
    "    textposition=\"top center\"\n",
    ")\n",
    "\n",
    "# Combine into a figure\n",
    "fig = go.Figure(data=edge_traces + [joint_trace])\n",
    "fig.update_layout(\n",
    "    scene=dict(\n",
    "        xaxis=dict(title='X'), yaxis=dict(title='Y'), zaxis=dict(title='Z'),\n",
    "        aspectmode='data'\n",
    "    ),\n",
    "    title=\"3D Human Skeleton (Normalized to Pelvis)\",\n",
    "    showlegend=False\n",
    ")\n",
    "\n",
    "fig.show()\n"
   ]
  },
  {
   "cell_type": "code",
   "execution_count": null,
   "id": "8d5ec7ee",
   "metadata": {},
   "outputs": [],
   "source": []
  },
  {
   "cell_type": "code",
   "execution_count": null,
   "id": "ffeda8fc",
   "metadata": {},
   "outputs": [],
   "source": []
  },
  {
   "cell_type": "code",
   "execution_count": null,
   "id": "5d46b8d5",
   "metadata": {},
   "outputs": [],
   "source": []
  },
  {
   "cell_type": "code",
   "execution_count": null,
   "id": "c5e9b4cd",
   "metadata": {},
   "outputs": [],
   "source": []
  },
  {
   "cell_type": "code",
   "execution_count": null,
   "id": "cd5ec69e",
   "metadata": {},
   "outputs": [],
   "source": []
  },
  {
   "cell_type": "code",
   "execution_count": null,
   "id": "a8e0c081",
   "metadata": {},
   "outputs": [],
   "source": []
  },
  {
   "cell_type": "code",
   "execution_count": null,
   "id": "e86e45c4",
   "metadata": {},
   "outputs": [],
   "source": []
  },
  {
   "cell_type": "code",
   "execution_count": null,
   "id": "5dff6ec2",
   "metadata": {},
   "outputs": [],
   "source": []
  },
  {
   "cell_type": "code",
   "execution_count": null,
   "id": "e7f1e93a",
   "metadata": {},
   "outputs": [],
   "source": []
  },
  {
   "cell_type": "code",
   "execution_count": null,
   "id": "ce77ccea",
   "metadata": {},
   "outputs": [],
   "source": []
  },
  {
   "cell_type": "code",
   "execution_count": null,
   "id": "b22298ed",
   "metadata": {},
   "outputs": [],
   "source": []
  },
  {
   "cell_type": "code",
   "execution_count": null,
   "id": "480b17db",
   "metadata": {},
   "outputs": [],
   "source": []
  },
  {
   "cell_type": "code",
   "execution_count": null,
   "id": "e97f5403",
   "metadata": {},
   "outputs": [],
   "source": []
  },
  {
   "cell_type": "code",
   "execution_count": null,
   "id": "cd3ae529",
   "metadata": {},
   "outputs": [],
   "source": []
  },
  {
   "cell_type": "code",
   "execution_count": null,
   "id": "0e7712ce",
   "metadata": {},
   "outputs": [],
   "source": []
  },
  {
   "cell_type": "code",
   "execution_count": null,
   "id": "ff52cf4f",
   "metadata": {},
   "outputs": [],
   "source": []
  },
  {
   "cell_type": "code",
   "execution_count": null,
   "id": "a9d4381a",
   "metadata": {},
   "outputs": [],
   "source": []
  },
  {
   "cell_type": "code",
   "execution_count": null,
   "id": "487520c9",
   "metadata": {},
   "outputs": [],
   "source": []
  },
  {
   "cell_type": "code",
   "execution_count": null,
   "id": "3d91ddd5",
   "metadata": {},
   "outputs": [],
   "source": []
  },
  {
   "cell_type": "code",
   "execution_count": null,
   "id": "385114f9",
   "metadata": {},
   "outputs": [],
   "source": []
  },
  {
   "cell_type": "code",
   "execution_count": null,
   "id": "82b9fe6f",
   "metadata": {},
   "outputs": [],
   "source": []
  },
  {
   "cell_type": "code",
   "execution_count": null,
   "id": "4dec1fdc",
   "metadata": {},
   "outputs": [],
   "source": []
  },
  {
   "cell_type": "code",
   "execution_count": null,
   "id": "221030db",
   "metadata": {},
   "outputs": [],
   "source": []
  },
  {
   "cell_type": "code",
   "execution_count": null,
   "id": "e0f04787",
   "metadata": {},
   "outputs": [],
   "source": []
  },
  {
   "cell_type": "code",
   "execution_count": null,
   "id": "2d013d12",
   "metadata": {},
   "outputs": [],
   "source": []
  },
  {
   "cell_type": "code",
   "execution_count": null,
   "id": "279fa595",
   "metadata": {},
   "outputs": [],
   "source": []
  },
  {
   "cell_type": "code",
   "execution_count": null,
   "id": "c6e1f62a",
   "metadata": {},
   "outputs": [],
   "source": []
  },
  {
   "cell_type": "code",
   "execution_count": null,
   "id": "d51bd84b",
   "metadata": {},
   "outputs": [],
   "source": []
  },
  {
   "cell_type": "code",
   "execution_count": 7,
   "id": "08d81014",
   "metadata": {},
   "outputs": [
    {
     "data": {
      "text/html": [
       "<div>\n",
       "<style scoped>\n",
       "    .dataframe tbody tr th:only-of-type {\n",
       "        vertical-align: middle;\n",
       "    }\n",
       "\n",
       "    .dataframe tbody tr th {\n",
       "        vertical-align: top;\n",
       "    }\n",
       "\n",
       "    .dataframe thead th {\n",
       "        text-align: right;\n",
       "    }\n",
       "</style>\n",
       "<table border=\"1\" class=\"dataframe\">\n",
       "  <thead>\n",
       "    <tr style=\"text-align: right;\">\n",
       "      <th></th>\n",
       "      <th>patient_id</th>\n",
       "      <th>trial</th>\n",
       "      <th>walking_speed</th>\n",
       "      <th>t_uniform</th>\n",
       "      <th>ACC_1</th>\n",
       "      <th>ACC_2</th>\n",
       "      <th>ACC_3</th>\n",
       "      <th>ACC_4</th>\n",
       "      <th>ACC_5</th>\n",
       "      <th>ACC_6</th>\n",
       "      <th>...</th>\n",
       "      <th>NOSE_Z</th>\n",
       "      <th>EYE_LEFT_Z</th>\n",
       "      <th>EAR_LEFT_Z</th>\n",
       "      <th>EYE_RIGHT_Z</th>\n",
       "      <th>EAR_RIGHT_Z</th>\n",
       "      <th>left_foot_swing</th>\n",
       "      <th>pelvis_pos</th>\n",
       "      <th>right_foot_swing</th>\n",
       "      <th>qor15_score</th>\n",
       "      <th>QoR_class</th>\n",
       "    </tr>\n",
       "  </thead>\n",
       "  <tbody>\n",
       "    <tr>\n",
       "      <th>0</th>\n",
       "      <td>001-LO</td>\n",
       "      <td>Trial4</td>\n",
       "      <td>Fast</td>\n",
       "      <td>0.001646</td>\n",
       "      <td>1.060914e-07</td>\n",
       "      <td>2.811981e-08</td>\n",
       "      <td>2.464734e-08</td>\n",
       "      <td>1.511133e-07</td>\n",
       "      <td>6.088732e-08</td>\n",
       "      <td>2.521242e-08</td>\n",
       "      <td>...</td>\n",
       "      <td>-1062.272713</td>\n",
       "      <td>7108.170184</td>\n",
       "      <td>-114.104415</td>\n",
       "      <td>-1046.162440</td>\n",
       "      <td>7230.420053</td>\n",
       "      <td>115.919472</td>\n",
       "      <td>0.000000</td>\n",
       "      <td>17.725769</td>\n",
       "      <td>92.0</td>\n",
       "      <td>1.0</td>\n",
       "    </tr>\n",
       "    <tr>\n",
       "      <th>1</th>\n",
       "      <td>001-LO</td>\n",
       "      <td>Trial4</td>\n",
       "      <td>Fast</td>\n",
       "      <td>0.021627</td>\n",
       "      <td>5.940475e-08</td>\n",
       "      <td>8.744008e-08</td>\n",
       "      <td>3.596533e-08</td>\n",
       "      <td>1.409464e-07</td>\n",
       "      <td>1.330034e-07</td>\n",
       "      <td>8.532096e-08</td>\n",
       "      <td>...</td>\n",
       "      <td>-1067.001900</td>\n",
       "      <td>7077.772048</td>\n",
       "      <td>-109.613466</td>\n",
       "      <td>-1035.117093</td>\n",
       "      <td>7194.746026</td>\n",
       "      <td>146.795342</td>\n",
       "      <td>36.722235</td>\n",
       "      <td>64.687058</td>\n",
       "      <td>92.0</td>\n",
       "      <td>1.0</td>\n",
       "    </tr>\n",
       "    <tr>\n",
       "      <th>2</th>\n",
       "      <td>001-LO</td>\n",
       "      <td>Trial4</td>\n",
       "      <td>Fast</td>\n",
       "      <td>0.041607</td>\n",
       "      <td>4.536440e-08</td>\n",
       "      <td>8.054273e-08</td>\n",
       "      <td>6.073777e-08</td>\n",
       "      <td>5.997389e-08</td>\n",
       "      <td>9.580592e-08</td>\n",
       "      <td>2.747907e-08</td>\n",
       "      <td>...</td>\n",
       "      <td>-1071.731086</td>\n",
       "      <td>7047.373913</td>\n",
       "      <td>-105.122517</td>\n",
       "      <td>-1024.071745</td>\n",
       "      <td>7159.071999</td>\n",
       "      <td>177.671212</td>\n",
       "      <td>73.444469</td>\n",
       "      <td>111.648347</td>\n",
       "      <td>92.0</td>\n",
       "      <td>1.0</td>\n",
       "    </tr>\n",
       "    <tr>\n",
       "      <th>3</th>\n",
       "      <td>001-LO</td>\n",
       "      <td>Trial4</td>\n",
       "      <td>Fast</td>\n",
       "      <td>0.061588</td>\n",
       "      <td>3.443630e-08</td>\n",
       "      <td>9.337871e-09</td>\n",
       "      <td>5.133352e-08</td>\n",
       "      <td>1.558557e-07</td>\n",
       "      <td>5.318491e-08</td>\n",
       "      <td>1.614723e-07</td>\n",
       "      <td>...</td>\n",
       "      <td>-1076.460273</td>\n",
       "      <td>7016.975777</td>\n",
       "      <td>-100.631568</td>\n",
       "      <td>-1013.026398</td>\n",
       "      <td>7123.397972</td>\n",
       "      <td>208.547082</td>\n",
       "      <td>110.166704</td>\n",
       "      <td>158.609636</td>\n",
       "      <td>92.0</td>\n",
       "      <td>1.0</td>\n",
       "    </tr>\n",
       "    <tr>\n",
       "      <th>4</th>\n",
       "      <td>001-LO</td>\n",
       "      <td>Trial4</td>\n",
       "      <td>Fast</td>\n",
       "      <td>0.081568</td>\n",
       "      <td>5.839159e-08</td>\n",
       "      <td>6.049488e-08</td>\n",
       "      <td>4.505175e-08</td>\n",
       "      <td>1.287962e-07</td>\n",
       "      <td>1.261326e-07</td>\n",
       "      <td>2.601005e-08</td>\n",
       "      <td>...</td>\n",
       "      <td>-1079.380860</td>\n",
       "      <td>6990.668229</td>\n",
       "      <td>-97.752732</td>\n",
       "      <td>-1044.910963</td>\n",
       "      <td>7105.608067</td>\n",
       "      <td>179.849426</td>\n",
       "      <td>150.343338</td>\n",
       "      <td>177.675136</td>\n",
       "      <td>92.0</td>\n",
       "      <td>1.0</td>\n",
       "    </tr>\n",
       "    <tr>\n",
       "      <th>...</th>\n",
       "      <td>...</td>\n",
       "      <td>...</td>\n",
       "      <td>...</td>\n",
       "      <td>...</td>\n",
       "      <td>...</td>\n",
       "      <td>...</td>\n",
       "      <td>...</td>\n",
       "      <td>...</td>\n",
       "      <td>...</td>\n",
       "      <td>...</td>\n",
       "      <td>...</td>\n",
       "      <td>...</td>\n",
       "      <td>...</td>\n",
       "      <td>...</td>\n",
       "      <td>...</td>\n",
       "      <td>...</td>\n",
       "      <td>...</td>\n",
       "      <td>...</td>\n",
       "      <td>...</td>\n",
       "      <td>...</td>\n",
       "      <td>...</td>\n",
       "    </tr>\n",
       "    <tr>\n",
       "      <th>97648</th>\n",
       "      <td>103-EL</td>\n",
       "      <td>Trial3</td>\n",
       "      <td>Fast</td>\n",
       "      <td>4.307818</td>\n",
       "      <td>5.358699e-08</td>\n",
       "      <td>9.066990e-08</td>\n",
       "      <td>3.733342e-08</td>\n",
       "      <td>1.771741e-08</td>\n",
       "      <td>8.524296e-08</td>\n",
       "      <td>1.715400e-08</td>\n",
       "      <td>...</td>\n",
       "      <td>-2623.616164</td>\n",
       "      <td>7241.059109</td>\n",
       "      <td>-444.622197</td>\n",
       "      <td>-2630.390786</td>\n",
       "      <td>7138.317777</td>\n",
       "      <td>92.792135</td>\n",
       "      <td>6848.844990</td>\n",
       "      <td>-117.298572</td>\n",
       "      <td>147.0</td>\n",
       "      <td>0.0</td>\n",
       "    </tr>\n",
       "    <tr>\n",
       "      <th>97649</th>\n",
       "      <td>103-EL</td>\n",
       "      <td>Trial3</td>\n",
       "      <td>Fast</td>\n",
       "      <td>4.327799</td>\n",
       "      <td>9.235556e-08</td>\n",
       "      <td>1.116539e-07</td>\n",
       "      <td>6.954495e-08</td>\n",
       "      <td>9.151058e-08</td>\n",
       "      <td>7.932996e-08</td>\n",
       "      <td>1.802133e-07</td>\n",
       "      <td>...</td>\n",
       "      <td>-2605.963981</td>\n",
       "      <td>7164.198164</td>\n",
       "      <td>-480.862507</td>\n",
       "      <td>-2633.766639</td>\n",
       "      <td>7132.384908</td>\n",
       "      <td>126.446190</td>\n",
       "      <td>6913.969946</td>\n",
       "      <td>51.381961</td>\n",
       "      <td>147.0</td>\n",
       "      <td>0.0</td>\n",
       "    </tr>\n",
       "    <tr>\n",
       "      <th>97650</th>\n",
       "      <td>103-EL</td>\n",
       "      <td>Trial3</td>\n",
       "      <td>Fast</td>\n",
       "      <td>4.347779</td>\n",
       "      <td>1.015234e-07</td>\n",
       "      <td>5.848282e-08</td>\n",
       "      <td>9.328541e-08</td>\n",
       "      <td>7.571804e-08</td>\n",
       "      <td>7.700965e-08</td>\n",
       "      <td>1.199538e-07</td>\n",
       "      <td>...</td>\n",
       "      <td>-2588.311797</td>\n",
       "      <td>7087.337220</td>\n",
       "      <td>-517.102818</td>\n",
       "      <td>-2637.142491</td>\n",
       "      <td>7126.452040</td>\n",
       "      <td>160.100246</td>\n",
       "      <td>6979.094902</td>\n",
       "      <td>220.062494</td>\n",
       "      <td>147.0</td>\n",
       "      <td>0.0</td>\n",
       "    </tr>\n",
       "    <tr>\n",
       "      <th>97651</th>\n",
       "      <td>103-EL</td>\n",
       "      <td>Trial3</td>\n",
       "      <td>Fast</td>\n",
       "      <td>4.367759</td>\n",
       "      <td>1.249084e-06</td>\n",
       "      <td>6.477975e-06</td>\n",
       "      <td>1.173002e-05</td>\n",
       "      <td>1.850951e-05</td>\n",
       "      <td>3.302622e-05</td>\n",
       "      <td>1.555973e-07</td>\n",
       "      <td>...</td>\n",
       "      <td>-2570.659614</td>\n",
       "      <td>7010.476275</td>\n",
       "      <td>-553.343128</td>\n",
       "      <td>-2640.518343</td>\n",
       "      <td>7120.519171</td>\n",
       "      <td>193.754301</td>\n",
       "      <td>7044.219857</td>\n",
       "      <td>388.743027</td>\n",
       "      <td>147.0</td>\n",
       "      <td>0.0</td>\n",
       "    </tr>\n",
       "    <tr>\n",
       "      <th>97652</th>\n",
       "      <td>103-EL</td>\n",
       "      <td>Trial3</td>\n",
       "      <td>Fast</td>\n",
       "      <td>4.387740</td>\n",
       "      <td>1.449812e-05</td>\n",
       "      <td>1.068348e-06</td>\n",
       "      <td>3.611317e-06</td>\n",
       "      <td>1.463349e-05</td>\n",
       "      <td>5.959584e-06</td>\n",
       "      <td>5.585759e-06</td>\n",
       "      <td>...</td>\n",
       "      <td>-2595.446850</td>\n",
       "      <td>7071.477938</td>\n",
       "      <td>-570.858843</td>\n",
       "      <td>-2676.288461</td>\n",
       "      <td>7164.087202</td>\n",
       "      <td>206.847793</td>\n",
       "      <td>7063.585020</td>\n",
       "      <td>462.237779</td>\n",
       "      <td>147.0</td>\n",
       "      <td>0.0</td>\n",
       "    </tr>\n",
       "  </tbody>\n",
       "</table>\n",
       "<p>42172 rows × 113 columns</p>\n",
       "</div>"
      ],
      "text/plain": [
       "      patient_id   trial walking_speed  t_uniform         ACC_1         ACC_2  \\\n",
       "0         001-LO  Trial4          Fast   0.001646  1.060914e-07  2.811981e-08   \n",
       "1         001-LO  Trial4          Fast   0.021627  5.940475e-08  8.744008e-08   \n",
       "2         001-LO  Trial4          Fast   0.041607  4.536440e-08  8.054273e-08   \n",
       "3         001-LO  Trial4          Fast   0.061588  3.443630e-08  9.337871e-09   \n",
       "4         001-LO  Trial4          Fast   0.081568  5.839159e-08  6.049488e-08   \n",
       "...          ...     ...           ...        ...           ...           ...   \n",
       "97648     103-EL  Trial3          Fast   4.307818  5.358699e-08  9.066990e-08   \n",
       "97649     103-EL  Trial3          Fast   4.327799  9.235556e-08  1.116539e-07   \n",
       "97650     103-EL  Trial3          Fast   4.347779  1.015234e-07  5.848282e-08   \n",
       "97651     103-EL  Trial3          Fast   4.367759  1.249084e-06  6.477975e-06   \n",
       "97652     103-EL  Trial3          Fast   4.387740  1.449812e-05  1.068348e-06   \n",
       "\n",
       "              ACC_3         ACC_4         ACC_5         ACC_6  ...  \\\n",
       "0      2.464734e-08  1.511133e-07  6.088732e-08  2.521242e-08  ...   \n",
       "1      3.596533e-08  1.409464e-07  1.330034e-07  8.532096e-08  ...   \n",
       "2      6.073777e-08  5.997389e-08  9.580592e-08  2.747907e-08  ...   \n",
       "3      5.133352e-08  1.558557e-07  5.318491e-08  1.614723e-07  ...   \n",
       "4      4.505175e-08  1.287962e-07  1.261326e-07  2.601005e-08  ...   \n",
       "...             ...           ...           ...           ...  ...   \n",
       "97648  3.733342e-08  1.771741e-08  8.524296e-08  1.715400e-08  ...   \n",
       "97649  6.954495e-08  9.151058e-08  7.932996e-08  1.802133e-07  ...   \n",
       "97650  9.328541e-08  7.571804e-08  7.700965e-08  1.199538e-07  ...   \n",
       "97651  1.173002e-05  1.850951e-05  3.302622e-05  1.555973e-07  ...   \n",
       "97652  3.611317e-06  1.463349e-05  5.959584e-06  5.585759e-06  ...   \n",
       "\n",
       "            NOSE_Z   EYE_LEFT_Z  EAR_LEFT_Z  EYE_RIGHT_Z  EAR_RIGHT_Z  \\\n",
       "0     -1062.272713  7108.170184 -114.104415 -1046.162440  7230.420053   \n",
       "1     -1067.001900  7077.772048 -109.613466 -1035.117093  7194.746026   \n",
       "2     -1071.731086  7047.373913 -105.122517 -1024.071745  7159.071999   \n",
       "3     -1076.460273  7016.975777 -100.631568 -1013.026398  7123.397972   \n",
       "4     -1079.380860  6990.668229  -97.752732 -1044.910963  7105.608067   \n",
       "...            ...          ...         ...          ...          ...   \n",
       "97648 -2623.616164  7241.059109 -444.622197 -2630.390786  7138.317777   \n",
       "97649 -2605.963981  7164.198164 -480.862507 -2633.766639  7132.384908   \n",
       "97650 -2588.311797  7087.337220 -517.102818 -2637.142491  7126.452040   \n",
       "97651 -2570.659614  7010.476275 -553.343128 -2640.518343  7120.519171   \n",
       "97652 -2595.446850  7071.477938 -570.858843 -2676.288461  7164.087202   \n",
       "\n",
       "       left_foot_swing   pelvis_pos  right_foot_swing  qor15_score  QoR_class  \n",
       "0           115.919472     0.000000         17.725769         92.0        1.0  \n",
       "1           146.795342    36.722235         64.687058         92.0        1.0  \n",
       "2           177.671212    73.444469        111.648347         92.0        1.0  \n",
       "3           208.547082   110.166704        158.609636         92.0        1.0  \n",
       "4           179.849426   150.343338        177.675136         92.0        1.0  \n",
       "...                ...          ...               ...          ...        ...  \n",
       "97648        92.792135  6848.844990       -117.298572        147.0        0.0  \n",
       "97649       126.446190  6913.969946         51.381961        147.0        0.0  \n",
       "97650       160.100246  6979.094902        220.062494        147.0        0.0  \n",
       "97651       193.754301  7044.219857        388.743027        147.0        0.0  \n",
       "97652       206.847793  7063.585020        462.237779        147.0        0.0  \n",
       "\n",
       "[42172 rows x 113 columns]"
      ]
     },
     "execution_count": 7,
     "metadata": {},
     "output_type": "execute_result"
    }
   ],
   "source": [
    "dataframe"
   ]
  },
  {
   "cell_type": "code",
   "execution_count": 4,
   "id": "2a030584",
   "metadata": {},
   "outputs": [
    {
     "name": "stdout",
     "output_type": "stream",
     "text": [
      "Using device: cuda\n"
     ]
    },
    {
     "name": "stderr",
     "output_type": "stream",
     "text": [
      "c:\\Users\\RAZER\\anaconda3\\envs\\torch_on\\lib\\site-packages\\torch_geometric\\deprecation.py:26: UserWarning: 'data.DataLoader' is deprecated, use 'loader.DataLoader' instead\n",
      "  warnings.warn(out)\n"
     ]
    }
   ],
   "source": [
    "import pandas as pd\n",
    "import numpy as np\n",
    "from glob import glob\n",
    "from tqdm.notebook import tqdm\n",
    "import torch\n",
    "import torch.nn as nn\n",
    "import torch.nn.functional as F\n",
    "from torch_geometric.data import Data, Dataset, DataLoader\n",
    "from torch_geometric.nn import GCNConv\n",
    "from sklearn.metrics import accuracy_score, f1_score, recall_score, precision_score, roc_auc_score, confusion_matrix\n",
    "import matplotlib.pyplot as plt\n",
    "from datetime import datetime\n",
    "import pickle\n",
    "import os\n",
    "\n",
    "\n",
    "device = torch.device('cuda' if torch.cuda.is_available() else 'cpu')\n",
    "print(f'Using device: {device}')\n",
    "\n",
    "# Define joints and edges\n",
    "joints = [\n",
    "    'PELVIS', 'SPINE_NAVAL', 'SPINE_CHEST', 'NECK', 'CLAVICLE_LEFT', 'SHOULDER_LEFT',\n",
    "    'ELBOW_LEFT', 'WRIST_LEFT', 'HAND_LEFT', 'HANDTIP_LEFT', 'THUMB_LEFT',\n",
    "    'CLAVICLE_RIGHT', 'SHOULDER_RIGHT', 'ELBOW_RIGHT', 'WRIST_RIGHT', 'HAND_RIGHT',\n",
    "    'HANDTIP_RIGHT', 'THUMB_RIGHT', 'HIP_LEFT', 'KNEE_LEFT', 'ANKLE_LEFT',\n",
    "    'FOOT_LEFT', 'HIP_RIGHT', 'KNEE_RIGHT', 'ANKLE_RIGHT', 'FOOT_RIGHT',\n",
    "    'HEAD', 'NOSE', 'EYE_LEFT', 'EAR_LEFT', 'EYE_RIGHT', 'EAR_RIGHT'\n",
    "]\n",
    "\n",
    "edges = [\n",
    "    ('PELVIS', 'SPINE_NAVAL'), ('SPINE_NAVAL', 'SPINE_CHEST'), ('SPINE_CHEST', 'NECK'),\n",
    "    ('NECK', 'HEAD'), ('SPINE_CHEST', 'CLAVICLE_LEFT'), ('CLAVICLE_LEFT', 'SHOULDER_LEFT'),\n",
    "    ('SHOULDER_LEFT', 'ELBOW_LEFT'), ('ELBOW_LEFT', 'WRIST_LEFT'), ('WRIST_LEFT', 'HAND_LEFT'),\n",
    "    ('HAND_LEFT', 'HANDTIP_LEFT'), ('WRIST_LEFT', 'THUMB_LEFT'), ('SPINE_CHEST', 'CLAVICLE_RIGHT'),\n",
    "    ('CLAVICLE_RIGHT', 'SHOULDER_RIGHT'), ('SHOULDER_RIGHT', 'ELBOW_RIGHT'), ('ELBOW_RIGHT', 'WRIST_RIGHT'),\n",
    "    ('WRIST_RIGHT', 'HAND_RIGHT'), ('HAND_RIGHT', 'HANDTIP_RIGHT'), ('WRIST_RIGHT', 'THUMB_RIGHT'),\n",
    "    ('PELVIS', 'HIP_LEFT'), ('HIP_LEFT', 'KNEE_LEFT'), ('KNEE_LEFT', 'ANKLE_LEFT'),\n",
    "    ('ANKLE_LEFT', 'FOOT_LEFT'), ('PELVIS', 'HIP_RIGHT'), ('HIP_RIGHT', 'KNEE_RIGHT'),\n",
    "    ('KNEE_RIGHT', 'ANKLE_RIGHT'), ('ANKLE_RIGHT', 'FOOT_RIGHT'),\n",
    "    ('HEAD', 'NOSE'), ('HEAD', 'EYE_LEFT'), ('HEAD', 'EYE_RIGHT'), ('HEAD', 'EAR_LEFT'), ('HEAD', 'EAR_RIGHT')\n",
    "]\n",
    "\n",
    "joint_to_idx = {joint: idx for idx, joint in enumerate(joints)}\n",
    "\n",
    "edge_index = torch.tensor(\n",
    "    [[joint_to_idx[src], joint_to_idx[dst]] for src, dst in edges] +\n",
    "    [[joint_to_idx[dst], joint_to_idx[src]] for src, dst in edges],  # Bidirectional edges\n",
    "    dtype=torch.long\n",
    ").t()\n",
    "\n",
    "\n",
    "# Custom Dataset Class\n",
    "class SkeletonDataset(Dataset):\n",
    "    def __init__(self, csv_file):\n",
    "        self.data = csv_file\n",
    "        self.num_nodes = len(joints)\n",
    "\n",
    "    def __len__(self):\n",
    "        return len(self.data)\n",
    "\n",
    "    def __getitem__(self, idx):\n",
    "        row = self.data.iloc[idx]\n",
    "        \n",
    "        # Extract node features including timestamp\n",
    "        node_features = []\n",
    "        for joint in joints:\n",
    "            x = row[f'{joint}_X']\n",
    "            y = row[f'{joint}_Y']\n",
    "            z = row[f'{joint}_Z']\n",
    "            timestamp = row['t_uniform']\n",
    "            node_features.append([x, y, z, timestamp])\n",
    "        x = torch.tensor(node_features, dtype=torch.float32)\n",
    "\n",
    "        # Binary label (0 or 1)\n",
    "        y = torch.tensor(row['QoR_class'], dtype=torch.float32).view(-1)\n",
    "\n",
    "        return Data(x=x, edge_index=edge_index, y=y)\n",
    "\n",
    "\n",
    "\n",
    "\n",
    "data_path = \"C:/Users/RAZER/Desktop/TEMp/New folder/KINECT_dataset_with_qor15.csv\"\n",
    "dataframe = pd.read_csv(data_path)\n",
    "dataframe = dataframe[dataframe['walking_speed'] == \"Fast\"]\n",
    "\n",
    "\n",
    "# Load dataset\n",
    "dataset = SkeletonDataset(csv_file=dataframe[dataframe['walking_speed'] == \"Fast\"])\n",
    "\n",
    "\n",
    "\n",
    "\n",
    "# Split into training and testing datasets\n",
    "train_size = int(0.8 * len(dataset))\n",
    "test_size = len(dataset) - train_size\n",
    "train_dataset, test_dataset = torch.utils.data.random_split(dataset, [train_size, test_size])\n",
    "\n",
    "\n",
    "\n",
    "# Create DataLoaders\n",
    "batch_size = 16\n",
    "train_loader = DataLoader(train_dataset, batch_size=batch_size, shuffle=True)\n",
    "test_loader = DataLoader(test_dataset, batch_size=batch_size, shuffle=False)\n",
    "\n"
   ]
  },
  {
   "cell_type": "code",
   "execution_count": 5,
   "id": "333b01e2",
   "metadata": {},
   "outputs": [
    {
     "name": "stdout",
     "output_type": "stream",
     "text": [
      "Node Features (Shape): torch.Size([32, 4])\n",
      "Node Features (Values): tensor([[-3.6174e+01,  7.2070e+03,  3.7431e+02,  1.6463e-03],\n",
      "        [-4.1916e+02, -5.6106e+01,  7.2243e+03,  1.6463e-03],\n",
      "        [ 7.2499e+03, -8.9368e+02, -1.1412e+02,  1.6463e-03],\n",
      "        [-3.2222e+01,  7.2270e+03, -4.2069e+02,  1.6463e-03],\n",
      "        [-5.8705e+02, -1.7107e+02,  7.2474e+03,  1.6463e-03],\n",
      "        [ 7.2287e+03, -8.4763e+02, -1.6268e+02,  1.6463e-03],\n",
      "        [-2.9139e+01,  7.2421e+03, -5.3349e+01,  1.6463e-03],\n",
      "        [-7.2162e+02, -2.9129e+02,  7.1667e+03,  1.6463e-03],\n",
      "        [ 7.2148e+03, -6.3264e+02, -6.3235e+01,  1.6463e-03],\n",
      "        [-2.4573e+01,  7.3447e+03,  2.8481e+02,  1.6463e-03],\n",
      "        [-9.2749e+02, -3.7322e+02,  7.2676e+03,  1.6463e-03],\n",
      "        [ 7.2195e+03, -4.3453e+02, -7.1288e+01,  1.6463e-03],\n",
      "        [ 6.0119e+00,  7.2844e+03,  3.9317e+02,  1.6463e-03],\n",
      "        [-8.9321e+02, -4.2922e+02,  7.1456e+03,  1.6463e-03],\n",
      "        [ 7.2123e+03, -3.9849e+02, -2.5809e+01,  1.6463e-03],\n",
      "        [ 1.2589e+02,  7.2132e+03, -1.0042e+03,  1.6463e-03],\n",
      "        [-8.3827e+02, -4.2589e+02,  7.2088e+03,  1.6463e-03],\n",
      "        [ 7.1809e+03, -3.3275e+02, -8.0319e+01,  1.6463e-03],\n",
      "        [ 1.7896e+02,  7.1369e+03, -1.0382e+03,  1.6463e-03],\n",
      "        [-5.8355e+02, -3.8343e+02,  7.0708e+03,  1.6463e-03],\n",
      "        [ 7.2124e+03, -3.7120e+02, -5.4834e+01,  1.6463e-03],\n",
      "        [ 1.4886e+02,  7.1742e+03, -1.0767e+03,  1.6463e-03],\n",
      "        [-3.7015e+02,  5.0266e+01,  7.0969e+03,  1.6463e-03],\n",
      "        [ 7.1684e+03, -4.1746e+02,  3.1152e+01,  1.6463e-03],\n",
      "        [ 1.1708e+02,  7.2525e+03, -1.0805e+03,  1.6463e-03],\n",
      "        [-2.9716e+02, -2.5484e+01,  7.1809e+03,  1.6463e-03],\n",
      "        [ 7.2131e+03, -4.6725e+01, -1.0092e+02,  1.6463e-03],\n",
      "        [ 6.1489e+01,  7.2203e+03, -1.0623e+03,  1.6463e-03],\n",
      "        [-3.6877e+02,  4.1405e+01,  7.1082e+03,  1.6463e-03],\n",
      "        [ 7.1655e+03,  2.7876e+02, -1.1410e+02,  1.6463e-03],\n",
      "        [ 8.5472e+01,  7.3658e+03, -1.0462e+03,  1.6463e-03],\n",
      "        [-2.5893e+02,  9.0337e+01,  7.2304e+03,  1.6463e-03]])\n",
      "\n",
      "Edge Index (Shape): torch.Size([2, 62])\n",
      "Edge Index (Values): tensor([[ 0,  1,  2,  3,  2,  4,  5,  6,  7,  8,  7,  2, 11, 12, 13, 14, 15, 14,\n",
      "          0, 18, 19, 20,  0, 22, 23, 24, 26, 26, 26, 26, 26,  1,  2,  3, 26,  4,\n",
      "          5,  6,  7,  8,  9, 10, 11, 12, 13, 14, 15, 16, 17, 18, 19, 20, 21, 22,\n",
      "         23, 24, 25, 27, 28, 30, 29, 31],\n",
      "        [ 1,  2,  3, 26,  4,  5,  6,  7,  8,  9, 10, 11, 12, 13, 14, 15, 16, 17,\n",
      "         18, 19, 20, 21, 22, 23, 24, 25, 27, 28, 30, 29, 31,  0,  1,  2,  3,  2,\n",
      "          4,  5,  6,  7,  8,  7,  2, 11, 12, 13, 14, 15, 14,  0, 18, 19, 20,  0,\n",
      "         22, 23, 24, 26, 26, 26, 26, 26]])\n",
      "\n",
      "Label (Shape): torch.Size([1])\n",
      "Label (Value): tensor([1.])\n"
     ]
    }
   ],
   "source": [
    "# Print a single data point (e.g., the first sample)\n",
    "sample_index = 0\n",
    "data_point = dataset[sample_index]\n",
    "\n",
    "print(\"Node Features (Shape):\", data_point.x.shape)\n",
    "print(\"Node Features (Values):\", data_point.x)\n",
    "print(\"\\nEdge Index (Shape):\", data_point.edge_index.shape)\n",
    "print(\"Edge Index (Values):\", data_point.edge_index)\n",
    "print(\"\\nLabel (Shape):\", data_point.y.shape)\n",
    "print(\"Label (Value):\", data_point.y)\n"
   ]
  },
  {
   "cell_type": "code",
   "execution_count": 6,
   "id": "7a4165c6",
   "metadata": {},
   "outputs": [
    {
     "name": "stdout",
     "output_type": "stream",
     "text": [
      "\n",
      "Batch Node Features (Shape): torch.Size([512, 4])\n",
      "Batch Node Features (Values): tensor([[ 2.5303e+01,  5.5337e+03, -9.5696e+02,  3.0126e-01],\n",
      "        [-1.7542e+03,  1.2727e+01,  5.9745e+03,  3.0126e-01],\n",
      "        [ 5.6195e+03, -2.2204e+03, -5.3552e+01,  3.0126e-01],\n",
      "        ...,\n",
      "        [ 7.1085e+03, -6.1833e+02,  3.4275e+02,  1.5314e+00],\n",
      "        [ 7.9038e+02,  7.4752e+03, -2.1993e+03,  1.5314e+00],\n",
      "        [-1.2973e+03,  7.9872e+02,  6.8953e+03,  1.5314e+00]])\n",
      "\n",
      "Batch Edge Index (Shape): torch.Size([2, 992])\n",
      "Batch Edge Index (Values): tensor([[  0,   1,   2,  ..., 510, 509, 511],\n",
      "        [  1,   2,   3,  ..., 506, 506, 506]])\n",
      "\n",
      "Batch Labels (Shape): torch.Size([16])\n",
      "Batch Labels (Values): tensor([0., 1., 0., 0., 0., 1., 1., 0., 1., 1., 0., 0., 1., 0., 0., 0.])\n"
     ]
    }
   ],
   "source": [
    "# Print a batch of data points\n",
    "for batch in train_loader:\n",
    "    print(\"\\nBatch Node Features (Shape):\", batch.x.shape)\n",
    "    print(\"Batch Node Features (Values):\", batch.x)\n",
    "    print(\"\\nBatch Edge Index (Shape):\", batch.edge_index.shape)\n",
    "    print(\"Batch Edge Index (Values):\", batch.edge_index)\n",
    "    print(\"\\nBatch Labels (Shape):\", batch.y.shape)\n",
    "    print(\"Batch Labels (Values):\", batch.y)\n",
    "    break  # Print only the first batch\n"
   ]
  },
  {
   "cell_type": "code",
   "execution_count": 7,
   "id": "7fe99fce",
   "metadata": {},
   "outputs": [
    {
     "name": "stdout",
     "output_type": "stream",
     "text": [
      "             X            Y            Z  Timestamp\n",
      "0   -36.173565  7206.964355   374.305511   0.001646\n",
      "1  -419.156189   -56.105865  7224.282715   0.001646\n",
      "2  7249.856934  -893.683899  -114.120102   0.001646\n",
      "3   -32.222103  7227.032227  -420.687805   0.001646\n",
      "4  -587.051086  -171.069504  7247.429199   0.001646\n"
     ]
    }
   ],
   "source": [
    "import pandas as pd\n",
    "\n",
    "node_features_df = pd.DataFrame(data_point.x.numpy(), columns=['X', 'Y', 'Z', 'Timestamp'])\n",
    "print(node_features_df.head())\n"
   ]
  },
  {
   "cell_type": "code",
   "execution_count": 9,
   "id": "f4fcd12a",
   "metadata": {},
   "outputs": [
    {
     "data": {
      "image/png": "[encoded data removed]",
      "text/plain": [
       "<Figure size 1200x1000 with 1 Axes>"
      ]
     },
     "metadata": {},
     "output_type": "display_data"
    }
   ],
   "source": [
    "import matplotlib.pyplot as plt\n",
    "import networkx as nx\n",
    "from mpl_toolkits.mplot3d import Axes3D\n",
    "\n",
    "# Get a single sample for visualization\n",
    "sample_index = 0\n",
    "data_point = dataset[sample_index]\n",
    "\n",
    "# Extract node positions\n",
    "node_positions = data_point.x[:, :3].numpy()  # Use only X, Y, Z\n",
    "labels = data_point.y.numpy()\n",
    "\n",
    "# Create a directed graph\n",
    "G = nx.Graph()\n",
    "\n",
    "# Add nodes\n",
    "for i, joint in enumerate(joints):\n",
    "    G.add_node(joint, pos=node_positions[i])\n",
    "\n",
    "# Add edges\n",
    "for src, dst in edges:\n",
    "    G.add_edge(src, dst)\n",
    "\n",
    "# Extract positions for plotting\n",
    "pos = {joint: node_positions[joint_to_idx[joint]] for joint in joints}\n",
    "\n",
    "# Plot the graph\n",
    "fig = plt.figure(figsize=(12, 10))\n",
    "ax = fig.add_subplot(111, projection='3d')\n",
    "\n",
    "# Plot edges\n",
    "for src, dst in edges:\n",
    "    src_pos = pos[src]\n",
    "    dst_pos = pos[dst]\n",
    "    ax.plot([src_pos[0], dst_pos[0]], [src_pos[1], dst_pos[1]], [src_pos[2], dst_pos[2]], color='blue', alpha=0.6)\n",
    "\n",
    "# Plot nodes\n",
    "x, y, z = zip(*node_positions)\n",
    "node_colors = ['red' if labels[0] == 1.0 else 'green'] * len(joints)  # Use binary label for coloring\n",
    "ax.scatter(x, y, z, c=node_colors, s=100, edgecolors='k', alpha=0.9)\n",
    "\n",
    "ax.set_title(f\"3D Skeleton Graph - Sample Index {sample_index} (QoR Class: {int(labels[0])})\")\n",
    "ax.set_xlabel(\"X\")\n",
    "ax.set_ylabel(\"Y\")\n",
    "ax.set_zlabel(\"Z\")\n",
    "plt.show()\n"
   ]
  },
  {
   "cell_type": "markdown",
   "id": "afc34cc3",
   "metadata": {},
   "source": []
  },
  {
   "cell_type": "code",
   "execution_count": null,
   "id": "4de52634",
   "metadata": {},
   "outputs": [],
   "source": [
    "import torch\n",
    "import platform\n",
    "import psutil\n",
    "import time\n",
    "from datetime import datetime\n",
    "from tqdm import tqdm\n",
    "import matplotlib.pyplot as plt\n",
    "\n",
    "report_lines = []\n",
    "report_lines.append(f\"=== SYSTEM & GPU REPORT ===\")\n",
    "report_lines.append(f\"Generated on: {datetime.now().strftime('%Y-%m-%d %H:%M:%S')}\")\n",
    "report_lines.append(\"\")\n",
    "\n",
    "# --- System Info ---\n",
    "report_lines.append(\"### SYSTEM INFO ###\")\n",
    "report_lines.append(f\"OS: {platform.system()} {platform.release()} ({platform.version()})\")\n",
    "report_lines.append(f\"Processor: {platform.processor()}\")\n",
    "report_lines.append(f\"CPU Cores: {psutil.cpu_count(logical=False)} physical / {psutil.cpu_count(logical=True)} logical\")\n",
    "report_lines.append(f\"RAM: {round(psutil.virtual_memory().total / 1024**3, 2)} GB\")\n",
    "report_lines.append(\"\")\n",
    "\n",
    "# --- GPU Info ---\n",
    "if torch.cuda.is_available():\n",
    "    report_lines.append(\"### GPU INFO (CUDA) ###\")\n",
    "    n_gpus = torch.cuda.device_count()\n",
    "    report_lines.append(f\"Number of GPUs: {n_gpus}\")\n",
    "\n",
    "    for i in range(n_gpus):\n",
    "        prop = torch.cuda.get_device_properties(i)\n",
    "        report_lines.append(f\"\\n--- GPU {i} ---\")\n",
    "        report_lines.append(f\"Name: {prop.name}\")\n",
    "        report_lines.append(f\"Total VRAM: {prop.total_memory / 1024**3:.2f} GB\")\n",
    "        report_lines.append(f\"Compute Capability: {prop.major}.{prop.minor}\")\n",
    "        report_lines.append(f\"CUDA Cores (estimate): {prop.multi_processor_count * 64}\")\n",
    "        clock_rate = getattr(prop, \"clock_rate\", None)\n",
    "        if clock_rate is not None:\n",
    "            report_lines.append(f\"Clock Rate: {clock_rate / 1e3:.0f} MHz\")\n",
    "        else:\n",
    "            report_lines.append(\"Clock Rate: Not available\")\n",
    "        report_lines.append(f\"CUDA Version (torch): {torch.version.cuda}\")\n",
    "else:\n",
    "    report_lines.append(\"### GPU INFO ###\")\n",
    "    report_lines.append(\"No CUDA-capable GPU detected.\")\n",
    "report_lines.append(\"\")\n",
    "\n",
    "# --- Benchmark ---\n",
    "report_lines.append(\"### PERFORMANCE BENCHMARK (Matrix Multiply) ###\")\n",
    "device = torch.device(\"cuda:0\" if torch.cuda.is_available() else \"cpu\")\n",
    "\n",
    "sizes = [1000, 2000, 3000, 4000, 5000, 6000, 7000, 8000, 9000, 10000]\n",
    "times = []\n",
    "\n",
    "try:\n",
    "    for size in tqdm(sizes, desc=\"Benchmarking Matrix Multiply\"):\n",
    "        a = torch.randn((size, size), device=device)\n",
    "        b = torch.randn((size, size), device=device)\n",
    "        torch.cuda.synchronize() if device.type == 'cuda' else None\n",
    "        t0 = time.time()\n",
    "        _ = torch.matmul(a, b)\n",
    "        torch.cuda.synchronize() if device.type == 'cuda' else None\n",
    "        t1 = time.time()\n",
    "        elapsed = t1 - t0\n",
    "        times.append(elapsed)\n",
    "        report_lines.append(f\"{size}x{size} multiply time: {elapsed:.4f} sec\")\n",
    "        del a, b\n",
    "        torch.cuda.empty_cache()\n",
    "except Exception as e:\n",
    "    report_lines.append(f\"Benchmark failed: {e}\")\n",
    "\n",
    "# --- Total Benchmark Time ---\n",
    "total_time = sum(times)\n",
    "report_lines.append(\"\")\n",
    "report_lines.append(f\"🔁 Total Matrix Multiply Time: {total_time:.4f} seconds\")\n",
    "\n",
    "# --- Save Report ---\n",
    "with open(\"gpu_report.txt\", \"w\") as f:\n",
    "    f.write(\"\\n\".join(report_lines))\n",
    "\n",
    "# --- Plotting ---\n",
    "plt.figure(figsize=(10, 6))\n",
    "plt.plot(sizes, times, marker='o')\n",
    "plt.title(\"Matrix Multiplication Time vs Size\")\n",
    "plt.xlabel(\"Matrix Size (N x N)\")\n",
    "plt.ylabel(\"Time (seconds)\")\n",
    "plt.grid(True)\n",
    "plt.savefig(\"gpu_benchmark.png\")\n",
    "\n",
    "print(\"✅ Report saved to gpu_report.txt\")\n",
    "print(\"✅ Benchmark plot saved as gpu_benchmark.png\")\n"
   ]
  },
  {
   "cell_type": "code",
   "execution_count": null,
   "id": "f3bc4b86",
   "metadata": {},
   "outputs": [],
   "source": []
  }
 ],
 "metadata": {
  "kernelspec": {
   "display_name": "torch_on",
   "language": "python",
   "name": "python3"
  },
  "language_info": {
   "codemirror_mode": {
    "name": "ipython",
    "version": 3
   },
   "file_extension": ".py",
   "mimetype": "text/x-python",
   "name": "python",
   "nbconvert_exporter": "python",
   "pygments_lexer": "ipython3",
   "version": "3.9.20"
  }
 },
 "nbformat": 4,
 "nbformat_minor": 5
}
