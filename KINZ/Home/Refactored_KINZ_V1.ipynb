{
  "cells": [
    {
      "cell_type": "code",
      "execution_count": 1,
      "metadata": {
        "colab": {
          "base_uri": "https://localhost:8080/"
        },
        "id": "YmrhGBsyoeGr",
        "outputId": "c735c04a-174c-4f59-c4ce-389c52e4f709"
      },
      "outputs": [
        {
          "data": {
            "text/plain": [
              "\"\\nfrom google.colab import drive\\ndrive.mount('/content/drive')\""
            ]
          },
          "execution_count": 1,
          "metadata": {},
          "output_type": "execute_result"
        }
      ],
      "source": [
        "\"\"\"\n",
        "from google.colab import drive\n",
        "drive.mount('/content/drive')\"\"\""
      ]
    },
    {
      "cell_type": "code",
      "execution_count": 2,
      "metadata": {
        "id": "zzBgcnTXpOuF"
      },
      "outputs": [],
      "source": [
        "#!pip install pymatreader"
      ]
    },
    {
      "cell_type": "code",
      "execution_count": 1,
      "metadata": {
        "id": "LLtGHFxto96k"
      },
      "outputs": [],
      "source": [
        "from pymatreader import read_mat\n",
        "import pandas as pd\n",
        "import numpy as np\n",
        "from glob import glob\n",
        "from tqdm.notebook import tqdm\n",
        "\n",
        "data_path = r'C:\\Users\\RAZER\\Downloads\\Kinect'\n"
      ]
    },
    {
      "cell_type": "code",
      "execution_count": 2,
      "metadata": {},
      "outputs": [],
      "source": [
        "import os\n",
        "#for clean preproccessed data\n",
        "all_file_path=[]\n",
        "\n",
        "for i in sorted(glob(data_path+\"/*\")):\n",
        "    for j in glob(i+\"/*\"):\n",
        "        if 'TS' in os.path.basename(j).split(\"-\"):\n",
        "            all_file_path.append(j)"
      ]
    },
    {
      "cell_type": "code",
      "execution_count": 3,
      "metadata": {},
      "outputs": [
        {
          "data": {
            "text/plain": [
              "['C:\\\\Users\\\\RAZER\\\\Downloads\\\\Kinect\\\\001-LO\\\\TS-Cln-001-LO_Trial1_Regular_20220307_111113.mat',\n",
              " 'C:\\\\Users\\\\RAZER\\\\Downloads\\\\Kinect\\\\001-LO\\\\TS-Cln-001-LO_Trial2_Regular_20220307_111139.mat',\n",
              " 'C:\\\\Users\\\\RAZER\\\\Downloads\\\\Kinect\\\\001-LO\\\\TS-Cln-001-LO_Trial3_Fast_20220307_111208.mat',\n",
              " 'C:\\\\Users\\\\RAZER\\\\Downloads\\\\Kinect\\\\001-LO\\\\TS-Cln-001-LO_Trial4_Fast_20220307_111234.mat',\n",
              " 'C:\\\\Users\\\\RAZER\\\\Downloads\\\\Kinect\\\\001-LO\\\\TS-Cln-001-LO_Trial5_Fast_20220307_111347.mat',\n",
              " 'C:\\\\Users\\\\RAZER\\\\Downloads\\\\Kinect\\\\001-LO\\\\TS-Cln-001-LO_Trial6_Fast_20220307_111427.mat',\n",
              " 'C:\\\\Users\\\\RAZER\\\\Downloads\\\\Kinect\\\\001-LO\\\\TS-Cln-001-LO_Trial6_Fast_20220307_111722.mat',\n",
              " 'C:\\\\Users\\\\RAZER\\\\Downloads\\\\Kinect\\\\002-RJ\\\\TS-Cln-002-RJ_Trial2_Regular_20220311_100440.mat',\n",
              " 'C:\\\\Users\\\\RAZER\\\\Downloads\\\\Kinect\\\\002-RJ\\\\TS-Cln-002-RJ_Trial3_Fast_20220311_100509.mat',\n",
              " 'C:\\\\Users\\\\RAZER\\\\Downloads\\\\Kinect\\\\002-RJ\\\\TS-Cln-002-RJ_Trial4_Fast_20220311_100541.mat',\n",
              " 'C:\\\\Users\\\\RAZER\\\\Downloads\\\\Kinect\\\\002-RJ\\\\TS-Cln-002-RJ_Trial4_Fast_20220311_100659.mat',\n",
              " 'C:\\\\Users\\\\RAZER\\\\Downloads\\\\Kinect\\\\003-RM\\\\TS-Cln-RM-003_Trial1_Regular_20220315_060038.mat',\n",
              " 'C:\\\\Users\\\\RAZER\\\\Downloads\\\\Kinect\\\\003-RM\\\\TS-Cln-RM-003_Trial2_Regular_20220315_060059.mat',\n",
              " 'C:\\\\Users\\\\RAZER\\\\Downloads\\\\Kinect\\\\003-RM\\\\TS-Cln-RM-003_Trial3_Fast_20220315_060209.mat',\n",
              " 'C:\\\\Users\\\\RAZER\\\\Downloads\\\\Kinect\\\\003-RM\\\\TS-Cln-RM-003_Trial4_Fast_20220315_060226.mat',\n",
              " 'C:\\\\Users\\\\RAZER\\\\Downloads\\\\Kinect\\\\003-RM\\\\TS-Cln-RM-003_Trial4_Fast_20220315_060742.mat']"
            ]
          },
          "execution_count": 3,
          "metadata": {},
          "output_type": "execute_result"
        }
      ],
      "source": [
        "all_file_path"
      ]
    },
    {
      "cell_type": "code",
      "execution_count": 4,
      "metadata": {},
      "outputs": [],
      "source": [
        "\n",
        "\n",
        "def kinz_data(path):\n",
        "    data = read_mat(path)\n",
        "\n",
        "\n",
        "    b_name = os.path.basename(path)\n",
        "\n",
        "    trial = b_name.split(\"-\")[-1].split(\"_\")[1]\n",
        "    walking_speed = b_name.split(\"-\")[-1].split(\"_\")[2]\n",
        "    sub_name = b_name.split(\"-\")[2]+\"-\"+b_name.split(\"-\")[-1].split(\"_\")[0]\n",
        "\n",
        "\n",
        "\n",
        "    new_footfall_event = np.zeros(len(data['t_uniform']))\n",
        "\n",
        "    for t in data['footfall_event_times']:\n",
        "        idx = np.where(data['t_uniform'] == t)[0]\n",
        "        if idx.size > 0:\n",
        "            new_footfall_event[idx[0]] = 1\n",
        "\n",
        "\n",
        "\n",
        "    kinz_arr = np.empty([0,97])\n",
        "\n",
        "    for i in range(len(data['t_uniform'])):\n",
        "\n",
        "        timeStamps = np.array(data['t_uniform'][i])\n",
        "        kinz_x = data['joint_positions'][i][0]\n",
        "        kinz_y = data['joint_positions'][i][1]\n",
        "        kinz_z = data['joint_positions'][i][2]\n",
        "\n",
        "        d = np.concatenate((timeStamps,kinz_x, kinz_y, kinz_z), axis=None)\n",
        "\n",
        "\n",
        "        kinz_arr = np.append(kinz_arr, [d], axis=0)\n",
        "        \n",
        "\n",
        "    arr_walking_speed = np.array([walking_speed]*len(data['t_uniform']))\n",
        "    arr_trial_num = np.array([trial]*len(data['t_uniform']))\n",
        "    arr_patientID = np.array([sub_name]*len(data['t_uniform']))\n",
        "\n",
        "    return np.column_stack((arr_patientID,arr_trial_num,arr_walking_speed,kinz_arr,new_footfall_event,data['accel_energy_total']))\n",
        "\n",
        "\n"
      ]
    },
    {
      "cell_type": "code",
      "execution_count": 5,
      "metadata": {
        "colab": {
          "base_uri": "https://localhost:8080/",
          "height": 902,
          "referenced_widgets": [
            "f4b15d88ffb64e78b0bd32b04cea92c3",
            "5b9947019df04d17b3e2eabdec00db2a",
            "5472c870a51045448608b8729bb20f03",
            "8dd82b60a6d4492a8481cc976d9ddc7f",
            "92e07ab666a741f085b1d377b7b90599",
            "a79caa24da55416194db882b7881d9c8",
            "49c93d2a2558418a9a8e07a37bdc8582",
            "b4adc2c510004268b1cf8bc2f68753c7",
            "47f02c941a274a288ab5a2654fa5295e",
            "e86dd540b33b457098edccb43f2e2698",
            "32fdc7347a8d41dfbef63a1727491b68"
          ]
        },
        "id": "FQmZJ79Do90d",
        "outputId": "d2725dc2-a191-4254-b74d-b816ce4cf5a3"
      },
      "outputs": [
        {
          "data": {
            "application/vnd.jupyter.widget-view+json": {
              "model_id": "4d13f01cab054d61a16b19afb9f49aa4",
              "version_major": 2,
              "version_minor": 0
            },
            "text/plain": [
              "  0%|          | 0/16 [00:00<?, ?it/s]"
            ]
          },
          "metadata": {},
          "output_type": "display_data"
        },
        {
          "name": "stdout",
          "output_type": "stream",
          "text": [
            "TS-Cln-001-LO_Trial1_Regular_20220307_111113.mat\n",
            "_________________\n",
            "TS-Cln-001-LO_Trial2_Regular_20220307_111139.mat\n",
            "_________________\n",
            "TS-Cln-001-LO_Trial3_Fast_20220307_111208.mat\n",
            "_________________\n",
            "TS-Cln-001-LO_Trial4_Fast_20220307_111234.mat\n",
            "_________________\n",
            "TS-Cln-001-LO_Trial5_Fast_20220307_111347.mat\n",
            "_________________\n",
            "TS-Cln-001-LO_Trial6_Fast_20220307_111427.mat\n",
            "_________________\n",
            "TS-Cln-001-LO_Trial6_Fast_20220307_111722.mat\n",
            "_________________\n",
            "TS-Cln-002-RJ_Trial2_Regular_20220311_100440.mat\n",
            "_________________\n",
            "TS-Cln-002-RJ_Trial3_Fast_20220311_100509.mat\n",
            "_________________\n",
            "TS-Cln-002-RJ_Trial4_Fast_20220311_100541.mat\n",
            "_________________\n",
            "TS-Cln-002-RJ_Trial4_Fast_20220311_100659.mat\n",
            "_________________\n",
            "TS-Cln-RM-003_Trial1_Regular_20220315_060038.mat\n",
            "_________________\n",
            "TS-Cln-RM-003_Trial2_Regular_20220315_060059.mat\n",
            "_________________\n",
            "TS-Cln-RM-003_Trial3_Fast_20220315_060209.mat\n",
            "_________________\n",
            "TS-Cln-RM-003_Trial4_Fast_20220315_060226.mat\n",
            "_________________\n",
            "TS-Cln-RM-003_Trial4_Fast_20220315_060742.mat\n",
            "_________________\n"
          ]
        }
      ],
      "source": [
        "import os\n",
        "from datetime import datetime\n",
        "\n",
        "current_datetime = datetime.now()\n",
        "formatted_datetime = current_datetime.strftime(\"%Y-%m-%d_%H-%M%p\")\n",
        "\n",
        "file_save_destination = 'kinzData_panda_'+formatted_datetime+'.csv'\n",
        "\n",
        "\n",
        "\n",
        "if os.path.exists(file_save_destination)==False:\n",
        "  pd.DataFrame(np.empty([0,102]), columns=['patientID','trial_num','walking_speed','t_uniform',\n",
        "  'PELVIS_X', 'SPINE_NAVAL_X', 'SPINE_CHEST_X', 'NECK_X', 'CLAVICLE_LEFT_X', 'SHOULDER_LEFT_X', 'ELBOW_LEFT_X', 'WRIST_LEFT_X', 'HAND_LEFT_X', 'HANDTIP_LEFT_X', 'THUMB_LEFT_X', 'CLAVICLE_RIGHT_X', 'SHOULDER_RIGHT_X', 'ELBOW_RIGHT_X', 'WRIST_RIGHT_X', 'HAND_RIGHT_X', 'HANDTIP_RIGHT_X', 'THUMB_RIGHT_X', 'HIP_LEFT_X', 'KNEE_LEFT_X', 'ANKLE_LEFT_X', 'FOOT_LEFT_X', 'HIP_RIGHT_X', 'KNEE_RIGHT_X', 'ANKLE_RIGHT_X', 'FOOT_RIGHT_X', 'HEAD_X', 'NOSE_X', 'EYE_LEFT_X', 'EAR_LEFT_X', 'EYE_RIGHT_X', 'EAR_RIGHT_X',\n",
        "  'PELVIS_Y', 'SPINE_NAVAL_Y', 'SPINE_CHEST_Y', 'NECK_Y', 'CLAVICLE_LEFT_Y', 'SHOULDER_LEFT_Y', 'ELBOW_LEFT_Y', 'WRIST_LEFT_Y', 'HAND_LEFT_Y', 'HANDTIP_LEFT_Y', 'THUMB_LEFT_Y', 'CLAVICLE_RIGHT_Y', 'SHOULDER_RIGHT_Y', 'ELBOW_RIGHT_Y', 'WRIST_RIGHT_Y', 'HAND_RIGHT_Y', 'HANDTIP_RIGHT_Y', 'THUMB_RIGHT_Y', 'HIP_LEFT_Y', 'KNEE_LEFT_Y', 'ANKLE_LEFT_Y', 'FOOT_LEFT_Y', 'HIP_RIGHT_Y', 'KNEE_RIGHT_Y', 'ANKLE_RIGHT_Y', 'FOOT_RIGHT_Y', 'HEAD_Y', 'NOSE_Y', 'EYE_LEFT_Y', 'EAR_LEFT_Y', 'EYE_RIGHT_Y', 'EAR_RIGHT_Y',\n",
        "  'PELVIS_Z', 'SPINE_NAVAL_Z', 'SPINE_CHEST_Z', 'NECK_Z', 'CLAVICLE_LEFT_Z', 'SHOULDER_LEFT_Z', 'ELBOW_LEFT_Z', 'WRIST_LEFT_Z', 'HAND_LEFT_Z', 'HANDTIP_LEFT_Z', 'THUMB_LEFT_Z', 'CLAVICLE_RIGHT_Z', 'SHOULDER_RIGHT_Z', 'ELBOW_RIGHT_Z', 'WRIST_RIGHT_Z', 'HAND_RIGHT_Z', 'HANDTIP_RIGHT_Z', 'THUMB_RIGHT_Z', 'HIP_LEFT_Z', 'KNEE_LEFT_Z', 'ANKLE_LEFT_Z', 'FOOT_LEFT_Z', 'HIP_RIGHT_Z', 'KNEE_RIGHT_Z', 'ANKLE_RIGHT_Z', 'FOOT_RIGHT_Z', 'HEAD_Z', 'NOSE_Z', 'EYE_LEFT_Z', 'EAR_LEFT_Z', 'EYE_RIGHT_Z', 'EAR_RIGHT_Z',\n",
        "  'footfall_event_times','accel_energy_total']).to_csv(file_save_destination,index=False)\n",
        "\n",
        "\n",
        "\n",
        "#try:\n",
        "\n",
        "for path in tqdm(all_file_path):\n",
        "    temp_df = pd.DataFrame(kinz_data(path), columns=['patientID','trial_num','walking_speed','t_uniform',\n",
        "    'PELVIS_X', 'SPINE_NAVAL_X', 'SPINE_CHEST_X', 'NECK_X', 'CLAVICLE_LEFT_X', 'SHOULDER_LEFT_X', 'ELBOW_LEFT_X', 'WRIST_LEFT_X', 'HAND_LEFT_X', 'HANDTIP_LEFT_X', 'THUMB_LEFT_X', 'CLAVICLE_RIGHT_X', 'SHOULDER_RIGHT_X', 'ELBOW_RIGHT_X', 'WRIST_RIGHT_X', 'HAND_RIGHT_X', 'HANDTIP_RIGHT_X', 'THUMB_RIGHT_X', 'HIP_LEFT_X', 'KNEE_LEFT_X', 'ANKLE_LEFT_X', 'FOOT_LEFT_X', 'HIP_RIGHT_X', 'KNEE_RIGHT_X', 'ANKLE_RIGHT_X', 'FOOT_RIGHT_X', 'HEAD_X', 'NOSE_X', 'EYE_LEFT_X', 'EAR_LEFT_X', 'EYE_RIGHT_X', 'EAR_RIGHT_X',\n",
        "    'PELVIS_Y', 'SPINE_NAVAL_Y', 'SPINE_CHEST_Y', 'NECK_Y', 'CLAVICLE_LEFT_Y', 'SHOULDER_LEFT_Y', 'ELBOW_LEFT_Y', 'WRIST_LEFT_Y', 'HAND_LEFT_Y', 'HANDTIP_LEFT_Y', 'THUMB_LEFT_Y', 'CLAVICLE_RIGHT_Y', 'SHOULDER_RIGHT_Y', 'ELBOW_RIGHT_Y', 'WRIST_RIGHT_Y', 'HAND_RIGHT_Y', 'HANDTIP_RIGHT_Y', 'THUMB_RIGHT_Y', 'HIP_LEFT_Y', 'KNEE_LEFT_Y', 'ANKLE_LEFT_Y', 'FOOT_LEFT_Y', 'HIP_RIGHT_Y', 'KNEE_RIGHT_Y', 'ANKLE_RIGHT_Y', 'FOOT_RIGHT_Y', 'HEAD_Y', 'NOSE_Y', 'EYE_LEFT_Y', 'EAR_LEFT_Y', 'EYE_RIGHT_Y', 'EAR_RIGHT_Y',\n",
        "    'PELVIS_Z', 'SPINE_NAVAL_Z', 'SPINE_CHEST_Z', 'NECK_Z', 'CLAVICLE_LEFT_Z', 'SHOULDER_LEFT_Z', 'ELBOW_LEFT_Z', 'WRIST_LEFT_Z', 'HAND_LEFT_Z', 'HANDTIP_LEFT_Z', 'THUMB_LEFT_Z', 'CLAVICLE_RIGHT_Z', 'SHOULDER_RIGHT_Z', 'ELBOW_RIGHT_Z', 'WRIST_RIGHT_Z', 'HAND_RIGHT_Z', 'HANDTIP_RIGHT_Z', 'THUMB_RIGHT_Z', 'HIP_LEFT_Z', 'KNEE_LEFT_Z', 'ANKLE_LEFT_Z', 'FOOT_LEFT_Z', 'HIP_RIGHT_Z', 'KNEE_RIGHT_Z', 'ANKLE_RIGHT_Z', 'FOOT_RIGHT_Z', 'HEAD_Z', 'NOSE_Z', 'EYE_LEFT_Z', 'EAR_LEFT_Z', 'EYE_RIGHT_Z', 'EAR_RIGHT_Z',\n",
        "    'footfall_event_times','accel_energy_total'])\n",
        "\n",
        "    columns_to_convert = temp_df.columns.difference(['patientID','trial_num', 'walking_speed'])\n",
        "    temp_df[columns_to_convert] = temp_df[columns_to_convert].astype(float)\n",
        "\n",
        "    print(os.path.basename(path))\n",
        "    temp_df.to_csv(file_save_destination, mode='a', index=False, header=False)\n",
        "    print(\"_________________\")\n",
        "\n"
      ]
    },
    {
      "cell_type": "markdown",
      "metadata": {},
      "source": [
        "# Ploting"
      ]
    },
    {
      "cell_type": "code",
      "execution_count": 6,
      "metadata": {},
      "outputs": [
        {
          "data": {
            "text/html": [
              "<div>\n",
              "<style scoped>\n",
              "    .dataframe tbody tr th:only-of-type {\n",
              "        vertical-align: middle;\n",
              "    }\n",
              "\n",
              "    .dataframe tbody tr th {\n",
              "        vertical-align: top;\n",
              "    }\n",
              "\n",
              "    .dataframe thead th {\n",
              "        text-align: right;\n",
              "    }\n",
              "</style>\n",
              "<table border=\"1\" class=\"dataframe\">\n",
              "  <thead>\n",
              "    <tr style=\"text-align: right;\">\n",
              "      <th></th>\n",
              "      <th>patientID</th>\n",
              "      <th>trial_num</th>\n",
              "      <th>walking_speed</th>\n",
              "      <th>t_uniform</th>\n",
              "      <th>PELVIS_X</th>\n",
              "      <th>SPINE_NAVAL_X</th>\n",
              "      <th>SPINE_CHEST_X</th>\n",
              "      <th>NECK_X</th>\n",
              "      <th>CLAVICLE_LEFT_X</th>\n",
              "      <th>SHOULDER_LEFT_X</th>\n",
              "      <th>...</th>\n",
              "      <th>ANKLE_RIGHT_Z</th>\n",
              "      <th>FOOT_RIGHT_Z</th>\n",
              "      <th>HEAD_Z</th>\n",
              "      <th>NOSE_Z</th>\n",
              "      <th>EYE_LEFT_Z</th>\n",
              "      <th>EAR_LEFT_Z</th>\n",
              "      <th>EYE_RIGHT_Z</th>\n",
              "      <th>EAR_RIGHT_Z</th>\n",
              "      <th>footfall_event_times</th>\n",
              "      <th>accel_energy_total</th>\n",
              "    </tr>\n",
              "  </thead>\n",
              "  <tbody>\n",
              "    <tr>\n",
              "      <th>0</th>\n",
              "      <td>001-LO</td>\n",
              "      <td>Trial1</td>\n",
              "      <td>Regular</td>\n",
              "      <td>0.014806</td>\n",
              "      <td>513.079538</td>\n",
              "      <td>516.003537</td>\n",
              "      <td>527.994788</td>\n",
              "      <td>545.712851</td>\n",
              "      <td>516.264630</td>\n",
              "      <td>405.175317</td>\n",
              "      <td>...</td>\n",
              "      <td>825.884006</td>\n",
              "      <td>894.117256</td>\n",
              "      <td>925.016797</td>\n",
              "      <td>954.213183</td>\n",
              "      <td>938.401915</td>\n",
              "      <td>886.661529</td>\n",
              "      <td>968.354628</td>\n",
              "      <td>981.439603</td>\n",
              "      <td>1.0</td>\n",
              "      <td>310.174637</td>\n",
              "    </tr>\n",
              "    <tr>\n",
              "      <th>1</th>\n",
              "      <td>001-LO</td>\n",
              "      <td>Trial1</td>\n",
              "      <td>Regular</td>\n",
              "      <td>0.034787</td>\n",
              "      <td>518.341956</td>\n",
              "      <td>523.496677</td>\n",
              "      <td>539.288301</td>\n",
              "      <td>549.834306</td>\n",
              "      <td>520.128180</td>\n",
              "      <td>405.456134</td>\n",
              "      <td>...</td>\n",
              "      <td>784.109292</td>\n",
              "      <td>847.342565</td>\n",
              "      <td>961.514530</td>\n",
              "      <td>951.963861</td>\n",
              "      <td>963.009239</td>\n",
              "      <td>945.312977</td>\n",
              "      <td>991.238931</td>\n",
              "      <td>1044.996519</td>\n",
              "      <td>0.0</td>\n",
              "      <td>144.858216</td>\n",
              "    </tr>\n",
              "    <tr>\n",
              "      <th>2</th>\n",
              "      <td>001-LO</td>\n",
              "      <td>Trial1</td>\n",
              "      <td>Regular</td>\n",
              "      <td>0.054767</td>\n",
              "      <td>529.923963</td>\n",
              "      <td>541.248914</td>\n",
              "      <td>552.630499</td>\n",
              "      <td>552.997228</td>\n",
              "      <td>524.350174</td>\n",
              "      <td>408.479201</td>\n",
              "      <td>...</td>\n",
              "      <td>777.246423</td>\n",
              "      <td>837.827719</td>\n",
              "      <td>987.262010</td>\n",
              "      <td>983.921111</td>\n",
              "      <td>995.232664</td>\n",
              "      <td>973.751899</td>\n",
              "      <td>1023.415136</td>\n",
              "      <td>1073.302525</td>\n",
              "      <td>0.0</td>\n",
              "      <td>24.355099</td>\n",
              "    </tr>\n",
              "    <tr>\n",
              "      <th>3</th>\n",
              "      <td>001-LO</td>\n",
              "      <td>Trial1</td>\n",
              "      <td>Regular</td>\n",
              "      <td>0.074748</td>\n",
              "      <td>534.861455</td>\n",
              "      <td>548.038017</td>\n",
              "      <td>556.688923</td>\n",
              "      <td>551.944125</td>\n",
              "      <td>523.861126</td>\n",
              "      <td>407.510892</td>\n",
              "      <td>...</td>\n",
              "      <td>802.468369</td>\n",
              "      <td>862.476378</td>\n",
              "      <td>1015.462905</td>\n",
              "      <td>1023.426646</td>\n",
              "      <td>1033.121369</td>\n",
              "      <td>1005.673693</td>\n",
              "      <td>1059.598333</td>\n",
              "      <td>1098.709654</td>\n",
              "      <td>0.0</td>\n",
              "      <td>8.841809</td>\n",
              "    </tr>\n",
              "    <tr>\n",
              "      <th>4</th>\n",
              "      <td>001-LO</td>\n",
              "      <td>Trial1</td>\n",
              "      <td>Regular</td>\n",
              "      <td>0.094728</td>\n",
              "      <td>534.057534</td>\n",
              "      <td>545.354058</td>\n",
              "      <td>552.725394</td>\n",
              "      <td>547.248025</td>\n",
              "      <td>519.301345</td>\n",
              "      <td>403.093700</td>\n",
              "      <td>...</td>\n",
              "      <td>855.414270</td>\n",
              "      <td>916.645154</td>\n",
              "      <td>1045.783754</td>\n",
              "      <td>1069.454529</td>\n",
              "      <td>1075.905348</td>\n",
              "      <td>1040.604981</td>\n",
              "      <td>1099.243905</td>\n",
              "      <td>1121.611912</td>\n",
              "      <td>0.0</td>\n",
              "      <td>6.709876</td>\n",
              "    </tr>\n",
              "    <tr>\n",
              "      <th>...</th>\n",
              "      <td>...</td>\n",
              "      <td>...</td>\n",
              "      <td>...</td>\n",
              "      <td>...</td>\n",
              "      <td>...</td>\n",
              "      <td>...</td>\n",
              "      <td>...</td>\n",
              "      <td>...</td>\n",
              "      <td>...</td>\n",
              "      <td>...</td>\n",
              "      <td>...</td>\n",
              "      <td>...</td>\n",
              "      <td>...</td>\n",
              "      <td>...</td>\n",
              "      <td>...</td>\n",
              "      <td>...</td>\n",
              "      <td>...</td>\n",
              "      <td>...</td>\n",
              "      <td>...</td>\n",
              "      <td>...</td>\n",
              "      <td>...</td>\n",
              "    </tr>\n",
              "    <tr>\n",
              "      <th>4295</th>\n",
              "      <td>RM-003</td>\n",
              "      <td>Trial4</td>\n",
              "      <td>Fast</td>\n",
              "      <td>4.575462</td>\n",
              "      <td>358.710652</td>\n",
              "      <td>369.498468</td>\n",
              "      <td>382.508738</td>\n",
              "      <td>395.521645</td>\n",
              "      <td>425.283534</td>\n",
              "      <td>558.737347</td>\n",
              "      <td>...</td>\n",
              "      <td>1301.344845</td>\n",
              "      <td>1184.716056</td>\n",
              "      <td>1241.916060</td>\n",
              "      <td>1092.983194</td>\n",
              "      <td>1123.433997</td>\n",
              "      <td>1239.186782</td>\n",
              "      <td>1109.922358</td>\n",
              "      <td>1206.978108</td>\n",
              "      <td>0.0</td>\n",
              "      <td>14.435107</td>\n",
              "    </tr>\n",
              "    <tr>\n",
              "      <th>4296</th>\n",
              "      <td>RM-003</td>\n",
              "      <td>Trial4</td>\n",
              "      <td>Fast</td>\n",
              "      <td>4.595443</td>\n",
              "      <td>361.159414</td>\n",
              "      <td>370.684840</td>\n",
              "      <td>383.363546</td>\n",
              "      <td>396.919313</td>\n",
              "      <td>426.662920</td>\n",
              "      <td>560.778559</td>\n",
              "      <td>...</td>\n",
              "      <td>1265.964096</td>\n",
              "      <td>1151.275449</td>\n",
              "      <td>1223.175397</td>\n",
              "      <td>1074.101826</td>\n",
              "      <td>1104.618833</td>\n",
              "      <td>1220.969173</td>\n",
              "      <td>1090.595704</td>\n",
              "      <td>1187.059845</td>\n",
              "      <td>0.0</td>\n",
              "      <td>3.086024</td>\n",
              "    </tr>\n",
              "    <tr>\n",
              "      <th>4297</th>\n",
              "      <td>RM-003</td>\n",
              "      <td>Trial4</td>\n",
              "      <td>Fast</td>\n",
              "      <td>4.615423</td>\n",
              "      <td>363.134322</td>\n",
              "      <td>372.132296</td>\n",
              "      <td>384.724247</td>\n",
              "      <td>398.545474</td>\n",
              "      <td>428.357014</td>\n",
              "      <td>563.074489</td>\n",
              "      <td>...</td>\n",
              "      <td>1230.605310</td>\n",
              "      <td>1116.792655</td>\n",
              "      <td>1203.219142</td>\n",
              "      <td>1053.425595</td>\n",
              "      <td>1083.309696</td>\n",
              "      <td>1199.754113</td>\n",
              "      <td>1069.464834</td>\n",
              "      <td>1166.213859</td>\n",
              "      <td>0.0</td>\n",
              "      <td>3.547316</td>\n",
              "    </tr>\n",
              "    <tr>\n",
              "      <th>4298</th>\n",
              "      <td>RM-003</td>\n",
              "      <td>Trial4</td>\n",
              "      <td>Fast</td>\n",
              "      <td>4.635404</td>\n",
              "      <td>364.295960</td>\n",
              "      <td>374.027851</td>\n",
              "      <td>386.953205</td>\n",
              "      <td>400.563796</td>\n",
              "      <td>430.591239</td>\n",
              "      <td>565.807589</td>\n",
              "      <td>...</td>\n",
              "      <td>1195.284216</td>\n",
              "      <td>1080.521170</td>\n",
              "      <td>1181.176583</td>\n",
              "      <td>1029.668867</td>\n",
              "      <td>1057.720191</td>\n",
              "      <td>1173.394570</td>\n",
              "      <td>1045.237414</td>\n",
              "      <td>1143.775634</td>\n",
              "      <td>0.0</td>\n",
              "      <td>4.531029</td>\n",
              "    </tr>\n",
              "    <tr>\n",
              "      <th>4299</th>\n",
              "      <td>RM-003</td>\n",
              "      <td>Trial4</td>\n",
              "      <td>Fast</td>\n",
              "      <td>4.655384</td>\n",
              "      <td>362.571817</td>\n",
              "      <td>372.404484</td>\n",
              "      <td>385.814443</td>\n",
              "      <td>398.096340</td>\n",
              "      <td>428.063663</td>\n",
              "      <td>562.369638</td>\n",
              "      <td>...</td>\n",
              "      <td>1180.851989</td>\n",
              "      <td>1066.685029</td>\n",
              "      <td>1154.589558</td>\n",
              "      <td>1006.585573</td>\n",
              "      <td>1032.585175</td>\n",
              "      <td>1146.941575</td>\n",
              "      <td>1018.535108</td>\n",
              "      <td>1111.202834</td>\n",
              "      <td>0.0</td>\n",
              "      <td>3.054218</td>\n",
              "    </tr>\n",
              "  </tbody>\n",
              "</table>\n",
              "<p>4300 rows × 102 columns</p>\n",
              "</div>"
            ],
            "text/plain": [
              "     patientID trial_num walking_speed  t_uniform    PELVIS_X  SPINE_NAVAL_X  \\\n",
              "0       001-LO    Trial1       Regular   0.014806  513.079538     516.003537   \n",
              "1       001-LO    Trial1       Regular   0.034787  518.341956     523.496677   \n",
              "2       001-LO    Trial1       Regular   0.054767  529.923963     541.248914   \n",
              "3       001-LO    Trial1       Regular   0.074748  534.861455     548.038017   \n",
              "4       001-LO    Trial1       Regular   0.094728  534.057534     545.354058   \n",
              "...        ...       ...           ...        ...         ...            ...   \n",
              "4295    RM-003    Trial4          Fast   4.575462  358.710652     369.498468   \n",
              "4296    RM-003    Trial4          Fast   4.595443  361.159414     370.684840   \n",
              "4297    RM-003    Trial4          Fast   4.615423  363.134322     372.132296   \n",
              "4298    RM-003    Trial4          Fast   4.635404  364.295960     374.027851   \n",
              "4299    RM-003    Trial4          Fast   4.655384  362.571817     372.404484   \n",
              "\n",
              "      SPINE_CHEST_X      NECK_X  CLAVICLE_LEFT_X  SHOULDER_LEFT_X  ...  \\\n",
              "0        527.994788  545.712851       516.264630       405.175317  ...   \n",
              "1        539.288301  549.834306       520.128180       405.456134  ...   \n",
              "2        552.630499  552.997228       524.350174       408.479201  ...   \n",
              "3        556.688923  551.944125       523.861126       407.510892  ...   \n",
              "4        552.725394  547.248025       519.301345       403.093700  ...   \n",
              "...             ...         ...              ...              ...  ...   \n",
              "4295     382.508738  395.521645       425.283534       558.737347  ...   \n",
              "4296     383.363546  396.919313       426.662920       560.778559  ...   \n",
              "4297     384.724247  398.545474       428.357014       563.074489  ...   \n",
              "4298     386.953205  400.563796       430.591239       565.807589  ...   \n",
              "4299     385.814443  398.096340       428.063663       562.369638  ...   \n",
              "\n",
              "      ANKLE_RIGHT_Z  FOOT_RIGHT_Z       HEAD_Z       NOSE_Z   EYE_LEFT_Z  \\\n",
              "0        825.884006    894.117256   925.016797   954.213183   938.401915   \n",
              "1        784.109292    847.342565   961.514530   951.963861   963.009239   \n",
              "2        777.246423    837.827719   987.262010   983.921111   995.232664   \n",
              "3        802.468369    862.476378  1015.462905  1023.426646  1033.121369   \n",
              "4        855.414270    916.645154  1045.783754  1069.454529  1075.905348   \n",
              "...             ...           ...          ...          ...          ...   \n",
              "4295    1301.344845   1184.716056  1241.916060  1092.983194  1123.433997   \n",
              "4296    1265.964096   1151.275449  1223.175397  1074.101826  1104.618833   \n",
              "4297    1230.605310   1116.792655  1203.219142  1053.425595  1083.309696   \n",
              "4298    1195.284216   1080.521170  1181.176583  1029.668867  1057.720191   \n",
              "4299    1180.851989   1066.685029  1154.589558  1006.585573  1032.585175   \n",
              "\n",
              "       EAR_LEFT_Z  EYE_RIGHT_Z  EAR_RIGHT_Z  footfall_event_times  \\\n",
              "0      886.661529   968.354628   981.439603                   1.0   \n",
              "1      945.312977   991.238931  1044.996519                   0.0   \n",
              "2      973.751899  1023.415136  1073.302525                   0.0   \n",
              "3     1005.673693  1059.598333  1098.709654                   0.0   \n",
              "4     1040.604981  1099.243905  1121.611912                   0.0   \n",
              "...           ...          ...          ...                   ...   \n",
              "4295  1239.186782  1109.922358  1206.978108                   0.0   \n",
              "4296  1220.969173  1090.595704  1187.059845                   0.0   \n",
              "4297  1199.754113  1069.464834  1166.213859                   0.0   \n",
              "4298  1173.394570  1045.237414  1143.775634                   0.0   \n",
              "4299  1146.941575  1018.535108  1111.202834                   0.0   \n",
              "\n",
              "      accel_energy_total  \n",
              "0             310.174637  \n",
              "1             144.858216  \n",
              "2              24.355099  \n",
              "3               8.841809  \n",
              "4               6.709876  \n",
              "...                  ...  \n",
              "4295           14.435107  \n",
              "4296            3.086024  \n",
              "4297            3.547316  \n",
              "4298            4.531029  \n",
              "4299            3.054218  \n",
              "\n",
              "[4300 rows x 102 columns]"
            ]
          },
          "execution_count": 6,
          "metadata": {},
          "output_type": "execute_result"
        }
      ],
      "source": [
        "# Load the dataset\n",
        "file_path = r\"C:\\Users\\RAZER\\Downloads\\kinzData_panda_2025-05-28_02-45AM.csv\"\n",
        "\n",
        "df = pd.read_csv(file_path)\n",
        "df"
      ]
    },
    {
      "cell_type": "code",
      "execution_count": 7,
      "metadata": {},
      "outputs": [
        {
          "name": "stdout",
          "output_type": "stream",
          "text": [
            "     patientID trial_num walking_speed  t_uniform    PELVIS_X  SPINE_NAVAL_X  \\\n",
            "0       001-LO    Trial1       Regular   0.014806  513.079538     516.003537   \n",
            "1       001-LO    Trial1       Regular   0.034787  518.341956     523.496677   \n",
            "2       001-LO    Trial1       Regular   0.054767  529.923963     541.248914   \n",
            "3       001-LO    Trial1       Regular   0.074748  534.861455     548.038017   \n",
            "4       001-LO    Trial1       Regular   0.094728  534.057534     545.354058   \n",
            "...        ...       ...           ...        ...         ...            ...   \n",
            "4295    RM-003    Trial4          Fast   4.575462  358.710652     369.498468   \n",
            "4296    RM-003    Trial4          Fast   4.595443  361.159414     370.684840   \n",
            "4297    RM-003    Trial4          Fast   4.615423  363.134322     372.132296   \n",
            "4298    RM-003    Trial4          Fast   4.635404  364.295960     374.027851   \n",
            "4299    RM-003    Trial4          Fast   4.655384  362.571817     372.404484   \n",
            "\n",
            "      SPINE_CHEST_X      NECK_X  CLAVICLE_LEFT_X  SHOULDER_LEFT_X  ...  \\\n",
            "0        527.994788  545.712851       516.264630       405.175317  ...   \n",
            "1        539.288301  549.834306       520.128180       405.456134  ...   \n",
            "2        552.630499  552.997228       524.350174       408.479201  ...   \n",
            "3        556.688923  551.944125       523.861126       407.510892  ...   \n",
            "4        552.725394  547.248025       519.301345       403.093700  ...   \n",
            "...             ...         ...              ...              ...  ...   \n",
            "4295     382.508738  395.521645       425.283534       558.737347  ...   \n",
            "4296     383.363546  396.919313       426.662920       560.778559  ...   \n",
            "4297     384.724247  398.545474       428.357014       563.074489  ...   \n",
            "4298     386.953205  400.563796       430.591239       565.807589  ...   \n",
            "4299     385.814443  398.096340       428.063663       562.369638  ...   \n",
            "\n",
            "      ANKLE_RIGHT_Z  FOOT_RIGHT_Z       HEAD_Z       NOSE_Z   EYE_LEFT_Z  \\\n",
            "0        825.884006    894.117256   925.016797   954.213183   938.401915   \n",
            "1        784.109292    847.342565   961.514530   951.963861   963.009239   \n",
            "2        777.246423    837.827719   987.262010   983.921111   995.232664   \n",
            "3        802.468369    862.476378  1015.462905  1023.426646  1033.121369   \n",
            "4        855.414270    916.645154  1045.783754  1069.454529  1075.905348   \n",
            "...             ...           ...          ...          ...          ...   \n",
            "4295    1301.344845   1184.716056  1241.916060  1092.983194  1123.433997   \n",
            "4296    1265.964096   1151.275449  1223.175397  1074.101826  1104.618833   \n",
            "4297    1230.605310   1116.792655  1203.219142  1053.425595  1083.309696   \n",
            "4298    1195.284216   1080.521170  1181.176583  1029.668867  1057.720191   \n",
            "4299    1180.851989   1066.685029  1154.589558  1006.585573  1032.585175   \n",
            "\n",
            "       EAR_LEFT_Z  EYE_RIGHT_Z  EAR_RIGHT_Z  footfall_event_times  \\\n",
            "0      886.661529   968.354628   981.439603                   1.0   \n",
            "1      945.312977   991.238931  1044.996519                   0.0   \n",
            "2      973.751899  1023.415136  1073.302525                   0.0   \n",
            "3     1005.673693  1059.598333  1098.709654                   0.0   \n",
            "4     1040.604981  1099.243905  1121.611912                   0.0   \n",
            "...           ...          ...          ...                   ...   \n",
            "4295  1239.186782  1109.922358  1206.978108                   0.0   \n",
            "4296  1220.969173  1090.595704  1187.059845                   0.0   \n",
            "4297  1199.754113  1069.464834  1166.213859                   0.0   \n",
            "4298  1173.394570  1045.237414  1143.775634                   0.0   \n",
            "4299  1146.941575  1018.535108  1111.202834                   0.0   \n",
            "\n",
            "      accel_energy_total  \n",
            "0             310.174637  \n",
            "1             144.858216  \n",
            "2              24.355099  \n",
            "3               8.841809  \n",
            "4               6.709876  \n",
            "...                  ...  \n",
            "4295           14.435107  \n",
            "4296            3.086024  \n",
            "4297            3.547316  \n",
            "4298            4.531029  \n",
            "4299            3.054218  \n",
            "\n",
            "[4300 rows x 102 columns]\n"
          ]
        }
      ],
      "source": [
        "print(df)"
      ]
    },
    {
      "cell_type": "code",
      "execution_count": 14,
      "metadata": {
        "id": "RhmXAS-zMoYT"
      },
      "outputs": [
        {
          "data": {
            "application/vnd.plotly.v1+json": {
              "config": {
                "plotlyServerURL": "https://plot.ly"
              },
              "data": [
                {
                  "hoverinfo": "none",
                  "line": {
                    "color": "black",
                    "width": 2
                  },
                  "mode": "lines",
                  "type": "scatter3d",
                  "x": [
                    600.662355579002,
                    585.6032695331182,
                    null,
                    419.4656209116957,
                    446.8525001048712,
                    null,
                    585.6032695331182,
                    607.1102004961224,
                    null,
                    446.8525001048712,
                    444.5682380798252,
                    null,
                    607.1102004961224,
                    600.065460514889,
                    null,
                    444.5682380798252,
                    455.7709846134957,
                    null,
                    600.065460514889,
                    531.64576838518,
                    null,
                    455.7709846134957,
                    531.64576838518,
                    null,
                    531.64576838518,
                    537.302180849636,
                    null,
                    537.302180849636,
                    540.8348044681345,
                    null,
                    540.8348044681345,
                    563.2806234500821,
                    null,
                    540.8348044681345,
                    505.6220020980471,
                    null,
                    563.2806234500821,
                    670.3333586635028,
                    null,
                    505.6220020980471,
                    389.84212520103085,
                    null,
                    670.3333586635028,
                    734.5961306683377,
                    null,
                    389.84212520103085,
                    373.6169211832545,
                    null,
                    734.5961306683377,
                    758.7889614872756,
                    null,
                    373.6169211832545,
                    359.02498299729336,
                    null,
                    758.7889614872756,
                    732.3959546523815,
                    null,
                    359.02498299729336,
                    339.25384969323113,
                    null,
                    732.3959546523815,
                    685.8262058089026,
                    null,
                    339.25384969323113,
                    404.39664293928126,
                    null,
                    758.7889614872756,
                    680.4154337550274,
                    null,
                    359.02498299729336,
                    409.85916676183695,
                    null,
                    540.8348044681345,
                    533.1597262657792,
                    null,
                    533.1597262657792,
                    529.4081206475033,
                    null,
                    529.4081206475033,
                    477.3936275220743,
                    null,
                    529.4081206475033,
                    462.4394761331527,
                    null,
                    529.4081206475033,
                    460.44840678639537,
                    null,
                    529.4081206475033,
                    494.09473931340096,
                    null,
                    529.4081206475033,
                    562.2851361061998,
                    null
                  ],
                  "y": [
                    813.3402573276969,
                    681.0134546375914,
                    null,
                    721.8666648770973,
                    652.1612789626538,
                    null,
                    681.0134546375914,
                    383.8804036559537,
                    null,
                    652.1612789626538,
                    344.0540362375639,
                    null,
                    383.8804036559537,
                    44.49721333798937,
                    null,
                    344.0540362375639,
                    39.83413709580821,
                    null,
                    44.49721333798937,
                    42.286136509731165,
                    null,
                    39.83413709580821,
                    42.286136509731165,
                    null,
                    42.286136509731165,
                    -110.82966540306084,
                    null,
                    -110.82966540306084,
                    -233.14816550822505,
                    null,
                    -233.14816550822505,
                    -388.8138581355755,
                    null,
                    -233.14816550822505,
                    -386.483761788952,
                    null,
                    -388.8138581355755,
                    -353.0957687257569,
                    null,
                    -386.483761788952,
                    -346.4344999305126,
                    null,
                    -353.0957687257569,
                    -119.81700300428535,
                    null,
                    -346.4344999305126,
                    -112.79245405857668,
                    null,
                    -119.81700300428535,
                    64.61814847036905,
                    null,
                    -112.79245405857668,
                    70.78315940177225,
                    null,
                    64.61814847036905,
                    136.10802650870005,
                    null,
                    70.78315940177225,
                    96.78482789363674,
                    null,
                    136.10802650870005,
                    200.39055939080484,
                    null,
                    96.78482789363674,
                    151.87266483815972,
                    null,
                    64.61814847036905,
                    130.1128780767388,
                    null,
                    70.78315940177225,
                    95.68676407453052,
                    null,
                    -233.14816550822505,
                    -418.3610948375344,
                    null,
                    -418.3610948375344,
                    -488.468863664453,
                    null,
                    -488.468863664453,
                    -443.1735290458101,
                    null,
                    -488.468863664453,
                    -485.3618778278964,
                    null,
                    -488.468863664453,
                    -541.7500821495879,
                    null,
                    -488.468863664453,
                    -469.3651568686006,
                    null,
                    -488.468863664453,
                    -504.37893143254166,
                    null
                  ],
                  "z": [
                    1079.1514821785754,
                    1014.251973845538,
                    null,
                    1587.7301057656343,
                    1451.149393321089,
                    null,
                    1014.251973845538,
                    1151.0148890368546,
                    null,
                    1451.149393321089,
                    1341.842520821742,
                    null,
                    1151.0148890368546,
                    1154.4072554021643,
                    null,
                    1341.842520821742,
                    1180.7542246032924,
                    null,
                    1154.4072554021643,
                    1166.9001046939284,
                    null,
                    1180.7542246032924,
                    1166.9001046939284,
                    null,
                    1166.9001046939284,
                    1163.9267924798364,
                    null,
                    1163.9267924798364,
                    1156.739070852548,
                    null,
                    1156.739070852548,
                    1138.8793933672496,
                    null,
                    1156.739070852548,
                    1134.5701729459788,
                    null,
                    1138.8793933672496,
                    1147.5964287829622,
                    null,
                    1134.5701729459788,
                    1123.5142773595846,
                    null,
                    1147.5964287829622,
                    1159.1094710425425,
                    null,
                    1123.5142773595846,
                    1089.1088203206414,
                    null,
                    1159.1094710425425,
                    1221.5203961620823,
                    null,
                    1089.1088203206414,
                    1122.9445852700144,
                    null,
                    1221.5203961620823,
                    1207.796733507294,
                    null,
                    1122.9445852700144,
                    1173.174117986367,
                    null,
                    1207.796733507294,
                    1168.269574772486,
                    null,
                    1173.174117986367,
                    1208.2680297099505,
                    null,
                    1221.5203961620823,
                    1182.4123029301993,
                    null,
                    1122.9445852700144,
                    1191.07220612498,
                    null,
                    1156.739070852548,
                    1133.837277614665,
                    null,
                    1133.837277614665,
                    1136.7463011516793,
                    null,
                    1136.7463011516793,
                    1207.538177320438,
                    null,
                    1136.7463011516793,
                    1204.2572869478502,
                    null,
                    1136.7463011516793,
                    1145.398843869474,
                    null,
                    1136.7463011516793,
                    1218.180620064507,
                    null,
                    1136.7463011516793,
                    1190.3186868056368,
                    null
                  ]
                },
                {
                  "hoverinfo": "text",
                  "marker": {
                    "color": "blue",
                    "size": 6
                  },
                  "mode": "markers+text",
                  "text": [
                    "FOOT_RIGHT",
                    "FOOT_LEFT",
                    "ANKLE_RIGHT",
                    "ANKLE_LEFT",
                    "KNEE_RIGHT",
                    "KNEE_LEFT",
                    "HIP_RIGHT",
                    "HIP_LEFT",
                    "PELVIS",
                    "SPINE_NAVAL",
                    "SPINE_CHEST",
                    "CLAVICLE_RIGHT",
                    "CLAVICLE_LEFT",
                    "SHOULDER_RIGHT",
                    "SHOULDER_LEFT",
                    "ELBOW_RIGHT",
                    "ELBOW_LEFT",
                    "WRIST_RIGHT",
                    "WRIST_LEFT",
                    "HAND_RIGHT",
                    "HAND_LEFT",
                    "HANDTIP_RIGHT",
                    "HANDTIP_LEFT",
                    "THUMB_RIGHT",
                    "THUMB_LEFT",
                    "NECK",
                    "HEAD",
                    "NOSE",
                    "EYE_LEFT",
                    "EAR_LEFT",
                    "EYE_RIGHT",
                    "EAR_RIGHT"
                  ],
                  "type": "scatter3d",
                  "x": [
                    600.662355579002,
                    419.4656209116957,
                    585.6032695331182,
                    446.8525001048712,
                    607.1102004961224,
                    444.5682380798252,
                    600.065460514889,
                    455.7709846134957,
                    531.64576838518,
                    537.302180849636,
                    540.8348044681345,
                    563.2806234500821,
                    505.6220020980471,
                    670.3333586635028,
                    389.84212520103085,
                    734.5961306683377,
                    373.6169211832545,
                    758.7889614872756,
                    359.02498299729336,
                    732.3959546523815,
                    339.25384969323113,
                    685.8262058089026,
                    404.39664293928126,
                    680.4154337550274,
                    409.85916676183695,
                    533.1597262657792,
                    529.4081206475033,
                    477.3936275220743,
                    462.4394761331527,
                    460.44840678639537,
                    494.09473931340096,
                    562.2851361061998
                  ],
                  "y": [
                    813.3402573276969,
                    721.8666648770973,
                    681.0134546375914,
                    652.1612789626538,
                    383.8804036559537,
                    344.0540362375639,
                    44.49721333798937,
                    39.83413709580821,
                    42.286136509731165,
                    -110.82966540306084,
                    -233.14816550822505,
                    -388.8138581355755,
                    -386.483761788952,
                    -353.0957687257569,
                    -346.4344999305126,
                    -119.81700300428535,
                    -112.79245405857668,
                    64.61814847036905,
                    70.78315940177225,
                    136.10802650870005,
                    96.78482789363674,
                    200.39055939080484,
                    151.87266483815972,
                    130.1128780767388,
                    95.68676407453052,
                    -418.3610948375344,
                    -488.468863664453,
                    -443.1735290458101,
                    -485.3618778278964,
                    -541.7500821495879,
                    -469.3651568686006,
                    -504.37893143254166
                  ],
                  "z": [
                    1079.1514821785754,
                    1587.7301057656343,
                    1014.251973845538,
                    1451.149393321089,
                    1151.0148890368546,
                    1341.842520821742,
                    1154.4072554021643,
                    1180.7542246032924,
                    1166.9001046939284,
                    1163.9267924798364,
                    1156.739070852548,
                    1138.8793933672496,
                    1134.5701729459788,
                    1147.5964287829622,
                    1123.5142773595846,
                    1159.1094710425425,
                    1089.1088203206414,
                    1221.5203961620823,
                    1122.9445852700144,
                    1207.796733507294,
                    1173.174117986367,
                    1168.269574772486,
                    1208.2680297099505,
                    1182.4123029301993,
                    1191.07220612498,
                    1133.837277614665,
                    1136.7463011516793,
                    1207.538177320438,
                    1204.2572869478502,
                    1145.398843869474,
                    1218.180620064507,
                    1190.3186868056368
                  ]
                }
              ],
              "layout": {
                "height": 1000,
                "margin": {
                  "b": 50,
                  "l": 50,
                  "r": 50,
                  "t": 50
                },
                "scene": {
                  "xaxis": {
                    "backgroundcolor": "rgb(230, 230, 230)",
                    "gridcolor": "rgb(200, 200, 200)",
                    "showbackground": true,
                    "showgrid": true,
                    "zerolinecolor": "rgb(200, 200, 200)"
                  },
                  "yaxis": {
                    "backgroundcolor": "rgb(230, 230, 230)",
                    "gridcolor": "rgb(200, 200, 200)",
                    "showbackground": true,
                    "showgrid": true,
                    "zerolinecolor": "rgb(200, 200, 200)"
                  },
                  "zaxis": {
                    "backgroundcolor": "rgb(230, 230, 230)",
                    "gridcolor": "rgb(200, 200, 200)",
                    "showbackground": true,
                    "showgrid": true,
                    "zerolinecolor": "rgb(200, 200, 200)"
                  }
                },
                "showlegend": false,
                "template": {
                  "data": {
                    "bar": [
                      {
                        "error_x": {
                          "color": "#2a3f5f"
                        },
                        "error_y": {
                          "color": "#2a3f5f"
                        },
                        "marker": {
                          "line": {
                            "color": "#E5ECF6",
                            "width": 0.5
                          },
                          "pattern": {
                            "fillmode": "overlay",
                            "size": 10,
                            "solidity": 0.2
                          }
                        },
                        "type": "bar"
                      }
                    ],
                    "barpolar": [
                      {
                        "marker": {
                          "line": {
                            "color": "#E5ECF6",
                            "width": 0.5
                          },
                          "pattern": {
                            "fillmode": "overlay",
                            "size": 10,
                            "solidity": 0.2
                          }
                        },
                        "type": "barpolar"
                      }
                    ],
                    "carpet": [
                      {
                        "aaxis": {
                          "endlinecolor": "#2a3f5f",
                          "gridcolor": "white",
                          "linecolor": "white",
                          "minorgridcolor": "white",
                          "startlinecolor": "#2a3f5f"
                        },
                        "baxis": {
                          "endlinecolor": "#2a3f5f",
                          "gridcolor": "white",
                          "linecolor": "white",
                          "minorgridcolor": "white",
                          "startlinecolor": "#2a3f5f"
                        },
                        "type": "carpet"
                      }
                    ],
                    "choropleth": [
                      {
                        "colorbar": {
                          "outlinewidth": 0,
                          "ticks": ""
                        },
                        "type": "choropleth"
                      }
                    ],
                    "contour": [
                      {
                        "colorbar": {
                          "outlinewidth": 0,
                          "ticks": ""
                        },
                        "colorscale": [
                          [
                            0,
                            "#0d0887"
                          ],
                          [
                            0.1111111111111111,
                            "#46039f"
                          ],
                          [
                            0.2222222222222222,
                            "#7201a8"
                          ],
                          [
                            0.3333333333333333,
                            "#9c179e"
                          ],
                          [
                            0.4444444444444444,
                            "#bd3786"
                          ],
                          [
                            0.5555555555555556,
                            "#d8576b"
                          ],
                          [
                            0.6666666666666666,
                            "#ed7953"
                          ],
                          [
                            0.7777777777777778,
                            "#fb9f3a"
                          ],
                          [
                            0.8888888888888888,
                            "#fdca26"
                          ],
                          [
                            1,
                            "#f0f921"
                          ]
                        ],
                        "type": "contour"
                      }
                    ],
                    "contourcarpet": [
                      {
                        "colorbar": {
                          "outlinewidth": 0,
                          "ticks": ""
                        },
                        "type": "contourcarpet"
                      }
                    ],
                    "heatmap": [
                      {
                        "colorbar": {
                          "outlinewidth": 0,
                          "ticks": ""
                        },
                        "colorscale": [
                          [
                            0,
                            "#0d0887"
                          ],
                          [
                            0.1111111111111111,
                            "#46039f"
                          ],
                          [
                            0.2222222222222222,
                            "#7201a8"
                          ],
                          [
                            0.3333333333333333,
                            "#9c179e"
                          ],
                          [
                            0.4444444444444444,
                            "#bd3786"
                          ],
                          [
                            0.5555555555555556,
                            "#d8576b"
                          ],
                          [
                            0.6666666666666666,
                            "#ed7953"
                          ],
                          [
                            0.7777777777777778,
                            "#fb9f3a"
                          ],
                          [
                            0.8888888888888888,
                            "#fdca26"
                          ],
                          [
                            1,
                            "#f0f921"
                          ]
                        ],
                        "type": "heatmap"
                      }
                    ],
                    "histogram": [
                      {
                        "marker": {
                          "pattern": {
                            "fillmode": "overlay",
                            "size": 10,
                            "solidity": 0.2
                          }
                        },
                        "type": "histogram"
                      }
                    ],
                    "histogram2d": [
                      {
                        "colorbar": {
                          "outlinewidth": 0,
                          "ticks": ""
                        },
                        "colorscale": [
                          [
                            0,
                            "#0d0887"
                          ],
                          [
                            0.1111111111111111,
                            "#46039f"
                          ],
                          [
                            0.2222222222222222,
                            "#7201a8"
                          ],
                          [
                            0.3333333333333333,
                            "#9c179e"
                          ],
                          [
                            0.4444444444444444,
                            "#bd3786"
                          ],
                          [
                            0.5555555555555556,
                            "#d8576b"
                          ],
                          [
                            0.6666666666666666,
                            "#ed7953"
                          ],
                          [
                            0.7777777777777778,
                            "#fb9f3a"
                          ],
                          [
                            0.8888888888888888,
                            "#fdca26"
                          ],
                          [
                            1,
                            "#f0f921"
                          ]
                        ],
                        "type": "histogram2d"
                      }
                    ],
                    "histogram2dcontour": [
                      {
                        "colorbar": {
                          "outlinewidth": 0,
                          "ticks": ""
                        },
                        "colorscale": [
                          [
                            0,
                            "#0d0887"
                          ],
                          [
                            0.1111111111111111,
                            "#46039f"
                          ],
                          [
                            0.2222222222222222,
                            "#7201a8"
                          ],
                          [
                            0.3333333333333333,
                            "#9c179e"
                          ],
                          [
                            0.4444444444444444,
                            "#bd3786"
                          ],
                          [
                            0.5555555555555556,
                            "#d8576b"
                          ],
                          [
                            0.6666666666666666,
                            "#ed7953"
                          ],
                          [
                            0.7777777777777778,
                            "#fb9f3a"
                          ],
                          [
                            0.8888888888888888,
                            "#fdca26"
                          ],
                          [
                            1,
                            "#f0f921"
                          ]
                        ],
                        "type": "histogram2dcontour"
                      }
                    ],
                    "mesh3d": [
                      {
                        "colorbar": {
                          "outlinewidth": 0,
                          "ticks": ""
                        },
                        "type": "mesh3d"
                      }
                    ],
                    "parcoords": [
                      {
                        "line": {
                          "colorbar": {
                            "outlinewidth": 0,
                            "ticks": ""
                          }
                        },
                        "type": "parcoords"
                      }
                    ],
                    "pie": [
                      {
                        "automargin": true,
                        "type": "pie"
                      }
                    ],
                    "scatter": [
                      {
                        "fillpattern": {
                          "fillmode": "overlay",
                          "size": 10,
                          "solidity": 0.2
                        },
                        "type": "scatter"
                      }
                    ],
                    "scatter3d": [
                      {
                        "line": {
                          "colorbar": {
                            "outlinewidth": 0,
                            "ticks": ""
                          }
                        },
                        "marker": {
                          "colorbar": {
                            "outlinewidth": 0,
                            "ticks": ""
                          }
                        },
                        "type": "scatter3d"
                      }
                    ],
                    "scattercarpet": [
                      {
                        "marker": {
                          "colorbar": {
                            "outlinewidth": 0,
                            "ticks": ""
                          }
                        },
                        "type": "scattercarpet"
                      }
                    ],
                    "scattergeo": [
                      {
                        "marker": {
                          "colorbar": {
                            "outlinewidth": 0,
                            "ticks": ""
                          }
                        },
                        "type": "scattergeo"
                      }
                    ],
                    "scattergl": [
                      {
                        "marker": {
                          "colorbar": {
                            "outlinewidth": 0,
                            "ticks": ""
                          }
                        },
                        "type": "scattergl"
                      }
                    ],
                    "scattermap": [
                      {
                        "marker": {
                          "colorbar": {
                            "outlinewidth": 0,
                            "ticks": ""
                          }
                        },
                        "type": "scattermap"
                      }
                    ],
                    "scattermapbox": [
                      {
                        "marker": {
                          "colorbar": {
                            "outlinewidth": 0,
                            "ticks": ""
                          }
                        },
                        "type": "scattermapbox"
                      }
                    ],
                    "scatterpolar": [
                      {
                        "marker": {
                          "colorbar": {
                            "outlinewidth": 0,
                            "ticks": ""
                          }
                        },
                        "type": "scatterpolar"
                      }
                    ],
                    "scatterpolargl": [
                      {
                        "marker": {
                          "colorbar": {
                            "outlinewidth": 0,
                            "ticks": ""
                          }
                        },
                        "type": "scatterpolargl"
                      }
                    ],
                    "scatterternary": [
                      {
                        "marker": {
                          "colorbar": {
                            "outlinewidth": 0,
                            "ticks": ""
                          }
                        },
                        "type": "scatterternary"
                      }
                    ],
                    "surface": [
                      {
                        "colorbar": {
                          "outlinewidth": 0,
                          "ticks": ""
                        },
                        "colorscale": [
                          [
                            0,
                            "#0d0887"
                          ],
                          [
                            0.1111111111111111,
                            "#46039f"
                          ],
                          [
                            0.2222222222222222,
                            "#7201a8"
                          ],
                          [
                            0.3333333333333333,
                            "#9c179e"
                          ],
                          [
                            0.4444444444444444,
                            "#bd3786"
                          ],
                          [
                            0.5555555555555556,
                            "#d8576b"
                          ],
                          [
                            0.6666666666666666,
                            "#ed7953"
                          ],
                          [
                            0.7777777777777778,
                            "#fb9f3a"
                          ],
                          [
                            0.8888888888888888,
                            "#fdca26"
                          ],
                          [
                            1,
                            "#f0f921"
                          ]
                        ],
                        "type": "surface"
                      }
                    ],
                    "table": [
                      {
                        "cells": {
                          "fill": {
                            "color": "#EBF0F8"
                          },
                          "line": {
                            "color": "white"
                          }
                        },
                        "header": {
                          "fill": {
                            "color": "#C8D4E3"
                          },
                          "line": {
                            "color": "white"
                          }
                        },
                        "type": "table"
                      }
                    ]
                  },
                  "layout": {
                    "annotationdefaults": {
                      "arrowcolor": "#2a3f5f",
                      "arrowhead": 0,
                      "arrowwidth": 1
                    },
                    "autotypenumbers": "strict",
                    "coloraxis": {
                      "colorbar": {
                        "outlinewidth": 0,
                        "ticks": ""
                      }
                    },
                    "colorscale": {
                      "diverging": [
                        [
                          0,
                          "#8e0152"
                        ],
                        [
                          0.1,
                          "#c51b7d"
                        ],
                        [
                          0.2,
                          "#de77ae"
                        ],
                        [
                          0.3,
                          "#f1b6da"
                        ],
                        [
                          0.4,
                          "#fde0ef"
                        ],
                        [
                          0.5,
                          "#f7f7f7"
                        ],
                        [
                          0.6,
                          "#e6f5d0"
                        ],
                        [
                          0.7,
                          "#b8e186"
                        ],
                        [
                          0.8,
                          "#7fbc41"
                        ],
                        [
                          0.9,
                          "#4d9221"
                        ],
                        [
                          1,
                          "#276419"
                        ]
                      ],
                      "sequential": [
                        [
                          0,
                          "#0d0887"
                        ],
                        [
                          0.1111111111111111,
                          "#46039f"
                        ],
                        [
                          0.2222222222222222,
                          "#7201a8"
                        ],
                        [
                          0.3333333333333333,
                          "#9c179e"
                        ],
                        [
                          0.4444444444444444,
                          "#bd3786"
                        ],
                        [
                          0.5555555555555556,
                          "#d8576b"
                        ],
                        [
                          0.6666666666666666,
                          "#ed7953"
                        ],
                        [
                          0.7777777777777778,
                          "#fb9f3a"
                        ],
                        [
                          0.8888888888888888,
                          "#fdca26"
                        ],
                        [
                          1,
                          "#f0f921"
                        ]
                      ],
                      "sequentialminus": [
                        [
                          0,
                          "#0d0887"
                        ],
                        [
                          0.1111111111111111,
                          "#46039f"
                        ],
                        [
                          0.2222222222222222,
                          "#7201a8"
                        ],
                        [
                          0.3333333333333333,
                          "#9c179e"
                        ],
                        [
                          0.4444444444444444,
                          "#bd3786"
                        ],
                        [
                          0.5555555555555556,
                          "#d8576b"
                        ],
                        [
                          0.6666666666666666,
                          "#ed7953"
                        ],
                        [
                          0.7777777777777778,
                          "#fb9f3a"
                        ],
                        [
                          0.8888888888888888,
                          "#fdca26"
                        ],
                        [
                          1,
                          "#f0f921"
                        ]
                      ]
                    },
                    "colorway": [
                      "#636efa",
                      "#EF553B",
                      "#00cc96",
                      "#ab63fa",
                      "#FFA15A",
                      "#19d3f3",
                      "#FF6692",
                      "#B6E880",
                      "#FF97FF",
                      "#FECB52"
                    ],
                    "font": {
                      "color": "#2a3f5f"
                    },
                    "geo": {
                      "bgcolor": "white",
                      "lakecolor": "white",
                      "landcolor": "#E5ECF6",
                      "showlakes": true,
                      "showland": true,
                      "subunitcolor": "white"
                    },
                    "hoverlabel": {
                      "align": "left"
                    },
                    "hovermode": "closest",
                    "mapbox": {
                      "style": "light"
                    },
                    "paper_bgcolor": "white",
                    "plot_bgcolor": "#E5ECF6",
                    "polar": {
                      "angularaxis": {
                        "gridcolor": "white",
                        "linecolor": "white",
                        "ticks": ""
                      },
                      "bgcolor": "#E5ECF6",
                      "radialaxis": {
                        "gridcolor": "white",
                        "linecolor": "white",
                        "ticks": ""
                      }
                    },
                    "scene": {
                      "xaxis": {
                        "backgroundcolor": "#E5ECF6",
                        "gridcolor": "white",
                        "gridwidth": 2,
                        "linecolor": "white",
                        "showbackground": true,
                        "ticks": "",
                        "zerolinecolor": "white"
                      },
                      "yaxis": {
                        "backgroundcolor": "#E5ECF6",
                        "gridcolor": "white",
                        "gridwidth": 2,
                        "linecolor": "white",
                        "showbackground": true,
                        "ticks": "",
                        "zerolinecolor": "white"
                      },
                      "zaxis": {
                        "backgroundcolor": "#E5ECF6",
                        "gridcolor": "white",
                        "gridwidth": 2,
                        "linecolor": "white",
                        "showbackground": true,
                        "ticks": "",
                        "zerolinecolor": "white"
                      }
                    },
                    "shapedefaults": {
                      "line": {
                        "color": "#2a3f5f"
                      }
                    },
                    "ternary": {
                      "aaxis": {
                        "gridcolor": "white",
                        "linecolor": "white",
                        "ticks": ""
                      },
                      "baxis": {
                        "gridcolor": "white",
                        "linecolor": "white",
                        "ticks": ""
                      },
                      "bgcolor": "#E5ECF6",
                      "caxis": {
                        "gridcolor": "white",
                        "linecolor": "white",
                        "ticks": ""
                      }
                    },
                    "title": {
                      "x": 0.05
                    },
                    "xaxis": {
                      "automargin": true,
                      "gridcolor": "white",
                      "linecolor": "white",
                      "ticks": "",
                      "title": {
                        "standoff": 15
                      },
                      "zerolinecolor": "white",
                      "zerolinewidth": 2
                    },
                    "yaxis": {
                      "automargin": true,
                      "gridcolor": "white",
                      "linecolor": "white",
                      "ticks": "",
                      "title": {
                        "standoff": 15
                      },
                      "zerolinecolor": "white",
                      "zerolinewidth": 2
                    }
                  }
                },
                "title": {
                  "text": "3D Visualization"
                },
                "width": 2000
              }
            }
          },
          "metadata": {},
          "output_type": "display_data"
        }
      ],
      "source": [
        "import torch\n",
        "import pandas as pd\n",
        "import plotly.graph_objs as go\n",
        "from torch_geometric.data import Data\n",
        "\n",
        "# Load the dataset\n",
        "file_path = r\"C:\\Users\\RAZER\\Downloads\\kinzData_panda_2025-05-28_02-45AM.csv\"\n",
        "\n",
        "df = pd.read_csv(file_path)\n",
        "df = merged_df\n",
        "\n",
        "# Define anatomical connections as edges\n",
        "edges = torch.tensor([\n",
        "    [0, 2],  # FOOT_RIGHT to ANKLE_RIGHT\n",
        "    [1, 3],  # FOOT_LEFT to ANKLE_LEFT\n",
        "    [2, 4],  # ANKLE_RIGHT to KNEE_RIGHT\n",
        "    [3, 5],  # ANKLE_LEFT to KNEE_LEFT\n",
        "    [4, 6],  # KNEE_RIGHT to HIP_RIGHT\n",
        "    [5, 7],  # KNEE_LEFT to HIP_LEFT\n",
        "    [6, 8],  # HIP_RIGHT to PELVIS\n",
        "    [7, 8],  # HIP_LEFT to PELVIS\n",
        "    [8, 9],  # PELVIS to SPINE_NAVAL\n",
        "    [9, 10], # SPINE_NAVAL to SPINE_CHEST\n",
        "    [10, 11],# SPINE_CHEST to CLAVICLE_RIGHT\n",
        "    [10, 12],# SPINE_CHEST to CLAVICLE_LEFT\n",
        "    [11, 13],# CLAVICLE_RIGHT to SHOULDER_RIGHT\n",
        "    [12, 14],# CLAVICLE_LEFT to SHOULDER_LEFT\n",
        "    [13, 15],# SHOULDER_RIGHT to ELBOW_RIGHT\n",
        "    [14, 16],# SHOULDER_LEFT to ELBOW_LEFT\n",
        "    [15, 17],# ELBOW_RIGHT to WRIST_RIGHT\n",
        "    [16, 18],# ELBOW_LEFT to WRIST_LEFT\n",
        "    [17, 19],# WRIST_RIGHT to HAND_RIGHT\n",
        "    [18, 20],# WRIST_LEFT to HAND_LEFT\n",
        "    [19, 21],# HAND_RIGHT to HANDTIP_RIGHT\n",
        "    [20, 22],# HAND_LEFT to HANDTIP_LEFT\n",
        "    [17, 23],# HANDTIP_RIGHT to THUMB_RIGHT\n",
        "    [18, 24],# HANDTIP_LEFT to THUMB_LEFT\n",
        "    [10, 25],# SPINE_CHEST to NECK\n",
        "    [25, 26],# NECK to HEAD\n",
        "    [26, 27],\n",
        "    [26, 28],\n",
        "    [26, 29],\n",
        "    [26, 30],\n",
        "    [26, 31]\n",
        "]).t().contiguous()\n",
        "\n",
        "# List of joints in the order they appear in the DataFrame\n",
        "joints = [\n",
        "    'FOOT_RIGHT', 'FOOT_LEFT', 'ANKLE_RIGHT', 'ANKLE_LEFT', 'KNEE_RIGHT', 'KNEE_LEFT',\n",
        "    'HIP_RIGHT', 'HIP_LEFT', 'PELVIS', 'SPINE_NAVAL', 'SPINE_CHEST',\n",
        "    'CLAVICLE_RIGHT', 'CLAVICLE_LEFT', 'SHOULDER_RIGHT', 'SHOULDER_LEFT',\n",
        "    'ELBOW_RIGHT', 'ELBOW_LEFT', 'WRIST_RIGHT', 'WRIST_LEFT', 'HAND_RIGHT',\n",
        "    'HAND_LEFT', 'HANDTIP_RIGHT', 'HANDTIP_LEFT', 'THUMB_RIGHT', 'THUMB_LEFT',\n",
        "    'NECK', 'HEAD', 'NOSE', 'EYE_LEFT', 'EAR_LEFT', 'EYE_RIGHT', 'EAR_RIGHT'\n",
        "]\n",
        "\n",
        "# Function to extract node features and create a Data object\n",
        "def create_data_object_vis(row):\n",
        "    node_features = []\n",
        "    node_positions = []  # Store (x, y, z) positions separately for Plotly visualization\n",
        "\n",
        "    for joint in joints:\n",
        "        x = row[f'{joint}_X']\n",
        "        y = row[f'{joint}_Y']\n",
        "        z = row[f'{joint}_Z']\n",
        "        node_features.append([x, y, z])\n",
        "        node_positions.append((x, y, z))  # Save position for each joint\n",
        "\n",
        "    node_features = torch.tensor(node_features, dtype=torch.float)\n",
        "\n",
        "    # Extract label (assuming 'frailty' is the target column)\n",
        "    label = torch.tensor([row['t_uniform']], dtype=torch.float)\n",
        "\n",
        "    # Create the Data object\n",
        "    data = Data(x=node_features, edge_index=edges, y=label)\n",
        "\n",
        "    return data, node_positions\n",
        "\n",
        "# Function to plot the graph using Plotly\n",
        "def plot_graph(node_positions):\n",
        "    # Extract x, y, z coordinates from node_positions\n",
        "    x_coords = [pos[0] for pos in node_positions]\n",
        "    y_coords = [pos[1] for pos in node_positions]\n",
        "    z_coords = [pos[2] for pos in node_positions]\n",
        "\n",
        "    # Create edges for Plotly\n",
        "    edge_x = []\n",
        "    edge_y = []\n",
        "    edge_z = []\n",
        "    for edge in edges.t().tolist():\n",
        "        x0, y0, z0 = node_positions[edge[0]]\n",
        "        x1, y1, z1 = node_positions[edge[1]]\n",
        "        edge_x.extend([x0, x1, None])\n",
        "        edge_y.extend([y0, y1, None])\n",
        "        edge_z.extend([z0, z1, None])\n",
        "\n",
        "    # Plot the edges\n",
        "    edge_trace = go.Scatter3d(\n",
        "        x=edge_x, y=edge_y, z=edge_z,\n",
        "        mode='lines',\n",
        "        line=dict(color='black', width=2),\n",
        "        hoverinfo='none'\n",
        "    )\n",
        "\n",
        "    # Plot the nodes with joint names\n",
        "    node_trace = go.Scatter3d(\n",
        "        x=x_coords, y=y_coords, z=z_coords,\n",
        "        mode='markers+text',\n",
        "        marker=dict(size=6, color='blue'),\n",
        "        text=joints,  # Use the joint names as text labels\n",
        "        hoverinfo='text'\n",
        "    )\n",
        "\n",
        "    # Create the figure with gridlines and joint names\n",
        "    fig = go.Figure(\n",
        "    data=[edge_trace, node_trace],\n",
        "    layout=go.Layout(\n",
        "        title='3D Visualization',\n",
        "        width=2000,  # Increase width\n",
        "        height=1000,  # Increase height\n",
        "        showlegend=False,\n",
        "        scene=dict(\n",
        "            xaxis=dict(\n",
        "                showbackground=True,\n",
        "                backgroundcolor=\"rgb(230, 230, 230)\",\n",
        "                gridcolor=\"rgb(200, 200, 200)\",\n",
        "                showgrid=True,\n",
        "                zerolinecolor=\"rgb(200, 200, 200)\",\n",
        "            ),\n",
        "            yaxis=dict(\n",
        "                showbackground=True,\n",
        "                backgroundcolor=\"rgb(230, 230, 230)\",\n",
        "                gridcolor=\"rgb(200, 200, 200)\",\n",
        "                showgrid=True,\n",
        "                zerolinecolor=\"rgb(200, 200, 200)\",\n",
        "            ),\n",
        "            zaxis=dict(\n",
        "                showbackground=True,\n",
        "                backgroundcolor=\"rgb(230, 230, 230)\",\n",
        "                gridcolor=\"rgb(200, 200, 200)\",\n",
        "                showgrid=True,\n",
        "                zerolinecolor=\"rgb(200, 200, 200)\",\n",
        "            ),\n",
        "        ),\n",
        "        margin=dict(l=50, r=50, b=50, t=50),))\n",
        "\n",
        "    fig.show()\n",
        "\n",
        "# Example usage with a single row (e.g., the first row in your DataFrame)\n",
        "single_row = df.iloc[7]\n",
        "data, node_positions = create_data_object_vis(single_row)\n",
        "\n",
        "# Plot the graph using Plotly\n",
        "plot_graph(node_positions)\n"
      ]
    },
    {
      "cell_type": "markdown",
      "metadata": {},
      "source": [
        "# Marging"
      ]
    },
    {
      "cell_type": "code",
      "execution_count": 9,
      "metadata": {},
      "outputs": [
        {
          "data": {
            "text/html": [
              "<div>\n",
              "<style scoped>\n",
              "    .dataframe tbody tr th:only-of-type {\n",
              "        vertical-align: middle;\n",
              "    }\n",
              "\n",
              "    .dataframe tbody tr th {\n",
              "        vertical-align: top;\n",
              "    }\n",
              "\n",
              "    .dataframe thead th {\n",
              "        text-align: right;\n",
              "    }\n",
              "</style>\n",
              "<table border=\"1\" class=\"dataframe\">\n",
              "  <thead>\n",
              "    <tr style=\"text-align: right;\">\n",
              "      <th></th>\n",
              "      <th>record_id</th>\n",
              "      <th>age</th>\n",
              "      <th>sex</th>\n",
              "      <th>ethnicity</th>\n",
              "      <th>race</th>\n",
              "      <th>zip_code</th>\n",
              "      <th>smoking</th>\n",
              "      <th>smoking_hx</th>\n",
              "      <th>alcohol</th>\n",
              "      <th>alcohol_freq</th>\n",
              "      <th>...</th>\n",
              "      <th>comp3_desc</th>\n",
              "      <th>comp4_type</th>\n",
              "      <th>comp4_cd</th>\n",
              "      <th>comp4_desc</th>\n",
              "      <th>comp5_type</th>\n",
              "      <th>comp5_cd</th>\n",
              "      <th>comp5_desc</th>\n",
              "      <th>cc_index</th>\n",
              "      <th>notes</th>\n",
              "      <th>postoperative_3day_data_complete</th>\n",
              "    </tr>\n",
              "  </thead>\n",
              "  <tbody>\n",
              "    <tr>\n",
              "      <th>0</th>\n",
              "      <td>001-LO</td>\n",
              "      <td>43</td>\n",
              "      <td>2</td>\n",
              "      <td>2.0</td>\n",
              "      <td>6.0</td>\n",
              "      <td>11209</td>\n",
              "      <td>1.0</td>\n",
              "      <td>NaN</td>\n",
              "      <td>2.0</td>\n",
              "      <td>NaN</td>\n",
              "      <td>...</td>\n",
              "      <td>NaN</td>\n",
              "      <td>NaN</td>\n",
              "      <td>NaN</td>\n",
              "      <td>NaN</td>\n",
              "      <td>NaN</td>\n",
              "      <td>NaN</td>\n",
              "      <td>NaN</td>\n",
              "      <td>0.0</td>\n",
              "      <td>NaN</td>\n",
              "      <td>2</td>\n",
              "    </tr>\n",
              "    <tr>\n",
              "      <th>1</th>\n",
              "      <td>002-RJ</td>\n",
              "      <td>77</td>\n",
              "      <td>2</td>\n",
              "      <td>2.0</td>\n",
              "      <td>3.0</td>\n",
              "      <td>18353</td>\n",
              "      <td>1.0</td>\n",
              "      <td>NaN</td>\n",
              "      <td>2.0</td>\n",
              "      <td>NaN</td>\n",
              "      <td>...</td>\n",
              "      <td>Numbness in fingers</td>\n",
              "      <td>NaN</td>\n",
              "      <td>NaN</td>\n",
              "      <td>NaN</td>\n",
              "      <td>NaN</td>\n",
              "      <td>NaN</td>\n",
              "      <td>NaN</td>\n",
              "      <td>15.0</td>\n",
              "      <td>NaN</td>\n",
              "      <td>2</td>\n",
              "    </tr>\n",
              "    <tr>\n",
              "      <th>2</th>\n",
              "      <td>003-RM</td>\n",
              "      <td>48</td>\n",
              "      <td>1</td>\n",
              "      <td>1.0</td>\n",
              "      <td>6.0</td>\n",
              "      <td>NaN</td>\n",
              "      <td>2.0</td>\n",
              "      <td>3</td>\n",
              "      <td>2.0</td>\n",
              "      <td>NaN</td>\n",
              "      <td>...</td>\n",
              "      <td>NaN</td>\n",
              "      <td>NaN</td>\n",
              "      <td>NaN</td>\n",
              "      <td>NaN</td>\n",
              "      <td>NaN</td>\n",
              "      <td>NaN</td>\n",
              "      <td>NaN</td>\n",
              "      <td>8.7</td>\n",
              "      <td>NaN</td>\n",
              "      <td>2</td>\n",
              "    </tr>\n",
              "    <tr>\n",
              "      <th>3</th>\n",
              "      <td>004-MF</td>\n",
              "      <td>54</td>\n",
              "      <td>2</td>\n",
              "      <td>1.0</td>\n",
              "      <td>6.0</td>\n",
              "      <td>NaN</td>\n",
              "      <td>2.0</td>\n",
              "      <td>1</td>\n",
              "      <td>2.0</td>\n",
              "      <td>NaN</td>\n",
              "      <td>...</td>\n",
              "      <td>NaN</td>\n",
              "      <td>NaN</td>\n",
              "      <td>NaN</td>\n",
              "      <td>NaN</td>\n",
              "      <td>NaN</td>\n",
              "      <td>NaN</td>\n",
              "      <td>NaN</td>\n",
              "      <td>0.0</td>\n",
              "      <td>NaN</td>\n",
              "      <td>2</td>\n",
              "    </tr>\n",
              "    <tr>\n",
              "      <th>4</th>\n",
              "      <td>005-GP</td>\n",
              "      <td>46</td>\n",
              "      <td>1</td>\n",
              "      <td>1.0</td>\n",
              "      <td>6.0</td>\n",
              "      <td>NaN</td>\n",
              "      <td>1.0</td>\n",
              "      <td>NaN</td>\n",
              "      <td>2.0</td>\n",
              "      <td>NaN</td>\n",
              "      <td>...</td>\n",
              "      <td>NaN</td>\n",
              "      <td>NaN</td>\n",
              "      <td>NaN</td>\n",
              "      <td>NaN</td>\n",
              "      <td>NaN</td>\n",
              "      <td>NaN</td>\n",
              "      <td>NaN</td>\n",
              "      <td>0.0</td>\n",
              "      <td>NaN</td>\n",
              "      <td>2</td>\n",
              "    </tr>\n",
              "    <tr>\n",
              "      <th>...</th>\n",
              "      <td>...</td>\n",
              "      <td>...</td>\n",
              "      <td>...</td>\n",
              "      <td>...</td>\n",
              "      <td>...</td>\n",
              "      <td>...</td>\n",
              "      <td>...</td>\n",
              "      <td>...</td>\n",
              "      <td>...</td>\n",
              "      <td>...</td>\n",
              "      <td>...</td>\n",
              "      <td>...</td>\n",
              "      <td>...</td>\n",
              "      <td>...</td>\n",
              "      <td>...</td>\n",
              "      <td>...</td>\n",
              "      <td>...</td>\n",
              "      <td>...</td>\n",
              "      <td>...</td>\n",
              "      <td>...</td>\n",
              "      <td>...</td>\n",
              "    </tr>\n",
              "    <tr>\n",
              "      <th>103</th>\n",
              "      <td>105-CC</td>\n",
              "      <td>34</td>\n",
              "      <td>2</td>\n",
              "      <td>2.0</td>\n",
              "      <td>6.0</td>\n",
              "      <td>11201-6239</td>\n",
              "      <td>1.0</td>\n",
              "      <td>NaN</td>\n",
              "      <td>1.0</td>\n",
              "      <td>0.0</td>\n",
              "      <td>...</td>\n",
              "      <td>NaN</td>\n",
              "      <td>NaN</td>\n",
              "      <td>NaN</td>\n",
              "      <td>NaN</td>\n",
              "      <td>NaN</td>\n",
              "      <td>NaN</td>\n",
              "      <td>NaN</td>\n",
              "      <td>0.0</td>\n",
              "      <td>NaN</td>\n",
              "      <td>2</td>\n",
              "    </tr>\n",
              "    <tr>\n",
              "      <th>104</th>\n",
              "      <td>106-NR</td>\n",
              "      <td>45</td>\n",
              "      <td>2</td>\n",
              "      <td>3.0</td>\n",
              "      <td>7.0</td>\n",
              "      <td>11377</td>\n",
              "      <td>1.0</td>\n",
              "      <td>NaN</td>\n",
              "      <td>2.0</td>\n",
              "      <td>NaN</td>\n",
              "      <td>...</td>\n",
              "      <td>NaN</td>\n",
              "      <td>NaN</td>\n",
              "      <td>NaN</td>\n",
              "      <td>NaN</td>\n",
              "      <td>NaN</td>\n",
              "      <td>NaN</td>\n",
              "      <td>NaN</td>\n",
              "      <td>0.0</td>\n",
              "      <td>NaN</td>\n",
              "      <td>2</td>\n",
              "    </tr>\n",
              "    <tr>\n",
              "      <th>105</th>\n",
              "      <td>107-LZ</td>\n",
              "      <td>45</td>\n",
              "      <td>2</td>\n",
              "      <td>2.0</td>\n",
              "      <td>6.0</td>\n",
              "      <td>11598</td>\n",
              "      <td>1.0</td>\n",
              "      <td>NaN</td>\n",
              "      <td>2.0</td>\n",
              "      <td>NaN</td>\n",
              "      <td>...</td>\n",
              "      <td>NaN</td>\n",
              "      <td>NaN</td>\n",
              "      <td>NaN</td>\n",
              "      <td>NaN</td>\n",
              "      <td>NaN</td>\n",
              "      <td>NaN</td>\n",
              "      <td>NaN</td>\n",
              "      <td>0.0</td>\n",
              "      <td>NaN</td>\n",
              "      <td>2</td>\n",
              "    </tr>\n",
              "    <tr>\n",
              "      <th>106</th>\n",
              "      <td>108-SC</td>\n",
              "      <td>27</td>\n",
              "      <td>2</td>\n",
              "      <td>2.0</td>\n",
              "      <td>6.0</td>\n",
              "      <td>06831</td>\n",
              "      <td>1.0</td>\n",
              "      <td>NaN</td>\n",
              "      <td>2.0</td>\n",
              "      <td>NaN</td>\n",
              "      <td>...</td>\n",
              "      <td>NaN</td>\n",
              "      <td>NaN</td>\n",
              "      <td>NaN</td>\n",
              "      <td>NaN</td>\n",
              "      <td>NaN</td>\n",
              "      <td>NaN</td>\n",
              "      <td>NaN</td>\n",
              "      <td>0.0</td>\n",
              "      <td>NaN</td>\n",
              "      <td>2</td>\n",
              "    </tr>\n",
              "    <tr>\n",
              "      <th>107</th>\n",
              "      <td>109-TA</td>\n",
              "      <td>47</td>\n",
              "      <td>2</td>\n",
              "      <td>2.0</td>\n",
              "      <td>3.0</td>\n",
              "      <td>10305</td>\n",
              "      <td>3.0</td>\n",
              "      <td>STARTED at 16 years old; 2 cigarettes a day</td>\n",
              "      <td>1.0</td>\n",
              "      <td>NaN</td>\n",
              "      <td>...</td>\n",
              "      <td>NaN</td>\n",
              "      <td>NaN</td>\n",
              "      <td>NaN</td>\n",
              "      <td>NaN</td>\n",
              "      <td>NaN</td>\n",
              "      <td>NaN</td>\n",
              "      <td>NaN</td>\n",
              "      <td>0.0</td>\n",
              "      <td>NaN</td>\n",
              "      <td>2</td>\n",
              "    </tr>\n",
              "  </tbody>\n",
              "</table>\n",
              "<p>108 rows × 345 columns</p>\n",
              "</div>"
            ],
            "text/plain": [
              "    record_id  age  sex  ethnicity  race    zip_code  smoking  \\\n",
              "0      001-LO   43    2        2.0   6.0       11209      1.0   \n",
              "1      002-RJ   77    2        2.0   3.0       18353      1.0   \n",
              "2      003-RM   48    1        1.0   6.0         NaN      2.0   \n",
              "3      004-MF   54    2        1.0   6.0         NaN      2.0   \n",
              "4      005-GP   46    1        1.0   6.0         NaN      1.0   \n",
              "..        ...  ...  ...        ...   ...         ...      ...   \n",
              "103    105-CC   34    2        2.0   6.0  11201-6239      1.0   \n",
              "104    106-NR   45    2        3.0   7.0       11377      1.0   \n",
              "105    107-LZ   45    2        2.0   6.0       11598      1.0   \n",
              "106    108-SC   27    2        2.0   6.0       06831      1.0   \n",
              "107    109-TA   47    2        2.0   3.0       10305      3.0   \n",
              "\n",
              "                                       smoking_hx  alcohol  alcohol_freq  ...  \\\n",
              "0                                             NaN      2.0           NaN  ...   \n",
              "1                                             NaN      2.0           NaN  ...   \n",
              "2                                               3      2.0           NaN  ...   \n",
              "3                                               1      2.0           NaN  ...   \n",
              "4                                             NaN      2.0           NaN  ...   \n",
              "..                                            ...      ...           ...  ...   \n",
              "103                                           NaN      1.0           0.0  ...   \n",
              "104                                           NaN      2.0           NaN  ...   \n",
              "105                                           NaN      2.0           NaN  ...   \n",
              "106                                           NaN      2.0           NaN  ...   \n",
              "107   STARTED at 16 years old; 2 cigarettes a day      1.0           NaN  ...   \n",
              "\n",
              "              comp3_desc comp4_type comp4_cd  comp4_desc  comp5_type  \\\n",
              "0                    NaN        NaN      NaN         NaN         NaN   \n",
              "1    Numbness in fingers        NaN      NaN         NaN         NaN   \n",
              "2                    NaN        NaN      NaN         NaN         NaN   \n",
              "3                    NaN        NaN      NaN         NaN         NaN   \n",
              "4                    NaN        NaN      NaN         NaN         NaN   \n",
              "..                   ...        ...      ...         ...         ...   \n",
              "103                  NaN        NaN      NaN         NaN         NaN   \n",
              "104                  NaN        NaN      NaN         NaN         NaN   \n",
              "105                  NaN        NaN      NaN         NaN         NaN   \n",
              "106                  NaN        NaN      NaN         NaN         NaN   \n",
              "107                  NaN        NaN      NaN         NaN         NaN   \n",
              "\n",
              "     comp5_cd comp5_desc  cc_index  notes  postoperative_3day_data_complete  \n",
              "0         NaN        NaN       0.0    NaN                                 2  \n",
              "1         NaN        NaN      15.0    NaN                                 2  \n",
              "2         NaN        NaN       8.7    NaN                                 2  \n",
              "3         NaN        NaN       0.0    NaN                                 2  \n",
              "4         NaN        NaN       0.0    NaN                                 2  \n",
              "..        ...        ...       ...    ...                               ...  \n",
              "103       NaN        NaN       0.0    NaN                                 2  \n",
              "104       NaN        NaN       0.0    NaN                                 2  \n",
              "105       NaN        NaN       0.0    NaN                                 2  \n",
              "106       NaN        NaN       0.0    NaN                                 2  \n",
              "107       NaN        NaN       0.0    NaN                                 2  \n",
              "\n",
              "[108 rows x 345 columns]"
            ]
          },
          "execution_count": 9,
          "metadata": {},
          "output_type": "execute_result"
        }
      ],
      "source": [
        "import pandas as pd\n",
        "\n",
        "\n",
        "clinic_df_1 = pd.read_csv(r\"C:\\Users\\RAZER\\Downloads\\AIFrailtyCaseReportF_DATA_2025-05-14_1251.csv\")\n",
        "clinic_df_1"
      ]
    },
    {
      "cell_type": "code",
      "execution_count": 10,
      "metadata": {},
      "outputs": [
        {
          "name": "stdout",
          "output_type": "stream",
          "text": [
            "    record_id  age  sex  ethnicity  race    zip_code  smoking  \\\n",
            "0      001-LO   43    2        2.0   6.0       11209      1.0   \n",
            "1      002-RJ   77    2        2.0   3.0       18353      1.0   \n",
            "2      003-RM   48    1        1.0   6.0         NaN      2.0   \n",
            "3      004-MF   54    2        1.0   6.0         NaN      2.0   \n",
            "4      005-GP   46    1        1.0   6.0         NaN      1.0   \n",
            "..        ...  ...  ...        ...   ...         ...      ...   \n",
            "103    105-CC   34    2        2.0   6.0  11201-6239      1.0   \n",
            "104    106-NR   45    2        3.0   7.0       11377      1.0   \n",
            "105    107-LZ   45    2        2.0   6.0       11598      1.0   \n",
            "106    108-SC   27    2        2.0   6.0       06831      1.0   \n",
            "107    109-TA   47    2        2.0   3.0       10305      3.0   \n",
            "\n",
            "                                       smoking_hx  alcohol  alcohol_freq  ...  \\\n",
            "0                                             NaN      2.0           NaN  ...   \n",
            "1                                             NaN      2.0           NaN  ...   \n",
            "2                                               3      2.0           NaN  ...   \n",
            "3                                               1      2.0           NaN  ...   \n",
            "4                                             NaN      2.0           NaN  ...   \n",
            "..                                            ...      ...           ...  ...   \n",
            "103                                           NaN      1.0           0.0  ...   \n",
            "104                                           NaN      2.0           NaN  ...   \n",
            "105                                           NaN      2.0           NaN  ...   \n",
            "106                                           NaN      2.0           NaN  ...   \n",
            "107   STARTED at 16 years old; 2 cigarettes a day      1.0           NaN  ...   \n",
            "\n",
            "              comp3_desc comp4_type comp4_cd  comp4_desc  comp5_type  \\\n",
            "0                    NaN        NaN      NaN         NaN         NaN   \n",
            "1    Numbness in fingers        NaN      NaN         NaN         NaN   \n",
            "2                    NaN        NaN      NaN         NaN         NaN   \n",
            "3                    NaN        NaN      NaN         NaN         NaN   \n",
            "4                    NaN        NaN      NaN         NaN         NaN   \n",
            "..                   ...        ...      ...         ...         ...   \n",
            "103                  NaN        NaN      NaN         NaN         NaN   \n",
            "104                  NaN        NaN      NaN         NaN         NaN   \n",
            "105                  NaN        NaN      NaN         NaN         NaN   \n",
            "106                  NaN        NaN      NaN         NaN         NaN   \n",
            "107                  NaN        NaN      NaN         NaN         NaN   \n",
            "\n",
            "     comp5_cd comp5_desc  cc_index  notes  postoperative_3day_data_complete  \n",
            "0         NaN        NaN       0.0    NaN                                 2  \n",
            "1         NaN        NaN      15.0    NaN                                 2  \n",
            "2         NaN        NaN       8.7    NaN                                 2  \n",
            "3         NaN        NaN       0.0    NaN                                 2  \n",
            "4         NaN        NaN       0.0    NaN                                 2  \n",
            "..        ...        ...       ...    ...                               ...  \n",
            "103       NaN        NaN       0.0    NaN                                 2  \n",
            "104       NaN        NaN       0.0    NaN                                 2  \n",
            "105       NaN        NaN       0.0    NaN                                 2  \n",
            "106       NaN        NaN       0.0    NaN                                 2  \n",
            "107       NaN        NaN       0.0    NaN                                 2  \n",
            "\n",
            "[108 rows x 345 columns]\n"
          ]
        }
      ],
      "source": [
        "print(clinic_df_1)"
      ]
    },
    {
      "cell_type": "code",
      "execution_count": 11,
      "metadata": {},
      "outputs": [
        {
          "data": {
            "text/plain": [
              "0       92.0\n",
              "1       93.0\n",
              "2      117.0\n",
              "3      143.0\n",
              "4      124.0\n",
              "       ...  \n",
              "103     59.0\n",
              "104     44.0\n",
              "105    110.0\n",
              "106    102.0\n",
              "107    126.0\n",
              "Name: qor15_score, Length: 108, dtype: float64"
            ]
          },
          "execution_count": 11,
          "metadata": {},
          "output_type": "execute_result"
        }
      ],
      "source": [
        "clinic_df_1['qor15_score']"
      ]
    },
    {
      "cell_type": "code",
      "execution_count": 12,
      "metadata": {},
      "outputs": [
        {
          "name": "stdout",
          "output_type": "stream",
          "text": [
            "Merged shape: (4300, 447)\n",
            "Missing metadata entries: 1470\n"
          ]
        }
      ],
      "source": [
        "import pandas as pd\n",
        "\n",
        "\n",
        "df_kinz = pd.read_csv(r\"C:\\Users\\RAZER\\Downloads\\kinzData_panda_2025-05-28_02-45AM.csv\")\n",
        "clinic_df_1 = pd.read_csv(r\"C:\\Users\\RAZER\\Downloads\\AIFrailtyCaseReportF_DATA_2025-05-14_1251.csv\") \n",
        "\n",
        "\n",
        "conditions = [\n",
        "    (clinic_df_1['qor15_score'] >= 0) & (clinic_df_1['qor15_score'] <= 110),\n",
        "    (clinic_df_1['qor15_score'] >= 111) & (clinic_df_1['qor15_score'] <= 150)\n",
        "]\n",
        "\n",
        "values = [1,0]  # 0 = 'Not Good', 1 = 'Good'\n",
        "\n",
        "clinic_df_1['QoR_class'] = np.select(conditions, values,default=np.nan)\n",
        "\n",
        "clinic_df_1.rename(columns={'record_id': 'patientID'}, inplace=True)\n",
        "\n",
        "\n",
        "merged_df = pd.merge(df_kinz, clinic_df_1, on='patientID', how='left')\n",
        "\n",
        "\n",
        "print(f\"Merged shape: {merged_df.shape}\")\n",
        "print(f\"Missing metadata entries: {merged_df['age'].isnull().sum()}\")\n"
      ]
    },
    {
      "cell_type": "code",
      "execution_count": 13,
      "metadata": {},
      "outputs": [
        {
          "data": {
            "text/html": [
              "<div>\n",
              "<style scoped>\n",
              "    .dataframe tbody tr th:only-of-type {\n",
              "        vertical-align: middle;\n",
              "    }\n",
              "\n",
              "    .dataframe tbody tr th {\n",
              "        vertical-align: top;\n",
              "    }\n",
              "\n",
              "    .dataframe thead th {\n",
              "        text-align: right;\n",
              "    }\n",
              "</style>\n",
              "<table border=\"1\" class=\"dataframe\">\n",
              "  <thead>\n",
              "    <tr style=\"text-align: right;\">\n",
              "      <th></th>\n",
              "      <th>patientID</th>\n",
              "      <th>trial_num</th>\n",
              "      <th>walking_speed</th>\n",
              "      <th>t_uniform</th>\n",
              "      <th>PELVIS_X</th>\n",
              "      <th>SPINE_NAVAL_X</th>\n",
              "      <th>SPINE_CHEST_X</th>\n",
              "      <th>NECK_X</th>\n",
              "      <th>CLAVICLE_LEFT_X</th>\n",
              "      <th>SHOULDER_LEFT_X</th>\n",
              "      <th>...</th>\n",
              "      <th>comp4_type</th>\n",
              "      <th>comp4_cd</th>\n",
              "      <th>comp4_desc</th>\n",
              "      <th>comp5_type</th>\n",
              "      <th>comp5_cd</th>\n",
              "      <th>comp5_desc</th>\n",
              "      <th>cc_index</th>\n",
              "      <th>notes</th>\n",
              "      <th>postoperative_3day_data_complete</th>\n",
              "      <th>QoR_class</th>\n",
              "    </tr>\n",
              "  </thead>\n",
              "  <tbody>\n",
              "    <tr>\n",
              "      <th>0</th>\n",
              "      <td>001-LO</td>\n",
              "      <td>Trial1</td>\n",
              "      <td>Regular</td>\n",
              "      <td>0.014806</td>\n",
              "      <td>513.079538</td>\n",
              "      <td>516.003537</td>\n",
              "      <td>527.994788</td>\n",
              "      <td>545.712851</td>\n",
              "      <td>516.264630</td>\n",
              "      <td>405.175317</td>\n",
              "      <td>...</td>\n",
              "      <td>NaN</td>\n",
              "      <td>NaN</td>\n",
              "      <td>NaN</td>\n",
              "      <td>NaN</td>\n",
              "      <td>NaN</td>\n",
              "      <td>NaN</td>\n",
              "      <td>0.0</td>\n",
              "      <td>NaN</td>\n",
              "      <td>2.0</td>\n",
              "      <td>1.0</td>\n",
              "    </tr>\n",
              "    <tr>\n",
              "      <th>1</th>\n",
              "      <td>001-LO</td>\n",
              "      <td>Trial1</td>\n",
              "      <td>Regular</td>\n",
              "      <td>0.034787</td>\n",
              "      <td>518.341956</td>\n",
              "      <td>523.496677</td>\n",
              "      <td>539.288301</td>\n",
              "      <td>549.834306</td>\n",
              "      <td>520.128180</td>\n",
              "      <td>405.456134</td>\n",
              "      <td>...</td>\n",
              "      <td>NaN</td>\n",
              "      <td>NaN</td>\n",
              "      <td>NaN</td>\n",
              "      <td>NaN</td>\n",
              "      <td>NaN</td>\n",
              "      <td>NaN</td>\n",
              "      <td>0.0</td>\n",
              "      <td>NaN</td>\n",
              "      <td>2.0</td>\n",
              "      <td>1.0</td>\n",
              "    </tr>\n",
              "    <tr>\n",
              "      <th>2</th>\n",
              "      <td>001-LO</td>\n",
              "      <td>Trial1</td>\n",
              "      <td>Regular</td>\n",
              "      <td>0.054767</td>\n",
              "      <td>529.923963</td>\n",
              "      <td>541.248914</td>\n",
              "      <td>552.630499</td>\n",
              "      <td>552.997228</td>\n",
              "      <td>524.350174</td>\n",
              "      <td>408.479201</td>\n",
              "      <td>...</td>\n",
              "      <td>NaN</td>\n",
              "      <td>NaN</td>\n",
              "      <td>NaN</td>\n",
              "      <td>NaN</td>\n",
              "      <td>NaN</td>\n",
              "      <td>NaN</td>\n",
              "      <td>0.0</td>\n",
              "      <td>NaN</td>\n",
              "      <td>2.0</td>\n",
              "      <td>1.0</td>\n",
              "    </tr>\n",
              "    <tr>\n",
              "      <th>3</th>\n",
              "      <td>001-LO</td>\n",
              "      <td>Trial1</td>\n",
              "      <td>Regular</td>\n",
              "      <td>0.074748</td>\n",
              "      <td>534.861455</td>\n",
              "      <td>548.038017</td>\n",
              "      <td>556.688923</td>\n",
              "      <td>551.944125</td>\n",
              "      <td>523.861126</td>\n",
              "      <td>407.510892</td>\n",
              "      <td>...</td>\n",
              "      <td>NaN</td>\n",
              "      <td>NaN</td>\n",
              "      <td>NaN</td>\n",
              "      <td>NaN</td>\n",
              "      <td>NaN</td>\n",
              "      <td>NaN</td>\n",
              "      <td>0.0</td>\n",
              "      <td>NaN</td>\n",
              "      <td>2.0</td>\n",
              "      <td>1.0</td>\n",
              "    </tr>\n",
              "    <tr>\n",
              "      <th>4</th>\n",
              "      <td>001-LO</td>\n",
              "      <td>Trial1</td>\n",
              "      <td>Regular</td>\n",
              "      <td>0.094728</td>\n",
              "      <td>534.057534</td>\n",
              "      <td>545.354058</td>\n",
              "      <td>552.725394</td>\n",
              "      <td>547.248025</td>\n",
              "      <td>519.301345</td>\n",
              "      <td>403.093700</td>\n",
              "      <td>...</td>\n",
              "      <td>NaN</td>\n",
              "      <td>NaN</td>\n",
              "      <td>NaN</td>\n",
              "      <td>NaN</td>\n",
              "      <td>NaN</td>\n",
              "      <td>NaN</td>\n",
              "      <td>0.0</td>\n",
              "      <td>NaN</td>\n",
              "      <td>2.0</td>\n",
              "      <td>1.0</td>\n",
              "    </tr>\n",
              "    <tr>\n",
              "      <th>...</th>\n",
              "      <td>...</td>\n",
              "      <td>...</td>\n",
              "      <td>...</td>\n",
              "      <td>...</td>\n",
              "      <td>...</td>\n",
              "      <td>...</td>\n",
              "      <td>...</td>\n",
              "      <td>...</td>\n",
              "      <td>...</td>\n",
              "      <td>...</td>\n",
              "      <td>...</td>\n",
              "      <td>...</td>\n",
              "      <td>...</td>\n",
              "      <td>...</td>\n",
              "      <td>...</td>\n",
              "      <td>...</td>\n",
              "      <td>...</td>\n",
              "      <td>...</td>\n",
              "      <td>...</td>\n",
              "      <td>...</td>\n",
              "      <td>...</td>\n",
              "    </tr>\n",
              "    <tr>\n",
              "      <th>4295</th>\n",
              "      <td>RM-003</td>\n",
              "      <td>Trial4</td>\n",
              "      <td>Fast</td>\n",
              "      <td>4.575462</td>\n",
              "      <td>358.710652</td>\n",
              "      <td>369.498468</td>\n",
              "      <td>382.508738</td>\n",
              "      <td>395.521645</td>\n",
              "      <td>425.283534</td>\n",
              "      <td>558.737347</td>\n",
              "      <td>...</td>\n",
              "      <td>NaN</td>\n",
              "      <td>NaN</td>\n",
              "      <td>NaN</td>\n",
              "      <td>NaN</td>\n",
              "      <td>NaN</td>\n",
              "      <td>NaN</td>\n",
              "      <td>NaN</td>\n",
              "      <td>NaN</td>\n",
              "      <td>NaN</td>\n",
              "      <td>NaN</td>\n",
              "    </tr>\n",
              "    <tr>\n",
              "      <th>4296</th>\n",
              "      <td>RM-003</td>\n",
              "      <td>Trial4</td>\n",
              "      <td>Fast</td>\n",
              "      <td>4.595443</td>\n",
              "      <td>361.159414</td>\n",
              "      <td>370.684840</td>\n",
              "      <td>383.363546</td>\n",
              "      <td>396.919313</td>\n",
              "      <td>426.662920</td>\n",
              "      <td>560.778559</td>\n",
              "      <td>...</td>\n",
              "      <td>NaN</td>\n",
              "      <td>NaN</td>\n",
              "      <td>NaN</td>\n",
              "      <td>NaN</td>\n",
              "      <td>NaN</td>\n",
              "      <td>NaN</td>\n",
              "      <td>NaN</td>\n",
              "      <td>NaN</td>\n",
              "      <td>NaN</td>\n",
              "      <td>NaN</td>\n",
              "    </tr>\n",
              "    <tr>\n",
              "      <th>4297</th>\n",
              "      <td>RM-003</td>\n",
              "      <td>Trial4</td>\n",
              "      <td>Fast</td>\n",
              "      <td>4.615423</td>\n",
              "      <td>363.134322</td>\n",
              "      <td>372.132296</td>\n",
              "      <td>384.724247</td>\n",
              "      <td>398.545474</td>\n",
              "      <td>428.357014</td>\n",
              "      <td>563.074489</td>\n",
              "      <td>...</td>\n",
              "      <td>NaN</td>\n",
              "      <td>NaN</td>\n",
              "      <td>NaN</td>\n",
              "      <td>NaN</td>\n",
              "      <td>NaN</td>\n",
              "      <td>NaN</td>\n",
              "      <td>NaN</td>\n",
              "      <td>NaN</td>\n",
              "      <td>NaN</td>\n",
              "      <td>NaN</td>\n",
              "    </tr>\n",
              "    <tr>\n",
              "      <th>4298</th>\n",
              "      <td>RM-003</td>\n",
              "      <td>Trial4</td>\n",
              "      <td>Fast</td>\n",
              "      <td>4.635404</td>\n",
              "      <td>364.295960</td>\n",
              "      <td>374.027851</td>\n",
              "      <td>386.953205</td>\n",
              "      <td>400.563796</td>\n",
              "      <td>430.591239</td>\n",
              "      <td>565.807589</td>\n",
              "      <td>...</td>\n",
              "      <td>NaN</td>\n",
              "      <td>NaN</td>\n",
              "      <td>NaN</td>\n",
              "      <td>NaN</td>\n",
              "      <td>NaN</td>\n",
              "      <td>NaN</td>\n",
              "      <td>NaN</td>\n",
              "      <td>NaN</td>\n",
              "      <td>NaN</td>\n",
              "      <td>NaN</td>\n",
              "    </tr>\n",
              "    <tr>\n",
              "      <th>4299</th>\n",
              "      <td>RM-003</td>\n",
              "      <td>Trial4</td>\n",
              "      <td>Fast</td>\n",
              "      <td>4.655384</td>\n",
              "      <td>362.571817</td>\n",
              "      <td>372.404484</td>\n",
              "      <td>385.814443</td>\n",
              "      <td>398.096340</td>\n",
              "      <td>428.063663</td>\n",
              "      <td>562.369638</td>\n",
              "      <td>...</td>\n",
              "      <td>NaN</td>\n",
              "      <td>NaN</td>\n",
              "      <td>NaN</td>\n",
              "      <td>NaN</td>\n",
              "      <td>NaN</td>\n",
              "      <td>NaN</td>\n",
              "      <td>NaN</td>\n",
              "      <td>NaN</td>\n",
              "      <td>NaN</td>\n",
              "      <td>NaN</td>\n",
              "    </tr>\n",
              "  </tbody>\n",
              "</table>\n",
              "<p>4300 rows × 447 columns</p>\n",
              "</div>"
            ],
            "text/plain": [
              "     patientID trial_num walking_speed  t_uniform    PELVIS_X  SPINE_NAVAL_X  \\\n",
              "0       001-LO    Trial1       Regular   0.014806  513.079538     516.003537   \n",
              "1       001-LO    Trial1       Regular   0.034787  518.341956     523.496677   \n",
              "2       001-LO    Trial1       Regular   0.054767  529.923963     541.248914   \n",
              "3       001-LO    Trial1       Regular   0.074748  534.861455     548.038017   \n",
              "4       001-LO    Trial1       Regular   0.094728  534.057534     545.354058   \n",
              "...        ...       ...           ...        ...         ...            ...   \n",
              "4295    RM-003    Trial4          Fast   4.575462  358.710652     369.498468   \n",
              "4296    RM-003    Trial4          Fast   4.595443  361.159414     370.684840   \n",
              "4297    RM-003    Trial4          Fast   4.615423  363.134322     372.132296   \n",
              "4298    RM-003    Trial4          Fast   4.635404  364.295960     374.027851   \n",
              "4299    RM-003    Trial4          Fast   4.655384  362.571817     372.404484   \n",
              "\n",
              "      SPINE_CHEST_X      NECK_X  CLAVICLE_LEFT_X  SHOULDER_LEFT_X  ...  \\\n",
              "0        527.994788  545.712851       516.264630       405.175317  ...   \n",
              "1        539.288301  549.834306       520.128180       405.456134  ...   \n",
              "2        552.630499  552.997228       524.350174       408.479201  ...   \n",
              "3        556.688923  551.944125       523.861126       407.510892  ...   \n",
              "4        552.725394  547.248025       519.301345       403.093700  ...   \n",
              "...             ...         ...              ...              ...  ...   \n",
              "4295     382.508738  395.521645       425.283534       558.737347  ...   \n",
              "4296     383.363546  396.919313       426.662920       560.778559  ...   \n",
              "4297     384.724247  398.545474       428.357014       563.074489  ...   \n",
              "4298     386.953205  400.563796       430.591239       565.807589  ...   \n",
              "4299     385.814443  398.096340       428.063663       562.369638  ...   \n",
              "\n",
              "      comp4_type  comp4_cd  comp4_desc  comp5_type  comp5_cd  comp5_desc  \\\n",
              "0            NaN       NaN         NaN         NaN       NaN         NaN   \n",
              "1            NaN       NaN         NaN         NaN       NaN         NaN   \n",
              "2            NaN       NaN         NaN         NaN       NaN         NaN   \n",
              "3            NaN       NaN         NaN         NaN       NaN         NaN   \n",
              "4            NaN       NaN         NaN         NaN       NaN         NaN   \n",
              "...          ...       ...         ...         ...       ...         ...   \n",
              "4295         NaN       NaN         NaN         NaN       NaN         NaN   \n",
              "4296         NaN       NaN         NaN         NaN       NaN         NaN   \n",
              "4297         NaN       NaN         NaN         NaN       NaN         NaN   \n",
              "4298         NaN       NaN         NaN         NaN       NaN         NaN   \n",
              "4299         NaN       NaN         NaN         NaN       NaN         NaN   \n",
              "\n",
              "      cc_index  notes  postoperative_3day_data_complete  QoR_class  \n",
              "0          0.0    NaN                               2.0        1.0  \n",
              "1          0.0    NaN                               2.0        1.0  \n",
              "2          0.0    NaN                               2.0        1.0  \n",
              "3          0.0    NaN                               2.0        1.0  \n",
              "4          0.0    NaN                               2.0        1.0  \n",
              "...        ...    ...                               ...        ...  \n",
              "4295       NaN    NaN                               NaN        NaN  \n",
              "4296       NaN    NaN                               NaN        NaN  \n",
              "4297       NaN    NaN                               NaN        NaN  \n",
              "4298       NaN    NaN                               NaN        NaN  \n",
              "4299       NaN    NaN                               NaN        NaN  \n",
              "\n",
              "[4300 rows x 447 columns]"
            ]
          },
          "execution_count": 13,
          "metadata": {},
          "output_type": "execute_result"
        }
      ],
      "source": [
        "merged_df"
      ]
    },
    {
      "cell_type": "code",
      "execution_count": null,
      "metadata": {},
      "outputs": [],
      "source": []
    }
  ],
  "metadata": {
    "colab": {
      "provenance": []
    },
    "kernelspec": {
      "display_name": "torch_on",
      "language": "python",
      "name": "python3"
    },
    "language_info": {
      "codemirror_mode": {
        "name": "ipython",
        "version": 3
      },
      "file_extension": ".py",
      "mimetype": "text/x-python",
      "name": "python",
      "nbconvert_exporter": "python",
      "pygments_lexer": "ipython3",
      "version": "3.9.20"
    },
    "widgets": {
      "application/vnd.jupyter.widget-state+json": {
        "0d3fe1456ff74cca905172927cbe55a0": {
          "model_module": "@jupyter-widgets/base",
          "model_module_version": "1.2.0",
          "model_name": "LayoutModel",
          "state": {
            "_model_module": "@jupyter-widgets/base",
            "_model_module_version": "1.2.0",
            "_model_name": "LayoutModel",
            "_view_count": null,
            "_view_module": "@jupyter-widgets/base",
            "_view_module_version": "1.2.0",
            "_view_name": "LayoutView",
            "align_content": null,
            "align_items": null,
            "align_self": null,
            "border": null,
            "bottom": null,
            "display": null,
            "flex": null,
            "flex_flow": null,
            "grid_area": null,
            "grid_auto_columns": null,
            "grid_auto_flow": null,
            "grid_auto_rows": null,
            "grid_column": null,
            "grid_gap": null,
            "grid_row": null,
            "grid_template_areas": null,
            "grid_template_columns": null,
            "grid_template_rows": null,
            "height": null,
            "justify_content": null,
            "justify_items": null,
            "left": null,
            "margin": null,
            "max_height": null,
            "max_width": null,
            "min_height": null,
            "min_width": null,
            "object_fit": null,
            "object_position": null,
            "order": null,
            "overflow": null,
            "overflow_x": null,
            "overflow_y": null,
            "padding": null,
            "right": null,
            "top": null,
            "visibility": null,
            "width": null
          }
        },
        "0e95f44a595342f88872f45ef83b185b": {
          "model_module": "@jupyter-widgets/base",
          "model_module_version": "1.2.0",
          "model_name": "LayoutModel",
          "state": {
            "_model_module": "@jupyter-widgets/base",
            "_model_module_version": "1.2.0",
            "_model_name": "LayoutModel",
            "_view_count": null,
            "_view_module": "@jupyter-widgets/base",
            "_view_module_version": "1.2.0",
            "_view_name": "LayoutView",
            "align_content": null,
            "align_items": null,
            "align_self": null,
            "border": null,
            "bottom": null,
            "display": null,
            "flex": null,
            "flex_flow": null,
            "grid_area": null,
            "grid_auto_columns": null,
            "grid_auto_flow": null,
            "grid_auto_rows": null,
            "grid_column": null,
            "grid_gap": null,
            "grid_row": null,
            "grid_template_areas": null,
            "grid_template_columns": null,
            "grid_template_rows": null,
            "height": null,
            "justify_content": null,
            "justify_items": null,
            "left": null,
            "margin": null,
            "max_height": null,
            "max_width": null,
            "min_height": null,
            "min_width": null,
            "object_fit": null,
            "object_position": null,
            "order": null,
            "overflow": null,
            "overflow_x": null,
            "overflow_y": null,
            "padding": null,
            "right": null,
            "top": null,
            "visibility": null,
            "width": null
          }
        },
        "1c977c3b0a91417b8db4c336d24b011a": {
          "model_module": "@jupyter-widgets/controls",
          "model_module_version": "1.5.0",
          "model_name": "DescriptionStyleModel",
          "state": {
            "_model_module": "@jupyter-widgets/controls",
            "_model_module_version": "1.5.0",
            "_model_name": "DescriptionStyleModel",
            "_view_count": null,
            "_view_module": "@jupyter-widgets/base",
            "_view_module_version": "1.2.0",
            "_view_name": "StyleView",
            "description_width": ""
          }
        },
        "2697f377e2fe499c8fed4aa97898983c": {
          "model_module": "@jupyter-widgets/controls",
          "model_module_version": "1.5.0",
          "model_name": "HTMLModel",
          "state": {
            "_dom_classes": [],
            "_model_module": "@jupyter-widgets/controls",
            "_model_module_version": "1.5.0",
            "_model_name": "HTMLModel",
            "_view_count": null,
            "_view_module": "@jupyter-widgets/controls",
            "_view_module_version": "1.5.0",
            "_view_name": "HTMLView",
            "description": "",
            "description_tooltip": null,
            "layout": "IPY_MODEL_0d3fe1456ff74cca905172927cbe55a0",
            "placeholder": "​",
            "style": "IPY_MODEL_c3749826b4e44f729d9c0c5676afddaa",
            "value": " 24/24 [02:05&lt;00:00,  5.50s/it]"
          }
        },
        "32fdc7347a8d41dfbef63a1727491b68": {
          "model_module": "@jupyter-widgets/controls",
          "model_module_version": "1.5.0",
          "model_name": "DescriptionStyleModel",
          "state": {
            "_model_module": "@jupyter-widgets/controls",
            "_model_module_version": "1.5.0",
            "_model_name": "DescriptionStyleModel",
            "_view_count": null,
            "_view_module": "@jupyter-widgets/base",
            "_view_module_version": "1.2.0",
            "_view_name": "StyleView",
            "description_width": ""
          }
        },
        "47f02c941a274a288ab5a2654fa5295e": {
          "model_module": "@jupyter-widgets/controls",
          "model_module_version": "1.5.0",
          "model_name": "ProgressStyleModel",
          "state": {
            "_model_module": "@jupyter-widgets/controls",
            "_model_module_version": "1.5.0",
            "_model_name": "ProgressStyleModel",
            "_view_count": null,
            "_view_module": "@jupyter-widgets/base",
            "_view_module_version": "1.2.0",
            "_view_name": "StyleView",
            "bar_color": null,
            "description_width": ""
          }
        },
        "49c93d2a2558418a9a8e07a37bdc8582": {
          "model_module": "@jupyter-widgets/controls",
          "model_module_version": "1.5.0",
          "model_name": "DescriptionStyleModel",
          "state": {
            "_model_module": "@jupyter-widgets/controls",
            "_model_module_version": "1.5.0",
            "_model_name": "DescriptionStyleModel",
            "_view_count": null,
            "_view_module": "@jupyter-widgets/base",
            "_view_module_version": "1.2.0",
            "_view_name": "StyleView",
            "description_width": ""
          }
        },
        "534c3e5db57747659a05285b59daa023": {
          "model_module": "@jupyter-widgets/controls",
          "model_module_version": "1.5.0",
          "model_name": "FloatProgressModel",
          "state": {
            "_dom_classes": [],
            "_model_module": "@jupyter-widgets/controls",
            "_model_module_version": "1.5.0",
            "_model_name": "FloatProgressModel",
            "_view_count": null,
            "_view_module": "@jupyter-widgets/controls",
            "_view_module_version": "1.5.0",
            "_view_name": "ProgressView",
            "bar_style": "success",
            "description": "",
            "description_tooltip": null,
            "layout": "IPY_MODEL_0e95f44a595342f88872f45ef83b185b",
            "max": 24,
            "min": 0,
            "orientation": "horizontal",
            "style": "IPY_MODEL_e5117c87e8f244cc88d2bc9868a7fa7a",
            "value": 24
          }
        },
        "5472c870a51045448608b8729bb20f03": {
          "model_module": "@jupyter-widgets/controls",
          "model_module_version": "1.5.0",
          "model_name": "FloatProgressModel",
          "state": {
            "_dom_classes": [],
            "_model_module": "@jupyter-widgets/controls",
            "_model_module_version": "1.5.0",
            "_model_name": "FloatProgressModel",
            "_view_count": null,
            "_view_module": "@jupyter-widgets/controls",
            "_view_module_version": "1.5.0",
            "_view_name": "ProgressView",
            "bar_style": "success",
            "description": "",
            "description_tooltip": null,
            "layout": "IPY_MODEL_b4adc2c510004268b1cf8bc2f68753c7",
            "max": 24,
            "min": 0,
            "orientation": "horizontal",
            "style": "IPY_MODEL_47f02c941a274a288ab5a2654fa5295e",
            "value": 24
          }
        },
        "5b9947019df04d17b3e2eabdec00db2a": {
          "model_module": "@jupyter-widgets/controls",
          "model_module_version": "1.5.0",
          "model_name": "HTMLModel",
          "state": {
            "_dom_classes": [],
            "_model_module": "@jupyter-widgets/controls",
            "_model_module_version": "1.5.0",
            "_model_name": "HTMLModel",
            "_view_count": null,
            "_view_module": "@jupyter-widgets/controls",
            "_view_module_version": "1.5.0",
            "_view_name": "HTMLView",
            "description": "",
            "description_tooltip": null,
            "layout": "IPY_MODEL_a79caa24da55416194db882b7881d9c8",
            "placeholder": "​",
            "style": "IPY_MODEL_49c93d2a2558418a9a8e07a37bdc8582",
            "value": "100%"
          }
        },
        "6840fdfcff5e4b7e8807de2cb254cdd7": {
          "model_module": "@jupyter-widgets/base",
          "model_module_version": "1.2.0",
          "model_name": "LayoutModel",
          "state": {
            "_model_module": "@jupyter-widgets/base",
            "_model_module_version": "1.2.0",
            "_model_name": "LayoutModel",
            "_view_count": null,
            "_view_module": "@jupyter-widgets/base",
            "_view_module_version": "1.2.0",
            "_view_name": "LayoutView",
            "align_content": null,
            "align_items": null,
            "align_self": null,
            "border": null,
            "bottom": null,
            "display": null,
            "flex": null,
            "flex_flow": null,
            "grid_area": null,
            "grid_auto_columns": null,
            "grid_auto_flow": null,
            "grid_auto_rows": null,
            "grid_column": null,
            "grid_gap": null,
            "grid_row": null,
            "grid_template_areas": null,
            "grid_template_columns": null,
            "grid_template_rows": null,
            "height": null,
            "justify_content": null,
            "justify_items": null,
            "left": null,
            "margin": null,
            "max_height": null,
            "max_width": null,
            "min_height": null,
            "min_width": null,
            "object_fit": null,
            "object_position": null,
            "order": null,
            "overflow": null,
            "overflow_x": null,
            "overflow_y": null,
            "padding": null,
            "right": null,
            "top": null,
            "visibility": null,
            "width": null
          }
        },
        "8dd82b60a6d4492a8481cc976d9ddc7f": {
          "model_module": "@jupyter-widgets/controls",
          "model_module_version": "1.5.0",
          "model_name": "HTMLModel",
          "state": {
            "_dom_classes": [],
            "_model_module": "@jupyter-widgets/controls",
            "_model_module_version": "1.5.0",
            "_model_name": "HTMLModel",
            "_view_count": null,
            "_view_module": "@jupyter-widgets/controls",
            "_view_module_version": "1.5.0",
            "_view_name": "HTMLView",
            "description": "",
            "description_tooltip": null,
            "layout": "IPY_MODEL_e86dd540b33b457098edccb43f2e2698",
            "placeholder": "​",
            "style": "IPY_MODEL_32fdc7347a8d41dfbef63a1727491b68",
            "value": " 24/24 [00:05&lt;00:00,  4.39it/s]"
          }
        },
        "92e07ab666a741f085b1d377b7b90599": {
          "model_module": "@jupyter-widgets/base",
          "model_module_version": "1.2.0",
          "model_name": "LayoutModel",
          "state": {
            "_model_module": "@jupyter-widgets/base",
            "_model_module_version": "1.2.0",
            "_model_name": "LayoutModel",
            "_view_count": null,
            "_view_module": "@jupyter-widgets/base",
            "_view_module_version": "1.2.0",
            "_view_name": "LayoutView",
            "align_content": null,
            "align_items": null,
            "align_self": null,
            "border": null,
            "bottom": null,
            "display": null,
            "flex": null,
            "flex_flow": null,
            "grid_area": null,
            "grid_auto_columns": null,
            "grid_auto_flow": null,
            "grid_auto_rows": null,
            "grid_column": null,
            "grid_gap": null,
            "grid_row": null,
            "grid_template_areas": null,
            "grid_template_columns": null,
            "grid_template_rows": null,
            "height": null,
            "justify_content": null,
            "justify_items": null,
            "left": null,
            "margin": null,
            "max_height": null,
            "max_width": null,
            "min_height": null,
            "min_width": null,
            "object_fit": null,
            "object_position": null,
            "order": null,
            "overflow": null,
            "overflow_x": null,
            "overflow_y": null,
            "padding": null,
            "right": null,
            "top": null,
            "visibility": null,
            "width": null
          }
        },
        "99d888cd7ca44dc5b86048dd5a55aa06": {
          "model_module": "@jupyter-widgets/base",
          "model_module_version": "1.2.0",
          "model_name": "LayoutModel",
          "state": {
            "_model_module": "@jupyter-widgets/base",
            "_model_module_version": "1.2.0",
            "_model_name": "LayoutModel",
            "_view_count": null,
            "_view_module": "@jupyter-widgets/base",
            "_view_module_version": "1.2.0",
            "_view_name": "LayoutView",
            "align_content": null,
            "align_items": null,
            "align_self": null,
            "border": null,
            "bottom": null,
            "display": null,
            "flex": null,
            "flex_flow": null,
            "grid_area": null,
            "grid_auto_columns": null,
            "grid_auto_flow": null,
            "grid_auto_rows": null,
            "grid_column": null,
            "grid_gap": null,
            "grid_row": null,
            "grid_template_areas": null,
            "grid_template_columns": null,
            "grid_template_rows": null,
            "height": null,
            "justify_content": null,
            "justify_items": null,
            "left": null,
            "margin": null,
            "max_height": null,
            "max_width": null,
            "min_height": null,
            "min_width": null,
            "object_fit": null,
            "object_position": null,
            "order": null,
            "overflow": null,
            "overflow_x": null,
            "overflow_y": null,
            "padding": null,
            "right": null,
            "top": null,
            "visibility": null,
            "width": null
          }
        },
        "a79caa24da55416194db882b7881d9c8": {
          "model_module": "@jupyter-widgets/base",
          "model_module_version": "1.2.0",
          "model_name": "LayoutModel",
          "state": {
            "_model_module": "@jupyter-widgets/base",
            "_model_module_version": "1.2.0",
            "_model_name": "LayoutModel",
            "_view_count": null,
            "_view_module": "@jupyter-widgets/base",
            "_view_module_version": "1.2.0",
            "_view_name": "LayoutView",
            "align_content": null,
            "align_items": null,
            "align_self": null,
            "border": null,
            "bottom": null,
            "display": null,
            "flex": null,
            "flex_flow": null,
            "grid_area": null,
            "grid_auto_columns": null,
            "grid_auto_flow": null,
            "grid_auto_rows": null,
            "grid_column": null,
            "grid_gap": null,
            "grid_row": null,
            "grid_template_areas": null,
            "grid_template_columns": null,
            "grid_template_rows": null,
            "height": null,
            "justify_content": null,
            "justify_items": null,
            "left": null,
            "margin": null,
            "max_height": null,
            "max_width": null,
            "min_height": null,
            "min_width": null,
            "object_fit": null,
            "object_position": null,
            "order": null,
            "overflow": null,
            "overflow_x": null,
            "overflow_y": null,
            "padding": null,
            "right": null,
            "top": null,
            "visibility": null,
            "width": null
          }
        },
        "b4adc2c510004268b1cf8bc2f68753c7": {
          "model_module": "@jupyter-widgets/base",
          "model_module_version": "1.2.0",
          "model_name": "LayoutModel",
          "state": {
            "_model_module": "@jupyter-widgets/base",
            "_model_module_version": "1.2.0",
            "_model_name": "LayoutModel",
            "_view_count": null,
            "_view_module": "@jupyter-widgets/base",
            "_view_module_version": "1.2.0",
            "_view_name": "LayoutView",
            "align_content": null,
            "align_items": null,
            "align_self": null,
            "border": null,
            "bottom": null,
            "display": null,
            "flex": null,
            "flex_flow": null,
            "grid_area": null,
            "grid_auto_columns": null,
            "grid_auto_flow": null,
            "grid_auto_rows": null,
            "grid_column": null,
            "grid_gap": null,
            "grid_row": null,
            "grid_template_areas": null,
            "grid_template_columns": null,
            "grid_template_rows": null,
            "height": null,
            "justify_content": null,
            "justify_items": null,
            "left": null,
            "margin": null,
            "max_height": null,
            "max_width": null,
            "min_height": null,
            "min_width": null,
            "object_fit": null,
            "object_position": null,
            "order": null,
            "overflow": null,
            "overflow_x": null,
            "overflow_y": null,
            "padding": null,
            "right": null,
            "top": null,
            "visibility": null,
            "width": null
          }
        },
        "c3749826b4e44f729d9c0c5676afddaa": {
          "model_module": "@jupyter-widgets/controls",
          "model_module_version": "1.5.0",
          "model_name": "DescriptionStyleModel",
          "state": {
            "_model_module": "@jupyter-widgets/controls",
            "_model_module_version": "1.5.0",
            "_model_name": "DescriptionStyleModel",
            "_view_count": null,
            "_view_module": "@jupyter-widgets/base",
            "_view_module_version": "1.2.0",
            "_view_name": "StyleView",
            "description_width": ""
          }
        },
        "e0527a7ce3ff4a4a937804d9b1db3d64": {
          "model_module": "@jupyter-widgets/controls",
          "model_module_version": "1.5.0",
          "model_name": "HBoxModel",
          "state": {
            "_dom_classes": [],
            "_model_module": "@jupyter-widgets/controls",
            "_model_module_version": "1.5.0",
            "_model_name": "HBoxModel",
            "_view_count": null,
            "_view_module": "@jupyter-widgets/controls",
            "_view_module_version": "1.5.0",
            "_view_name": "HBoxView",
            "box_style": "",
            "children": [
              "IPY_MODEL_f62981439272483b896e860f8fe9104f",
              "IPY_MODEL_534c3e5db57747659a05285b59daa023",
              "IPY_MODEL_2697f377e2fe499c8fed4aa97898983c"
            ],
            "layout": "IPY_MODEL_6840fdfcff5e4b7e8807de2cb254cdd7"
          }
        },
        "e5117c87e8f244cc88d2bc9868a7fa7a": {
          "model_module": "@jupyter-widgets/controls",
          "model_module_version": "1.5.0",
          "model_name": "ProgressStyleModel",
          "state": {
            "_model_module": "@jupyter-widgets/controls",
            "_model_module_version": "1.5.0",
            "_model_name": "ProgressStyleModel",
            "_view_count": null,
            "_view_module": "@jupyter-widgets/base",
            "_view_module_version": "1.2.0",
            "_view_name": "StyleView",
            "bar_color": null,
            "description_width": ""
          }
        },
        "e86dd540b33b457098edccb43f2e2698": {
          "model_module": "@jupyter-widgets/base",
          "model_module_version": "1.2.0",
          "model_name": "LayoutModel",
          "state": {
            "_model_module": "@jupyter-widgets/base",
            "_model_module_version": "1.2.0",
            "_model_name": "LayoutModel",
            "_view_count": null,
            "_view_module": "@jupyter-widgets/base",
            "_view_module_version": "1.2.0",
            "_view_name": "LayoutView",
            "align_content": null,
            "align_items": null,
            "align_self": null,
            "border": null,
            "bottom": null,
            "display": null,
            "flex": null,
            "flex_flow": null,
            "grid_area": null,
            "grid_auto_columns": null,
            "grid_auto_flow": null,
            "grid_auto_rows": null,
            "grid_column": null,
            "grid_gap": null,
            "grid_row": null,
            "grid_template_areas": null,
            "grid_template_columns": null,
            "grid_template_rows": null,
            "height": null,
            "justify_content": null,
            "justify_items": null,
            "left": null,
            "margin": null,
            "max_height": null,
            "max_width": null,
            "min_height": null,
            "min_width": null,
            "object_fit": null,
            "object_position": null,
            "order": null,
            "overflow": null,
            "overflow_x": null,
            "overflow_y": null,
            "padding": null,
            "right": null,
            "top": null,
            "visibility": null,
            "width": null
          }
        },
        "f4b15d88ffb64e78b0bd32b04cea92c3": {
          "model_module": "@jupyter-widgets/controls",
          "model_module_version": "1.5.0",
          "model_name": "HBoxModel",
          "state": {
            "_dom_classes": [],
            "_model_module": "@jupyter-widgets/controls",
            "_model_module_version": "1.5.0",
            "_model_name": "HBoxModel",
            "_view_count": null,
            "_view_module": "@jupyter-widgets/controls",
            "_view_module_version": "1.5.0",
            "_view_name": "HBoxView",
            "box_style": "",
            "children": [
              "IPY_MODEL_5b9947019df04d17b3e2eabdec00db2a",
              "IPY_MODEL_5472c870a51045448608b8729bb20f03",
              "IPY_MODEL_8dd82b60a6d4492a8481cc976d9ddc7f"
            ],
            "layout": "IPY_MODEL_92e07ab666a741f085b1d377b7b90599"
          }
        },
        "f62981439272483b896e860f8fe9104f": {
          "model_module": "@jupyter-widgets/controls",
          "model_module_version": "1.5.0",
          "model_name": "HTMLModel",
          "state": {
            "_dom_classes": [],
            "_model_module": "@jupyter-widgets/controls",
            "_model_module_version": "1.5.0",
            "_model_name": "HTMLModel",
            "_view_count": null,
            "_view_module": "@jupyter-widgets/controls",
            "_view_module_version": "1.5.0",
            "_view_name": "HTMLView",
            "description": "",
            "description_tooltip": null,
            "layout": "IPY_MODEL_99d888cd7ca44dc5b86048dd5a55aa06",
            "placeholder": "​",
            "style": "IPY_MODEL_1c977c3b0a91417b8db4c336d24b011a",
            "value": "100%"
          }
        }
      }
    }
  },
  "nbformat": 4,
  "nbformat_minor": 0
}
