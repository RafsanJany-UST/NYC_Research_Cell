{
 "cells": [
  {
   "cell_type": "code",
   "execution_count": 1,
   "id": "373a673c",
   "metadata": {},
   "outputs": [
    {
     "name": "stderr",
     "output_type": "stream",
     "text": [
      "Creating graph dataset: 100%|██████████| 54/54 [02:55<00:00,  3.25s/it]"
     ]
    },
    {
     "name": "stdout",
     "output_type": "stream",
     "text": [
      "<__main__.KinectTemporalGraphDataset object at 0x000001FBDEAC27F0>\n"
     ]
    },
    {
     "name": "stderr",
     "output_type": "stream",
     "text": [
      "\n"
     ]
    }
   ],
   "source": [
    "# hybrid_qor_train.py\n",
    "import pandas as pd\n",
    "import numpy as np\n",
    "import torch\n",
    "import torch.nn as nn\n",
    "import torch.nn.functional as F\n",
    "from torch.utils.data import DataLoader\n",
    "from torch_geometric.data import Data\n",
    "from torch_geometric.nn import GCNConv, global_mean_pool\n",
    "from sklearn.utils.class_weight import compute_class_weight\n",
    "from sklearn.model_selection import train_test_split\n",
    "from sklearn.metrics import accuracy_score, precision_score, recall_score, f1_score\n",
    "from tqdm import tqdm\n",
    "import os\n",
    "import itertools\n",
    "import plotly.graph_objs as go\n",
    "\n",
    "# 1. Load and Clean Data\n",
    "csv_path = r\"D:\\Data\\NYC\\KINZ\\KINECT_ACC_dataset_with_qor15_2025-05-27_14-29PM.csv\"\n",
    "df = pd.read_csv(csv_path, low_memory=False)\n",
    "joint_cols = [col for col in df.columns if any(j in col for j in ['_X', '_Y', '_Z'])]\n",
    "df = df.dropna(subset=joint_cols + ['QoR_class', 'footfall_event_times', 'accel_energy_total'])\n",
    "\n",
    "# 2. Patient-wise Split\n",
    "patient_map = df.groupby('patientID')['QoR_class'].first()\n",
    "class_0 = patient_map[patient_map == 0.0].index.tolist()\n",
    "class_1 = patient_map[patient_map == 1.0].index.tolist()\n",
    "\n",
    "def split(patients):\n",
    "    train, temp = train_test_split(patients, test_size=0.3, random_state=42)\n",
    "    val, test = train_test_split(temp, test_size=0.5, random_state=42)\n",
    "    return train, val, test\n",
    "\n",
    "train_0, val_0, test_0 = split(class_0)\n",
    "train_1, val_1, test_1 = split(class_1)\n",
    "train_ids = train_0 + train_1\n",
    "val_ids = val_0 + val_1\n",
    "test_ids = test_0 + test_1\n",
    "\n",
    "train_df = df[df['patientID'].isin(train_ids)]\n",
    "val_df = df[df['patientID'].isin(val_ids)]\n",
    "test_df = df[df['patientID'].isin(test_ids)]\n",
    "\n",
    "# === Fixed Joint Order ===\n",
    "joints = [\n",
    "    'FOOT_RIGHT', 'FOOT_LEFT', 'ANKLE_RIGHT', 'ANKLE_LEFT', 'KNEE_RIGHT', 'KNEE_LEFT',\n",
    "    'HIP_RIGHT', 'HIP_LEFT', 'PELVIS', 'SPINE_NAVAL', 'SPINE_CHEST',\n",
    "    'CLAVICLE_RIGHT', 'CLAVICLE_LEFT', 'SHOULDER_RIGHT', 'SHOULDER_LEFT',\n",
    "    'ELBOW_RIGHT', 'ELBOW_LEFT', 'WRIST_RIGHT', 'WRIST_LEFT', 'HAND_RIGHT',\n",
    "    'HAND_LEFT', 'HANDTIP_RIGHT', 'HANDTIP_LEFT', 'THUMB_RIGHT', 'THUMB_LEFT',\n",
    "    'NECK', 'HEAD', 'NOSE', 'EYE_LEFT', 'EAR_LEFT', 'EYE_RIGHT', 'EAR_RIGHT'\n",
    "]\n",
    "\n",
    "# === Matching Edge List ===\n",
    "edges = torch.tensor([\n",
    "    [0, 2], [1, 3], [2, 4], [3, 5], [4, 6], [5, 7], [6, 8], [7, 8], [8, 9],\n",
    "    [9, 10], [10, 11], [10, 12], [11, 13], [12, 14], [13, 15], [14, 16],\n",
    "    [15, 17], [16, 18], [17, 19], [18, 20], [19, 21], [20, 22], [17, 23],\n",
    "    [18, 24], [10, 25], [25, 26], [26, 27], [26, 28], [26, 29], [26, 30], [26, 31]\n",
    "]).t().contiguous()\n",
    "\n",
    "class KinectTemporalGraphDataset(torch.utils.data.Dataset):\n",
    "    def __init__(self, df, seq_len=16, stride=1):\n",
    "        self.graphs = []\n",
    "        self.temporal_feats = []\n",
    "        self.labels = []\n",
    "\n",
    "        for _, patient in tqdm(df.groupby('patientID'), desc=\"Creating graph dataset\"):\n",
    "            patient = patient.sort_values('t_uniform').reset_index(drop=True)\n",
    "            for start in range(0, len(patient) - seq_len + 1, stride):\n",
    "                seq_graphs = []\n",
    "                seq_feats = []\n",
    "                for i in range(seq_len):\n",
    "                    row = patient.iloc[start + i]\n",
    "                    coords = torch.tensor(\n",
    "                        [[row[f\"{j}_X\"], row[f\"{j}_Y\"], row[f\"{j}_Z\"]] for j in joints],\n",
    "                        dtype=torch.float\n",
    "                    )\n",
    "\n",
    "                    # === Normalize: center to PELVIS ===\n",
    "                    root = coords[joints.index('PELVIS')].clone()\n",
    "                    coords = coords - root\n",
    "\n",
    "                    # === Normalize: scale to average distance from root ===\n",
    "                    scale = coords.norm(dim=1).mean().clamp(min=1e-5)\n",
    "                    coords = coords / scale\n",
    "\n",
    "                    x = coords\n",
    "                    seq_graphs.append(Data(x=x, edge_index=edges.clone()))\n",
    "                    seq_feats.append([row['footfall_event_times'], row['accel_energy_total']])\n",
    "                label = torch.tensor([patient.iloc[start + seq_len // 2]['QoR_class']], dtype=torch.float)\n",
    "\n",
    "                self.graphs.append(seq_graphs)\n",
    "                self.temporal_feats.append(torch.tensor(seq_feats, dtype=torch.float))\n",
    "                self.labels.append(label)\n",
    "\n",
    "    def __len__(self):\n",
    "        return len(self.graphs)\n",
    "\n",
    "    def __getitem__(self, i):\n",
    "        return self.graphs[i], self.temporal_feats[i], self.labels[i]\n",
    "\n",
    "dataset = KinectTemporalGraphDataset(train_df, seq_len=4)\n",
    "print(dataset)\n"
   ]
  },
  {
   "cell_type": "code",
   "execution_count": 2,
   "id": "75c94aa5",
   "metadata": {},
   "outputs": [
    {
     "data": {
      "application/vnd.plotly.v1+json": {
       "config": {
        "plotlyServerURL": "https://plot.ly"
       },
       "data": [
        {
         "line": {
          "color": "black",
          "width": 3
         },
         "mode": "lines",
         "type": "scatter3d",
         "x": [
          -0.05607076361775398,
          0.04686650261282921,
          null,
          0.07635921239852905,
          0.15641191601753235,
          null,
          0.04686650261282921,
          -0.07609771192073822,
          null,
          0.15641191601753235,
          0.1167919859290123,
          null,
          -0.07609771192073822,
          -0.17330627143383026,
          null,
          0.1167919859290123,
          0.19219006597995758,
          null,
          -0.17330627143383026,
          0,
          null,
          0.19219006597995758,
          0,
          null,
          0,
          -0.04193136841058731,
          null,
          -0.04193136841058731,
          -0.05669034272432327,
          null,
          -0.05669034272432327,
          -0.14175066351890564,
          null,
          -0.05669034272432327,
          0.013306904584169388,
          null,
          -0.14175066351890564,
          -0.4317440092563629,
          null,
          0.013306904584169388,
          0.33062854409217834,
          null,
          -0.4317440092563629,
          -0.7037132978439331,
          null,
          0.33062854409217834,
          0.6579400897026062,
          null,
          -0.7037132978439331,
          -0.6917580962181091,
          null,
          0.6579400897026062,
          0.6578422784805298,
          null,
          -0.6917580962181091,
          -0.5146559476852417,
          null,
          0.6578422784805298,
          0.6023665070533752,
          null,
          -0.5146559476852417,
          -0.34285852313041687,
          null,
          0.6023665070533752,
          0.611234724521637,
          null,
          -0.6917580962181091,
          -0.49148038029670715,
          null,
          0.6578422784805298,
          0.5853844881057739,
          null,
          -0.05669034272432327,
          -0.066413015127182,
          null,
          -0.066413015127182,
          -0.07586485147476196,
          null,
          -0.07586485147476196,
          -0.25160861015319824,
          null,
          -0.07586485147476196,
          -0.30425235629081726,
          null,
          -0.07586485147476196,
          -0.20017431676387787,
          null,
          -0.07586485147476196,
          -0.3138065040111542,
          null,
          -0.07586485147476196,
          -0.2504284977912903,
          null
         ],
         "y": [
          2.0953707695007324,
          1.722235083580017,
          null,
          2.1655936241149902,
          1.781428337097168,
          null,
          1.722235083580017,
          0.8791617155075073,
          null,
          1.781428337097168,
          0.9369059205055237,
          null,
          0.8791617155075073,
          -0.012446803972125053,
          null,
          0.9369059205055237,
          0.013803212903439999,
          null,
          -0.012446803972125053,
          0,
          null,
          0.013803212903439999,
          0,
          null,
          0,
          -0.3901492953300476,
          null,
          -0.3901492953300476,
          -0.714716374874115,
          null,
          -0.714716374874115,
          -1.1151418685913086,
          null,
          -0.714716374874115,
          -1.108580231666565,
          null,
          -1.1151418685913086,
          -1.0318268537521362,
          null,
          -1.108580231666565,
          -1.0008594989776611,
          null,
          -1.0318268537521362,
          -0.5148309469223022,
          null,
          -1.0008594989776611,
          -0.5420041084289551,
          null,
          -0.5148309469223022,
          -0.03973334655165672,
          null,
          -0.5420041084289551,
          -0.002692627487704158,
          null,
          -0.03973334655165672,
          0.07086020708084106,
          null,
          -0.002692627487704158,
          0.11644148081541061,
          null,
          0.07086020708084106,
          0.21431699395179749,
          null,
          0.11644148081541061,
          0.18060210347175598,
          null,
          -0.03973334655165672,
          0.0941723883152008,
          null,
          -0.002692627487704158,
          -0.021072261035442352,
          null,
          -0.714716374874115,
          -1.189418911933899,
          null,
          -1.189418911933899,
          -1.3543115854263306,
          null,
          -1.3543115854263306,
          -1.040383219718933,
          null,
          -1.3543115854263306,
          -1.1059705018997192,
          null,
          -1.3543115854263306,
          -1.2874720096588135,
          null,
          -1.3543115854263306,
          -1.1432596445083618,
          null,
          -1.3543115854263306,
          -1.4422597885131836,
          null
         ],
         "z": [
          0.5541806221008301,
          0.671541154384613,
          null,
          -0.0403624102473259,
          0.15721987187862396,
          null,
          0.671541154384613,
          0.3599446415901184,
          null,
          0.15721987187862396,
          -0.12551258504390717,
          null,
          0.3599446415901184,
          0.08364197611808777,
          null,
          -0.12551258504390717,
          -0.09275541454553604,
          null,
          0.08364197611808777,
          0,
          null,
          -0.09275541454553604,
          0,
          null,
          0,
          -0.14576920866966248,
          null,
          -0.14576920866966248,
          -0.22557353973388672,
          null,
          -0.22557353973388672,
          -0.3626749515533447,
          null,
          -0.22557353973388672,
          -0.39162272214889526,
          null,
          -0.3626749515533447,
          -0.299108624458313,
          null,
          -0.39162272214889526,
          -0.39854195713996887,
          null,
          -0.299108624458313,
          0.006620521191507578,
          null,
          -0.39854195713996887,
          -0.07880016416311264,
          null,
          0.006620521191507578,
          -0.2690165638923645,
          null,
          -0.07880016416311264,
          -0.13350898027420044,
          null,
          -0.2690165638923645,
          -0.1511169970035553,
          null,
          -0.13350898027420044,
          0.049630556255578995,
          null,
          -0.1511169970035553,
          -0.0429292730987072,
          null,
          0.049630556255578995,
          0.29281115531921387,
          null,
          -0.2690165638923645,
          -0.19054919481277466,
          null,
          -0.13350898027420044,
          0.20321516692638397,
          null,
          -0.22557353973388672,
          -0.40982234477996826,
          null,
          -0.40982234477996826,
          -0.506991446018219,
          null,
          -0.506991446018219,
          -0.396463543176651,
          null,
          -0.506991446018219,
          -0.49697697162628174,
          null,
          -0.506991446018219,
          -0.7076854705810547,
          null,
          -0.506991446018219,
          -0.38074517250061035,
          null,
          -0.506991446018219,
          -0.3548187017440796,
          null
         ]
        },
        {
         "marker": {
          "color": "blue",
          "size": 5
         },
         "mode": "markers+text",
         "text": [
          "FOOT_RIGHT",
          "FOOT_LEFT",
          "ANKLE_RIGHT",
          "ANKLE_LEFT",
          "KNEE_RIGHT",
          "KNEE_LEFT",
          "HIP_RIGHT",
          "HIP_LEFT",
          "PELVIS",
          "SPINE_NAVAL",
          "SPINE_CHEST",
          "CLAVICLE_RIGHT",
          "CLAVICLE_LEFT",
          "SHOULDER_RIGHT",
          "SHOULDER_LEFT",
          "ELBOW_RIGHT",
          "ELBOW_LEFT",
          "WRIST_RIGHT",
          "WRIST_LEFT",
          "HAND_RIGHT",
          "HAND_LEFT",
          "HANDTIP_RIGHT",
          "HANDTIP_LEFT",
          "THUMB_RIGHT",
          "THUMB_LEFT",
          "NECK",
          "HEAD",
          "NOSE",
          "EYE_LEFT",
          "EAR_LEFT",
          "EYE_RIGHT",
          "EAR_RIGHT"
         ],
         "type": "scatter3d",
         "x": [
          -0.05607076361775398,
          0.07635921239852905,
          0.04686650261282921,
          0.15641191601753235,
          -0.07609771192073822,
          0.1167919859290123,
          -0.17330627143383026,
          0.19219006597995758,
          0,
          -0.04193136841058731,
          -0.05669034272432327,
          -0.14175066351890564,
          0.013306904584169388,
          -0.4317440092563629,
          0.33062854409217834,
          -0.7037132978439331,
          0.6579400897026062,
          -0.6917580962181091,
          0.6578422784805298,
          -0.5146559476852417,
          0.6023665070533752,
          -0.34285852313041687,
          0.611234724521637,
          -0.49148038029670715,
          0.5853844881057739,
          -0.066413015127182,
          -0.07586485147476196,
          -0.25160861015319824,
          -0.30425235629081726,
          -0.20017431676387787,
          -0.3138065040111542,
          -0.2504284977912903
         ],
         "y": [
          2.0953707695007324,
          2.1655936241149902,
          1.722235083580017,
          1.781428337097168,
          0.8791617155075073,
          0.9369059205055237,
          -0.012446803972125053,
          0.013803212903439999,
          0,
          -0.3901492953300476,
          -0.714716374874115,
          -1.1151418685913086,
          -1.108580231666565,
          -1.0318268537521362,
          -1.0008594989776611,
          -0.5148309469223022,
          -0.5420041084289551,
          -0.03973334655165672,
          -0.002692627487704158,
          0.07086020708084106,
          0.11644148081541061,
          0.21431699395179749,
          0.18060210347175598,
          0.0941723883152008,
          -0.021072261035442352,
          -1.189418911933899,
          -1.3543115854263306,
          -1.040383219718933,
          -1.1059705018997192,
          -1.2874720096588135,
          -1.1432596445083618,
          -1.4422597885131836
         ],
         "z": [
          0.5541806221008301,
          -0.0403624102473259,
          0.671541154384613,
          0.15721987187862396,
          0.3599446415901184,
          -0.12551258504390717,
          0.08364197611808777,
          -0.09275541454553604,
          0,
          -0.14576920866966248,
          -0.22557353973388672,
          -0.3626749515533447,
          -0.39162272214889526,
          -0.299108624458313,
          -0.39854195713996887,
          0.006620521191507578,
          -0.07880016416311264,
          -0.2690165638923645,
          -0.13350898027420044,
          -0.1511169970035553,
          0.049630556255578995,
          -0.0429292730987072,
          0.29281115531921387,
          -0.19054919481277466,
          0.20321516692638397,
          -0.40982234477996826,
          -0.506991446018219,
          -0.396463543176651,
          -0.49697697162628174,
          -0.7076854705810547,
          -0.38074517250061035,
          -0.3548187017440796
         ]
        }
       ],
       "layout": {
        "height": 800,
        "template": {
         "data": {
          "bar": [
           {
            "error_x": {
             "color": "#2a3f5f"
            },
            "error_y": {
             "color": "#2a3f5f"
            },
            "marker": {
             "line": {
              "color": "#E5ECF6",
              "width": 0.5
             },
             "pattern": {
              "fillmode": "overlay",
              "size": 10,
              "solidity": 0.2
             }
            },
            "type": "bar"
           }
          ],
          "barpolar": [
           {
            "marker": {
             "line": {
              "color": "#E5ECF6",
              "width": 0.5
             },
             "pattern": {
              "fillmode": "overlay",
              "size": 10,
              "solidity": 0.2
             }
            },
            "type": "barpolar"
           }
          ],
          "carpet": [
           {
            "aaxis": {
             "endlinecolor": "#2a3f5f",
             "gridcolor": "white",
             "linecolor": "white",
             "minorgridcolor": "white",
             "startlinecolor": "#2a3f5f"
            },
            "baxis": {
             "endlinecolor": "#2a3f5f",
             "gridcolor": "white",
             "linecolor": "white",
             "minorgridcolor": "white",
             "startlinecolor": "#2a3f5f"
            },
            "type": "carpet"
           }
          ],
          "choropleth": [
           {
            "colorbar": {
             "outlinewidth": 0,
             "ticks": ""
            },
            "type": "choropleth"
           }
          ],
          "contour": [
           {
            "colorbar": {
             "outlinewidth": 0,
             "ticks": ""
            },
            "colorscale": [
             [
              0,
              "#0d0887"
             ],
             [
              0.1111111111111111,
              "#46039f"
             ],
             [
              0.2222222222222222,
              "#7201a8"
             ],
             [
              0.3333333333333333,
              "#9c179e"
             ],
             [
              0.4444444444444444,
              "#bd3786"
             ],
             [
              0.5555555555555556,
              "#d8576b"
             ],
             [
              0.6666666666666666,
              "#ed7953"
             ],
             [
              0.7777777777777778,
              "#fb9f3a"
             ],
             [
              0.8888888888888888,
              "#fdca26"
             ],
             [
              1,
              "#f0f921"
             ]
            ],
            "type": "contour"
           }
          ],
          "contourcarpet": [
           {
            "colorbar": {
             "outlinewidth": 0,
             "ticks": ""
            },
            "type": "contourcarpet"
           }
          ],
          "heatmap": [
           {
            "colorbar": {
             "outlinewidth": 0,
             "ticks": ""
            },
            "colorscale": [
             [
              0,
              "#0d0887"
             ],
             [
              0.1111111111111111,
              "#46039f"
             ],
             [
              0.2222222222222222,
              "#7201a8"
             ],
             [
              0.3333333333333333,
              "#9c179e"
             ],
             [
              0.4444444444444444,
              "#bd3786"
             ],
             [
              0.5555555555555556,
              "#d8576b"
             ],
             [
              0.6666666666666666,
              "#ed7953"
             ],
             [
              0.7777777777777778,
              "#fb9f3a"
             ],
             [
              0.8888888888888888,
              "#fdca26"
             ],
             [
              1,
              "#f0f921"
             ]
            ],
            "type": "heatmap"
           }
          ],
          "histogram": [
           {
            "marker": {
             "pattern": {
              "fillmode": "overlay",
              "size": 10,
              "solidity": 0.2
             }
            },
            "type": "histogram"
           }
          ],
          "histogram2d": [
           {
            "colorbar": {
             "outlinewidth": 0,
             "ticks": ""
            },
            "colorscale": [
             [
              0,
              "#0d0887"
             ],
             [
              0.1111111111111111,
              "#46039f"
             ],
             [
              0.2222222222222222,
              "#7201a8"
             ],
             [
              0.3333333333333333,
              "#9c179e"
             ],
             [
              0.4444444444444444,
              "#bd3786"
             ],
             [
              0.5555555555555556,
              "#d8576b"
             ],
             [
              0.6666666666666666,
              "#ed7953"
             ],
             [
              0.7777777777777778,
              "#fb9f3a"
             ],
             [
              0.8888888888888888,
              "#fdca26"
             ],
             [
              1,
              "#f0f921"
             ]
            ],
            "type": "histogram2d"
           }
          ],
          "histogram2dcontour": [
           {
            "colorbar": {
             "outlinewidth": 0,
             "ticks": ""
            },
            "colorscale": [
             [
              0,
              "#0d0887"
             ],
             [
              0.1111111111111111,
              "#46039f"
             ],
             [
              0.2222222222222222,
              "#7201a8"
             ],
             [
              0.3333333333333333,
              "#9c179e"
             ],
             [
              0.4444444444444444,
              "#bd3786"
             ],
             [
              0.5555555555555556,
              "#d8576b"
             ],
             [
              0.6666666666666666,
              "#ed7953"
             ],
             [
              0.7777777777777778,
              "#fb9f3a"
             ],
             [
              0.8888888888888888,
              "#fdca26"
             ],
             [
              1,
              "#f0f921"
             ]
            ],
            "type": "histogram2dcontour"
           }
          ],
          "mesh3d": [
           {
            "colorbar": {
             "outlinewidth": 0,
             "ticks": ""
            },
            "type": "mesh3d"
           }
          ],
          "parcoords": [
           {
            "line": {
             "colorbar": {
              "outlinewidth": 0,
              "ticks": ""
             }
            },
            "type": "parcoords"
           }
          ],
          "pie": [
           {
            "automargin": true,
            "type": "pie"
           }
          ],
          "scatter": [
           {
            "fillpattern": {
             "fillmode": "overlay",
             "size": 10,
             "solidity": 0.2
            },
            "type": "scatter"
           }
          ],
          "scatter3d": [
           {
            "line": {
             "colorbar": {
              "outlinewidth": 0,
              "ticks": ""
             }
            },
            "marker": {
             "colorbar": {
              "outlinewidth": 0,
              "ticks": ""
             }
            },
            "type": "scatter3d"
           }
          ],
          "scattercarpet": [
           {
            "marker": {
             "colorbar": {
              "outlinewidth": 0,
              "ticks": ""
             }
            },
            "type": "scattercarpet"
           }
          ],
          "scattergeo": [
           {
            "marker": {
             "colorbar": {
              "outlinewidth": 0,
              "ticks": ""
             }
            },
            "type": "scattergeo"
           }
          ],
          "scattergl": [
           {
            "marker": {
             "colorbar": {
              "outlinewidth": 0,
              "ticks": ""
             }
            },
            "type": "scattergl"
           }
          ],
          "scattermap": [
           {
            "marker": {
             "colorbar": {
              "outlinewidth": 0,
              "ticks": ""
             }
            },
            "type": "scattermap"
           }
          ],
          "scattermapbox": [
           {
            "marker": {
             "colorbar": {
              "outlinewidth": 0,
              "ticks": ""
             }
            },
            "type": "scattermapbox"
           }
          ],
          "scatterpolar": [
           {
            "marker": {
             "colorbar": {
              "outlinewidth": 0,
              "ticks": ""
             }
            },
            "type": "scatterpolar"
           }
          ],
          "scatterpolargl": [
           {
            "marker": {
             "colorbar": {
              "outlinewidth": 0,
              "ticks": ""
             }
            },
            "type": "scatterpolargl"
           }
          ],
          "scatterternary": [
           {
            "marker": {
             "colorbar": {
              "outlinewidth": 0,
              "ticks": ""
             }
            },
            "type": "scatterternary"
           }
          ],
          "surface": [
           {
            "colorbar": {
             "outlinewidth": 0,
             "ticks": ""
            },
            "colorscale": [
             [
              0,
              "#0d0887"
             ],
             [
              0.1111111111111111,
              "#46039f"
             ],
             [
              0.2222222222222222,
              "#7201a8"
             ],
             [
              0.3333333333333333,
              "#9c179e"
             ],
             [
              0.4444444444444444,
              "#bd3786"
             ],
             [
              0.5555555555555556,
              "#d8576b"
             ],
             [
              0.6666666666666666,
              "#ed7953"
             ],
             [
              0.7777777777777778,
              "#fb9f3a"
             ],
             [
              0.8888888888888888,
              "#fdca26"
             ],
             [
              1,
              "#f0f921"
             ]
            ],
            "type": "surface"
           }
          ],
          "table": [
           {
            "cells": {
             "fill": {
              "color": "#EBF0F8"
             },
             "line": {
              "color": "white"
             }
            },
            "header": {
             "fill": {
              "color": "#C8D4E3"
             },
             "line": {
              "color": "white"
             }
            },
            "type": "table"
           }
          ]
         },
         "layout": {
          "annotationdefaults": {
           "arrowcolor": "#2a3f5f",
           "arrowhead": 0,
           "arrowwidth": 1
          },
          "autotypenumbers": "strict",
          "coloraxis": {
           "colorbar": {
            "outlinewidth": 0,
            "ticks": ""
           }
          },
          "colorscale": {
           "diverging": [
            [
             0,
             "#8e0152"
            ],
            [
             0.1,
             "#c51b7d"
            ],
            [
             0.2,
             "#de77ae"
            ],
            [
             0.3,
             "#f1b6da"
            ],
            [
             0.4,
             "#fde0ef"
            ],
            [
             0.5,
             "#f7f7f7"
            ],
            [
             0.6,
             "#e6f5d0"
            ],
            [
             0.7,
             "#b8e186"
            ],
            [
             0.8,
             "#7fbc41"
            ],
            [
             0.9,
             "#4d9221"
            ],
            [
             1,
             "#276419"
            ]
           ],
           "sequential": [
            [
             0,
             "#0d0887"
            ],
            [
             0.1111111111111111,
             "#46039f"
            ],
            [
             0.2222222222222222,
             "#7201a8"
            ],
            [
             0.3333333333333333,
             "#9c179e"
            ],
            [
             0.4444444444444444,
             "#bd3786"
            ],
            [
             0.5555555555555556,
             "#d8576b"
            ],
            [
             0.6666666666666666,
             "#ed7953"
            ],
            [
             0.7777777777777778,
             "#fb9f3a"
            ],
            [
             0.8888888888888888,
             "#fdca26"
            ],
            [
             1,
             "#f0f921"
            ]
           ],
           "sequentialminus": [
            [
             0,
             "#0d0887"
            ],
            [
             0.1111111111111111,
             "#46039f"
            ],
            [
             0.2222222222222222,
             "#7201a8"
            ],
            [
             0.3333333333333333,
             "#9c179e"
            ],
            [
             0.4444444444444444,
             "#bd3786"
            ],
            [
             0.5555555555555556,
             "#d8576b"
            ],
            [
             0.6666666666666666,
             "#ed7953"
            ],
            [
             0.7777777777777778,
             "#fb9f3a"
            ],
            [
             0.8888888888888888,
             "#fdca26"
            ],
            [
             1,
             "#f0f921"
            ]
           ]
          },
          "colorway": [
           "#636efa",
           "#EF553B",
           "#00cc96",
           "#ab63fa",
           "#FFA15A",
           "#19d3f3",
           "#FF6692",
           "#B6E880",
           "#FF97FF",
           "#FECB52"
          ],
          "font": {
           "color": "#2a3f5f"
          },
          "geo": {
           "bgcolor": "white",
           "lakecolor": "white",
           "landcolor": "#E5ECF6",
           "showlakes": true,
           "showland": true,
           "subunitcolor": "white"
          },
          "hoverlabel": {
           "align": "left"
          },
          "hovermode": "closest",
          "mapbox": {
           "style": "light"
          },
          "paper_bgcolor": "white",
          "plot_bgcolor": "#E5ECF6",
          "polar": {
           "angularaxis": {
            "gridcolor": "white",
            "linecolor": "white",
            "ticks": ""
           },
           "bgcolor": "#E5ECF6",
           "radialaxis": {
            "gridcolor": "white",
            "linecolor": "white",
            "ticks": ""
           }
          },
          "scene": {
           "xaxis": {
            "backgroundcolor": "#E5ECF6",
            "gridcolor": "white",
            "gridwidth": 2,
            "linecolor": "white",
            "showbackground": true,
            "ticks": "",
            "zerolinecolor": "white"
           },
           "yaxis": {
            "backgroundcolor": "#E5ECF6",
            "gridcolor": "white",
            "gridwidth": 2,
            "linecolor": "white",
            "showbackground": true,
            "ticks": "",
            "zerolinecolor": "white"
           },
           "zaxis": {
            "backgroundcolor": "#E5ECF6",
            "gridcolor": "white",
            "gridwidth": 2,
            "linecolor": "white",
            "showbackground": true,
            "ticks": "",
            "zerolinecolor": "white"
           }
          },
          "shapedefaults": {
           "line": {
            "color": "#2a3f5f"
           }
          },
          "ternary": {
           "aaxis": {
            "gridcolor": "white",
            "linecolor": "white",
            "ticks": ""
           },
           "baxis": {
            "gridcolor": "white",
            "linecolor": "white",
            "ticks": ""
           },
           "bgcolor": "#E5ECF6",
           "caxis": {
            "gridcolor": "white",
            "linecolor": "white",
            "ticks": ""
           }
          },
          "title": {
           "x": 0.05
          },
          "xaxis": {
           "automargin": true,
           "gridcolor": "white",
           "linecolor": "white",
           "ticks": "",
           "title": {
            "standoff": 15
           },
           "zerolinecolor": "white",
           "zerolinewidth": 2
          },
          "yaxis": {
           "automargin": true,
           "gridcolor": "white",
           "linecolor": "white",
           "ticks": "",
           "title": {
            "standoff": 15
           },
           "zerolinecolor": "white",
           "zerolinewidth": 2
          }
         }
        },
        "title": {
         "text": "Skeleton Frame"
        },
        "width": 1000
       }
      }
     },
     "metadata": {},
     "output_type": "display_data"
    }
   ],
   "source": [
    "from plotly import graph_objs as go\n",
    "\n",
    "def plot_graph(node_positions):\n",
    "    x = [p[0] for p in node_positions]\n",
    "    y = [p[1] for p in node_positions]\n",
    "    z = [p[2] for p in node_positions]\n",
    "\n",
    "    edge_x, edge_y, edge_z = [], [], []\n",
    "    for e in edges.t().tolist():\n",
    "        x0, y0, z0 = node_positions[e[0]]\n",
    "        x1, y1, z1 = node_positions[e[1]]\n",
    "        edge_x += [x0, x1, None]\n",
    "        edge_y += [y0, y1, None]\n",
    "        edge_z += [z0, z1, None]\n",
    "\n",
    "    fig = go.Figure(data=[\n",
    "        go.Scatter3d(x=edge_x, y=edge_y, z=edge_z, mode='lines', line=dict(color='black', width=3)),\n",
    "        go.Scatter3d(x=x, y=y, z=z, mode='markers+text', text=joints, marker=dict(size=5, color='blue'))\n",
    "    ])\n",
    "    fig.update_layout(title='Skeleton Frame', width=1000, height=800)\n",
    "    fig.show()\n",
    "\n",
    "# Use the dataset\n",
    "sequence, _, _ = dataset[4]\n",
    "plot_graph(sequence[1].x.tolist())  # Visualize 1st frame\n"
   ]
  },
  {
   "cell_type": "code",
   "execution_count": null,
   "id": "fd9d1ae2",
   "metadata": {},
   "outputs": [],
   "source": []
  },
  {
   "cell_type": "code",
   "execution_count": null,
   "id": "05bb148a",
   "metadata": {},
   "outputs": [],
   "source": []
  },
  {
   "cell_type": "markdown",
   "id": "b86b1886",
   "metadata": {},
   "source": [
    "# main"
   ]
  },
  {
   "cell_type": "code",
   "execution_count": null,
   "id": "a2c0b1a8",
   "metadata": {},
   "outputs": [],
   "source": [
    "import pandas as pd\n",
    "import numpy as np\n",
    "import torch\n",
    "import torch.nn as nn\n",
    "import torch.nn.functional as F\n",
    "from torch.utils.data import DataLoader\n",
    "from torch_geometric.data import Data\n",
    "from torch_geometric.nn import GCNConv, global_mean_pool\n",
    "from sklearn.utils.class_weight import compute_class_weight\n",
    "from sklearn.model_selection import train_test_split\n",
    "from sklearn.metrics import accuracy_score, precision_score, recall_score, f1_score\n",
    "from tqdm import tqdm\n",
    "import os\n",
    "import itertools\n",
    "import plotly.graph_objs as go\n",
    "\n",
    "# 1. Load and Clean Data\n",
    "csv_path = r\"D:\\Data\\NYC\\KINZ\\KINECT_ACC_dataset_with_qor15_2025-05-27_14-29PM.csv\"\n",
    "df = pd.read_csv(csv_path, low_memory=False)\n",
    "joint_cols = [col for col in df.columns if any(j in col for j in ['_X', '_Y', '_Z'])]\n",
    "df = df.dropna(subset=joint_cols + ['QoR_class', 'footfall_event_times', 'accel_energy_total'])\n",
    "\n",
    "# 2. Patient-wise Split\n",
    "patient_map = df.groupby('patientID')['QoR_class'].first()\n",
    "class_0 = patient_map[patient_map == 0.0].index.tolist()\n",
    "class_1 = patient_map[patient_map == 1.0].index.tolist()\n",
    "\n",
    "def split(patients):\n",
    "    train, temp = train_test_split(patients, test_size=0.3, random_state=42)\n",
    "    val, test = train_test_split(temp, test_size=0.5, random_state=42)\n",
    "    return train, val, test\n",
    "\n",
    "train_0, val_0, test_0 = split(class_0)\n",
    "train_1, val_1, test_1 = split(class_1)\n",
    "train_ids = train_0 + train_1\n",
    "val_ids = val_0 + val_1\n",
    "test_ids = test_0 + test_1\n",
    "\n",
    "train_df = df[df['patientID'].isin(train_ids)]\n",
    "val_df = df[df['patientID'].isin(val_ids)]\n",
    "test_df = df[df['patientID'].isin(test_ids)]\n",
    "\n",
    "# === Fixed Joint Order ===\n",
    "joints = [\n",
    "    'FOOT_RIGHT', 'FOOT_LEFT', 'ANKLE_RIGHT', 'ANKLE_LEFT', 'KNEE_RIGHT', 'KNEE_LEFT',\n",
    "    'HIP_RIGHT', 'HIP_LEFT', 'PELVIS', 'SPINE_NAVAL', 'SPINE_CHEST',\n",
    "    'CLAVICLE_RIGHT', 'CLAVICLE_LEFT', 'SHOULDER_RIGHT', 'SHOULDER_LEFT',\n",
    "    'ELBOW_RIGHT', 'ELBOW_LEFT', 'WRIST_RIGHT', 'WRIST_LEFT', 'HAND_RIGHT',\n",
    "    'HAND_LEFT', 'HANDTIP_RIGHT', 'HANDTIP_LEFT', 'THUMB_RIGHT', 'THUMB_LEFT',\n",
    "    'NECK', 'HEAD', 'NOSE', 'EYE_LEFT', 'EAR_LEFT', 'EYE_RIGHT', 'EAR_RIGHT'\n",
    "]\n",
    "\n",
    "# === Matching Edge List ===\n",
    "edges = torch.tensor([\n",
    "    [0, 2], [1, 3], [2, 4], [3, 5], [4, 6], [5, 7], [6, 8], [7, 8], [8, 9],\n",
    "    [9, 10], [10, 11], [10, 12], [11, 13], [12, 14], [13, 15], [14, 16],\n",
    "    [15, 17], [16, 18], [17, 19], [18, 20], [19, 21], [20, 22], [17, 23],\n",
    "    [18, 24], [10, 25], [25, 26], [26, 27], [26, 28], [26, 29], [26, 30], [26, 31]\n",
    "]).t().contiguous()\n",
    "\n",
    "class KinectTemporalGraphDataset(torch.utils.data.Dataset):\n",
    "    def __init__(self, df, seq_len=16, stride=1):\n",
    "        self.graphs = []\n",
    "        self.temporal_feats = []\n",
    "        self.labels = []\n",
    "\n",
    "        for _, patient in tqdm(df.groupby('patientID'), desc=\"Creating graph dataset\"):\n",
    "            patient = patient.sort_values('t_uniform').reset_index(drop=True)\n",
    "            for start in range(0, len(patient) - seq_len + 1, stride):\n",
    "                seq_graphs = []\n",
    "                seq_feats = []\n",
    "                for i in range(seq_len):\n",
    "                    row = patient.iloc[start + i]\n",
    "                    coords = torch.tensor(\n",
    "                        [[row[f\"{j}_X\"], row[f\"{j}_Y\"], row[f\"{j}_Z\"]] for j in joints],\n",
    "                        dtype=torch.float\n",
    "                    )\n",
    "\n",
    "                    # === Normalize: center to PELVIS ===\n",
    "                    root = coords[joints.index('PELVIS')].clone()\n",
    "                    coords = coords - root\n",
    "\n",
    "                    # === Normalize: scale to average distance from root ===\n",
    "                    scale = coords.norm(dim=1).mean().clamp(min=1e-5)\n",
    "                    coords = coords / scale\n",
    "\n",
    "                    x = coords\n",
    "                    seq_graphs.append(Data(x=x, edge_index=edges.clone()))\n",
    "                    seq_feats.append([row['footfall_event_times'], row['accel_energy_total']])\n",
    "                label = torch.tensor([patient.iloc[start + seq_len // 2]['QoR_class']], dtype=torch.float)\n",
    "\n",
    "                self.graphs.append(seq_graphs)\n",
    "                self.temporal_feats.append(torch.tensor(seq_feats, dtype=torch.float))\n",
    "                self.labels.append(label)\n",
    "\n",
    "    def __len__(self):\n",
    "        return len(self.graphs)\n",
    "\n",
    "    def __getitem__(self, i):\n",
    "        return self.graphs[i], self.temporal_feats[i], self.labels[i]\n",
    "\n",
    "\n",
    "def temporal_collate(batch):\n",
    "    graphs, feats, labels = zip(*batch)\n",
    "    return list(graphs), torch.stack(feats), torch.tensor(labels, dtype=torch.float)\n",
    "\n",
    "\n",
    "class HybridGCNGRU(nn.Module):\n",
    "    def __init__(self, gcn_hidden=64, gru_hidden=128, dropout=0.3):\n",
    "        super().__init__()\n",
    "        self.gcn1 = GCNConv(3, gcn_hidden)\n",
    "        self.gcn2 = GCNConv(gcn_hidden, gcn_hidden)\n",
    "        self.graph_gru = nn.GRU(gcn_hidden, gru_hidden, batch_first=True)\n",
    "        self.feat_gru = nn.GRU(2, gru_hidden, batch_first=True)\n",
    "        self.fc = nn.Linear(gru_hidden * 2, 1)\n",
    "        self.dropout = dropout\n",
    "\n",
    "    def forward(self, graph_seq, feat_seq):\n",
    "        device = next(self.parameters()).device\n",
    "        batch_embeddings = []\n",
    "        for g_seq in graph_seq:\n",
    "            seq_embed = []\n",
    "            for g in g_seq:\n",
    "                g = g.to(device)\n",
    "                x = F.relu(self.gcn1(g.x, g.edge_index))\n",
    "                x = F.dropout(x, self.dropout, self.training)\n",
    "                x = F.relu(self.gcn2(x, g.edge_index))\n",
    "                pooled = global_mean_pool(x, torch.zeros(x.size(0), dtype=torch.long).to(device)).squeeze(0)\n",
    "                seq_embed.append(pooled)\n",
    "            batch_embeddings.append(torch.stack(seq_embed))\n",
    "\n",
    "        graph_input = torch.stack(batch_embeddings).to(device)  # [B, T, gcn_hidden]\n",
    "        feat_input = feat_seq.to(device)  # [B, T, 2]\n",
    "\n",
    "        graph_input = graph_input.contiguous()\n",
    "        feat_input = feat_input.contiguous()\n",
    "\n",
    "        _, h_g = self.graph_gru(graph_input)\n",
    "        _, h_f = self.feat_gru(feat_input)\n",
    "        concat = torch.cat([h_g[-1], h_f[-1]], dim=-1)\n",
    "        return self.fc(concat).squeeze()\n",
    "\n",
    "\n",
    "\n",
    "def train_epoch(model, loader, opt, criterion):\n",
    "    model.train()\n",
    "    total_loss = 0\n",
    "    for graphs, feats, labels in tqdm(loader, desc=\"Train\", leave=False):\n",
    "        opt.zero_grad()\n",
    "        preds = model(graphs, feats)\n",
    "        loss = criterion(preds, labels.to(preds.device))\n",
    "        loss.backward()\n",
    "        opt.step()\n",
    "        total_loss += loss.item() * len(labels)\n",
    "    return total_loss / len(loader.dataset)\n",
    "\n",
    "\n",
    "def eval_epoch(model, loader, criterion):\n",
    "    model.eval()\n",
    "    preds_all, labels_all = [], []\n",
    "    with torch.no_grad():\n",
    "        for graphs, feats, labels in loader:\n",
    "            preds = model(graphs, feats)\n",
    "            preds_all.extend(torch.sigmoid(preds).view(-1).cpu().numpy())  # <- fixed line\n",
    "            labels_all.extend(labels.view(-1).numpy())\n",
    "    bin_preds = [1 if p > 0.5 else 0 for p in preds_all]\n",
    "    acc = accuracy_score(labels_all, bin_preds)\n",
    "    prec = precision_score(labels_all, bin_preds, zero_division=0)\n",
    "    rec = recall_score(labels_all, bin_preds)\n",
    "    f1 = f1_score(labels_all, bin_preds)\n",
    "    return acc, prec, rec, f1\n",
    "\n",
    "\n",
    "\n",
    "def run_tuning():\n",
    "    param_grid = {\n",
    "        'seq_len': [2,4, 32, 64],\n",
    "        'batch_size': [4,8],\n",
    "        'gcn_hidden': [64,128],\n",
    "        'gru_hidden': [128,256],\n",
    "        'dropout': [0.3, 0.5]\n",
    "    }\n",
    "    device = torch.device('cuda' if torch.cuda.is_available() else 'cpu')\n",
    "    with open(\"tuning_log.txt\", \"w\") as log:\n",
    "        log.write(\"Hyperparameter Tuning\\n\" + \"=\"*50 + \"\\n\")\n",
    "\n",
    "    for params in itertools.product(*param_grid.values()):\n",
    "        p = dict(zip(param_grid.keys(), params))\n",
    "        train_ds = KinectTemporalGraphDataset(train_df, seq_len=p['seq_len'])\n",
    "        val_ds = KinectTemporalGraphDataset(val_df, seq_len=p['seq_len'])\n",
    "        test_ds = KinectTemporalGraphDataset(test_df, seq_len=p['seq_len'])\n",
    "        train_dl = DataLoader(train_ds, batch_size=p['batch_size'], shuffle=True, collate_fn=temporal_collate)\n",
    "        val_dl = DataLoader(val_ds, batch_size=p['batch_size'], shuffle=False, collate_fn=temporal_collate)\n",
    "        test_dl = DataLoader(test_ds, batch_size=p['batch_size'], shuffle=False, collate_fn=temporal_collate)\n",
    "\n",
    "        model = HybridGCNGRU(**{k: p[k] for k in ['gcn_hidden', 'gru_hidden', 'dropout']}).to(device)\n",
    "        opt = torch.optim.Adam(model.parameters(), lr=1e-3)\n",
    "        labels = [l.item() for _, _, l in train_ds]\n",
    "        weight = compute_class_weight('balanced', classes=np.array([0., 1.]), y=labels)\n",
    "        criterion = nn.BCEWithLogitsLoss(pos_weight=torch.tensor([weight[1]], dtype=torch.float).to(device))\n",
    "\n",
    "        best_f1, patience = 0, 0\n",
    "        for epoch in range(30):\n",
    "            train_epoch(model, train_dl, opt, criterion)\n",
    "            acc, prec, rec, f1 = eval_epoch(model, val_dl, criterion)\n",
    "            if f1 > best_f1:\n",
    "                best_f1 = f1\n",
    "                patience = 0\n",
    "                torch.save(model.state_dict(), \"best_model.pt\")\n",
    "            else:\n",
    "                patience += 1\n",
    "                if patience > 10: break\n",
    "\n",
    "        model.load_state_dict(torch.load(\"best_model.pt\"))\n",
    "        acc, prec, rec, f1 = eval_epoch(model, test_dl, criterion)\n",
    "        with open(\"tuning_log.txt\", \"a\") as log:\n",
    "            log.write(f\"Params: {p}\\nACC: {acc:.4f} PREC: {prec:.4f} REC: {rec:.4f} F1: {f1:.4f}\\n{'-'*40}\\n\")\n",
    "\n",
    "if __name__ == '__main__':\n",
    "    run_tuning()\n"
   ]
  },
  {
   "cell_type": "markdown",
   "id": "7cf28de8",
   "metadata": {},
   "source": [
    "# Bidirectional LSTM (BiLSTM)"
   ]
  },
  {
   "cell_type": "code",
   "execution_count": null,
   "id": "d0125509",
   "metadata": {},
   "outputs": [],
   "source": [
    "# hybrid_qor_train.py\n",
    "import pandas as pd\n",
    "import numpy as np\n",
    "import torch\n",
    "import torch.nn as nn\n",
    "import torch.nn.functional as F\n",
    "from torch.utils.data import DataLoader\n",
    "from torch_geometric.data import Data\n",
    "from torch_geometric.nn import GCNConv, global_mean_pool\n",
    "from sklearn.utils.class_weight import compute_class_weight\n",
    "from sklearn.model_selection import train_test_split\n",
    "from sklearn.metrics import accuracy_score, precision_score, recall_score, f1_score\n",
    "from tqdm import tqdm\n",
    "import os\n",
    "import itertools\n",
    "import plotly.graph_objs as go\n",
    "\n",
    "# 1. Load and Clean Data\n",
    "csv_path = r\"D:\\Data\\NYC\\KINZ\\KINECT_ACC_dataset_with_qor15_2025-05-27_14-29PM.csv\"\n",
    "df = pd.read_csv(csv_path, low_memory=False)\n",
    "joint_cols = [col for col in df.columns if any(j in col for j in ['_X', '_Y', '_Z'])]\n",
    "df = df.dropna(subset=joint_cols + ['QoR_class', 'footfall_event_times', 'accel_energy_total'])\n",
    "\n",
    "# 2. Patient-wise Split\n",
    "patient_map = df.groupby('patientID')['QoR_class'].first()\n",
    "class_0 = patient_map[patient_map == 0.0].index.tolist()\n",
    "class_1 = patient_map[patient_map == 1.0].index.tolist()\n",
    "\n",
    "def split(patients):\n",
    "    train, temp = train_test_split(patients, test_size=0.3, random_state=42)\n",
    "    val, test = train_test_split(temp, test_size=0.5, random_state=42)\n",
    "    return train, val, test\n",
    "\n",
    "train_0, val_0, test_0 = split(class_0)\n",
    "train_1, val_1, test_1 = split(class_1)\n",
    "train_ids = train_0 + train_1\n",
    "val_ids = val_0 + val_1\n",
    "test_ids = test_0 + test_1\n",
    "\n",
    "train_df = df[df['patientID'].isin(train_ids)]\n",
    "val_df = df[df['patientID'].isin(val_ids)]\n",
    "test_df = df[df['patientID'].isin(test_ids)]\n",
    "\n",
    "# === Fixed Joint Order ===\n",
    "joints = [\n",
    "    'FOOT_RIGHT', 'FOOT_LEFT', 'ANKLE_RIGHT', 'ANKLE_LEFT', 'KNEE_RIGHT', 'KNEE_LEFT',\n",
    "    'HIP_RIGHT', 'HIP_LEFT', 'PELVIS', 'SPINE_NAVAL', 'SPINE_CHEST',\n",
    "    'CLAVICLE_RIGHT', 'CLAVICLE_LEFT', 'SHOULDER_RIGHT', 'SHOULDER_LEFT',\n",
    "    'ELBOW_RIGHT', 'ELBOW_LEFT', 'WRIST_RIGHT', 'WRIST_LEFT', 'HAND_RIGHT',\n",
    "    'HAND_LEFT', 'HANDTIP_RIGHT', 'HANDTIP_LEFT', 'THUMB_RIGHT', 'THUMB_LEFT',\n",
    "    'NECK', 'HEAD', 'NOSE', 'EYE_LEFT', 'EAR_LEFT', 'EYE_RIGHT', 'EAR_RIGHT'\n",
    "]\n",
    "\n",
    "# === Matching Edge List ===\n",
    "edges = torch.tensor([\n",
    "    [0, 2], [1, 3], [2, 4], [3, 5], [4, 6], [5, 7], [6, 8], [7, 8], [8, 9],\n",
    "    [9, 10], [10, 11], [10, 12], [11, 13], [12, 14], [13, 15], [14, 16],\n",
    "    [15, 17], [16, 18], [17, 19], [18, 20], [19, 21], [20, 22], [17, 23],\n",
    "    [18, 24], [10, 25], [25, 26], [26, 27], [26, 28], [26, 29], [26, 30], [26, 31]\n",
    "]).t().contiguous()\n",
    "\n",
    "class KinectTemporalGraphDataset(torch.utils.data.Dataset):\n",
    "    def __init__(self, df, seq_len=16, stride=1):\n",
    "        self.graphs = []\n",
    "        self.temporal_feats = []\n",
    "        self.labels = []\n",
    "\n",
    "        for _, patient in tqdm(df.groupby('patientID'), desc=\"Creating graph dataset\"):\n",
    "            patient = patient.sort_values('t_uniform').reset_index(drop=True)\n",
    "            for start in range(0, len(patient) - seq_len + 1, stride):\n",
    "                seq_graphs = []\n",
    "                seq_feats = []\n",
    "                for i in range(seq_len):\n",
    "                    row = patient.iloc[start + i]\n",
    "                    coords = torch.tensor(\n",
    "                        [[row[f\"{j}_X\"], row[f\"{j}_Y\"], row[f\"{j}_Z\"]] for j in joints],\n",
    "                        dtype=torch.float\n",
    "                    )\n",
    "\n",
    "                    # === Normalize: center to PELVIS ===\n",
    "                    root = coords[joints.index('PELVIS')].clone()\n",
    "                    coords = coords - root\n",
    "\n",
    "                    # === Normalize: scale to average distance from root ===\n",
    "                    scale = coords.norm(dim=1).mean().clamp(min=1e-5)\n",
    "                    coords = coords / scale\n",
    "\n",
    "                    x = coords\n",
    "                    seq_graphs.append(Data(x=x, edge_index=edges.clone()))\n",
    "                    seq_feats.append([row['footfall_event_times'], row['accel_energy_total']])\n",
    "                label = torch.tensor([patient.iloc[start + seq_len // 2]['QoR_class']], dtype=torch.float)\n",
    "\n",
    "                self.graphs.append(seq_graphs)\n",
    "                self.temporal_feats.append(torch.tensor(seq_feats, dtype=torch.float))\n",
    "                self.labels.append(label)\n",
    "\n",
    "    def __len__(self):\n",
    "        return len(self.graphs)\n",
    "\n",
    "    def __getitem__(self, i):\n",
    "        return self.graphs[i], self.temporal_feats[i], self.labels[i]\n",
    "\n",
    "def temporal_collate(batch):\n",
    "    graphs, feats, labels = zip(*batch)\n",
    "    return list(graphs), torch.stack(feats), torch.tensor(labels, dtype=torch.float)\n",
    "\n",
    "class HybridGCNBiLSTM(nn.Module):\n",
    "    def __init__(self, gcn_hidden=64, lstm_hidden=128, dropout=0.3):\n",
    "        super().__init__()\n",
    "        self.gcn1 = GCNConv(3, gcn_hidden)\n",
    "        self.gcn2 = GCNConv(gcn_hidden, gcn_hidden)\n",
    "        self.graph_lstm = nn.LSTM(gcn_hidden, lstm_hidden, batch_first=True, bidirectional=True)\n",
    "        self.feat_lstm = nn.LSTM(2, lstm_hidden, batch_first=True, bidirectional=True)\n",
    "        self.fc = nn.Linear(lstm_hidden * 4, 1)\n",
    "        self.dropout = dropout\n",
    "\n",
    "    def forward(self, graph_seq, feat_seq):\n",
    "        device = next(self.parameters()).device\n",
    "        batch_embeddings = []\n",
    "        for g_seq in graph_seq:\n",
    "            seq_embed = []\n",
    "            for g in g_seq:\n",
    "                g = g.to(device)\n",
    "                x = F.relu(self.gcn1(g.x, g.edge_index))\n",
    "                x = F.dropout(x, self.dropout, self.training)\n",
    "                x = F.relu(self.gcn2(x, g.edge_index))\n",
    "                pooled = global_mean_pool(x, torch.zeros(x.size(0), dtype=torch.long).to(device)).squeeze(0)\n",
    "                seq_embed.append(pooled)\n",
    "            batch_embeddings.append(torch.stack(seq_embed))\n",
    "\n",
    "        graph_input = torch.stack(batch_embeddings).to(device)  # [B, T, gcn_hidden]\n",
    "        feat_input = feat_seq.to(device)  # [B, T, 2]\n",
    "\n",
    "        graph_input = graph_input.contiguous()\n",
    "        feat_input = feat_input.contiguous()\n",
    "\n",
    "        _, (h_g, _) = self.graph_lstm(graph_input)\n",
    "        _, (h_f, _) = self.feat_lstm(feat_input)\n",
    "\n",
    "        concat = torch.cat([h_g[-2], h_g[-1], h_f[-2], h_f[-1]], dim=-1)  # BiLSTM last hidden states\n",
    "        return self.fc(concat).squeeze()\n",
    "\n",
    "\n",
    "def train_epoch(model, loader, opt, criterion):\n",
    "    model.train()\n",
    "    total_loss = 0\n",
    "    for graphs, feats, labels in tqdm(loader, desc=\"Train\", leave=False):\n",
    "        opt.zero_grad()\n",
    "        preds = model(graphs, feats)\n",
    "        loss = criterion(preds, labels.to(preds.device))\n",
    "        loss.backward()\n",
    "        opt.step()\n",
    "        total_loss += loss.item() * len(labels)\n",
    "    return total_loss / len(loader.dataset)\n",
    "\n",
    "\n",
    "def eval_epoch(model, loader, criterion):\n",
    "    model.eval()\n",
    "    preds_all, labels_all = [], []\n",
    "    with torch.no_grad():\n",
    "        for graphs, feats, labels in loader:\n",
    "            preds = model(graphs, feats)\n",
    "            preds_all.extend(torch.sigmoid(preds).view(-1).cpu().numpy())  # <- fixed line\n",
    "            labels_all.extend(labels.view(-1).numpy())\n",
    "    bin_preds = [1 if p > 0.5 else 0 for p in preds_all]\n",
    "    acc = accuracy_score(labels_all, bin_preds)\n",
    "    prec = precision_score(labels_all, bin_preds, zero_division=0)\n",
    "    rec = recall_score(labels_all, bin_preds)\n",
    "    f1 = f1_score(labels_all, bin_preds)\n",
    "    return acc, prec, rec, f1\n",
    "\n",
    "\n",
    "\n",
    "def run_tuning():\n",
    "    param_grid = {\n",
    "        'seq_len': [2,4, 32, 64],\n",
    "        'batch_size': [4,8],\n",
    "        'gcn_hidden': [64,128],\n",
    "        'gru_hidden': [128,256],\n",
    "        'dropout': [0.3, 0.5]\n",
    "    }\n",
    "    device = torch.device('cuda' if torch.cuda.is_available() else 'cpu')\n",
    "    with open(\"tuning_log.txt\", \"w\") as log:\n",
    "        log.write(\"Hyperparameter Tuning\\n\" + \"=\"*50 + \"\\n\")\n",
    "\n",
    "    for params in itertools.product(*param_grid.values()):\n",
    "        p = dict(zip(param_grid.keys(), params))\n",
    "        train_ds = KinectTemporalGraphDataset(train_df, seq_len=p['seq_len'])\n",
    "        val_ds = KinectTemporalGraphDataset(val_df, seq_len=p['seq_len'])\n",
    "        test_ds = KinectTemporalGraphDataset(test_df, seq_len=p['seq_len'])\n",
    "        train_dl = DataLoader(train_ds, batch_size=p['batch_size'], shuffle=True, collate_fn=temporal_collate)\n",
    "        val_dl = DataLoader(val_ds, batch_size=p['batch_size'], shuffle=False, collate_fn=temporal_collate)\n",
    "        test_dl = DataLoader(test_ds, batch_size=p['batch_size'], shuffle=False, collate_fn=temporal_collate)\n",
    "\n",
    "        model = HybridGCNGRU(**{k: p[k] for k in ['gcn_hidden', 'gru_hidden', 'dropout']}).to(device)\n",
    "        opt = torch.optim.Adam(model.parameters(), lr=1e-3)\n",
    "        labels = [l.item() for _, _, l in train_ds]\n",
    "        weight = compute_class_weight('balanced', classes=np.array([0., 1.]), y=labels)\n",
    "        criterion = nn.BCEWithLogitsLoss(pos_weight=torch.tensor([weight[1]], dtype=torch.float).to(device))\n",
    "\n",
    "        best_f1, patience = 0, 0\n",
    "        for epoch in range(30):\n",
    "            train_epoch(model, train_dl, opt, criterion)\n",
    "            acc, prec, rec, f1 = eval_epoch(model, val_dl, criterion)\n",
    "            if f1 > best_f1:\n",
    "                best_f1 = f1\n",
    "                patience = 0\n",
    "                torch.save(model.state_dict(), \"best_model.pt\")\n",
    "            else:\n",
    "                patience += 1\n",
    "                if patience > 10: break\n",
    "\n",
    "        model.load_state_dict(torch.load(\"best_model.pt\"))\n",
    "        acc, prec, rec, f1 = eval_epoch(model, test_dl, criterion)\n",
    "        with open(\"tuning_log.txt\", \"a\") as log:\n",
    "            log.write(f\"Params: {p}\\nACC: {acc:.4f} PREC: {prec:.4f} REC: {rec:.4f} F1: {f1:.4f}\\n{'-'*40}\\n\")\n",
    "\n",
    "if __name__ == '__main__':\n",
    "    run_tuning()\n"
   ]
  }
 ],
 "metadata": {
  "kernelspec": {
   "display_name": "torch_on",
   "language": "python",
   "name": "python3"
  },
  "language_info": {
   "codemirror_mode": {
    "name": "ipython",
    "version": 3
   },
   "file_extension": ".py",
   "mimetype": "text/x-python",
   "name": "python",
   "nbconvert_exporter": "python",
   "pygments_lexer": "ipython3",
   "version": "3.9.21"
  }
 },
 "nbformat": 4,
 "nbformat_minor": 5
}
