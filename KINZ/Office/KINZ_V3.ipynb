{
 "cells": [
  {
   "cell_type": "code",
   "execution_count": 4,
   "id": "1d01c712",
   "metadata": {},
   "outputs": [],
   "source": [
    "path = \"C:/Users/RAZER/Desktop/TEMp/New folder/KINECT_dataset_with_qor15.csv\""
   ]
  },
  {
   "cell_type": "code",
   "execution_count": 1,
   "id": "62ca49d4",
   "metadata": {},
   "outputs": [],
   "source": [
    "path = r\"D:\\Data\\NYC\\KINZ\\KINECT_dataset_with_qor15.csv\""
   ]
  },
  {
   "cell_type": "code",
   "execution_count": 2,
   "id": "d40f01ca",
   "metadata": {},
   "outputs": [
    {
     "data": {
      "text/plain": [
       "(array(['Fast', 'Regular'], dtype=object), (42172, 113), 76)"
      ]
     },
     "execution_count": 2,
     "metadata": {},
     "output_type": "execute_result"
    }
   ],
   "source": [
    "# Re-import libraries and reload the dataset after code execution state reset\n",
    "import pandas as pd\n",
    "\n",
    "# Reload the dataset\n",
    "file_path = r\"D:\\Data\\NYC\\KINZ\\KINECT_dataset_with_qor15.csv\"\n",
    "df = pd.read_csv(file_path)\n",
    "\n",
    "# Step 1: Filter data by a single walking speed\n",
    "# Check unique walking speeds\n",
    "unique_speeds = df['walking_speed'].unique()\n",
    "\n",
    "# Assume we want to use 'Fast' walking speed\n",
    "filtered_df = df[df['walking_speed'] == 'Fast'].copy()\n",
    "\n",
    "# Get number of unique patients in this filtered set\n",
    "unique_patients = filtered_df['patient_id'].nunique()\n",
    "\n",
    "# Group by patient to prepare for next step\n",
    "grouped_by_patient = filtered_df.groupby('patient_id')\n",
    "\n",
    "unique_speeds, filtered_df.shape, unique_patients\n"
   ]
  },
  {
   "cell_type": "code",
   "execution_count": 8,
   "id": "181580f0",
   "metadata": {},
   "outputs": [
    {
     "data": {
      "application/vnd.plotly.v1+json": {
       "config": {
        "plotlyServerURL": "https://plot.ly"
       },
       "data": [
        {
         "hoverinfo": "none",
         "line": {
          "color": "gray",
          "width": 4
         },
         "mode": "lines",
         "type": "scatter3d",
         "x": [
          0,
          -382.9826133983633
         ],
         "y": [
          0,
          -7263.070367328313
         ],
         "z": [
          0,
          6849.97728086331
         ]
        },
        {
         "hoverinfo": "none",
         "line": {
          "color": "gray",
          "width": 4
         },
         "mode": "lines",
         "type": "scatter3d",
         "x": [
          -382.9826133983633,
          7286.030307224484
         ],
         "y": [
          -7263.070367328313,
          -8100.648371548754
         ],
         "z": [
          6849.97728086331,
          -488.4256109582617
         ]
        },
        {
         "hoverinfo": "none",
         "line": {
          "color": "gray",
          "width": 4
         },
         "mode": "lines",
         "type": "scatter3d",
         "x": [
          7286.030307224484,
          3.9514603653892166
         ],
         "y": [
          -8100.648371548754,
          20.067918982590527
         ],
         "z": [
          -488.4256109582617,
          -794.9933073510997
         ]
        },
        {
         "hoverinfo": "none",
         "line": {
          "color": "gray",
          "width": 4
         },
         "mode": "lines",
         "type": "scatter3d",
         "x": [
          3.9514603653892166,
          7249.271050652712
         ],
         "y": [
          20.067918982590527,
          -7253.689860250121
         ],
         "z": [
          -794.9933073510997,
          -475.22115764378276
         ]
        },
        {
         "hoverinfo": "none",
         "line": {
          "color": "gray",
          "width": 4
         },
         "mode": "lines",
         "type": "scatter3d",
         "x": [
          7286.030307224484,
          -550.8775100097585
         ],
         "y": [
          -8100.648371548754,
          -7378.03400401116
         ],
         "z": [
          -488.4256109582617,
          6873.123812031616
         ]
        },
        {
         "hoverinfo": "none",
         "line": {
          "color": "gray",
          "width": 4
         },
         "mode": "lines",
         "type": "scatter3d",
         "x": [
          -550.8775100097585,
          7264.909352652288
         ],
         "y": [
          -7378.03400401116,
          -8054.5933508957305
         ],
         "z": [
          6873.123812031616,
          -536.9846802119005
         ]
        },
        {
         "hoverinfo": "none",
         "line": {
          "color": "gray",
          "width": 4
         },
         "mode": "lines",
         "type": "scatter3d",
         "x": [
          7264.909352652288,
          7.034187621476072
         ],
         "y": [
          -8054.5933508957305,
          35.16656848146886
         ],
         "z": [
          -536.9846802119005,
          -427.65422685019985
         ]
        },
        {
         "hoverinfo": "none",
         "line": {
          "color": "gray",
          "width": 4
         },
         "mode": "lines",
         "type": "scatter3d",
         "x": [
          7.034187621476072,
          -685.4462458442371
         ],
         "y": [
          35.16656848146886,
          -7498.256059237415
         ],
         "z": [
          -427.65422685019985,
          6792.383920204547
         ]
        },
        {
         "hoverinfo": "none",
         "line": {
          "color": "gray",
          "width": 4
         },
         "mode": "lines",
         "type": "scatter3d",
         "x": [
          -685.4462458442371,
          7251.018258998935
         ],
         "y": [
          -7498.256059237415,
          -7839.60692006118
         ],
         "z": [
          6792.383920204547,
          -437.54079669666385
         ]
        },
        {
         "hoverinfo": "none",
         "line": {
          "color": "gray",
          "width": 4
         },
         "mode": "lines",
         "type": "scatter3d",
         "x": [
          7251.018258998935,
          11.600718539750208
         ],
         "y": [
          -7839.60692006118,
          137.7158207101802
         ],
         "z": [
          -437.54079669666385,
          -89.49397598145038
         ]
        },
        {
         "hoverinfo": "none",
         "line": {
          "color": "gray",
          "width": 4
         },
         "mode": "lines",
         "type": "scatter3d",
         "x": [
          -685.4462458442371,
          -891.3194190403383
         ],
         "y": [
          -7498.256059237415,
          -7580.188993965025
         ],
         "z": [
          6792.383920204547,
          6893.277007260304
         ]
        },
        {
         "hoverinfo": "none",
         "line": {
          "color": "gray",
          "width": 4
         },
         "mode": "lines",
         "type": "scatter3d",
         "x": [
          7286.030307224484,
          7255.648884125792
         ],
         "y": [
          -8100.648371548754,
          -7641.491048864595
         ],
         "z": [
          -488.4256109582617,
          -445.5933654149116
         ]
        },
        {
         "hoverinfo": "none",
         "line": {
          "color": "gray",
          "width": 4
         },
         "mode": "lines",
         "type": "scatter3d",
         "x": [
          7255.648884125792,
          42.18547779960667
         ],
         "y": [
          -7641.491048864595,
          77.44945551729597
         ],
         "z": [
          -445.5933654149116,
          18.863785374632357
         ]
        },
        {
         "hoverinfo": "none",
         "line": {
          "color": "gray",
          "width": 4
         },
         "mode": "lines",
         "type": "scatter3d",
         "x": [
          42.18547779960667,
          -857.0395588222568
         ],
         "y": [
          77.44945551729597,
          -7636.185511639154
         ],
         "z": [
          18.863785374632357,
          6771.315619212619
         ]
        },
        {
         "hoverinfo": "none",
         "line": {
          "color": "gray",
          "width": 4
         },
         "mode": "lines",
         "type": "scatter3d",
         "x": [
          -857.0395588222568,
          7248.474752527182
         ],
         "y": [
          -7636.185511639154,
          -7605.454935230547
         ],
         "z": [
          6771.315619212619,
          -400.114846153347
         ]
        },
        {
         "hoverinfo": "none",
         "line": {
          "color": "gray",
          "width": 4
         },
         "mode": "lines",
         "type": "scatter3d",
         "x": [
          7248.474752527182,
          162.06139227940014
         ],
         "y": [
          -7605.454935230547,
          6.274873287447008
         ],
         "z": [
          -400.114846153347,
          -1378.5519859578576
         ]
        },
        {
         "hoverinfo": "none",
         "line": {
          "color": "gray",
          "width": 4
         },
         "mode": "lines",
         "type": "scatter3d",
         "x": [
          162.06139227940014,
          -802.0991264302088
         ],
         "y": [
          6.274873287447008,
          -7632.854724285026
         ],
         "z": [
          -1378.5519859578576,
          6834.5157658746775
         ]
        },
        {
         "hoverinfo": "none",
         "line": {
          "color": "gray",
          "width": 4
         },
         "mode": "lines",
         "type": "scatter3d",
         "x": [
          7248.474752527182,
          7217.042271698854
         ],
         "y": [
          -7605.454935230547,
          -7539.71710109577
         ],
         "z": [
          -400.114846153347,
          -454.6245928272637
         ]
        },
        {
         "hoverinfo": "none",
         "line": {
          "color": "gray",
          "width": 4
         },
         "mode": "lines",
         "type": "scatter3d",
         "x": [
          0,
          215.13645817519958
         ],
         "y": [
          0,
          -70.01462306409576
         ],
         "z": [
          0,
          -1412.5180697228877
         ]
        },
        {
         "hoverinfo": "none",
         "line": {
          "color": "gray",
          "width": 4
         },
         "mode": "lines",
         "type": "scatter3d",
         "x": [
          215.13645817519958,
          -547.3721561038976
         ],
         "y": [
          -70.01462306409576,
          -7590.3926981975565
         ],
         "z": [
          -1412.5180697228877,
          6696.517783314612
         ]
        },
        {
         "hoverinfo": "none",
         "line": {
          "color": "gray",
          "width": 4
         },
         "mode": "lines",
         "type": "scatter3d",
         "x": [
          -547.3721561038976,
          7248.541991118693
         ],
         "y": [
          -7590.3926981975565,
          -7578.165204880045
         ],
         "z": [
          6696.517783314612,
          -429.13911326384687
         ]
        },
        {
         "hoverinfo": "none",
         "line": {
          "color": "gray",
          "width": 4
         },
         "mode": "lines",
         "type": "scatter3d",
         "x": [
          7248.541991118693,
          185.02862874347727
         ],
         "y": [
          -7578.165204880045,
          -32.735931285033985
         ],
         "z": [
          -429.13911326384687,
          -1450.9862383650332
         ]
        },
        {
         "hoverinfo": "none",
         "line": {
          "color": "gray",
          "width": 4
         },
         "mode": "lines",
         "type": "scatter3d",
         "x": [
          0,
          -333.9721329850584
         ],
         "y": [
          0,
          -7156.698296471803
         ],
         "z": [
          0,
          6722.6423314802905
         ]
        },
        {
         "hoverinfo": "none",
         "line": {
          "color": "gray",
          "width": 4
         },
         "mode": "lines",
         "type": "scatter3d",
         "x": [
          -333.9721329850584,
          7204.557358250228
         ],
         "y": [
          -7156.698296471803,
          -7624.422179019413
         ],
         "z": [
          6722.6423314802905,
          -343.1533874820797
         ]
        },
        {
         "hoverinfo": "none",
         "line": {
          "color": "gray",
          "width": 4
         },
         "mode": "lines",
         "type": "scatter3d",
         "x": [
          7204.557358250228,
          153.25413751035745
         ],
         "y": [
          -7624.422179019413,
          45.58404443736708
         ],
         "z": [
          -343.1533874820797,
          -1454.8508660075543
         ]
        },
        {
         "hoverinfo": "none",
         "line": {
          "color": "gray",
          "width": 4
         },
         "mode": "lines",
         "type": "scatter3d",
         "x": [
          153.25413751035745,
          -260.9872232312049
         ],
         "y": [
          45.58404443736708,
          -7232.448550052081
         ],
         "z": [
          -1454.8508660075543,
          6806.564122861627
         ]
        },
        {
         "hoverinfo": "none",
         "line": {
          "color": "gray",
          "width": 4
         },
         "mode": "lines",
         "type": "scatter3d",
         "x": [
          7249.271050652712,
          97.66278094720745
         ],
         "y": [
          -7253.689860250121,
          13.287909856360784
         ],
         "z": [
          -475.22115764378276,
          -1436.5782186407284
         ]
        },
        {
         "hoverinfo": "none",
         "line": {
          "color": "gray",
          "width": 4
         },
         "mode": "lines",
         "type": "scatter3d",
         "x": [
          7249.271050652712,
          -332.59849245286824
         ],
         "y": [
          -7253.689860250121,
          -7165.559295414352
         ],
         "z": [
          -475.22115764378276,
          6733.864677887524
         ]
        },
        {
         "hoverinfo": "none",
         "line": {
          "color": "gray",
          "width": 4
         },
         "mode": "lines",
         "type": "scatter3d",
         "x": [
          7249.271050652712,
          121.64582005185778
         ],
         "y": [
          -7253.689860250121,
          158.81171291560986
         ],
         "z": [
          -475.22115764378276,
          -1420.467946350799
         ]
        },
        {
         "hoverinfo": "none",
         "line": {
          "color": "gray",
          "width": 4
         },
         "mode": "lines",
         "type": "scatter3d",
         "x": [
          7249.271050652712,
          7201.687256492041
         ],
         "y": [
          -7253.689860250121,
          -6928.207767389156
         ],
         "z": [
          -475.22115764378276,
          -488.4099205863527
         ]
        },
        {
         "hoverinfo": "none",
         "line": {
          "color": "gray",
          "width": 4
         },
         "mode": "lines",
         "type": "scatter3d",
         "x": [
          7249.271050652712,
          -222.7530012812801
         ],
         "y": [
          -7253.689860250121,
          -7116.627618764706
         ],
         "z": [
          -475.22115764378276,
          6856.114546939924
         ]
        },
        {
         "marker": {
          "color": "red",
          "size": 5
         },
         "mode": "markers+text",
         "text": [
          "PELVIS",
          "SPINE_NAVAL",
          "SPINE_CHEST",
          "NECK",
          "CLAVICLE_LEFT",
          "SHOULDER_LEFT",
          "ELBOW_LEFT",
          "WRIST_LEFT",
          "HAND_LEFT",
          "HANDTIP_LEFT",
          "THUMB_LEFT",
          "CLAVICLE_RIGHT",
          "SHOULDER_RIGHT",
          "ELBOW_RIGHT",
          "WRIST_RIGHT",
          "HAND_RIGHT",
          "HANDTIP_RIGHT",
          "THUMB_RIGHT",
          "HIP_LEFT",
          "KNEE_LEFT",
          "ANKLE_LEFT",
          "FOOT_LEFT",
          "HIP_RIGHT",
          "KNEE_RIGHT",
          "ANKLE_RIGHT",
          "FOOT_RIGHT",
          "HEAD",
          "NOSE",
          "EYE_LEFT",
          "EAR_LEFT",
          "EYE_RIGHT",
          "EAR_RIGHT"
         ],
         "textposition": "top center",
         "type": "scatter3d",
         "x": [
          0,
          -382.9826133983633,
          7286.030307224484,
          3.9514603653892166,
          -550.8775100097585,
          7264.909352652288,
          7.034187621476072,
          -685.4462458442371,
          7251.018258998935,
          11.600718539750208,
          -891.3194190403383,
          7255.648884125792,
          42.18547779960667,
          -857.0395588222568,
          7248.474752527182,
          162.06139227940014,
          -802.0991264302088,
          7217.042271698854,
          215.13645817519958,
          -547.3721561038976,
          7248.541991118693,
          185.02862874347727,
          -333.9721329850584,
          7204.557358250228,
          153.25413751035745,
          -260.9872232312049,
          7249.271050652712,
          97.66278094720745,
          -332.59849245286824,
          7201.687256492041,
          121.64582005185778,
          -222.7530012812801
         ],
         "y": [
          0,
          -7263.070367328313,
          -8100.648371548754,
          20.067918982590527,
          -7378.03400401116,
          -8054.5933508957305,
          35.16656848146886,
          -7498.256059237415,
          -7839.60692006118,
          137.7158207101802,
          -7580.188993965025,
          -7641.491048864595,
          77.44945551729597,
          -7636.185511639154,
          -7605.454935230547,
          6.274873287447008,
          -7632.854724285026,
          -7539.71710109577,
          -70.01462306409576,
          -7590.3926981975565,
          -7578.165204880045,
          -32.735931285033985,
          -7156.698296471803,
          -7624.422179019413,
          45.58404443736708,
          -7232.448550052081,
          -7253.689860250121,
          13.287909856360784,
          -7165.559295414352,
          -6928.207767389156,
          158.81171291560986,
          -7116.627618764706
         ],
         "z": [
          0,
          6849.97728086331,
          -488.4256109582617,
          -794.9933073510997,
          6873.123812031616,
          -536.9846802119005,
          -427.65422685019985,
          6792.383920204547,
          -437.54079669666385,
          -89.49397598145038,
          6893.277007260304,
          -445.5933654149116,
          18.863785374632357,
          6771.315619212619,
          -400.114846153347,
          -1378.5519859578576,
          6834.5157658746775,
          -454.6245928272637,
          -1412.5180697228877,
          6696.517783314612,
          -429.13911326384687,
          -1450.9862383650332,
          6722.6423314802905,
          -343.1533874820797,
          -1454.8508660075543,
          6806.564122861627,
          -475.22115764378276,
          -1436.5782186407284,
          6733.864677887524,
          -488.4099205863527,
          -1420.467946350799,
          6856.114546939924
         ]
        }
       ],
       "layout": {
        "scene": {
         "aspectmode": "data",
         "xaxis": {
          "title": {
           "text": "X"
          }
         },
         "yaxis": {
          "title": {
           "text": "Y"
          }
         },
         "zaxis": {
          "title": {
           "text": "Z"
          }
         }
        },
        "showlegend": false,
        "template": {
         "data": {
          "bar": [
           {
            "error_x": {
             "color": "#2a3f5f"
            },
            "error_y": {
             "color": "#2a3f5f"
            },
            "marker": {
             "line": {
              "color": "#E5ECF6",
              "width": 0.5
             },
             "pattern": {
              "fillmode": "overlay",
              "size": 10,
              "solidity": 0.2
             }
            },
            "type": "bar"
           }
          ],
          "barpolar": [
           {
            "marker": {
             "line": {
              "color": "#E5ECF6",
              "width": 0.5
             },
             "pattern": {
              "fillmode": "overlay",
              "size": 10,
              "solidity": 0.2
             }
            },
            "type": "barpolar"
           }
          ],
          "carpet": [
           {
            "aaxis": {
             "endlinecolor": "#2a3f5f",
             "gridcolor": "white",
             "linecolor": "white",
             "minorgridcolor": "white",
             "startlinecolor": "#2a3f5f"
            },
            "baxis": {
             "endlinecolor": "#2a3f5f",
             "gridcolor": "white",
             "linecolor": "white",
             "minorgridcolor": "white",
             "startlinecolor": "#2a3f5f"
            },
            "type": "carpet"
           }
          ],
          "choropleth": [
           {
            "colorbar": {
             "outlinewidth": 0,
             "ticks": ""
            },
            "type": "choropleth"
           }
          ],
          "contour": [
           {
            "colorbar": {
             "outlinewidth": 0,
             "ticks": ""
            },
            "colorscale": [
             [
              0,
              "#0d0887"
             ],
             [
              0.1111111111111111,
              "#46039f"
             ],
             [
              0.2222222222222222,
              "#7201a8"
             ],
             [
              0.3333333333333333,
              "#9c179e"
             ],
             [
              0.4444444444444444,
              "#bd3786"
             ],
             [
              0.5555555555555556,
              "#d8576b"
             ],
             [
              0.6666666666666666,
              "#ed7953"
             ],
             [
              0.7777777777777778,
              "#fb9f3a"
             ],
             [
              0.8888888888888888,
              "#fdca26"
             ],
             [
              1,
              "#f0f921"
             ]
            ],
            "type": "contour"
           }
          ],
          "contourcarpet": [
           {
            "colorbar": {
             "outlinewidth": 0,
             "ticks": ""
            },
            "type": "contourcarpet"
           }
          ],
          "heatmap": [
           {
            "colorbar": {
             "outlinewidth": 0,
             "ticks": ""
            },
            "colorscale": [
             [
              0,
              "#0d0887"
             ],
             [
              0.1111111111111111,
              "#46039f"
             ],
             [
              0.2222222222222222,
              "#7201a8"
             ],
             [
              0.3333333333333333,
              "#9c179e"
             ],
             [
              0.4444444444444444,
              "#bd3786"
             ],
             [
              0.5555555555555556,
              "#d8576b"
             ],
             [
              0.6666666666666666,
              "#ed7953"
             ],
             [
              0.7777777777777778,
              "#fb9f3a"
             ],
             [
              0.8888888888888888,
              "#fdca26"
             ],
             [
              1,
              "#f0f921"
             ]
            ],
            "type": "heatmap"
           }
          ],
          "histogram": [
           {
            "marker": {
             "pattern": {
              "fillmode": "overlay",
              "size": 10,
              "solidity": 0.2
             }
            },
            "type": "histogram"
           }
          ],
          "histogram2d": [
           {
            "colorbar": {
             "outlinewidth": 0,
             "ticks": ""
            },
            "colorscale": [
             [
              0,
              "#0d0887"
             ],
             [
              0.1111111111111111,
              "#46039f"
             ],
             [
              0.2222222222222222,
              "#7201a8"
             ],
             [
              0.3333333333333333,
              "#9c179e"
             ],
             [
              0.4444444444444444,
              "#bd3786"
             ],
             [
              0.5555555555555556,
              "#d8576b"
             ],
             [
              0.6666666666666666,
              "#ed7953"
             ],
             [
              0.7777777777777778,
              "#fb9f3a"
             ],
             [
              0.8888888888888888,
              "#fdca26"
             ],
             [
              1,
              "#f0f921"
             ]
            ],
            "type": "histogram2d"
           }
          ],
          "histogram2dcontour": [
           {
            "colorbar": {
             "outlinewidth": 0,
             "ticks": ""
            },
            "colorscale": [
             [
              0,
              "#0d0887"
             ],
             [
              0.1111111111111111,
              "#46039f"
             ],
             [
              0.2222222222222222,
              "#7201a8"
             ],
             [
              0.3333333333333333,
              "#9c179e"
             ],
             [
              0.4444444444444444,
              "#bd3786"
             ],
             [
              0.5555555555555556,
              "#d8576b"
             ],
             [
              0.6666666666666666,
              "#ed7953"
             ],
             [
              0.7777777777777778,
              "#fb9f3a"
             ],
             [
              0.8888888888888888,
              "#fdca26"
             ],
             [
              1,
              "#f0f921"
             ]
            ],
            "type": "histogram2dcontour"
           }
          ],
          "mesh3d": [
           {
            "colorbar": {
             "outlinewidth": 0,
             "ticks": ""
            },
            "type": "mesh3d"
           }
          ],
          "parcoords": [
           {
            "line": {
             "colorbar": {
              "outlinewidth": 0,
              "ticks": ""
             }
            },
            "type": "parcoords"
           }
          ],
          "pie": [
           {
            "automargin": true,
            "type": "pie"
           }
          ],
          "scatter": [
           {
            "fillpattern": {
             "fillmode": "overlay",
             "size": 10,
             "solidity": 0.2
            },
            "type": "scatter"
           }
          ],
          "scatter3d": [
           {
            "line": {
             "colorbar": {
              "outlinewidth": 0,
              "ticks": ""
             }
            },
            "marker": {
             "colorbar": {
              "outlinewidth": 0,
              "ticks": ""
             }
            },
            "type": "scatter3d"
           }
          ],
          "scattercarpet": [
           {
            "marker": {
             "colorbar": {
              "outlinewidth": 0,
              "ticks": ""
             }
            },
            "type": "scattercarpet"
           }
          ],
          "scattergeo": [
           {
            "marker": {
             "colorbar": {
              "outlinewidth": 0,
              "ticks": ""
             }
            },
            "type": "scattergeo"
           }
          ],
          "scattergl": [
           {
            "marker": {
             "colorbar": {
              "outlinewidth": 0,
              "ticks": ""
             }
            },
            "type": "scattergl"
           }
          ],
          "scattermap": [
           {
            "marker": {
             "colorbar": {
              "outlinewidth": 0,
              "ticks": ""
             }
            },
            "type": "scattermap"
           }
          ],
          "scattermapbox": [
           {
            "marker": {
             "colorbar": {
              "outlinewidth": 0,
              "ticks": ""
             }
            },
            "type": "scattermapbox"
           }
          ],
          "scatterpolar": [
           {
            "marker": {
             "colorbar": {
              "outlinewidth": 0,
              "ticks": ""
             }
            },
            "type": "scatterpolar"
           }
          ],
          "scatterpolargl": [
           {
            "marker": {
             "colorbar": {
              "outlinewidth": 0,
              "ticks": ""
             }
            },
            "type": "scatterpolargl"
           }
          ],
          "scatterternary": [
           {
            "marker": {
             "colorbar": {
              "outlinewidth": 0,
              "ticks": ""
             }
            },
            "type": "scatterternary"
           }
          ],
          "surface": [
           {
            "colorbar": {
             "outlinewidth": 0,
             "ticks": ""
            },
            "colorscale": [
             [
              0,
              "#0d0887"
             ],
             [
              0.1111111111111111,
              "#46039f"
             ],
             [
              0.2222222222222222,
              "#7201a8"
             ],
             [
              0.3333333333333333,
              "#9c179e"
             ],
             [
              0.4444444444444444,
              "#bd3786"
             ],
             [
              0.5555555555555556,
              "#d8576b"
             ],
             [
              0.6666666666666666,
              "#ed7953"
             ],
             [
              0.7777777777777778,
              "#fb9f3a"
             ],
             [
              0.8888888888888888,
              "#fdca26"
             ],
             [
              1,
              "#f0f921"
             ]
            ],
            "type": "surface"
           }
          ],
          "table": [
           {
            "cells": {
             "fill": {
              "color": "#EBF0F8"
             },
             "line": {
              "color": "white"
             }
            },
            "header": {
             "fill": {
              "color": "#C8D4E3"
             },
             "line": {
              "color": "white"
             }
            },
            "type": "table"
           }
          ]
         },
         "layout": {
          "annotationdefaults": {
           "arrowcolor": "#2a3f5f",
           "arrowhead": 0,
           "arrowwidth": 1
          },
          "autotypenumbers": "strict",
          "coloraxis": {
           "colorbar": {
            "outlinewidth": 0,
            "ticks": ""
           }
          },
          "colorscale": {
           "diverging": [
            [
             0,
             "#8e0152"
            ],
            [
             0.1,
             "#c51b7d"
            ],
            [
             0.2,
             "#de77ae"
            ],
            [
             0.3,
             "#f1b6da"
            ],
            [
             0.4,
             "#fde0ef"
            ],
            [
             0.5,
             "#f7f7f7"
            ],
            [
             0.6,
             "#e6f5d0"
            ],
            [
             0.7,
             "#b8e186"
            ],
            [
             0.8,
             "#7fbc41"
            ],
            [
             0.9,
             "#4d9221"
            ],
            [
             1,
             "#276419"
            ]
           ],
           "sequential": [
            [
             0,
             "#0d0887"
            ],
            [
             0.1111111111111111,
             "#46039f"
            ],
            [
             0.2222222222222222,
             "#7201a8"
            ],
            [
             0.3333333333333333,
             "#9c179e"
            ],
            [
             0.4444444444444444,
             "#bd3786"
            ],
            [
             0.5555555555555556,
             "#d8576b"
            ],
            [
             0.6666666666666666,
             "#ed7953"
            ],
            [
             0.7777777777777778,
             "#fb9f3a"
            ],
            [
             0.8888888888888888,
             "#fdca26"
            ],
            [
             1,
             "#f0f921"
            ]
           ],
           "sequentialminus": [
            [
             0,
             "#0d0887"
            ],
            [
             0.1111111111111111,
             "#46039f"
            ],
            [
             0.2222222222222222,
             "#7201a8"
            ],
            [
             0.3333333333333333,
             "#9c179e"
            ],
            [
             0.4444444444444444,
             "#bd3786"
            ],
            [
             0.5555555555555556,
             "#d8576b"
            ],
            [
             0.6666666666666666,
             "#ed7953"
            ],
            [
             0.7777777777777778,
             "#fb9f3a"
            ],
            [
             0.8888888888888888,
             "#fdca26"
            ],
            [
             1,
             "#f0f921"
            ]
           ]
          },
          "colorway": [
           "#636efa",
           "#EF553B",
           "#00cc96",
           "#ab63fa",
           "#FFA15A",
           "#19d3f3",
           "#FF6692",
           "#B6E880",
           "#FF97FF",
           "#FECB52"
          ],
          "font": {
           "color": "#2a3f5f"
          },
          "geo": {
           "bgcolor": "white",
           "lakecolor": "white",
           "landcolor": "#E5ECF6",
           "showlakes": true,
           "showland": true,
           "subunitcolor": "white"
          },
          "hoverlabel": {
           "align": "left"
          },
          "hovermode": "closest",
          "mapbox": {
           "style": "light"
          },
          "paper_bgcolor": "white",
          "plot_bgcolor": "#E5ECF6",
          "polar": {
           "angularaxis": {
            "gridcolor": "white",
            "linecolor": "white",
            "ticks": ""
           },
           "bgcolor": "#E5ECF6",
           "radialaxis": {
            "gridcolor": "white",
            "linecolor": "white",
            "ticks": ""
           }
          },
          "scene": {
           "xaxis": {
            "backgroundcolor": "#E5ECF6",
            "gridcolor": "white",
            "gridwidth": 2,
            "linecolor": "white",
            "showbackground": true,
            "ticks": "",
            "zerolinecolor": "white"
           },
           "yaxis": {
            "backgroundcolor": "#E5ECF6",
            "gridcolor": "white",
            "gridwidth": 2,
            "linecolor": "white",
            "showbackground": true,
            "ticks": "",
            "zerolinecolor": "white"
           },
           "zaxis": {
            "backgroundcolor": "#E5ECF6",
            "gridcolor": "white",
            "gridwidth": 2,
            "linecolor": "white",
            "showbackground": true,
            "ticks": "",
            "zerolinecolor": "white"
           }
          },
          "shapedefaults": {
           "line": {
            "color": "#2a3f5f"
           }
          },
          "ternary": {
           "aaxis": {
            "gridcolor": "white",
            "linecolor": "white",
            "ticks": ""
           },
           "baxis": {
            "gridcolor": "white",
            "linecolor": "white",
            "ticks": ""
           },
           "bgcolor": "#E5ECF6",
           "caxis": {
            "gridcolor": "white",
            "linecolor": "white",
            "ticks": ""
           }
          },
          "title": {
           "x": 0.05
          },
          "xaxis": {
           "automargin": true,
           "gridcolor": "white",
           "linecolor": "white",
           "ticks": "",
           "title": {
            "standoff": 15
           },
           "zerolinecolor": "white",
           "zerolinewidth": 2
          },
          "yaxis": {
           "automargin": true,
           "gridcolor": "white",
           "linecolor": "white",
           "ticks": "",
           "title": {
            "standoff": 15
           },
           "zerolinecolor": "white",
           "zerolinewidth": 2
          }
         }
        },
        "title": {
         "text": "3D Human Skeleton (Normalized to Pelvis)"
        }
       }
      }
     },
     "metadata": {},
     "output_type": "display_data"
    }
   ],
   "source": [
    "import pandas as pd\n",
    "import plotly.graph_objects as go\n",
    "\n",
    "# Load dataset and filter\n",
    "df = df[df['walking_speed'] == 'Fast'].copy()\n",
    "\n",
    "# Define joints and edges\n",
    "joints = ['PELVIS', 'SPINE_NAVAL', 'SPINE_CHEST', 'NECK', 'CLAVICLE_LEFT', 'SHOULDER_LEFT',\n",
    "          'ELBOW_LEFT', 'WRIST_LEFT', 'HAND_LEFT', 'HANDTIP_LEFT', 'THUMB_LEFT',\n",
    "          'CLAVICLE_RIGHT', 'SHOULDER_RIGHT', 'ELBOW_RIGHT', 'WRIST_RIGHT', 'HAND_RIGHT',\n",
    "          'HANDTIP_RIGHT', 'THUMB_RIGHT', 'HIP_LEFT', 'KNEE_LEFT', 'ANKLE_LEFT',\n",
    "          'FOOT_LEFT', 'HIP_RIGHT', 'KNEE_RIGHT', 'ANKLE_RIGHT', 'FOOT_RIGHT',\n",
    "          'HEAD', 'NOSE', 'EYE_LEFT', 'EAR_LEFT', 'EYE_RIGHT', 'EAR_RIGHT']\n",
    "\n",
    "edges = [('PELVIS', 'SPINE_NAVAL'), ('SPINE_NAVAL', 'SPINE_CHEST'), ('SPINE_CHEST', 'NECK'),\n",
    "         ('NECK', 'HEAD'), ('SPINE_CHEST', 'CLAVICLE_LEFT'), ('CLAVICLE_LEFT', 'SHOULDER_LEFT'),\n",
    "         ('SHOULDER_LEFT', 'ELBOW_LEFT'), ('ELBOW_LEFT', 'WRIST_LEFT'), ('WRIST_LEFT', 'HAND_LEFT'),\n",
    "         ('HAND_LEFT', 'HANDTIP_LEFT'), ('WRIST_LEFT', 'THUMB_LEFT'), ('SPINE_CHEST', 'CLAVICLE_RIGHT'),\n",
    "         ('CLAVICLE_RIGHT', 'SHOULDER_RIGHT'), ('SHOULDER_RIGHT', 'ELBOW_RIGHT'), ('ELBOW_RIGHT', 'WRIST_RIGHT'),\n",
    "         ('WRIST_RIGHT', 'HAND_RIGHT'), ('HAND_RIGHT', 'HANDTIP_RIGHT'), ('WRIST_RIGHT', 'THUMB_RIGHT'),\n",
    "         ('PELVIS', 'HIP_LEFT'), ('HIP_LEFT', 'KNEE_LEFT'), ('KNEE_LEFT', 'ANKLE_LEFT'),\n",
    "         ('ANKLE_LEFT', 'FOOT_LEFT'), ('PELVIS', 'HIP_RIGHT'), ('HIP_RIGHT', 'KNEE_RIGHT'),\n",
    "         ('KNEE_RIGHT', 'ANKLE_RIGHT'), ('ANKLE_RIGHT', 'FOOT_RIGHT'),\n",
    "         ('HEAD', 'NOSE'), ('HEAD', 'EYE_LEFT'), ('HEAD', 'EYE_RIGHT'),\n",
    "         ('HEAD', 'EAR_LEFT'), ('HEAD', 'EAR_RIGHT')]\n",
    "\n",
    "# Choose first patient and row\n",
    "example_patient_id = df['patient_id'].unique()[0]\n",
    "row = df[df['patient_id'] == example_patient_id].iloc[0]\n",
    "\n",
    "# Extract 3D joint positions and normalize to pelvis\n",
    "pelvis = [row['PELVIS_X'], row['PELVIS_Y'], row['PELVIS_Z']]\n",
    "positions = {}\n",
    "for j in joints:\n",
    "    x, y, z = row[f\"{j}_X\"], row[f\"{j}_Y\"], row[f\"{j}_Z\"]\n",
    "    positions[j] = (x - pelvis[0], y - pelvis[1], z - pelvis[2])\n",
    "\n",
    "# Build edge lines\n",
    "edge_traces = []\n",
    "for j1, j2 in edges:\n",
    "    x0, y0, z0 = positions[j1]\n",
    "    x1, y1, z1 = positions[j2]\n",
    "    edge_traces.append(go.Scatter3d(\n",
    "        x=[x0, x1], y=[y0, y1], z=[z0, z1],\n",
    "        mode='lines',\n",
    "        line=dict(color='gray', width=4),\n",
    "        hoverinfo='none'\n",
    "    ))\n",
    "\n",
    "# Build node markers\n",
    "x_vals = [positions[j][0] for j in joints]\n",
    "y_vals = [positions[j][1] for j in joints]\n",
    "z_vals = [positions[j][2] for j in joints]\n",
    "labels = joints\n",
    "\n",
    "node_trace = go.Scatter3d(\n",
    "    x=x_vals, y=y_vals, z=z_vals,\n",
    "    mode='markers+text',\n",
    "    marker=dict(size=5, color='red'),\n",
    "    text=labels,\n",
    "    textposition=\"top center\"\n",
    ")\n",
    "\n",
    "# Final figure\n",
    "fig = go.Figure(data=edge_traces + [node_trace])\n",
    "fig.update_layout(\n",
    "    scene=dict(\n",
    "        xaxis=dict(title='X'), yaxis=dict(title='Y'), zaxis=dict(title='Z'),\n",
    "        aspectmode='data'\n",
    "    ),\n",
    "    title=\"3D Human Skeleton (Normalized to Pelvis)\",\n",
    "    showlegend=False\n",
    ")\n",
    "\n",
    "fig.show()\n"
   ]
  },
  {
   "cell_type": "code",
   "execution_count": null,
   "id": "d33c3c5e",
   "metadata": {},
   "outputs": [],
   "source": []
  },
  {
   "cell_type": "code",
   "execution_count": null,
   "id": "26927129",
   "metadata": {},
   "outputs": [],
   "source": []
  }
 ],
 "metadata": {
  "kernelspec": {
   "display_name": "torch_on",
   "language": "python",
   "name": "python3"
  },
  "language_info": {
   "codemirror_mode": {
    "name": "ipython",
    "version": 3
   },
   "file_extension": ".py",
   "mimetype": "text/x-python",
   "name": "python",
   "nbconvert_exporter": "python",
   "pygments_lexer": "ipython3",
   "version": "3.9.21"
  }
 },
 "nbformat": 4,
 "nbformat_minor": 5
}
