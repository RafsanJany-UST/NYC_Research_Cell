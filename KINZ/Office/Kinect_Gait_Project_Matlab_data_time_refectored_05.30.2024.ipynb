{
  "cells": [
    {
      "cell_type": "code",
      "execution_count": null,
      "metadata": {
        "colab": {
          "base_uri": "https://localhost:8080/"
        },
        "id": "YmrhGBsyoeGr",
        "outputId": "c735c04a-174c-4f59-c4ce-389c52e4f709"
      },
      "outputs": [
        {
          "name": "stdout",
          "output_type": "stream",
          "text": [
            "Mounted at /content/drive\n"
          ]
        }
      ],
      "source": [
        "\"\"\"\n",
        "from google.colab import drive\n",
        "drive.mount('/content/drive')\"\"\""
      ]
    },
    {
      "cell_type": "code",
      "execution_count": 1,
      "metadata": {
        "id": "zzBgcnTXpOuF"
      },
      "outputs": [
        {
          "name": "stdout",
          "output_type": "stream",
          "text": [
            "Collecting pymatreader\n",
            "  Downloading pymatreader-1.0.0-py3-none-any.whl.metadata (1.5 kB)\n",
            "Requirement already satisfied: h5py in c:\\users\\user\\miniconda3\\envs\\torch_on\\lib\\site-packages (from pymatreader) (3.13.0)\n",
            "Requirement already satisfied: numpy in c:\\users\\user\\miniconda3\\envs\\torch_on\\lib\\site-packages (from pymatreader) (1.22.4)\n",
            "Requirement already satisfied: scipy>=1.7.1 in c:\\users\\user\\miniconda3\\envs\\torch_on\\lib\\site-packages (from pymatreader) (1.13.1)\n",
            "Collecting xmltodict (from pymatreader)\n",
            "  Downloading xmltodict-0.14.2-py2.py3-none-any.whl.metadata (8.0 kB)\n",
            "Downloading pymatreader-1.0.0-py3-none-any.whl (9.3 kB)\n",
            "Downloading xmltodict-0.14.2-py2.py3-none-any.whl (10.0 kB)\n",
            "Installing collected packages: xmltodict, pymatreader\n",
            "Successfully installed pymatreader-1.0.0 xmltodict-0.14.2\n"
          ]
        }
      ],
      "source": [
        "!pip install pymatreader"
      ]
    },
    {
      "cell_type": "code",
      "execution_count": 1,
      "metadata": {
        "id": "8RQYDrjsyC46"
      },
      "outputs": [],
      "source": [
        "import pandas as pd\n",
        "import numpy as np"
      ]
    },
    {
      "cell_type": "code",
      "execution_count": 2,
      "metadata": {
        "id": "SHxFx9RQo1Io"
      },
      "outputs": [],
      "source": [
        "def kinz_data(data):\n",
        "  numbodies_list = data[\"kinzData\"]['numbodies']\n",
        "  req_index = []\n",
        "\n",
        "  for i in range(len(numbodies_list)):\n",
        "    if numbodies_list[i]==1:\n",
        "      req_index.append(i)\n",
        "\n",
        "\n",
        "  kinz_arr = np.empty([0,97])\n",
        "\n",
        "  for i in req_index:\n",
        "\n",
        "    timeStamps = np.array(data[\"kinzData\"]['timeStamps'][i])\n",
        "    kinz_x = data[\"kinzData\"]['bodies'][i]['Position3d'][0]\n",
        "    kinz_y = data[\"kinzData\"]['bodies'][i]['Position3d'][1]\n",
        "    kinz_z = data[\"kinzData\"]['bodies'][i]['Position3d'][2]\n",
        "\n",
        "    d = np.concatenate((timeStamps,data[\"kinzData\"]['bodies'][i]['Position3d'][0], data[\"kinzData\"]['bodies'][i]['Position3d'][1],\n",
        "                        data[\"kinzData\"]['bodies'][i]['Position3d'][2]), axis=None)\n",
        "\n",
        "\n",
        "    kinz_arr = np.append(kinz_arr, [d], axis=0)\n",
        "\n",
        "\n",
        "\n",
        "  arr_walking_speed = np.array([data[\"walking_speed\"]]*len(req_index))\n",
        "  arr_trial_num = np.array([data[\"trial_num\"]]*len(req_index))\n",
        "  arr_patientID = np.array([data[\"patientID\"]]*len(req_index))\n",
        "\n",
        "  #res_kinz_arr = np.column_stack((arr_patientID,arr_trial_num,arr_walking_speed,kinz_arr))\n",
        "  return np.column_stack((arr_patientID,arr_trial_num,arr_walking_speed,kinz_arr))\n",
        "\n",
        "\n",
        "\n",
        "\n",
        "\n",
        "\n",
        "def acc_data(data):\n",
        "\n",
        "  arr_walking_speed = np.array([data[\"walking_speed\"]]*len(data[\"accelData\"]['timeStamps']))\n",
        "  arr_stopwatch = np.array([data[\"stopwatch\"]]*len(data[\"accelData\"]['timeStamps']))\n",
        "  arr_trial_num = np.array([data[\"trial_num\"]]*len(data[\"accelData\"]['timeStamps']))\n",
        "  arr_patientID = np.array([data[\"patientID\"]]*len(data[\"accelData\"]['timeStamps']))\n",
        "\n",
        "  #res = np.column_stack((arr_patientID,arr_trial_num,arr_walking_speed,arr_stopwatch,data[\"accelData\"]['timeStamps'],data[\"accelData\"]['timeSeries']))\n",
        "  return np.column_stack((arr_patientID,arr_trial_num,arr_walking_speed,arr_stopwatch,data[\"accelData\"]['timeStamps'],data[\"accelData\"]['timeSeries']))\n",
        "\n",
        "\n",
        "\n",
        "\n",
        "\n",
        "import numpy as np\n",
        "\n",
        "def kinz_time(kinz_data):\n",
        "    frames_num = len(kinz_data)\n",
        "    time_in_sec = np.zeros(frames_num)\n",
        "    time0 = kinz_data[0]  # time zero for the acquisition\n",
        "\n",
        "    for i in range(frames_num):\n",
        "        time_dbl = kinz_data[i] - time0  # relative time (double precision)\n",
        "        time_in_sec[i] = time_dbl / 1e9  # Convert time to seconds.\n",
        "\n",
        "    mean_time_diff = np.mean(np.diff(time_in_sec))  # Mean time difference\n",
        "    fs = 1 / mean_time_diff  # Sampling rate\n",
        "\n",
        "    return time_in_sec, fs"
      ]
    },
    {
      "cell_type": "code",
      "execution_count": 3,
      "metadata": {
        "id": "LLtGHFxto96k"
      },
      "outputs": [],
      "source": [
        "from pymatreader import read_mat\n",
        "import pandas as pd\n",
        "import numpy as np\n",
        "from glob import glob\n",
        "from tqdm.notebook import tqdm\n",
        "\n",
        "data_path = r'D:\\Data\\NYC\\KINZ\\DATA_Folder'\n",
        "\n",
        "#data_path = \"/content/drive/MyDrive/Iqram Sir/AI_Frailty-MATLAB_Sample\""
      ]
    },
    {
      "cell_type": "code",
      "execution_count": null,
      "metadata": {
        "colab": {
          "base_uri": "https://localhost:8080/"
        },
        "id": "yFF_mnE4o94S",
        "outputId": "0eb4e5c8-ae4f-46ec-fc1e-6c235b485be3"
      },
      "outputs": [],
      "source": [
        "# for all mat file\n",
        "\n",
        "\"\"\"all_file_path=[]\n",
        "\n",
        "for i in sorted(glob(data_path+\"/*\")):\n",
        "  all_file_path = all_file_path+glob(i+\"/*.mat\")\n",
        "  print(i)\"\"\""
      ]
    },
    {
      "cell_type": "code",
      "execution_count": 4,
      "metadata": {},
      "outputs": [],
      "source": [
        "import os\n",
        "#for clean preproccessed data\n",
        "all_file_path=[]\n",
        "\n",
        "for i in sorted(glob(data_path+\"/*\")):\n",
        "    for j in glob(i+\"/*\"):\n",
        "        if 'Cln' in os.path.basename(j).split(\"-\"):\n",
        "            all_file_path.append(j)"
      ]
    },
    {
      "cell_type": "code",
      "execution_count": 16,
      "metadata": {},
      "outputs": [
        {
          "data": {
            "text/plain": [
              "['D:\\\\Data\\\\NYC\\\\KINZ\\\\DATA_Folder\\\\001-LO\\\\Cln-001-LO_Trial1_Regular_20220307_111113.mat',\n",
              " 'D:\\\\Data\\\\NYC\\\\KINZ\\\\DATA_Folder\\\\001-LO\\\\Cln-001-LO_Trial2_Regular_20220307_111139.mat',\n",
              " 'D:\\\\Data\\\\NYC\\\\KINZ\\\\DATA_Folder\\\\001-LO\\\\Cln-001-LO_Trial3_Fast_20220307_111208.mat',\n",
              " 'D:\\\\Data\\\\NYC\\\\KINZ\\\\DATA_Folder\\\\001-LO\\\\Cln-001-LO_Trial4_Fast_20220307_111234.mat',\n",
              " 'D:\\\\Data\\\\NYC\\\\KINZ\\\\DATA_Folder\\\\001-LO\\\\Cln-001-LO_Trial5_Fast_20220307_111347.mat',\n",
              " 'D:\\\\Data\\\\NYC\\\\KINZ\\\\DATA_Folder\\\\001-LO\\\\Cln-001-LO_Trial6_Fast_20220307_111427.mat',\n",
              " 'D:\\\\Data\\\\NYC\\\\KINZ\\\\DATA_Folder\\\\001-LO\\\\Cln-001-LO_Trial6_Fast_20220307_111722.mat',\n",
              " 'D:\\\\Data\\\\NYC\\\\KINZ\\\\DATA_Folder\\\\001-LO\\\\TS-Cln-001-LO_Trial1_Regular_20220307_111113.mat',\n",
              " 'D:\\\\Data\\\\NYC\\\\KINZ\\\\DATA_Folder\\\\001-LO\\\\TS-Cln-001-LO_Trial2_Regular_20220307_111139.mat',\n",
              " 'D:\\\\Data\\\\NYC\\\\KINZ\\\\DATA_Folder\\\\001-LO\\\\TS-Cln-001-LO_Trial3_Fast_20220307_111208.mat',\n",
              " 'D:\\\\Data\\\\NYC\\\\KINZ\\\\DATA_Folder\\\\001-LO\\\\TS-Cln-001-LO_Trial4_Fast_20220307_111234.mat',\n",
              " 'D:\\\\Data\\\\NYC\\\\KINZ\\\\DATA_Folder\\\\001-LO\\\\TS-Cln-001-LO_Trial5_Fast_20220307_111347.mat',\n",
              " 'D:\\\\Data\\\\NYC\\\\KINZ\\\\DATA_Folder\\\\001-LO\\\\TS-Cln-001-LO_Trial6_Fast_20220307_111427.mat',\n",
              " 'D:\\\\Data\\\\NYC\\\\KINZ\\\\DATA_Folder\\\\001-LO\\\\TS-Cln-001-LO_Trial6_Fast_20220307_111722.mat',\n",
              " 'D:\\\\Data\\\\NYC\\\\KINZ\\\\DATA_Folder\\\\002-RJ\\\\Cln-002-RJ_Trial1_Regular_20220311_100411.mat',\n",
              " 'D:\\\\Data\\\\NYC\\\\KINZ\\\\DATA_Folder\\\\002-RJ\\\\Cln-002-RJ_Trial2_Regular_20220311_100440.mat',\n",
              " 'D:\\\\Data\\\\NYC\\\\KINZ\\\\DATA_Folder\\\\002-RJ\\\\Cln-002-RJ_Trial3_Fast_20220311_100509.mat',\n",
              " 'D:\\\\Data\\\\NYC\\\\KINZ\\\\DATA_Folder\\\\002-RJ\\\\Cln-002-RJ_Trial4_Fast_20220311_100541.mat',\n",
              " 'D:\\\\Data\\\\NYC\\\\KINZ\\\\DATA_Folder\\\\002-RJ\\\\Cln-002-RJ_Trial4_Fast_20220311_100659.mat',\n",
              " 'D:\\\\Data\\\\NYC\\\\KINZ\\\\DATA_Folder\\\\002-RJ\\\\TS-Cln-002-RJ_Trial2_Regular_20220311_100440.mat',\n",
              " 'D:\\\\Data\\\\NYC\\\\KINZ\\\\DATA_Folder\\\\002-RJ\\\\TS-Cln-002-RJ_Trial3_Fast_20220311_100509.mat',\n",
              " 'D:\\\\Data\\\\NYC\\\\KINZ\\\\DATA_Folder\\\\002-RJ\\\\TS-Cln-002-RJ_Trial4_Fast_20220311_100541.mat',\n",
              " 'D:\\\\Data\\\\NYC\\\\KINZ\\\\DATA_Folder\\\\002-RJ\\\\TS-Cln-002-RJ_Trial4_Fast_20220311_100659.mat',\n",
              " 'D:\\\\Data\\\\NYC\\\\KINZ\\\\DATA_Folder\\\\003-RM\\\\Cln-RM-003_Trial2_Regular_20220315_060059.mat',\n",
              " 'D:\\\\Data\\\\NYC\\\\KINZ\\\\DATA_Folder\\\\003-RM\\\\Cln-RM-003_Trial3_Fast_20220315_060209.mat',\n",
              " 'D:\\\\Data\\\\NYC\\\\KINZ\\\\DATA_Folder\\\\003-RM\\\\Cln-RM-003_Trial4_Fast_20220315_060226.mat',\n",
              " 'D:\\\\Data\\\\NYC\\\\KINZ\\\\DATA_Folder\\\\003-RM\\\\Cln-RM-003_Trial4_Fast_20220315_060742.mat',\n",
              " 'D:\\\\Data\\\\NYC\\\\KINZ\\\\DATA_Folder\\\\003-RM\\\\TS-Cln-RM-003_Trial1_Regular_20220315_060038.mat',\n",
              " 'D:\\\\Data\\\\NYC\\\\KINZ\\\\DATA_Folder\\\\003-RM\\\\TS-Cln-RM-003_Trial2_Regular_20220315_060059.mat']"
            ]
          },
          "execution_count": 16,
          "metadata": {},
          "output_type": "execute_result"
        }
      ],
      "source": [
        "all_file_path"
      ]
    },
    {
      "cell_type": "code",
      "execution_count": 21,
      "metadata": {
        "colab": {
          "base_uri": "https://localhost:8080/",
          "height": 902,
          "referenced_widgets": [
            "f4b15d88ffb64e78b0bd32b04cea92c3",
            "5b9947019df04d17b3e2eabdec00db2a",
            "5472c870a51045448608b8729bb20f03",
            "8dd82b60a6d4492a8481cc976d9ddc7f",
            "92e07ab666a741f085b1d377b7b90599",
            "a79caa24da55416194db882b7881d9c8",
            "49c93d2a2558418a9a8e07a37bdc8582",
            "b4adc2c510004268b1cf8bc2f68753c7",
            "47f02c941a274a288ab5a2654fa5295e",
            "e86dd540b33b457098edccb43f2e2698",
            "32fdc7347a8d41dfbef63a1727491b68"
          ]
        },
        "id": "FQmZJ79Do90d",
        "outputId": "d2725dc2-a191-4254-b74d-b816ce4cf5a3"
      },
      "outputs": [
        {
          "data": {
            "application/vnd.jupyter.widget-view+json": {
              "model_id": "cd02ef8444894b0caf949afd5bcc31e5",
              "version_major": 2,
              "version_minor": 0
            },
            "text/plain": [
              "  0%|          | 0/29 [00:00<?, ?it/s]"
            ]
          },
          "metadata": {},
          "output_type": "display_data"
        },
        {
          "name": "stderr",
          "output_type": "stream",
          "text": [
            "c:\\Users\\user\\miniconda3\\envs\\torch_on\\lib\\site-packages\\pymatreader\\utils.py:291: UserWarning: Complex objects (like classes) are not supported. They are imported on a best effort base but your mileage will vary.\n",
            "  warn(\n",
            "c:\\Users\\user\\miniconda3\\envs\\torch_on\\lib\\site-packages\\pymatreader\\utils.py:291: UserWarning: Complex objects (like classes) are not supported. They are imported on a best effort base but your mileage will vary.\n",
            "  warn(\n"
          ]
        },
        {
          "name": "stdout",
          "output_type": "stream",
          "text": [
            "Cln-001-LO_Trial1_Regular_20220307_111113.mat\n",
            "001-LO 001-LO\n",
            "_________________\n",
            "Cln-001-LO_Trial2_Regular_20220307_111139.mat\n",
            "001-LO 001-LO\n",
            "_________________\n",
            "Cln-001-LO_Trial3_Fast_20220307_111208.mat\n",
            "001-LO 001-LO\n",
            "_________________\n"
          ]
        },
        {
          "name": "stderr",
          "output_type": "stream",
          "text": [
            "c:\\Users\\user\\miniconda3\\envs\\torch_on\\lib\\site-packages\\pymatreader\\utils.py:291: UserWarning: Complex objects (like classes) are not supported. They are imported on a best effort base but your mileage will vary.\n",
            "  warn(\n",
            "c:\\Users\\user\\miniconda3\\envs\\torch_on\\lib\\site-packages\\pymatreader\\utils.py:291: UserWarning: Complex objects (like classes) are not supported. They are imported on a best effort base but your mileage will vary.\n",
            "  warn(\n"
          ]
        },
        {
          "name": "stdout",
          "output_type": "stream",
          "text": [
            "Cln-001-LO_Trial4_Fast_20220307_111234.mat\n",
            "001-LO 001-LO\n",
            "_________________\n",
            "Cln-001-LO_Trial5_Fast_20220307_111347.mat\n",
            "001-LO 001-LO\n",
            "_________________\n"
          ]
        },
        {
          "name": "stderr",
          "output_type": "stream",
          "text": [
            "c:\\Users\\user\\miniconda3\\envs\\torch_on\\lib\\site-packages\\pymatreader\\utils.py:291: UserWarning: Complex objects (like classes) are not supported. They are imported on a best effort base but your mileage will vary.\n",
            "  warn(\n",
            "c:\\Users\\user\\miniconda3\\envs\\torch_on\\lib\\site-packages\\pymatreader\\utils.py:291: UserWarning: Complex objects (like classes) are not supported. They are imported on a best effort base but your mileage will vary.\n",
            "  warn(\n"
          ]
        },
        {
          "name": "stdout",
          "output_type": "stream",
          "text": [
            "Cln-001-LO_Trial6_Fast_20220307_111427.mat\n",
            "001-LO 001-LO\n",
            "_________________\n",
            "Cln-001-LO_Trial6_Fast_20220307_111722.mat\n",
            "001-LO 001-LO\n",
            "_________________\n"
          ]
        },
        {
          "name": "stderr",
          "output_type": "stream",
          "text": [
            "c:\\Users\\user\\miniconda3\\envs\\torch_on\\lib\\site-packages\\pymatreader\\utils.py:291: UserWarning: Complex objects (like classes) are not supported. They are imported on a best effort base but your mileage will vary.\n",
            "  warn(\n"
          ]
        },
        {
          "name": "stdout",
          "output_type": "stream",
          "text": [
            "TS-Cln-001-LO_Trial1_Regular_20220307_111113.mat\n",
            "The Subject folder or main path unusual file or folder below.....Please remove the file or the folder.....\n",
            "D:\\Data\\NYC\\KINZ\\DATA_Folder\\001-LO\\TS-Cln-001-LO_Trial1_Regular_20220307_111113.mat\n",
            "TS-Cln-001-LO_Trial2_Regular_20220307_111139.mat\n",
            "The Subject folder or main path unusual file or folder below.....Please remove the file or the folder.....\n",
            "D:\\Data\\NYC\\KINZ\\DATA_Folder\\001-LO\\TS-Cln-001-LO_Trial2_Regular_20220307_111139.mat\n",
            "TS-Cln-001-LO_Trial3_Fast_20220307_111208.mat\n",
            "The Subject folder or main path unusual file or folder below.....Please remove the file or the folder.....\n",
            "D:\\Data\\NYC\\KINZ\\DATA_Folder\\001-LO\\TS-Cln-001-LO_Trial3_Fast_20220307_111208.mat\n",
            "TS-Cln-001-LO_Trial4_Fast_20220307_111234.mat\n",
            "The Subject folder or main path unusual file or folder below.....Please remove the file or the folder.....\n",
            "D:\\Data\\NYC\\KINZ\\DATA_Folder\\001-LO\\TS-Cln-001-LO_Trial4_Fast_20220307_111234.mat\n",
            "TS-Cln-001-LO_Trial5_Fast_20220307_111347.mat\n",
            "The Subject folder or main path unusual file or folder below.....Please remove the file or the folder.....\n",
            "D:\\Data\\NYC\\KINZ\\DATA_Folder\\001-LO\\TS-Cln-001-LO_Trial5_Fast_20220307_111347.mat\n",
            "TS-Cln-001-LO_Trial6_Fast_20220307_111427.mat\n",
            "The Subject folder or main path unusual file or folder below.....Please remove the file or the folder.....\n",
            "D:\\Data\\NYC\\KINZ\\DATA_Folder\\001-LO\\TS-Cln-001-LO_Trial6_Fast_20220307_111427.mat\n",
            "TS-Cln-001-LO_Trial6_Fast_20220307_111722.mat\n",
            "The Subject folder or main path unusual file or folder below.....Please remove the file or the folder.....\n",
            "D:\\Data\\NYC\\KINZ\\DATA_Folder\\001-LO\\TS-Cln-001-LO_Trial6_Fast_20220307_111722.mat\n"
          ]
        },
        {
          "name": "stderr",
          "output_type": "stream",
          "text": [
            "c:\\Users\\user\\miniconda3\\envs\\torch_on\\lib\\site-packages\\pymatreader\\utils.py:291: UserWarning: Complex objects (like classes) are not supported. They are imported on a best effort base but your mileage will vary.\n",
            "  warn(\n"
          ]
        },
        {
          "name": "stdout",
          "output_type": "stream",
          "text": [
            "Cln-002-RJ_Trial1_Regular_20220311_100411.mat\n",
            "002-RJ 001-LO\n",
            "_________________\n"
          ]
        },
        {
          "name": "stderr",
          "output_type": "stream",
          "text": [
            "c:\\Users\\user\\miniconda3\\envs\\torch_on\\lib\\site-packages\\pymatreader\\utils.py:291: UserWarning: Complex objects (like classes) are not supported. They are imported on a best effort base but your mileage will vary.\n",
            "  warn(\n"
          ]
        },
        {
          "name": "stdout",
          "output_type": "stream",
          "text": [
            "Cln-002-RJ_Trial2_Regular_20220311_100440.mat\n",
            "002-RJ 002-RJ\n",
            "_________________\n"
          ]
        },
        {
          "name": "stderr",
          "output_type": "stream",
          "text": [
            "c:\\Users\\user\\miniconda3\\envs\\torch_on\\lib\\site-packages\\pymatreader\\utils.py:291: UserWarning: Complex objects (like classes) are not supported. They are imported on a best effort base but your mileage will vary.\n",
            "  warn(\n",
            "c:\\Users\\user\\miniconda3\\envs\\torch_on\\lib\\site-packages\\pymatreader\\utils.py:291: UserWarning: Complex objects (like classes) are not supported. They are imported on a best effort base but your mileage will vary.\n",
            "  warn(\n"
          ]
        },
        {
          "name": "stdout",
          "output_type": "stream",
          "text": [
            "Cln-002-RJ_Trial3_Fast_20220311_100509.mat\n",
            "002-RJ 002-RJ\n",
            "_________________\n",
            "Cln-002-RJ_Trial4_Fast_20220311_100541.mat\n",
            "002-RJ 002-RJ\n",
            "_________________\n"
          ]
        },
        {
          "name": "stderr",
          "output_type": "stream",
          "text": [
            "c:\\Users\\user\\miniconda3\\envs\\torch_on\\lib\\site-packages\\pymatreader\\utils.py:291: UserWarning: Complex objects (like classes) are not supported. They are imported on a best effort base but your mileage will vary.\n",
            "  warn(\n"
          ]
        },
        {
          "name": "stdout",
          "output_type": "stream",
          "text": [
            "Cln-002-RJ_Trial4_Fast_20220311_100659.mat\n",
            "002-RJ 002-RJ\n",
            "_________________\n",
            "TS-Cln-002-RJ_Trial2_Regular_20220311_100440.mat\n",
            "The Subject folder or main path unusual file or folder below.....Please remove the file or the folder.....\n",
            "D:\\Data\\NYC\\KINZ\\DATA_Folder\\002-RJ\\TS-Cln-002-RJ_Trial2_Regular_20220311_100440.mat\n",
            "TS-Cln-002-RJ_Trial3_Fast_20220311_100509.mat\n",
            "The Subject folder or main path unusual file or folder below.....Please remove the file or the folder.....\n",
            "D:\\Data\\NYC\\KINZ\\DATA_Folder\\002-RJ\\TS-Cln-002-RJ_Trial3_Fast_20220311_100509.mat\n",
            "TS-Cln-002-RJ_Trial4_Fast_20220311_100541.mat\n",
            "The Subject folder or main path unusual file or folder below.....Please remove the file or the folder.....\n",
            "D:\\Data\\NYC\\KINZ\\DATA_Folder\\002-RJ\\TS-Cln-002-RJ_Trial4_Fast_20220311_100541.mat\n",
            "TS-Cln-002-RJ_Trial4_Fast_20220311_100659.mat\n",
            "The Subject folder or main path unusual file or folder below.....Please remove the file or the folder.....\n",
            "D:\\Data\\NYC\\KINZ\\DATA_Folder\\002-RJ\\TS-Cln-002-RJ_Trial4_Fast_20220311_100659.mat\n",
            "Cln-RM-003_Trial2_Regular_20220315_060059.mat\n",
            "RM-003 002-RJ\n"
          ]
        },
        {
          "name": "stderr",
          "output_type": "stream",
          "text": [
            "c:\\Users\\user\\miniconda3\\envs\\torch_on\\lib\\site-packages\\pymatreader\\utils.py:291: UserWarning: Complex objects (like classes) are not supported. They are imported on a best effort base but your mileage will vary.\n",
            "  warn(\n"
          ]
        },
        {
          "name": "stdout",
          "output_type": "stream",
          "text": [
            "_________________\n",
            "Cln-RM-003_Trial3_Fast_20220315_060209.mat\n",
            "RM-003 RM-003\n"
          ]
        },
        {
          "name": "stderr",
          "output_type": "stream",
          "text": [
            "c:\\Users\\user\\miniconda3\\envs\\torch_on\\lib\\site-packages\\pymatreader\\utils.py:291: UserWarning: Complex objects (like classes) are not supported. They are imported on a best effort base but your mileage will vary.\n",
            "  warn(\n"
          ]
        },
        {
          "name": "stdout",
          "output_type": "stream",
          "text": [
            "_________________\n",
            "Cln-RM-003_Trial4_Fast_20220315_060226.mat\n",
            "RM-003 RM-003\n"
          ]
        },
        {
          "name": "stderr",
          "output_type": "stream",
          "text": [
            "c:\\Users\\user\\miniconda3\\envs\\torch_on\\lib\\site-packages\\pymatreader\\utils.py:291: UserWarning: Complex objects (like classes) are not supported. They are imported on a best effort base but your mileage will vary.\n",
            "  warn(\n",
            "c:\\Users\\user\\miniconda3\\envs\\torch_on\\lib\\site-packages\\pymatreader\\utils.py:291: UserWarning: Complex objects (like classes) are not supported. They are imported on a best effort base but your mileage will vary.\n",
            "  warn(\n"
          ]
        },
        {
          "name": "stdout",
          "output_type": "stream",
          "text": [
            "_________________\n",
            "Cln-RM-003_Trial4_Fast_20220315_060742.mat\n",
            "RM-003 RM-003\n",
            "_________________\n",
            "TS-Cln-RM-003_Trial1_Regular_20220315_060038.mat\n",
            "The Subject folder or main path unusual file or folder below.....Please remove the file or the folder.....\n",
            "D:\\Data\\NYC\\KINZ\\DATA_Folder\\003-RM\\TS-Cln-RM-003_Trial1_Regular_20220315_060038.mat\n",
            "TS-Cln-RM-003_Trial2_Regular_20220315_060059.mat\n",
            "The Subject folder or main path unusual file or folder below.....Please remove the file or the folder.....\n",
            "D:\\Data\\NYC\\KINZ\\DATA_Folder\\003-RM\\TS-Cln-RM-003_Trial2_Regular_20220315_060059.mat\n"
          ]
        }
      ],
      "source": [
        "import os\n",
        "from datetime import datetime\n",
        "\n",
        "current_datetime = datetime.now()\n",
        "formatted_datetime = current_datetime.strftime(\"%Y-%m-%d_%H-%M%p\")\n",
        "\n",
        "file_save_destination = 'kinzData_panda_'+formatted_datetime+'.csv'\n",
        "\n",
        "#file_save_destination = \"task1.csv\"\n",
        "\n",
        "\n",
        "if os.path.exists(file_save_destination)==False:\n",
        "  pd.DataFrame(np.empty([0,100]), columns=['patientID','trial_num','walking_speed','timeStamps',\n",
        "  'PELVIS_X', 'SPINE_NAVAL_X', 'SPINE_CHEST_X', 'NECK_X', 'CLAVICLE_LEFT_X', 'SHOULDER_LEFT_X', 'ELBOW_LEFT_X', 'WRIST_LEFT_X', 'HAND_LEFT_X', 'HANDTIP_LEFT_X', 'THUMB_LEFT_X', 'CLAVICLE_RIGHT_X', 'SHOULDER_RIGHT_X', 'ELBOW_RIGHT_X', 'WRIST_RIGHT_X', 'HAND_RIGHT_X', 'HANDTIP_RIGHT_X', 'THUMB_RIGHT_X', 'HIP_LEFT_X', 'KNEE_LEFT_X', 'ANKLE_LEFT_X', 'FOOT_LEFT_X', 'HIP_RIGHT_X', 'KNEE_RIGHT_X', 'ANKLE_RIGHT_X', 'FOOT_RIGHT_X', 'HEAD_X', 'NOSE_X', 'EYE_LEFT_X', 'EAR_LEFT_X', 'EYE_RIGHT_X', 'EAR_RIGHT_X',\n",
        "  'PELVIS_Y', 'SPINE_NAVAL_Y', 'SPINE_CHEST_Y', 'NECK_Y', 'CLAVICLE_LEFT_Y', 'SHOULDER_LEFT_Y', 'ELBOW_LEFT_Y', 'WRIST_LEFT_Y', 'HAND_LEFT_Y', 'HANDTIP_LEFT_Y', 'THUMB_LEFT_Y', 'CLAVICLE_RIGHT_Y', 'SHOULDER_RIGHT_Y', 'ELBOW_RIGHT_Y', 'WRIST_RIGHT_Y', 'HAND_RIGHT_Y', 'HANDTIP_RIGHT_Y', 'THUMB_RIGHT_Y', 'HIP_LEFT_Y', 'KNEE_LEFT_Y', 'ANKLE_LEFT_Y', 'FOOT_LEFT_Y', 'HIP_RIGHT_Y', 'KNEE_RIGHT_Y', 'ANKLE_RIGHT_Y', 'FOOT_RIGHT_Y', 'HEAD_Y', 'NOSE_Y', 'EYE_LEFT_Y', 'EAR_LEFT_Y', 'EYE_RIGHT_Y', 'EAR_RIGHT_Y',\n",
        "  'PELVIS_Z', 'SPINE_NAVAL_Z', 'SPINE_CHEST_Z', 'NECK_Z', 'CLAVICLE_LEFT_Z', 'SHOULDER_LEFT_Z', 'ELBOW_LEFT_Z', 'WRIST_LEFT_Z', 'HAND_LEFT_Z', 'HANDTIP_LEFT_Z', 'THUMB_LEFT_Z', 'CLAVICLE_RIGHT_Z', 'SHOULDER_RIGHT_Z', 'ELBOW_RIGHT_Z', 'WRIST_RIGHT_Z', 'HAND_RIGHT_Z', 'HANDTIP_RIGHT_Z', 'THUMB_RIGHT_Z', 'HIP_LEFT_Z', 'KNEE_LEFT_Z', 'ANKLE_LEFT_Z', 'FOOT_LEFT_Z', 'HIP_RIGHT_Z', 'KNEE_RIGHT_Z', 'ANKLE_RIGHT_Z', 'FOOT_RIGHT_Z', 'HEAD_Z', 'NOSE_Z', 'EYE_LEFT_Z', 'EAR_LEFT_Z', 'EYE_RIGHT_Z', 'EAR_RIGHT_Z'\n",
        "                                                ]).to_csv(file_save_destination,index=False)\n",
        "\n",
        "\n",
        "\n",
        "\n",
        "  for path in tqdm(all_file_path):\n",
        "    try:\n",
        "      data = read_mat(path)\n",
        "      print(os.path.basename(path))\n",
        "      print(kinz_data(data)[0][0],temp_df['patientID'][0])\n",
        "      temp_df = pd.DataFrame(kinz_data(data), columns=['patientID','trial_num','walking_speed','timeStamps',\n",
        "      'PELVIS_X', 'SPINE_NAVAL_X', 'SPINE_CHEST_X', 'NECK_X', 'CLAVICLE_LEFT_X', 'SHOULDER_LEFT_X', 'ELBOW_LEFT_X', 'WRIST_LEFT_X', 'HAND_LEFT_X', 'HANDTIP_LEFT_X', 'THUMB_LEFT_X', 'CLAVICLE_RIGHT_X', 'SHOULDER_RIGHT_X', 'ELBOW_RIGHT_X', 'WRIST_RIGHT_X', 'HAND_RIGHT_X', 'HANDTIP_RIGHT_X', 'THUMB_RIGHT_X', 'HIP_LEFT_X', 'KNEE_LEFT_X', 'ANKLE_LEFT_X', 'FOOT_LEFT_X', 'HIP_RIGHT_X', 'KNEE_RIGHT_X', 'ANKLE_RIGHT_X', 'FOOT_RIGHT_X', 'HEAD_X', 'NOSE_X', 'EYE_LEFT_X', 'EAR_LEFT_X', 'EYE_RIGHT_X', 'EAR_RIGHT_X',\n",
        "      'PELVIS_Y', 'SPINE_NAVAL_Y', 'SPINE_CHEST_Y', 'NECK_Y', 'CLAVICLE_LEFT_Y', 'SHOULDER_LEFT_Y', 'ELBOW_LEFT_Y', 'WRIST_LEFT_Y', 'HAND_LEFT_Y', 'HANDTIP_LEFT_Y', 'THUMB_LEFT_Y', 'CLAVICLE_RIGHT_Y', 'SHOULDER_RIGHT_Y', 'ELBOW_RIGHT_Y', 'WRIST_RIGHT_Y', 'HAND_RIGHT_Y', 'HANDTIP_RIGHT_Y', 'THUMB_RIGHT_Y', 'HIP_LEFT_Y', 'KNEE_LEFT_Y', 'ANKLE_LEFT_Y', 'FOOT_LEFT_Y', 'HIP_RIGHT_Y', 'KNEE_RIGHT_Y', 'ANKLE_RIGHT_Y', 'FOOT_RIGHT_Y', 'HEAD_Y', 'NOSE_Y', 'EYE_LEFT_Y', 'EAR_LEFT_Y', 'EYE_RIGHT_Y', 'EAR_RIGHT_Y',\n",
        "      'PELVIS_Z', 'SPINE_NAVAL_Z', 'SPINE_CHEST_Z', 'NECK_Z', 'CLAVICLE_LEFT_Z', 'SHOULDER_LEFT_Z', 'ELBOW_LEFT_Z', 'WRIST_LEFT_Z', 'HAND_LEFT_Z', 'HANDTIP_LEFT_Z', 'THUMB_LEFT_Z', 'CLAVICLE_RIGHT_Z', 'SHOULDER_RIGHT_Z', 'ELBOW_RIGHT_Z', 'WRIST_RIGHT_Z', 'HAND_RIGHT_Z', 'HANDTIP_RIGHT_Z', 'THUMB_RIGHT_Z', 'HIP_LEFT_Z', 'KNEE_LEFT_Z', 'ANKLE_LEFT_Z', 'FOOT_LEFT_Z', 'HIP_RIGHT_Z', 'KNEE_RIGHT_Z', 'ANKLE_RIGHT_Z', 'FOOT_RIGHT_Z', 'HEAD_Z', 'NOSE_Z', 'EYE_LEFT_Z', 'EAR_LEFT_Z', 'EYE_RIGHT_Z', 'EAR_RIGHT_Z'\n",
        "                                                    ])\n",
        "\n",
        "      columns_to_convert = temp_df.columns.difference(['patientID','trial_num', 'walking_speed'])\n",
        "      temp_df[columns_to_convert] = temp_df[columns_to_convert].astype(float)\n",
        "\n",
        "      k = kinz_time(temp_df[\"timeStamps\"])\n",
        "      temp_df[\"timeStamps\"] = k[0]\n",
        "      temp_df.to_csv(file_save_destination, mode='a', index=False, header=False)\n",
        "      print(\"_________________\")\n",
        "    except:\n",
        "      print(\"The Subject folder or main path unusual file or folder below.....Please remove the file or the folder.....\")\n",
        "      print(path)"
      ]
    },
    {
      "cell_type": "code",
      "execution_count": 14,
      "metadata": {},
      "outputs": [
        {
          "data": {
            "text/plain": [
              "'D:\\\\Data\\\\NYC\\\\KINZ\\\\DATA_Folder\\\\001-LO\\\\TS-Cln-001-LO_Trial1_Regular_20220307_111113.mat'"
            ]
          },
          "execution_count": 14,
          "metadata": {},
          "output_type": "execute_result"
        }
      ],
      "source": [
        "path"
      ]
    },
    {
      "cell_type": "code",
      "execution_count": 13,
      "metadata": {},
      "outputs": [
        {
          "data": {
            "text/plain": [
              "'TS-Cln-001-LO_Trial1_Regular_20220307_111113.mat'"
            ]
          },
          "execution_count": 13,
          "metadata": {},
          "output_type": "execute_result"
        }
      ],
      "source": [
        "os.path.basename(path)"
      ]
    },
    {
      "cell_type": "code",
      "execution_count": null,
      "metadata": {},
      "outputs": [],
      "source": [
        "#path =  'D:\\\\Data\\\\NYC\\\\KINZ\\\\DATA_Folder\\\\001-LO\\\\Cln-001-LO_Trial6_Fast_20220307_111722.mat'\n",
        "\n",
        "g = read_mat(path)\n",
        "\n",
        "g[\"kinzData\"]"
      ]
    },
    {
      "cell_type": "code",
      "execution_count": 22,
      "metadata": {
        "colab": {
          "base_uri": "https://localhost:8080/",
          "height": 1000,
          "referenced_widgets": [
            "e0527a7ce3ff4a4a937804d9b1db3d64",
            "f62981439272483b896e860f8fe9104f",
            "534c3e5db57747659a05285b59daa023",
            "2697f377e2fe499c8fed4aa97898983c",
            "6840fdfcff5e4b7e8807de2cb254cdd7",
            "99d888cd7ca44dc5b86048dd5a55aa06",
            "1c977c3b0a91417b8db4c336d24b011a",
            "0e95f44a595342f88872f45ef83b185b",
            "e5117c87e8f244cc88d2bc9868a7fa7a",
            "0d3fe1456ff74cca905172927cbe55a0",
            "c3749826b4e44f729d9c0c5676afddaa"
          ]
        },
        "id": "ncR8Xnq9o9tI",
        "outputId": "f06210b5-1138-4069-d45b-02d3a7b16a6a"
      },
      "outputs": [
        {
          "data": {
            "application/vnd.jupyter.widget-view+json": {
              "model_id": "35ef634cbfe24167b9614eb35a118e5c",
              "version_major": 2,
              "version_minor": 0
            },
            "text/plain": [
              "  0%|          | 0/29 [00:00<?, ?it/s]"
            ]
          },
          "metadata": {},
          "output_type": "display_data"
        },
        {
          "name": "stderr",
          "output_type": "stream",
          "text": [
            "c:\\Users\\user\\miniconda3\\envs\\torch_on\\lib\\site-packages\\pymatreader\\utils.py:291: UserWarning: Complex objects (like classes) are not supported. They are imported on a best effort base but your mileage will vary.\n",
            "  warn(\n",
            "c:\\Users\\user\\miniconda3\\envs\\torch_on\\lib\\site-packages\\pymatreader\\utils.py:291: UserWarning: Complex objects (like classes) are not supported. They are imported on a best effort base but your mileage will vary.\n",
            "  warn(\n",
            "c:\\Users\\user\\miniconda3\\envs\\torch_on\\lib\\site-packages\\pymatreader\\utils.py:291: UserWarning: Complex objects (like classes) are not supported. They are imported on a best effort base but your mileage will vary.\n",
            "  warn(\n",
            "c:\\Users\\user\\miniconda3\\envs\\torch_on\\lib\\site-packages\\pymatreader\\utils.py:291: UserWarning: Complex objects (like classes) are not supported. They are imported on a best effort base but your mileage will vary.\n",
            "  warn(\n",
            "c:\\Users\\user\\miniconda3\\envs\\torch_on\\lib\\site-packages\\pymatreader\\utils.py:291: UserWarning: Complex objects (like classes) are not supported. They are imported on a best effort base but your mileage will vary.\n",
            "  warn(\n",
            "c:\\Users\\user\\miniconda3\\envs\\torch_on\\lib\\site-packages\\pymatreader\\utils.py:291: UserWarning: Complex objects (like classes) are not supported. They are imported on a best effort base but your mileage will vary.\n",
            "  warn(\n",
            "c:\\Users\\user\\miniconda3\\envs\\torch_on\\lib\\site-packages\\pymatreader\\utils.py:291: UserWarning: Complex objects (like classes) are not supported. They are imported on a best effort base but your mileage will vary.\n",
            "  warn(\n"
          ]
        },
        {
          "name": "stdout",
          "output_type": "stream",
          "text": [
            "___________________________________________________________________________________________________________\n",
            "___________________________________________________________________________________________________________\n",
            "___________________________________________________________________________________________________________\n",
            "___________________________________________________________________________________________________________\n",
            "___________________________________________________________________________________________________________\n",
            "___________________________________________________________________________________________________________\n",
            "___________________________________________________________________________________________________________\n"
          ]
        },
        {
          "name": "stderr",
          "output_type": "stream",
          "text": [
            "c:\\Users\\user\\miniconda3\\envs\\torch_on\\lib\\site-packages\\pymatreader\\utils.py:291: UserWarning: Complex objects (like classes) are not supported. They are imported on a best effort base but your mileage will vary.\n",
            "  warn(\n",
            "c:\\Users\\user\\miniconda3\\envs\\torch_on\\lib\\site-packages\\pymatreader\\utils.py:291: UserWarning: Complex objects (like classes) are not supported. They are imported on a best effort base but your mileage will vary.\n",
            "  warn(\n",
            "c:\\Users\\user\\miniconda3\\envs\\torch_on\\lib\\site-packages\\pymatreader\\utils.py:291: UserWarning: Complex objects (like classes) are not supported. They are imported on a best effort base but your mileage will vary.\n",
            "  warn(\n",
            "c:\\Users\\user\\miniconda3\\envs\\torch_on\\lib\\site-packages\\pymatreader\\utils.py:291: UserWarning: Complex objects (like classes) are not supported. They are imported on a best effort base but your mileage will vary.\n",
            "  warn(\n",
            "c:\\Users\\user\\miniconda3\\envs\\torch_on\\lib\\site-packages\\pymatreader\\utils.py:291: UserWarning: Complex objects (like classes) are not supported. They are imported on a best effort base but your mileage will vary.\n",
            "  warn(\n"
          ]
        },
        {
          "name": "stdout",
          "output_type": "stream",
          "text": [
            "___________________________________________________________________________________________________________\n",
            "___________________________________________________________________________________________________________\n",
            "___________________________________________________________________________________________________________\n",
            "___________________________________________________________________________________________________________\n"
          ]
        },
        {
          "name": "stderr",
          "output_type": "stream",
          "text": [
            "c:\\Users\\user\\miniconda3\\envs\\torch_on\\lib\\site-packages\\pymatreader\\utils.py:291: UserWarning: Complex objects (like classes) are not supported. They are imported on a best effort base but your mileage will vary.\n",
            "  warn(\n",
            "c:\\Users\\user\\miniconda3\\envs\\torch_on\\lib\\site-packages\\pymatreader\\utils.py:291: UserWarning: Complex objects (like classes) are not supported. They are imported on a best effort base but your mileage will vary.\n",
            "  warn(\n",
            "c:\\Users\\user\\miniconda3\\envs\\torch_on\\lib\\site-packages\\pymatreader\\utils.py:291: UserWarning: Complex objects (like classes) are not supported. They are imported on a best effort base but your mileage will vary.\n",
            "  warn(\n",
            "c:\\Users\\user\\miniconda3\\envs\\torch_on\\lib\\site-packages\\pymatreader\\utils.py:291: UserWarning: Complex objects (like classes) are not supported. They are imported on a best effort base but your mileage will vary.\n",
            "  warn(\n"
          ]
        },
        {
          "name": "stdout",
          "output_type": "stream",
          "text": [
            "___________________________________________________________________________________________________________\n",
            "___________________________________________________________________________________________________________\n"
          ]
        }
      ],
      "source": [
        "import os\n",
        "from datetime import datetime\n",
        "\n",
        "current_datetime = datetime.now()\n",
        "formatted_datetime = current_datetime.strftime(\"%Y-%m-%d_%H-%M%p\")\n",
        "\n",
        "file_save_destination_1 = 'ACC_Data_panda_'+formatted_datetime+'.csv'\n",
        "\n",
        "#file_save_destination_1 = \"task2.csv\"\n",
        "\n",
        "if os.path.exists(file_save_destination_1)==False:\n",
        "  pd.DataFrame(np.empty([0,12]), columns=['patientID','trial_num','walking_speed','stopwatch','timeStamps','acc_1', 'acc_2', 'acc_3','acc_4', 'acc_5', 'acc_6','acc_7']).to_csv(file_save_destination_1,index=False)\n",
        "\n",
        "\n",
        "\n",
        "\n",
        "for path in tqdm(all_file_path):\n",
        "  try:\n",
        "    data = read_mat(path)\n",
        "    temp_df = pd.DataFrame(acc_data(data), columns=['patientID','trial_num','walking_speed','stopwatch','timeStamps','acc_1', 'acc_2', 'acc_3',\n",
        "                                    'acc_4', 'acc_5', 'acc_6','acc_7'])\n",
        "\n",
        "\n",
        "    columns_to_convert = temp_df.columns.difference(['patientID','trial_num','walking_speed','stopwatch'])\n",
        "    temp_df[columns_to_convert] = temp_df[columns_to_convert].astype(float)\n",
        "\n",
        "    k = kinz_time(temp_df[\"timeStamps\"])\n",
        "    temp_df[\"timeStamps\"] = k[0]\n",
        "\n",
        "    temp_df.to_csv(file_save_destination_1, mode='a', index=False, header=False)\n",
        "  except:\n",
        "    print(\"___________________________________________________________________________________________________________\")\n",
        "\n"
      ]
    },
    {
      "cell_type": "code",
      "execution_count": 31,
      "metadata": {
        "id": "RhmXAS-zMoYT"
      },
      "outputs": [
        {
          "data": {
            "application/vnd.plotly.v1+json": {
              "config": {
                "plotlyServerURL": "https://plot.ly"
              },
              "data": [
                {
                  "hoverinfo": "none",
                  "line": {
                    "color": "black",
                    "width": 2
                  },
                  "mode": "lines",
                  "type": "scatter3d",
                  "x": [
                    374.5163879394531,
                    398.4181213378906,
                    null,
                    367.8434448242188,
                    360.742919921875,
                    null,
                    398.4181213378906,
                    488.8524475097656,
                    null,
                    360.742919921875,
                    353.0964660644531,
                    null,
                    488.8524475097656,
                    502.1039123535156,
                    null,
                    353.0964660644531,
                    342.2895812988281,
                    null,
                    502.1039123535156,
                    426.32525634765625,
                    null,
                    342.2895812988281,
                    426.32525634765625,
                    null,
                    426.32525634765625,
                    429.4053039550781,
                    null,
                    429.4053039550781,
                    429.5093688964844,
                    null,
                    429.5093688964844,
                    462.3351745605469,
                    null,
                    429.5093688964844,
                    400.0909423828125,
                    null,
                    462.3351745605469,
                    576.8778076171875,
                    null,
                    400.0909423828125,
                    276.8129272460937,
                    null,
                    576.8778076171875,
                    657.3419189453125,
                    null,
                    276.8129272460937,
                    184.80015563964844,
                    null,
                    657.3419189453125,
                    710.083984375,
                    null,
                    184.80015563964844,
                    164.6473846435547,
                    null,
                    710.083984375,
                    718.4869384765625,
                    null,
                    164.6473846435547,
                    109.45613861083984,
                    null,
                    718.4869384765625,
                    695.8055419921875,
                    null,
                    109.45613861083984,
                    108.16478729248048,
                    null,
                    695.8055419921875,
                    671.9179077148438,
                    null,
                    108.16478729248048,
                    112.82683563232422,
                    null,
                    429.5093688964844,
                    431.6648864746094,
                    null,
                    431.6648864746094,
                    433.0350341796875,
                    null
                  ],
                  "y": [
                    615.09912109375,
                    459.4185485839844,
                    null,
                    679.9243774414062,
                    506.5849914550781,
                    null,
                    459.4185485839844,
                    243.30552673339844,
                    null,
                    506.5849914550781,
                    239.6726837158203,
                    null,
                    243.30552673339844,
                    -125.01634979248048,
                    null,
                    239.6726837158203,
                    -128.6602325439453,
                    null,
                    -125.01634979248048,
                    -126.74414825439452,
                    null,
                    -128.6602325439453,
                    -126.74414825439452,
                    null,
                    -126.74414825439452,
                    -291.77911376953125,
                    null,
                    -291.77911376953125,
                    -420.50927734375,
                    null,
                    -420.50927734375,
                    -586.0997314453125,
                    null,
                    -420.50927734375,
                    -587.6698608398438,
                    null,
                    -586.0997314453125,
                    -545.2691040039062,
                    null,
                    -587.6698608398438,
                    -541.5269775390625,
                    null,
                    -545.2691040039062,
                    -297.3190612792969,
                    null,
                    -541.5269775390625,
                    -321.7410583496094,
                    null,
                    -297.3190612792969,
                    -87.07858276367188,
                    null,
                    -321.7410583496094,
                    -167.47789001464844,
                    null,
                    -87.07858276367188,
                    -0.3358423709869385,
                    null,
                    -167.47789001464844,
                    -165.20187377929688,
                    null,
                    -0.3358423709869385,
                    74.69852447509766,
                    null,
                    -165.20187377929688,
                    -80.16729736328125,
                    null,
                    74.69852447509766,
                    35.084205627441406,
                    null,
                    -80.16729736328125,
                    -75.49651336669922,
                    null,
                    -420.50927734375,
                    -619.9612426757812,
                    null,
                    -619.9612426757812,
                    -695.54052734375,
                    null
                  ],
                  "z": [
                    2974.9677734375,
                    3000.871337890625,
                    null,
                    2975.49755859375,
                    2976.95751953125,
                    null,
                    3000.871337890625,
                    3271.63134765625,
                    null,
                    2976.95751953125,
                    3209.848876953125,
                    null,
                    3271.63134765625,
                    3235.337158203125,
                    null,
                    3209.848876953125,
                    3250.63623046875,
                    null,
                    3235.337158203125,
                    3242.591552734375,
                    null,
                    3250.63623046875,
                    3242.591552734375,
                    null,
                    3242.591552734375,
                    3235.458251953125,
                    null,
                    3235.458251953125,
                    3205.884521484375,
                    null,
                    3205.884521484375,
                    3182.49462890625,
                    null,
                    3205.884521484375,
                    3185.181640625,
                    null,
                    3182.49462890625,
                    3189.234130859375,
                    null,
                    3185.181640625,
                    3199.2958984375,
                    null,
                    3189.234130859375,
                    3195.571533203125,
                    null,
                    3199.2958984375,
                    3292.677978515625,
                    null,
                    3195.571533203125,
                    3213.682861328125,
                    null,
                    3292.677978515625,
                    3440.77294921875,
                    null,
                    3213.682861328125,
                    3253.984375,
                    null,
                    3440.77294921875,
                    3510.779296875,
                    null,
                    3253.984375,
                    3194.571533203125,
                    null,
                    3510.779296875,
                    3563.512939453125,
                    null,
                    3194.571533203125,
                    3228.31884765625,
                    null,
                    3563.512939453125,
                    3473.078857421875,
                    null,
                    3205.884521484375,
                    3180.625732421875,
                    null,
                    3180.625732421875,
                    3183.557861328125,
                    null
                  ]
                },
                {
                  "hoverinfo": "text",
                  "marker": {
                    "color": "blue",
                    "size": 6
                  },
                  "mode": "markers+text",
                  "text": [
                    "FOOT_RIGHT",
                    "FOOT_LEFT",
                    "ANKLE_RIGHT",
                    "ANKLE_LEFT",
                    "KNEE_RIGHT",
                    "KNEE_LEFT",
                    "HIP_RIGHT",
                    "HIP_LEFT",
                    "PELVIS",
                    "SPINE_NAVAL",
                    "SPINE_CHEST",
                    "CLAVICLE_RIGHT",
                    "CLAVICLE_LEFT",
                    "SHOULDER_RIGHT",
                    "SHOULDER_LEFT",
                    "ELBOW_RIGHT",
                    "ELBOW_LEFT",
                    "WRIST_RIGHT",
                    "WRIST_LEFT",
                    "HAND_RIGHT",
                    "HAND_LEFT",
                    "HANDTIP_RIGHT",
                    "HANDTIP_LEFT",
                    "THUMB_RIGHT",
                    "THUMB_LEFT",
                    "NECK",
                    "HEAD",
                    "NOSE",
                    "EYE_LEFT",
                    "EAR_LEFT",
                    "EYE_RIGHT",
                    "EAR_RIGHT"
                  ],
                  "type": "scatter3d",
                  "x": [
                    374.5163879394531,
                    367.8434448242188,
                    398.4181213378906,
                    360.742919921875,
                    488.8524475097656,
                    353.0964660644531,
                    502.1039123535156,
                    342.2895812988281,
                    426.32525634765625,
                    429.4053039550781,
                    429.5093688964844,
                    462.3351745605469,
                    400.0909423828125,
                    576.8778076171875,
                    276.8129272460937,
                    657.3419189453125,
                    184.80015563964844,
                    710.083984375,
                    164.6473846435547,
                    718.4869384765625,
                    109.45613861083984,
                    695.8055419921875,
                    108.16478729248048,
                    671.9179077148438,
                    112.82683563232422,
                    431.6648864746094,
                    433.0350341796875,
                    444.4183349609375,
                    420.4847106933594,
                    360.2112731933594,
                    468.5515441894531,
                    513.2852172851562
                  ],
                  "y": [
                    615.09912109375,
                    679.9243774414062,
                    459.4185485839844,
                    506.5849914550781,
                    243.30552673339844,
                    239.6726837158203,
                    -125.01634979248048,
                    -128.6602325439453,
                    -126.74414825439452,
                    -291.77911376953125,
                    -420.50927734375,
                    -586.0997314453125,
                    -587.6698608398438,
                    -545.2691040039062,
                    -541.5269775390625,
                    -297.3190612792969,
                    -321.7410583496094,
                    -87.07858276367188,
                    -167.47789001464844,
                    -0.3358423709869385,
                    -165.20187377929688,
                    74.69852447509766,
                    -80.16729736328125,
                    35.084205627441406,
                    -75.49651336669922,
                    -619.9612426757812,
                    -695.54052734375,
                    -719.027099609375,
                    -755.5037231445312,
                    -757.1627807617188,
                    -749.6782836914062,
                    -751.1346435546875
                  ],
                  "z": [
                    2974.9677734375,
                    2975.49755859375,
                    3000.871337890625,
                    2976.95751953125,
                    3271.63134765625,
                    3209.848876953125,
                    3235.337158203125,
                    3250.63623046875,
                    3242.591552734375,
                    3235.458251953125,
                    3205.884521484375,
                    3182.49462890625,
                    3185.181640625,
                    3189.234130859375,
                    3199.2958984375,
                    3195.571533203125,
                    3292.677978515625,
                    3213.682861328125,
                    3440.77294921875,
                    3253.984375,
                    3510.779296875,
                    3194.571533203125,
                    3563.512939453125,
                    3228.31884765625,
                    3473.078857421875,
                    3180.625732421875,
                    3183.557861328125,
                    3330.06201171875,
                    3302.0712890625,
                    3201.337646484375,
                    3302.24560546875,
                    3189.466552734375
                  ]
                }
              ],
              "layout": {
                "margin": {
                  "b": 0,
                  "l": 0,
                  "r": 0,
                  "t": 40
                },
                "scene": {
                  "xaxis": {
                    "backgroundcolor": "rgb(230, 230, 230)",
                    "gridcolor": "rgb(200, 200, 200)",
                    "showbackground": true,
                    "showgrid": true,
                    "zerolinecolor": "rgb(200, 200, 200)"
                  },
                  "yaxis": {
                    "backgroundcolor": "rgb(230, 230, 230)",
                    "gridcolor": "rgb(200, 200, 200)",
                    "showbackground": true,
                    "showgrid": true,
                    "zerolinecolor": "rgb(200, 200, 200)"
                  },
                  "zaxis": {
                    "backgroundcolor": "rgb(230, 230, 230)",
                    "gridcolor": "rgb(200, 200, 200)",
                    "showbackground": true,
                    "showgrid": true,
                    "zerolinecolor": "rgb(200, 200, 200)"
                  }
                },
                "showlegend": false,
                "template": {
                  "data": {
                    "bar": [
                      {
                        "error_x": {
                          "color": "#2a3f5f"
                        },
                        "error_y": {
                          "color": "#2a3f5f"
                        },
                        "marker": {
                          "line": {
                            "color": "#E5ECF6",
                            "width": 0.5
                          },
                          "pattern": {
                            "fillmode": "overlay",
                            "size": 10,
                            "solidity": 0.2
                          }
                        },
                        "type": "bar"
                      }
                    ],
                    "barpolar": [
                      {
                        "marker": {
                          "line": {
                            "color": "#E5ECF6",
                            "width": 0.5
                          },
                          "pattern": {
                            "fillmode": "overlay",
                            "size": 10,
                            "solidity": 0.2
                          }
                        },
                        "type": "barpolar"
                      }
                    ],
                    "carpet": [
                      {
                        "aaxis": {
                          "endlinecolor": "#2a3f5f",
                          "gridcolor": "white",
                          "linecolor": "white",
                          "minorgridcolor": "white",
                          "startlinecolor": "#2a3f5f"
                        },
                        "baxis": {
                          "endlinecolor": "#2a3f5f",
                          "gridcolor": "white",
                          "linecolor": "white",
                          "minorgridcolor": "white",
                          "startlinecolor": "#2a3f5f"
                        },
                        "type": "carpet"
                      }
                    ],
                    "choropleth": [
                      {
                        "colorbar": {
                          "outlinewidth": 0,
                          "ticks": ""
                        },
                        "type": "choropleth"
                      }
                    ],
                    "contour": [
                      {
                        "colorbar": {
                          "outlinewidth": 0,
                          "ticks": ""
                        },
                        "colorscale": [
                          [
                            0,
                            "#0d0887"
                          ],
                          [
                            0.1111111111111111,
                            "#46039f"
                          ],
                          [
                            0.2222222222222222,
                            "#7201a8"
                          ],
                          [
                            0.3333333333333333,
                            "#9c179e"
                          ],
                          [
                            0.4444444444444444,
                            "#bd3786"
                          ],
                          [
                            0.5555555555555556,
                            "#d8576b"
                          ],
                          [
                            0.6666666666666666,
                            "#ed7953"
                          ],
                          [
                            0.7777777777777778,
                            "#fb9f3a"
                          ],
                          [
                            0.8888888888888888,
                            "#fdca26"
                          ],
                          [
                            1,
                            "#f0f921"
                          ]
                        ],
                        "type": "contour"
                      }
                    ],
                    "contourcarpet": [
                      {
                        "colorbar": {
                          "outlinewidth": 0,
                          "ticks": ""
                        },
                        "type": "contourcarpet"
                      }
                    ],
                    "heatmap": [
                      {
                        "colorbar": {
                          "outlinewidth": 0,
                          "ticks": ""
                        },
                        "colorscale": [
                          [
                            0,
                            "#0d0887"
                          ],
                          [
                            0.1111111111111111,
                            "#46039f"
                          ],
                          [
                            0.2222222222222222,
                            "#7201a8"
                          ],
                          [
                            0.3333333333333333,
                            "#9c179e"
                          ],
                          [
                            0.4444444444444444,
                            "#bd3786"
                          ],
                          [
                            0.5555555555555556,
                            "#d8576b"
                          ],
                          [
                            0.6666666666666666,
                            "#ed7953"
                          ],
                          [
                            0.7777777777777778,
                            "#fb9f3a"
                          ],
                          [
                            0.8888888888888888,
                            "#fdca26"
                          ],
                          [
                            1,
                            "#f0f921"
                          ]
                        ],
                        "type": "heatmap"
                      }
                    ],
                    "histogram": [
                      {
                        "marker": {
                          "pattern": {
                            "fillmode": "overlay",
                            "size": 10,
                            "solidity": 0.2
                          }
                        },
                        "type": "histogram"
                      }
                    ],
                    "histogram2d": [
                      {
                        "colorbar": {
                          "outlinewidth": 0,
                          "ticks": ""
                        },
                        "colorscale": [
                          [
                            0,
                            "#0d0887"
                          ],
                          [
                            0.1111111111111111,
                            "#46039f"
                          ],
                          [
                            0.2222222222222222,
                            "#7201a8"
                          ],
                          [
                            0.3333333333333333,
                            "#9c179e"
                          ],
                          [
                            0.4444444444444444,
                            "#bd3786"
                          ],
                          [
                            0.5555555555555556,
                            "#d8576b"
                          ],
                          [
                            0.6666666666666666,
                            "#ed7953"
                          ],
                          [
                            0.7777777777777778,
                            "#fb9f3a"
                          ],
                          [
                            0.8888888888888888,
                            "#fdca26"
                          ],
                          [
                            1,
                            "#f0f921"
                          ]
                        ],
                        "type": "histogram2d"
                      }
                    ],
                    "histogram2dcontour": [
                      {
                        "colorbar": {
                          "outlinewidth": 0,
                          "ticks": ""
                        },
                        "colorscale": [
                          [
                            0,
                            "#0d0887"
                          ],
                          [
                            0.1111111111111111,
                            "#46039f"
                          ],
                          [
                            0.2222222222222222,
                            "#7201a8"
                          ],
                          [
                            0.3333333333333333,
                            "#9c179e"
                          ],
                          [
                            0.4444444444444444,
                            "#bd3786"
                          ],
                          [
                            0.5555555555555556,
                            "#d8576b"
                          ],
                          [
                            0.6666666666666666,
                            "#ed7953"
                          ],
                          [
                            0.7777777777777778,
                            "#fb9f3a"
                          ],
                          [
                            0.8888888888888888,
                            "#fdca26"
                          ],
                          [
                            1,
                            "#f0f921"
                          ]
                        ],
                        "type": "histogram2dcontour"
                      }
                    ],
                    "mesh3d": [
                      {
                        "colorbar": {
                          "outlinewidth": 0,
                          "ticks": ""
                        },
                        "type": "mesh3d"
                      }
                    ],
                    "parcoords": [
                      {
                        "line": {
                          "colorbar": {
                            "outlinewidth": 0,
                            "ticks": ""
                          }
                        },
                        "type": "parcoords"
                      }
                    ],
                    "pie": [
                      {
                        "automargin": true,
                        "type": "pie"
                      }
                    ],
                    "scatter": [
                      {
                        "fillpattern": {
                          "fillmode": "overlay",
                          "size": 10,
                          "solidity": 0.2
                        },
                        "type": "scatter"
                      }
                    ],
                    "scatter3d": [
                      {
                        "line": {
                          "colorbar": {
                            "outlinewidth": 0,
                            "ticks": ""
                          }
                        },
                        "marker": {
                          "colorbar": {
                            "outlinewidth": 0,
                            "ticks": ""
                          }
                        },
                        "type": "scatter3d"
                      }
                    ],
                    "scattercarpet": [
                      {
                        "marker": {
                          "colorbar": {
                            "outlinewidth": 0,
                            "ticks": ""
                          }
                        },
                        "type": "scattercarpet"
                      }
                    ],
                    "scattergeo": [
                      {
                        "marker": {
                          "colorbar": {
                            "outlinewidth": 0,
                            "ticks": ""
                          }
                        },
                        "type": "scattergeo"
                      }
                    ],
                    "scattergl": [
                      {
                        "marker": {
                          "colorbar": {
                            "outlinewidth": 0,
                            "ticks": ""
                          }
                        },
                        "type": "scattergl"
                      }
                    ],
                    "scattermap": [
                      {
                        "marker": {
                          "colorbar": {
                            "outlinewidth": 0,
                            "ticks": ""
                          }
                        },
                        "type": "scattermap"
                      }
                    ],
                    "scattermapbox": [
                      {
                        "marker": {
                          "colorbar": {
                            "outlinewidth": 0,
                            "ticks": ""
                          }
                        },
                        "type": "scattermapbox"
                      }
                    ],
                    "scatterpolar": [
                      {
                        "marker": {
                          "colorbar": {
                            "outlinewidth": 0,
                            "ticks": ""
                          }
                        },
                        "type": "scatterpolar"
                      }
                    ],
                    "scatterpolargl": [
                      {
                        "marker": {
                          "colorbar": {
                            "outlinewidth": 0,
                            "ticks": ""
                          }
                        },
                        "type": "scatterpolargl"
                      }
                    ],
                    "scatterternary": [
                      {
                        "marker": {
                          "colorbar": {
                            "outlinewidth": 0,
                            "ticks": ""
                          }
                        },
                        "type": "scatterternary"
                      }
                    ],
                    "surface": [
                      {
                        "colorbar": {
                          "outlinewidth": 0,
                          "ticks": ""
                        },
                        "colorscale": [
                          [
                            0,
                            "#0d0887"
                          ],
                          [
                            0.1111111111111111,
                            "#46039f"
                          ],
                          [
                            0.2222222222222222,
                            "#7201a8"
                          ],
                          [
                            0.3333333333333333,
                            "#9c179e"
                          ],
                          [
                            0.4444444444444444,
                            "#bd3786"
                          ],
                          [
                            0.5555555555555556,
                            "#d8576b"
                          ],
                          [
                            0.6666666666666666,
                            "#ed7953"
                          ],
                          [
                            0.7777777777777778,
                            "#fb9f3a"
                          ],
                          [
                            0.8888888888888888,
                            "#fdca26"
                          ],
                          [
                            1,
                            "#f0f921"
                          ]
                        ],
                        "type": "surface"
                      }
                    ],
                    "table": [
                      {
                        "cells": {
                          "fill": {
                            "color": "#EBF0F8"
                          },
                          "line": {
                            "color": "white"
                          }
                        },
                        "header": {
                          "fill": {
                            "color": "#C8D4E3"
                          },
                          "line": {
                            "color": "white"
                          }
                        },
                        "type": "table"
                      }
                    ]
                  },
                  "layout": {
                    "annotationdefaults": {
                      "arrowcolor": "#2a3f5f",
                      "arrowhead": 0,
                      "arrowwidth": 1
                    },
                    "autotypenumbers": "strict",
                    "coloraxis": {
                      "colorbar": {
                        "outlinewidth": 0,
                        "ticks": ""
                      }
                    },
                    "colorscale": {
                      "diverging": [
                        [
                          0,
                          "#8e0152"
                        ],
                        [
                          0.1,
                          "#c51b7d"
                        ],
                        [
                          0.2,
                          "#de77ae"
                        ],
                        [
                          0.3,
                          "#f1b6da"
                        ],
                        [
                          0.4,
                          "#fde0ef"
                        ],
                        [
                          0.5,
                          "#f7f7f7"
                        ],
                        [
                          0.6,
                          "#e6f5d0"
                        ],
                        [
                          0.7,
                          "#b8e186"
                        ],
                        [
                          0.8,
                          "#7fbc41"
                        ],
                        [
                          0.9,
                          "#4d9221"
                        ],
                        [
                          1,
                          "#276419"
                        ]
                      ],
                      "sequential": [
                        [
                          0,
                          "#0d0887"
                        ],
                        [
                          0.1111111111111111,
                          "#46039f"
                        ],
                        [
                          0.2222222222222222,
                          "#7201a8"
                        ],
                        [
                          0.3333333333333333,
                          "#9c179e"
                        ],
                        [
                          0.4444444444444444,
                          "#bd3786"
                        ],
                        [
                          0.5555555555555556,
                          "#d8576b"
                        ],
                        [
                          0.6666666666666666,
                          "#ed7953"
                        ],
                        [
                          0.7777777777777778,
                          "#fb9f3a"
                        ],
                        [
                          0.8888888888888888,
                          "#fdca26"
                        ],
                        [
                          1,
                          "#f0f921"
                        ]
                      ],
                      "sequentialminus": [
                        [
                          0,
                          "#0d0887"
                        ],
                        [
                          0.1111111111111111,
                          "#46039f"
                        ],
                        [
                          0.2222222222222222,
                          "#7201a8"
                        ],
                        [
                          0.3333333333333333,
                          "#9c179e"
                        ],
                        [
                          0.4444444444444444,
                          "#bd3786"
                        ],
                        [
                          0.5555555555555556,
                          "#d8576b"
                        ],
                        [
                          0.6666666666666666,
                          "#ed7953"
                        ],
                        [
                          0.7777777777777778,
                          "#fb9f3a"
                        ],
                        [
                          0.8888888888888888,
                          "#fdca26"
                        ],
                        [
                          1,
                          "#f0f921"
                        ]
                      ]
                    },
                    "colorway": [
                      "#636efa",
                      "#EF553B",
                      "#00cc96",
                      "#ab63fa",
                      "#FFA15A",
                      "#19d3f3",
                      "#FF6692",
                      "#B6E880",
                      "#FF97FF",
                      "#FECB52"
                    ],
                    "font": {
                      "color": "#2a3f5f"
                    },
                    "geo": {
                      "bgcolor": "white",
                      "lakecolor": "white",
                      "landcolor": "#E5ECF6",
                      "showlakes": true,
                      "showland": true,
                      "subunitcolor": "white"
                    },
                    "hoverlabel": {
                      "align": "left"
                    },
                    "hovermode": "closest",
                    "mapbox": {
                      "style": "light"
                    },
                    "paper_bgcolor": "white",
                    "plot_bgcolor": "#E5ECF6",
                    "polar": {
                      "angularaxis": {
                        "gridcolor": "white",
                        "linecolor": "white",
                        "ticks": ""
                      },
                      "bgcolor": "#E5ECF6",
                      "radialaxis": {
                        "gridcolor": "white",
                        "linecolor": "white",
                        "ticks": ""
                      }
                    },
                    "scene": {
                      "xaxis": {
                        "backgroundcolor": "#E5ECF6",
                        "gridcolor": "white",
                        "gridwidth": 2,
                        "linecolor": "white",
                        "showbackground": true,
                        "ticks": "",
                        "zerolinecolor": "white"
                      },
                      "yaxis": {
                        "backgroundcolor": "#E5ECF6",
                        "gridcolor": "white",
                        "gridwidth": 2,
                        "linecolor": "white",
                        "showbackground": true,
                        "ticks": "",
                        "zerolinecolor": "white"
                      },
                      "zaxis": {
                        "backgroundcolor": "#E5ECF6",
                        "gridcolor": "white",
                        "gridwidth": 2,
                        "linecolor": "white",
                        "showbackground": true,
                        "ticks": "",
                        "zerolinecolor": "white"
                      }
                    },
                    "shapedefaults": {
                      "line": {
                        "color": "#2a3f5f"
                      }
                    },
                    "ternary": {
                      "aaxis": {
                        "gridcolor": "white",
                        "linecolor": "white",
                        "ticks": ""
                      },
                      "baxis": {
                        "gridcolor": "white",
                        "linecolor": "white",
                        "ticks": ""
                      },
                      "bgcolor": "#E5ECF6",
                      "caxis": {
                        "gridcolor": "white",
                        "linecolor": "white",
                        "ticks": ""
                      }
                    },
                    "title": {
                      "x": 0.05
                    },
                    "xaxis": {
                      "automargin": true,
                      "gridcolor": "white",
                      "linecolor": "white",
                      "ticks": "",
                      "title": {
                        "standoff": 15
                      },
                      "zerolinecolor": "white",
                      "zerolinewidth": 2
                    },
                    "yaxis": {
                      "automargin": true,
                      "gridcolor": "white",
                      "linecolor": "white",
                      "ticks": "",
                      "title": {
                        "standoff": 15
                      },
                      "zerolinecolor": "white",
                      "zerolinewidth": 2
                    }
                  }
                },
                "title": {
                  "text": "3D  Visualization"
                }
              }
            }
          },
          "metadata": {},
          "output_type": "display_data"
        }
      ],
      "source": [
        "import torch\n",
        "import pandas as pd\n",
        "import plotly.graph_objs as go\n",
        "from torch_geometric.data import Data\n",
        "\n",
        "# Load the dataset\n",
        "file_path = r'C:\\Users\\user\\Downloads\\kinzData_panda_2025-05-25_19-49PM.csv'\n",
        "\n",
        "df = pd.read_csv(file_path)\n",
        "\n",
        "# Define anatomical connections as edges\n",
        "edges = torch.tensor([\n",
        "    [0, 2],  # FOOT_RIGHT to ANKLE_RIGHT\n",
        "    [1, 3],  # FOOT_LEFT to ANKLE_LEFT\n",
        "    [2, 4],  # ANKLE_RIGHT to KNEE_RIGHT\n",
        "    [3, 5],  # ANKLE_LEFT to KNEE_LEFT\n",
        "    [4, 6],  # KNEE_RIGHT to HIP_RIGHT\n",
        "    [5, 7],  # KNEE_LEFT to HIP_LEFT\n",
        "    [6, 8],  # HIP_RIGHT to PELVIS\n",
        "    [7, 8],  # HIP_LEFT to PELVIS\n",
        "    [8, 9],  # PELVIS to SPINE_NAVAL\n",
        "    [9, 10], # SPINE_NAVAL to SPINE_CHEST\n",
        "    [10, 11],# SPINE_CHEST to CLAVICLE_RIGHT\n",
        "    [10, 12],# SPINE_CHEST to CLAVICLE_LEFT\n",
        "    [11, 13],# CLAVICLE_RIGHT to SHOULDER_RIGHT\n",
        "    [12, 14],# CLAVICLE_LEFT to SHOULDER_LEFT\n",
        "    [13, 15],# SHOULDER_RIGHT to ELBOW_RIGHT\n",
        "    [14, 16],# SHOULDER_LEFT to ELBOW_LEFT\n",
        "    [15, 17],# ELBOW_RIGHT to WRIST_RIGHT\n",
        "    [16, 18],# ELBOW_LEFT to WRIST_LEFT\n",
        "    [17, 19],# WRIST_RIGHT to HAND_RIGHT\n",
        "    [18, 20],# WRIST_LEFT to HAND_LEFT\n",
        "    [19, 21],# HAND_RIGHT to HANDTIP_RIGHT\n",
        "    [20, 22],# HAND_LEFT to HANDTIP_LEFT\n",
        "    [21, 23],# HANDTIP_RIGHT to THUMB_RIGHT\n",
        "    [22, 24],# HANDTIP_LEFT to THUMB_LEFT\n",
        "    [10, 25],# SPINE_CHEST to NECK\n",
        "    [25, 26],# NECK to HEAD\n",
        "]).t().contiguous()\n",
        "\n",
        "# List of joints in the order they appear in the DataFrame\n",
        "joints = [\n",
        "    'FOOT_RIGHT', 'FOOT_LEFT', 'ANKLE_RIGHT', 'ANKLE_LEFT', 'KNEE_RIGHT', 'KNEE_LEFT',\n",
        "    'HIP_RIGHT', 'HIP_LEFT', 'PELVIS', 'SPINE_NAVAL', 'SPINE_CHEST',\n",
        "    'CLAVICLE_RIGHT', 'CLAVICLE_LEFT', 'SHOULDER_RIGHT', 'SHOULDER_LEFT',\n",
        "    'ELBOW_RIGHT', 'ELBOW_LEFT', 'WRIST_RIGHT', 'WRIST_LEFT', 'HAND_RIGHT',\n",
        "    'HAND_LEFT', 'HANDTIP_RIGHT', 'HANDTIP_LEFT', 'THUMB_RIGHT', 'THUMB_LEFT',\n",
        "    'NECK', 'HEAD', 'NOSE', 'EYE_LEFT', 'EAR_LEFT', 'EYE_RIGHT', 'EAR_RIGHT'\n",
        "]\n",
        "\n",
        "# Function to extract node features and create a Data object\n",
        "def create_data_object_vis(row):\n",
        "    node_features = []\n",
        "    node_positions = []  # Store (x, y, z) positions separately for Plotly visualization\n",
        "\n",
        "    for joint in joints:\n",
        "        x = row[f'{joint}_X']\n",
        "        y = row[f'{joint}_Y']\n",
        "        z = row[f'{joint}_Z']\n",
        "        node_features.append([x, y, z])\n",
        "        node_positions.append((x, y, z))  # Save position for each joint\n",
        "\n",
        "    node_features = torch.tensor(node_features, dtype=torch.float)\n",
        "\n",
        "    # Extract label (assuming 'frailty' is the target column)\n",
        "    label = torch.tensor([row['trial_num']], dtype=torch.float)\n",
        "\n",
        "    # Create the Data object\n",
        "    data = Data(x=node_features, edge_index=edges, y=label)\n",
        "\n",
        "    return data, node_positions\n",
        "\n",
        "# Function to plot the graph using Plotly\n",
        "def plot_graph(node_positions):\n",
        "    # Extract x, y, z coordinates from node_positions\n",
        "    x_coords = [pos[0] for pos in node_positions]\n",
        "    y_coords = [pos[1] for pos in node_positions]\n",
        "    z_coords = [pos[2] for pos in node_positions]\n",
        "\n",
        "    # Create edges for Plotly\n",
        "    edge_x = []\n",
        "    edge_y = []\n",
        "    edge_z = []\n",
        "    for edge in edges.t().tolist():\n",
        "        x0, y0, z0 = node_positions[edge[0]]\n",
        "        x1, y1, z1 = node_positions[edge[1]]\n",
        "        edge_x.extend([x0, x1, None])\n",
        "        edge_y.extend([y0, y1, None])\n",
        "        edge_z.extend([z0, z1, None])\n",
        "\n",
        "    # Plot the edges\n",
        "    edge_trace = go.Scatter3d(\n",
        "        x=edge_x, y=edge_y, z=edge_z,\n",
        "        mode='lines',\n",
        "        line=dict(color='black', width=2),\n",
        "        hoverinfo='none'\n",
        "    )\n",
        "\n",
        "    # Plot the nodes with joint names\n",
        "    node_trace = go.Scatter3d(\n",
        "        x=x_coords, y=y_coords, z=z_coords,\n",
        "        mode='markers+text',\n",
        "        marker=dict(size=6, color='blue'),\n",
        "        text=joints,  # Use the joint names as text labels\n",
        "        hoverinfo='text'\n",
        "    )\n",
        "\n",
        "    # Create the figure with gridlines and joint names\n",
        "    fig = go.Figure(data=[edge_trace, node_trace],\n",
        "                    layout=go.Layout(\n",
        "                        title='3D  Visualization',\n",
        "                        showlegend=False,\n",
        "                        scene=dict(\n",
        "                            xaxis=dict(\n",
        "                                showbackground=True,\n",
        "                                backgroundcolor=\"rgb(230, 230, 230)\",\n",
        "                                gridcolor=\"rgb(200, 200, 200)\",\n",
        "                                showgrid=True,\n",
        "                                zerolinecolor=\"rgb(200, 200, 200)\",\n",
        "                            ),\n",
        "                            yaxis=dict(\n",
        "                                showbackground=True,\n",
        "                                backgroundcolor=\"rgb(230, 230, 230)\",\n",
        "                                gridcolor=\"rgb(200, 200, 200)\",\n",
        "                                showgrid=True,\n",
        "                                zerolinecolor=\"rgb(200, 200, 200)\",\n",
        "                            ),\n",
        "                            zaxis=dict(\n",
        "                                showbackground=True,\n",
        "                                backgroundcolor=\"rgb(230, 230, 230)\",\n",
        "                                gridcolor=\"rgb(200, 200, 200)\",\n",
        "                                showgrid=True,\n",
        "                                zerolinecolor=\"rgb(200, 200, 200)\",\n",
        "                            ),\n",
        "                        ),\n",
        "                        margin=dict(l=0, r=0, b=0, t=40),\n",
        "                    ))\n",
        "\n",
        "    fig.show()\n",
        "\n",
        "# Example usage with a single row (e.g., the first row in your DataFrame)\n",
        "single_row = df.iloc[30]\n",
        "data, node_positions = create_data_object_vis(single_row)\n",
        "\n",
        "# Plot the graph using Plotly\n",
        "plot_graph(node_positions)\n"
      ]
    },
    {
      "cell_type": "code",
      "execution_count": 32,
      "metadata": {},
      "outputs": [
        {
          "data": {
            "text/plain": [
              "Index(['patientID', 'trial_num', 'walking_speed', 'timeStamps', 'PELVIS_X',\n",
              "       'SPINE_NAVAL_X', 'SPINE_CHEST_X', 'NECK_X', 'CLAVICLE_LEFT_X',\n",
              "       'SHOULDER_LEFT_X', 'ELBOW_LEFT_X', 'WRIST_LEFT_X', 'HAND_LEFT_X',\n",
              "       'HANDTIP_LEFT_X', 'THUMB_LEFT_X', 'CLAVICLE_RIGHT_X',\n",
              "       'SHOULDER_RIGHT_X', 'ELBOW_RIGHT_X', 'WRIST_RIGHT_X', 'HAND_RIGHT_X',\n",
              "       'HANDTIP_RIGHT_X', 'THUMB_RIGHT_X', 'HIP_LEFT_X', 'KNEE_LEFT_X',\n",
              "       'ANKLE_LEFT_X', 'FOOT_LEFT_X', 'HIP_RIGHT_X', 'KNEE_RIGHT_X',\n",
              "       'ANKLE_RIGHT_X', 'FOOT_RIGHT_X', 'HEAD_X', 'NOSE_X', 'EYE_LEFT_X',\n",
              "       'EAR_LEFT_X', 'EYE_RIGHT_X', 'EAR_RIGHT_X', 'PELVIS_Y', 'SPINE_NAVAL_Y',\n",
              "       'SPINE_CHEST_Y', 'NECK_Y', 'CLAVICLE_LEFT_Y', 'SHOULDER_LEFT_Y',\n",
              "       'ELBOW_LEFT_Y', 'WRIST_LEFT_Y', 'HAND_LEFT_Y', 'HANDTIP_LEFT_Y',\n",
              "       'THUMB_LEFT_Y', 'CLAVICLE_RIGHT_Y', 'SHOULDER_RIGHT_Y', 'ELBOW_RIGHT_Y',\n",
              "       'WRIST_RIGHT_Y', 'HAND_RIGHT_Y', 'HANDTIP_RIGHT_Y', 'THUMB_RIGHT_Y',\n",
              "       'HIP_LEFT_Y', 'KNEE_LEFT_Y', 'ANKLE_LEFT_Y', 'FOOT_LEFT_Y',\n",
              "       'HIP_RIGHT_Y', 'KNEE_RIGHT_Y', 'ANKLE_RIGHT_Y', 'FOOT_RIGHT_Y',\n",
              "       'HEAD_Y', 'NOSE_Y', 'EYE_LEFT_Y', 'EAR_LEFT_Y', 'EYE_RIGHT_Y',\n",
              "       'EAR_RIGHT_Y', 'PELVIS_Z', 'SPINE_NAVAL_Z', 'SPINE_CHEST_Z', 'NECK_Z',\n",
              "       'CLAVICLE_LEFT_Z', 'SHOULDER_LEFT_Z', 'ELBOW_LEFT_Z', 'WRIST_LEFT_Z',\n",
              "       'HAND_LEFT_Z', 'HANDTIP_LEFT_Z', 'THUMB_LEFT_Z', 'CLAVICLE_RIGHT_Z',\n",
              "       'SHOULDER_RIGHT_Z', 'ELBOW_RIGHT_Z', 'WRIST_RIGHT_Z', 'HAND_RIGHT_Z',\n",
              "       'HANDTIP_RIGHT_Z', 'THUMB_RIGHT_Z', 'HIP_LEFT_Z', 'KNEE_LEFT_Z',\n",
              "       'ANKLE_LEFT_Z', 'FOOT_LEFT_Z', 'HIP_RIGHT_Z', 'KNEE_RIGHT_Z',\n",
              "       'ANKLE_RIGHT_Z', 'FOOT_RIGHT_Z', 'HEAD_Z', 'NOSE_Z', 'EYE_LEFT_Z',\n",
              "       'EAR_LEFT_Z', 'EYE_RIGHT_Z', 'EAR_RIGHT_Z'],\n",
              "      dtype='object')"
            ]
          },
          "execution_count": 32,
          "metadata": {},
          "output_type": "execute_result"
        }
      ],
      "source": [
        "df.columns"
      ]
    },
    {
      "cell_type": "markdown",
      "metadata": {},
      "source": [
        "# Till DOne___________________________________________________________________________________________________________________________________________________"
      ]
    },
    {
      "cell_type": "code",
      "execution_count": 41,
      "metadata": {},
      "outputs": [
        {
          "data": {
            "application/vnd.plotly.v1+json": {
              "config": {
                "plotlyServerURL": "https://plot.ly"
              },
              "data": [
                {
                  "hoverinfo": "none",
                  "line": {
                    "color": "black",
                    "width": 2
                  },
                  "mode": "lines",
                  "type": "scatter3d",
                  "x": [
                    -295.0043068163339,
                    382.89084512505207,
                    null,
                    311.40558855991407,
                    6153.038585198445,
                    null,
                    382.89084512505207,
                    5989.817023291739,
                    null,
                    6153.038585198445,
                    -511.2572997595645,
                    null,
                    5989.817023291739,
                    -339.5085361332275,
                    null,
                    -511.2572997595645,
                    297.34899480502656,
                    null,
                    -339.5085361332275,
                    16.626962347880465,
                    null,
                    297.34899480502656,
                    16.626962347880465,
                    null,
                    16.626962347880465,
                    -316.58919265675326,
                    null,
                    -316.58919265675326,
                    6178.58119824659,
                    null,
                    6178.58119824659,
                    6176.346801094192,
                    null,
                    6178.58119824659,
                    -498.0379729331764,
                    null,
                    6176.346801094192,
                    55.91469708107855,
                    null,
                    -498.0379729331764,
                    6163.3301355870735,
                    null,
                    55.91469708107855,
                    -826.1869529005726,
                    null,
                    6163.3301355870735,
                    19.820937721543327,
                    null,
                    -826.1869529005726,
                    6174.320977348119,
                    null,
                    19.820937721543327,
                    -642.5398709707272,
                    null,
                    6174.320977348119,
                    191.64665780139225,
                    null,
                    -642.5398709707272,
                    6156.075731432989,
                    null,
                    191.64665780139225,
                    -772.7880111016059,
                    null,
                    6156.075731432989,
                    21.82212361448844,
                    null,
                    -772.7880111016059,
                    6169.983019689883,
                    null,
                    21.82212361448844,
                    -862.7497005994579,
                    null,
                    6178.58119824659,
                    19.53085143667289,
                    null,
                    19.53085143667289,
                    5944.939992144848,
                    null
                  ],
                  "y": [
                    75.43441041916985,
                    6199.4936947390925,
                    null,
                    6038.112684306816,
                    -265.78884916862523,
                    null,
                    6199.4936947390925,
                    -316.3509850504616,
                    null,
                    -265.78884916862523,
                    -259.7102008655428,
                    null,
                    -316.3509850504616,
                    107.10872203751296,
                    null,
                    -259.7102008655428,
                    5964.472295160559,
                    null,
                    107.10872203751296,
                    5993.455464242496,
                    null,
                    5964.472295160559,
                    5993.455464242496,
                    null,
                    5993.455464242496,
                    -12.824863085909575,
                    null,
                    -12.824863085909575,
                    -826.3411558677656,
                    null,
                    -826.3411558677656,
                    -337.4417169232671,
                    null,
                    -826.3411558677656,
                    -140.1139104690074,
                    null,
                    -337.4417169232671,
                    6080.755162031214,
                    null,
                    -140.1139104690074,
                    -784.0956386926104,
                    null,
                    6080.755162031214,
                    -261.0502159036776,
                    null,
                    -784.0956386926104,
                    6177.332454259453,
                    null,
                    -261.0502159036776,
                    -288.88239590253386,
                    null,
                    6177.332454259453,
                    -207.6785188346253,
                    null,
                    -288.88239590253386,
                    6018.355516663916,
                    null,
                    -207.6785188346253,
                    -509.4787113243473,
                    null,
                    6018.355516663916,
                    -275.4212313869337,
                    null,
                    -509.4787113243473,
                    6227.168273806175,
                    null,
                    -275.4212313869337,
                    -209.9315290817324,
                    null,
                    6227.168273806175,
                    -231.9466054202672,
                    null,
                    -826.3411558677656,
                    6173.807377564488,
                    null,
                    6173.807377564488,
                    81.05181322299335,
                    null
                  ],
                  "z": [
                    6114.309703106643,
                    -985.8623284232513,
                    null,
                    -959.0020627785397,
                    13.407685273769095,
                    null,
                    -985.8623284232513,
                    101.59385750114431,
                    null,
                    13.407685273769095,
                    6019.817640164742,
                    null,
                    101.59385750114431,
                    6028.11809448053,
                    null,
                    6019.817640164742,
                    -917.0864059208802,
                    null,
                    6028.11809448053,
                    580.095171894682,
                    null,
                    -917.0864059208802,
                    580.095171894682,
                    null,
                    580.095171894682,
                    6331.312054666113,
                    null,
                    6331.312054666113,
                    -64.96442110042611,
                    null,
                    -64.96442110042611,
                    -15.16426513668264,
                    null,
                    -64.96442110042611,
                    6159.723483392798,
                    null,
                    -15.16426513668264,
                    617.6234271661324,
                    null,
                    6159.723483392798,
                    -46.21831211224364,
                    null,
                    617.6234271661324,
                    6067.270449749663,
                    null,
                    -46.21831211224364,
                    83.17867974612987,
                    null,
                    6067.270449749663,
                    22.602057868470816,
                    null,
                    83.17867974612987,
                    6077.122294124323,
                    null,
                    22.602057868470816,
                    -945.7504847938504,
                    null,
                    6077.122294124323,
                    -17.485928519844414,
                    null,
                    -945.7504847938504,
                    6170.244223267459,
                    null,
                    -17.485928519844414,
                    460.81226851259584,
                    null,
                    6170.244223267459,
                    -22.11636000622285,
                    null,
                    460.81226851259584,
                    6144.260260514571,
                    null,
                    -64.96442110042611,
                    -316.80398143138405,
                    null,
                    -316.80398143138405,
                    -38.29091443578157,
                    null
                  ]
                },
                {
                  "hoverinfo": "text",
                  "marker": {
                    "color": "blue",
                    "size": 6
                  },
                  "mode": "markers+text",
                  "text": [
                    "FOOT_RIGHT",
                    "FOOT_LEFT",
                    "ANKLE_RIGHT",
                    "ANKLE_LEFT",
                    "KNEE_RIGHT",
                    "KNEE_LEFT",
                    "HIP_RIGHT",
                    "HIP_LEFT",
                    "PELVIS",
                    "SPINE_NAVAL",
                    "SPINE_CHEST",
                    "CLAVICLE_RIGHT",
                    "CLAVICLE_LEFT",
                    "SHOULDER_RIGHT",
                    "SHOULDER_LEFT",
                    "ELBOW_RIGHT",
                    "ELBOW_LEFT",
                    "WRIST_RIGHT",
                    "WRIST_LEFT",
                    "HAND_RIGHT",
                    "HAND_LEFT",
                    "HANDTIP_RIGHT",
                    "HANDTIP_LEFT",
                    "THUMB_RIGHT",
                    "THUMB_LEFT",
                    "NECK",
                    "HEAD",
                    "NOSE",
                    "EYE_LEFT",
                    "EAR_LEFT",
                    "EYE_RIGHT",
                    "EAR_RIGHT"
                  ],
                  "type": "scatter3d",
                  "x": [
                    -295.0043068163339,
                    311.40558855991407,
                    382.89084512505207,
                    6153.038585198445,
                    5989.817023291739,
                    -511.2572997595645,
                    -339.5085361332275,
                    297.34899480502656,
                    16.626962347880465,
                    -316.58919265675326,
                    6178.58119824659,
                    6176.346801094192,
                    -498.0379729331764,
                    55.91469708107855,
                    6163.3301355870735,
                    -826.1869529005726,
                    19.820937721543327,
                    6174.320977348119,
                    -642.5398709707272,
                    191.64665780139225,
                    6156.075731432989,
                    -772.7880111016059,
                    21.82212361448844,
                    6169.983019689883,
                    -862.7497005994579,
                    19.53085143667289,
                    5944.939992144848,
                    330.8972804628057,
                    -289.7320736037602,
                    6011.697143101683,
                    425.0446826365335,
                    -294.452335868462
                  ],
                  "y": [
                    75.43441041916985,
                    6038.112684306816,
                    6199.4936947390925,
                    -265.78884916862523,
                    -316.3509850504616,
                    -259.7102008655428,
                    107.10872203751296,
                    5964.472295160559,
                    5993.455464242496,
                    -12.824863085909575,
                    -826.3411558677656,
                    -337.4417169232671,
                    -140.1139104690074,
                    6080.755162031214,
                    -784.0956386926104,
                    -261.0502159036776,
                    6177.332454259453,
                    -288.88239590253386,
                    -207.6785188346253,
                    6018.355516663916,
                    -509.4787113243473,
                    -275.4212313869337,
                    6227.168273806175,
                    -209.9315290817324,
                    -231.9466054202672,
                    6173.807377564488,
                    81.05181322299335,
                    6272.104869448484,
                    45.73170827414871,
                    432.0206232172444,
                    6442.74061650962,
                    79.95956117203912
                  ],
                  "z": [
                    6114.309703106643,
                    -959.0020627785397,
                    -985.8623284232513,
                    13.407685273769095,
                    101.59385750114431,
                    6019.817640164742,
                    6028.11809448053,
                    -917.0864059208802,
                    580.095171894682,
                    6331.312054666113,
                    -64.96442110042611,
                    -15.16426513668264,
                    6159.723483392798,
                    617.6234271661324,
                    -46.21831211224364,
                    6067.270449749663,
                    83.17867974612987,
                    22.602057868470816,
                    6077.122294124323,
                    -945.7504847938504,
                    -17.485928519844414,
                    6170.244223267459,
                    460.81226851259584,
                    -22.11636000622285,
                    6144.260260514571,
                    -316.80398143138405,
                    -38.29091443578157,
                    -962.8466071433638,
                    6039.594259423217,
                    -58.91760309900133,
                    -1015.2026061610212,
                    6158.059123074372
                  ]
                }
              ],
              "layout": {
                "margin": {
                  "b": 0,
                  "l": 0,
                  "r": 0,
                  "t": 40
                },
                "scene": {
                  "xaxis": {
                    "backgroundcolor": "rgb(230, 230, 230)",
                    "gridcolor": "rgb(200, 200, 200)",
                    "showbackground": true,
                    "showgrid": true,
                    "zerolinecolor": "rgb(200, 200, 200)"
                  },
                  "yaxis": {
                    "backgroundcolor": "rgb(230, 230, 230)",
                    "gridcolor": "rgb(200, 200, 200)",
                    "showbackground": true,
                    "showgrid": true,
                    "zerolinecolor": "rgb(200, 200, 200)"
                  },
                  "zaxis": {
                    "backgroundcolor": "rgb(230, 230, 230)",
                    "gridcolor": "rgb(200, 200, 200)",
                    "showbackground": true,
                    "showgrid": true,
                    "zerolinecolor": "rgb(200, 200, 200)"
                  }
                },
                "showlegend": false,
                "template": {
                  "data": {
                    "bar": [
                      {
                        "error_x": {
                          "color": "#2a3f5f"
                        },
                        "error_y": {
                          "color": "#2a3f5f"
                        },
                        "marker": {
                          "line": {
                            "color": "#E5ECF6",
                            "width": 0.5
                          },
                          "pattern": {
                            "fillmode": "overlay",
                            "size": 10,
                            "solidity": 0.2
                          }
                        },
                        "type": "bar"
                      }
                    ],
                    "barpolar": [
                      {
                        "marker": {
                          "line": {
                            "color": "#E5ECF6",
                            "width": 0.5
                          },
                          "pattern": {
                            "fillmode": "overlay",
                            "size": 10,
                            "solidity": 0.2
                          }
                        },
                        "type": "barpolar"
                      }
                    ],
                    "carpet": [
                      {
                        "aaxis": {
                          "endlinecolor": "#2a3f5f",
                          "gridcolor": "white",
                          "linecolor": "white",
                          "minorgridcolor": "white",
                          "startlinecolor": "#2a3f5f"
                        },
                        "baxis": {
                          "endlinecolor": "#2a3f5f",
                          "gridcolor": "white",
                          "linecolor": "white",
                          "minorgridcolor": "white",
                          "startlinecolor": "#2a3f5f"
                        },
                        "type": "carpet"
                      }
                    ],
                    "choropleth": [
                      {
                        "colorbar": {
                          "outlinewidth": 0,
                          "ticks": ""
                        },
                        "type": "choropleth"
                      }
                    ],
                    "contour": [
                      {
                        "colorbar": {
                          "outlinewidth": 0,
                          "ticks": ""
                        },
                        "colorscale": [
                          [
                            0,
                            "#0d0887"
                          ],
                          [
                            0.1111111111111111,
                            "#46039f"
                          ],
                          [
                            0.2222222222222222,
                            "#7201a8"
                          ],
                          [
                            0.3333333333333333,
                            "#9c179e"
                          ],
                          [
                            0.4444444444444444,
                            "#bd3786"
                          ],
                          [
                            0.5555555555555556,
                            "#d8576b"
                          ],
                          [
                            0.6666666666666666,
                            "#ed7953"
                          ],
                          [
                            0.7777777777777778,
                            "#fb9f3a"
                          ],
                          [
                            0.8888888888888888,
                            "#fdca26"
                          ],
                          [
                            1,
                            "#f0f921"
                          ]
                        ],
                        "type": "contour"
                      }
                    ],
                    "contourcarpet": [
                      {
                        "colorbar": {
                          "outlinewidth": 0,
                          "ticks": ""
                        },
                        "type": "contourcarpet"
                      }
                    ],
                    "heatmap": [
                      {
                        "colorbar": {
                          "outlinewidth": 0,
                          "ticks": ""
                        },
                        "colorscale": [
                          [
                            0,
                            "#0d0887"
                          ],
                          [
                            0.1111111111111111,
                            "#46039f"
                          ],
                          [
                            0.2222222222222222,
                            "#7201a8"
                          ],
                          [
                            0.3333333333333333,
                            "#9c179e"
                          ],
                          [
                            0.4444444444444444,
                            "#bd3786"
                          ],
                          [
                            0.5555555555555556,
                            "#d8576b"
                          ],
                          [
                            0.6666666666666666,
                            "#ed7953"
                          ],
                          [
                            0.7777777777777778,
                            "#fb9f3a"
                          ],
                          [
                            0.8888888888888888,
                            "#fdca26"
                          ],
                          [
                            1,
                            "#f0f921"
                          ]
                        ],
                        "type": "heatmap"
                      }
                    ],
                    "histogram": [
                      {
                        "marker": {
                          "pattern": {
                            "fillmode": "overlay",
                            "size": 10,
                            "solidity": 0.2
                          }
                        },
                        "type": "histogram"
                      }
                    ],
                    "histogram2d": [
                      {
                        "colorbar": {
                          "outlinewidth": 0,
                          "ticks": ""
                        },
                        "colorscale": [
                          [
                            0,
                            "#0d0887"
                          ],
                          [
                            0.1111111111111111,
                            "#46039f"
                          ],
                          [
                            0.2222222222222222,
                            "#7201a8"
                          ],
                          [
                            0.3333333333333333,
                            "#9c179e"
                          ],
                          [
                            0.4444444444444444,
                            "#bd3786"
                          ],
                          [
                            0.5555555555555556,
                            "#d8576b"
                          ],
                          [
                            0.6666666666666666,
                            "#ed7953"
                          ],
                          [
                            0.7777777777777778,
                            "#fb9f3a"
                          ],
                          [
                            0.8888888888888888,
                            "#fdca26"
                          ],
                          [
                            1,
                            "#f0f921"
                          ]
                        ],
                        "type": "histogram2d"
                      }
                    ],
                    "histogram2dcontour": [
                      {
                        "colorbar": {
                          "outlinewidth": 0,
                          "ticks": ""
                        },
                        "colorscale": [
                          [
                            0,
                            "#0d0887"
                          ],
                          [
                            0.1111111111111111,
                            "#46039f"
                          ],
                          [
                            0.2222222222222222,
                            "#7201a8"
                          ],
                          [
                            0.3333333333333333,
                            "#9c179e"
                          ],
                          [
                            0.4444444444444444,
                            "#bd3786"
                          ],
                          [
                            0.5555555555555556,
                            "#d8576b"
                          ],
                          [
                            0.6666666666666666,
                            "#ed7953"
                          ],
                          [
                            0.7777777777777778,
                            "#fb9f3a"
                          ],
                          [
                            0.8888888888888888,
                            "#fdca26"
                          ],
                          [
                            1,
                            "#f0f921"
                          ]
                        ],
                        "type": "histogram2dcontour"
                      }
                    ],
                    "mesh3d": [
                      {
                        "colorbar": {
                          "outlinewidth": 0,
                          "ticks": ""
                        },
                        "type": "mesh3d"
                      }
                    ],
                    "parcoords": [
                      {
                        "line": {
                          "colorbar": {
                            "outlinewidth": 0,
                            "ticks": ""
                          }
                        },
                        "type": "parcoords"
                      }
                    ],
                    "pie": [
                      {
                        "automargin": true,
                        "type": "pie"
                      }
                    ],
                    "scatter": [
                      {
                        "fillpattern": {
                          "fillmode": "overlay",
                          "size": 10,
                          "solidity": 0.2
                        },
                        "type": "scatter"
                      }
                    ],
                    "scatter3d": [
                      {
                        "line": {
                          "colorbar": {
                            "outlinewidth": 0,
                            "ticks": ""
                          }
                        },
                        "marker": {
                          "colorbar": {
                            "outlinewidth": 0,
                            "ticks": ""
                          }
                        },
                        "type": "scatter3d"
                      }
                    ],
                    "scattercarpet": [
                      {
                        "marker": {
                          "colorbar": {
                            "outlinewidth": 0,
                            "ticks": ""
                          }
                        },
                        "type": "scattercarpet"
                      }
                    ],
                    "scattergeo": [
                      {
                        "marker": {
                          "colorbar": {
                            "outlinewidth": 0,
                            "ticks": ""
                          }
                        },
                        "type": "scattergeo"
                      }
                    ],
                    "scattergl": [
                      {
                        "marker": {
                          "colorbar": {
                            "outlinewidth": 0,
                            "ticks": ""
                          }
                        },
                        "type": "scattergl"
                      }
                    ],
                    "scattermap": [
                      {
                        "marker": {
                          "colorbar": {
                            "outlinewidth": 0,
                            "ticks": ""
                          }
                        },
                        "type": "scattermap"
                      }
                    ],
                    "scattermapbox": [
                      {
                        "marker": {
                          "colorbar": {
                            "outlinewidth": 0,
                            "ticks": ""
                          }
                        },
                        "type": "scattermapbox"
                      }
                    ],
                    "scatterpolar": [
                      {
                        "marker": {
                          "colorbar": {
                            "outlinewidth": 0,
                            "ticks": ""
                          }
                        },
                        "type": "scatterpolar"
                      }
                    ],
                    "scatterpolargl": [
                      {
                        "marker": {
                          "colorbar": {
                            "outlinewidth": 0,
                            "ticks": ""
                          }
                        },
                        "type": "scatterpolargl"
                      }
                    ],
                    "scatterternary": [
                      {
                        "marker": {
                          "colorbar": {
                            "outlinewidth": 0,
                            "ticks": ""
                          }
                        },
                        "type": "scatterternary"
                      }
                    ],
                    "surface": [
                      {
                        "colorbar": {
                          "outlinewidth": 0,
                          "ticks": ""
                        },
                        "colorscale": [
                          [
                            0,
                            "#0d0887"
                          ],
                          [
                            0.1111111111111111,
                            "#46039f"
                          ],
                          [
                            0.2222222222222222,
                            "#7201a8"
                          ],
                          [
                            0.3333333333333333,
                            "#9c179e"
                          ],
                          [
                            0.4444444444444444,
                            "#bd3786"
                          ],
                          [
                            0.5555555555555556,
                            "#d8576b"
                          ],
                          [
                            0.6666666666666666,
                            "#ed7953"
                          ],
                          [
                            0.7777777777777778,
                            "#fb9f3a"
                          ],
                          [
                            0.8888888888888888,
                            "#fdca26"
                          ],
                          [
                            1,
                            "#f0f921"
                          ]
                        ],
                        "type": "surface"
                      }
                    ],
                    "table": [
                      {
                        "cells": {
                          "fill": {
                            "color": "#EBF0F8"
                          },
                          "line": {
                            "color": "white"
                          }
                        },
                        "header": {
                          "fill": {
                            "color": "#C8D4E3"
                          },
                          "line": {
                            "color": "white"
                          }
                        },
                        "type": "table"
                      }
                    ]
                  },
                  "layout": {
                    "annotationdefaults": {
                      "arrowcolor": "#2a3f5f",
                      "arrowhead": 0,
                      "arrowwidth": 1
                    },
                    "autotypenumbers": "strict",
                    "coloraxis": {
                      "colorbar": {
                        "outlinewidth": 0,
                        "ticks": ""
                      }
                    },
                    "colorscale": {
                      "diverging": [
                        [
                          0,
                          "#8e0152"
                        ],
                        [
                          0.1,
                          "#c51b7d"
                        ],
                        [
                          0.2,
                          "#de77ae"
                        ],
                        [
                          0.3,
                          "#f1b6da"
                        ],
                        [
                          0.4,
                          "#fde0ef"
                        ],
                        [
                          0.5,
                          "#f7f7f7"
                        ],
                        [
                          0.6,
                          "#e6f5d0"
                        ],
                        [
                          0.7,
                          "#b8e186"
                        ],
                        [
                          0.8,
                          "#7fbc41"
                        ],
                        [
                          0.9,
                          "#4d9221"
                        ],
                        [
                          1,
                          "#276419"
                        ]
                      ],
                      "sequential": [
                        [
                          0,
                          "#0d0887"
                        ],
                        [
                          0.1111111111111111,
                          "#46039f"
                        ],
                        [
                          0.2222222222222222,
                          "#7201a8"
                        ],
                        [
                          0.3333333333333333,
                          "#9c179e"
                        ],
                        [
                          0.4444444444444444,
                          "#bd3786"
                        ],
                        [
                          0.5555555555555556,
                          "#d8576b"
                        ],
                        [
                          0.6666666666666666,
                          "#ed7953"
                        ],
                        [
                          0.7777777777777778,
                          "#fb9f3a"
                        ],
                        [
                          0.8888888888888888,
                          "#fdca26"
                        ],
                        [
                          1,
                          "#f0f921"
                        ]
                      ],
                      "sequentialminus": [
                        [
                          0,
                          "#0d0887"
                        ],
                        [
                          0.1111111111111111,
                          "#46039f"
                        ],
                        [
                          0.2222222222222222,
                          "#7201a8"
                        ],
                        [
                          0.3333333333333333,
                          "#9c179e"
                        ],
                        [
                          0.4444444444444444,
                          "#bd3786"
                        ],
                        [
                          0.5555555555555556,
                          "#d8576b"
                        ],
                        [
                          0.6666666666666666,
                          "#ed7953"
                        ],
                        [
                          0.7777777777777778,
                          "#fb9f3a"
                        ],
                        [
                          0.8888888888888888,
                          "#fdca26"
                        ],
                        [
                          1,
                          "#f0f921"
                        ]
                      ]
                    },
                    "colorway": [
                      "#636efa",
                      "#EF553B",
                      "#00cc96",
                      "#ab63fa",
                      "#FFA15A",
                      "#19d3f3",
                      "#FF6692",
                      "#B6E880",
                      "#FF97FF",
                      "#FECB52"
                    ],
                    "font": {
                      "color": "#2a3f5f"
                    },
                    "geo": {
                      "bgcolor": "white",
                      "lakecolor": "white",
                      "landcolor": "#E5ECF6",
                      "showlakes": true,
                      "showland": true,
                      "subunitcolor": "white"
                    },
                    "hoverlabel": {
                      "align": "left"
                    },
                    "hovermode": "closest",
                    "mapbox": {
                      "style": "light"
                    },
                    "paper_bgcolor": "white",
                    "plot_bgcolor": "#E5ECF6",
                    "polar": {
                      "angularaxis": {
                        "gridcolor": "white",
                        "linecolor": "white",
                        "ticks": ""
                      },
                      "bgcolor": "#E5ECF6",
                      "radialaxis": {
                        "gridcolor": "white",
                        "linecolor": "white",
                        "ticks": ""
                      }
                    },
                    "scene": {
                      "xaxis": {
                        "backgroundcolor": "#E5ECF6",
                        "gridcolor": "white",
                        "gridwidth": 2,
                        "linecolor": "white",
                        "showbackground": true,
                        "ticks": "",
                        "zerolinecolor": "white"
                      },
                      "yaxis": {
                        "backgroundcolor": "#E5ECF6",
                        "gridcolor": "white",
                        "gridwidth": 2,
                        "linecolor": "white",
                        "showbackground": true,
                        "ticks": "",
                        "zerolinecolor": "white"
                      },
                      "zaxis": {
                        "backgroundcolor": "#E5ECF6",
                        "gridcolor": "white",
                        "gridwidth": 2,
                        "linecolor": "white",
                        "showbackground": true,
                        "ticks": "",
                        "zerolinecolor": "white"
                      }
                    },
                    "shapedefaults": {
                      "line": {
                        "color": "#2a3f5f"
                      }
                    },
                    "ternary": {
                      "aaxis": {
                        "gridcolor": "white",
                        "linecolor": "white",
                        "ticks": ""
                      },
                      "baxis": {
                        "gridcolor": "white",
                        "linecolor": "white",
                        "ticks": ""
                      },
                      "bgcolor": "#E5ECF6",
                      "caxis": {
                        "gridcolor": "white",
                        "linecolor": "white",
                        "ticks": ""
                      }
                    },
                    "title": {
                      "x": 0.05
                    },
                    "xaxis": {
                      "automargin": true,
                      "gridcolor": "white",
                      "linecolor": "white",
                      "ticks": "",
                      "title": {
                        "standoff": 15
                      },
                      "zerolinecolor": "white",
                      "zerolinewidth": 2
                    },
                    "yaxis": {
                      "automargin": true,
                      "gridcolor": "white",
                      "linecolor": "white",
                      "ticks": "",
                      "title": {
                        "standoff": 15
                      },
                      "zerolinecolor": "white",
                      "zerolinewidth": 2
                    }
                  }
                },
                "title": {
                  "text": "3D  Visualization"
                }
              }
            }
          },
          "metadata": {},
          "output_type": "display_data"
        }
      ],
      "source": [
        "import torch\n",
        "import pandas as pd\n",
        "import plotly.graph_objs as go\n",
        "from torch_geometric.data import Data\n",
        "\n",
        "# Load the dataset\n",
        "file_path = r'D:\\Data\\NYC\\KINZ\\KINECT_dataset_with_qor15.csv'\n",
        "\n",
        "df = pd.read_csv(file_path)\n",
        "\n",
        "# Define anatomical connections as edges\n",
        "edges = torch.tensor([\n",
        "    [0, 2],  # FOOT_RIGHT to ANKLE_RIGHT\n",
        "    [1, 3],  # FOOT_LEFT to ANKLE_LEFT\n",
        "    [2, 4],  # ANKLE_RIGHT to KNEE_RIGHT\n",
        "    [3, 5],  # ANKLE_LEFT to KNEE_LEFT\n",
        "    [4, 6],  # KNEE_RIGHT to HIP_RIGHT\n",
        "    [5, 7],  # KNEE_LEFT to HIP_LEFT\n",
        "    [6, 8],  # HIP_RIGHT to PELVIS\n",
        "    [7, 8],  # HIP_LEFT to PELVIS\n",
        "    [8, 9],  # PELVIS to SPINE_NAVAL\n",
        "    [9, 10], # SPINE_NAVAL to SPINE_CHEST\n",
        "    [10, 11],# SPINE_CHEST to CLAVICLE_RIGHT\n",
        "    [10, 12],# SPINE_CHEST to CLAVICLE_LEFT\n",
        "    [11, 13],# CLAVICLE_RIGHT to SHOULDER_RIGHT\n",
        "    [12, 14],# CLAVICLE_LEFT to SHOULDER_LEFT\n",
        "    [13, 15],# SHOULDER_RIGHT to ELBOW_RIGHT\n",
        "    [14, 16],# SHOULDER_LEFT to ELBOW_LEFT\n",
        "    [15, 17],# ELBOW_RIGHT to WRIST_RIGHT\n",
        "    [16, 18],# ELBOW_LEFT to WRIST_LEFT\n",
        "    [17, 19],# WRIST_RIGHT to HAND_RIGHT\n",
        "    [18, 20],# WRIST_LEFT to HAND_LEFT\n",
        "    [19, 21],# HAND_RIGHT to HANDTIP_RIGHT\n",
        "    [20, 22],# HAND_LEFT to HANDTIP_LEFT\n",
        "    [21, 23],# HANDTIP_RIGHT to THUMB_RIGHT\n",
        "    [22, 24],# HANDTIP_LEFT to THUMB_LEFT\n",
        "    [10, 25],# SPINE_CHEST to NECK\n",
        "    [25, 26],# NECK to HEAD\n",
        "]).t().contiguous()\n",
        "\n",
        "# List of joints in the order they appear in the DataFrame\n",
        "joints = [\n",
        "    'FOOT_RIGHT', 'FOOT_LEFT', 'ANKLE_RIGHT', 'ANKLE_LEFT', 'KNEE_RIGHT', 'KNEE_LEFT',\n",
        "    'HIP_RIGHT', 'HIP_LEFT', 'PELVIS', 'SPINE_NAVAL', 'SPINE_CHEST',\n",
        "    'CLAVICLE_RIGHT', 'CLAVICLE_LEFT', 'SHOULDER_RIGHT', 'SHOULDER_LEFT',\n",
        "    'ELBOW_RIGHT', 'ELBOW_LEFT', 'WRIST_RIGHT', 'WRIST_LEFT', 'HAND_RIGHT',\n",
        "    'HAND_LEFT', 'HANDTIP_RIGHT', 'HANDTIP_LEFT', 'THUMB_RIGHT', 'THUMB_LEFT',\n",
        "    'NECK', 'HEAD', 'NOSE', 'EYE_LEFT', 'EAR_LEFT', 'EYE_RIGHT', 'EAR_RIGHT'\n",
        "]\n",
        "\n",
        "# Function to extract node features and create a Data object\n",
        "def create_data_object_vis(row):\n",
        "    node_features = []\n",
        "    node_positions = []  # Store (x, y, z) positions separately for Plotly visualization\n",
        "\n",
        "    for joint in joints:\n",
        "        x = row[f'{joint}_X']\n",
        "        y = row[f'{joint}_Y']\n",
        "        z = row[f'{joint}_Z']\n",
        "        node_features.append([x, y, z])\n",
        "        node_positions.append((x, y, z))  # Save position for each joint\n",
        "\n",
        "    node_features = torch.tensor(node_features, dtype=torch.float)\n",
        "\n",
        "    # Extract label (assuming 'frailty' is the target column)\n",
        "    label = torch.tensor([row['QoR_class']], dtype=torch.float)\n",
        "\n",
        "    # Create the Data object\n",
        "    data = Data(x=node_features, edge_index=edges, y=label)\n",
        "\n",
        "    return data, node_positions\n",
        "\n",
        "# Function to plot the graph using Plotly\n",
        "def plot_graph(node_positions):\n",
        "    # Extract x, y, z coordinates from node_positions\n",
        "    x_coords = [pos[0] for pos in node_positions]\n",
        "    y_coords = [pos[1] for pos in node_positions]\n",
        "    z_coords = [pos[2] for pos in node_positions]\n",
        "\n",
        "    # Create edges for Plotly\n",
        "    edge_x = []\n",
        "    edge_y = []\n",
        "    edge_z = []\n",
        "    for edge in edges.t().tolist():\n",
        "        x0, y0, z0 = node_positions[edge[0]]\n",
        "        x1, y1, z1 = node_positions[edge[1]]\n",
        "        edge_x.extend([x0, x1, None])\n",
        "        edge_y.extend([y0, y1, None])\n",
        "        edge_z.extend([z0, z1, None])\n",
        "\n",
        "    # Plot the edges\n",
        "    edge_trace = go.Scatter3d(\n",
        "        x=edge_x, y=edge_y, z=edge_z,\n",
        "        mode='lines',\n",
        "        line=dict(color='black', width=2),\n",
        "        hoverinfo='none'\n",
        "    )\n",
        "\n",
        "    # Plot the nodes with joint names\n",
        "    node_trace = go.Scatter3d(\n",
        "        x=x_coords, y=y_coords, z=z_coords,\n",
        "        mode='markers+text',\n",
        "        marker=dict(size=6, color='blue'),\n",
        "        text=joints,  # Use the joint names as text labels\n",
        "        hoverinfo='text'\n",
        "    )\n",
        "\n",
        "    # Create the figure with gridlines and joint names\n",
        "    fig = go.Figure(data=[edge_trace, node_trace],\n",
        "                    layout=go.Layout(\n",
        "                        title='3D  Visualization',\n",
        "                        showlegend=False,\n",
        "                        scene=dict(\n",
        "                            xaxis=dict(\n",
        "                                showbackground=True,\n",
        "                                backgroundcolor=\"rgb(230, 230, 230)\",\n",
        "                                gridcolor=\"rgb(200, 200, 200)\",\n",
        "                                showgrid=True,\n",
        "                                zerolinecolor=\"rgb(200, 200, 200)\",\n",
        "                            ),\n",
        "                            yaxis=dict(\n",
        "                                showbackground=True,\n",
        "                                backgroundcolor=\"rgb(230, 230, 230)\",\n",
        "                                gridcolor=\"rgb(200, 200, 200)\",\n",
        "                                showgrid=True,\n",
        "                                zerolinecolor=\"rgb(200, 200, 200)\",\n",
        "                            ),\n",
        "                            zaxis=dict(\n",
        "                                showbackground=True,\n",
        "                                backgroundcolor=\"rgb(230, 230, 230)\",\n",
        "                                gridcolor=\"rgb(200, 200, 200)\",\n",
        "                                showgrid=True,\n",
        "                                zerolinecolor=\"rgb(200, 200, 200)\",\n",
        "                            ),\n",
        "                        ),\n",
        "                        margin=dict(l=0, r=0, b=0, t=40),\n",
        "                    ))\n",
        "\n",
        "    fig.show()\n",
        "\n",
        "# Example usage with a single row (e.g., the first row in your DataFrame)\n",
        "single_row = df.iloc[30]\n",
        "data, node_positions = create_data_object_vis(single_row)\n",
        "\n",
        "# Plot the graph using Plotly\n",
        "plot_graph(node_positions)\n"
      ]
    },
    {
      "cell_type": "code",
      "execution_count": 40,
      "metadata": {},
      "outputs": [
        {
          "data": {
            "text/plain": [
              "Index(['patient_id', 'trial', 'walking_speed', 't_uniform', 'ACC_1', 'ACC_2',\n",
              "       'ACC_3', 'ACC_4', 'ACC_5', 'ACC_6',\n",
              "       ...\n",
              "       'NOSE_Z', 'EYE_LEFT_Z', 'EAR_LEFT_Z', 'EYE_RIGHT_Z', 'EAR_RIGHT_Z',\n",
              "       'left_foot_swing', 'pelvis_pos', 'right_foot_swing', 'qor15_score',\n",
              "       'QoR_class'],\n",
              "      dtype='object', length=113)"
            ]
          },
          "execution_count": 40,
          "metadata": {},
          "output_type": "execute_result"
        }
      ],
      "source": [
        "df.columns"
      ]
    },
    {
      "cell_type": "code",
      "execution_count": null,
      "metadata": {},
      "outputs": [],
      "source": []
    },
    {
      "cell_type": "code",
      "execution_count": null,
      "metadata": {},
      "outputs": [],
      "source": []
    },
    {
      "cell_type": "code",
      "execution_count": null,
      "metadata": {},
      "outputs": [],
      "source": []
    }
  ],
  "metadata": {
    "colab": {
      "provenance": []
    },
    "kernelspec": {
      "display_name": "torch_on",
      "language": "python",
      "name": "python3"
    },
    "language_info": {
      "codemirror_mode": {
        "name": "ipython",
        "version": 3
      },
      "file_extension": ".py",
      "mimetype": "text/x-python",
      "name": "python",
      "nbconvert_exporter": "python",
      "pygments_lexer": "ipython3",
      "version": "3.9.21"
    },
    "widgets": {
      "application/vnd.jupyter.widget-state+json": {
        "0d3fe1456ff74cca905172927cbe55a0": {
          "model_module": "@jupyter-widgets/base",
          "model_module_version": "1.2.0",
          "model_name": "LayoutModel",
          "state": {
            "_model_module": "@jupyter-widgets/base",
            "_model_module_version": "1.2.0",
            "_model_name": "LayoutModel",
            "_view_count": null,
            "_view_module": "@jupyter-widgets/base",
            "_view_module_version": "1.2.0",
            "_view_name": "LayoutView",
            "align_content": null,
            "align_items": null,
            "align_self": null,
            "border": null,
            "bottom": null,
            "display": null,
            "flex": null,
            "flex_flow": null,
            "grid_area": null,
            "grid_auto_columns": null,
            "grid_auto_flow": null,
            "grid_auto_rows": null,
            "grid_column": null,
            "grid_gap": null,
            "grid_row": null,
            "grid_template_areas": null,
            "grid_template_columns": null,
            "grid_template_rows": null,
            "height": null,
            "justify_content": null,
            "justify_items": null,
            "left": null,
            "margin": null,
            "max_height": null,
            "max_width": null,
            "min_height": null,
            "min_width": null,
            "object_fit": null,
            "object_position": null,
            "order": null,
            "overflow": null,
            "overflow_x": null,
            "overflow_y": null,
            "padding": null,
            "right": null,
            "top": null,
            "visibility": null,
            "width": null
          }
        },
        "0e95f44a595342f88872f45ef83b185b": {
          "model_module": "@jupyter-widgets/base",
          "model_module_version": "1.2.0",
          "model_name": "LayoutModel",
          "state": {
            "_model_module": "@jupyter-widgets/base",
            "_model_module_version": "1.2.0",
            "_model_name": "LayoutModel",
            "_view_count": null,
            "_view_module": "@jupyter-widgets/base",
            "_view_module_version": "1.2.0",
            "_view_name": "LayoutView",
            "align_content": null,
            "align_items": null,
            "align_self": null,
            "border": null,
            "bottom": null,
            "display": null,
            "flex": null,
            "flex_flow": null,
            "grid_area": null,
            "grid_auto_columns": null,
            "grid_auto_flow": null,
            "grid_auto_rows": null,
            "grid_column": null,
            "grid_gap": null,
            "grid_row": null,
            "grid_template_areas": null,
            "grid_template_columns": null,
            "grid_template_rows": null,
            "height": null,
            "justify_content": null,
            "justify_items": null,
            "left": null,
            "margin": null,
            "max_height": null,
            "max_width": null,
            "min_height": null,
            "min_width": null,
            "object_fit": null,
            "object_position": null,
            "order": null,
            "overflow": null,
            "overflow_x": null,
            "overflow_y": null,
            "padding": null,
            "right": null,
            "top": null,
            "visibility": null,
            "width": null
          }
        },
        "1c977c3b0a91417b8db4c336d24b011a": {
          "model_module": "@jupyter-widgets/controls",
          "model_module_version": "1.5.0",
          "model_name": "DescriptionStyleModel",
          "state": {
            "_model_module": "@jupyter-widgets/controls",
            "_model_module_version": "1.5.0",
            "_model_name": "DescriptionStyleModel",
            "_view_count": null,
            "_view_module": "@jupyter-widgets/base",
            "_view_module_version": "1.2.0",
            "_view_name": "StyleView",
            "description_width": ""
          }
        },
        "2697f377e2fe499c8fed4aa97898983c": {
          "model_module": "@jupyter-widgets/controls",
          "model_module_version": "1.5.0",
          "model_name": "HTMLModel",
          "state": {
            "_dom_classes": [],
            "_model_module": "@jupyter-widgets/controls",
            "_model_module_version": "1.5.0",
            "_model_name": "HTMLModel",
            "_view_count": null,
            "_view_module": "@jupyter-widgets/controls",
            "_view_module_version": "1.5.0",
            "_view_name": "HTMLView",
            "description": "",
            "description_tooltip": null,
            "layout": "IPY_MODEL_0d3fe1456ff74cca905172927cbe55a0",
            "placeholder": "​",
            "style": "IPY_MODEL_c3749826b4e44f729d9c0c5676afddaa",
            "value": " 24/24 [02:05&lt;00:00,  5.50s/it]"
          }
        },
        "32fdc7347a8d41dfbef63a1727491b68": {
          "model_module": "@jupyter-widgets/controls",
          "model_module_version": "1.5.0",
          "model_name": "DescriptionStyleModel",
          "state": {
            "_model_module": "@jupyter-widgets/controls",
            "_model_module_version": "1.5.0",
            "_model_name": "DescriptionStyleModel",
            "_view_count": null,
            "_view_module": "@jupyter-widgets/base",
            "_view_module_version": "1.2.0",
            "_view_name": "StyleView",
            "description_width": ""
          }
        },
        "47f02c941a274a288ab5a2654fa5295e": {
          "model_module": "@jupyter-widgets/controls",
          "model_module_version": "1.5.0",
          "model_name": "ProgressStyleModel",
          "state": {
            "_model_module": "@jupyter-widgets/controls",
            "_model_module_version": "1.5.0",
            "_model_name": "ProgressStyleModel",
            "_view_count": null,
            "_view_module": "@jupyter-widgets/base",
            "_view_module_version": "1.2.0",
            "_view_name": "StyleView",
            "bar_color": null,
            "description_width": ""
          }
        },
        "49c93d2a2558418a9a8e07a37bdc8582": {
          "model_module": "@jupyter-widgets/controls",
          "model_module_version": "1.5.0",
          "model_name": "DescriptionStyleModel",
          "state": {
            "_model_module": "@jupyter-widgets/controls",
            "_model_module_version": "1.5.0",
            "_model_name": "DescriptionStyleModel",
            "_view_count": null,
            "_view_module": "@jupyter-widgets/base",
            "_view_module_version": "1.2.0",
            "_view_name": "StyleView",
            "description_width": ""
          }
        },
        "534c3e5db57747659a05285b59daa023": {
          "model_module": "@jupyter-widgets/controls",
          "model_module_version": "1.5.0",
          "model_name": "FloatProgressModel",
          "state": {
            "_dom_classes": [],
            "_model_module": "@jupyter-widgets/controls",
            "_model_module_version": "1.5.0",
            "_model_name": "FloatProgressModel",
            "_view_count": null,
            "_view_module": "@jupyter-widgets/controls",
            "_view_module_version": "1.5.0",
            "_view_name": "ProgressView",
            "bar_style": "success",
            "description": "",
            "description_tooltip": null,
            "layout": "IPY_MODEL_0e95f44a595342f88872f45ef83b185b",
            "max": 24,
            "min": 0,
            "orientation": "horizontal",
            "style": "IPY_MODEL_e5117c87e8f244cc88d2bc9868a7fa7a",
            "value": 24
          }
        },
        "5472c870a51045448608b8729bb20f03": {
          "model_module": "@jupyter-widgets/controls",
          "model_module_version": "1.5.0",
          "model_name": "FloatProgressModel",
          "state": {
            "_dom_classes": [],
            "_model_module": "@jupyter-widgets/controls",
            "_model_module_version": "1.5.0",
            "_model_name": "FloatProgressModel",
            "_view_count": null,
            "_view_module": "@jupyter-widgets/controls",
            "_view_module_version": "1.5.0",
            "_view_name": "ProgressView",
            "bar_style": "success",
            "description": "",
            "description_tooltip": null,
            "layout": "IPY_MODEL_b4adc2c510004268b1cf8bc2f68753c7",
            "max": 24,
            "min": 0,
            "orientation": "horizontal",
            "style": "IPY_MODEL_47f02c941a274a288ab5a2654fa5295e",
            "value": 24
          }
        },
        "5b9947019df04d17b3e2eabdec00db2a": {
          "model_module": "@jupyter-widgets/controls",
          "model_module_version": "1.5.0",
          "model_name": "HTMLModel",
          "state": {
            "_dom_classes": [],
            "_model_module": "@jupyter-widgets/controls",
            "_model_module_version": "1.5.0",
            "_model_name": "HTMLModel",
            "_view_count": null,
            "_view_module": "@jupyter-widgets/controls",
            "_view_module_version": "1.5.0",
            "_view_name": "HTMLView",
            "description": "",
            "description_tooltip": null,
            "layout": "IPY_MODEL_a79caa24da55416194db882b7881d9c8",
            "placeholder": "​",
            "style": "IPY_MODEL_49c93d2a2558418a9a8e07a37bdc8582",
            "value": "100%"
          }
        },
        "6840fdfcff5e4b7e8807de2cb254cdd7": {
          "model_module": "@jupyter-widgets/base",
          "model_module_version": "1.2.0",
          "model_name": "LayoutModel",
          "state": {
            "_model_module": "@jupyter-widgets/base",
            "_model_module_version": "1.2.0",
            "_model_name": "LayoutModel",
            "_view_count": null,
            "_view_module": "@jupyter-widgets/base",
            "_view_module_version": "1.2.0",
            "_view_name": "LayoutView",
            "align_content": null,
            "align_items": null,
            "align_self": null,
            "border": null,
            "bottom": null,
            "display": null,
            "flex": null,
            "flex_flow": null,
            "grid_area": null,
            "grid_auto_columns": null,
            "grid_auto_flow": null,
            "grid_auto_rows": null,
            "grid_column": null,
            "grid_gap": null,
            "grid_row": null,
            "grid_template_areas": null,
            "grid_template_columns": null,
            "grid_template_rows": null,
            "height": null,
            "justify_content": null,
            "justify_items": null,
            "left": null,
            "margin": null,
            "max_height": null,
            "max_width": null,
            "min_height": null,
            "min_width": null,
            "object_fit": null,
            "object_position": null,
            "order": null,
            "overflow": null,
            "overflow_x": null,
            "overflow_y": null,
            "padding": null,
            "right": null,
            "top": null,
            "visibility": null,
            "width": null
          }
        },
        "8dd82b60a6d4492a8481cc976d9ddc7f": {
          "model_module": "@jupyter-widgets/controls",
          "model_module_version": "1.5.0",
          "model_name": "HTMLModel",
          "state": {
            "_dom_classes": [],
            "_model_module": "@jupyter-widgets/controls",
            "_model_module_version": "1.5.0",
            "_model_name": "HTMLModel",
            "_view_count": null,
            "_view_module": "@jupyter-widgets/controls",
            "_view_module_version": "1.5.0",
            "_view_name": "HTMLView",
            "description": "",
            "description_tooltip": null,
            "layout": "IPY_MODEL_e86dd540b33b457098edccb43f2e2698",
            "placeholder": "​",
            "style": "IPY_MODEL_32fdc7347a8d41dfbef63a1727491b68",
            "value": " 24/24 [00:05&lt;00:00,  4.39it/s]"
          }
        },
        "92e07ab666a741f085b1d377b7b90599": {
          "model_module": "@jupyter-widgets/base",
          "model_module_version": "1.2.0",
          "model_name": "LayoutModel",
          "state": {
            "_model_module": "@jupyter-widgets/base",
            "_model_module_version": "1.2.0",
            "_model_name": "LayoutModel",
            "_view_count": null,
            "_view_module": "@jupyter-widgets/base",
            "_view_module_version": "1.2.0",
            "_view_name": "LayoutView",
            "align_content": null,
            "align_items": null,
            "align_self": null,
            "border": null,
            "bottom": null,
            "display": null,
            "flex": null,
            "flex_flow": null,
            "grid_area": null,
            "grid_auto_columns": null,
            "grid_auto_flow": null,
            "grid_auto_rows": null,
            "grid_column": null,
            "grid_gap": null,
            "grid_row": null,
            "grid_template_areas": null,
            "grid_template_columns": null,
            "grid_template_rows": null,
            "height": null,
            "justify_content": null,
            "justify_items": null,
            "left": null,
            "margin": null,
            "max_height": null,
            "max_width": null,
            "min_height": null,
            "min_width": null,
            "object_fit": null,
            "object_position": null,
            "order": null,
            "overflow": null,
            "overflow_x": null,
            "overflow_y": null,
            "padding": null,
            "right": null,
            "top": null,
            "visibility": null,
            "width": null
          }
        },
        "99d888cd7ca44dc5b86048dd5a55aa06": {
          "model_module": "@jupyter-widgets/base",
          "model_module_version": "1.2.0",
          "model_name": "LayoutModel",
          "state": {
            "_model_module": "@jupyter-widgets/base",
            "_model_module_version": "1.2.0",
            "_model_name": "LayoutModel",
            "_view_count": null,
            "_view_module": "@jupyter-widgets/base",
            "_view_module_version": "1.2.0",
            "_view_name": "LayoutView",
            "align_content": null,
            "align_items": null,
            "align_self": null,
            "border": null,
            "bottom": null,
            "display": null,
            "flex": null,
            "flex_flow": null,
            "grid_area": null,
            "grid_auto_columns": null,
            "grid_auto_flow": null,
            "grid_auto_rows": null,
            "grid_column": null,
            "grid_gap": null,
            "grid_row": null,
            "grid_template_areas": null,
            "grid_template_columns": null,
            "grid_template_rows": null,
            "height": null,
            "justify_content": null,
            "justify_items": null,
            "left": null,
            "margin": null,
            "max_height": null,
            "max_width": null,
            "min_height": null,
            "min_width": null,
            "object_fit": null,
            "object_position": null,
            "order": null,
            "overflow": null,
            "overflow_x": null,
            "overflow_y": null,
            "padding": null,
            "right": null,
            "top": null,
            "visibility": null,
            "width": null
          }
        },
        "a79caa24da55416194db882b7881d9c8": {
          "model_module": "@jupyter-widgets/base",
          "model_module_version": "1.2.0",
          "model_name": "LayoutModel",
          "state": {
            "_model_module": "@jupyter-widgets/base",
            "_model_module_version": "1.2.0",
            "_model_name": "LayoutModel",
            "_view_count": null,
            "_view_module": "@jupyter-widgets/base",
            "_view_module_version": "1.2.0",
            "_view_name": "LayoutView",
            "align_content": null,
            "align_items": null,
            "align_self": null,
            "border": null,
            "bottom": null,
            "display": null,
            "flex": null,
            "flex_flow": null,
            "grid_area": null,
            "grid_auto_columns": null,
            "grid_auto_flow": null,
            "grid_auto_rows": null,
            "grid_column": null,
            "grid_gap": null,
            "grid_row": null,
            "grid_template_areas": null,
            "grid_template_columns": null,
            "grid_template_rows": null,
            "height": null,
            "justify_content": null,
            "justify_items": null,
            "left": null,
            "margin": null,
            "max_height": null,
            "max_width": null,
            "min_height": null,
            "min_width": null,
            "object_fit": null,
            "object_position": null,
            "order": null,
            "overflow": null,
            "overflow_x": null,
            "overflow_y": null,
            "padding": null,
            "right": null,
            "top": null,
            "visibility": null,
            "width": null
          }
        },
        "b4adc2c510004268b1cf8bc2f68753c7": {
          "model_module": "@jupyter-widgets/base",
          "model_module_version": "1.2.0",
          "model_name": "LayoutModel",
          "state": {
            "_model_module": "@jupyter-widgets/base",
            "_model_module_version": "1.2.0",
            "_model_name": "LayoutModel",
            "_view_count": null,
            "_view_module": "@jupyter-widgets/base",
            "_view_module_version": "1.2.0",
            "_view_name": "LayoutView",
            "align_content": null,
            "align_items": null,
            "align_self": null,
            "border": null,
            "bottom": null,
            "display": null,
            "flex": null,
            "flex_flow": null,
            "grid_area": null,
            "grid_auto_columns": null,
            "grid_auto_flow": null,
            "grid_auto_rows": null,
            "grid_column": null,
            "grid_gap": null,
            "grid_row": null,
            "grid_template_areas": null,
            "grid_template_columns": null,
            "grid_template_rows": null,
            "height": null,
            "justify_content": null,
            "justify_items": null,
            "left": null,
            "margin": null,
            "max_height": null,
            "max_width": null,
            "min_height": null,
            "min_width": null,
            "object_fit": null,
            "object_position": null,
            "order": null,
            "overflow": null,
            "overflow_x": null,
            "overflow_y": null,
            "padding": null,
            "right": null,
            "top": null,
            "visibility": null,
            "width": null
          }
        },
        "c3749826b4e44f729d9c0c5676afddaa": {
          "model_module": "@jupyter-widgets/controls",
          "model_module_version": "1.5.0",
          "model_name": "DescriptionStyleModel",
          "state": {
            "_model_module": "@jupyter-widgets/controls",
            "_model_module_version": "1.5.0",
            "_model_name": "DescriptionStyleModel",
            "_view_count": null,
            "_view_module": "@jupyter-widgets/base",
            "_view_module_version": "1.2.0",
            "_view_name": "StyleView",
            "description_width": ""
          }
        },
        "e0527a7ce3ff4a4a937804d9b1db3d64": {
          "model_module": "@jupyter-widgets/controls",
          "model_module_version": "1.5.0",
          "model_name": "HBoxModel",
          "state": {
            "_dom_classes": [],
            "_model_module": "@jupyter-widgets/controls",
            "_model_module_version": "1.5.0",
            "_model_name": "HBoxModel",
            "_view_count": null,
            "_view_module": "@jupyter-widgets/controls",
            "_view_module_version": "1.5.0",
            "_view_name": "HBoxView",
            "box_style": "",
            "children": [
              "IPY_MODEL_f62981439272483b896e860f8fe9104f",
              "IPY_MODEL_534c3e5db57747659a05285b59daa023",
              "IPY_MODEL_2697f377e2fe499c8fed4aa97898983c"
            ],
            "layout": "IPY_MODEL_6840fdfcff5e4b7e8807de2cb254cdd7"
          }
        },
        "e5117c87e8f244cc88d2bc9868a7fa7a": {
          "model_module": "@jupyter-widgets/controls",
          "model_module_version": "1.5.0",
          "model_name": "ProgressStyleModel",
          "state": {
            "_model_module": "@jupyter-widgets/controls",
            "_model_module_version": "1.5.0",
            "_model_name": "ProgressStyleModel",
            "_view_count": null,
            "_view_module": "@jupyter-widgets/base",
            "_view_module_version": "1.2.0",
            "_view_name": "StyleView",
            "bar_color": null,
            "description_width": ""
          }
        },
        "e86dd540b33b457098edccb43f2e2698": {
          "model_module": "@jupyter-widgets/base",
          "model_module_version": "1.2.0",
          "model_name": "LayoutModel",
          "state": {
            "_model_module": "@jupyter-widgets/base",
            "_model_module_version": "1.2.0",
            "_model_name": "LayoutModel",
            "_view_count": null,
            "_view_module": "@jupyter-widgets/base",
            "_view_module_version": "1.2.0",
            "_view_name": "LayoutView",
            "align_content": null,
            "align_items": null,
            "align_self": null,
            "border": null,
            "bottom": null,
            "display": null,
            "flex": null,
            "flex_flow": null,
            "grid_area": null,
            "grid_auto_columns": null,
            "grid_auto_flow": null,
            "grid_auto_rows": null,
            "grid_column": null,
            "grid_gap": null,
            "grid_row": null,
            "grid_template_areas": null,
            "grid_template_columns": null,
            "grid_template_rows": null,
            "height": null,
            "justify_content": null,
            "justify_items": null,
            "left": null,
            "margin": null,
            "max_height": null,
            "max_width": null,
            "min_height": null,
            "min_width": null,
            "object_fit": null,
            "object_position": null,
            "order": null,
            "overflow": null,
            "overflow_x": null,
            "overflow_y": null,
            "padding": null,
            "right": null,
            "top": null,
            "visibility": null,
            "width": null
          }
        },
        "f4b15d88ffb64e78b0bd32b04cea92c3": {
          "model_module": "@jupyter-widgets/controls",
          "model_module_version": "1.5.0",
          "model_name": "HBoxModel",
          "state": {
            "_dom_classes": [],
            "_model_module": "@jupyter-widgets/controls",
            "_model_module_version": "1.5.0",
            "_model_name": "HBoxModel",
            "_view_count": null,
            "_view_module": "@jupyter-widgets/controls",
            "_view_module_version": "1.5.0",
            "_view_name": "HBoxView",
            "box_style": "",
            "children": [
              "IPY_MODEL_5b9947019df04d17b3e2eabdec00db2a",
              "IPY_MODEL_5472c870a51045448608b8729bb20f03",
              "IPY_MODEL_8dd82b60a6d4492a8481cc976d9ddc7f"
            ],
            "layout": "IPY_MODEL_92e07ab666a741f085b1d377b7b90599"
          }
        },
        "f62981439272483b896e860f8fe9104f": {
          "model_module": "@jupyter-widgets/controls",
          "model_module_version": "1.5.0",
          "model_name": "HTMLModel",
          "state": {
            "_dom_classes": [],
            "_model_module": "@jupyter-widgets/controls",
            "_model_module_version": "1.5.0",
            "_model_name": "HTMLModel",
            "_view_count": null,
            "_view_module": "@jupyter-widgets/controls",
            "_view_module_version": "1.5.0",
            "_view_name": "HTMLView",
            "description": "",
            "description_tooltip": null,
            "layout": "IPY_MODEL_99d888cd7ca44dc5b86048dd5a55aa06",
            "placeholder": "​",
            "style": "IPY_MODEL_1c977c3b0a91417b8db4c336d24b011a",
            "value": "100%"
          }
        }
      }
    }
  },
  "nbformat": 4,
  "nbformat_minor": 0
}
