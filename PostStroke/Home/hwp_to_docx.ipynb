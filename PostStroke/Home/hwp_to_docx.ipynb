{
 "cells": [
  {
   "cell_type": "code",
   "execution_count": 1,
   "id": "9912ddb3",
   "metadata": {},
   "outputs": [
    {
     "name": "stdout",
     "output_type": "stream",
     "text": [
      "Requirement already satisfied: pywin32 in c:\\users\\user\\miniconda3\\lib\\site-packages (310)\n"
     ]
    }
   ],
   "source": [
    "!pip install pywin32"
   ]
  },
  {
   "cell_type": "code",
   "execution_count": 4,
   "id": "6d2c1c67",
   "metadata": {},
   "outputs": [
    {
     "name": "stdout",
     "output_type": "stream",
     "text": [
      "❌ Conversion failed: (-2147352562, 'Invalid number of parameters.', None, None)\n"
     ]
    }
   ],
   "source": [
    "import os\n",
    "import win32com.client\n",
    "\n",
    "def convert_to_docx(hwp_path, output_path=None):\n",
    "    if not os.path.exists(hwp_path):\n",
    "        raise FileNotFoundError(f\"File not found: {hwp_path}\")\n",
    "\n",
    "    if output_path is None:\n",
    "        output_path = os.path.splitext(hwp_path)[0] + \".docx\"\n",
    "\n",
    "    hwp = win32com.client.Dispatch(\"HWPFrame.HwpObject\")\n",
    "    hwp.RegisterModule(\"FilePathCheckDLL\", \"SecurityModule\")\n",
    "\n",
    "    try:\n",
    "        hwp.Open(hwp_path)\n",
    "\n",
    "        # Set up SaveAs action with parameters\n",
    "        hwp.HAction.GetDefault(\"FileSaveAs\", hwp.HParameterSet.HFileSaveAs.HSet)\n",
    "        hwp.HParameterSet.HFileSaveAs.HSet.SetItem(\"FileName\", output_path)\n",
    "        hwp.HParameterSet.HFileSaveAs.HSet.SetItem(\"FormatType\", \"DOCX\")\n",
    "        hwp.HAction.Execute(\"FileSaveAs\", hwp.HParameterSet.HFileSaveAs.HSet)\n",
    "\n",
    "        print(f\"✅ Converted: {hwp_path} → {output_path}\")\n",
    "    except Exception as e:\n",
    "        print(\"❌ Conversion failed:\", e)\n",
    "    finally:\n",
    "        hwp.Quit()\n",
    "\n",
    "# Example usage\n",
    "if __name__ == \"__main__\":\n",
    "    input_file = r\"C:\\Users\\user\\Desktop\\DOCS\\10.hwpx\"\n",
    "    convert_to_docx(input_file)\n"
   ]
  },
  {
   "cell_type": "code",
   "execution_count": 7,
   "id": "a65a67fd",
   "metadata": {},
   "outputs": [
    {
     "name": "stdout",
     "output_type": "stream",
     "text": [
      "❌ Failed to convert to PDF: '<win32com.gen_py.HwpObject 1.0 Type Library.HParameterSet instance at 0x2334977182320>' object has no attribute 'HFileSaveAsPDF'\n"
     ]
    }
   ],
   "source": [
    "import os\n",
    "import win32com.client\n",
    "\n",
    "def convert_hwp_to_pdf(file_path, output_path=None):\n",
    "    if not os.path.exists(file_path):\n",
    "        raise FileNotFoundError(\"File does not exist: \" + file_path)\n",
    "\n",
    "    if output_path is None:\n",
    "        output_path = os.path.splitext(file_path)[0] + \".pdf\"\n",
    "\n",
    "    # Start Hancom Office\n",
    "    hwp = win32com.client.gencache.EnsureDispatch(\"HWPFrame.HwpObject\")\n",
    "    hwp.RegisterModule(\"FilePathCheckDLL\", \"SecurityModule\")\n",
    "\n",
    "    try:\n",
    "        hwp.Open(file_path)\n",
    "\n",
    "        # Set PDF export options\n",
    "        action = hwp.HAction\n",
    "        hset = hwp.HParameterSet.HFileSaveAsPDF.HSet\n",
    "        action.GetDefault(\"FileSaveAsPDF\", hset)\n",
    "        hset.SetItem(\"FileName\", output_path)\n",
    "\n",
    "        # Optional settings (can be adjusted as needed)\n",
    "        hset.SetItem(\"EmbedFont\", True)\n",
    "        hset.SetItem(\"UseWatermark\", False)\n",
    "        hset.SetItem(\"PrintBackground\", True)\n",
    "\n",
    "        # Execute export\n",
    "        action.Execute(\"FileSaveAsPDF\", hset)\n",
    "\n",
    "        print(f\"✅ PDF saved: {output_path}\")\n",
    "\n",
    "    except Exception as e:\n",
    "        print(\"❌ Failed to convert to PDF:\", e)\n",
    "\n",
    "    finally:\n",
    "        hwp.Quit()\n",
    "\n",
    "# Example usage\n",
    "if __name__ == \"__main__\":\n",
    "    input_path = r\"C:\\Users\\user\\Desktop\\DOCS\\10.hwpx\"  # CHANGE this to your file path\n",
    "    convert_hwp_to_pdf(input_path)\n"
   ]
  },
  {
   "cell_type": "code",
   "execution_count": null,
   "id": "68a9fcf7",
   "metadata": {},
   "outputs": [],
   "source": []
  }
 ],
 "metadata": {
  "kernelspec": {
   "display_name": "base",
   "language": "python",
   "name": "python3"
  },
  "language_info": {
   "codemirror_mode": {
    "name": "ipython",
    "version": 3
   },
   "file_extension": ".py",
   "mimetype": "text/x-python",
   "name": "python",
   "nbconvert_exporter": "python",
   "pygments_lexer": "ipython3",
   "version": "3.12.8"
  }
 },
 "nbformat": 4,
 "nbformat_minor": 5
}
